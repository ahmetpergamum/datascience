{
 "cells": [
  {
   "cell_type": "markdown",
   "metadata": {},
   "source": [
    "# MySQL ile Veritabani Tanimlama"
   ]
  },
  {
   "cell_type": "markdown",
   "metadata": {},
   "source": [
    "## Q1\n",
    "[sakila database](https://downloads.mysql.com/docs/sakila-db.tar.gz)'i ```tar.gz``` olarak indiriniz ve extract ediniz."
   ]
  },
  {
   "cell_type": "markdown",
   "metadata": {},
   "source": [
    "---\n",
    "- ```tar.gz``` uzantili dosyayi extract etmek icin ```tar``` komutu asagidaki gibi calistirilir.\n",
    "\n",
    "```tar -xvf sakila-db.tar.gz```\n",
    "\n",
    "```x:extract```\n",
    "```v:verbose```\n",
    "```f:file```\n",
    "\n",
    "- Komut calistirildiktan sonra sakila-db dizini altinda uc adet dosya cikartilir.\n"
   ]
  },
  {
   "cell_type": "markdown",
   "metadata": {},
   "source": [
    "## Q2\n",
    "```sakila-db-schema.sql``` dosyasini kullanarak gerekli tanımları(veri tabanı, tablo, index) yapınız."
   ]
  },
  {
   "cell_type": "markdown",
   "metadata": {},
   "source": [
    "---\n",
    "- sql scripti calistirmak icin:\n",
    "\n",
    "```mysql -u root -p < sakila-db/sakila-schema.sql```\n",
    "\n",
    "- Teyit icin komut satirindan sirasiyla:\n",
    "\n",
    "```mysql -u root -p```\n",
    "\n",
    "```show databases;```\n",
    "\n",
    "```use sakila;```\n",
    "\n",
    "```show tables;```\n",
    "\n",
    "```select * from actor```\n",
    "\n",
    "- Sorguyla sakila db sinin bos oldugu gozlendi.\n",
    "- Workbench ile de teyit edildi.\n",
    "\n",
    "![mysql workbench screenshot cannot rendered](workbench_screenshot_after_sakila_schema.png \"mysql workbench screenshot\")\n"
   ]
  },
  {
   "cell_type": "markdown",
   "metadata": {},
   "source": [
    "## Q3\n",
    "```sakila-data.sql``` dosyasini kullanarak verileri yükleyiniz ve sonrasında MySQL Workbench aracılığıyla schema refresh yaparak şema ve tablolarınızın yüklendiğini teyit ediniz."
   ]
  },
  {
   "cell_type": "markdown",
   "metadata": {},
   "source": [
    "---\n",
    "- sql scripti calistirmak icin:\n",
    "\n",
    "```mysql -u root -p < sakila-db/sakila-data.sql```\n",
    "\n",
    "- Teyit icin komut satirindan sirasiyla:\n",
    "\n",
    "```mysql -u root -p```\n",
    "\n",
    "```show databases;```\n",
    "\n",
    "```use sakila;```\n",
    "\n",
    "```show tables;```\n",
    "\n",
    "```select * from actor```\n",
    "\n",
    "- Sorguyla sakila actor tablosunun dolu oldugu gozlendi.\n",
    "- Workbench ile de teyit edildi.\n",
    "![mysql workbench screenshot cannot rendered](workbench_screenshot_after_sakila_data.png \"mysql workbench screenshot\")\n",
    "\n"
   ]
  }
 ],
 "metadata": {
  "kernelspec": {
   "display_name": "Python 3",
   "language": "python",
   "name": "python3"
  },
  "language_info": {
   "codemirror_mode": {
    "name": "ipython",
    "version": 3
   },
   "file_extension": ".py",
   "mimetype": "text/x-python",
   "name": "python",
   "nbconvert_exporter": "python",
   "pygments_lexer": "ipython3",
   "version": "3.7.6"
  }
 },
 "nbformat": 4,
 "nbformat_minor": 4
}
