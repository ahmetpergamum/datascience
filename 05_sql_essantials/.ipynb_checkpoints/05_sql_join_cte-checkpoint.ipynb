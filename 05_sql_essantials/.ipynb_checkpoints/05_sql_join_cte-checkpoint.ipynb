{
 "cells": [
  {
   "cell_type": "markdown",
   "metadata": {},
   "source": [
    "# SQL JOIN, CTE ve CASE"
   ]
  },
  {
   "cell_type": "markdown",
   "metadata": {},
   "source": [
    "## Q\n",
    "\n",
    "Müşteri sayısı: 20’dan fazla olan ülkeler büyük ülke,\n",
    "10 ile 20 arası orta,\n",
    "10’dan az olanlar ise küçük ülke\n",
    "olacak olursa kaç tane büyük,orta, küçük ülke vardır?\n",
    "\n",
    "İpucu: CTE, Case, group by ifadelerini birlikte kullanabilirsiniz."
   ]
  },
  {
   "cell_type": "markdown",
   "metadata": {},
   "source": [
    "---\n",
    "```SELECT \n",
    "\tcountry as ulke,\n",
    "\tCOUNT(*) musteri_sayisi,\n",
    "CASE WHEN COUNT(*) > 20 THEN 'buyuk ulke'\n",
    "\tWHEN COUNT(*) < 10 THEN 'kucuk ulke'\n",
    "\tWHEN COUNT(*) >= 10 AND COUNT(*) <= 20 THEN 'orta ulke'\n",
    "END AS buyukluk\n",
    "FROM customers\n",
    "GROUP BY country\n",
    "ORDER BY musteri_sayisi;```"
   ]
  }
 ],
 "metadata": {
  "kernelspec": {
   "display_name": "Python 3",
   "language": "python",
   "name": "python3"
  },
  "language_info": {
   "codemirror_mode": {
    "name": "ipython",
    "version": 3
   },
   "file_extension": ".py",
   "mimetype": "text/x-python",
   "name": "python",
   "nbconvert_exporter": "python",
   "pygments_lexer": "ipython3",
   "version": "3.7.6"
  }
 },
 "nbformat": 4,
 "nbformat_minor": 4
}
