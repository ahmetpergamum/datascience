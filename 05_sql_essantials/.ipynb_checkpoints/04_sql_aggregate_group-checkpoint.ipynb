{
 "cells": [
  {
   "cell_type": "markdown",
   "metadata": {},
   "source": [
    "# Kümeleme ve Gruplama"
   ]
  },
  {
   "cell_type": "markdown",
   "metadata": {},
   "source": [
    "## Q1\n",
    "Maximum kredi limiti nedir? Hangi müşteriye ait?"
   ]
  },
  {
   "cell_type": "markdown",
   "metadata": {},
   "source": [
    "---\n",
    "\n",
    "```SELECT\n",
    "\tcustomerNumber,\n",
    "\tcustomerName,\n",
    "MAX(creditLimit) as max_kredi_limiti\n",
    "FROM customers;```"
   ]
  },
  {
   "cell_type": "markdown",
   "metadata": {},
   "source": [
    "- Maksimum kredi 227600 ve 103 musteri nu.li Atelier graphique musterisine aittir."
   ]
  },
  {
   "cell_type": "markdown",
   "metadata": {},
   "source": [
    "## Q2\n",
    "Her ülkeden kaç müşteri var?"
   ]
  },
  {
   "cell_type": "markdown",
   "metadata": {},
   "source": [
    "---\n",
    "```SELECT\n",
    "\tcountry as ulke,\n",
    "\tCOUNT(*) as ulke_musteri_sayisi\n",
    "FROM customers\n",
    "GROUP BY country;```"
   ]
  },
  {
   "cell_type": "markdown",
   "metadata": {},
   "source": [
    "## Q3\n",
    "En az sipariş veren müşteri numarası ve sipariş sayısı nedir (orders tablosundan)?"
   ]
  },
  {
   "cell_type": "markdown",
   "metadata": {},
   "source": [
    "---\n",
    "```SELECT\n",
    "\tcustomerNumber,\n",
    "    COUNT(*) as siparis_sayisi\n",
    "FROM orders\n",
    "GROUP BY customerNumber\n",
    "ORDER BY siparis_sayisi;```"
   ]
  },
  {
   "cell_type": "markdown",
   "metadata": {},
   "source": [
    "- 415 nu.li musteri en az siparisi vermistir."
   ]
  }
 ],
 "metadata": {
  "kernelspec": {
   "display_name": "Python 3",
   "language": "python",
   "name": "python3"
  },
  "language_info": {
   "codemirror_mode": {
    "name": "ipython",
    "version": 3
   },
   "file_extension": ".py",
   "mimetype": "text/x-python",
   "name": "python",
   "nbconvert_exporter": "python",
   "pygments_lexer": "ipython3",
   "version": "3.7.6"
  }
 },
 "nbformat": 4,
 "nbformat_minor": 4
}
