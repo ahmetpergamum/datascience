{
 "cells": [
  {
   "cell_type": "markdown",
   "metadata": {},
   "source": [
    "# Veri tabanlarına giriş"
   ]
  },
  {
   "cell_type": "markdown",
   "metadata": {},
   "source": [
    "## Q1\n",
    "Veri tabanları ne işe yarar? SQL'i hangi amaçlarla kullanırız?"
   ]
  },
  {
   "cell_type": "markdown",
   "metadata": {},
   "source": [
    "---\n",
    "- Veri tabanlari veriyi olusturmak, guncellemek ve saklamak amaciyla kullanilir.\n",
    "- SQL veri tabanlarinda kayit olusturmak, guncellemek, silmek ve sorgulamak amaciyla kullanilir."
   ]
  },
  {
   "cell_type": "markdown",
   "metadata": {},
   "source": [
    "## Q2\n",
    "Derste değişik tablo türlerinden bahsettik (raw tables/processed tables/roll-up tables). Bir veri bilimci olarak, hangi tablonun hangi tür veriler ya da uygulamalar için uygun olduğunu kestirebiliyor musunuz? Herbir tür için, uygun olduğunu düşündüğünüz bir veri yapısı belirleyin."
   ]
  },
  {
   "cell_type": "markdown",
   "metadata": {},
   "source": [
    "---\n",
    "|Tablo turu       | Uygun oldugu veri   | Uygun oldugu uygulama   | Uygun veri yapisi  |\n",
    "|-----------------|:-------------------:|-------------------------|-------------------:|\n",
    "|Raw tables       | zaman verisi        | loglama uygulamalari    | yigin   |\n",
    "|Processed tables | kullanici verisi    | kullanici uygulamalari  | sozluk  | \n",
    "|Roll-up tables   | kategorik veriler   | envanter uygulamalari   | sozluk  | "
   ]
  }
 ],
 "metadata": {
  "kernelspec": {
   "display_name": "Python 3",
   "language": "python",
   "name": "python3"
  },
  "language_info": {
   "codemirror_mode": {
    "name": "ipython",
    "version": 3
   },
   "file_extension": ".py",
   "mimetype": "text/x-python",
   "name": "python",
   "nbconvert_exporter": "python",
   "pygments_lexer": "ipython3",
   "version": "3.7.6"
  }
 },
 "nbformat": 4,
 "nbformat_minor": 4
}
