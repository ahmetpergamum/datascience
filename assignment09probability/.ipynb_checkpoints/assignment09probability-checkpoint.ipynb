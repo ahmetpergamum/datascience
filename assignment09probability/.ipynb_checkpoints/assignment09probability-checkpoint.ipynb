{
 "cells": [
  {
   "cell_type": "markdown",
   "metadata": {},
   "source": [
    "# Olasılık"
   ]
  },
  {
   "cell_type": "markdown",
   "metadata": {},
   "source": [
    "### Q1\n",
    "A şirketinin sattığı bilgisayarın bazılarının bozuk olduğu tespit edilmiştir. Bilgisayar üreten 3 şirket (A, B ve C) olduğu varsayımı altında, bu şirketlerin bilgisayar üretim miktarı ve bozuk üretim olasılıkları şu şekildedir:\n",
    "\n",
    "Toplam Üretim Yüzdesi :\n",
    "\n",
    "    P(A)=0.40 ,  P(B)=0.40 ,  P(C)=0.20\n",
    "\n",
    "Hatalı Üretim Olasılığı\n",
    "\n",
    "    P(D|A)=0.015 ,  P(D|B)=0.020 ,  P(D|C)=0.010\n",
    "\n",
    "Rastgele seçilen bozuk bir bilgisayarın B şirketi tarafından üretilme olasılığı nedir?"
   ]
  },
  {
   "cell_type": "markdown",
   "metadata": {},
   "source": [
    "### Solution\n",
    "Bizden istenen bozuk oldugu bilinen bir bilgisayarin B sirketi tarafindan uretilmis olma olasiligi:\n",
    "    \n",
    "    P(B|D) = ?\n",
    "    \n",
    "    P(B|D) = P(D|B) P(B) / P(D)\n",
    "\n",
    "\n",
    "Oncelikle bulunmasi gereken deger:\n",
    "\n",
    "    P(D) : toplam hatali uretim olasiligi\n",
    "    \n",
    "    P(D) = (P(A) * P(D|A)) + (P(B) * P(D|B)) + (P(C) * P(D|C))"
   ]
  },
  {
   "cell_type": "code",
   "execution_count": 10,
   "metadata": {},
   "outputs": [
    {
     "name": "stdout",
     "output_type": "stream",
     "text": [
      "Bozuk bir bilgisayarin B tarafindan uretilmis olma ihtimali: \n",
      "% 50.0\n"
     ]
    }
   ],
   "source": [
    "# Given probability values:\n",
    "pA = 0.4\n",
    "pB = 0.4\n",
    "pC = 0.2\n",
    "pDA = 0.015\n",
    "pDB = 0.02\n",
    "pDC = 0.01\n",
    "\n",
    "# Total probabilty of a deficient computer\n",
    "total_prob_D = (pA * pDA) + (pB * pDB) + (pC * pDC)\n",
    "\n",
    "# probability of B of a given D:  \n",
    "# P(B|D) = P(D|B) P(B) / P(D)\n",
    "\n",
    "print('Bozuk bir bilgisayarin B tarafindan uretilmis olma ihtimali: \\n%',\n",
    "      pDB * pB / total_prob_D * 100 )\n",
    "\n"
   ]
  }
 ],
 "metadata": {
  "kernelspec": {
   "display_name": "Python 3",
   "language": "python",
   "name": "python3"
  },
  "language_info": {
   "codemirror_mode": {
    "name": "ipython",
    "version": 3
   },
   "file_extension": ".py",
   "mimetype": "text/x-python",
   "name": "python",
   "nbconvert_exporter": "python",
   "pygments_lexer": "ipython3",
   "version": "3.7.6"
  }
 },
 "nbformat": 4,
 "nbformat_minor": 4
}
