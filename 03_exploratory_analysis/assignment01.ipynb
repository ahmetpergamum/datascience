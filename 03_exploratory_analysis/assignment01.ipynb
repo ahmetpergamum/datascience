{
 "cells": [
  {
   "cell_type": "markdown",
   "metadata": {},
   "source": [
    "# Keşifsel Veri Analizi"
   ]
  },
  {
   "cell_type": "markdown",
   "metadata": {},
   "source": [
    "## Q1\n",
    "Keşifsel Veri Analizinin amacı nedir?\n",
    "\n",
    "- Veri hakkinda anlayis kazanmak ve veriyi kesfetmek, \n",
    "- Verinin islenmeye hazir ve temiz olmasi icin kalitesini kontrol etmek ve temizlemek,\n",
    "- Veriden, modellemede kullanacagimiz hipotez ve varsayimlari formule edebilecegimiz belli ipuclari/ozellikler elde etmek, \n",
    "- Veride bulunan ve modelimizi etkileyebilecek aykiri degerleri tespit etmek"
   ]
  },
  {
   "cell_type": "markdown",
   "metadata": {},
   "source": [
    "## Q2\n",
    "Bir e-ticaret şirketinin ürünlerine ait müşteri yorumlarını içeren bir veri kümesi üzerinde çalıştığınızı farz edin. Şirketin web sitesi aracılığıyla toplanan müşteri yorumları içeriğinin olumlu ya da olumsuz olmasına göre 1 ila 5 arasında derecelendirilmiştir.\n",
    "\n",
    "a. Bu ham veride ne tür problemlerle karşılaşmayı beklersiniz?\n",
    "\n",
    "- Eksik verilerle karsilasilabilir. Bazi musteri yorumlari olumlu ya da olumsuz kategorize edilememis olabilir.\n",
    "\n",
    "- Integer ya da float tipinde tutlabilecek veriler string olarak tutuluyor olabilir.\n",
    "\n",
    "- Null degerler bulunabilir.\n",
    "\n",
    "\n",
    "b. Göreviniz müşterilerin yorumlarının olumlu yada olumsuz olduğunu ortaya çıkaran özellikleri belirlemek olsaydı nasıl bir yaklaşımda bulunur ve bunun için hangi metodları kullanırdınız?\n",
    "\n",
    "- Musteri yorumlarinin olumlu-olumsuz derecelendirmek icin dogal dil isleme (NLP) kullanirdim.\n",
    "\n",
    "- Musteri yorumlarina gore veri setini gruplandirir ve incelerdim.\n",
    "\n",
    "\n",
    "c. Ham veriden çıkarılabilecek yararlı özellikler neler olabilir? Bu verilere nasıl ulaşabilirsiniz ve bunların faydalı olup olmayacağını nasıl anlayabilirsiniz?\n",
    "\n",
    "- Urunleri aldigi yorum sayisina gore, yorum puanina gore, en cok satana gore ve bunlari birlikte kullanarak siralayabilirim.\n",
    "\n",
    "- Bu siralamalara gore hangi urunlerin neden basarili-basrisiz oldugunu urunlerin de ozelliklerine gore tahmin edebilirim. Mesela basarisiz urunler hakkindaki aciklamalar yetersiz ya da yanlis bilgi iceriyor olabilir."
   ]
  }
 ],
 "metadata": {
  "kernelspec": {
   "display_name": "Python 3",
   "language": "python",
   "name": "python3"
  },
  "language_info": {
   "codemirror_mode": {
    "name": "ipython",
    "version": 3
   },
   "file_extension": ".py",
   "mimetype": "text/x-python",
   "name": "python",
   "nbconvert_exporter": "python",
   "pygments_lexer": "ipython3",
   "version": "3.7.6"
  }
 },
 "nbformat": 4,
 "nbformat_minor": 4
}
