{
 "cells": [
  {
   "cell_type": "markdown",
   "metadata": {},
   "source": [
    "# Keşifsel Veri Analizi\n",
    "\n",
    "## Veri Temizleme"
   ]
  },
  {
   "cell_type": "markdown",
   "metadata": {},
   "source": [
    "Bu ödevde ABD Eğitim Sistemi'ne ait bir takım verileri inceleyeceksiniz. Öncelikle veri kümesini Kaggle'dan indirin. Burada eğitim sistemine ait bir çok veri kümesi bulunmaktadır. Bu ödevde 'states_all.csv' isimli veri kümesini kullanacaksınız.\n",
    "Veri seti: https://www.kaggle.com/noriuk/us-education-datasets-unification-project/home\n",
    "\n",
    "### Q1\n",
    "Veri kümesinde yer alan değişkenlerinin tiplerini ve her bir değişkenin eksik (null) değer oranını bulun."
   ]
  },
  {
   "cell_type": "code",
   "execution_count": 5,
   "metadata": {},
   "outputs": [
    {
     "name": "stdout",
     "output_type": "stream",
     "text": [
      "\n",
      "Her bir degiskenin tipi:\n",
      "=======================================\n",
      "<class 'pandas.core.frame.DataFrame'>\n",
      "RangeIndex: 1918 entries, 0 to 1917\n",
      "Data columns (total 25 columns):\n",
      " #   Column                        Non-Null Count  Dtype  \n",
      "---  ------                        --------------  -----  \n",
      " 0   PRIMARY_KEY                   1918 non-null   object \n",
      " 1   STATE                         1918 non-null   object \n",
      " 2   YEAR                          1918 non-null   int64  \n",
      " 3   ENROLL                        1224 non-null   float64\n",
      " 4   TOTAL_REVENUE                 1275 non-null   float64\n",
      " 5   FEDERAL_REVENUE               1275 non-null   float64\n",
      " 6   STATE_REVENUE                 1275 non-null   float64\n",
      " 7   LOCAL_REVENUE                 1275 non-null   float64\n",
      " 8   TOTAL_EXPENDITURE             1275 non-null   float64\n",
      " 9   INSTRUCTION_EXPENDITURE       1275 non-null   float64\n",
      " 10  SUPPORT_SERVICES_EXPENDITURE  1275 non-null   float64\n",
      " 11  OTHER_EXPENDITURE             1224 non-null   float64\n",
      " 12  CAPITAL_OUTLAY_EXPENDITURE    1275 non-null   float64\n",
      " 13  GRADES_PK_G                   1542 non-null   float64\n",
      " 14  GRADES_KG_G                   1632 non-null   float64\n",
      " 15  GRADES_4_G                    1632 non-null   float64\n",
      " 16  GRADES_8_G                    1632 non-null   float64\n",
      " 17  GRADES_12_G                   1632 non-null   float64\n",
      " 18  GRADES_1_8_G                  1020 non-null   float64\n",
      " 19  GRADES_9_12_G                 1071 non-null   float64\n",
      " 20  GRADES_ALL_G                  1632 non-null   float64\n",
      " 21  AVG_MATH_4_SCORE              535 non-null    float64\n",
      " 22  AVG_MATH_8_SCORE              531 non-null    float64\n",
      " 23  AVG_READING_4_SCORE           532 non-null    float64\n",
      " 24  AVG_READING_8_SCORE           497 non-null    float64\n",
      "dtypes: float64(22), int64(1), object(2)\n",
      "memory usage: 374.7+ KB\n",
      "\n",
      "Her bir degiskenin null deger oranlari  (%):\n",
      "=======================================\n"
     ]
    },
    {
     "data": {
      "text/plain": [
       "PRIMARY_KEY                      0.000000\n",
       "STATE                            0.000000\n",
       "YEAR                             0.000000\n",
       "ENROLL                          36.183525\n",
       "TOTAL_REVENUE                   33.524505\n",
       "FEDERAL_REVENUE                 33.524505\n",
       "STATE_REVENUE                   33.524505\n",
       "LOCAL_REVENUE                   33.524505\n",
       "TOTAL_EXPENDITURE               33.524505\n",
       "INSTRUCTION_EXPENDITURE         33.524505\n",
       "SUPPORT_SERVICES_EXPENDITURE    33.524505\n",
       "OTHER_EXPENDITURE               36.183525\n",
       "CAPITAL_OUTLAY_EXPENDITURE      33.524505\n",
       "GRADES_PK_G                     19.603754\n",
       "GRADES_KG_G                     14.911366\n",
       "GRADES_4_G                      14.911366\n",
       "GRADES_8_G                      14.911366\n",
       "GRADES_12_G                     14.911366\n",
       "GRADES_1_8_G                    46.819604\n",
       "GRADES_9_12_G                   44.160584\n",
       "GRADES_ALL_G                    14.911366\n",
       "AVG_MATH_4_SCORE                72.106361\n",
       "AVG_MATH_8_SCORE                72.314911\n",
       "AVG_READING_4_SCORE             72.262774\n",
       "AVG_READING_8_SCORE             74.087591\n",
       "dtype: float64"
      ]
     },
     "execution_count": 5,
     "metadata": {},
     "output_type": "execute_result"
    }
   ],
   "source": [
    "import pandas as pd\n",
    "import numpy as np\n",
    "import warnings\n",
    "import matplotlib.pyplot as plt\n",
    "\n",
    "warnings.filterwarnings('ignore')\n",
    "\n",
    "df = pd.read_csv('states_all.csv')\n",
    "\n",
    "dfbackup = df.copy()\n",
    "\n",
    "\n",
    "print('\\nHer bir degiskenin tipi:')\n",
    "print('=======================================')\n",
    "df.info()\n",
    "\n",
    "print('\\nHer bir degiskenin null deger oranlari  (%):')\n",
    "print('=======================================')\n",
    "\n",
    "# null degerleri isnull() metodu ile True/False olarak listeleyebilirim\n",
    "# deger null oldugunda True doneceginden, isnull() metodundan donen nesneye \n",
    "# mean() metodunu uyguladigimizda null degerlerin ortlamasini verecektir.\n",
    "df.isnull().mean()*100"
   ]
  },
  {
   "cell_type": "code",
   "execution_count": 55,
   "metadata": {},
   "outputs": [
    {
     "data": {
      "text/plain": [
       "PRIMARY_KEY                     0.000000\n",
       "STATE                           0.000000\n",
       "YEAR                            0.000000\n",
       "ENROLL                          1.000000\n",
       "TOTAL_REVENUE                   1.000000\n",
       "FEDERAL_REVENUE                 1.000000\n",
       "STATE_REVENUE                   1.000000\n",
       "LOCAL_REVENUE                   1.000000\n",
       "TOTAL_EXPENDITURE               1.000000\n",
       "INSTRUCTION_EXPENDITURE         1.000000\n",
       "SUPPORT_SERVICES_EXPENDITURE    1.000000\n",
       "OTHER_EXPENDITURE               1.000000\n",
       "CAPITAL_OUTLAY_EXPENDITURE      1.000000\n",
       "GRADES_PK_G                     0.235294\n",
       "GRADES_KG_G                     0.000000\n",
       "GRADES_4_G                      0.000000\n",
       "GRADES_8_G                      0.000000\n",
       "GRADES_12_G                     0.000000\n",
       "GRADES_1_8_G                    1.000000\n",
       "GRADES_9_12_G                   1.000000\n",
       "GRADES_ALL_G                    0.000000\n",
       "AVG_MATH_4_SCORE                1.000000\n",
       "AVG_MATH_8_SCORE                1.000000\n",
       "AVG_READING_4_SCORE             1.000000\n",
       "AVG_READING_8_SCORE             1.000000\n",
       "dtype: float64"
      ]
     },
     "execution_count": 55,
     "metadata": {},
     "output_type": "execute_result"
    }
   ],
   "source": [
    "df[df['YEAR']==1989].isnull().mean()"
   ]
  },
  {
   "cell_type": "markdown",
   "metadata": {},
   "source": [
    "### Q2\n",
    "Verimizde yıl (year) sütunu olduğunu farketmişsinizdir. Şimdilik yıl verisini unutun ve her bir gözlemin aynı yıl içerisinde yapıldığını farz edin. Her bir değişken için eksik değerleri nasıl doldurabileceğinizi düşünün. Eksik değerleri bir değerle doldurmak hangi değişkenler için anlamlı, hangileri için anlamsızdır?\n",
    "\n",
    "- Asagidaki degiskenlerin null deger ortalamasi %50'nin altindadir, bu nedenle eksik degerler, degeri null olamayan verilerin soz konusu eyalet icindeki ortalamasi ile doldurulabilir.\n",
    "ENROLL, TOTAL_REVENUE, FEDERAL_REVENUE, STATE_REVENUE, LOCAL_REVENUE, TOTAL_EXPENDITURE, INSTRUCTION_EXPENDITURE, SUPPORT_SERVICES_EXPENDITURE, OTHER_EXPENDITURE, CAPITAL_OUTLAY_EXPENDITURE, GRADES_PK_G, GRADES_KG_G, GRADES_4_G, GRADES_8_G, GRADES_12_G, GRADES_1_8_G, GRADES_9_12_G, GRADES_ALL_G.\n",
    "\n",
    "- Asagidaki degiskenlerin null deger oratalamasi %50'nin ustundedir (~%70), bu nedenle eksik degerler, degeri null olamayan verilerin soz konusu eyalet icindeki ortalamasi ile doldurulmasi bizi yanlis yonlendirecektir.\n",
    "AVG_MATH_4_SCORE, AVG_MATH_8_SCORE, AVG_READING_4_SCORE, AVG_READING_8_SCORE."
   ]
  },
  {
   "cell_type": "markdown",
   "metadata": {},
   "source": [
    "### Q3\n",
    "Şimdi zaman faktörünü dikkate alma zamanı! 2. sorudaki cevabınızı tekrar gözden geçirin ve eksik verileri o yıl içerisinde gözlemlenen değerlere dayanarak doldurun. Örneğin, bir değeri ortalama değer ile doldurmak isterseniz, o yılın ortalamasını hesaplayın."
   ]
  },
  {
   "cell_type": "markdown",
   "metadata": {},
   "source": [
    "#### State isimleri\n",
    "\n",
    "Iki kelimeli state isimleri iki defa gectiginden ortalma hesabimizi mean() metodu yerine manuel yapmak daha faydali olacaktir. \n",
    "\n",
    "ABD eyalet sayisi: 51\n",
    "\n",
    "Datasetimizdeki eyalet sayisi: 62\n",
    "\n",
    "Mukerrer multiple word eyalet sayisi: 11"
   ]
  },
  {
   "cell_type": "markdown",
   "metadata": {},
   "source": [
    "#### Bosluklu state isimliler ayri dataframe"
   ]
  },
  {
   "cell_type": "code",
   "execution_count": 62,
   "metadata": {},
   "outputs": [],
   "source": [
    "# make a list of duplicates that have spaces in its state name\n",
    "list_of_dups = []\n",
    "for i in np.unique(df[['STATE']]):\n",
    "    if (' ' in i) == True:\n",
    "        list_of_dups.append(i)\n",
    "#print(list_of_dups)\n",
    "\n",
    "# concat the duplicated(with space char in state name) states to form a new data frame dd\n",
    "dd = pd.DataFrame()\n",
    "for i in list_of_dups:\n",
    "    dd = pd.concat([dd,df.loc[df['STATE']== i]])\n",
    "\n",
    "\n",
    "# replace spaces with '_' in STATE and PKEY columns\n",
    "for state in list_of_dups:\n",
    "    #print(i.replace(' ','_'))\n",
    "    dd = dd.replace(state , state.replace(' ','_'))\n",
    "    for year in np.unique(dd['YEAR']):\n",
    "        pkey = str(year)+'_'+state\n",
    "        dd = dd.replace(pkey , pkey.replace(' ','_'))\n",
    "       \n",
    "\n",
    "dd = dd.set_index('PRIMARY_KEY')\n",
    "dd = dd.sort_index()\n"
   ]
  },
  {
   "cell_type": "code",
   "execution_count": null,
   "metadata": {},
   "outputs": [],
   "source": [
    "# see if there is fully null droppable column\n",
    "dd.isnull().mean() # there are many"
   ]
  },
  {
   "cell_type": "markdown",
   "metadata": {},
   "source": [
    "#### Duplicate satirlar orijinal dataframe den drop edilmeli"
   ]
  },
  {
   "cell_type": "code",
   "execution_count": 60,
   "metadata": {},
   "outputs": [],
   "source": [
    "# make list of duplicate primary keys which contains spaces\n",
    "list_of_dups_pkey = []\n",
    "for i in np.unique(df[['PRIMARY_KEY']]):\n",
    "    if (' ' in i) == True:\n",
    "        list_of_dups_pkey.append(i)\n",
    "\n",
    "# set index to the primary_key\n",
    "dfp = df.set_index('PRIMARY_KEY')\n",
    "for pkey in list_of_dups_pkey:\n",
    "    dfp.drop(pkey, inplace = True)\n",
    "\n",
    "# sort by primary key index\n",
    "dfp=dfp.sort_index()\n"
   ]
  },
  {
   "cell_type": "code",
   "execution_count": null,
   "metadata": {},
   "outputs": [],
   "source": [
    "# see if there is fully null droppable column\n",
    "dfp.isnull().mean() # no there is not"
   ]
  },
  {
   "cell_type": "markdown",
   "metadata": {},
   "source": [
    "#### Olusturulan iki yeni dataframe merge edilmeli"
   ]
  },
  {
   "cell_type": "code",
   "execution_count": 63,
   "metadata": {},
   "outputs": [],
   "source": [
    "# make a list of drop list for dd dataframe which has null columns entirely\n",
    "cnames = list(df.columns)\n",
    "droplist=[]\n",
    "# start from the ENROLL column\n",
    "for i in cnames[3:]:\n",
    "    #print(i,dd[i].isnull().mean())\n",
    "    # check if the column is null\n",
    "    if dd[i].isnull().mean() ==1 :\n",
    "       droplist.append(i) \n",
    "\n",
    "dd.drop(columns=droplist, inplace = True)\n",
    "# to merge using union of keys use 'outer' keyword \n",
    "dm = pd.merge(dfp, dd,'outer', on=['PRIMARY_KEY','STATE','YEAR'])\n"
   ]
  },
  {
   "cell_type": "code",
   "execution_count": null,
   "metadata": {},
   "outputs": [],
   "source": [
    "dm.groupby('STATE').mean()"
   ]
  },
  {
   "cell_type": "markdown",
   "metadata": {},
   "source": [
    "#### Eksik degerleri artik doldurabiliriz."
   ]
  },
  {
   "cell_type": "code",
   "execution_count": 11,
   "metadata": {},
   "outputs": [],
   "source": [
    "# fill the null values with means of the columns\n",
    "for column in dm.columns:\n",
    "    # check if it is suitable to calculate its mean; float \n",
    "    if dm[column].dtype == 'float64' :\n",
    "        dm[column].fillna(dm[column].mean(), inplace=True)\n"
   ]
  },
  {
   "cell_type": "code",
   "execution_count": null,
   "metadata": {},
   "outputs": [],
   "source": [
    "dm.isnull().mean()"
   ]
  },
  {
   "cell_type": "markdown",
   "metadata": {},
   "source": [
    "### Q4\n",
    "\n",
    "Bu sefer, eksik değerleri enterpolasyon yaparak doldurun."
   ]
  },
  {
   "cell_type": "markdown",
   "metadata": {},
   "source": [
    "#### Lineer enterpolasyon ile dolduralim"
   ]
  },
  {
   "cell_type": "code",
   "execution_count": 35,
   "metadata": {},
   "outputs": [],
   "source": [
    "# fill the null values with means of the columns\n",
    "for column in dm.columns:\n",
    "    # check if it is suitable to calculate its mean; float \n",
    "    if dm[column].dtype == 'float64' :\n",
    "        dm[column].interpolate(method='linear', limit_direction='forward', inplace=True)\n",
    "        #dm[column].fillna(dm[column].mean(), inplace=True)"
   ]
  },
  {
   "cell_type": "code",
   "execution_count": 25,
   "metadata": {},
   "outputs": [
    {
     "data": {
      "text/plain": [
       "STATE                           0.000000\n",
       "YEAR                            0.000000\n",
       "ENROLL                          0.178309\n",
       "TOTAL_REVENUE                   0.147059\n",
       "FEDERAL_REVENUE                 0.147059\n",
       "STATE_REVENUE                   0.147059\n",
       "LOCAL_REVENUE                   0.147059\n",
       "TOTAL_EXPENDITURE               0.147059\n",
       "INSTRUCTION_EXPENDITURE         0.147059\n",
       "SUPPORT_SERVICES_EXPENDITURE    0.147059\n",
       "OTHER_EXPENDITURE               0.178309\n",
       "CAPITAL_OUTLAY_EXPENDITURE      0.147059\n",
       "GRADES_PK_G_x                   0.003064\n",
       "GRADES_KG_G_x                   0.000000\n",
       "GRADES_4_G_x                    0.000000\n",
       "GRADES_8_G_x                    0.000000\n",
       "GRADES_12_G_x                   0.000000\n",
       "GRADES_1_8_G_x                  0.303309\n",
       "GRADES_9_12_G_x                 0.303309\n",
       "GRADES_ALL_G_x                  0.000000\n",
       "AVG_MATH_4_SCORE                0.147059\n",
       "AVG_MATH_8_SCORE                0.147059\n",
       "AVG_READING_4_SCORE             0.147059\n",
       "AVG_READING_8_SCORE             0.147672\n",
       "GRADES_PK_G_y                   0.151961\n",
       "GRADES_KG_G_y                   0.151961\n",
       "GRADES_4_G_y                    0.151961\n",
       "GRADES_8_G_y                    0.151961\n",
       "GRADES_12_G_y                   0.151961\n",
       "GRADES_1_8_G_y                  0.308211\n",
       "GRADES_9_12_G_y                 0.308211\n",
       "GRADES_ALL_G_y                  0.151961\n",
       "dtype: float64"
      ]
     },
     "execution_count": 25,
     "metadata": {},
     "output_type": "execute_result"
    }
   ],
   "source": [
    "dm.isnull().mean()"
   ]
  },
  {
   "cell_type": "markdown",
   "metadata": {},
   "source": [
    "#### Time enterpolasyon yontemi kullanarak yapalim"
   ]
  },
  {
   "cell_type": "code",
   "execution_count": 42,
   "metadata": {},
   "outputs": [],
   "source": [
    "# index must be datetime index\n",
    "dftime = pd.read_csv('states_all.csv', index_col='YEAR', parse_dates=True)"
   ]
  },
  {
   "cell_type": "code",
   "execution_count": 48,
   "metadata": {},
   "outputs": [],
   "source": [
    "# time interpolation\n",
    "for column in dftime.columns:\n",
    "    # check if it is suitable to calculate its mean; float \n",
    "    if dftime[column].dtype == 'float64' :\n",
    "        dftime[column].interpolate(method='time', inplace=True)"
   ]
  },
  {
   "cell_type": "code",
   "execution_count": 49,
   "metadata": {},
   "outputs": [
    {
     "data": {
      "text/plain": [
       "PRIMARY_KEY                     0.000000\n",
       "STATE                           0.000000\n",
       "ENROLL                          0.026590\n",
       "TOTAL_REVENUE                   0.000000\n",
       "FEDERAL_REVENUE                 0.000000\n",
       "STATE_REVENUE                   0.000000\n",
       "LOCAL_REVENUE                   0.000000\n",
       "TOTAL_EXPENDITURE               0.000000\n",
       "INSTRUCTION_EXPENDITURE         0.000000\n",
       "SUPPORT_SERVICES_EXPENDITURE    0.000000\n",
       "OTHER_EXPENDITURE               0.026590\n",
       "CAPITAL_OUTLAY_EXPENDITURE      0.000000\n",
       "GRADES_PK_G                     0.000000\n",
       "GRADES_KG_G                     0.000000\n",
       "GRADES_4_G                      0.000000\n",
       "GRADES_8_G                      0.000000\n",
       "GRADES_12_G                     0.000000\n",
       "GRADES_1_8_G                    0.132951\n",
       "GRADES_9_12_G                   0.132951\n",
       "GRADES_ALL_G                    0.000000\n",
       "AVG_MATH_4_SCORE                0.000000\n",
       "AVG_MATH_8_SCORE                0.000000\n",
       "AVG_READING_4_SCORE             0.000000\n",
       "AVG_READING_8_SCORE             0.000521\n",
       "dtype: float64"
      ]
     },
     "execution_count": 49,
     "metadata": {},
     "output_type": "execute_result"
    }
   ],
   "source": [
    "dftime.isnull().mean()"
   ]
  },
  {
   "cell_type": "markdown",
   "metadata": {},
   "source": [
    "### Q5\n",
    "\n",
    "İkinci, üçüncü ve dördüncü sorulardaki cevaplarınızı karşılaştırın. Anlamlı bir fark görebiliyor musunuz?"
   ]
  },
  {
   "cell_type": "markdown",
   "metadata": {},
   "source": [
    "### Solution"
   ]
  },
  {
   "cell_type": "markdown",
   "metadata": {},
   "source": [
    "- ***Ortalama*** alarak doldurmak mantikli degil cunku tum eyaletlerin ortalamasini alarak dolduruyoruz. Yil bazinda veriyi gruplasak dahi eksik olan veri zaten yil bazinda, mesela 1989-1992 yillari arasindaki cogu sutun tamamen null, dolayisiyla ortalamasini yillar bazinda alamiyoruz. Genel ortalama alirsak da yanlis bir yaklasim oluyor.\n",
    "\n",
    "- ***Lineer enterpolasyon*** onceki ve sonraki degerlere bakarak doldurdugu icin zamana bagli degisen bir veri icin daha uygun oldugu gozukuyor. Ancak burada da onceki ve sonraki verilerin de null oldugu durumlarda eksiklikler doldurulamiyor.\n",
    "\n",
    "- ***Zaman enterpolasyon*** kullanilarak lineer yonteme gore daha fazla eksik veri doldurulabiliyor. Bu yontemde dataframe import edilirken datetime verisi ile indexlenirse zaman enterpolasyon yontemi "
   ]
  },
  {
   "cell_type": "markdown",
   "metadata": {},
   "source": [
    "### Notlar\n",
    "\n",
    "#### Degiskenlere gore tamamen null degerlerden olusmayan yillar. \n",
    "\n",
    "Asagidaki kod parcasi ile tespit edilmistir.\n",
    "\n",
    "```df.loc[df['ENROLL'].isnull() == False].groupby('YEAR').mean().index```\n",
    "\n",
    "TOTAL_VERI: 1986-2017  32 yil\n",
    "\n",
    "- ENROLL : 1993-2016\n",
    "\n",
    "- TOTAL_REVENUE, FEDERAL_REVENUE, STATE_REVENUE, LOCAL_REVENUE, : 1992-2016,\n",
    "\n",
    "- TOTAL_EXPENDITURE, INSTRUCTION_EXPENDITURE, SUPPORT_SERVICES_EXPENDITURE, CAPITAL_OUTLAY_EXPENDITURE : 1992-2016, \n",
    "\n",
    "- OTHER_EXPENDITURE: 1993-2016\n",
    "\n",
    "- GRADES_PK_G, GRADES_KG_G, GRADES_4_G, GRADES_8_G, GRADES_12_G, GRADES_ALL_G: 1986-2017,\n",
    "\n",
    "- GRADES_1_8_G, GRADES_9_12_G  : 1997-2016"
   ]
  },
  {
   "cell_type": "code",
   "execution_count": null,
   "metadata": {},
   "outputs": [],
   "source": [
    "# for dongusu ile yapilabilir\n",
    "#for i in df.columns:\n",
    "#    print(i+'\\n',df.loc[df[i].isnull() == False].groupby('YEAR').mean().index)"
   ]
  },
  {
   "cell_type": "markdown",
   "metadata": {},
   "source": [
    "#### ABD ve Herhangi bir state karsilastirmasi\n",
    "ABD'nin ortalamasini almak eksik verileri doldururken uygun olamayabilir. "
   ]
  },
  {
   "cell_type": "code",
   "execution_count": 64,
   "metadata": {},
   "outputs": [
    {
     "data": {
      "image/png": "[encoded data removed]",
      "text/plain": [
       "<Figure size 1728x576 with 2 Axes>"
      ]
     },
     "metadata": {
      "needs_background": "light"
     },
     "output_type": "display_data"
    }
   ],
   "source": [
    "dpl = df\n",
    "\n",
    "enroll = dpl.loc[dpl['ENROLL'].isnull() == False].groupby('YEAR').mean()[['ENROLL']]\n",
    "\n",
    "plt.figure(figsize=[24,8])\n",
    "plt.subplot(121)\n",
    "plt.plot(enroll.index,enroll.values)\n",
    "plt.title('Enrollment by Year for Entire USA')\n",
    "plt.xlabel('years')\n",
    "plt.ylabel('# of enrolled students')\n",
    "\n",
    "enrollAL = dpl.loc[dpl['ENROLL'].isnull() == False].loc[dpl['STATE']=='ALABAMA'].groupby('YEAR').mean()[['ENROLL']]\n",
    "\n",
    "plt.subplot(122)\n",
    "plt.title('Enrollment by Year for ALABAMA')\n",
    "plt.xlabel('years')\n",
    "plt.ylabel('# of enrolled students')\n",
    "plt.plot(enrollAL.index,enrollAL.values)\n",
    "plt.show()"
   ]
  }
 ],
 "metadata": {
  "kernelspec": {
   "display_name": "Python 3",
   "language": "python",
   "name": "python3"
  },
  "language_info": {
   "codemirror_mode": {
    "name": "ipython",
    "version": 3
   },
   "file_extension": ".py",
   "mimetype": "text/x-python",
   "name": "python",
   "nbconvert_exporter": "python",
   "pygments_lexer": "ipython3",
   "version": "3.7.6"
  }
 },
 "nbformat": 4,
 "nbformat_minor": 4
}
