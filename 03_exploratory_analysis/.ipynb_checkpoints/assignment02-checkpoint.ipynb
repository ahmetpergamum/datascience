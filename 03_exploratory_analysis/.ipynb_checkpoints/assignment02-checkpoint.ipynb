{
 "cells": [
  {
   "cell_type": "markdown",
   "metadata": {},
   "source": [
    "# Keşifsel Veri Analizi\n",
    "\n",
    "## Veri Turleri"
   ]
  },
  {
   "cell_type": "markdown",
   "metadata": {},
   "source": [
    "### Q1\n",
    "Rank değişkenini kategorik olarak değerlendirmenin avantaj ve dezavantajlarını göz önünde bulundurun. Argümanlarınızı mentorunuzla tartışın.\n",
    "\n",
    "- Rank degiskeni siralamayi gosterdiginden kategorik(ordinal) bir degisken gibi gozukebilir. \n",
    "\n",
    "- Ancak Rank degiskeninin 5000 farkli deger aldigi bir veri setinde surekli(aralik) degisken olarak degerlendirmek daha uygun olacaktir. Aksi  halde 5000 farkli gruplandirma yapmanin veri analizinde bize bir yarari olmayacaktir.\n"
   ]
  },
  {
   "cell_type": "markdown",
   "metadata": {},
   "source": [
    "### Q2\n",
    "Aşağıdaki değişkenlerin türlerini belirleyin:\n",
    "\n",
    "- Yaş : Surekli (Oran)\n",
    "- Maaş : Surekli (Oran)\n",
    "- Gelir : Kategorik (Ordinal)\n",
    "- Müşteri türü : Kategorik (Nominal)\n",
    "- Hisse senedi fiyatı :  Surekli (Oran)"
   ]
  }
 ],
 "metadata": {
  "kernelspec": {
   "display_name": "Python 3",
   "language": "python",
   "name": "python3"
  },
  "language_info": {
   "codemirror_mode": {
    "name": "ipython",
    "version": 3
   },
   "file_extension": ".py",
   "mimetype": "text/x-python",
   "name": "python",
   "nbconvert_exporter": "python",
   "pygments_lexer": "ipython3",
   "version": "3.7.6"
  }
 },
 "nbformat": 4,
 "nbformat_minor": 4
}
