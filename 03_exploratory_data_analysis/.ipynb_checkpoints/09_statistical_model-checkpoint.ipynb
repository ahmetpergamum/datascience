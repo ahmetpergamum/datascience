{
 "cells": [
  {
   "cell_type": "markdown",
   "metadata": {},
   "source": [
    "# Keşifsel Veri Analizi\n",
    "\n",
    "## Istatistiksel Model"
   ]
  },
  {
   "cell_type": "markdown",
   "metadata": {},
   "source": [
    "### Q1\n",
    "\n",
    "Bozuk para atmanın sonucunu modellemeye çalışın. Modelinize, sonucu açıklarken önemli olduğunu düşündüğünüz özellikleri dahil edin. Mentorünüzle modelinize çok fazla özellik eklemenin artıları ve eksileri hakkında tartışın.\n"
   ]
  },
  {
   "cell_type": "markdown",
   "metadata": {},
   "source": [
    "- Onemli ozellikler:\n",
    "    - paranin buyuklugu\n",
    "    - paranin yapisi (homojen/heterojen olmasi)"
   ]
  },
  {
   "cell_type": "markdown",
   "metadata": {},
   "source": [
    "### Q2\n",
    "Netflix'i daha önce kullandıysanız, sizin izlemeniz için bazı önerilerde bulunduğunu fark etmiş olmalısınız. Veri biliminde bu, tavsiye sistemleri olarak adlandırılan bir örnektir. Netflix'in bu teknik olmayan blog yazısını öneri sistemlerini nasıl modelledikleri hakkında okuyun. Ardından, tavsiye motorlarında kullandıkları özellikleri türetin ve bu modele dahil edilebilecek başka özellikleri tartışın."
   ]
  },
  {
   "cell_type": "markdown",
   "metadata": {},
   "source": [
    "- Tavsiye motorlarinda kullandiklari ozellikler\n",
    "    - izleme gecmisi (view history)\n",
    "    - puanlama gecmisi (rating history)\n",
    "    - benzer zevklere sahip diger uyeler\n",
    "    - film turu, kategorisi, cast, gosterim yili\n",
    "    - gunun hangi zaman diliminde ne izlediniz\n",
    "    - servisi kullandiginiz cihazlar\n",
    "    - izleme suresi\n",
    "    - demografik ozellikler (yas ve cinsiyet) eklenmemis\n",
    "- Dahil edilebilecek ozellikler\n",
    "    - demografik ozellikler eklenebilir ancak bu modeli karmasik hale getirebilir."
   ]
  }
 ],
 "metadata": {
  "kernelspec": {
   "display_name": "Python 3",
   "language": "python",
   "name": "python3"
  },
  "language_info": {
   "codemirror_mode": {
    "name": "ipython",
    "version": 3
   },
   "file_extension": ".py",
   "mimetype": "text/x-python",
   "name": "python",
   "nbconvert_exporter": "python",
   "pygments_lexer": "ipython3",
   "version": "3.7.6"
  }
 },
 "nbformat": 4,
 "nbformat_minor": 4
}
