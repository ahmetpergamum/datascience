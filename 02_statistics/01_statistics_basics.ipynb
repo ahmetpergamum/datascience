{
 "cells": [
  {
   "cell_type": "markdown",
   "metadata": {},
   "source": [
    "# Temel İstatistik Kavramları"
   ]
  },
  {
   "cell_type": "markdown",
   "metadata": {},
   "source": [
    "### Q1\n",
    "numpy kütüphanesini kullanarak üreteceğiniz 3 farklı veri aracılığı ile merkezi eğilim ve dağılım ölçümlerini hem yukarıda verilen matematiksel formülle hem de python'da hazır bulunan (built-in) kodlar aracılığıyla analiz edin!!!"
   ]
  },
  {
   "cell_type": "code",
   "execution_count": 32,
   "metadata": {},
   "outputs": [
    {
     "name": "stdout",
     "output_type": "stream",
     "text": [
      "Histograms of data:\n",
      "\n"
     ]
    },
    {
     "data": {
      "image/png": "[encoded data removed]",
      "text/plain": [
       "<Figure size 2592x576 with 3 Axes>"
      ]
     },
     "metadata": {
      "needs_background": "light"
     },
     "output_type": "display_data"
    },
    {
     "name": "stdout",
     "output_type": "stream",
     "text": [
      "\n",
      "\n",
      "Results:\n",
      "\n"
     ]
    },
    {
     "data": {
      "text/html": [
       "<div>\n",
       "<style scoped>\n",
       "    .dataframe tbody tr th:only-of-type {\n",
       "        vertical-align: middle;\n",
       "    }\n",
       "\n",
       "    .dataframe tbody tr th {\n",
       "        vertical-align: top;\n",
       "    }\n",
       "\n",
       "    .dataframe thead th {\n",
       "        text-align: right;\n",
       "    }\n",
       "</style>\n",
       "<table border=\"1\" class=\"dataframe\">\n",
       "  <thead>\n",
       "    <tr style=\"text-align: right;\">\n",
       "      <th></th>\n",
       "      <th>Mean</th>\n",
       "      <th>Median</th>\n",
       "      <th>Mode</th>\n",
       "      <th>Variance</th>\n",
       "      <th>Standard Deviation</th>\n",
       "      <th>Standard Error</th>\n",
       "      <th>Manual Variance</th>\n",
       "      <th>Manual Std Devi</th>\n",
       "      <th>Manual Std Err</th>\n",
       "    </tr>\n",
       "    <tr>\n",
       "      <th>Variable Type</th>\n",
       "      <th></th>\n",
       "      <th></th>\n",
       "      <th></th>\n",
       "      <th></th>\n",
       "      <th></th>\n",
       "      <th></th>\n",
       "      <th></th>\n",
       "      <th></th>\n",
       "      <th></th>\n",
       "    </tr>\n",
       "  </thead>\n",
       "  <tbody>\n",
       "    <tr>\n",
       "      <th>Normal Distribution</th>\n",
       "      <td>1.042090e+01</td>\n",
       "      <td>1.046983e+01</td>\n",
       "      <td>NaN</td>\n",
       "      <td>1.057269e+02</td>\n",
       "      <td>1.028236e+01</td>\n",
       "      <td>3.251567e-01</td>\n",
       "      <td>1.057269e+02</td>\n",
       "      <td>1.028236e+01</td>\n",
       "      <td>3.251567e-01</td>\n",
       "    </tr>\n",
       "    <tr>\n",
       "      <th>Exponential Distribution</th>\n",
       "      <td>2.555951e+41</td>\n",
       "      <td>4.938011e+21</td>\n",
       "      <td>NaN</td>\n",
       "      <td>3.201596e+84</td>\n",
       "      <td>1.789300e+42</td>\n",
       "      <td>5.658265e+40</td>\n",
       "      <td>3.201596e+84</td>\n",
       "      <td>1.789300e+42</td>\n",
       "      <td>5.658265e+40</td>\n",
       "    </tr>\n",
       "    <tr>\n",
       "      <th>Grades</th>\n",
       "      <td>6.612500e+01</td>\n",
       "      <td>6.900000e+01</td>\n",
       "      <td>45.0</td>\n",
       "      <td>6.762880e+02</td>\n",
       "      <td>2.600554e+01</td>\n",
       "      <td>5.308358e+00</td>\n",
       "      <td>6.762880e+02</td>\n",
       "      <td>2.600554e+01</td>\n",
       "      <td>5.308358e+00</td>\n",
       "    </tr>\n",
       "  </tbody>\n",
       "</table>\n",
       "</div>"
      ],
      "text/plain": [
       "                                  Mean        Median  Mode      Variance  \\\n",
       "Variable Type                                                              \n",
       "Normal Distribution       1.042090e+01  1.046983e+01   NaN  1.057269e+02   \n",
       "Exponential Distribution  2.555951e+41  4.938011e+21   NaN  3.201596e+84   \n",
       "Grades                    6.612500e+01  6.900000e+01  45.0  6.762880e+02   \n",
       "\n",
       "                          Standard Deviation  Standard Error  Manual Variance  \\\n",
       "Variable Type                                                                   \n",
       "Normal Distribution             1.028236e+01    3.251567e-01     1.057269e+02   \n",
       "Exponential Distribution        1.789300e+42    5.658265e+40     3.201596e+84   \n",
       "Grades                          2.600554e+01    5.308358e+00     6.762880e+02   \n",
       "\n",
       "                          Manual Std Devi  Manual Std Err  \n",
       "Variable Type                                              \n",
       "Normal Distribution          1.028236e+01    3.251567e-01  \n",
       "Exponential Distribution     1.789300e+42    5.658265e+40  \n",
       "Grades                       2.600554e+01    5.308358e+00  "
      ]
     },
     "execution_count": 32,
     "metadata": {},
     "output_type": "execute_result"
    }
   ],
   "source": [
    "import numpy as np\n",
    "import pandas as pd\n",
    "import statistics\n",
    "import matplotlib.pyplot as plt\n",
    "import math\n",
    "import warnings\n",
    "warnings.filterwarnings('ignore')   \n",
    "\n",
    "# mode calculation without error for multiple modes\n",
    "def calcMode(arr):\n",
    "    # unique values and counts of them, np.unique returns two array\n",
    "    (values, counts) = np.unique(arr, return_counts=True)\n",
    "    # get the index of most frquent value \n",
    "    ind = np.argmax(counts)\n",
    "    # retrieve the most frequent element\n",
    "    return values[ind]\n",
    "\n",
    "def calcVariance(arr):\n",
    "    mean = sum(arr)/len(arr)\n",
    "    return sum([(i - mean)**2 for i in arr]) / (len(arr)-1)\n",
    "\n",
    "def calcStdDev(arr):\n",
    "    return math.sqrt(calcVariance(arr))\n",
    "    \n",
    "def calcStdErr(arr):\n",
    "    return calcStdDev(arr) / math.sqrt(len(arr))\n",
    "    \n",
    "    \n",
    "# create normal, exponential and grade arrays\n",
    "normal = np.random.normal(10, 10, 1000)\n",
    "expo = np.exp(np.arange(0,100,0.1))\n",
    "grades = np.array([23,35,56,65,89,76,65,99,45,56,73,74,45,54,44,77,87,89,87,96,99,100,0,53])\n",
    "\n",
    "# store the results in a dataframe\n",
    "df = pd.DataFrame()\n",
    "\n",
    "df['Mean'] = [np.mean(normal), np.mean(expo), np.mean(grades)]\n",
    "df['Median'] = [np.median(normal), np.median(expo), np.median(grades)]\n",
    "# normal and exponenetial distributions has unique values so have no modes\n",
    "df['Mode'] = [np.NaN, np.NaN, calcMode(grades)]\n",
    "df['Variance'] = [np.var(normal, ddof=1), np.var(expo, ddof=1), np.var(grades, ddof=1)]\n",
    "df['Standard Deviation'] = [np.std(normal, ddof=1), np.std(expo, ddof=1), np.std(grades, ddof=1)]\n",
    "df['Standard Error'] = [ np.std(normal, ddof=1) / np.sqrt(len(normal)),\n",
    "                        np.std(expo, ddof=1) / np.sqrt(len(expo)),\n",
    "                        np.std(grades, ddof=1) / np.sqrt(len(grades))]\n",
    "\n",
    "df['Manual Variance'] = [calcVariance(normal), calcVariance(expo), calcVariance(grades)]\n",
    "df['Manual Std Devi'] = [calcStdDev(normal), calcStdDev(expo), calcStdDev(grades)]\n",
    "df['Manual Std Err'] = [calcStdErr(normal), calcStdErr(expo), calcStdErr(grades)]\n",
    "df.index = ['Normal Distribution','Exponential Distribution','Grades']\n",
    "df.index.name = 'Variable Type'\n",
    "\n",
    "\n",
    "\n",
    "print('Histograms of data:\\n')\n",
    "plt.figure(figsize=(36,8))\n",
    "plt.subplot(131)\n",
    "plt.hist(normal, bins=100, color='lightblue')\n",
    "plt.title('Normal Dagilim')\n",
    "plt.subplot(132)\n",
    "plt.hist(expo, bins=100, color='purple')\n",
    "plt.title('Exponensiyel Dagilim')\n",
    "plt.subplot(133)\n",
    "plt.hist(grades, bins=100, color='lightgreen')\n",
    "plt.title('Notlarin Dagilimi')\n",
    "\n",
    "plt.show()\n",
    "\n",
    "print('\\n\\nResults:\\n')\n",
    "df"
   ]
  }
 ],
 "metadata": {
  "kernelspec": {
   "display_name": "Python 3",
   "language": "python",
   "name": "python3"
  },
  "language_info": {
   "codemirror_mode": {
    "name": "ipython",
    "version": 3
   },
   "file_extension": ".py",
   "mimetype": "text/x-python",
   "name": "python",
   "nbconvert_exporter": "python",
   "pygments_lexer": "ipython3",
   "version": "3.7.6"
  }
 },
 "nbformat": 4,
 "nbformat_minor": 4
}
