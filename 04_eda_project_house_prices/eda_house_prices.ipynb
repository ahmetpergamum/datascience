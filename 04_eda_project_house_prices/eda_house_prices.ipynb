{
 "cells": [
  {
   "cell_type": "markdown",
   "metadata": {},
   "source": [
    "# Exploratory Data Analysis of House Prices\n",
    "\n",
    "- Veri seti [kaggle](https://www.kaggle.com/c/house-prices-advanced-regression-techniques/data)'dan alinmistir."
   ]
  },
  {
   "cell_type": "markdown",
   "metadata": {},
   "source": [
    "## ***Data Cleaning***\n",
    "- Veri tipleri\n",
    "- Eksik Degerler"
   ]
  },
  {
   "cell_type": "markdown",
   "metadata": {},
   "source": [
    "### ***Veri tipleri***\n",
    "\n",
    "- Veri tiplerini listele"
   ]
  },
  {
   "cell_type": "code",
   "execution_count": 19,
   "metadata": {},
   "outputs": [
    {
     "name": "stdout",
     "output_type": "stream",
     "text": [
      "\n",
      "Her bir degiskenin tipi:\n",
      "=======================================\n",
      "<class 'pandas.core.frame.DataFrame'>\n",
      "RangeIndex: 1460 entries, 0 to 1459\n",
      "Data columns (total 81 columns):\n",
      " #   Column         Non-Null Count  Dtype  \n",
      "---  ------         --------------  -----  \n",
      " 0   Id             1460 non-null   int64  \n",
      " 1   MSSubClass     1460 non-null   int64  \n",
      " 2   MSZoning       1460 non-null   object \n",
      " 3   LotFrontage    1201 non-null   float64\n",
      " 4   LotArea        1460 non-null   int64  \n",
      " 5   Street         1460 non-null   object \n",
      " 6   Alley          91 non-null     object \n",
      " 7   LotShape       1460 non-null   object \n",
      " 8   LandContour    1460 non-null   object \n",
      " 9   Utilities      1460 non-null   object \n",
      " 10  LotConfig      1460 non-null   object \n",
      " 11  LandSlope      1460 non-null   object \n",
      " 12  Neighborhood   1460 non-null   object \n",
      " 13  Condition1     1460 non-null   object \n",
      " 14  Condition2     1460 non-null   object \n",
      " 15  BldgType       1460 non-null   object \n",
      " 16  HouseStyle     1460 non-null   object \n",
      " 17  OverallQual    1460 non-null   int64  \n",
      " 18  OverallCond    1460 non-null   int64  \n",
      " 19  YearBuilt      1460 non-null   int64  \n",
      " 20  YearRemodAdd   1460 non-null   int64  \n",
      " 21  RoofStyle      1460 non-null   object \n",
      " 22  RoofMatl       1460 non-null   object \n",
      " 23  Exterior1st    1460 non-null   object \n",
      " 24  Exterior2nd    1460 non-null   object \n",
      " 25  MasVnrType     1452 non-null   object \n",
      " 26  MasVnrArea     1452 non-null   float64\n",
      " 27  ExterQual      1460 non-null   object \n",
      " 28  ExterCond      1460 non-null   object \n",
      " 29  Foundation     1460 non-null   object \n",
      " 30  BsmtQual       1423 non-null   object \n",
      " 31  BsmtCond       1423 non-null   object \n",
      " 32  BsmtExposure   1422 non-null   object \n",
      " 33  BsmtFinType1   1423 non-null   object \n",
      " 34  BsmtFinSF1     1460 non-null   int64  \n",
      " 35  BsmtFinType2   1422 non-null   object \n",
      " 36  BsmtFinSF2     1460 non-null   int64  \n",
      " 37  BsmtUnfSF      1460 non-null   int64  \n",
      " 38  TotalBsmtSF    1460 non-null   int64  \n",
      " 39  Heating        1460 non-null   object \n",
      " 40  HeatingQC      1460 non-null   object \n",
      " 41  CentralAir     1460 non-null   object \n",
      " 42  Electrical     1459 non-null   object \n",
      " 43  1stFlrSF       1460 non-null   int64  \n",
      " 44  2ndFlrSF       1460 non-null   int64  \n",
      " 45  LowQualFinSF   1460 non-null   int64  \n",
      " 46  GrLivArea      1460 non-null   int64  \n",
      " 47  BsmtFullBath   1460 non-null   int64  \n",
      " 48  BsmtHalfBath   1460 non-null   int64  \n",
      " 49  FullBath       1460 non-null   int64  \n",
      " 50  HalfBath       1460 non-null   int64  \n",
      " 51  BedroomAbvGr   1460 non-null   int64  \n",
      " 52  KitchenAbvGr   1460 non-null   int64  \n",
      " 53  KitchenQual    1460 non-null   object \n",
      " 54  TotRmsAbvGrd   1460 non-null   int64  \n",
      " 55  Functional     1460 non-null   object \n",
      " 56  Fireplaces     1460 non-null   int64  \n",
      " 57  FireplaceQu    770 non-null    object \n",
      " 58  GarageType     1379 non-null   object \n",
      " 59  GarageYrBlt    1379 non-null   float64\n",
      " 60  GarageFinish   1379 non-null   object \n",
      " 61  GarageCars     1460 non-null   int64  \n",
      " 62  GarageArea     1460 non-null   int64  \n",
      " 63  GarageQual     1379 non-null   object \n",
      " 64  GarageCond     1379 non-null   object \n",
      " 65  PavedDrive     1460 non-null   object \n",
      " 66  WoodDeckSF     1460 non-null   int64  \n",
      " 67  OpenPorchSF    1460 non-null   int64  \n",
      " 68  EnclosedPorch  1460 non-null   int64  \n",
      " 69  3SsnPorch      1460 non-null   int64  \n",
      " 70  ScreenPorch    1460 non-null   int64  \n",
      " 71  PoolArea       1460 non-null   int64  \n",
      " 72  PoolQC         7 non-null      object \n",
      " 73  Fence          281 non-null    object \n",
      " 74  MiscFeature    54 non-null     object \n",
      " 75  MiscVal        1460 non-null   int64  \n",
      " 76  MoSold         1460 non-null   int64  \n",
      " 77  YrSold         1460 non-null   int64  \n",
      " 78  SaleType       1460 non-null   object \n",
      " 79  SaleCondition  1460 non-null   object \n",
      " 80  SalePrice      1460 non-null   int64  \n",
      "dtypes: float64(3), int64(35), object(43)\n",
      "memory usage: 924.0+ KB\n"
     ]
    }
   ],
   "source": [
    "import pandas as pd\n",
    "import numpy as np\n",
    "import warnings\n",
    "import matplotlib.pyplot as plt\n",
    "import seaborn as sns\n",
    "import missingno\n",
    "warnings.filterwarnings('ignore')\n",
    "\n",
    "# pandas varsayilan olarak cok sayida sutun veya satir varsa tumunu gostermez\n",
    "# bu nedenle 100 sutun ve satir gostermesi icin\n",
    "pd.options.display.max_rows = 100\n",
    "pd.options.display.max_columns = 100\n",
    "\n",
    "# virgulden sonra belirli sayida basamak gosterimi icin \n",
    "pd.options.display.float_format = '{:,.3f}'.format\n",
    "\n",
    "pd.options.display.float_format\n",
    "# veri setini dataframe icerisine yukle\n",
    "house_prices = pd.read_csv('train.csv')\n",
    "\n",
    "\n",
    "print('\\nHer bir degiskenin tipi:')\n",
    "print('=======================================')\n",
    "house_prices.info()"
   ]
  },
  {
   "cell_type": "markdown",
   "metadata": {},
   "source": [
    "- Surekli ve Kategorik degiskenleri belirle."
   ]
  },
  {
   "cell_type": "code",
   "execution_count": 20,
   "metadata": {},
   "outputs": [
    {
     "name": "stdout",
     "output_type": "stream",
     "text": [
      "\n",
      "Surekli degiskenler : \n",
      " ['Id', 'MSSubClass', 'LotFrontage', 'LotArea', 'OverallQual', 'OverallCond', 'YearBuilt', 'YearRemodAdd', 'MasVnrArea', 'BsmtFinSF1', 'BsmtFinSF2', 'BsmtUnfSF', 'TotalBsmtSF', '1stFlrSF', '2ndFlrSF', 'LowQualFinSF', 'GrLivArea', 'BsmtFullBath', 'BsmtHalfBath', 'FullBath', 'HalfBath', 'BedroomAbvGr', 'KitchenAbvGr', 'TotRmsAbvGrd', 'Fireplaces', 'GarageYrBlt', 'GarageCars', 'GarageArea', 'WoodDeckSF', 'OpenPorchSF', 'EnclosedPorch', '3SsnPorch', 'ScreenPorch', 'PoolArea', 'MiscVal', 'MoSold', 'YrSold', 'SalePrice']\n",
      "\n",
      "Surekli degiskenlerin unique deger sayilari  :\n",
      "\n",
      "Id : 1460\n",
      "MSSubClass : 15\n",
      "LotFrontage : 110\n",
      "LotArea : 1073\n",
      "OverallQual : 10\n",
      "OverallCond : 9\n",
      "YearBuilt : 112\n",
      "YearRemodAdd : 61\n",
      "MasVnrArea : 327\n",
      "BsmtFinSF1 : 637\n",
      "BsmtFinSF2 : 144\n",
      "BsmtUnfSF : 780\n",
      "TotalBsmtSF : 721\n",
      "1stFlrSF : 753\n",
      "2ndFlrSF : 417\n",
      "LowQualFinSF : 24\n",
      "GrLivArea : 861\n",
      "BsmtFullBath : 4\n",
      "BsmtHalfBath : 3\n",
      "FullBath : 4\n",
      "HalfBath : 3\n",
      "BedroomAbvGr : 8\n",
      "KitchenAbvGr : 4\n",
      "TotRmsAbvGrd : 12\n",
      "Fireplaces : 4\n",
      "GarageYrBlt : 97\n",
      "GarageCars : 5\n",
      "GarageArea : 441\n",
      "WoodDeckSF : 274\n",
      "OpenPorchSF : 202\n",
      "EnclosedPorch : 120\n",
      "3SsnPorch : 20\n",
      "ScreenPorch : 76\n",
      "PoolArea : 8\n",
      "MiscVal : 21\n",
      "MoSold : 12\n",
      "YrSold : 5\n",
      "SalePrice : 663\n",
      "\n",
      "Kategorik degiskenler : \n",
      " ['MSZoning', 'Street', 'Alley', 'LotShape', 'LandContour', 'Utilities', 'LotConfig', 'LandSlope', 'Neighborhood', 'Condition1', 'Condition2', 'BldgType', 'HouseStyle', 'RoofStyle', 'RoofMatl', 'Exterior1st', 'Exterior2nd', 'MasVnrType', 'ExterQual', 'ExterCond', 'Foundation', 'BsmtQual', 'BsmtCond', 'BsmtExposure', 'BsmtFinType1', 'BsmtFinType2', 'Heating', 'HeatingQC', 'CentralAir', 'Electrical', 'KitchenQual', 'Functional', 'FireplaceQu', 'GarageType', 'GarageFinish', 'GarageQual', 'GarageCond', 'PavedDrive', 'PoolQC', 'Fence', 'MiscFeature', 'SaleType', 'SaleCondition']\n",
      "\\KAtegorik degiskenlerin unique deger sayilari  :\n",
      "\n",
      "MSZoning : 5\n",
      "Street : 2\n",
      "Alley : 2\n",
      "LotShape : 4\n",
      "LandContour : 4\n",
      "Utilities : 2\n",
      "LotConfig : 5\n",
      "LandSlope : 3\n",
      "Neighborhood : 25\n",
      "Condition1 : 9\n",
      "Condition2 : 8\n",
      "BldgType : 5\n",
      "HouseStyle : 8\n",
      "RoofStyle : 6\n",
      "RoofMatl : 8\n",
      "Exterior1st : 15\n",
      "Exterior2nd : 16\n",
      "MasVnrType : 4\n",
      "ExterQual : 4\n",
      "ExterCond : 5\n",
      "Foundation : 6\n",
      "BsmtQual : 4\n",
      "BsmtCond : 4\n",
      "BsmtExposure : 4\n",
      "BsmtFinType1 : 6\n",
      "BsmtFinType2 : 6\n",
      "Heating : 6\n",
      "HeatingQC : 5\n",
      "CentralAir : 2\n",
      "Electrical : 5\n",
      "KitchenQual : 4\n",
      "Functional : 7\n",
      "FireplaceQu : 5\n",
      "GarageType : 6\n",
      "GarageFinish : 3\n",
      "GarageQual : 5\n",
      "GarageCond : 5\n",
      "PavedDrive : 3\n",
      "PoolQC : 3\n",
      "Fence : 4\n",
      "MiscFeature : 4\n",
      "SaleType : 9\n",
      "SaleCondition : 6\n"
     ]
    }
   ],
   "source": [
    "# object tipinde olmayan sutunlar surekli degiskenler listesine ayir\n",
    "quantitative = [column for column in house_prices.columns if house_prices.dtypes[column] != 'object']\n",
    "\n",
    "print('\\nSurekli degiskenler : \\n', quantitative)\n",
    "\n",
    "print('\\nSurekli degiskenlerin unique deger sayilari  :\\n')\n",
    "for column in quantitative:\n",
    "    print(column + ' :' , house_prices[column].nunique())\n",
    "\n",
    "# object tipinde olanlar kategorik degiskenler listesine ayir\n",
    "qualitative = [column for column in house_prices.columns if house_prices.dtypes[column] == 'object']\n",
    "\n",
    "print('\\nKategorik degiskenler : \\n', qualitative)\n",
    "          \n",
    "print('\\KAtegorik degiskenlerin unique deger sayilari  :\\n')\n",
    "for column in qualitative:\n",
    "    print(column + ' :', house_prices[column].nunique())"
   ]
  },
  {
   "cell_type": "markdown",
   "metadata": {},
   "source": [
    "- Kategorik degiskenlerden surekli ozelligi gostern yok (unique deger sayilari beklendigi gibi usuk)\n",
    "\n",
    "- Ancak surekli degiskenlerden unique deger sayisi 25 in altinda olanlari listeleyelim."
   ]
  },
  {
   "cell_type": "code",
   "execution_count": 21,
   "metadata": {},
   "outputs": [
    {
     "name": "stdout",
     "output_type": "stream",
     "text": [
      "\n",
      "Surekli degiskenlerin unique deger sayilari 25 in altinda olanlar  :\n",
      "\n",
      "MSSubClass : 15\n",
      "OverallQual : 10\n",
      "OverallCond : 9\n",
      "LowQualFinSF : 24\n",
      "BsmtFullBath : 4\n",
      "BsmtHalfBath : 3\n",
      "FullBath : 4\n",
      "HalfBath : 3\n",
      "BedroomAbvGr : 8\n",
      "KitchenAbvGr : 4\n",
      "TotRmsAbvGrd : 12\n",
      "Fireplaces : 4\n",
      "GarageCars : 5\n",
      "3SsnPorch : 20\n",
      "PoolArea : 8\n",
      "MiscVal : 21\n",
      "MoSold : 12\n",
      "YrSold : 5\n"
     ]
    }
   ],
   "source": [
    "print('\\nSurekli degiskenlerin unique deger sayilari 25 in altinda olanlar  :\\n')\n",
    "for column in quantitative:\n",
    "    if house_prices[column].nunique() < 25:\n",
    "        print(column + ' :' , house_prices[column].nunique())"
   ]
  },
  {
   "cell_type": "markdown",
   "metadata": {},
   "source": [
    "### ***Eksik degerler***\n",
    "- Eksik degerleri inceleme\n",
    "    - Eksik degerleri donusturme\n",
    "    - Eksik degerleri doldurma"
   ]
  },
  {
   "cell_type": "markdown",
   "metadata": {},
   "source": [
    "#### ***Eksik degerleri inceleme***"
   ]
  },
  {
   "cell_type": "code",
   "execution_count": 22,
   "metadata": {},
   "outputs": [
    {
     "name": "stdout",
     "output_type": "stream",
     "text": [
      "\n",
      "Her bir degiskenin null deger oranlari  (%):\n",
      "=======================================\n"
     ]
    },
    {
     "data": {
      "text/plain": [
       "Id               0.000\n",
       "MSSubClass       0.000\n",
       "MSZoning         0.000\n",
       "LotFrontage     17.740\n",
       "LotArea          0.000\n",
       "Street           0.000\n",
       "Alley           93.767\n",
       "LotShape         0.000\n",
       "LandContour      0.000\n",
       "Utilities        0.000\n",
       "LotConfig        0.000\n",
       "LandSlope        0.000\n",
       "Neighborhood     0.000\n",
       "Condition1       0.000\n",
       "Condition2       0.000\n",
       "BldgType         0.000\n",
       "HouseStyle       0.000\n",
       "OverallQual      0.000\n",
       "OverallCond      0.000\n",
       "YearBuilt        0.000\n",
       "YearRemodAdd     0.000\n",
       "RoofStyle        0.000\n",
       "RoofMatl         0.000\n",
       "Exterior1st      0.000\n",
       "Exterior2nd      0.000\n",
       "MasVnrType       0.548\n",
       "MasVnrArea       0.548\n",
       "ExterQual        0.000\n",
       "ExterCond        0.000\n",
       "Foundation       0.000\n",
       "BsmtQual         2.534\n",
       "BsmtCond         2.534\n",
       "BsmtExposure     2.603\n",
       "BsmtFinType1     2.534\n",
       "BsmtFinSF1       0.000\n",
       "BsmtFinType2     2.603\n",
       "BsmtFinSF2       0.000\n",
       "BsmtUnfSF        0.000\n",
       "TotalBsmtSF      0.000\n",
       "Heating          0.000\n",
       "HeatingQC        0.000\n",
       "CentralAir       0.000\n",
       "Electrical       0.068\n",
       "1stFlrSF         0.000\n",
       "2ndFlrSF         0.000\n",
       "LowQualFinSF     0.000\n",
       "GrLivArea        0.000\n",
       "BsmtFullBath     0.000\n",
       "BsmtHalfBath     0.000\n",
       "FullBath         0.000\n",
       "HalfBath         0.000\n",
       "BedroomAbvGr     0.000\n",
       "KitchenAbvGr     0.000\n",
       "KitchenQual      0.000\n",
       "TotRmsAbvGrd     0.000\n",
       "Functional       0.000\n",
       "Fireplaces       0.000\n",
       "FireplaceQu     47.260\n",
       "GarageType       5.548\n",
       "GarageYrBlt      5.548\n",
       "GarageFinish     5.548\n",
       "GarageCars       0.000\n",
       "GarageArea       0.000\n",
       "GarageQual       5.548\n",
       "GarageCond       5.548\n",
       "PavedDrive       0.000\n",
       "WoodDeckSF       0.000\n",
       "OpenPorchSF      0.000\n",
       "EnclosedPorch    0.000\n",
       "3SsnPorch        0.000\n",
       "ScreenPorch      0.000\n",
       "PoolArea         0.000\n",
       "PoolQC          99.521\n",
       "Fence           80.753\n",
       "MiscFeature     96.301\n",
       "MiscVal          0.000\n",
       "MoSold           0.000\n",
       "YrSold           0.000\n",
       "SaleType         0.000\n",
       "SaleCondition    0.000\n",
       "SalePrice        0.000\n",
       "dtype: float64"
      ]
     },
     "execution_count": 22,
     "metadata": {},
     "output_type": "execute_result"
    }
   ],
   "source": [
    "print('\\nHer bir degiskenin null deger oranlari  (%):')\n",
    "print('=======================================')\n",
    "\n",
    "# null degerleri isnull() metodu ile True/False olarak listeleyebilirim\n",
    "# deger null oldugunda True doneceginden, isnull() metodundan donen nesneye \n",
    "# mean() metodunu uyguladigimizda null degerlerin ortlamasini verecektir.\n",
    "house_prices.isnull().mean()*100"
   ]
  },
  {
   "cell_type": "markdown",
   "metadata": {},
   "source": [
    "- Eksik degerlerin doldurmak icin uygun oldugu (eksik deger orani sifirdan buyuk %40 den kucuk) ve olmadigi (yaridan fazla eksik deger bulunan) degiskenler"
   ]
  },
  {
   "cell_type": "code",
   "execution_count": 23,
   "metadata": {},
   "outputs": [
    {
     "name": "stdout",
     "output_type": "stream",
     "text": [
      "\n",
      "Eksik degeri olan ve orani % 40 den az olan  degiskenler \n",
      "  ['LotFrontage', 'MasVnrType', 'MasVnrArea', 'BsmtQual', 'BsmtCond', 'BsmtExposure', 'BsmtFinType1', 'BsmtFinType2', 'Electrical', 'GarageType', 'GarageYrBlt', 'GarageFinish', 'GarageQual', 'GarageCond']\n",
      "\n",
      "Eksik deger orani % 40 den fazla olan degiskenler \n",
      "  ['Alley', 'FireplaceQu', 'PoolQC', 'Fence', 'MiscFeature']\n"
     ]
    }
   ],
   "source": [
    "# if column null value mean is higher than %40 it is not suitable for filling\n",
    "not_fit_to_fill = [column for column in house_prices.columns if house_prices[column].isnull().mean() > 0.4]\n",
    "\n",
    "# if column null value mean is lower than %40 it is suitable for filling\n",
    "fit_to_fill = [column for column in house_prices.columns if (house_prices[column].isnull().mean() < 0.4 and house_prices[column].isnull().mean() != 0)]\n",
    "\n",
    "print('\\nEksik degeri olan ve orani % 40 den az olan  degiskenler \\n ', fit_to_fill)\n",
    "print('\\nEksik deger orani % 40 den fazla olan degiskenler \\n ', not_fit_to_fill)\n"
   ]
  },
  {
   "cell_type": "markdown",
   "metadata": {},
   "source": [
    "- Eksik degerlerin sutun ve satirlar bazinda gorsellestirilmesinde 4 sutunun neredeyse bos oldugu goruluyor."
   ]
  },
  {
   "cell_type": "code",
   "execution_count": 24,
   "metadata": {},
   "outputs": [
    {
     "data": {
      "image/png": "[encoded data removed]",
      "text/plain": [
       "<Figure size 1800x720 with 2 Axes>"
      ]
     },
     "metadata": {
      "needs_background": "light"
     },
     "output_type": "display_data"
    }
   ],
   "source": [
    "# missingno eksik sutunlari gorsellestirmeye yarar\n",
    "missingno.matrix(house_prices)\n",
    "plt.show()"
   ]
  },
  {
   "cell_type": "markdown",
   "metadata": {},
   "source": [
    "- Eksik degerlerin bar grafigi"
   ]
  },
  {
   "cell_type": "code",
   "execution_count": 8,
   "metadata": {},
   "outputs": [
    {
     "data": {
      "image/png": "[encoded data removed]",
      "text/plain": [
       "<Figure size 720x360 with 1 Axes>"
      ]
     },
     "metadata": {
      "needs_background": "light"
     },
     "output_type": "display_data"
    }
   ],
   "source": [
    "# null degerlerin toplamlarindan olusan seri\n",
    "missing = house_prices.isnull().sum()\n",
    "\n",
    "# where eksik degeri sifirdan buyukler icin null doner \n",
    "# dropna() ise bu null degerleri atar\n",
    "missing = missing.where(lambda x : x>0).dropna()\n",
    "# yukaridaki islemin kisa versiyonu  \n",
    "# missing = missing[missing > 0]\n",
    "\n",
    "# degerlere gore sirala\n",
    "missing.sort_values(inplace=True)\n",
    "\n",
    "# eksik degerler grafigi\n",
    "plt.figure(figsize=(10,5))\n",
    "sns.barplot(x=missing.index, y=missing.values, palette=\"viridis\")\n",
    "plt.xticks(rotation=75)\n",
    "plt.show()"
   ]
  },
  {
   "cell_type": "markdown",
   "metadata": {},
   "source": [
    "- Cok fazla eksik deger olan sutunlarda unique degerleri inceleyelim."
   ]
  },
  {
   "cell_type": "code",
   "execution_count": 9,
   "metadata": {},
   "outputs": [
    {
     "name": "stdout",
     "output_type": "stream",
     "text": [
      "Alley : [nan 'Grvl' 'Pave']\n",
      "FireplaceQu : [nan 'TA' 'Gd' 'Fa' 'Ex' 'Po']\n",
      "PoolQC : [nan 'Ex' 'Fa' 'Gd']\n",
      "Fence : [nan 'MnPrv' 'GdWo' 'GdPrv' 'MnWw']\n",
      "MiscFeature : [nan 'Shed' 'Gar2' 'Othr' 'TenC']\n"
     ]
    }
   ],
   "source": [
    "for column in not_fit_to_fill:\n",
    "    print(column + ' :', house_prices[column].unique())"
   ]
  },
  {
   "cell_type": "markdown",
   "metadata": {},
   "source": [
    "- Bu degiskenlerin data description verisini inceledigimizde one-hot ya da integer encoding yapabilecegimiz degiskenler gorulebilir:\n",
    "    - Alley : Type of alley access to property \n",
    "        - Grvl: Gravel, \n",
    "        - Pave: Paved, \n",
    "        - NA: No alley access\n",
    "    - PoolQC: Pool quality\n",
    "        - Ex: Excellent        \n",
    "        - Gd: Good       \n",
    "        - TA: Average/Typical       \n",
    "        - Fa: Fair       \n",
    "        - NA: No Pool\n",
    "    - Fence: Fence quality       \n",
    "        - GdPrv: Good Privacy       \n",
    "        - MnPrv: Minimum Privacy\n",
    "        - GdWo: Good Wood\n",
    "        - MnWw: Minimum Wood/Wire \n",
    "        - NA: No Fence\n",
    "    - MiscFeature: Miscellaneous feature not covered in other categories \n",
    "        - Elev: Elevator        \n",
    "        - Gar2: 2nd Garage (if not described in garage section)\n",
    "        - Othr: Other \n",
    "        - Shed: Shed (over 100 SF)\n",
    "        - TenC: Tennis Court\n",
    "        - NA: None\n",
    "    - FireplaceQu: Fireplace quality\n",
    "        - Ex: Excellent - Exceptional Masonry Fireplace\n",
    "        - Gd: Good - Masonry Fireplace in main level \n",
    "        - TA: Average - Prefabricated Fireplace in main living area or Masonry Fireplace in basement \n",
    "        - Fa: Fair - Prefabricated Fireplace in basement\n",
    "        - Po: Poor - Ben Franklin Stove \n",
    "        - NA: No Fireplace"
   ]
  },
  {
   "cell_type": "markdown",
   "metadata": {},
   "source": [
    "- PoolQC ve FireplaceQu degiskenleri, ordinal (siralama) oldugundan integer encoding uygulariz.\n",
    "- Alley, Fence, MiscFeature degiskenleri ise nominal degiskenler oldugundan one hot encoding uygulariz."
   ]
  },
  {
   "cell_type": "markdown",
   "metadata": {},
   "source": [
    "#### ***Eksik degerleri donusturme***\n",
    "- One hot encoding: nominal degiskenlere uygulanabilir\n",
    "- Integer encoding: ordinal (siralama) degiskenlere uygulanabilir"
   ]
  },
  {
   "cell_type": "code",
   "execution_count": 10,
   "metadata": {},
   "outputs": [],
   "source": [
    "#  encode edecegimiz house_prices i ayri tutalim\n",
    "house_prices_encoded = house_prices.copy()\n",
    "\n",
    "# eksik degerlerion fazla oldugu degiskenlerden nominal ve ordinal olmak uzere iki liste olusturduk\n",
    "ordinals = ['PoolQC', 'FireplaceQu']\n",
    "nominals = ['Alley','Fence','MiscFeature']\n",
    "\n",
    "# nominal degiskenleri one hot encoding uygula ve dataframe ile birlestir \n",
    "for column in nominals:\n",
    "    house_prices_encoded = pd.concat([house_prices_encoded, pd.get_dummies(house_prices_encoded[column], prefix=column)], axis=1)\n",
    "\n",
    "# nominal degiskenleri artik df den cikarabiliriz\n",
    "house_prices_encoded = house_prices_encoded.drop(nominals, axis=1)\n",
    "\n",
    "# integer encoding icin mapping yapan bir sozluk olusturuldu\n",
    "# None degerlere de sifir atandi\n",
    "encode_nums = {\"PoolQC\":     {\"Ex\": 3, \"Gd\": 2, \"Fa\": 1, None: 0},\n",
    "                \"FireplaceQu\": {\"Ex\": 5, \"Gd\": 4, \"TA\": 3, \"Fa\": 2, \"Po\": 1, None: 0}}\n",
    "\n",
    "# pandas in replace metodu sozluk kullanarak mapping yapabiliyor ve \n",
    "# verileri sozluge gore degistriebiliyor\n",
    "house_prices_encoded.replace(encode_nums, inplace=True)\n"
   ]
  },
  {
   "cell_type": "markdown",
   "metadata": {},
   "source": [
    "- Simdi de eksik degerleri az olan degiskenleri inceleyelim."
   ]
  },
  {
   "cell_type": "code",
   "execution_count": 17,
   "metadata": {},
   "outputs": [
    {
     "name": "stdout",
     "output_type": "stream",
     "text": [
      "LotFrontage : [ 65.  80.  68.  60.  84.  85.  75.  nan  51.  50.  70.  91.  72.  66.\n",
      " 101.  57.  44. 110.  98.  47. 108. 112.  74. 115.  61.  48.  33.  52.\n",
      " 100.  24.  89.  63.  76.  81.  95.  69.  21.  32.  78. 121. 122.  40.\n",
      " 105.  73.  77.  64.  94.  34.  90.  55.  88.  82.  71. 120. 107.  92.\n",
      " 134.  62.  86. 141.  97.  54.  41.  79. 174.  99.  67.  83.  43. 103.\n",
      "  93.  30. 129. 140.  35.  37. 118.  87. 116. 150. 111.  49.  96.  59.\n",
      "  36.  56. 102.  58.  38. 109. 130.  53. 137.  45. 106. 104.  42.  39.\n",
      " 144. 114. 128. 149. 313. 168. 182. 138. 160. 152. 124. 153.  46.]\n",
      "MasVnrType : ['BrkFace' 'None' 'Stone' 'BrkCmn' nan]\n",
      "MasVnrArea : [1.960e+02 0.000e+00 1.620e+02 3.500e+02 1.860e+02 2.400e+02 2.860e+02\n",
      " 3.060e+02 2.120e+02 1.800e+02 3.800e+02 2.810e+02 6.400e+02 2.000e+02\n",
      " 2.460e+02 1.320e+02 6.500e+02 1.010e+02 4.120e+02 2.720e+02 4.560e+02\n",
      " 1.031e+03 1.780e+02 5.730e+02 3.440e+02 2.870e+02 1.670e+02 1.115e+03\n",
      " 4.000e+01 1.040e+02 5.760e+02 4.430e+02 4.680e+02 6.600e+01 2.200e+01\n",
      " 2.840e+02 7.600e+01 2.030e+02 6.800e+01 1.830e+02 4.800e+01 2.800e+01\n",
      " 3.360e+02 6.000e+02 7.680e+02 4.800e+02 2.200e+02 1.840e+02 1.129e+03\n",
      " 1.160e+02 1.350e+02 2.660e+02 8.500e+01 3.090e+02 1.360e+02 2.880e+02\n",
      " 7.000e+01 3.200e+02 5.000e+01 1.200e+02 4.360e+02 2.520e+02 8.400e+01\n",
      " 6.640e+02 2.260e+02 3.000e+02 6.530e+02 1.120e+02 4.910e+02 2.680e+02\n",
      " 7.480e+02 9.800e+01 2.750e+02 1.380e+02 2.050e+02 2.620e+02 1.280e+02\n",
      " 2.600e+02 1.530e+02 6.400e+01 3.120e+02 1.600e+01 9.220e+02 1.420e+02\n",
      " 2.900e+02 1.270e+02 5.060e+02 2.970e+02       nan 6.040e+02 2.540e+02\n",
      " 3.600e+01 1.020e+02 4.720e+02 4.810e+02 1.080e+02 3.020e+02 1.720e+02\n",
      " 3.990e+02 2.700e+02 4.600e+01 2.100e+02 1.740e+02 3.480e+02 3.150e+02\n",
      " 2.990e+02 3.400e+02 1.660e+02 7.200e+01 3.100e+01 3.400e+01 2.380e+02\n",
      " 1.600e+03 3.650e+02 5.600e+01 1.500e+02 2.780e+02 2.560e+02 2.250e+02\n",
      " 3.700e+02 3.880e+02 1.750e+02 2.960e+02 1.460e+02 1.130e+02 1.760e+02\n",
      " 6.160e+02 3.000e+01 1.060e+02 8.700e+02 3.620e+02 5.300e+02 5.000e+02\n",
      " 5.100e+02 2.470e+02 3.050e+02 2.550e+02 1.250e+02 1.000e+02 4.320e+02\n",
      " 1.260e+02 4.730e+02 7.400e+01 1.450e+02 2.320e+02 3.760e+02 4.200e+01\n",
      " 1.610e+02 1.100e+02 1.800e+01 2.240e+02 2.480e+02 8.000e+01 3.040e+02\n",
      " 2.150e+02 7.720e+02 4.350e+02 3.780e+02 5.620e+02 1.680e+02 8.900e+01\n",
      " 2.850e+02 3.600e+02 9.400e+01 3.330e+02 9.210e+02 7.620e+02 5.940e+02\n",
      " 2.190e+02 1.880e+02 4.790e+02 5.840e+02 1.820e+02 2.500e+02 2.920e+02\n",
      " 2.450e+02 2.070e+02 8.200e+01 9.700e+01 3.350e+02 2.080e+02 4.200e+02\n",
      " 1.700e+02 4.590e+02 2.800e+02 9.900e+01 1.920e+02 2.040e+02 2.330e+02\n",
      " 1.560e+02 4.520e+02 5.130e+02 2.610e+02 1.640e+02 2.590e+02 2.090e+02\n",
      " 2.630e+02 2.160e+02 3.510e+02 6.600e+02 3.810e+02 5.400e+01 5.280e+02\n",
      " 2.580e+02 4.640e+02 5.700e+01 1.470e+02 1.170e+03 2.930e+02 6.300e+02\n",
      " 4.660e+02 1.090e+02 4.100e+01 1.600e+02 2.890e+02 6.510e+02 1.690e+02\n",
      " 9.500e+01 4.420e+02 2.020e+02 3.380e+02 8.940e+02 3.280e+02 6.730e+02\n",
      " 6.030e+02 1.000e+00 3.750e+02 9.000e+01 3.800e+01 1.570e+02 1.100e+01\n",
      " 1.400e+02 1.300e+02 1.480e+02 8.600e+02 4.240e+02 1.047e+03 2.430e+02\n",
      " 8.160e+02 3.870e+02 2.230e+02 1.580e+02 1.370e+02 1.150e+02 1.890e+02\n",
      " 2.740e+02 1.170e+02 6.000e+01 1.220e+02 9.200e+01 4.150e+02 7.600e+02\n",
      " 2.700e+01 7.500e+01 3.610e+02 1.050e+02 3.420e+02 2.980e+02 5.410e+02\n",
      " 2.360e+02 1.440e+02 4.230e+02 4.400e+01 1.510e+02 9.750e+02 4.500e+02\n",
      " 2.300e+02 5.710e+02 2.400e+01 5.300e+01 2.060e+02 1.400e+01 3.240e+02\n",
      " 2.950e+02 3.960e+02 6.700e+01 1.540e+02 4.250e+02 4.500e+01 1.378e+03\n",
      " 3.370e+02 1.490e+02 1.430e+02 5.100e+01 1.710e+02 2.340e+02 6.300e+01\n",
      " 7.660e+02 3.200e+01 8.100e+01 1.630e+02 5.540e+02 2.180e+02 6.320e+02\n",
      " 1.140e+02 5.670e+02 3.590e+02 4.510e+02 6.210e+02 7.880e+02 8.600e+01\n",
      " 7.960e+02 3.910e+02 2.280e+02 8.800e+01 1.650e+02 4.280e+02 4.100e+02\n",
      " 5.640e+02 3.680e+02 3.180e+02 5.790e+02 6.500e+01 7.050e+02 4.080e+02\n",
      " 2.440e+02 1.230e+02 3.660e+02 7.310e+02 4.480e+02 2.940e+02 3.100e+02\n",
      " 2.370e+02 4.260e+02 9.600e+01 4.380e+02 1.940e+02 1.190e+02]\n",
      "BsmtQual : ['Gd' 'TA' 'Ex' nan 'Fa']\n",
      "BsmtCond : ['TA' 'Gd' nan 'Fa' 'Po']\n",
      "BsmtExposure : ['No' 'Gd' 'Mn' 'Av' nan]\n",
      "BsmtFinType1 : ['GLQ' 'ALQ' 'Unf' 'Rec' 'BLQ' nan 'LwQ']\n",
      "BsmtFinType2 : ['Unf' 'BLQ' nan 'ALQ' 'Rec' 'LwQ' 'GLQ']\n",
      "Electrical : ['SBrkr' 'FuseF' 'FuseA' 'FuseP' 'Mix' nan]\n",
      "GarageType : ['Attchd' 'Detchd' 'BuiltIn' 'CarPort' nan 'Basment' '2Types']\n",
      "GarageYrBlt : [2003. 1976. 2001. 1998. 2000. 1993. 2004. 1973. 1931. 1939. 1965. 2005.\n",
      " 1962. 2006. 1960. 1991. 1970. 1967. 1958. 1930. 2002. 1968. 2007. 2008.\n",
      " 1957. 1920. 1966. 1959. 1995. 1954. 1953.   nan 1983. 1977. 1997. 1985.\n",
      " 1963. 1981. 1964. 1999. 1935. 1990. 1945. 1987. 1989. 1915. 1956. 1948.\n",
      " 1974. 2009. 1950. 1961. 1921. 1900. 1979. 1951. 1969. 1936. 1975. 1971.\n",
      " 1923. 1984. 1926. 1955. 1986. 1988. 1916. 1932. 1972. 1918. 1980. 1924.\n",
      " 1996. 1940. 1949. 1994. 1910. 1978. 1982. 1992. 1925. 1941. 2010. 1927.\n",
      " 1947. 1937. 1942. 1938. 1952. 1928. 1922. 1934. 1906. 1914. 1946. 1908.\n",
      " 1929. 1933.]\n",
      "GarageFinish : ['RFn' 'Unf' 'Fin' nan]\n",
      "GarageQual : ['TA' 'Fa' 'Gd' nan 'Ex' 'Po']\n",
      "GarageCond : ['TA' 'Fa' nan 'Gd' 'Po' 'Ex']\n"
     ]
    }
   ],
   "source": [
    "# unique degerleri inceleyelim\n",
    "for column in fit_to_fill:\n",
    "    print(column + ' :', df[column].unique())"
   ]
  },
  {
   "cell_type": "markdown",
   "metadata": {},
   "source": [
    "#### ***Eksik degerleri doldurma***"
   ]
  },
  {
   "cell_type": "markdown",
   "metadata": {},
   "source": [
    "- nan yerine sifir degeri konabilecek degiskenler.\n",
    "    - LotFrontage\n",
    "    - MasVnrArea"
   ]
  },
  {
   "cell_type": "code",
   "execution_count": 12,
   "metadata": {},
   "outputs": [],
   "source": [
    "for column in ['LotFrontage', 'MasVnrArea']:\n",
    "    house_prices_encoded[column].fillna(0, inplace=True)"
   ]
  },
  {
   "cell_type": "markdown",
   "metadata": {},
   "source": [
    "- nan yerine 'None' string ifadesi doldurulacak degiskenler\n",
    "    - MasVnrType (duvarda kullanilan malzeme tipi): 'BrkFace' 'None' 'Stone' 'BrkCmn' nan \n",
    "        - Degiskende zaten 'None' ifadesi de kullanilmis.\n",
    "    - BsmtQual: 'Gd' 'TA' 'Ex' nan 'Fa'\n",
    "    - BsmtCond: 'TA' 'Gd' nan 'Fa' 'Po'\n",
    "    - BsmtExposure: 'No' 'Gd' 'Mn' 'Av' nan\n",
    "    - BsmtFinType1: 'GLQ' 'ALQ' 'Unf' 'Rec' 'BLQ' nan 'LwQ'\n",
    "    - BsmtFinType2: 'GLQ' 'ALQ' 'Unf' 'Rec' 'BLQ' nan 'LwQ'\n",
    "    - GarageType : 'Attchd' 'Detchd' 'BuiltIn' 'CarPort' nan 'Basment' '2Types'\n",
    "    - GarageFinish : 'RFn' 'Unf' 'Fin' nan\n",
    "    - GarageQual : 'TA' 'Fa' 'Gd' nan 'Ex' 'Po'\n",
    "    - GarageCond : 'TA' 'Fa' nan 'Gd' 'Po' 'Ex'"
   ]
  },
  {
   "cell_type": "code",
   "execution_count": 13,
   "metadata": {},
   "outputs": [],
   "source": [
    "columns = ['MasVnrType', 'BsmtQual', 'BsmtCond', 'BsmtExposure', \n",
    "           'BsmtFinType1', 'BsmtFinType2', 'GarageType', \n",
    "           'GarageFinish', 'GarageQual', 'GarageCond' ]\n",
    "for column in columns:\n",
    "    house_prices_encoded[column].fillna('None', inplace=True)"
   ]
  },
  {
   "cell_type": "markdown",
   "metadata": {},
   "source": [
    "- nan yerine o sutunda en cok bulunan deger (mod) ile doldurulacak degiskenler\n",
    "    - GarageYrBlt\n",
    "    - Electrical: 'SBrkr' 'FuseF' 'FuseA' 'FuseP' 'Mix' nan"
   ]
  },
  {
   "cell_type": "code",
   "execution_count": 14,
   "metadata": {},
   "outputs": [],
   "source": [
    "for column in ['GarageYrBlt','Electrical']:\n",
    "    # GarageYrBlt en sik gecen mod degeri ile dolduruldu\n",
    "    house_prices_encoded[column].fillna(house_prices_encoded[column].mode()[0], inplace=True)"
   ]
  },
  {
   "cell_type": "code",
   "execution_count": 15,
   "metadata": {},
   "outputs": [
    {
     "data": {
      "text/plain": [
       "Id                 0.000\n",
       "MSSubClass         0.000\n",
       "MSZoning           0.000\n",
       "LotFrontage        0.000\n",
       "LotArea            0.000\n",
       "Street             0.000\n",
       "LotShape           0.000\n",
       "LandContour        0.000\n",
       "Utilities          0.000\n",
       "LotConfig          0.000\n",
       "LandSlope          0.000\n",
       "Neighborhood       0.000\n",
       "Condition1         0.000\n",
       "Condition2         0.000\n",
       "BldgType           0.000\n",
       "HouseStyle         0.000\n",
       "OverallQual        0.000\n",
       "OverallCond        0.000\n",
       "YearBuilt          0.000\n",
       "YearRemodAdd       0.000\n",
       "RoofStyle          0.000\n",
       "RoofMatl           0.000\n",
       "Exterior1st        0.000\n",
       "Exterior2nd        0.000\n",
       "MasVnrType         0.000\n",
       "MasVnrArea         0.000\n",
       "ExterQual          0.000\n",
       "ExterCond          0.000\n",
       "Foundation         0.000\n",
       "BsmtQual           0.000\n",
       "BsmtCond           0.000\n",
       "BsmtExposure       0.000\n",
       "BsmtFinType1       0.000\n",
       "BsmtFinSF1         0.000\n",
       "BsmtFinType2       0.000\n",
       "BsmtFinSF2         0.000\n",
       "BsmtUnfSF          0.000\n",
       "TotalBsmtSF        0.000\n",
       "Heating            0.000\n",
       "HeatingQC          0.000\n",
       "CentralAir         0.000\n",
       "Electrical         0.000\n",
       "1stFlrSF           0.000\n",
       "2ndFlrSF           0.000\n",
       "LowQualFinSF       0.000\n",
       "GrLivArea          0.000\n",
       "BsmtFullBath       0.000\n",
       "BsmtHalfBath       0.000\n",
       "FullBath           0.000\n",
       "HalfBath           0.000\n",
       "BedroomAbvGr       0.000\n",
       "KitchenAbvGr       0.000\n",
       "KitchenQual        0.000\n",
       "TotRmsAbvGrd       0.000\n",
       "Functional         0.000\n",
       "Fireplaces         0.000\n",
       "FireplaceQu        0.000\n",
       "GarageType         0.000\n",
       "GarageYrBlt        0.000\n",
       "GarageFinish       0.000\n",
       "GarageCars         0.000\n",
       "GarageArea         0.000\n",
       "GarageQual         0.000\n",
       "GarageCond         0.000\n",
       "PavedDrive         0.000\n",
       "WoodDeckSF         0.000\n",
       "OpenPorchSF        0.000\n",
       "EnclosedPorch      0.000\n",
       "3SsnPorch          0.000\n",
       "ScreenPorch        0.000\n",
       "PoolArea           0.000\n",
       "PoolQC             0.000\n",
       "MiscVal            0.000\n",
       "MoSold             0.000\n",
       "YrSold             0.000\n",
       "SaleType           0.000\n",
       "SaleCondition      0.000\n",
       "SalePrice          0.000\n",
       "Alley_Grvl         0.000\n",
       "Alley_Pave         0.000\n",
       "Fence_GdPrv        0.000\n",
       "Fence_GdWo         0.000\n",
       "Fence_MnPrv        0.000\n",
       "Fence_MnWw         0.000\n",
       "MiscFeature_Gar2   0.000\n",
       "MiscFeature_Othr   0.000\n",
       "MiscFeature_Shed   0.000\n",
       "MiscFeature_TenC   0.000\n",
       "dtype: float64"
      ]
     },
     "execution_count": 15,
     "metadata": {},
     "output_type": "execute_result"
    }
   ],
   "source": [
    "house_prices_encoded.isnull().mean()*100"
   ]
  },
  {
   "cell_type": "markdown",
   "metadata": {},
   "source": [
    "## ***Outlier Detection***\n",
    "\n",
    "- Gorsellestirme\n",
    "- z score\n",
    "- IQR score (Tukey yontemi)"
   ]
  },
  {
   "cell_type": "markdown",
   "metadata": {},
   "source": [
    "***Gorsellestirme yontemi***\n",
    "- Boxplot grafigi ile degiskenler gozlemlenir"
   ]
  },
  {
   "cell_type": "code",
   "execution_count": null,
   "metadata": {},
   "outputs": [],
   "source": [
    "house_prices_clean = house_prices_encoded.copy()\n",
    "sns.boxplot(x=boston_df['DIS'])"
   ]
  }
 ],
 "metadata": {
  "kernelspec": {
   "display_name": "Python 3",
   "language": "python",
   "name": "python3"
  },
  "language_info": {
   "codemirror_mode": {
    "name": "ipython",
    "version": 3
   },
   "file_extension": ".py",
   "mimetype": "text/x-python",
   "name": "python",
   "nbconvert_exporter": "python",
   "pygments_lexer": "ipython3",
   "version": "3.7.6"
  }
 },
 "nbformat": 4,
 "nbformat_minor": 4
}
