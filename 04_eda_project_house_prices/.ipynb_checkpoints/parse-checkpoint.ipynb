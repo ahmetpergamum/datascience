{
 "cells": [
  {
   "cell_type": "markdown",
   "metadata": {},
   "source": [
    "***Parse data description file***"
   ]
  },
  {
   "cell_type": "code",
   "execution_count": null,
   "metadata": {},
   "outputs": [],
   "source": [
    "import json\n",
    "my_list = [];\n",
    "\n",
    "with open('data_description.txt') as f:\n",
    "    lines = f.readlines() # list containing lines of file\n",
    "    features = [] # To store feature names\n",
    "\n",
    "    i = 1\n",
    "    for line in lines:\n",
    "        line = line.strip() # remove leading/trailing white spaces\n",
    "        if line:\n",
    "            if ':' in line:\n",
    "                features = [item.strip() for item in line.split(':')]\n",
    "                \n",
    "                i = i + 1\n",
    "            else:\n",
    "                d = {} # dictionary to store file data (each line)\n",
    "                data = [item.strip() for item in line.split(',')]\n",
    "                for index, elem in enumerate(data):\n",
    "                    d[columns[index]] = data[index]\n",
    "\n",
    "                my_list.append(d) # append dictionary to list\n",
    "\n",
    "# pretty printing list of dictionaries\n",
    "print(json.dumps(my_list, indent=4))"
   ]
  }
 ],
 "metadata": {
  "kernelspec": {
   "display_name": "Python 3",
   "language": "python",
   "name": "python3"
  },
  "language_info": {
   "codemirror_mode": {
    "name": "ipython",
    "version": 3
   },
   "file_extension": ".py",
   "mimetype": "text/x-python",
   "name": "python",
   "nbconvert_exporter": "python",
   "pygments_lexer": "ipython3",
   "version": "3.7.6"
  }
 },
 "nbformat": 4,
 "nbformat_minor": 4
}
