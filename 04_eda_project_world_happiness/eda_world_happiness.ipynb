{
 "cells": [
  {
   "cell_type": "markdown",
   "metadata": {},
   "source": [
    "# Exploratory Data Analysis of World Happiness\n",
    "\n",
    "- Mutluluk endeksi veri seti [kaggle](https://www.kaggle.com/unsdsn/world-happiness)'dan alinmistir.\n",
    "- Hedef degisken: Happiness Score"
   ]
  },
  {
   "cell_type": "markdown",
   "metadata": {},
   "source": [
    "---\n",
    "## ***Data Cleaning***\n",
    "- Veri tipleri\n",
    "- Eksik Degerler"
   ]
  },
  {
   "cell_type": "code",
   "execution_count": 191,
   "metadata": {},
   "outputs": [],
   "source": [
    "import pandas as pd\n",
    "import numpy as np\n",
    "# grafiksel araclar\n",
    "import matplotlib.pyplot as plt\n",
    "import seaborn as sns\n",
    "sns.set(style=\"whitegrid\")\n",
    "import missingno\n",
    "# json dosyasina okuma yazma icin\n",
    "import json\n",
    "import math\n",
    "# aykiri degerleri giderme icin\n",
    "from scipy.stats.mstats import winsorize\n",
    "# jb test icin\n",
    "from scipy.stats import jarque_bera\n",
    "from scipy.stats import normaltest\n",
    "# ttesti ve anova icin\n",
    "import scipy.stats as stats\n",
    "# pca icin\n",
    "from sklearn.preprocessing import StandardScaler\n",
    "from sklearn.decomposition import PCA\n",
    "# uyarilari dikkate alma\n",
    "import warnings\n",
    "warnings.filterwarnings('ignore')\n",
    "\n",
    "# * ile dosya okumak icin\n",
    "import glob\n",
    "# path islemleri icin\n",
    "import os\n",
    "\n",
    "# pandas varsayilan olarak cok sayida sutun veya satir varsa tumunu gostermez\n",
    "# bu nedenle 100 sutun ve satir gostermesi icin\n",
    "pd.options.display.max_rows = 100\n",
    "pd.options.display.max_columns = 100\n",
    "\n",
    "# virgulden sonra belirli sayida basamak gosterimi icin \n",
    "pd.options.display.float_format = '{:,.3f}'.format\n",
    "\n",
    "# font tanimlamalari\n",
    "title_font = {'family': 'times new roman', 'color': 'darkred','weight': 'bold','size': 14}\n",
    "axis_font  = {'family': 'times new roman', 'color': 'darkred','weight': 'bold','size': 14}"
   ]
  },
  {
   "cell_type": "markdown",
   "metadata": {},
   "source": [
    "- Birden fazla dosyadan tek frame e veri yukleme."
   ]
  },
  {
   "cell_type": "code",
   "execution_count": 192,
   "metadata": {},
   "outputs": [],
   "source": [
    "# veri setini dataframe icerisine yukle\n",
    "# path bulundugumuz dizin\n",
    "path = './'\n",
    "# dizindeki .csv uzantili butun dosyalarin listesi\n",
    "all_files = glob.glob(os.path.join(path, \"*.csv\"))\n",
    "# happiness df olusturulur\n",
    "happiness = pd.DataFrame([])\n",
    "# csv uzantili dosyalar dongu ile happiness df e yuklenir\n",
    "for f in all_files:\n",
    "    df = pd.read_csv(f)\n",
    "    # yil bilgisi de eklenir\n",
    "    df['year'] = int(os.path.basename(f).split('.')[0])\n",
    "    # concat ile uzerine eklenerek df olusturulur\n",
    "    happiness = pd.concat([happiness, df])\n",
    "\n"
   ]
  },
  {
   "cell_type": "markdown",
   "metadata": {},
   "source": [
    "***Veri tiplerinin tespiti***"
   ]
  },
  {
   "cell_type": "code",
   "execution_count": 193,
   "metadata": {},
   "outputs": [
    {
     "name": "stdout",
     "output_type": "stream",
     "text": [
      "<class 'pandas.core.frame.DataFrame'>\n",
      "Int64Index: 782 entries, 0 to 157\n",
      "Data columns (total 31 columns):\n",
      " #   Column                         Non-Null Count  Dtype  \n",
      "---  ------                         --------------  -----  \n",
      " 0   Overall rank                   312 non-null    float64\n",
      " 1   Country or region              312 non-null    object \n",
      " 2   Score                          312 non-null    float64\n",
      " 3   GDP per capita                 312 non-null    float64\n",
      " 4   Social support                 312 non-null    float64\n",
      " 5   Healthy life expectancy        312 non-null    float64\n",
      " 6   Freedom to make life choices   312 non-null    float64\n",
      " 7   Generosity                     782 non-null    float64\n",
      " 8   Perceptions of corruption      311 non-null    float64\n",
      " 9   year                           782 non-null    int64  \n",
      " 10  Country                        470 non-null    object \n",
      " 11  Region                         315 non-null    object \n",
      " 12  Happiness Rank                 315 non-null    float64\n",
      " 13  Happiness Score                315 non-null    float64\n",
      " 14  Lower Confidence Interval      157 non-null    float64\n",
      " 15  Upper Confidence Interval      157 non-null    float64\n",
      " 16  Economy (GDP per Capita)       315 non-null    float64\n",
      " 17  Family                         470 non-null    float64\n",
      " 18  Health (Life Expectancy)       315 non-null    float64\n",
      " 19  Freedom                        470 non-null    float64\n",
      " 20  Trust (Government Corruption)  315 non-null    float64\n",
      " 21  Dystopia Residual              315 non-null    float64\n",
      " 22  Happiness.Rank                 155 non-null    float64\n",
      " 23  Happiness.Score                155 non-null    float64\n",
      " 24  Whisker.high                   155 non-null    float64\n",
      " 25  Whisker.low                    155 non-null    float64\n",
      " 26  Economy..GDP.per.Capita.       155 non-null    float64\n",
      " 27  Health..Life.Expectancy.       155 non-null    float64\n",
      " 28  Trust..Government.Corruption.  155 non-null    float64\n",
      " 29  Dystopia.Residual              155 non-null    float64\n",
      " 30  Standard Error                 158 non-null    float64\n",
      "dtypes: float64(27), int64(1), object(3)\n",
      "memory usage: 195.5+ KB\n"
     ]
    }
   ],
   "source": [
    "happiness.info()"
   ]
  },
  {
   "cell_type": "markdown",
   "metadata": {},
   "source": [
    "***Eksik Degerler***"
   ]
  },
  {
   "cell_type": "markdown",
   "metadata": {},
   "source": [
    "- Sutun bazinda bosluklar bulunmakta, ancak benzer isimde sutun da mevcut, bunlar birlestirilebilir."
   ]
  },
  {
   "cell_type": "code",
   "execution_count": 194,
   "metadata": {},
   "outputs": [
    {
     "data": {
      "text/plain": [
       "Overall rank                    60.102\n",
       "Country or region               60.102\n",
       "Score                           60.102\n",
       "GDP per capita                  60.102\n",
       "Social support                  60.102\n",
       "Healthy life expectancy         60.102\n",
       "Freedom to make life choices    60.102\n",
       "Generosity                       0.000\n",
       "Perceptions of corruption       60.230\n",
       "year                             0.000\n",
       "Country                         39.898\n",
       "Region                          59.719\n",
       "Happiness Rank                  59.719\n",
       "Happiness Score                 59.719\n",
       "Lower Confidence Interval       79.923\n",
       "Upper Confidence Interval       79.923\n",
       "Economy (GDP per Capita)        59.719\n",
       "Family                          39.898\n",
       "Health (Life Expectancy)        59.719\n",
       "Freedom                         39.898\n",
       "Trust (Government Corruption)   59.719\n",
       "Dystopia Residual               59.719\n",
       "Happiness.Rank                  80.179\n",
       "Happiness.Score                 80.179\n",
       "Whisker.high                    80.179\n",
       "Whisker.low                     80.179\n",
       "Economy..GDP.per.Capita.        80.179\n",
       "Health..Life.Expectancy.        80.179\n",
       "Trust..Government.Corruption.   80.179\n",
       "Dystopia.Residual               80.179\n",
       "Standard Error                  79.795\n",
       "dtype: float64"
      ]
     },
     "execution_count": 194,
     "metadata": {},
     "output_type": "execute_result"
    }
   ],
   "source": [
    "happiness.isnull().mean()*100"
   ]
  },
  {
   "cell_type": "markdown",
   "metadata": {},
   "source": [
    "- Her yil icin tamamen bosluksuz ve bosluklu sutunlari tespit ederek benzer isimdeki sutunlari tek bir sutunda toplayacagiz ve gereksiz sutunlari atabilecegiz."
   ]
  },
  {
   "cell_type": "code",
   "execution_count": 195,
   "metadata": {},
   "outputs": [
    {
     "name": "stdout",
     "output_type": "stream",
     "text": [
      "Yil       Tamamen dolu   Tamamen bos  Toplam sutun\n",
      "2015               13           18           31\n",
      "2016               14           17           31\n",
      "2017               13           18           31\n",
      "2018                9           21           30\n",
      "2019               10           21           31\n"
     ]
    }
   ],
   "source": [
    "columns = happiness.columns\n",
    "non_null_columns = {}\n",
    "null_columns = {}\n",
    "years = [2000+i for i in range(15,20)]\n",
    "for year in years:\n",
    "    non_null_columns[year] = []\n",
    "    null_columns[year] = []\n",
    "    for column in columns:\n",
    "        if happiness.loc[happiness['year']==year, column].isnull().mean() == 0:\n",
    "            non_null_columns[year].append(column)\n",
    "        elif happiness.loc[happiness['year']==year, column].isnull().mean() == 1:\n",
    "            null_columns[year].append(column)\n",
    "    non_null_columns[year].sort()\n",
    "    \n",
    "print('Yil'.ljust(8),'Tamamen dolu'.rjust(13), \n",
    "      'Tamamen bos'.rjust(13), 'Toplam sutun'.rjust(13))\n",
    "for year in years:\n",
    "    print('{:<8}{:>13}{:>13}{:>13}'.format(year,\n",
    "                                           len(non_null_columns[year]),\n",
    "                                           len(null_columns[year]),\n",
    "                                           len(non_null_columns[year])+len(null_columns[year])))\n"
   ]
  },
  {
   "cell_type": "markdown",
   "metadata": {},
   "source": [
    "- 2018 yilinda %0.6 bos olan bir sutun var -> 'Perception of corruption'"
   ]
  },
  {
   "cell_type": "code",
   "execution_count": 196,
   "metadata": {},
   "outputs": [
    {
     "data": {
      "text/plain": [
       "Overall rank                      0.000\n",
       "Country or region                 0.000\n",
       "Score                             0.000\n",
       "GDP per capita                    0.000\n",
       "Social support                    0.000\n",
       "Healthy life expectancy           0.000\n",
       "Freedom to make life choices      0.000\n",
       "Generosity                        0.000\n",
       "Perceptions of corruption         0.641\n",
       "year                              0.000\n",
       "Country                         100.000\n",
       "Region                          100.000\n",
       "Happiness Rank                  100.000\n",
       "Happiness Score                 100.000\n",
       "Lower Confidence Interval       100.000\n",
       "Upper Confidence Interval       100.000\n",
       "Economy (GDP per Capita)        100.000\n",
       "Family                          100.000\n",
       "Health (Life Expectancy)        100.000\n",
       "Freedom                         100.000\n",
       "Trust (Government Corruption)   100.000\n",
       "Dystopia Residual               100.000\n",
       "Happiness.Rank                  100.000\n",
       "Happiness.Score                 100.000\n",
       "Whisker.high                    100.000\n",
       "Whisker.low                     100.000\n",
       "Economy..GDP.per.Capita.        100.000\n",
       "Health..Life.Expectancy.        100.000\n",
       "Trust..Government.Corruption.   100.000\n",
       "Dystopia.Residual               100.000\n",
       "Standard Error                  100.000\n",
       "dtype: float64"
      ]
     },
     "execution_count": 196,
     "metadata": {},
     "output_type": "execute_result"
    }
   ],
   "source": [
    "happiness[happiness['year']==2018].isnull().mean()*100"
   ]
  },
  {
   "cell_type": "markdown",
   "metadata": {},
   "source": [
    "- Tekrar eden sutunlari birlestirip, gereksiz sutunlari atalim. "
   ]
  },
  {
   "cell_type": "code",
   "execution_count": 197,
   "metadata": {},
   "outputs": [
    {
     "data": {
      "text/plain": [
       "['Country or region',\n",
       " 'Freedom to make life choices',\n",
       " 'GDP per capita',\n",
       " 'Generosity',\n",
       " 'Healthy life expectancy',\n",
       " 'Overall rank',\n",
       " 'Score',\n",
       " 'Social support',\n",
       " 'year']"
      ]
     },
     "execution_count": 197,
     "metadata": {},
     "output_type": "execute_result"
    }
   ],
   "source": [
    "non_null_columns[2018]"
   ]
  },
  {
   "cell_type": "code",
   "execution_count": 198,
   "metadata": {},
   "outputs": [],
   "source": [
    "happiness.loc[happiness['year'] == 2015,'rank'] = happiness.loc[happiness['year'] == 2015,'Happiness Rank']\n",
    "happiness.loc[happiness['year'] == 2016,'rank'] = happiness.loc[happiness['year'] == 2016,'Happiness Rank']\n",
    "happiness.loc[happiness['year'] == 2017,'rank'] = happiness.loc[happiness['year'] == 2017,'Happiness.Rank']\n",
    "happiness.loc[happiness['year'] == 2018,'rank'] = happiness.loc[happiness['year'] == 2018,'Overall rank']\n",
    "happiness.loc[happiness['year'] == 2019,'rank'] = happiness.loc[happiness['year'] == 2019,'Overall rank']\n",
    "happiness.drop(columns=['Happiness Rank', 'Happiness.Rank', 'Overall rank'], axis=1, inplace=True)"
   ]
  },
  {
   "cell_type": "code",
   "execution_count": 199,
   "metadata": {},
   "outputs": [],
   "source": [
    "happiness.loc[happiness['year'] == 2015,'hapiness_score'] = happiness.loc[happiness['year'] == 2015,'Happiness Score']\n",
    "happiness.loc[happiness['year'] == 2016,'hapiness_score'] = happiness.loc[happiness['year'] == 2016,'Happiness Score']\n",
    "happiness.loc[happiness['year'] == 2017,'hapiness_score'] = happiness.loc[happiness['year'] == 2017,'Happiness.Score']\n",
    "happiness.loc[happiness['year'] == 2018,'hapiness_score'] = happiness.loc[happiness['year'] == 2018,'Score']\n",
    "happiness.loc[happiness['year'] == 2019,'hapiness_score'] = happiness.loc[happiness['year'] == 2019,'Score']\n",
    "happiness.drop(columns=['Happiness Score', 'Happiness.Score', 'Score'], axis=1, inplace=True)"
   ]
  },
  {
   "cell_type": "code",
   "execution_count": 200,
   "metadata": {},
   "outputs": [],
   "source": [
    "happiness.loc[happiness['year'] == 2015,'gdp'] = happiness.loc[happiness['year'] == 2015,'Economy (GDP per Capita)']\n",
    "happiness.loc[happiness['year'] == 2016,'gdp'] = happiness.loc[happiness['year'] == 2016,'Economy (GDP per Capita)']\n",
    "happiness.loc[happiness['year'] == 2017,'gdp'] = happiness.loc[happiness['year'] == 2017,'Economy..GDP.per.Capita.']\n",
    "happiness.loc[happiness['year'] == 2018,'gdp'] = happiness.loc[happiness['year'] == 2018,'GDP per capita']\n",
    "happiness.loc[happiness['year'] == 2019,'gdp'] = happiness.loc[happiness['year'] == 2019,'GDP per capita']\n",
    "happiness.drop(columns=['Economy (GDP per Capita)', 'Economy..GDP.per.Capita.', 'GDP per capita'], axis=1, inplace=True)"
   ]
  },
  {
   "cell_type": "markdown",
   "metadata": {},
   "source": [
    "- 2015-17 arasi Family ile 2018-19 Social Support birlestirildi."
   ]
  },
  {
   "cell_type": "code",
   "execution_count": 201,
   "metadata": {},
   "outputs": [],
   "source": [
    "happiness.loc[happiness['year'] == 2015,'family_social'] = happiness.loc[happiness['year'] == 2015,'Family']\n",
    "happiness.loc[happiness['year'] == 2016,'family_social'] = happiness.loc[happiness['year'] == 2016,'Family']\n",
    "happiness.loc[happiness['year'] == 2017,'family_social'] = happiness.loc[happiness['year'] == 2017,'Family']\n",
    "happiness.loc[happiness['year'] == 2018,'family_social'] = happiness.loc[happiness['year'] == 2018,'Social support']\n",
    "happiness.loc[happiness['year'] == 2019,'family_social'] = happiness.loc[happiness['year'] == 2019,'Social support']\n",
    "happiness.drop(columns=['Family', 'Social support'], axis=1, inplace=True)"
   ]
  },
  {
   "cell_type": "code",
   "execution_count": 202,
   "metadata": {},
   "outputs": [],
   "source": [
    "happiness.loc[happiness['year'] == 2015,'healthy_life'] = happiness.loc[happiness['year'] == 2015,'Health (Life Expectancy)']\n",
    "happiness.loc[happiness['year'] == 2016,'healthy_life'] = happiness.loc[happiness['year'] == 2016,'Health (Life Expectancy)']\n",
    "happiness.loc[happiness['year'] == 2017,'healthy_life'] = happiness.loc[happiness['year'] == 2017,'Health..Life.Expectancy.']\n",
    "happiness.loc[happiness['year'] == 2018,'healthy_life'] = happiness.loc[happiness['year'] == 2018,'Healthy life expectancy']\n",
    "happiness.loc[happiness['year'] == 2019,'healthy_life'] = happiness.loc[happiness['year'] == 2019,'Healthy life expectancy']\n",
    "happiness.drop(columns=['Health (Life Expectancy)', 'Health..Life.Expectancy.', 'Healthy life expectancy'], axis=1, inplace=True)"
   ]
  },
  {
   "cell_type": "code",
   "execution_count": 203,
   "metadata": {},
   "outputs": [],
   "source": [
    "happiness.loc[happiness['year'] == 2015,'freedom'] = happiness.loc[happiness['year'] == 2015,'Freedom']\n",
    "happiness.loc[happiness['year'] == 2016,'freedom'] = happiness.loc[happiness['year'] == 2016,'Freedom']\n",
    "happiness.loc[happiness['year'] == 2017,'freedom'] = happiness.loc[happiness['year'] == 2017,'Freedom']\n",
    "happiness.loc[happiness['year'] == 2018,'freedom'] = happiness.loc[happiness['year'] == 2018,'Freedom to make life choices']\n",
    "happiness.loc[happiness['year'] == 2019,'freedom'] = happiness.loc[happiness['year'] == 2019,'Freedom to make life choices']\n",
    "happiness.drop(columns=['Freedom', 'Freedom to make life choices'], axis=1, inplace=True)"
   ]
  },
  {
   "cell_type": "code",
   "execution_count": 204,
   "metadata": {},
   "outputs": [],
   "source": [
    "happiness.loc[happiness['year'] == 2015,'corruption'] = happiness.loc[happiness['year'] == 2015,'Trust (Government Corruption)']\n",
    "happiness.loc[happiness['year'] == 2016,'corruption'] = happiness.loc[happiness['year'] == 2016,'Trust (Government Corruption)']\n",
    "happiness.loc[happiness['year'] == 2017,'corruption'] = happiness.loc[happiness['year'] == 2017,'Trust..Government.Corruption.']\n",
    "happiness.loc[happiness['year'] == 2018,'corruption'] = happiness.loc[happiness['year'] == 2018,'Perceptions of corruption']\n",
    "happiness.loc[happiness['year'] == 2019,'corruption'] = happiness.loc[happiness['year'] == 2019,'Perceptions of corruption']\n",
    "happiness.drop(columns=['Trust (Government Corruption)', 'Trust..Government.Corruption.', 'Perceptions of corruption'], axis=1, inplace=True)"
   ]
  },
  {
   "cell_type": "code",
   "execution_count": 205,
   "metadata": {},
   "outputs": [
    {
     "data": {
      "text/plain": [
       "array(['Finland', 'Norway', 'Denmark', 'Iceland', 'Switzerland',\n",
       "       'Netherlands', 'Canada', 'New Zealand', 'Sweden', 'Australia',\n",
       "       'United Kingdom', 'Austria', 'Costa Rica', 'Ireland', 'Germany',\n",
       "       'Belgium', 'Luxembourg', 'United States', 'Israel',\n",
       "       'United Arab Emirates', 'Czech Republic', 'Malta', 'France',\n",
       "       'Mexico', 'Chile', 'Taiwan', 'Panama', 'Brazil', 'Argentina',\n",
       "       'Guatemala', 'Uruguay', 'Qatar', 'Saudi Arabia', 'Singapore',\n",
       "       'Malaysia', 'Spain', 'Colombia', 'Trinidad & Tobago', 'Slovakia',\n",
       "       'El Salvador', 'Nicaragua', 'Poland', 'Bahrain', 'Uzbekistan',\n",
       "       'Kuwait', 'Thailand', 'Italy', 'Ecuador', 'Belize', 'Lithuania',\n",
       "       'Slovenia', 'Romania', 'Latvia', 'Japan', 'Mauritius', 'Jamaica',\n",
       "       'South Korea', 'Northern Cyprus', 'Russia', 'Kazakhstan', 'Cyprus',\n",
       "       'Bolivia', 'Estonia', 'Paraguay', 'Peru', 'Kosovo', 'Moldova',\n",
       "       'Turkmenistan', 'Hungary', 'Libya', 'Philippines', 'Honduras',\n",
       "       'Belarus', 'Turkey', 'Pakistan', 'Hong Kong', 'Portugal', 'Serbia',\n",
       "       'Greece', 'Lebanon', 'Montenegro', 'Croatia', 'Dominican Republic',\n",
       "       'Algeria', 'Morocco', 'China', 'Azerbaijan', 'Tajikistan',\n",
       "       'Macedonia', 'Jordan', 'Nigeria', 'Kyrgyzstan',\n",
       "       'Bosnia and Herzegovina', 'Mongolia', 'Vietnam', 'Indonesia',\n",
       "       'Bhutan', 'Somalia', 'Cameroon', 'Bulgaria', 'Nepal', 'Venezuela',\n",
       "       'Gabon', 'Palestinian Territories', 'South Africa', 'Iran',\n",
       "       'Ivory Coast', 'Ghana', 'Senegal', 'Laos', 'Tunisia', 'Albania',\n",
       "       'Sierra Leone', 'Congo (Brazzaville)', 'Bangladesh', 'Sri Lanka',\n",
       "       'Iraq', 'Mali', 'Namibia', 'Cambodia', 'Burkina Faso', 'Egypt',\n",
       "       'Mozambique', 'Kenya', 'Zambia', 'Mauritania', 'Ethiopia',\n",
       "       'Georgia', 'Armenia', 'Myanmar', 'Chad', 'Congo (Kinshasa)',\n",
       "       'India', 'Niger', 'Uganda', 'Benin', 'Sudan', 'Ukraine', 'Togo',\n",
       "       'Guinea', 'Lesotho', 'Angola', 'Madagascar', 'Zimbabwe',\n",
       "       'Afghanistan', 'Botswana', 'Malawi', 'Haiti', 'Liberia', 'Syria',\n",
       "       'Rwanda', 'Yemen', 'Tanzania', 'South Sudan',\n",
       "       'Central African Republic', 'Burundi', nan, 'North Macedonia',\n",
       "       'Gambia', 'Swaziland', 'Comoros'], dtype=object)"
      ]
     },
     "execution_count": 205,
     "metadata": {},
     "output_type": "execute_result"
    }
   ],
   "source": [
    "happiness['Country or region'].unique()"
   ]
  },
  {
   "cell_type": "markdown",
   "metadata": {},
   "source": [
    "- ```Country or region``` degeri aslinda ```Country``` oldugundan iki sutunu birlestirdik ve country or region sutununu attik."
   ]
  },
  {
   "cell_type": "code",
   "execution_count": 206,
   "metadata": {},
   "outputs": [],
   "source": [
    "happiness.loc[happiness['year'] == 2018,'Country'] = happiness.loc[happiness['year'] == 2018,'Country or region']\n",
    "happiness.loc[happiness['year'] == 2019,'Country'] = happiness.loc[happiness['year'] == 2019,'Country or region']\n",
    "happiness.drop(columns=['Country or region'], axis=1, inplace=True)"
   ]
  },
  {
   "cell_type": "code",
   "execution_count": 207,
   "metadata": {},
   "outputs": [
    {
     "data": {
      "text/plain": [
       "Generosity                   0.000\n",
       "year                         0.000\n",
       "Country                      0.000\n",
       "Region                      59.719\n",
       "Lower Confidence Interval   79.923\n",
       "Upper Confidence Interval   79.923\n",
       "Dystopia Residual           59.719\n",
       "Whisker.high                80.179\n",
       "Whisker.low                 80.179\n",
       "Dystopia.Residual           80.179\n",
       "Standard Error              79.795\n",
       "rank                         0.000\n",
       "hapiness_score               0.000\n",
       "gdp                          0.000\n",
       "family_social                0.000\n",
       "healthy_life                 0.000\n",
       "freedom                      0.000\n",
       "corruption                   0.128\n",
       "dtype: float64"
      ]
     },
     "execution_count": 207,
     "metadata": {},
     "output_type": "execute_result"
    }
   ],
   "source": [
    "happiness.isnull().mean()*100"
   ]
  },
  {
   "cell_type": "markdown",
   "metadata": {},
   "source": [
    "- Gereksiz gordugumuz sutunlari sildik."
   ]
  },
  {
   "cell_type": "code",
   "execution_count": 208,
   "metadata": {},
   "outputs": [],
   "source": [
    "columns_to_rm = ['Lower Confidence Interval', 'Upper Confidence Interval',\n",
    "                     'Dystopia Residual', 'Dystopia.Residual', \n",
    "                     'Whisker.high', 'Whisker.low', 'Standard Error']\n",
    "happiness.drop(columns=columns_to_rm, axis=1, inplace=True)"
   ]
  },
  {
   "cell_type": "markdown",
   "metadata": {},
   "source": [
    "- Sutunlari yeniden isimlendirdik ve siraladik."
   ]
  },
  {
   "cell_type": "code",
   "execution_count": 209,
   "metadata": {},
   "outputs": [],
   "source": [
    "rename_dict = {'Generosity': 'generosity', 'Country': 'country', 'Region': 'region' }\n",
    "happiness.rename(columns=rename_dict, inplace=True)\n",
    "\n",
    "reordered_columns = ['country', 'region', 'hapiness_score',\n",
    "                     'rank', 'gdp', 'healthy_life', 'family_social', \n",
    "                     'freedom', 'corruption', 'generosity', 'year']\n",
    "happiness = happiness[reordered_columns]"
   ]
  },
  {
   "cell_type": "code",
   "execution_count": 210,
   "metadata": {},
   "outputs": [
    {
     "data": {
      "text/plain": [
       "country           0.000\n",
       "region           59.719\n",
       "hapiness_score    0.000\n",
       "rank              0.000\n",
       "gdp               0.000\n",
       "healthy_life      0.000\n",
       "family_social     0.000\n",
       "freedom           0.000\n",
       "corruption        0.128\n",
       "generosity        0.000\n",
       "year              0.000\n",
       "dtype: float64"
      ]
     },
     "execution_count": 210,
     "metadata": {},
     "output_type": "execute_result"
    }
   ],
   "source": [
    "happiness.isnull().mean()*100"
   ]
  },
  {
   "cell_type": "markdown",
   "metadata": {},
   "source": [
    "- Bos sutunlara yil bazinda bakalim."
   ]
  },
  {
   "cell_type": "code",
   "execution_count": 211,
   "metadata": {},
   "outputs": [
    {
     "name": "stdout",
     "output_type": "stream",
     "text": [
      "2015\n",
      "region            0.0\n",
      "corruption        0.0\n",
      "2016\n",
      "region            0.0\n",
      "corruption        0.0\n",
      "2017\n",
      "region            100.0\n",
      "corruption        0.0\n",
      "2018\n",
      "region            100.0\n",
      "corruption        0.641025641025641\n",
      "2019\n",
      "region            100.0\n",
      "corruption        0.0\n"
     ]
    }
   ],
   "source": [
    "columns = ['region', 'corruption']\n",
    "for year in years:\n",
    "    print(year)\n",
    "    for column in columns:\n",
    "        print('{:<18}'.format(column), end='')\n",
    "        print(happiness.loc[happiness['year']==year,column].isnull().mean()*100)"
   ]
  },
  {
   "cell_type": "markdown",
   "metadata": {},
   "source": [
    "- 2017-19 arasi region degerleri bos, bunlari 2015-16 country-region degerleri ile karsilastirarak doldurabiliriz.\n",
    "- Ayrica 2018 yilina ait eksik corruption (%0.6) degerini de dolduracagiz."
   ]
  }
 ],
 "metadata": {
  "kernelspec": {
   "display_name": "Python 3",
   "language": "python",
   "name": "python3"
  },
  "language_info": {
   "codemirror_mode": {
    "name": "ipython",
    "version": 3
   },
   "file_extension": ".py",
   "mimetype": "text/x-python",
   "name": "python",
   "nbconvert_exporter": "python",
   "pygments_lexer": "ipython3",
   "version": "3.7.6"
  }
 },
 "nbformat": 4,
 "nbformat_minor": 4
}
