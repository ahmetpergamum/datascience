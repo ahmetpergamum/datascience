{
 "cells": [
  {
   "cell_type": "markdown",
   "metadata": {},
   "source": [
    "# Pyton'a Giris\n",
    "## Koşullu İfadeler (Conditional Statements) ve Döngüler (Loops)"
   ]
  },
  {
   "cell_type": "markdown",
   "metadata": {},
   "source": [
    "### Q1\n",
    "Kullanıcıdan Santigrat ya da Fahrenheit olarak sıcaklık değerini alacak ve diğer sıcaklık birimine çevirecek bir kod yazın.\n",
    "Dönüşüm için C = (5/9) * (F - 32) formülünü kullanabilirsiniz.\n",
    " Örnek : \"40C\" --> \"104F\"\n",
    "         \"52F\" --> \"11.1C\""
   ]
  },
  {
   "cell_type": "code",
   "execution_count": 1,
   "metadata": {},
   "outputs": [
    {
     "name": "stdin",
     "output_type": "stream",
     "text": [
      "sicaklik degeri giriniz : 23F\n"
     ]
    },
    {
     "name": "stdout",
     "output_type": "stream",
     "text": [
      "sicaklik -5.00C\n"
     ]
    }
   ],
   "source": [
    "temp = input('sicaklik degeri giriniz :')\n",
    "\n",
    "if temp[-1] == 'F':\n",
    "    temp = int(temp[:-1])\n",
    "    temp = (5/9)*(temp-32)\n",
    "    print('sicaklik {:.2f}C'.format(temp))\n",
    "elif temp[-1] == 'C':\n",
    "    temp = int(temp[:-1])\n",
    "    temp = (9/5)*temp+32\n",
    "    print('sicaklik {:.1f}F'.format(temp))\n",
    "else:\n",
    "    print('uygun bir deger giriniz. Ornek: 30C 108F')\n",
    "    "
   ]
  },
  {
   "cell_type": "markdown",
   "metadata": {},
   "source": [
    "### Q2\n",
    "Kullanıcının girdiği kelimeyi ters çeviren bir kod yazınız.\n",
    " Örnek : \"otobüs\" --> \"süboto"
   ]
  },
  {
   "cell_type": "code",
   "execution_count": 2,
   "metadata": {},
   "outputs": [
    {
     "name": "stdin",
     "output_type": "stream",
     "text": [
      "bir kelime giriniz :  californication\n"
     ]
    },
    {
     "name": "stdout",
     "output_type": "stream",
     "text": [
      "kelimenin tersi:  noitacinrofilac\n"
     ]
    }
   ],
   "source": [
    "str = input('bir kelime giriniz : ')\n",
    "rev = ''\n",
    "for i in range(len(str)-1,0,-1):\n",
    "    rev += str[i]\n",
    "rev += str[0]\n",
    "print('kelimenin tersi: ',rev)"
   ]
  },
  {
   "cell_type": "markdown",
   "metadata": {},
   "source": [
    "### Q3\n",
    "1'den 50'ye kadar olan Fibonacci sayılarından oluşan bir liste oluşturun. \n",
    "İlk iki Fibonacci sayısı 1'dir. Sonraki sayılar, önceki iki sayının toplamıdır."
   ]
  },
  {
   "cell_type": "code",
   "execution_count": 3,
   "metadata": {},
   "outputs": [
    {
     "name": "stdout",
     "output_type": "stream",
     "text": [
      "1 ile 50 arasindaki fibonacci sayilari dizisi:\n",
      "[1, 1, 2, 3, 5, 8, 13, 21, 34]\n"
     ]
    }
   ],
   "source": [
    "fibo = [1,1]\n",
    "\n",
    "while (fibo[-1]+fibo[-2]) < 50:\n",
    "    fibo.append(fibo[-1]+fibo[-2])    \n",
    "print('1 ile 50 arasindaki fibonacci sayilari dizisi:')\n",
    "print(fibo)"
   ]
  },
  {
   "cell_type": "markdown",
   "metadata": {},
   "source": [
    "### Q4\n",
    "Girilen bir sayı için çarpım tablosunu yazdırın."
   ]
  },
  {
   "cell_type": "code",
   "execution_count": 4,
   "metadata": {},
   "outputs": [
    {
     "name": "stdin",
     "output_type": "stream",
     "text": [
      "sayi giriniz :  8\n"
     ]
    },
    {
     "name": "stdout",
     "output_type": "stream",
     "text": [
      "8 x 1 = 8\n",
      "8 x 2 = 16\n",
      "8 x 3 = 24\n",
      "8 x 4 = 32\n",
      "8 x 5 = 40\n",
      "8 x 6 = 48\n",
      "8 x 7 = 56\n",
      "8 x 8 = 64\n"
     ]
    }
   ],
   "source": [
    "num = int(input('sayi giriniz : '))\n",
    "\n",
    "for i in range(1,num+1):\n",
    "    print('{} x {} = {}'.format(num, i, num*i))"
   ]
  },
  {
   "cell_type": "markdown",
   "metadata": {},
   "source": [
    "### Q5\n",
    "List comprehension kullanarak, 1'den 20'ye kadar tek sayıların karesini, \n",
    "çift sayıların küpünü içeren bir liste oluşturun."
   ]
  },
  {
   "cell_type": "code",
   "execution_count": 5,
   "metadata": {},
   "outputs": [
    {
     "name": "stdout",
     "output_type": "stream",
     "text": [
      "[1, 4, 27, 16, 125, 36, 343, 64, 729, 100, 1331, 144, 2197, 196, 3375, 256, 4913, 324, 6859, 400]\n"
     ]
    }
   ],
   "source": [
    "mylist = [ i**2 if i%2 == 0 else i**3  for i in range(1,21)]\n",
    "print(mylist)"
   ]
  }
 ],
 "metadata": {
  "kernelspec": {
   "display_name": "Python 3",
   "language": "python",
   "name": "python3"
  },
  "language_info": {
   "codemirror_mode": {
    "name": "ipython",
    "version": 3
   },
   "file_extension": ".py",
   "mimetype": "text/x-python",
   "name": "python",
   "nbconvert_exporter": "python",
   "pygments_lexer": "ipython3",
   "version": "3.7.5"
  }
 },
 "nbformat": 4,
 "nbformat_minor": 4
}
