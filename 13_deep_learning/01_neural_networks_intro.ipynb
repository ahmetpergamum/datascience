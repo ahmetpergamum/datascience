{
 "cells": [
  {
   "cell_type": "markdown",
   "metadata": {},
   "source": [
    "# ***Yapay Sinir Aglari***\n",
    "\n",
    "## Q1\n",
    "\n",
    "Bir sinir ağında her biri 512 nöronlu üç katmanımız varsa, kaç parametreyi tahmin etmemiz gerekir?\n",
    "\n",
    "$$ \n",
    "3 * (512 * 512) = 786432\n",
    "$$"
   ]
  },
  {
   "cell_type": "markdown",
   "metadata": {},
   "source": [
    "## Q2\n",
    "XOR fonksiyonu yalnızca bağımsız değişkenlerden biri doğru, diğeri yanlış olduğunda doğru değeri vermektedir. Aksi takdirde, her zaman yanlış elde edilir. Bu, aşağıdaki tabloyla gösterilebilir:\n",
    "\n",
    "$x_1$ : 0 1 0 1\n",
    "\n",
    "$x_2$ : 0 0 1 1\n",
    "\n",
    "$x_1\\oplus x_2$ : 0 1 1 0\n",
    "\n",
    "Bu işlevi tek bir tabaka (layer) kullanarak gerçekleştirmenin mümkün olduğunu düşünüyor musunuz? Yoksa birkaç birimden oluşan bir tabaka ile mi yapılabilir?\n",
    "\n",
    "- XOR islevini tek bir tabakada gerceklestirmek mumkundur."
   ]
  },
  {
   "cell_type": "markdown",
   "metadata": {},
   "source": [
    "## Q3 \n",
    "\n",
    "Aşağıdaki ANN'nin çıktı değerini ReLU aktivasyon fonksiyonu kullanarak hesaplayın. (y=?)\n",
    "\n",
    "![alt text](./data/01_ann_q3.png \"ann\")\n"
   ]
  }
 ],
 "metadata": {
  "kernelspec": {
   "display_name": "Python 3",
   "language": "python",
   "name": "python3"
  },
  "language_info": {
   "codemirror_mode": {
    "name": "ipython",
    "version": 3
   },
   "file_extension": ".py",
   "mimetype": "text/x-python",
   "name": "python",
   "nbconvert_exporter": "python",
   "pygments_lexer": "ipython3",
   "version": "3.7.6"
  }
 },
 "nbformat": 4,
 "nbformat_minor": 4
}
