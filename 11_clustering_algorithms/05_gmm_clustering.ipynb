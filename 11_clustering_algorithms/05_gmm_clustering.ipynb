{
 "cells": [
  {
   "cell_type": "markdown",
   "metadata": {},
   "source": [
    "## ***GMM Kumeleme Algoritmasi***\n",
    "\n",
    "Bu ödevde, UC Irvine Machine Learning Repository'de bulunan [kalp hastalığı veri seti](http://archive.ics.uci.edu/ml/datasets/Heart+Disease)yle çalışacaksınız.\n",
    "- n_components = 2 olarak ayarlayarak kalp hastalığı verilerine GMM uygulayın. Çözümünüz için ARI ve siluet skorlarına bakın ve önceki derslerde k-means ve hiyerarşik kümeleme çözümleriyle karşılaştırın. Hangi algoritma daha iyi performans gösteriyor?\n",
    "- Scikit-learn ile GMM uygulanırken kullanılan parametrelerden biri de covariance_type'dir. Bu parametre, kullanılacak kovaryans parametrelerinin türünü belirler. Özellikle, belirtebileceğiniz dört tür vardır:\n",
    "    - full: Bu varsayılandır. Her bileşenin kendi genel kovaryans matrisi vardır.\n",
    "    - tied: Tüm bileşenler aynı genel kovaryans matrisini paylaşır.\n",
    "    - diag: Her bir bileşenin kendi çapraz kovaryans matrisi vardır.\n",
    "    - spherical: Her bir bileşenin kendine ait tek bir varyansı vardır.\n",
    "- Bunları deneyin. Hangisi ARI ve siluet skorları açısından daha iyi performans gösteriyor?"
   ]
  },
  {
   "cell_type": "code",
   "execution_count": 1,
   "metadata": {},
   "outputs": [],
   "source": [
    "import numpy as np\n",
    "import pandas as pd\n",
    "import matplotlib.pyplot as plt\n",
    "#from matplotlib.patches import Ellipse\n",
    "from sklearn.preprocessing import StandardScaler\n",
    "from sklearn.mixture import GaussianMixture\n",
    "from sklearn.decomposition import PCA\n",
    "from sklearn import datasets, metrics"
   ]
  },
  {
   "cell_type": "markdown",
   "metadata": {},
   "source": [
    "- Veri seti kümeleme algoritmasına geçmeden önce bazı işlemlere ihtiyaç duymaktadır.\n",
    "\n",
    "#### Preprocessing"
   ]
  },
  {
   "cell_type": "code",
   "execution_count": 2,
   "metadata": {},
   "outputs": [],
   "source": [
    "# birden fazla dosyayi okuma\n",
    "import glob\n",
    "\n",
    "path = r'./data' # use your path\n",
    "all_files = glob.glob(path + \"/processed*.data\")\n",
    "\n",
    "li = []\n",
    "\n",
    "for filename in all_files:\n",
    "    df = pd.read_csv(filename,header=0)\n",
    "    # sutun isimlerini ayni yapiyoruz ki concat etmede sutun sayimiz artmasin\n",
    "    # farkli isimdeki sutunlar olusmasin\n",
    "    df.columns = [x for x in range(14)]\n",
    "    li.append(df)\n",
    "\n",
    "heart = pd.concat(li, axis=0, ignore_index=True)"
   ]
  },
  {
   "cell_type": "code",
   "execution_count": 3,
   "metadata": {},
   "outputs": [
    {
     "data": {
      "text/html": [
       "<div>\n",
       "<style scoped>\n",
       "    .dataframe tbody tr th:only-of-type {\n",
       "        vertical-align: middle;\n",
       "    }\n",
       "\n",
       "    .dataframe tbody tr th {\n",
       "        vertical-align: top;\n",
       "    }\n",
       "\n",
       "    .dataframe thead th {\n",
       "        text-align: right;\n",
       "    }\n",
       "</style>\n",
       "<table border=\"1\" class=\"dataframe\">\n",
       "  <thead>\n",
       "    <tr style=\"text-align: right;\">\n",
       "      <th></th>\n",
       "      <th>0</th>\n",
       "      <th>1</th>\n",
       "      <th>2</th>\n",
       "      <th>3</th>\n",
       "      <th>4</th>\n",
       "      <th>5</th>\n",
       "      <th>6</th>\n",
       "      <th>7</th>\n",
       "      <th>8</th>\n",
       "      <th>9</th>\n",
       "      <th>10</th>\n",
       "      <th>11</th>\n",
       "      <th>12</th>\n",
       "      <th>13</th>\n",
       "    </tr>\n",
       "  </thead>\n",
       "  <tbody>\n",
       "    <tr>\n",
       "      <th>0</th>\n",
       "      <td>34.0</td>\n",
       "      <td>1.0</td>\n",
       "      <td>4.0</td>\n",
       "      <td>115</td>\n",
       "      <td>0</td>\n",
       "      <td>?</td>\n",
       "      <td>?</td>\n",
       "      <td>154</td>\n",
       "      <td>0</td>\n",
       "      <td>.2</td>\n",
       "      <td>1</td>\n",
       "      <td>?</td>\n",
       "      <td>?</td>\n",
       "      <td>1</td>\n",
       "    </tr>\n",
       "    <tr>\n",
       "      <th>1</th>\n",
       "      <td>35.0</td>\n",
       "      <td>1.0</td>\n",
       "      <td>4.0</td>\n",
       "      <td>?</td>\n",
       "      <td>0</td>\n",
       "      <td>?</td>\n",
       "      <td>0</td>\n",
       "      <td>130</td>\n",
       "      <td>1</td>\n",
       "      <td>?</td>\n",
       "      <td>?</td>\n",
       "      <td>?</td>\n",
       "      <td>7</td>\n",
       "      <td>3</td>\n",
       "    </tr>\n",
       "    <tr>\n",
       "      <th>2</th>\n",
       "      <td>36.0</td>\n",
       "      <td>1.0</td>\n",
       "      <td>4.0</td>\n",
       "      <td>110</td>\n",
       "      <td>0</td>\n",
       "      <td>?</td>\n",
       "      <td>0</td>\n",
       "      <td>125</td>\n",
       "      <td>1</td>\n",
       "      <td>1</td>\n",
       "      <td>2</td>\n",
       "      <td>?</td>\n",
       "      <td>6</td>\n",
       "      <td>1</td>\n",
       "    </tr>\n",
       "    <tr>\n",
       "      <th>3</th>\n",
       "      <td>38.0</td>\n",
       "      <td>0.0</td>\n",
       "      <td>4.0</td>\n",
       "      <td>105</td>\n",
       "      <td>0</td>\n",
       "      <td>?</td>\n",
       "      <td>0</td>\n",
       "      <td>166</td>\n",
       "      <td>0</td>\n",
       "      <td>2.8</td>\n",
       "      <td>1</td>\n",
       "      <td>?</td>\n",
       "      <td>?</td>\n",
       "      <td>2</td>\n",
       "    </tr>\n",
       "    <tr>\n",
       "      <th>4</th>\n",
       "      <td>38.0</td>\n",
       "      <td>0.0</td>\n",
       "      <td>4.0</td>\n",
       "      <td>110</td>\n",
       "      <td>0</td>\n",
       "      <td>0</td>\n",
       "      <td>0</td>\n",
       "      <td>156</td>\n",
       "      <td>0</td>\n",
       "      <td>0</td>\n",
       "      <td>2</td>\n",
       "      <td>?</td>\n",
       "      <td>3</td>\n",
       "      <td>1</td>\n",
       "    </tr>\n",
       "    <tr>\n",
       "      <th>...</th>\n",
       "      <td>...</td>\n",
       "      <td>...</td>\n",
       "      <td>...</td>\n",
       "      <td>...</td>\n",
       "      <td>...</td>\n",
       "      <td>...</td>\n",
       "      <td>...</td>\n",
       "      <td>...</td>\n",
       "      <td>...</td>\n",
       "      <td>...</td>\n",
       "      <td>...</td>\n",
       "      <td>...</td>\n",
       "      <td>...</td>\n",
       "      <td>...</td>\n",
       "    </tr>\n",
       "    <tr>\n",
       "      <th>911</th>\n",
       "      <td>45.0</td>\n",
       "      <td>1.0</td>\n",
       "      <td>1.0</td>\n",
       "      <td>110</td>\n",
       "      <td>264</td>\n",
       "      <td>0</td>\n",
       "      <td>0</td>\n",
       "      <td>132</td>\n",
       "      <td>0</td>\n",
       "      <td>1.2</td>\n",
       "      <td>2</td>\n",
       "      <td>0.0</td>\n",
       "      <td>7.0</td>\n",
       "      <td>1</td>\n",
       "    </tr>\n",
       "    <tr>\n",
       "      <th>912</th>\n",
       "      <td>68.0</td>\n",
       "      <td>1.0</td>\n",
       "      <td>4.0</td>\n",
       "      <td>144</td>\n",
       "      <td>193</td>\n",
       "      <td>1</td>\n",
       "      <td>0</td>\n",
       "      <td>141</td>\n",
       "      <td>0</td>\n",
       "      <td>3.4</td>\n",
       "      <td>2</td>\n",
       "      <td>2.0</td>\n",
       "      <td>7.0</td>\n",
       "      <td>2</td>\n",
       "    </tr>\n",
       "    <tr>\n",
       "      <th>913</th>\n",
       "      <td>57.0</td>\n",
       "      <td>1.0</td>\n",
       "      <td>4.0</td>\n",
       "      <td>130</td>\n",
       "      <td>131</td>\n",
       "      <td>0</td>\n",
       "      <td>0</td>\n",
       "      <td>115</td>\n",
       "      <td>1</td>\n",
       "      <td>1.2</td>\n",
       "      <td>2</td>\n",
       "      <td>1.0</td>\n",
       "      <td>7.0</td>\n",
       "      <td>3</td>\n",
       "    </tr>\n",
       "    <tr>\n",
       "      <th>914</th>\n",
       "      <td>57.0</td>\n",
       "      <td>0.0</td>\n",
       "      <td>2.0</td>\n",
       "      <td>130</td>\n",
       "      <td>236</td>\n",
       "      <td>0</td>\n",
       "      <td>2</td>\n",
       "      <td>174</td>\n",
       "      <td>0</td>\n",
       "      <td>0</td>\n",
       "      <td>2</td>\n",
       "      <td>1.0</td>\n",
       "      <td>3.0</td>\n",
       "      <td>1</td>\n",
       "    </tr>\n",
       "    <tr>\n",
       "      <th>915</th>\n",
       "      <td>38.0</td>\n",
       "      <td>1.0</td>\n",
       "      <td>3.0</td>\n",
       "      <td>138</td>\n",
       "      <td>175</td>\n",
       "      <td>0</td>\n",
       "      <td>0</td>\n",
       "      <td>173</td>\n",
       "      <td>0</td>\n",
       "      <td>0</td>\n",
       "      <td>1</td>\n",
       "      <td>?</td>\n",
       "      <td>3.0</td>\n",
       "      <td>0</td>\n",
       "    </tr>\n",
       "  </tbody>\n",
       "</table>\n",
       "<p>916 rows × 14 columns</p>\n",
       "</div>"
      ],
      "text/plain": [
       "       0    1    2    3    4  5  6    7  8    9  10   11   12  13\n",
       "0    34.0  1.0  4.0  115    0  ?  ?  154  0   .2  1    ?    ?   1\n",
       "1    35.0  1.0  4.0    ?    0  ?  0  130  1    ?  ?    ?    7   3\n",
       "2    36.0  1.0  4.0  110    0  ?  0  125  1    1  2    ?    6   1\n",
       "3    38.0  0.0  4.0  105    0  ?  0  166  0  2.8  1    ?    ?   2\n",
       "4    38.0  0.0  4.0  110    0  0  0  156  0    0  2    ?    3   1\n",
       "..    ...  ...  ...  ...  ... .. ..  ... ..  ... ..  ...  ...  ..\n",
       "911  45.0  1.0  1.0  110  264  0  0  132  0  1.2  2  0.0  7.0   1\n",
       "912  68.0  1.0  4.0  144  193  1  0  141  0  3.4  2  2.0  7.0   2\n",
       "913  57.0  1.0  4.0  130  131  0  0  115  1  1.2  2  1.0  7.0   3\n",
       "914  57.0  0.0  2.0  130  236  0  2  174  0    0  2  1.0  3.0   1\n",
       "915  38.0  1.0  3.0  138  175  0  0  173  0    0  1    ?  3.0   0\n",
       "\n",
       "[916 rows x 14 columns]"
      ]
     },
     "execution_count": 3,
     "metadata": {},
     "output_type": "execute_result"
    }
   ],
   "source": [
    "heart"
   ]
  },
  {
   "cell_type": "markdown",
   "metadata": {},
   "source": [
    "- Burada, X sizin özellikleriniz olacak ve y içinde etiketleri tutuyoruz. Y, 1'e eşitse, o zaman buna karşılık gelen hastanın kalp hastalığı olduğunu ve y'nin 0'a eşit olması durumunda, hastanın kalp hastalığı olmadığı anlaşılacaktır."
   ]
  },
  {
   "cell_type": "code",
   "execution_count": 4,
   "metadata": {},
   "outputs": [],
   "source": [
    "# Veri setini kullanmadan önce bazı ön işlemler yapmanız gerekiyor:\n",
    "\n",
    "# Define the features and the outcome\n",
    "X = heart.iloc[:, :13]\n",
    "y = heart.iloc[:, 13]\n",
    "\n",
    "# Replace missing values (marked by ?) with a 0\n",
    "X = X.replace(to_replace='?', value=0)\n",
    "\n",
    "# Binarize y so that 1 means heart disease diagnosis and 0 means no diagnosis\n",
    "y = np.where(y > 0, 0, 1)"
   ]
  },
  {
   "cell_type": "markdown",
   "metadata": {},
   "source": [
    "- Kümeleme algoritmalalarının çoğu değişkenlerin ölçeklerine duyarlı olduklarından değişkenleri standartlaştırıyoruz"
   ]
  },
  {
   "cell_type": "code",
   "execution_count": 5,
   "metadata": {},
   "outputs": [],
   "source": [
    "# kümeleme algoritmalalarının çoğu değişkenlerin ölçeklerine duyarlı olduklarından \n",
    "# değişkenleri standartlaştırıyoruz\n",
    "scaler = StandardScaler()\n",
    "X_std = scaler.fit_transform(X)"
   ]
  },
  {
   "cell_type": "markdown",
   "metadata": {},
   "source": [
    "---\n",
    "#### ***Clustering***\n",
    "- n_components=2 secilerek kumeleme olusturulur ve diger yontemlerle karsilastirilir. "
   ]
  },
  {
   "cell_type": "code",
   "execution_count": 6,
   "metadata": {},
   "outputs": [],
   "source": [
    "# epsilon ve min samples parametreleri ile kumeleme nesnesi olustur\n",
    "gmm_cluster = GaussianMixture(n_components=2, random_state=123)\n",
    "\n",
    "clusters = gmm_cluster.fit_predict(X_std)"
   ]
  },
  {
   "cell_type": "code",
   "execution_count": 13,
   "metadata": {},
   "outputs": [
    {
     "name": "stdout",
     "output_type": "stream",
     "text": [
      "GMM çözümü   :\n",
      "ARI skoru    : 0.180288\n",
      "Siluet skoru : 0.135165\n"
     ]
    }
   ],
   "source": [
    "print('GMM çözümü   :')\n",
    "print('ARI skoru    : {:.6f}'\n",
    "      .format(metrics.adjusted_rand_score(y, clusters)))\n",
    "print(\"Siluet skoru : {:.6f}\"\n",
    "      .format(metrics.silhouette_score(X_std, clusters, metric='euclidean')))"
   ]
  },
  {
   "cell_type": "markdown",
   "metadata": {},
   "source": [
    "- K-ortalama algoritmasi ile skorlar => Bknz:[k-means](https://github.com/ahmetpergamum/datascience/blob/master/11_clustering_algorithms/02_k-means_performance.ipynb)\n",
    "    - ARI   : 0.23\n",
    "    - Siluet: 0.15\n",
    "\n",
    "- Hiyerarsik kumeleme algoritmasi ile skorlar=> Bknz:[hierarchical](https://github.com/ahmetpergamum/datascience/blob/master/11_clustering_algorithms/03_hierarchical_clustering.ipynb)\n",
    "\n",
    "    - ARI   : 0.16 (en yuksek average linkage yontemi ile)\n",
    "    - Siluet: 0.31 (en yuksek ward linkage yontemi ile)\n",
    "    \n",
    "- DBSCAN algoritmasi ile skorlar => Bknz:[dbscan](https://github.com/ahmetpergamum/datascience/blob/master/11_clustering_algorithms/04_dbscan_clustering.ipynb)\n",
    "    - ARI   : 0.10 (test edilen parametrelerle elde edilen max)\n",
    "    - Siluet: 0.27 (test edilen parametrelerle elde edilen max)\n",
    "\n",
    "- GMM cozumunde ARI skoru K-ortalamadan dusuk Hiyerarsik ve DBSCAN den yuksek, Siluet skoru ise her uc yontemden de dusuk cikti.\n"
   ]
  },
  {
   "cell_type": "markdown",
   "metadata": {},
   "source": [
    "---\n",
    "#### ***Kovaryns Tipinin Kumelemeye Etkisi***"
   ]
  },
  {
   "cell_type": "code",
   "execution_count": 20,
   "metadata": {},
   "outputs": [],
   "source": [
    "def cluster_n_score(cov_type):\n",
    "    # kumeleme nesnesi olustur\n",
    "    gmm_cluster = GaussianMixture(n_components=2, covariance_type=cov_type, random_state=123)\n",
    "    clusters = gmm_cluster.fit_predict(X_std)\n",
    "    # ARI ve siluet skorunu don\n",
    "    return  metrics.adjusted_rand_score(y, clusters), metrics.silhouette_score(X_std, clusters, metric='euclidean')"
   ]
  },
  {
   "cell_type": "code",
   "execution_count": 21,
   "metadata": {},
   "outputs": [
    {
     "data": {
      "text/plain": [
       "(0.1802882734028232, 0.13516545148979767)"
      ]
     },
     "execution_count": 21,
     "metadata": {},
     "output_type": "execute_result"
    }
   ],
   "source": [
    "cluster_n_score('full')"
   ]
  },
  {
   "cell_type": "code",
   "execution_count": 24,
   "metadata": {},
   "outputs": [
    {
     "name": "stdout",
     "output_type": "stream",
     "text": [
      "Kovaryans tipi : full\n",
      "ARI skoru      : 0.1803\n",
      "Siluet skoru   : 0.1352\n",
      "--------------------\n",
      "Kovaryans tipi : tied\n",
      "ARI skoru      : 0.1478\n",
      "Siluet skoru   : 0.1339\n",
      "--------------------\n",
      "Kovaryans tipi : diag\n",
      "ARI skoru      : 0.1803\n",
      "Siluet skoru   : 0.1352\n",
      "--------------------\n",
      "Kovaryans tipi : spherical\n",
      "ARI skoru      : 0.2195\n",
      "Siluet skoru   : 0.1529\n",
      "--------------------\n"
     ]
    }
   ],
   "source": [
    "cov_types = ['full','tied','diag', 'spherical' ]\n",
    "\n",
    "for cov_type in  cov_types:\n",
    "    ari, siluet = cluster_n_score(cov_type)\n",
    "    print('Kovaryans tipi : {}'.format(cov_type))\n",
    "    print('ARI skoru      : {:.4f}'.format(ari))\n",
    "    print('Siluet skoru   : {:.4f}'.format(siluet))\n",
    "    print('-'*20)\n",
    "      "
   ]
  },
  {
   "cell_type": "markdown",
   "metadata": {},
   "source": [
    "- En iyi skorlari spherical kovaryans tipinde elde ettik.\n",
    "\n",
    "- Diger kumeleme algoritmalari ile karsilastirildiginda degerlerin K-ortalamaya cok yaklastigi(ARI skoru dusuk siluet skoru ayni), ARI skorunda Hiyerarsik ve DBSCAN den yuksek, Siluet skorunda ise Hiyerarsik ve DBSCAN den dusuk K-ortalamayla ayni sonuclar elde ettik."
   ]
  }
 ],
 "metadata": {
  "kernelspec": {
   "display_name": "Python 3",
   "language": "python",
   "name": "python3"
  },
  "language_info": {
   "codemirror_mode": {
    "name": "ipython",
    "version": 3
   },
   "file_extension": ".py",
   "mimetype": "text/x-python",
   "name": "python",
   "nbconvert_exporter": "python",
   "pygments_lexer": "ipython3",
   "version": "3.7.6"
  }
 },
 "nbformat": 4,
 "nbformat_minor": 4
}
