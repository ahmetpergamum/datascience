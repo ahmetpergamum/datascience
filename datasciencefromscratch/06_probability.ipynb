{
 "cells": [
  {
   "cell_type": "markdown",
   "metadata": {},
   "source": [
    "# Probability"
   ]
  },
  {
   "cell_type": "markdown",
   "metadata": {},
   "source": [
    "For our purposes you should think of probability as a way of quantifying the uncertainty associated with events chosen from a some universe of events. \n",
    "\n",
    "We’ll use probability theory to build models. We’ll use probability theory to evaluate models. We’ll use probability theory all over the place.\n"
   ]
  },
  {
   "cell_type": "markdown",
   "metadata": {},
   "source": [
    "## Dependence and Independence\n",
    "Two events E and F are dependent if knowing something about whether E happens gives us information about whether F happens (and vice versa). Otherwise they are independent.\n",
    "\n",
    "If E and F independent,  the probability that they both happen is the product of the probabilities that each one happens:\n",
    "\n",
    "$$P(E,F)=P(E)P(F) \\iff E \\perp \\!\\!\\! \\perp F$$\n",
    "\n",
    "$\\iff$ : if and only if, $\\perp \\!\\!\\! \\perp$: independency"
   ]
  },
  {
   "cell_type": "markdown",
   "metadata": {},
   "source": [
    "## Conditional Probability\n",
    "If E and F are not necessarily independent (and if the probability of F is not zero), then\n",
    "we define the probability of E \"conditional on F (given that we know that F happens)\" as:\n",
    "\n",
    "$$P(E|F)=\\frac{P(E,F)}{P(F)} \\iff E \\not \\perp \\!\\!\\! \\perp F \\land P(F)\\ne 0$$\n"
   ]
  },
  {
   "cell_type": "code",
   "execution_count": 21,
   "metadata": {},
   "outputs": [
    {
     "name": "stdout",
     "output_type": "stream",
     "text": [
      "P(both | older): 0.5021929824561403\n",
      "P(both | either):  0.33640491452991456\n"
     ]
    }
   ],
   "source": [
    "from collections import Counter\n",
    "import math, random\n",
    "\n",
    "def random_kid():\n",
    "    return random.choice([\"boy\", \"girl\"])\n",
    "\n",
    "both_girls = 0\n",
    "older_girl = 0\n",
    "either_girl = 0\n",
    "\n",
    "#random.seed(0)\n",
    "for _ in range(100b00):\n",
    "    younger = random_kid()\n",
    "    older = random_kid()\n",
    "    if older == \"girl\":\n",
    "        older_girl += 1\n",
    "    if older == \"girl\" and younger == \"girl\":\n",
    "        both_girls += 1\n",
    "    if older == \"girl\" or younger == \"girl\":\n",
    "        either_girl += 1\n",
    "\n",
    "print(\"P(both | older):\", both_girls / older_girl)      # 0.514 ~ 1/2\n",
    "print(\"P(both | either): \", both_girls / either_girl)   # 0.342 ~ 1/3"
   ]
  },
  {
   "cell_type": "markdown",
   "metadata": {},
   "source": [
    "## Bayes’s Theorem\n",
    "Bayes’s Theorem provides a way of “reversing” conditional probabilities. \n",
    "\n",
    "If we write two conditional probability of two dependent events:\n",
    "\n",
    "$$\n",
    "P(A|B) = \\frac{P(A \\land B)}{P(B)}\\\\\n",
    "P(B|A) = \\frac{P(B \\land A)}{P(A)}\n",
    "$$\n",
    "\n",
    "We can rewrite these formulas:\n",
    "\n",
    "$$\n",
    "P(A \\land B) = P(A|B)P(B)\\\\\n",
    "P(B \\land A) = P(B|A)P(A)\n",
    "$$\n",
    "\n",
    "$P(A \\land B)$ and $P(B \\land A)$ are the same and we can rewrite the $P(A|B)$ as:\n",
    "\n",
    "$$\n",
    "P(A|B) = \\frac{P(B|A)P(A)}{P(B)}\n",
    "$$\n",
    "\n",
    "We can also redefine $P(B)$ as $P(B \\land A) + P(B \\land \\lnot A)$\n",
    "\n",
    "Finally our equation is:\n",
    "\n",
    "$$\n",
    "P(A|B) = \\frac{P(B|A)P(A)}{P(B|A)P(A) + P(B|\\lnot A)P(\\lnot A)}\n",
    "$$"
   ]
  },
  {
   "cell_type": "code",
   "execution_count": 2,
   "metadata": {},
   "outputs": [
    {
     "data": {
      "text/plain": [
       "0.00980392156862745"
      ]
     },
     "execution_count": 2,
     "metadata": {},
     "output_type": "execute_result"
    }
   ],
   "source": []
  }
 ],
 "metadata": {
  "kernelspec": {
   "display_name": "Python 3",
   "language": "python",
   "name": "python3"
  },
  "language_info": {
   "codemirror_mode": {
    "name": "ipython",
    "version": 3
   },
   "file_extension": ".py",
   "mimetype": "text/x-python",
   "name": "python",
   "nbconvert_exporter": "python",
   "pygments_lexer": "ipython3",
   "version": "3.7.6"
  }
 },
 "nbformat": 4,
 "nbformat_minor": 4
}
