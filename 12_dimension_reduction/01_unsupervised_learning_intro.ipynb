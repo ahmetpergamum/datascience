{
 "cells": [
  {
   "cell_type": "markdown",
   "metadata": {},
   "source": [
    "# ***Gozetimsiz Ogrenme***\n",
    "\n",
    "## ***Boyut Azaltma (Dimensionality Reduction) ve Kumeleme (Clustering)***\n",
    "\n",
    "Gözetimsiz öğrenmede; boyut azaltma ve kümelemeyi düşünürken üzerinde düşünmemiz gereken bazı temel konular bulunmaktadır.\n",
    "\n",
    "Duvardaki bir gölge, gerçek dünyadaki üç boyutlu bir nesnenin iki boyutlu bir gösterimidir. Bir tavşan ve bir kedi gördüğünüzde, onları kolayca tanımlayabilirsiniz. Ancak, sadece duvardaki gölgelerine bakarak kolayca teşhis edilebiliyorlar mı? 2 boyutlu uzayda 3 boyutlu nesneleri temsil ederken hangi bilgiler korunur ve kaybolur?\n",
    "\n",
    "- Golgelerden nesnelerin teshis edilmesinin zorlugu nesnelerin pozisyonuna gore degisir. 2 boyutlu uzayda 3 boyutlu nesneleri temsil ederken derinlik kaybolmaktadir, bu da teshisi zorlastirir.\n",
    "\n",
    "Kırmızı şaraplar, beyaz şaraplar, kırmızı güller ve beyaz güllerin resimlerini içeren bir veri seti olduğumuzu varsayalım. Bu gözlemleri kümelemek isteseydiniz, bunu nasıl yapardınız? Renkleri veya başka hangi özelliği temel alarak nasıl kümelemek istersiniz? Farklı kümeleme seçeneklerinin artılarını ve eksilerini tartışın.\n",
    "\n",
    "- Renk ve sekillerine gore gruplandirilirsa 4 farkli grup olusabilir. Sadece renklerine gore grublandirilirsa da, kirmizi sarap kirmizi gulden, beyaz sarap beyaz gulden farkli bir renge sahip olacagindan 4 farkli grup olusabilir. Sadece sekillerine gore grublandirilirsa 2 farkli grup olusabilir."
   ]
  }
 ],
 "metadata": {
  "kernelspec": {
   "display_name": "Python 3",
   "language": "python",
   "name": "python3"
  },
  "language_info": {
   "codemirror_mode": {
    "name": "ipython",
    "version": 3
   },
   "file_extension": ".py",
   "mimetype": "text/x-python",
   "name": "python",
   "nbconvert_exporter": "python",
   "pygments_lexer": "ipython3",
   "version": "3.7.6"
  }
 },
 "nbformat": 4,
 "nbformat_minor": 4
}
