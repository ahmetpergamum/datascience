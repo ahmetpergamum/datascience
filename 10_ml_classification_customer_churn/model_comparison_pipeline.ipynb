{
 "cells": [
  {
   "cell_type": "markdown",
   "metadata": {},
   "source": [
    "# ***Model Comparison with Pipeline***\n",
    "---\n",
    "## ***Telco Customer Churn***\n",
    "\n",
    "- Siniflandirma projesinde Telco Customer Churn verileriyle calisarak musterilerin kacis durumunu tahmin edecegiz. Veri seti [Kaggle](https://www.kaggle.com/blastchar/telco-customer-churn)'dan elde edilmisitir.\n",
    "- ***Veri Seti:*** Telco Customer Churn\n",
    "- ***Arastirma konusu:*** Musteri kacis durumu hedef degisken, diger degiskenler aciklayici degisken olmak uzere Musteri kacis durumunu tahmin eden bir model olusturulacaktir.\n",
    "- Kesifsel Veri Analizi daha once [surada](https://github.com/ahmetpergamum/datascience/blob/master/10_ml_classification_customer_churn/eda_churn.ipynb) yapildigindan, burada sadece model olusturma ve test adimlari ile ilgilenecegiz."
   ]
  },
  {
   "cell_type": "code",
   "execution_count": 38,
   "metadata": {},
   "outputs": [],
   "source": [
    "import pandas as pd\n",
    "import numpy as np\n",
    "import matplotlib.pyplot as plt\n",
    "import seaborn as sns\n",
    "import plotly.express as px\n",
    "import plotly.graph_objects as go\n",
    "# classifiers, regressors\n",
    "from sklearn.neighbors import KNeighborsClassifier, KNeighborsRegressor\n",
    "from sklearn.linear_model import LogisticRegression, LinearRegression, Ridge, Lasso\n",
    "from sklearn.tree import DecisionTreeClassifier, DecisionTreeRegressor\n",
    "from sklearn.ensemble import RandomForestClassifier, RandomForestRegressor\n",
    "from sklearn.svm import SVC, SVR\n",
    "from xgboost import XGBClassifier, XGBRegressor\n",
    "from lightgbm import LGBMClassifier, LGBMRegressor\n",
    "import xgboost as xgb\n",
    "# pipeline meta model\n",
    "from sklearn.pipeline import Pipeline\n",
    "# olceklendirme\n",
    "from sklearn.preprocessing import StandardScaler\n",
    "# polinom ozellikler\n",
    "from sklearn.preprocessing import PolynomialFeatures\n",
    "# egitim verisini ayirma\n",
    "from sklearn.model_selection import train_test_split\n",
    "# metrics\n",
    "from sklearn.metrics import mean_squared_error, classification_report\n",
    "from sklearn.metrics import accuracy_score, precision_score, recall_score, f1_score, roc_auc_score\n",
    "# cross validation\n",
    "from sklearn.model_selection import cross_validate, cross_val_score\n",
    "# hiperparametre tuning\n",
    "from sklearn.model_selection import GridSearchCV, RandomizedSearchCV\n",
    "\n",
    "# uyarilari dikkate alma\n",
    "import warnings\n",
    "warnings.filterwarnings('ignore')\n",
    "\n",
    "# pandas varsayilan olarak cok sayida sutun veya satir varsa tumunu gostermez\n",
    "# bu nedenle 100 sutun ve satir gostermesi icin\n",
    "pd.options.display.max_rows = 100\n",
    "pd.options.display.max_columns = 100\n",
    "\n",
    "# virgulden sonra belirli sayida basamak gosterimi icin \n",
    "pd.options.display.float_format = '{:,.6f}'.format\n",
    "# aciklama sutunun tam cikmasi icin\n",
    "pd.options.display.max_colwidth = 100\n",
    "\n",
    "# font tanimlamalari\n",
    "font_title = {'family': 'times new roman', 'color': 'darkred', \n",
    "              'weight': 'bold', 'size': 14}\n",
    "font_axis  = {'family': 'times new roman', 'color': 'darkred', \n",
    "              'weight': 'bold', 'size': 14}"
   ]
  },
  {
   "cell_type": "markdown",
   "metadata": {},
   "source": [
    "##### [Exploratory Data Analysis (EDA) Adimlari](https://github.com/ahmetpergamum/datascience/blob/master/10_ml_classification_pcustomer_churn/eda_churn.ipynb)\n",
    "---\n",
    "## ***Grid Search ile Model Karsilastirmasi***\n"
   ]
  },
  {
   "cell_type": "code",
   "execution_count": 3,
   "metadata": {},
   "outputs": [
    {
     "name": "stdout",
     "output_type": "stream",
     "text": [
      "<class 'pandas.core.frame.DataFrame'>\n",
      "RangeIndex: 7043 entries, 0 to 7042\n",
      "Data columns (total 21 columns):\n",
      " #   Column            Non-Null Count  Dtype  \n",
      "---  ------            --------------  -----  \n",
      " 0   customerID        7043 non-null   object \n",
      " 1   gender            7043 non-null   object \n",
      " 2   SeniorCitizen     7043 non-null   int64  \n",
      " 3   Partner           7043 non-null   object \n",
      " 4   Dependents        7043 non-null   object \n",
      " 5   tenure            7043 non-null   int64  \n",
      " 6   PhoneService      7043 non-null   object \n",
      " 7   MultipleLines     7043 non-null   object \n",
      " 8   InternetService   7043 non-null   object \n",
      " 9   OnlineSecurity    7043 non-null   object \n",
      " 10  OnlineBackup      7043 non-null   object \n",
      " 11  DeviceProtection  7043 non-null   object \n",
      " 12  TechSupport       7043 non-null   object \n",
      " 13  StreamingTV       7043 non-null   object \n",
      " 14  StreamingMovies   7043 non-null   object \n",
      " 15  Contract          7043 non-null   object \n",
      " 16  PaperlessBilling  7043 non-null   object \n",
      " 17  PaymentMethod     7043 non-null   object \n",
      " 18  MonthlyCharges    7043 non-null   float64\n",
      " 19  TotalCharges      7043 non-null   float64\n",
      " 20  Churn             7043 non-null   object \n",
      "dtypes: float64(2), int64(2), object(17)\n",
      "memory usage: 1.1+ MB\n"
     ]
    }
   ],
   "source": [
    "# veri setini dataframe icerisine yukle\n",
    "customer_churn = pd.read_csv('data/telco_customer_churn_clean.csv')\n",
    "\n",
    "customer_churn.info()"
   ]
  },
  {
   "cell_type": "markdown",
   "metadata": {},
   "source": [
    "### ***Degiskenleri Donusturme***\n",
    "#### ***Metin Degiskenlerin Sayisal Degiskenlere Donusturulmesi***\n",
    "- One Hot Encoding (get_dummies)"
   ]
  },
  {
   "cell_type": "code",
   "execution_count": 4,
   "metadata": {},
   "outputs": [],
   "source": [
    "continuous = ['tenure', 'TotalCharges', 'MonthlyCharges']"
   ]
  },
  {
   "cell_type": "code",
   "execution_count": 5,
   "metadata": {},
   "outputs": [],
   "source": [
    "categoric = [col for col in customer_churn.columns if customer_churn[col].nunique()<10]"
   ]
  },
  {
   "cell_type": "code",
   "execution_count": 6,
   "metadata": {},
   "outputs": [
    {
     "data": {
      "text/plain": [
       "['gender',\n",
       " 'SeniorCitizen',\n",
       " 'Partner',\n",
       " 'Dependents',\n",
       " 'PhoneService',\n",
       " 'MultipleLines',\n",
       " 'InternetService',\n",
       " 'OnlineSecurity',\n",
       " 'OnlineBackup',\n",
       " 'DeviceProtection',\n",
       " 'TechSupport',\n",
       " 'StreamingTV',\n",
       " 'StreamingMovies',\n",
       " 'Contract',\n",
       " 'PaperlessBilling',\n",
       " 'PaymentMethod',\n",
       " 'Churn']"
      ]
     },
     "execution_count": 6,
     "metadata": {},
     "output_type": "execute_result"
    }
   ],
   "source": [
    "categoric"
   ]
  },
  {
   "cell_type": "code",
   "execution_count": 7,
   "metadata": {},
   "outputs": [
    {
     "data": {
      "text/html": [
       "<div>\n",
       "<style scoped>\n",
       "    .dataframe tbody tr th:only-of-type {\n",
       "        vertical-align: middle;\n",
       "    }\n",
       "\n",
       "    .dataframe tbody tr th {\n",
       "        vertical-align: top;\n",
       "    }\n",
       "\n",
       "    .dataframe thead th {\n",
       "        text-align: right;\n",
       "    }\n",
       "</style>\n",
       "<table border=\"1\" class=\"dataframe\">\n",
       "  <thead>\n",
       "    <tr style=\"text-align: right;\">\n",
       "      <th></th>\n",
       "      <th>SeniorCitizen</th>\n",
       "      <th>gender_Male</th>\n",
       "      <th>Partner_Yes</th>\n",
       "      <th>Dependents_Yes</th>\n",
       "      <th>PhoneService_Yes</th>\n",
       "      <th>MultipleLines_No phone service</th>\n",
       "      <th>MultipleLines_Yes</th>\n",
       "      <th>InternetService_Fiber optic</th>\n",
       "      <th>InternetService_No</th>\n",
       "      <th>OnlineSecurity_No internet service</th>\n",
       "      <th>OnlineSecurity_Yes</th>\n",
       "      <th>OnlineBackup_No internet service</th>\n",
       "      <th>OnlineBackup_Yes</th>\n",
       "      <th>DeviceProtection_No internet service</th>\n",
       "      <th>DeviceProtection_Yes</th>\n",
       "      <th>TechSupport_No internet service</th>\n",
       "      <th>TechSupport_Yes</th>\n",
       "      <th>StreamingTV_No internet service</th>\n",
       "      <th>StreamingTV_Yes</th>\n",
       "      <th>StreamingMovies_No internet service</th>\n",
       "      <th>StreamingMovies_Yes</th>\n",
       "      <th>Contract_One year</th>\n",
       "      <th>Contract_Two year</th>\n",
       "      <th>PaperlessBilling_Yes</th>\n",
       "      <th>PaymentMethod_Credit card (automatic)</th>\n",
       "      <th>PaymentMethod_Electronic check</th>\n",
       "      <th>PaymentMethod_Mailed check</th>\n",
       "      <th>Churn_Yes</th>\n",
       "    </tr>\n",
       "  </thead>\n",
       "  <tbody>\n",
       "    <tr>\n",
       "      <th>0</th>\n",
       "      <td>0</td>\n",
       "      <td>0</td>\n",
       "      <td>1</td>\n",
       "      <td>0</td>\n",
       "      <td>0</td>\n",
       "      <td>1</td>\n",
       "      <td>0</td>\n",
       "      <td>0</td>\n",
       "      <td>0</td>\n",
       "      <td>0</td>\n",
       "      <td>0</td>\n",
       "      <td>0</td>\n",
       "      <td>1</td>\n",
       "      <td>0</td>\n",
       "      <td>0</td>\n",
       "      <td>0</td>\n",
       "      <td>0</td>\n",
       "      <td>0</td>\n",
       "      <td>0</td>\n",
       "      <td>0</td>\n",
       "      <td>0</td>\n",
       "      <td>0</td>\n",
       "      <td>0</td>\n",
       "      <td>1</td>\n",
       "      <td>0</td>\n",
       "      <td>1</td>\n",
       "      <td>0</td>\n",
       "      <td>0</td>\n",
       "    </tr>\n",
       "    <tr>\n",
       "      <th>1</th>\n",
       "      <td>0</td>\n",
       "      <td>1</td>\n",
       "      <td>0</td>\n",
       "      <td>0</td>\n",
       "      <td>1</td>\n",
       "      <td>0</td>\n",
       "      <td>0</td>\n",
       "      <td>0</td>\n",
       "      <td>0</td>\n",
       "      <td>0</td>\n",
       "      <td>1</td>\n",
       "      <td>0</td>\n",
       "      <td>0</td>\n",
       "      <td>0</td>\n",
       "      <td>1</td>\n",
       "      <td>0</td>\n",
       "      <td>0</td>\n",
       "      <td>0</td>\n",
       "      <td>0</td>\n",
       "      <td>0</td>\n",
       "      <td>0</td>\n",
       "      <td>1</td>\n",
       "      <td>0</td>\n",
       "      <td>0</td>\n",
       "      <td>0</td>\n",
       "      <td>0</td>\n",
       "      <td>1</td>\n",
       "      <td>0</td>\n",
       "    </tr>\n",
       "    <tr>\n",
       "      <th>2</th>\n",
       "      <td>0</td>\n",
       "      <td>1</td>\n",
       "      <td>0</td>\n",
       "      <td>0</td>\n",
       "      <td>1</td>\n",
       "      <td>0</td>\n",
       "      <td>0</td>\n",
       "      <td>0</td>\n",
       "      <td>0</td>\n",
       "      <td>0</td>\n",
       "      <td>1</td>\n",
       "      <td>0</td>\n",
       "      <td>1</td>\n",
       "      <td>0</td>\n",
       "      <td>0</td>\n",
       "      <td>0</td>\n",
       "      <td>0</td>\n",
       "      <td>0</td>\n",
       "      <td>0</td>\n",
       "      <td>0</td>\n",
       "      <td>0</td>\n",
       "      <td>0</td>\n",
       "      <td>0</td>\n",
       "      <td>1</td>\n",
       "      <td>0</td>\n",
       "      <td>0</td>\n",
       "      <td>1</td>\n",
       "      <td>1</td>\n",
       "    </tr>\n",
       "    <tr>\n",
       "      <th>3</th>\n",
       "      <td>0</td>\n",
       "      <td>1</td>\n",
       "      <td>0</td>\n",
       "      <td>0</td>\n",
       "      <td>0</td>\n",
       "      <td>1</td>\n",
       "      <td>0</td>\n",
       "      <td>0</td>\n",
       "      <td>0</td>\n",
       "      <td>0</td>\n",
       "      <td>1</td>\n",
       "      <td>0</td>\n",
       "      <td>0</td>\n",
       "      <td>0</td>\n",
       "      <td>1</td>\n",
       "      <td>0</td>\n",
       "      <td>1</td>\n",
       "      <td>0</td>\n",
       "      <td>0</td>\n",
       "      <td>0</td>\n",
       "      <td>0</td>\n",
       "      <td>1</td>\n",
       "      <td>0</td>\n",
       "      <td>0</td>\n",
       "      <td>0</td>\n",
       "      <td>0</td>\n",
       "      <td>0</td>\n",
       "      <td>0</td>\n",
       "    </tr>\n",
       "    <tr>\n",
       "      <th>4</th>\n",
       "      <td>0</td>\n",
       "      <td>0</td>\n",
       "      <td>0</td>\n",
       "      <td>0</td>\n",
       "      <td>1</td>\n",
       "      <td>0</td>\n",
       "      <td>0</td>\n",
       "      <td>1</td>\n",
       "      <td>0</td>\n",
       "      <td>0</td>\n",
       "      <td>0</td>\n",
       "      <td>0</td>\n",
       "      <td>0</td>\n",
       "      <td>0</td>\n",
       "      <td>0</td>\n",
       "      <td>0</td>\n",
       "      <td>0</td>\n",
       "      <td>0</td>\n",
       "      <td>0</td>\n",
       "      <td>0</td>\n",
       "      <td>0</td>\n",
       "      <td>0</td>\n",
       "      <td>0</td>\n",
       "      <td>1</td>\n",
       "      <td>0</td>\n",
       "      <td>1</td>\n",
       "      <td>0</td>\n",
       "      <td>1</td>\n",
       "    </tr>\n",
       "    <tr>\n",
       "      <th>...</th>\n",
       "      <td>...</td>\n",
       "      <td>...</td>\n",
       "      <td>...</td>\n",
       "      <td>...</td>\n",
       "      <td>...</td>\n",
       "      <td>...</td>\n",
       "      <td>...</td>\n",
       "      <td>...</td>\n",
       "      <td>...</td>\n",
       "      <td>...</td>\n",
       "      <td>...</td>\n",
       "      <td>...</td>\n",
       "      <td>...</td>\n",
       "      <td>...</td>\n",
       "      <td>...</td>\n",
       "      <td>...</td>\n",
       "      <td>...</td>\n",
       "      <td>...</td>\n",
       "      <td>...</td>\n",
       "      <td>...</td>\n",
       "      <td>...</td>\n",
       "      <td>...</td>\n",
       "      <td>...</td>\n",
       "      <td>...</td>\n",
       "      <td>...</td>\n",
       "      <td>...</td>\n",
       "      <td>...</td>\n",
       "      <td>...</td>\n",
       "    </tr>\n",
       "    <tr>\n",
       "      <th>7038</th>\n",
       "      <td>0</td>\n",
       "      <td>1</td>\n",
       "      <td>1</td>\n",
       "      <td>1</td>\n",
       "      <td>1</td>\n",
       "      <td>0</td>\n",
       "      <td>1</td>\n",
       "      <td>0</td>\n",
       "      <td>0</td>\n",
       "      <td>0</td>\n",
       "      <td>1</td>\n",
       "      <td>0</td>\n",
       "      <td>0</td>\n",
       "      <td>0</td>\n",
       "      <td>1</td>\n",
       "      <td>0</td>\n",
       "      <td>1</td>\n",
       "      <td>0</td>\n",
       "      <td>1</td>\n",
       "      <td>0</td>\n",
       "      <td>1</td>\n",
       "      <td>1</td>\n",
       "      <td>0</td>\n",
       "      <td>1</td>\n",
       "      <td>0</td>\n",
       "      <td>0</td>\n",
       "      <td>1</td>\n",
       "      <td>0</td>\n",
       "    </tr>\n",
       "    <tr>\n",
       "      <th>7039</th>\n",
       "      <td>0</td>\n",
       "      <td>0</td>\n",
       "      <td>1</td>\n",
       "      <td>1</td>\n",
       "      <td>1</td>\n",
       "      <td>0</td>\n",
       "      <td>1</td>\n",
       "      <td>1</td>\n",
       "      <td>0</td>\n",
       "      <td>0</td>\n",
       "      <td>0</td>\n",
       "      <td>0</td>\n",
       "      <td>1</td>\n",
       "      <td>0</td>\n",
       "      <td>1</td>\n",
       "      <td>0</td>\n",
       "      <td>0</td>\n",
       "      <td>0</td>\n",
       "      <td>1</td>\n",
       "      <td>0</td>\n",
       "      <td>1</td>\n",
       "      <td>1</td>\n",
       "      <td>0</td>\n",
       "      <td>1</td>\n",
       "      <td>1</td>\n",
       "      <td>0</td>\n",
       "      <td>0</td>\n",
       "      <td>0</td>\n",
       "    </tr>\n",
       "    <tr>\n",
       "      <th>7040</th>\n",
       "      <td>0</td>\n",
       "      <td>0</td>\n",
       "      <td>1</td>\n",
       "      <td>1</td>\n",
       "      <td>0</td>\n",
       "      <td>1</td>\n",
       "      <td>0</td>\n",
       "      <td>0</td>\n",
       "      <td>0</td>\n",
       "      <td>0</td>\n",
       "      <td>1</td>\n",
       "      <td>0</td>\n",
       "      <td>0</td>\n",
       "      <td>0</td>\n",
       "      <td>0</td>\n",
       "      <td>0</td>\n",
       "      <td>0</td>\n",
       "      <td>0</td>\n",
       "      <td>0</td>\n",
       "      <td>0</td>\n",
       "      <td>0</td>\n",
       "      <td>0</td>\n",
       "      <td>0</td>\n",
       "      <td>1</td>\n",
       "      <td>0</td>\n",
       "      <td>1</td>\n",
       "      <td>0</td>\n",
       "      <td>0</td>\n",
       "    </tr>\n",
       "    <tr>\n",
       "      <th>7041</th>\n",
       "      <td>1</td>\n",
       "      <td>1</td>\n",
       "      <td>1</td>\n",
       "      <td>0</td>\n",
       "      <td>1</td>\n",
       "      <td>0</td>\n",
       "      <td>1</td>\n",
       "      <td>1</td>\n",
       "      <td>0</td>\n",
       "      <td>0</td>\n",
       "      <td>0</td>\n",
       "      <td>0</td>\n",
       "      <td>0</td>\n",
       "      <td>0</td>\n",
       "      <td>0</td>\n",
       "      <td>0</td>\n",
       "      <td>0</td>\n",
       "      <td>0</td>\n",
       "      <td>0</td>\n",
       "      <td>0</td>\n",
       "      <td>0</td>\n",
       "      <td>0</td>\n",
       "      <td>0</td>\n",
       "      <td>1</td>\n",
       "      <td>0</td>\n",
       "      <td>0</td>\n",
       "      <td>1</td>\n",
       "      <td>1</td>\n",
       "    </tr>\n",
       "    <tr>\n",
       "      <th>7042</th>\n",
       "      <td>0</td>\n",
       "      <td>1</td>\n",
       "      <td>0</td>\n",
       "      <td>0</td>\n",
       "      <td>1</td>\n",
       "      <td>0</td>\n",
       "      <td>0</td>\n",
       "      <td>1</td>\n",
       "      <td>0</td>\n",
       "      <td>0</td>\n",
       "      <td>1</td>\n",
       "      <td>0</td>\n",
       "      <td>0</td>\n",
       "      <td>0</td>\n",
       "      <td>1</td>\n",
       "      <td>0</td>\n",
       "      <td>1</td>\n",
       "      <td>0</td>\n",
       "      <td>1</td>\n",
       "      <td>0</td>\n",
       "      <td>1</td>\n",
       "      <td>0</td>\n",
       "      <td>1</td>\n",
       "      <td>1</td>\n",
       "      <td>0</td>\n",
       "      <td>0</td>\n",
       "      <td>0</td>\n",
       "      <td>0</td>\n",
       "    </tr>\n",
       "  </tbody>\n",
       "</table>\n",
       "<p>7043 rows × 28 columns</p>\n",
       "</div>"
      ],
      "text/plain": [
       "      SeniorCitizen  gender_Male  Partner_Yes  Dependents_Yes  \\\n",
       "0                 0            0            1               0   \n",
       "1                 0            1            0               0   \n",
       "2                 0            1            0               0   \n",
       "3                 0            1            0               0   \n",
       "4                 0            0            0               0   \n",
       "...             ...          ...          ...             ...   \n",
       "7038              0            1            1               1   \n",
       "7039              0            0            1               1   \n",
       "7040              0            0            1               1   \n",
       "7041              1            1            1               0   \n",
       "7042              0            1            0               0   \n",
       "\n",
       "      PhoneService_Yes  MultipleLines_No phone service  MultipleLines_Yes  \\\n",
       "0                    0                               1                  0   \n",
       "1                    1                               0                  0   \n",
       "2                    1                               0                  0   \n",
       "3                    0                               1                  0   \n",
       "4                    1                               0                  0   \n",
       "...                ...                             ...                ...   \n",
       "7038                 1                               0                  1   \n",
       "7039                 1                               0                  1   \n",
       "7040                 0                               1                  0   \n",
       "7041                 1                               0                  1   \n",
       "7042                 1                               0                  0   \n",
       "\n",
       "      InternetService_Fiber optic  InternetService_No  \\\n",
       "0                               0                   0   \n",
       "1                               0                   0   \n",
       "2                               0                   0   \n",
       "3                               0                   0   \n",
       "4                               1                   0   \n",
       "...                           ...                 ...   \n",
       "7038                            0                   0   \n",
       "7039                            1                   0   \n",
       "7040                            0                   0   \n",
       "7041                            1                   0   \n",
       "7042                            1                   0   \n",
       "\n",
       "      OnlineSecurity_No internet service  OnlineSecurity_Yes  \\\n",
       "0                                      0                   0   \n",
       "1                                      0                   1   \n",
       "2                                      0                   1   \n",
       "3                                      0                   1   \n",
       "4                                      0                   0   \n",
       "...                                  ...                 ...   \n",
       "7038                                   0                   1   \n",
       "7039                                   0                   0   \n",
       "7040                                   0                   1   \n",
       "7041                                   0                   0   \n",
       "7042                                   0                   1   \n",
       "\n",
       "      OnlineBackup_No internet service  OnlineBackup_Yes  \\\n",
       "0                                    0                 1   \n",
       "1                                    0                 0   \n",
       "2                                    0                 1   \n",
       "3                                    0                 0   \n",
       "4                                    0                 0   \n",
       "...                                ...               ...   \n",
       "7038                                 0                 0   \n",
       "7039                                 0                 1   \n",
       "7040                                 0                 0   \n",
       "7041                                 0                 0   \n",
       "7042                                 0                 0   \n",
       "\n",
       "      DeviceProtection_No internet service  DeviceProtection_Yes  \\\n",
       "0                                        0                     0   \n",
       "1                                        0                     1   \n",
       "2                                        0                     0   \n",
       "3                                        0                     1   \n",
       "4                                        0                     0   \n",
       "...                                    ...                   ...   \n",
       "7038                                     0                     1   \n",
       "7039                                     0                     1   \n",
       "7040                                     0                     0   \n",
       "7041                                     0                     0   \n",
       "7042                                     0                     1   \n",
       "\n",
       "      TechSupport_No internet service  TechSupport_Yes  \\\n",
       "0                                   0                0   \n",
       "1                                   0                0   \n",
       "2                                   0                0   \n",
       "3                                   0                1   \n",
       "4                                   0                0   \n",
       "...                               ...              ...   \n",
       "7038                                0                1   \n",
       "7039                                0                0   \n",
       "7040                                0                0   \n",
       "7041                                0                0   \n",
       "7042                                0                1   \n",
       "\n",
       "      StreamingTV_No internet service  StreamingTV_Yes  \\\n",
       "0                                   0                0   \n",
       "1                                   0                0   \n",
       "2                                   0                0   \n",
       "3                                   0                0   \n",
       "4                                   0                0   \n",
       "...                               ...              ...   \n",
       "7038                                0                1   \n",
       "7039                                0                1   \n",
       "7040                                0                0   \n",
       "7041                                0                0   \n",
       "7042                                0                1   \n",
       "\n",
       "      StreamingMovies_No internet service  StreamingMovies_Yes  \\\n",
       "0                                       0                    0   \n",
       "1                                       0                    0   \n",
       "2                                       0                    0   \n",
       "3                                       0                    0   \n",
       "4                                       0                    0   \n",
       "...                                   ...                  ...   \n",
       "7038                                    0                    1   \n",
       "7039                                    0                    1   \n",
       "7040                                    0                    0   \n",
       "7041                                    0                    0   \n",
       "7042                                    0                    1   \n",
       "\n",
       "      Contract_One year  Contract_Two year  PaperlessBilling_Yes  \\\n",
       "0                     0                  0                     1   \n",
       "1                     1                  0                     0   \n",
       "2                     0                  0                     1   \n",
       "3                     1                  0                     0   \n",
       "4                     0                  0                     1   \n",
       "...                 ...                ...                   ...   \n",
       "7038                  1                  0                     1   \n",
       "7039                  1                  0                     1   \n",
       "7040                  0                  0                     1   \n",
       "7041                  0                  0                     1   \n",
       "7042                  0                  1                     1   \n",
       "\n",
       "      PaymentMethod_Credit card (automatic)  PaymentMethod_Electronic check  \\\n",
       "0                                         0                               1   \n",
       "1                                         0                               0   \n",
       "2                                         0                               0   \n",
       "3                                         0                               0   \n",
       "4                                         0                               1   \n",
       "...                                     ...                             ...   \n",
       "7038                                      0                               0   \n",
       "7039                                      1                               0   \n",
       "7040                                      0                               1   \n",
       "7041                                      0                               0   \n",
       "7042                                      0                               0   \n",
       "\n",
       "      PaymentMethod_Mailed check  Churn_Yes  \n",
       "0                              0          0  \n",
       "1                              1          0  \n",
       "2                              1          1  \n",
       "3                              0          0  \n",
       "4                              0          1  \n",
       "...                          ...        ...  \n",
       "7038                           1          0  \n",
       "7039                           0          0  \n",
       "7040                           0          0  \n",
       "7041                           1          1  \n",
       "7042                           0          0  \n",
       "\n",
       "[7043 rows x 28 columns]"
      ]
     },
     "execution_count": 7,
     "metadata": {},
     "output_type": "execute_result"
    }
   ],
   "source": [
    "# kategorik degiskenlerin hepsine get dummies uygula\n",
    "pd.get_dummies(customer_churn[categoric],drop_first=True)"
   ]
  },
  {
   "cell_type": "code",
   "execution_count": 8,
   "metadata": {},
   "outputs": [],
   "source": [
    "dummy_df = pd.get_dummies(customer_churn[categoric],drop_first=True)\n",
    "customer_churn_one_hot = pd.concat([customer_churn, dummy_df], axis=1)"
   ]
  },
  {
   "cell_type": "code",
   "execution_count": 9,
   "metadata": {},
   "outputs": [],
   "source": [
    "customer_churn_one_hot = customer_churn_one_hot.drop(categoric, axis=1)"
   ]
  },
  {
   "cell_type": "code",
   "execution_count": 10,
   "metadata": {},
   "outputs": [
    {
     "name": "stdout",
     "output_type": "stream",
     "text": [
      "<class 'pandas.core.frame.DataFrame'>\n",
      "RangeIndex: 7043 entries, 0 to 7042\n",
      "Data columns (total 31 columns):\n",
      " #   Column                                 Non-Null Count  Dtype  \n",
      "---  ------                                 --------------  -----  \n",
      " 0   customerID                             7043 non-null   object \n",
      " 1   tenure                                 7043 non-null   int64  \n",
      " 2   MonthlyCharges                         7043 non-null   float64\n",
      " 3   TotalCharges                           7043 non-null   float64\n",
      " 4   gender_Male                            7043 non-null   uint8  \n",
      " 5   Partner_Yes                            7043 non-null   uint8  \n",
      " 6   Dependents_Yes                         7043 non-null   uint8  \n",
      " 7   PhoneService_Yes                       7043 non-null   uint8  \n",
      " 8   MultipleLines_No phone service         7043 non-null   uint8  \n",
      " 9   MultipleLines_Yes                      7043 non-null   uint8  \n",
      " 10  InternetService_Fiber optic            7043 non-null   uint8  \n",
      " 11  InternetService_No                     7043 non-null   uint8  \n",
      " 12  OnlineSecurity_No internet service     7043 non-null   uint8  \n",
      " 13  OnlineSecurity_Yes                     7043 non-null   uint8  \n",
      " 14  OnlineBackup_No internet service       7043 non-null   uint8  \n",
      " 15  OnlineBackup_Yes                       7043 non-null   uint8  \n",
      " 16  DeviceProtection_No internet service   7043 non-null   uint8  \n",
      " 17  DeviceProtection_Yes                   7043 non-null   uint8  \n",
      " 18  TechSupport_No internet service        7043 non-null   uint8  \n",
      " 19  TechSupport_Yes                        7043 non-null   uint8  \n",
      " 20  StreamingTV_No internet service        7043 non-null   uint8  \n",
      " 21  StreamingTV_Yes                        7043 non-null   uint8  \n",
      " 22  StreamingMovies_No internet service    7043 non-null   uint8  \n",
      " 23  StreamingMovies_Yes                    7043 non-null   uint8  \n",
      " 24  Contract_One year                      7043 non-null   uint8  \n",
      " 25  Contract_Two year                      7043 non-null   uint8  \n",
      " 26  PaperlessBilling_Yes                   7043 non-null   uint8  \n",
      " 27  PaymentMethod_Credit card (automatic)  7043 non-null   uint8  \n",
      " 28  PaymentMethod_Electronic check         7043 non-null   uint8  \n",
      " 29  PaymentMethod_Mailed check             7043 non-null   uint8  \n",
      " 30  Churn_Yes                              7043 non-null   uint8  \n",
      "dtypes: float64(2), int64(1), object(1), uint8(27)\n",
      "memory usage: 405.9+ KB\n"
     ]
    }
   ],
   "source": [
    "customer_churn_one_hot.info()"
   ]
  },
  {
   "cell_type": "markdown",
   "metadata": {},
   "source": [
    "- Label encoding(replace, scikitlearn LabelEncoder)"
   ]
  },
  {
   "cell_type": "markdown",
   "metadata": {},
   "source": [
    "---\n",
    "### ***Tahmin Modeli - Pipeline***\n",
    "Meta model olarak dusunulebilecek pipeline sinifi ile modelleri test ederek en iyi performans veren modeli sececegiz."
   ]
  },
  {
   "cell_type": "code",
   "execution_count": 11,
   "metadata": {},
   "outputs": [],
   "source": [
    "# hedef degisken\n",
    "y = customer_churn_one_hot['Churn_Yes']\n",
    "# aciklayici degiskenler\n",
    "X = customer_churn_one_hot.drop(['customerID', 'Churn_Yes'], axis=1)"
   ]
  },
  {
   "cell_type": "code",
   "execution_count": 12,
   "metadata": {},
   "outputs": [],
   "source": [
    "# egitim ve test kumesini ayirma\n",
    "X_train, X_test, y_train, y_test = train_test_split(X, y, test_size=0.2, random_state=0)"
   ]
  },
  {
   "cell_type": "code",
   "execution_count": 22,
   "metadata": {},
   "outputs": [
    {
     "name": "stdout",
     "output_type": "stream",
     "text": [
      "Best params: \n",
      "{'classifier': LGBMClassifier(boosting_type='gbdt', class_weight=None, colsample_bytree=1.0,\n",
      "               importance_type='split', learning_rate=0.1, max_depth=3,\n",
      "               min_child_samples=20, min_child_weight=0.001, min_split_gain=0.0,\n",
      "               n_estimators=100, n_jobs=-1, num_leaves=31, objective=None,\n",
      "               random_state=None, reg_alpha=1.0, reg_lambda=100.0, silent=True,\n",
      "               subsample=1.0, subsample_for_bin=200000, subsample_freq=0), 'classifier__max_depth': 3, 'classifier__reg_alpha': 1.0, 'classifier__reg_lambda': 100.0}\n",
      "\n",
      "Best cross-validation score: \n",
      "0.85\n",
      "\n",
      "Test-set score: \n",
      "0.83\n",
      "\n",
      "CPU times: user 23.9 s, sys: 873 ms, total: 24.8 s\n",
      "Wall time: 1h 11min 2s\n"
     ]
    }
   ],
   "source": [
    "%%time\n",
    "# hucrenin calisma suresini tutacak\n",
    "\n",
    "# pipeline tanimla\n",
    "# ilk model knn tanimlandi \n",
    "pipe = Pipeline([('classifier', KNeighborsClassifier())])\n",
    "\n",
    "# aranacak model ve parametreleri belirle\n",
    "param_grid = [{'classifier': [KNeighborsClassifier()],\n",
    "               'classifier__n_neighbors': np.arange(3,5),\n",
    "               'classifier__weights': ['uniform', 'distance']},\n",
    "              {'classifier': [LogisticRegression()],\n",
    "               'classifier__C': np.logspace(-1,2,4)},\n",
    "              {'classifier': [LogisticRegression(solver='liblinear')],\n",
    "               'classifier__penalty': ['l1', 'l2'],\n",
    "               'classifier__C': np.logspace(-1,2,4)},\n",
    "              {'classifier': [DecisionTreeClassifier()],\n",
    "               'classifier__max_depth': np.arange(3,7)},\n",
    "              {'classifier': [RandomForestClassifier()],\n",
    "               'classifier__max_depth': np.arange(3,7)},\n",
    "              {'classifier': [SVC()],\n",
    "               'classifier__gamma': [0.1, 1.0, 10.0, 100.0, 'scale'],\n",
    "               'classifier__C': np.logspace(-1,2,4)},\n",
    "              {'classifier': [SVC(kernel='linear')],\n",
    "               'classifier__C': np.logspace(-1,2,4)},\n",
    "              {'classifier': [XGBClassifier()],\n",
    "               'classifier__gamma': [0, 0.1, 1.0, 10.0, 100.0],\n",
    "               'classifier__reg_alpha': [0, 0.1, 1.0, 10.0, 100.0], \n",
    "               'classifier__reg_lambda': np.logspace(-1,2,4), \n",
    "               'classifier__max_depth': np.arange(3,7)},\n",
    "              {'classifier': [LGBMClassifier()], \n",
    "               'classifier__reg_alpha': [0, 0.1, 1.0, 10.0, 100.0], \n",
    "               'classifier__reg_lambda': [0, 0.1, 1.0, 10.0, 100.0], \n",
    "               'classifier__max_depth': np.arange(3,7)}\n",
    "             ]\n",
    "# gridsearch nesnesi tanimla\n",
    "grid_churn = GridSearchCV(estimator=pipe, \n",
    "                          param_grid=param_grid, \n",
    "                          scoring=['roc_auc','f1','accuracy'],\n",
    "                          cv=7, n_jobs=4, return_train_score=True, refit='roc_auc')\n",
    "# modeli egit\n",
    "grid_churn.fit(X_train, y_train)\n",
    "\n",
    "# sonuclar\n",
    "print(\"Best params: \\n{}\\n\".format(grid_churn.best_params_))\n",
    "print(\"Best cross-validation score: \\n{:.2f}\\n\".format(grid_churn.best_score_))\n",
    "print(\"Test-set score: \\n{:.2f}\\n\".format(grid_churn.score(X_test, y_test)))\n"
   ]
  },
  {
   "cell_type": "code",
   "execution_count": 23,
   "metadata": {},
   "outputs": [
    {
     "data": {
      "text/html": [
       "<div>\n",
       "<style scoped>\n",
       "    .dataframe tbody tr th:only-of-type {\n",
       "        vertical-align: middle;\n",
       "    }\n",
       "\n",
       "    .dataframe tbody tr th {\n",
       "        vertical-align: top;\n",
       "    }\n",
       "\n",
       "    .dataframe thead th {\n",
       "        text-align: right;\n",
       "    }\n",
       "</style>\n",
       "<table border=\"1\" class=\"dataframe\">\n",
       "  <thead>\n",
       "    <tr style=\"text-align: right;\">\n",
       "      <th></th>\n",
       "      <th>mean_fit_time</th>\n",
       "      <th>std_fit_time</th>\n",
       "      <th>mean_score_time</th>\n",
       "      <th>std_score_time</th>\n",
       "      <th>param_classifier</th>\n",
       "      <th>param_classifier__n_neighbors</th>\n",
       "      <th>param_classifier__weights</th>\n",
       "      <th>param_classifier__C</th>\n",
       "      <th>param_classifier__penalty</th>\n",
       "      <th>param_classifier__max_depth</th>\n",
       "      <th>param_classifier__gamma</th>\n",
       "      <th>param_classifier__reg_alpha</th>\n",
       "      <th>param_classifier__reg_lambda</th>\n",
       "      <th>params</th>\n",
       "      <th>split0_test_roc_auc</th>\n",
       "      <th>split1_test_roc_auc</th>\n",
       "      <th>split2_test_roc_auc</th>\n",
       "      <th>split3_test_roc_auc</th>\n",
       "      <th>split4_test_roc_auc</th>\n",
       "      <th>split5_test_roc_auc</th>\n",
       "      <th>split6_test_roc_auc</th>\n",
       "      <th>mean_test_roc_auc</th>\n",
       "      <th>std_test_roc_auc</th>\n",
       "      <th>rank_test_roc_auc</th>\n",
       "      <th>split0_train_roc_auc</th>\n",
       "      <th>split1_train_roc_auc</th>\n",
       "      <th>split2_train_roc_auc</th>\n",
       "      <th>split3_train_roc_auc</th>\n",
       "      <th>split4_train_roc_auc</th>\n",
       "      <th>split5_train_roc_auc</th>\n",
       "      <th>split6_train_roc_auc</th>\n",
       "      <th>mean_train_roc_auc</th>\n",
       "      <th>std_train_roc_auc</th>\n",
       "      <th>split0_test_f1</th>\n",
       "      <th>split1_test_f1</th>\n",
       "      <th>split2_test_f1</th>\n",
       "      <th>split3_test_f1</th>\n",
       "      <th>split4_test_f1</th>\n",
       "      <th>split5_test_f1</th>\n",
       "      <th>split6_test_f1</th>\n",
       "      <th>mean_test_f1</th>\n",
       "      <th>std_test_f1</th>\n",
       "      <th>rank_test_f1</th>\n",
       "      <th>split0_train_f1</th>\n",
       "      <th>split1_train_f1</th>\n",
       "      <th>split2_train_f1</th>\n",
       "      <th>split3_train_f1</th>\n",
       "      <th>split4_train_f1</th>\n",
       "      <th>split5_train_f1</th>\n",
       "      <th>split6_train_f1</th>\n",
       "      <th>mean_train_f1</th>\n",
       "      <th>std_train_f1</th>\n",
       "      <th>split0_test_accuracy</th>\n",
       "      <th>split1_test_accuracy</th>\n",
       "      <th>split2_test_accuracy</th>\n",
       "      <th>split3_test_accuracy</th>\n",
       "      <th>split4_test_accuracy</th>\n",
       "      <th>split5_test_accuracy</th>\n",
       "      <th>split6_test_accuracy</th>\n",
       "      <th>mean_test_accuracy</th>\n",
       "      <th>std_test_accuracy</th>\n",
       "      <th>rank_test_accuracy</th>\n",
       "      <th>split0_train_accuracy</th>\n",
       "      <th>split1_train_accuracy</th>\n",
       "      <th>split2_train_accuracy</th>\n",
       "      <th>split3_train_accuracy</th>\n",
       "      <th>split4_train_accuracy</th>\n",
       "      <th>split5_train_accuracy</th>\n",
       "      <th>split6_train_accuracy</th>\n",
       "      <th>mean_train_accuracy</th>\n",
       "      <th>std_train_accuracy</th>\n",
       "    </tr>\n",
       "  </thead>\n",
       "  <tbody>\n",
       "    <tr>\n",
       "      <th>0</th>\n",
       "      <td>0.019</td>\n",
       "      <td>0.003</td>\n",
       "      <td>0.043</td>\n",
       "      <td>0.005</td>\n",
       "      <td>KNeighborsClassifier(algorithm='auto', leaf_size=30, metric='minkowski',\\n                     m...</td>\n",
       "      <td>3</td>\n",
       "      <td>uniform</td>\n",
       "      <td>NaN</td>\n",
       "      <td>NaN</td>\n",
       "      <td>NaN</td>\n",
       "      <td>NaN</td>\n",
       "      <td>NaN</td>\n",
       "      <td>NaN</td>\n",
       "      <td>{'classifier': KNeighborsClassifier(algorithm='auto', leaf_size=30, metric='minkowski',\n",
       "        ...</td>\n",
       "      <td>0.740</td>\n",
       "      <td>0.748</td>\n",
       "      <td>0.713</td>\n",
       "      <td>0.716</td>\n",
       "      <td>0.700</td>\n",
       "      <td>0.719</td>\n",
       "      <td>0.717</td>\n",
       "      <td>0.722</td>\n",
       "      <td>0.015</td>\n",
       "      <td>531</td>\n",
       "      <td>0.919</td>\n",
       "      <td>0.918</td>\n",
       "      <td>0.920</td>\n",
       "      <td>0.922</td>\n",
       "      <td>0.926</td>\n",
       "      <td>0.921</td>\n",
       "      <td>0.923</td>\n",
       "      <td>0.921</td>\n",
       "      <td>0.003</td>\n",
       "      <td>0.506</td>\n",
       "      <td>0.540</td>\n",
       "      <td>0.481</td>\n",
       "      <td>0.470</td>\n",
       "      <td>0.474</td>\n",
       "      <td>0.485</td>\n",
       "      <td>0.525</td>\n",
       "      <td>0.497</td>\n",
       "      <td>0.025</td>\n",
       "      <td>408</td>\n",
       "      <td>0.716</td>\n",
       "      <td>0.712</td>\n",
       "      <td>0.710</td>\n",
       "      <td>0.716</td>\n",
       "      <td>0.727</td>\n",
       "      <td>0.717</td>\n",
       "      <td>0.728</td>\n",
       "      <td>0.718</td>\n",
       "      <td>0.006</td>\n",
       "      <td>0.760</td>\n",
       "      <td>0.769</td>\n",
       "      <td>0.759</td>\n",
       "      <td>0.745</td>\n",
       "      <td>0.727</td>\n",
       "      <td>0.747</td>\n",
       "      <td>0.766</td>\n",
       "      <td>0.753</td>\n",
       "      <td>0.014</td>\n",
       "      <td>515</td>\n",
       "      <td>0.859</td>\n",
       "      <td>0.857</td>\n",
       "      <td>0.856</td>\n",
       "      <td>0.860</td>\n",
       "      <td>0.864</td>\n",
       "      <td>0.859</td>\n",
       "      <td>0.864</td>\n",
       "      <td>0.860</td>\n",
       "      <td>0.003</td>\n",
       "    </tr>\n",
       "  </tbody>\n",
       "</table>\n",
       "</div>"
      ],
      "text/plain": [
       "   mean_fit_time  std_fit_time  mean_score_time  std_score_time  \\\n",
       "0          0.019         0.003            0.043           0.005   \n",
       "\n",
       "                                                                                      param_classifier  \\\n",
       "0  KNeighborsClassifier(algorithm='auto', leaf_size=30, metric='minkowski',\\n                     m...   \n",
       "\n",
       "  param_classifier__n_neighbors param_classifier__weights param_classifier__C  \\\n",
       "0                             3                   uniform                 NaN   \n",
       "\n",
       "  param_classifier__penalty param_classifier__max_depth  \\\n",
       "0                       NaN                         NaN   \n",
       "\n",
       "  param_classifier__gamma param_classifier__reg_alpha  \\\n",
       "0                     NaN                         NaN   \n",
       "\n",
       "  param_classifier__reg_lambda  \\\n",
       "0                          NaN   \n",
       "\n",
       "                                                                                                params  \\\n",
       "0  {'classifier': KNeighborsClassifier(algorithm='auto', leaf_size=30, metric='minkowski',\n",
       "        ...   \n",
       "\n",
       "   split0_test_roc_auc  split1_test_roc_auc  split2_test_roc_auc  \\\n",
       "0                0.740                0.748                0.713   \n",
       "\n",
       "   split3_test_roc_auc  split4_test_roc_auc  split5_test_roc_auc  \\\n",
       "0                0.716                0.700                0.719   \n",
       "\n",
       "   split6_test_roc_auc  mean_test_roc_auc  std_test_roc_auc  \\\n",
       "0                0.717              0.722             0.015   \n",
       "\n",
       "   rank_test_roc_auc  split0_train_roc_auc  split1_train_roc_auc  \\\n",
       "0                531                 0.919                 0.918   \n",
       "\n",
       "   split2_train_roc_auc  split3_train_roc_auc  split4_train_roc_auc  \\\n",
       "0                 0.920                 0.922                 0.926   \n",
       "\n",
       "   split5_train_roc_auc  split6_train_roc_auc  mean_train_roc_auc  \\\n",
       "0                 0.921                 0.923               0.921   \n",
       "\n",
       "   std_train_roc_auc  split0_test_f1  split1_test_f1  split2_test_f1  \\\n",
       "0              0.003           0.506           0.540           0.481   \n",
       "\n",
       "   split3_test_f1  split4_test_f1  split5_test_f1  split6_test_f1  \\\n",
       "0           0.470           0.474           0.485           0.525   \n",
       "\n",
       "   mean_test_f1  std_test_f1  rank_test_f1  split0_train_f1  split1_train_f1  \\\n",
       "0         0.497        0.025           408            0.716            0.712   \n",
       "\n",
       "   split2_train_f1  split3_train_f1  split4_train_f1  split5_train_f1  \\\n",
       "0            0.710            0.716            0.727            0.717   \n",
       "\n",
       "   split6_train_f1  mean_train_f1  std_train_f1  split0_test_accuracy  \\\n",
       "0            0.728          0.718         0.006                 0.760   \n",
       "\n",
       "   split1_test_accuracy  split2_test_accuracy  split3_test_accuracy  \\\n",
       "0                 0.769                 0.759                 0.745   \n",
       "\n",
       "   split4_test_accuracy  split5_test_accuracy  split6_test_accuracy  \\\n",
       "0                 0.727                 0.747                 0.766   \n",
       "\n",
       "   mean_test_accuracy  std_test_accuracy  rank_test_accuracy  \\\n",
       "0               0.753              0.014                 515   \n",
       "\n",
       "   split0_train_accuracy  split1_train_accuracy  split2_train_accuracy  \\\n",
       "0                  0.859                  0.857                  0.856   \n",
       "\n",
       "   split3_train_accuracy  split4_train_accuracy  split5_train_accuracy  \\\n",
       "0                  0.860                  0.864                  0.859   \n",
       "\n",
       "   split6_train_accuracy  mean_train_accuracy  std_train_accuracy  \n",
       "0                  0.864                0.860               0.003  "
      ]
     },
     "execution_count": 23,
     "metadata": {},
     "output_type": "execute_result"
    }
   ],
   "source": [
    "# sonuclari df olarak kaydet\n",
    "grid_churn_df_1 = pd.DataFrame(grid_churn.cv_results_)\n",
    "grid_churn_df_1.head(1)"
   ]
  },
  {
   "cell_type": "code",
   "execution_count": 39,
   "metadata": {},
   "outputs": [
    {
     "data": {
      "text/html": [
       "<div>\n",
       "<style scoped>\n",
       "    .dataframe tbody tr th:only-of-type {\n",
       "        vertical-align: middle;\n",
       "    }\n",
       "\n",
       "    .dataframe tbody tr th {\n",
       "        vertical-align: top;\n",
       "    }\n",
       "\n",
       "    .dataframe thead th {\n",
       "        text-align: right;\n",
       "    }\n",
       "</style>\n",
       "<table border=\"1\" class=\"dataframe\">\n",
       "  <thead>\n",
       "    <tr style=\"text-align: right;\">\n",
       "      <th></th>\n",
       "      <th>param_classifier</th>\n",
       "      <th>mean_train_accuracy</th>\n",
       "      <th>mean_test_accuracy</th>\n",
       "      <th>mean_train_roc_auc</th>\n",
       "      <th>mean_test_roc_auc</th>\n",
       "      <th>mean_train_f1</th>\n",
       "      <th>mean_test_f1</th>\n",
       "    </tr>\n",
       "  </thead>\n",
       "  <tbody>\n",
       "    <tr>\n",
       "      <th>462</th>\n",
       "      <td>LGBMClassifier(boosting_type='gbdt', class_weight=None, colsample_bytree=1.0,\\n               im...</td>\n",
       "      <td>0.816915</td>\n",
       "      <td>0.806887</td>\n",
       "      <td>0.865657</td>\n",
       "      <td>0.852331</td>\n",
       "      <td>0.624246</td>\n",
       "      <td>0.603316</td>\n",
       "    </tr>\n",
       "    <tr>\n",
       "      <th>457</th>\n",
       "      <td>LGBMClassifier(boosting_type='gbdt', class_weight=None, colsample_bytree=1.0,\\n               im...</td>\n",
       "      <td>0.816531</td>\n",
       "      <td>0.806354</td>\n",
       "      <td>0.866033</td>\n",
       "      <td>0.852319</td>\n",
       "      <td>0.623749</td>\n",
       "      <td>0.603779</td>\n",
       "    </tr>\n",
       "    <tr>\n",
       "      <th>259</th>\n",
       "      <td>XGBClassifier(base_score=None, booster=None, colsample_bylevel=None,\\n              colsample_by...</td>\n",
       "      <td>0.820938</td>\n",
       "      <td>0.807775</td>\n",
       "      <td>0.873454</td>\n",
       "      <td>0.852018</td>\n",
       "      <td>0.629926</td>\n",
       "      <td>0.604379</td>\n",
       "    </tr>\n",
       "    <tr>\n",
       "      <th>482</th>\n",
       "      <td>LGBMClassifier(boosting_type='gbdt', class_weight=None, colsample_bytree=1.0,\\n               im...</td>\n",
       "      <td>0.819163</td>\n",
       "      <td>0.805821</td>\n",
       "      <td>0.870869</td>\n",
       "      <td>0.851931</td>\n",
       "      <td>0.630469</td>\n",
       "      <td>0.604284</td>\n",
       "    </tr>\n",
       "    <tr>\n",
       "      <th>492</th>\n",
       "      <td>LGBMClassifier(boosting_type='gbdt', class_weight=None, colsample_bytree=1.0,\\n               im...</td>\n",
       "      <td>0.816471</td>\n",
       "      <td>0.805822</td>\n",
       "      <td>0.865928</td>\n",
       "      <td>0.851899</td>\n",
       "      <td>0.622208</td>\n",
       "      <td>0.602100</td>\n",
       "    </tr>\n",
       "  </tbody>\n",
       "</table>\n",
       "</div>"
      ],
      "text/plain": [
       "                                                                                        param_classifier  \\\n",
       "462  LGBMClassifier(boosting_type='gbdt', class_weight=None, colsample_bytree=1.0,\\n               im...   \n",
       "457  LGBMClassifier(boosting_type='gbdt', class_weight=None, colsample_bytree=1.0,\\n               im...   \n",
       "259  XGBClassifier(base_score=None, booster=None, colsample_bylevel=None,\\n              colsample_by...   \n",
       "482  LGBMClassifier(boosting_type='gbdt', class_weight=None, colsample_bytree=1.0,\\n               im...   \n",
       "492  LGBMClassifier(boosting_type='gbdt', class_weight=None, colsample_bytree=1.0,\\n               im...   \n",
       "\n",
       "     mean_train_accuracy  mean_test_accuracy  mean_train_roc_auc  \\\n",
       "462             0.816915            0.806887            0.865657   \n",
       "457             0.816531            0.806354            0.866033   \n",
       "259             0.820938            0.807775            0.873454   \n",
       "482             0.819163            0.805821            0.870869   \n",
       "492             0.816471            0.805822            0.865928   \n",
       "\n",
       "     mean_test_roc_auc  mean_train_f1  mean_test_f1  \n",
       "462           0.852331       0.624246      0.603316  \n",
       "457           0.852319       0.623749      0.603779  \n",
       "259           0.852018       0.629926      0.604379  \n",
       "482           0.851931       0.630469      0.604284  \n",
       "492           0.851899       0.622208      0.602100  "
      ]
     },
     "execution_count": 39,
     "metadata": {},
     "output_type": "execute_result"
    }
   ],
   "source": [
    "# sirala\n",
    "grid_churn_df_1 = grid_churn_df_1.sort_values(by='mean_test_roc_auc', ascending=False)\n",
    "# ilk siradakileri goster\n",
    "grid_churn_df_1.loc[:,['param_classifier','mean_train_accuracy', 'mean_test_accuracy', 'mean_train_roc_auc',\n",
    "                       'mean_test_roc_auc','mean_train_f1','mean_test_f1']].head(5)"
   ]
  },
  {
   "cell_type": "code",
   "execution_count": 25,
   "metadata": {},
   "outputs": [],
   "source": [
    "# her bir classifier in en iyi degerleriyle ayri bir df olustur\n",
    "best_of_classifiers_1 = pd.DataFrame([])\n",
    "for classifier in grid_churn_df_1.param_classifier.unique():\n",
    "    best_of_classifiers_1 = pd.concat([best_of_classifiers_1,grid_churn_df_1[grid_churn_df_1['param_classifier']==classifier].head(5)])"
   ]
  },
  {
   "cell_type": "code",
   "execution_count": null,
   "metadata": {},
   "outputs": [],
   "source": [
    "best_of_classifiers_1"
   ]
  },
  {
   "cell_type": "code",
   "execution_count": 65,
   "metadata": {},
   "outputs": [],
   "source": [
    "#best_of_classifiers_1.loc[279,'param_classifier']"
   ]
  },
  {
   "cell_type": "code",
   "execution_count": 27,
   "metadata": {},
   "outputs": [
    {
     "name": "stdout",
     "output_type": "stream",
     "text": [
      "['XGBCl', 'XGBCl', 'XGBCl', 'XGBCl', 'XGBCl', 'LGBMCl', 'LGBMCl', 'LGBMCl', 'LGBMCl', 'LGBMCl', 'LogisticReg_liblinear', 'LogisticReg_liblinear', 'LogisticReg_liblinear', 'LogisticReg_liblinear', 'LogisticReg_liblinear', 'LogisticReg_lbfgs', 'LogisticReg_lbfgs', 'LogisticReg_lbfgs', 'LogisticReg_lbfgs', 'SVC_linear', 'SVC_linear', 'SVC_linear', 'SVC_linear', 'RandomForestCl', 'RandomForestCl', 'RandomForestCl', 'RandomForestCl', 'DecisionTreeCl', 'DecisionTreeCl', 'DecisionTreeCl', 'DecisionTreeCl', 'SVC_rbf', 'SVC_rbf', 'SVC_rbf', 'SVC_rbf', 'SVC_rbf', 'KNeighborsCl', 'KNeighborsCl', 'KNeighborsCl', 'KNeighborsCl']\n"
     ]
    }
   ],
   "source": [
    "# adlandirma olmali, grafik gosterimi icin\n",
    "def get_names(model_df):\n",
    "    name_list = []\n",
    "    for i in model_df.index:\n",
    "        classifier = model_df.loc[i,'param_classifier']\n",
    "        name = classifier.__class__.__name__    \n",
    "        if (name == 'SVC'):\n",
    "            name = name + '_' + classifier.kernel\n",
    "        elif (name == 'LogisticRegression'):\n",
    "            name = name.split('ression')[0]\n",
    "            name = name + '_' + classifier.solver\n",
    "        else:\n",
    "            name = name.split('assifier')[0]\n",
    "\n",
    "        name_list.append(name)\n",
    "        \n",
    "    return name_list\n",
    "\n",
    "print(get_names(best_of_classifiers_1))"
   ]
  },
  {
   "cell_type": "code",
   "execution_count": 28,
   "metadata": {},
   "outputs": [],
   "source": [
    "# adlandirma olmali, grafik gosterimi icin\n",
    "best_of_classifiers_1['classifier'] = get_names(best_of_classifiers_1)"
   ]
  },
  {
   "cell_type": "code",
   "execution_count": null,
   "metadata": {},
   "outputs": [],
   "source": [
    "# her bir classifier in skor degerlerini incele\n",
    "best_of_classifiers_1.loc[:,['classifier','mean_train_accuracy', 'mean_test_accuracy','mean_train_roc_auc',\n",
    "                             'mean_test_roc_auc','mean_train_f1','mean_test_f1']]"
   ]
  },
  {
   "cell_type": "markdown",
   "metadata": {},
   "source": [
    "***Grafik Incelemesi***"
   ]
  },
  {
   "cell_type": "code",
   "execution_count": 40,
   "metadata": {},
   "outputs": [
    {
     "data": {
      "application/vnd.plotly.v1+json": {
       "config": {
        "plotlyServerURL": "https://plot.ly"
       },
       "data": [
        {
         "customdata": [
          [
           0.8097275379976779,
           0.851816084086639,
           0.6056478544849295
          ],
          [
           0.8088411094483218,
           0.8516567123190696,
           0.6058151895597641
          ],
          [
           0.8081308188427869,
           0.8515504583388128,
           0.6054950274943774
          ],
          [
           0.8081301566700658,
           0.8513807525663235,
           0.6010448529678986
          ],
          [
           0.8081283908761429,
           0.8512684115447052,
           0.6047371981032114
          ]
         ],
         "hovertemplate": "classifier=%{x}<br>mean_test_accuracy=%{customdata[0]}<br>mean_test_roc_auc=%{customdata[1]}<br>mean_test_f1=%{customdata[2]}<extra></extra>",
         "legendgroup": "XGBCl",
         "marker": {
          "color": "#636efa",
          "size": [
           0.851816084086639,
           0.8516567123190696,
           0.8515504583388128,
           0.8513807525663235,
           0.8512684115447052
          ],
          "sizemode": "area",
          "sizeref": 0.0021296578193492092,
          "symbol": "circle"
         },
         "mode": "markers",
         "name": "XGBCl",
         "showlegend": true,
         "type": "scatter",
         "x": [
          "XGBCl",
          "XGBCl",
          "XGBCl",
          "XGBCl",
          "XGBCl"
         ],
         "xaxis": "x",
         "y": [
          0.8097275379976779,
          0.8088411094483218,
          0.8081308188427869,
          0.8081301566700658,
          0.8081283908761429
         ],
         "yaxis": "y"
        },
        {
         "customdata": [
          [
           0.8075971076295542,
           0.8518631277396836,
           0.6072843094179914
          ],
          [
           0.8075966661810733,
           0.8513252518731128,
           0.6018821613955793
          ],
          [
           0.8074200867887713,
           0.851087797310367,
           0.6007383286317785
          ],
          [
           0.8074196453402905,
           0.8514919766590989,
           0.6022151101281451
          ],
          [
           0.8072419623267868,
           0.8500427904785878,
           0.6007215330858425
          ]
         ],
         "hovertemplate": "classifier=%{x}<br>mean_test_accuracy=%{customdata[0]}<br>mean_test_roc_auc=%{customdata[1]}<br>mean_test_f1=%{customdata[2]}<extra></extra>",
         "legendgroup": "LGBMCl",
         "marker": {
          "color": "#EF553B",
          "size": [
           0.8518631277396836,
           0.8513252518731128,
           0.851087797310367,
           0.8514919766590989,
           0.8500427904785878
          ],
          "sizemode": "area",
          "sizeref": 0.0021296578193492092,
          "symbol": "circle"
         },
         "mode": "markers",
         "name": "LGBMCl",
         "showlegend": true,
         "type": "scatter",
         "x": [
          "LGBMCl",
          "LGBMCl",
          "LGBMCl",
          "LGBMCl",
          "LGBMCl"
         ],
         "xaxis": "x",
         "y": [
          0.8075971076295542,
          0.8075966661810733,
          0.8074200867887713,
          0.8074196453402905,
          0.8072419623267868
         ],
         "yaxis": "y"
        },
        {
         "customdata": [
          [
           0.8051139599253069,
           0.8481215658098952,
           0.6037457710020029
          ],
          [
           0.8047588146225395,
           0.8481304653198274,
           0.6029884939255163
          ],
          [
           0.804581352333276,
           0.8481462735841504,
           0.6027725916428894
          ],
          [
           0.8042262070305084,
           0.848285279240532,
           0.6028328380741852
          ],
          [
           0.8040487447412451,
           0.8482672592907639,
           0.6035541779755472
          ]
         ],
         "hovertemplate": "classifier=%{x}<br>mean_test_accuracy=%{customdata[0]}<br>mean_test_roc_auc=%{customdata[1]}<br>mean_test_f1=%{customdata[2]}<extra></extra>",
         "legendgroup": "LogisticReg_liblinear",
         "marker": {
          "color": "#00cc96",
          "size": [
           0.8481215658098952,
           0.8481304653198274,
           0.8481462735841504,
           0.848285279240532,
           0.8482672592907639
          ],
          "sizemode": "area",
          "sizeref": 0.0021296578193492092,
          "symbol": "circle"
         },
         "mode": "markers",
         "name": "LogisticReg_liblinear",
         "showlegend": true,
         "type": "scatter",
         "x": [
          "LogisticReg_liblinear",
          "LogisticReg_liblinear",
          "LogisticReg_liblinear",
          "LogisticReg_liblinear",
          "LogisticReg_liblinear"
         ],
         "xaxis": "x",
         "y": [
          0.8051139599253069,
          0.8047588146225395,
          0.804581352333276,
          0.8042262070305084,
          0.8040487447412451
         ],
         "yaxis": "y"
        },
        {
         "customdata": [
          [
           0.8028060672679196,
           0.8461121340468695,
           0.5958645189607596
          ],
          [
           0.8013857067810902,
           0.8461671969540883,
           0.5920133522184107
          ],
          [
           0.8010310029268035,
           0.8459103922050922,
           0.5931280827650687
          ],
          [
           0.8004988367832533,
           0.8458785313276701,
           0.5929957780840448
          ]
         ],
         "hovertemplate": "classifier=%{x}<br>mean_test_accuracy=%{customdata[0]}<br>mean_test_roc_auc=%{customdata[1]}<br>mean_test_f1=%{customdata[2]}<extra></extra>",
         "legendgroup": "LogisticReg_lbfgs",
         "marker": {
          "color": "#ab63fa",
          "size": [
           0.8461121340468695,
           0.8461671969540883,
           0.8459103922050922,
           0.8458785313276701
          ],
          "sizemode": "area",
          "sizeref": 0.0021296578193492092,
          "symbol": "circle"
         },
         "mode": "markers",
         "name": "LogisticReg_lbfgs",
         "showlegend": true,
         "type": "scatter",
         "x": [
          "LogisticReg_lbfgs",
          "LogisticReg_lbfgs",
          "LogisticReg_lbfgs",
          "LogisticReg_lbfgs"
         ],
         "xaxis": "x",
         "y": [
          0.8028060672679196,
          0.8013857067810902,
          0.8010310029268035,
          0.8004988367832533
         ],
         "yaxis": "y"
        },
        {
         "customdata": [
          [
           0.7987253175118197,
           0.8266683262054434,
           0.567650601572847
          ],
          [
           0.7965946664194555,
           0.8067359032320718,
           0.5352502979388488
          ],
          [
           0.791269252671867,
           0.8007664574770982,
           0.5310499501951628
          ],
          [
           0.7910922318310841,
           0.8000437218729713,
           0.5299703792267838
          ]
         ],
         "hovertemplate": "classifier=%{x}<br>mean_test_accuracy=%{customdata[0]}<br>mean_test_roc_auc=%{customdata[1]}<br>mean_test_f1=%{customdata[2]}<extra></extra>",
         "legendgroup": "SVC_linear",
         "marker": {
          "color": "#FFA15A",
          "size": [
           0.8266683262054434,
           0.8067359032320718,
           0.8007664574770982,
           0.8000437218729713
          ],
          "sizemode": "area",
          "sizeref": 0.0021296578193492092,
          "symbol": "circle"
         },
         "mode": "markers",
         "name": "SVC_linear",
         "showlegend": true,
         "type": "scatter",
         "x": [
          "SVC_linear",
          "SVC_linear",
          "SVC_linear",
          "SVC_linear"
         ],
         "xaxis": "x",
         "y": [
          0.7987253175118197,
          0.7965946664194555,
          0.791269252671867,
          0.7910922318310841
         ],
         "yaxis": "y"
        },
        {
         "customdata": [
          [
           0.7974808742445713,
           0.8484954769515317,
           0.5489649176451337
          ],
          [
           0.7973034119553077,
           0.8462220327427664,
           0.5365936339765022
          ],
          [
           0.7953517682218897,
           0.8436676193953759,
           0.5108100792855929
          ],
          [
           0.7859442803727591,
           0.8393748242132011,
           0.43786242963611305
          ]
         ],
         "hovertemplate": "classifier=%{x}<br>mean_test_accuracy=%{customdata[0]}<br>mean_test_roc_auc=%{customdata[1]}<br>mean_test_f1=%{customdata[2]}<extra></extra>",
         "legendgroup": "RandomForestCl",
         "marker": {
          "color": "#19d3f3",
          "size": [
           0.8484954769515317,
           0.8462220327427664,
           0.8436676193953759,
           0.8393748242132011
          ],
          "sizemode": "area",
          "sizeref": 0.0021296578193492092,
          "symbol": "circle"
         },
         "mode": "markers",
         "name": "RandomForestCl",
         "showlegend": true,
         "type": "scatter",
         "x": [
          "RandomForestCl",
          "RandomForestCl",
          "RandomForestCl",
          "RandomForestCl"
         ],
         "xaxis": "x",
         "y": [
          0.7974808742445713,
          0.7973034119553077,
          0.7953517682218897,
          0.7859442803727591
         ],
         "yaxis": "y"
        },
        {
         "customdata": [
          [
           0.7932228829234484,
           0.822591174521487,
           0.5636363923405575
          ],
          [
           0.791269914844588,
           0.8066582012473528,
           0.5045466020510336
          ],
          [
           0.7902042582120453,
           0.8122038579408235,
           0.5718655066110019
          ],
          [
           0.7902033753150839,
           0.8206258332649667,
           0.5676533991809317
          ]
         ],
         "hovertemplate": "classifier=%{x}<br>mean_test_accuracy=%{customdata[0]}<br>mean_test_roc_auc=%{customdata[1]}<br>mean_test_f1=%{customdata[2]}<extra></extra>",
         "legendgroup": "DecisionTreeCl",
         "marker": {
          "color": "#FF6692",
          "size": [
           0.822591174521487,
           0.8066582012473528,
           0.8122038579408235,
           0.8206258332649667
          ],
          "sizemode": "area",
          "sizeref": 0.0021296578193492092,
          "symbol": "circle"
         },
         "mode": "markers",
         "name": "DecisionTreeCl",
         "showlegend": true,
         "type": "scatter",
         "x": [
          "DecisionTreeCl",
          "DecisionTreeCl",
          "DecisionTreeCl",
          "DecisionTreeCl"
         ],
         "xaxis": "x",
         "y": [
          0.7932228829234484,
          0.791269914844588,
          0.7902042582120453,
          0.7902033753150839
         ],
         "yaxis": "y"
        },
        {
         "customdata": [
          [
           0.7878981313485809,
           0.8009691562870239,
           0.4843019778566477
          ],
          [
           0.777957153010458,
           0.7955854326511547,
           0.37178295683859847
          ],
          [
           0.7671277596048153,
           0.6957372058093517,
           0.30773202621005635
          ],
          [
           0.76393233477687,
           0.688668094117293,
           0.3617847349304192
          ],
          [
           0.7596723569375836,
           0.6827214128064758,
           0.3558302473036815
          ]
         ],
         "hovertemplate": "classifier=%{x}<br>mean_test_accuracy=%{customdata[0]}<br>mean_test_roc_auc=%{customdata[1]}<br>mean_test_f1=%{customdata[2]}<extra></extra>",
         "legendgroup": "SVC_rbf",
         "marker": {
          "color": "#B6E880",
          "size": [
           0.8009691562870239,
           0.7955854326511547,
           0.6957372058093517,
           0.688668094117293,
           0.6827214128064758
          ],
          "sizemode": "area",
          "sizeref": 0.0021296578193492092,
          "symbol": "circle"
         },
         "mode": "markers",
         "name": "SVC_rbf",
         "showlegend": true,
         "type": "scatter",
         "x": [
          "SVC_rbf",
          "SVC_rbf",
          "SVC_rbf",
          "SVC_rbf",
          "SVC_rbf"
         ],
         "xaxis": "x",
         "y": [
          0.7878981313485809,
          0.777957153010458,
          0.7671277596048153,
          0.76393233477687,
          0.7596723569375836
         ],
         "yaxis": "y"
        },
        {
         "customdata": [
          [
           0.7667741593717304,
           0.7344813874472383,
           0.43566685781187087
          ],
          [
           0.7532859217665003,
           0.7216944165925335,
           0.4973358147288486
          ],
          [
           0.7474290040480824,
           0.7200649452573656,
           0.4942044066690628
          ],
          [
           0.7447650831909662,
           0.7320670783773913,
           0.48326307022745735
          ]
         ],
         "hovertemplate": "classifier=%{x}<br>mean_test_accuracy=%{customdata[0]}<br>mean_test_roc_auc=%{customdata[1]}<br>mean_test_f1=%{customdata[2]}<extra></extra>",
         "legendgroup": "KNeighborsCl",
         "marker": {
          "color": "#FF97FF",
          "size": [
           0.7344813874472383,
           0.7216944165925335,
           0.7200649452573656,
           0.7320670783773913
          ],
          "sizemode": "area",
          "sizeref": 0.0021296578193492092,
          "symbol": "circle"
         },
         "mode": "markers",
         "name": "KNeighborsCl",
         "showlegend": true,
         "type": "scatter",
         "x": [
          "KNeighborsCl",
          "KNeighborsCl",
          "KNeighborsCl",
          "KNeighborsCl"
         ],
         "xaxis": "x",
         "y": [
          0.7667741593717304,
          0.7532859217665003,
          0.7474290040480824,
          0.7447650831909662
         ],
         "yaxis": "y"
        }
       ],
       "layout": {
        "height": 800,
        "legend": {
         "itemsizing": "constant",
         "orientation": "v",
         "title": {
          "text": "classifier"
         },
         "tracegroupgap": 0
        },
        "margin": {
         "t": 60
        },
        "template": {
         "data": {
          "bar": [
           {
            "error_x": {
             "color": "#2a3f5f"
            },
            "error_y": {
             "color": "#2a3f5f"
            },
            "marker": {
             "line": {
              "color": "#E5ECF6",
              "width": 0.5
             }
            },
            "type": "bar"
           }
          ],
          "barpolar": [
           {
            "marker": {
             "line": {
              "color": "#E5ECF6",
              "width": 0.5
             }
            },
            "type": "barpolar"
           }
          ],
          "carpet": [
           {
            "aaxis": {
             "endlinecolor": "#2a3f5f",
             "gridcolor": "white",
             "linecolor": "white",
             "minorgridcolor": "white",
             "startlinecolor": "#2a3f5f"
            },
            "baxis": {
             "endlinecolor": "#2a3f5f",
             "gridcolor": "white",
             "linecolor": "white",
             "minorgridcolor": "white",
             "startlinecolor": "#2a3f5f"
            },
            "type": "carpet"
           }
          ],
          "choropleth": [
           {
            "colorbar": {
             "outlinewidth": 0,
             "ticks": ""
            },
            "type": "choropleth"
           }
          ],
          "contour": [
           {
            "colorbar": {
             "outlinewidth": 0,
             "ticks": ""
            },
            "colorscale": [
             [
              0,
              "#0d0887"
             ],
             [
              0.1111111111111111,
              "#46039f"
             ],
             [
              0.2222222222222222,
              "#7201a8"
             ],
             [
              0.3333333333333333,
              "#9c179e"
             ],
             [
              0.4444444444444444,
              "#bd3786"
             ],
             [
              0.5555555555555556,
              "#d8576b"
             ],
             [
              0.6666666666666666,
              "#ed7953"
             ],
             [
              0.7777777777777778,
              "#fb9f3a"
             ],
             [
              0.8888888888888888,
              "#fdca26"
             ],
             [
              1,
              "#f0f921"
             ]
            ],
            "type": "contour"
           }
          ],
          "contourcarpet": [
           {
            "colorbar": {
             "outlinewidth": 0,
             "ticks": ""
            },
            "type": "contourcarpet"
           }
          ],
          "heatmap": [
           {
            "colorbar": {
             "outlinewidth": 0,
             "ticks": ""
            },
            "colorscale": [
             [
              0,
              "#0d0887"
             ],
             [
              0.1111111111111111,
              "#46039f"
             ],
             [
              0.2222222222222222,
              "#7201a8"
             ],
             [
              0.3333333333333333,
              "#9c179e"
             ],
             [
              0.4444444444444444,
              "#bd3786"
             ],
             [
              0.5555555555555556,
              "#d8576b"
             ],
             [
              0.6666666666666666,
              "#ed7953"
             ],
             [
              0.7777777777777778,
              "#fb9f3a"
             ],
             [
              0.8888888888888888,
              "#fdca26"
             ],
             [
              1,
              "#f0f921"
             ]
            ],
            "type": "heatmap"
           }
          ],
          "heatmapgl": [
           {
            "colorbar": {
             "outlinewidth": 0,
             "ticks": ""
            },
            "colorscale": [
             [
              0,
              "#0d0887"
             ],
             [
              0.1111111111111111,
              "#46039f"
             ],
             [
              0.2222222222222222,
              "#7201a8"
             ],
             [
              0.3333333333333333,
              "#9c179e"
             ],
             [
              0.4444444444444444,
              "#bd3786"
             ],
             [
              0.5555555555555556,
              "#d8576b"
             ],
             [
              0.6666666666666666,
              "#ed7953"
             ],
             [
              0.7777777777777778,
              "#fb9f3a"
             ],
             [
              0.8888888888888888,
              "#fdca26"
             ],
             [
              1,
              "#f0f921"
             ]
            ],
            "type": "heatmapgl"
           }
          ],
          "histogram": [
           {
            "marker": {
             "colorbar": {
              "outlinewidth": 0,
              "ticks": ""
             }
            },
            "type": "histogram"
           }
          ],
          "histogram2d": [
           {
            "colorbar": {
             "outlinewidth": 0,
             "ticks": ""
            },
            "colorscale": [
             [
              0,
              "#0d0887"
             ],
             [
              0.1111111111111111,
              "#46039f"
             ],
             [
              0.2222222222222222,
              "#7201a8"
             ],
             [
              0.3333333333333333,
              "#9c179e"
             ],
             [
              0.4444444444444444,
              "#bd3786"
             ],
             [
              0.5555555555555556,
              "#d8576b"
             ],
             [
              0.6666666666666666,
              "#ed7953"
             ],
             [
              0.7777777777777778,
              "#fb9f3a"
             ],
             [
              0.8888888888888888,
              "#fdca26"
             ],
             [
              1,
              "#f0f921"
             ]
            ],
            "type": "histogram2d"
           }
          ],
          "histogram2dcontour": [
           {
            "colorbar": {
             "outlinewidth": 0,
             "ticks": ""
            },
            "colorscale": [
             [
              0,
              "#0d0887"
             ],
             [
              0.1111111111111111,
              "#46039f"
             ],
             [
              0.2222222222222222,
              "#7201a8"
             ],
             [
              0.3333333333333333,
              "#9c179e"
             ],
             [
              0.4444444444444444,
              "#bd3786"
             ],
             [
              0.5555555555555556,
              "#d8576b"
             ],
             [
              0.6666666666666666,
              "#ed7953"
             ],
             [
              0.7777777777777778,
              "#fb9f3a"
             ],
             [
              0.8888888888888888,
              "#fdca26"
             ],
             [
              1,
              "#f0f921"
             ]
            ],
            "type": "histogram2dcontour"
           }
          ],
          "mesh3d": [
           {
            "colorbar": {
             "outlinewidth": 0,
             "ticks": ""
            },
            "type": "mesh3d"
           }
          ],
          "parcoords": [
           {
            "line": {
             "colorbar": {
              "outlinewidth": 0,
              "ticks": ""
             }
            },
            "type": "parcoords"
           }
          ],
          "pie": [
           {
            "automargin": true,
            "type": "pie"
           }
          ],
          "scatter": [
           {
            "marker": {
             "colorbar": {
              "outlinewidth": 0,
              "ticks": ""
             }
            },
            "type": "scatter"
           }
          ],
          "scatter3d": [
           {
            "line": {
             "colorbar": {
              "outlinewidth": 0,
              "ticks": ""
             }
            },
            "marker": {
             "colorbar": {
              "outlinewidth": 0,
              "ticks": ""
             }
            },
            "type": "scatter3d"
           }
          ],
          "scattercarpet": [
           {
            "marker": {
             "colorbar": {
              "outlinewidth": 0,
              "ticks": ""
             }
            },
            "type": "scattercarpet"
           }
          ],
          "scattergeo": [
           {
            "marker": {
             "colorbar": {
              "outlinewidth": 0,
              "ticks": ""
             }
            },
            "type": "scattergeo"
           }
          ],
          "scattergl": [
           {
            "marker": {
             "colorbar": {
              "outlinewidth": 0,
              "ticks": ""
             }
            },
            "type": "scattergl"
           }
          ],
          "scattermapbox": [
           {
            "marker": {
             "colorbar": {
              "outlinewidth": 0,
              "ticks": ""
             }
            },
            "type": "scattermapbox"
           }
          ],
          "scatterpolar": [
           {
            "marker": {
             "colorbar": {
              "outlinewidth": 0,
              "ticks": ""
             }
            },
            "type": "scatterpolar"
           }
          ],
          "scatterpolargl": [
           {
            "marker": {
             "colorbar": {
              "outlinewidth": 0,
              "ticks": ""
             }
            },
            "type": "scatterpolargl"
           }
          ],
          "scatterternary": [
           {
            "marker": {
             "colorbar": {
              "outlinewidth": 0,
              "ticks": ""
             }
            },
            "type": "scatterternary"
           }
          ],
          "surface": [
           {
            "colorbar": {
             "outlinewidth": 0,
             "ticks": ""
            },
            "colorscale": [
             [
              0,
              "#0d0887"
             ],
             [
              0.1111111111111111,
              "#46039f"
             ],
             [
              0.2222222222222222,
              "#7201a8"
             ],
             [
              0.3333333333333333,
              "#9c179e"
             ],
             [
              0.4444444444444444,
              "#bd3786"
             ],
             [
              0.5555555555555556,
              "#d8576b"
             ],
             [
              0.6666666666666666,
              "#ed7953"
             ],
             [
              0.7777777777777778,
              "#fb9f3a"
             ],
             [
              0.8888888888888888,
              "#fdca26"
             ],
             [
              1,
              "#f0f921"
             ]
            ],
            "type": "surface"
           }
          ],
          "table": [
           {
            "cells": {
             "fill": {
              "color": "#EBF0F8"
             },
             "line": {
              "color": "white"
             }
            },
            "header": {
             "fill": {
              "color": "#C8D4E3"
             },
             "line": {
              "color": "white"
             }
            },
            "type": "table"
           }
          ]
         },
         "layout": {
          "annotationdefaults": {
           "arrowcolor": "#2a3f5f",
           "arrowhead": 0,
           "arrowwidth": 1
          },
          "coloraxis": {
           "colorbar": {
            "outlinewidth": 0,
            "ticks": ""
           }
          },
          "colorscale": {
           "diverging": [
            [
             0,
             "#8e0152"
            ],
            [
             0.1,
             "#c51b7d"
            ],
            [
             0.2,
             "#de77ae"
            ],
            [
             0.3,
             "#f1b6da"
            ],
            [
             0.4,
             "#fde0ef"
            ],
            [
             0.5,
             "#f7f7f7"
            ],
            [
             0.6,
             "#e6f5d0"
            ],
            [
             0.7,
             "#b8e186"
            ],
            [
             0.8,
             "#7fbc41"
            ],
            [
             0.9,
             "#4d9221"
            ],
            [
             1,
             "#276419"
            ]
           ],
           "sequential": [
            [
             0,
             "#0d0887"
            ],
            [
             0.1111111111111111,
             "#46039f"
            ],
            [
             0.2222222222222222,
             "#7201a8"
            ],
            [
             0.3333333333333333,
             "#9c179e"
            ],
            [
             0.4444444444444444,
             "#bd3786"
            ],
            [
             0.5555555555555556,
             "#d8576b"
            ],
            [
             0.6666666666666666,
             "#ed7953"
            ],
            [
             0.7777777777777778,
             "#fb9f3a"
            ],
            [
             0.8888888888888888,
             "#fdca26"
            ],
            [
             1,
             "#f0f921"
            ]
           ],
           "sequentialminus": [
            [
             0,
             "#0d0887"
            ],
            [
             0.1111111111111111,
             "#46039f"
            ],
            [
             0.2222222222222222,
             "#7201a8"
            ],
            [
             0.3333333333333333,
             "#9c179e"
            ],
            [
             0.4444444444444444,
             "#bd3786"
            ],
            [
             0.5555555555555556,
             "#d8576b"
            ],
            [
             0.6666666666666666,
             "#ed7953"
            ],
            [
             0.7777777777777778,
             "#fb9f3a"
            ],
            [
             0.8888888888888888,
             "#fdca26"
            ],
            [
             1,
             "#f0f921"
            ]
           ]
          },
          "colorway": [
           "#636efa",
           "#EF553B",
           "#00cc96",
           "#ab63fa",
           "#FFA15A",
           "#19d3f3",
           "#FF6692",
           "#B6E880",
           "#FF97FF",
           "#FECB52"
          ],
          "font": {
           "color": "#2a3f5f"
          },
          "geo": {
           "bgcolor": "white",
           "lakecolor": "white",
           "landcolor": "#E5ECF6",
           "showlakes": true,
           "showland": true,
           "subunitcolor": "white"
          },
          "hoverlabel": {
           "align": "left"
          },
          "hovermode": "closest",
          "mapbox": {
           "style": "light"
          },
          "paper_bgcolor": "white",
          "plot_bgcolor": "#E5ECF6",
          "polar": {
           "angularaxis": {
            "gridcolor": "white",
            "linecolor": "white",
            "ticks": ""
           },
           "bgcolor": "#E5ECF6",
           "radialaxis": {
            "gridcolor": "white",
            "linecolor": "white",
            "ticks": ""
           }
          },
          "scene": {
           "xaxis": {
            "backgroundcolor": "#E5ECF6",
            "gridcolor": "white",
            "gridwidth": 2,
            "linecolor": "white",
            "showbackground": true,
            "ticks": "",
            "zerolinecolor": "white"
           },
           "yaxis": {
            "backgroundcolor": "#E5ECF6",
            "gridcolor": "white",
            "gridwidth": 2,
            "linecolor": "white",
            "showbackground": true,
            "ticks": "",
            "zerolinecolor": "white"
           },
           "zaxis": {
            "backgroundcolor": "#E5ECF6",
            "gridcolor": "white",
            "gridwidth": 2,
            "linecolor": "white",
            "showbackground": true,
            "ticks": "",
            "zerolinecolor": "white"
           }
          },
          "shapedefaults": {
           "line": {
            "color": "#2a3f5f"
           }
          },
          "ternary": {
           "aaxis": {
            "gridcolor": "white",
            "linecolor": "white",
            "ticks": ""
           },
           "baxis": {
            "gridcolor": "white",
            "linecolor": "white",
            "ticks": ""
           },
           "bgcolor": "#E5ECF6",
           "caxis": {
            "gridcolor": "white",
            "linecolor": "white",
            "ticks": ""
           }
          },
          "title": {
           "x": 0.05
          },
          "xaxis": {
           "automargin": true,
           "gridcolor": "white",
           "linecolor": "white",
           "ticks": "",
           "title": {
            "standoff": 15
           },
           "zerolinecolor": "white",
           "zerolinewidth": 2
          },
          "yaxis": {
           "automargin": true,
           "gridcolor": "white",
           "linecolor": "white",
           "ticks": "",
           "title": {
            "standoff": 15
           },
           "zerolinecolor": "white",
           "zerolinewidth": 2
          }
         }
        },
        "title": {
         "text": "Scores of Best Models by Type"
        },
        "width": 1300,
        "xaxis": {
         "anchor": "y",
         "autorange": true,
         "categoryarray": [
          "XGBCl",
          "LGBMCl",
          "LogisticReg_liblinear",
          "LogisticReg_lbfgs",
          "SVC_linear",
          "RandomForestCl",
          "DecisionTreeCl",
          "SVC_rbf",
          "KNeighborsCl"
         ],
         "categoryorder": "array",
         "domain": [
          0,
          1
         ],
         "range": [
          -0.6012802978081994,
          8.591162513032222
         ],
         "title": {
          "text": "Model Name"
         },
         "type": "category"
        },
        "yaxis": {
         "anchor": "x",
         "autorange": true,
         "domain": [
          0,
          1
         ],
         "range": [
          0.7392712475815683,
          0.8153543380828387
         ],
         "title": {
          "text": "Score"
         },
         "type": "linear"
        }
       }
      },
      "image/png": "[encoded data removed]",
      "text/html": [
       "<div>\n",
       "        \n",
       "        \n",
       "            <div id=\"227830b4-09c6-4f9d-9535-a6f6f795fa4c\" class=\"plotly-graph-div\" style=\"height:800px; width:1300px;\"></div>\n",
       "            <script type=\"text/javascript\">\n",
       "                require([\"plotly\"], function(Plotly) {\n",
       "                    window.PLOTLYENV=window.PLOTLYENV || {};\n",
       "                    \n",
       "                if (document.getElementById(\"227830b4-09c6-4f9d-9535-a6f6f795fa4c\")) {\n",
       "                    Plotly.newPlot(\n",
       "                        '227830b4-09c6-4f9d-9535-a6f6f795fa4c',\n",
       "                        [{\"customdata\": [[0.8097275379976779, 0.851816084086639, 0.6056478544849295], [0.8088411094483218, 0.8516567123190696, 0.6058151895597641], [0.8081308188427869, 0.8515504583388128, 0.6054950274943774], [0.8081301566700658, 0.8513807525663235, 0.6010448529678986], [0.8081283908761429, 0.8512684115447052, 0.6047371981032114]], \"hovertemplate\": \"classifier=%{x}<br>mean_test_accuracy=%{customdata[0]}<br>mean_test_roc_auc=%{customdata[1]}<br>mean_test_f1=%{customdata[2]}<extra></extra>\", \"legendgroup\": \"XGBCl\", \"marker\": {\"color\": \"#636efa\", \"size\": [0.851816084086639, 0.8516567123190696, 0.8515504583388128, 0.8513807525663235, 0.8512684115447052], \"sizemode\": \"area\", \"sizeref\": 0.0021296578193492092, \"symbol\": \"circle\"}, \"mode\": \"markers\", \"name\": \"XGBCl\", \"showlegend\": true, \"type\": \"scatter\", \"x\": [\"XGBCl\", \"XGBCl\", \"XGBCl\", \"XGBCl\", \"XGBCl\"], \"xaxis\": \"x\", \"y\": [0.8097275379976779, 0.8088411094483218, 0.8081308188427869, 0.8081301566700658, 0.8081283908761429], \"yaxis\": \"y\"}, {\"customdata\": [[0.8075971076295542, 0.8518631277396836, 0.6072843094179914], [0.8075966661810733, 0.8513252518731128, 0.6018821613955793], [0.8074200867887713, 0.851087797310367, 0.6007383286317785], [0.8074196453402905, 0.8514919766590989, 0.6022151101281451], [0.8072419623267868, 0.8500427904785878, 0.6007215330858425]], \"hovertemplate\": \"classifier=%{x}<br>mean_test_accuracy=%{customdata[0]}<br>mean_test_roc_auc=%{customdata[1]}<br>mean_test_f1=%{customdata[2]}<extra></extra>\", \"legendgroup\": \"LGBMCl\", \"marker\": {\"color\": \"#EF553B\", \"size\": [0.8518631277396836, 0.8513252518731128, 0.851087797310367, 0.8514919766590989, 0.8500427904785878], \"sizemode\": \"area\", \"sizeref\": 0.0021296578193492092, \"symbol\": \"circle\"}, \"mode\": \"markers\", \"name\": \"LGBMCl\", \"showlegend\": true, \"type\": \"scatter\", \"x\": [\"LGBMCl\", \"LGBMCl\", \"LGBMCl\", \"LGBMCl\", \"LGBMCl\"], \"xaxis\": \"x\", \"y\": [0.8075971076295542, 0.8075966661810733, 0.8074200867887713, 0.8074196453402905, 0.8072419623267868], \"yaxis\": \"y\"}, {\"customdata\": [[0.8051139599253069, 0.8481215658098952, 0.6037457710020029], [0.8047588146225395, 0.8481304653198274, 0.6029884939255163], [0.804581352333276, 0.8481462735841504, 0.6027725916428894], [0.8042262070305084, 0.848285279240532, 0.6028328380741852], [0.8040487447412451, 0.8482672592907639, 0.6035541779755472]], \"hovertemplate\": \"classifier=%{x}<br>mean_test_accuracy=%{customdata[0]}<br>mean_test_roc_auc=%{customdata[1]}<br>mean_test_f1=%{customdata[2]}<extra></extra>\", \"legendgroup\": \"LogisticReg_liblinear\", \"marker\": {\"color\": \"#00cc96\", \"size\": [0.8481215658098952, 0.8481304653198274, 0.8481462735841504, 0.848285279240532, 0.8482672592907639], \"sizemode\": \"area\", \"sizeref\": 0.0021296578193492092, \"symbol\": \"circle\"}, \"mode\": \"markers\", \"name\": \"LogisticReg_liblinear\", \"showlegend\": true, \"type\": \"scatter\", \"x\": [\"LogisticReg_liblinear\", \"LogisticReg_liblinear\", \"LogisticReg_liblinear\", \"LogisticReg_liblinear\", \"LogisticReg_liblinear\"], \"xaxis\": \"x\", \"y\": [0.8051139599253069, 0.8047588146225395, 0.804581352333276, 0.8042262070305084, 0.8040487447412451], \"yaxis\": \"y\"}, {\"customdata\": [[0.8028060672679196, 0.8461121340468695, 0.5958645189607596], [0.8013857067810902, 0.8461671969540883, 0.5920133522184107], [0.8010310029268035, 0.8459103922050922, 0.5931280827650687], [0.8004988367832533, 0.8458785313276701, 0.5929957780840448]], \"hovertemplate\": \"classifier=%{x}<br>mean_test_accuracy=%{customdata[0]}<br>mean_test_roc_auc=%{customdata[1]}<br>mean_test_f1=%{customdata[2]}<extra></extra>\", \"legendgroup\": \"LogisticReg_lbfgs\", \"marker\": {\"color\": \"#ab63fa\", \"size\": [0.8461121340468695, 0.8461671969540883, 0.8459103922050922, 0.8458785313276701], \"sizemode\": \"area\", \"sizeref\": 0.0021296578193492092, \"symbol\": \"circle\"}, \"mode\": \"markers\", \"name\": \"LogisticReg_lbfgs\", \"showlegend\": true, \"type\": \"scatter\", \"x\": [\"LogisticReg_lbfgs\", \"LogisticReg_lbfgs\", \"LogisticReg_lbfgs\", \"LogisticReg_lbfgs\"], \"xaxis\": \"x\", \"y\": [0.8028060672679196, 0.8013857067810902, 0.8010310029268035, 0.8004988367832533], \"yaxis\": \"y\"}, {\"customdata\": [[0.7987253175118197, 0.8266683262054434, 0.567650601572847], [0.7965946664194555, 0.8067359032320718, 0.5352502979388488], [0.791269252671867, 0.8007664574770982, 0.5310499501951628], [0.7910922318310841, 0.8000437218729713, 0.5299703792267838]], \"hovertemplate\": \"classifier=%{x}<br>mean_test_accuracy=%{customdata[0]}<br>mean_test_roc_auc=%{customdata[1]}<br>mean_test_f1=%{customdata[2]}<extra></extra>\", \"legendgroup\": \"SVC_linear\", \"marker\": {\"color\": \"#FFA15A\", \"size\": [0.8266683262054434, 0.8067359032320718, 0.8007664574770982, 0.8000437218729713], \"sizemode\": \"area\", \"sizeref\": 0.0021296578193492092, \"symbol\": \"circle\"}, \"mode\": \"markers\", \"name\": \"SVC_linear\", \"showlegend\": true, \"type\": \"scatter\", \"x\": [\"SVC_linear\", \"SVC_linear\", \"SVC_linear\", \"SVC_linear\"], \"xaxis\": \"x\", \"y\": [0.7987253175118197, 0.7965946664194555, 0.791269252671867, 0.7910922318310841], \"yaxis\": \"y\"}, {\"customdata\": [[0.7974808742445713, 0.8484954769515317, 0.5489649176451337], [0.7973034119553077, 0.8462220327427664, 0.5365936339765022], [0.7953517682218897, 0.8436676193953759, 0.5108100792855929], [0.7859442803727591, 0.8393748242132011, 0.43786242963611305]], \"hovertemplate\": \"classifier=%{x}<br>mean_test_accuracy=%{customdata[0]}<br>mean_test_roc_auc=%{customdata[1]}<br>mean_test_f1=%{customdata[2]}<extra></extra>\", \"legendgroup\": \"RandomForestCl\", \"marker\": {\"color\": \"#19d3f3\", \"size\": [0.8484954769515317, 0.8462220327427664, 0.8436676193953759, 0.8393748242132011], \"sizemode\": \"area\", \"sizeref\": 0.0021296578193492092, \"symbol\": \"circle\"}, \"mode\": \"markers\", \"name\": \"RandomForestCl\", \"showlegend\": true, \"type\": \"scatter\", \"x\": [\"RandomForestCl\", \"RandomForestCl\", \"RandomForestCl\", \"RandomForestCl\"], \"xaxis\": \"x\", \"y\": [0.7974808742445713, 0.7973034119553077, 0.7953517682218897, 0.7859442803727591], \"yaxis\": \"y\"}, {\"customdata\": [[0.7932228829234484, 0.822591174521487, 0.5636363923405575], [0.791269914844588, 0.8066582012473528, 0.5045466020510336], [0.7902042582120453, 0.8122038579408235, 0.5718655066110019], [0.7902033753150839, 0.8206258332649667, 0.5676533991809317]], \"hovertemplate\": \"classifier=%{x}<br>mean_test_accuracy=%{customdata[0]}<br>mean_test_roc_auc=%{customdata[1]}<br>mean_test_f1=%{customdata[2]}<extra></extra>\", \"legendgroup\": \"DecisionTreeCl\", \"marker\": {\"color\": \"#FF6692\", \"size\": [0.822591174521487, 0.8066582012473528, 0.8122038579408235, 0.8206258332649667], \"sizemode\": \"area\", \"sizeref\": 0.0021296578193492092, \"symbol\": \"circle\"}, \"mode\": \"markers\", \"name\": \"DecisionTreeCl\", \"showlegend\": true, \"type\": \"scatter\", \"x\": [\"DecisionTreeCl\", \"DecisionTreeCl\", \"DecisionTreeCl\", \"DecisionTreeCl\"], \"xaxis\": \"x\", \"y\": [0.7932228829234484, 0.791269914844588, 0.7902042582120453, 0.7902033753150839], \"yaxis\": \"y\"}, {\"customdata\": [[0.7878981313485809, 0.8009691562870239, 0.4843019778566477], [0.777957153010458, 0.7955854326511547, 0.37178295683859847], [0.7671277596048153, 0.6957372058093517, 0.30773202621005635], [0.76393233477687, 0.688668094117293, 0.3617847349304192], [0.7596723569375836, 0.6827214128064758, 0.3558302473036815]], \"hovertemplate\": \"classifier=%{x}<br>mean_test_accuracy=%{customdata[0]}<br>mean_test_roc_auc=%{customdata[1]}<br>mean_test_f1=%{customdata[2]}<extra></extra>\", \"legendgroup\": \"SVC_rbf\", \"marker\": {\"color\": \"#B6E880\", \"size\": [0.8009691562870239, 0.7955854326511547, 0.6957372058093517, 0.688668094117293, 0.6827214128064758], \"sizemode\": \"area\", \"sizeref\": 0.0021296578193492092, \"symbol\": \"circle\"}, \"mode\": \"markers\", \"name\": \"SVC_rbf\", \"showlegend\": true, \"type\": \"scatter\", \"x\": [\"SVC_rbf\", \"SVC_rbf\", \"SVC_rbf\", \"SVC_rbf\", \"SVC_rbf\"], \"xaxis\": \"x\", \"y\": [0.7878981313485809, 0.777957153010458, 0.7671277596048153, 0.76393233477687, 0.7596723569375836], \"yaxis\": \"y\"}, {\"customdata\": [[0.7667741593717304, 0.7344813874472383, 0.43566685781187087], [0.7532859217665003, 0.7216944165925335, 0.4973358147288486], [0.7474290040480824, 0.7200649452573656, 0.4942044066690628], [0.7447650831909662, 0.7320670783773913, 0.48326307022745735]], \"hovertemplate\": \"classifier=%{x}<br>mean_test_accuracy=%{customdata[0]}<br>mean_test_roc_auc=%{customdata[1]}<br>mean_test_f1=%{customdata[2]}<extra></extra>\", \"legendgroup\": \"KNeighborsCl\", \"marker\": {\"color\": \"#FF97FF\", \"size\": [0.7344813874472383, 0.7216944165925335, 0.7200649452573656, 0.7320670783773913], \"sizemode\": \"area\", \"sizeref\": 0.0021296578193492092, \"symbol\": \"circle\"}, \"mode\": \"markers\", \"name\": \"KNeighborsCl\", \"showlegend\": true, \"type\": \"scatter\", \"x\": [\"KNeighborsCl\", \"KNeighborsCl\", \"KNeighborsCl\", \"KNeighborsCl\"], \"xaxis\": \"x\", \"y\": [0.7667741593717304, 0.7532859217665003, 0.7474290040480824, 0.7447650831909662], \"yaxis\": \"y\"}],\n",
       "                        {\"height\": 800, \"legend\": {\"itemsizing\": \"constant\", \"orientation\": \"v\", \"title\": {\"text\": \"classifier\"}, \"tracegroupgap\": 0}, \"margin\": {\"t\": 60}, \"template\": {\"data\": {\"bar\": [{\"error_x\": {\"color\": \"#2a3f5f\"}, \"error_y\": {\"color\": \"#2a3f5f\"}, \"marker\": {\"line\": {\"color\": \"#E5ECF6\", \"width\": 0.5}}, \"type\": \"bar\"}], \"barpolar\": [{\"marker\": {\"line\": {\"color\": \"#E5ECF6\", \"width\": 0.5}}, \"type\": \"barpolar\"}], \"carpet\": [{\"aaxis\": {\"endlinecolor\": \"#2a3f5f\", \"gridcolor\": \"white\", \"linecolor\": \"white\", \"minorgridcolor\": \"white\", \"startlinecolor\": \"#2a3f5f\"}, \"baxis\": {\"endlinecolor\": \"#2a3f5f\", \"gridcolor\": \"white\", \"linecolor\": \"white\", \"minorgridcolor\": \"white\", \"startlinecolor\": \"#2a3f5f\"}, \"type\": \"carpet\"}], \"choropleth\": [{\"colorbar\": {\"outlinewidth\": 0, \"ticks\": \"\"}, \"type\": \"choropleth\"}], \"contour\": [{\"colorbar\": {\"outlinewidth\": 0, \"ticks\": \"\"}, \"colorscale\": [[0.0, \"#0d0887\"], [0.1111111111111111, \"#46039f\"], [0.2222222222222222, \"#7201a8\"], [0.3333333333333333, \"#9c179e\"], [0.4444444444444444, \"#bd3786\"], [0.5555555555555556, \"#d8576b\"], [0.6666666666666666, \"#ed7953\"], [0.7777777777777778, \"#fb9f3a\"], [0.8888888888888888, \"#fdca26\"], [1.0, \"#f0f921\"]], \"type\": \"contour\"}], \"contourcarpet\": [{\"colorbar\": {\"outlinewidth\": 0, \"ticks\": \"\"}, \"type\": \"contourcarpet\"}], \"heatmap\": [{\"colorbar\": {\"outlinewidth\": 0, \"ticks\": \"\"}, \"colorscale\": [[0.0, \"#0d0887\"], [0.1111111111111111, \"#46039f\"], [0.2222222222222222, \"#7201a8\"], [0.3333333333333333, \"#9c179e\"], [0.4444444444444444, \"#bd3786\"], [0.5555555555555556, \"#d8576b\"], [0.6666666666666666, \"#ed7953\"], [0.7777777777777778, \"#fb9f3a\"], [0.8888888888888888, \"#fdca26\"], [1.0, \"#f0f921\"]], \"type\": \"heatmap\"}], \"heatmapgl\": [{\"colorbar\": {\"outlinewidth\": 0, \"ticks\": \"\"}, \"colorscale\": [[0.0, \"#0d0887\"], [0.1111111111111111, \"#46039f\"], [0.2222222222222222, \"#7201a8\"], [0.3333333333333333, \"#9c179e\"], [0.4444444444444444, \"#bd3786\"], [0.5555555555555556, \"#d8576b\"], [0.6666666666666666, \"#ed7953\"], [0.7777777777777778, \"#fb9f3a\"], [0.8888888888888888, \"#fdca26\"], [1.0, \"#f0f921\"]], \"type\": \"heatmapgl\"}], \"histogram\": [{\"marker\": {\"colorbar\": {\"outlinewidth\": 0, \"ticks\": \"\"}}, \"type\": \"histogram\"}], \"histogram2d\": [{\"colorbar\": {\"outlinewidth\": 0, \"ticks\": \"\"}, \"colorscale\": [[0.0, \"#0d0887\"], [0.1111111111111111, \"#46039f\"], [0.2222222222222222, \"#7201a8\"], [0.3333333333333333, \"#9c179e\"], [0.4444444444444444, \"#bd3786\"], [0.5555555555555556, \"#d8576b\"], [0.6666666666666666, \"#ed7953\"], [0.7777777777777778, \"#fb9f3a\"], [0.8888888888888888, \"#fdca26\"], [1.0, \"#f0f921\"]], \"type\": \"histogram2d\"}], \"histogram2dcontour\": [{\"colorbar\": {\"outlinewidth\": 0, \"ticks\": \"\"}, \"colorscale\": [[0.0, \"#0d0887\"], [0.1111111111111111, \"#46039f\"], [0.2222222222222222, \"#7201a8\"], [0.3333333333333333, \"#9c179e\"], [0.4444444444444444, \"#bd3786\"], [0.5555555555555556, \"#d8576b\"], [0.6666666666666666, \"#ed7953\"], [0.7777777777777778, \"#fb9f3a\"], [0.8888888888888888, \"#fdca26\"], [1.0, \"#f0f921\"]], \"type\": \"histogram2dcontour\"}], \"mesh3d\": [{\"colorbar\": {\"outlinewidth\": 0, \"ticks\": \"\"}, \"type\": \"mesh3d\"}], \"parcoords\": [{\"line\": {\"colorbar\": {\"outlinewidth\": 0, \"ticks\": \"\"}}, \"type\": \"parcoords\"}], \"pie\": [{\"automargin\": true, \"type\": \"pie\"}], \"scatter\": [{\"marker\": {\"colorbar\": {\"outlinewidth\": 0, \"ticks\": \"\"}}, \"type\": \"scatter\"}], \"scatter3d\": [{\"line\": {\"colorbar\": {\"outlinewidth\": 0, \"ticks\": \"\"}}, \"marker\": {\"colorbar\": {\"outlinewidth\": 0, \"ticks\": \"\"}}, \"type\": \"scatter3d\"}], \"scattercarpet\": [{\"marker\": {\"colorbar\": {\"outlinewidth\": 0, \"ticks\": \"\"}}, \"type\": \"scattercarpet\"}], \"scattergeo\": [{\"marker\": {\"colorbar\": {\"outlinewidth\": 0, \"ticks\": \"\"}}, \"type\": \"scattergeo\"}], \"scattergl\": [{\"marker\": {\"colorbar\": {\"outlinewidth\": 0, \"ticks\": \"\"}}, \"type\": \"scattergl\"}], \"scattermapbox\": [{\"marker\": {\"colorbar\": {\"outlinewidth\": 0, \"ticks\": \"\"}}, \"type\": \"scattermapbox\"}], \"scatterpolar\": [{\"marker\": {\"colorbar\": {\"outlinewidth\": 0, \"ticks\": \"\"}}, \"type\": \"scatterpolar\"}], \"scatterpolargl\": [{\"marker\": {\"colorbar\": {\"outlinewidth\": 0, \"ticks\": \"\"}}, \"type\": \"scatterpolargl\"}], \"scatterternary\": [{\"marker\": {\"colorbar\": {\"outlinewidth\": 0, \"ticks\": \"\"}}, \"type\": \"scatterternary\"}], \"surface\": [{\"colorbar\": {\"outlinewidth\": 0, \"ticks\": \"\"}, \"colorscale\": [[0.0, \"#0d0887\"], [0.1111111111111111, \"#46039f\"], [0.2222222222222222, \"#7201a8\"], [0.3333333333333333, \"#9c179e\"], [0.4444444444444444, \"#bd3786\"], [0.5555555555555556, \"#d8576b\"], [0.6666666666666666, \"#ed7953\"], [0.7777777777777778, \"#fb9f3a\"], [0.8888888888888888, \"#fdca26\"], [1.0, \"#f0f921\"]], \"type\": \"surface\"}], \"table\": [{\"cells\": {\"fill\": {\"color\": \"#EBF0F8\"}, \"line\": {\"color\": \"white\"}}, \"header\": {\"fill\": {\"color\": \"#C8D4E3\"}, \"line\": {\"color\": \"white\"}}, \"type\": \"table\"}]}, \"layout\": {\"annotationdefaults\": {\"arrowcolor\": \"#2a3f5f\", \"arrowhead\": 0, \"arrowwidth\": 1}, \"coloraxis\": {\"colorbar\": {\"outlinewidth\": 0, \"ticks\": \"\"}}, \"colorscale\": {\"diverging\": [[0, \"#8e0152\"], [0.1, \"#c51b7d\"], [0.2, \"#de77ae\"], [0.3, \"#f1b6da\"], [0.4, \"#fde0ef\"], [0.5, \"#f7f7f7\"], [0.6, \"#e6f5d0\"], [0.7, \"#b8e186\"], [0.8, \"#7fbc41\"], [0.9, \"#4d9221\"], [1, \"#276419\"]], \"sequential\": [[0.0, \"#0d0887\"], [0.1111111111111111, \"#46039f\"], [0.2222222222222222, \"#7201a8\"], [0.3333333333333333, \"#9c179e\"], [0.4444444444444444, \"#bd3786\"], [0.5555555555555556, \"#d8576b\"], [0.6666666666666666, \"#ed7953\"], [0.7777777777777778, \"#fb9f3a\"], [0.8888888888888888, \"#fdca26\"], [1.0, \"#f0f921\"]], \"sequentialminus\": [[0.0, \"#0d0887\"], [0.1111111111111111, \"#46039f\"], [0.2222222222222222, \"#7201a8\"], [0.3333333333333333, \"#9c179e\"], [0.4444444444444444, \"#bd3786\"], [0.5555555555555556, \"#d8576b\"], [0.6666666666666666, \"#ed7953\"], [0.7777777777777778, \"#fb9f3a\"], [0.8888888888888888, \"#fdca26\"], [1.0, \"#f0f921\"]]}, \"colorway\": [\"#636efa\", \"#EF553B\", \"#00cc96\", \"#ab63fa\", \"#FFA15A\", \"#19d3f3\", \"#FF6692\", \"#B6E880\", \"#FF97FF\", \"#FECB52\"], \"font\": {\"color\": \"#2a3f5f\"}, \"geo\": {\"bgcolor\": \"white\", \"lakecolor\": \"white\", \"landcolor\": \"#E5ECF6\", \"showlakes\": true, \"showland\": true, \"subunitcolor\": \"white\"}, \"hoverlabel\": {\"align\": \"left\"}, \"hovermode\": \"closest\", \"mapbox\": {\"style\": \"light\"}, \"paper_bgcolor\": \"white\", \"plot_bgcolor\": \"#E5ECF6\", \"polar\": {\"angularaxis\": {\"gridcolor\": \"white\", \"linecolor\": \"white\", \"ticks\": \"\"}, \"bgcolor\": \"#E5ECF6\", \"radialaxis\": {\"gridcolor\": \"white\", \"linecolor\": \"white\", \"ticks\": \"\"}}, \"scene\": {\"xaxis\": {\"backgroundcolor\": \"#E5ECF6\", \"gridcolor\": \"white\", \"gridwidth\": 2, \"linecolor\": \"white\", \"showbackground\": true, \"ticks\": \"\", \"zerolinecolor\": \"white\"}, \"yaxis\": {\"backgroundcolor\": \"#E5ECF6\", \"gridcolor\": \"white\", \"gridwidth\": 2, \"linecolor\": \"white\", \"showbackground\": true, \"ticks\": \"\", \"zerolinecolor\": \"white\"}, \"zaxis\": {\"backgroundcolor\": \"#E5ECF6\", \"gridcolor\": \"white\", \"gridwidth\": 2, \"linecolor\": \"white\", \"showbackground\": true, \"ticks\": \"\", \"zerolinecolor\": \"white\"}}, \"shapedefaults\": {\"line\": {\"color\": \"#2a3f5f\"}}, \"ternary\": {\"aaxis\": {\"gridcolor\": \"white\", \"linecolor\": \"white\", \"ticks\": \"\"}, \"baxis\": {\"gridcolor\": \"white\", \"linecolor\": \"white\", \"ticks\": \"\"}, \"bgcolor\": \"#E5ECF6\", \"caxis\": {\"gridcolor\": \"white\", \"linecolor\": \"white\", \"ticks\": \"\"}}, \"title\": {\"x\": 0.05}, \"xaxis\": {\"automargin\": true, \"gridcolor\": \"white\", \"linecolor\": \"white\", \"ticks\": \"\", \"title\": {\"standoff\": 15}, \"zerolinecolor\": \"white\", \"zerolinewidth\": 2}, \"yaxis\": {\"automargin\": true, \"gridcolor\": \"white\", \"linecolor\": \"white\", \"ticks\": \"\", \"title\": {\"standoff\": 15}, \"zerolinecolor\": \"white\", \"zerolinewidth\": 2}}}, \"title\": {\"text\": \"Scores of Best Models by Type\"}, \"width\": 1300, \"xaxis\": {\"anchor\": \"y\", \"categoryarray\": [\"XGBCl\", \"LGBMCl\", \"LogisticReg_liblinear\", \"LogisticReg_lbfgs\", \"SVC_linear\", \"RandomForestCl\", \"DecisionTreeCl\", \"SVC_rbf\", \"KNeighborsCl\"], \"categoryorder\": \"array\", \"domain\": [0.0, 1.0], \"title\": {\"text\": \"Model Name\"}}, \"yaxis\": {\"anchor\": \"x\", \"domain\": [0.0, 1.0], \"title\": {\"text\": \"Score\"}}},\n",
       "                        {\"responsive\": true}\n",
       "                    ).then(function(){\n",
       "                            \n",
       "var gd = document.getElementById('227830b4-09c6-4f9d-9535-a6f6f795fa4c');\n",
       "var x = new MutationObserver(function (mutations, observer) {{\n",
       "        var display = window.getComputedStyle(gd).display;\n",
       "        if (!display || display === 'none') {{\n",
       "            console.log([gd, 'removed!']);\n",
       "            Plotly.purge(gd);\n",
       "            observer.disconnect();\n",
       "        }}\n",
       "}});\n",
       "\n",
       "// Listen for the removal of the full notebook cells\n",
       "var notebookContainer = gd.closest('#notebook-container');\n",
       "if (notebookContainer) {{\n",
       "    x.observe(notebookContainer, {childList: true});\n",
       "}}\n",
       "\n",
       "// Listen for the clearing of the current output cell\n",
       "var outputEl = gd.closest('.output');\n",
       "if (outputEl) {{\n",
       "    x.observe(outputEl, {childList: true});\n",
       "}}\n",
       "\n",
       "                        })\n",
       "                };\n",
       "                });\n",
       "            </script>\n",
       "        </div>"
      ]
     },
     "metadata": {},
     "output_type": "display_data"
    }
   ],
   "source": [
    "fig = px.scatter(best_of_classifiers_1, x=\"classifier\", y=\"mean_test_accuracy\", color=\"classifier\",\n",
    "                 size='mean_test_roc_auc', hover_data=['mean_test_accuracy','mean_test_roc_auc',\n",
    "                                                       'mean_test_f1'])\n",
    "# layout degistir\n",
    "fig.update_layout(title='Scores of Best Models by Type', legend_orientation=\"v\",\n",
    "                   xaxis_title='Model Name',\n",
    "                   yaxis_title='Score', width=1300, height=800, )\n",
    "fig.show()"
   ]
  },
  {
   "cell_type": "code",
   "execution_count": 42,
   "metadata": {},
   "outputs": [
    {
     "data": {
      "application/vnd.plotly.v1+json": {
       "config": {
        "plotlyServerURL": "https://plot.ly"
       },
       "data": [
        {
         "marker": {
          "line": {
           "width": 2
          },
          "size": 10
         },
         "mode": "markers",
         "name": "test_accuracy",
         "opacity": 0.7,
         "type": "scatter",
         "x": [
          "XGBCl",
          "XGBCl",
          "XGBCl",
          "XGBCl",
          "XGBCl",
          "LGBMCl",
          "LGBMCl",
          "LGBMCl",
          "LGBMCl",
          "LGBMCl",
          "LogisticReg_liblinear",
          "LogisticReg_liblinear",
          "LogisticReg_liblinear",
          "LogisticReg_liblinear",
          "LogisticReg_liblinear",
          "LogisticReg_lbfgs",
          "LogisticReg_lbfgs",
          "LogisticReg_lbfgs",
          "LogisticReg_lbfgs",
          "SVC_linear",
          "SVC_linear",
          "SVC_linear",
          "SVC_linear",
          "RandomForestCl",
          "RandomForestCl",
          "RandomForestCl",
          "RandomForestCl",
          "DecisionTreeCl",
          "DecisionTreeCl",
          "DecisionTreeCl",
          "DecisionTreeCl",
          "SVC_rbf",
          "SVC_rbf",
          "SVC_rbf",
          "SVC_rbf",
          "SVC_rbf",
          "KNeighborsCl",
          "KNeighborsCl",
          "KNeighborsCl",
          "KNeighborsCl"
         ],
         "y": [
          0.8097275379976779,
          0.8088411094483218,
          0.8081308188427869,
          0.8081301566700658,
          0.8081283908761429,
          0.8075971076295542,
          0.8075966661810733,
          0.8074200867887713,
          0.8074196453402905,
          0.8072419623267868,
          0.8051139599253069,
          0.8047588146225395,
          0.804581352333276,
          0.8042262070305084,
          0.8040487447412451,
          0.8028060672679196,
          0.8013857067810902,
          0.8010310029268035,
          0.8004988367832533,
          0.7987253175118197,
          0.7965946664194555,
          0.791269252671867,
          0.7910922318310841,
          0.7974808742445713,
          0.7973034119553077,
          0.7953517682218897,
          0.7859442803727591,
          0.7932228829234484,
          0.791269914844588,
          0.7902042582120453,
          0.7902033753150839,
          0.7878981313485809,
          0.777957153010458,
          0.7671277596048153,
          0.76393233477687,
          0.7596723569375836,
          0.7667741593717304,
          0.7532859217665003,
          0.7474290040480824,
          0.7447650831909662
         ]
        },
        {
         "marker": {
          "line": {
           "width": 2
          },
          "size": 10
         },
         "mode": "markers",
         "name": "train_accuracy",
         "opacity": 0.7,
         "type": "scatter",
         "x": [
          "XGBCl",
          "XGBCl",
          "XGBCl",
          "XGBCl",
          "XGBCl",
          "LGBMCl",
          "LGBMCl",
          "LGBMCl",
          "LGBMCl",
          "LGBMCl",
          "LogisticReg_liblinear",
          "LogisticReg_liblinear",
          "LogisticReg_liblinear",
          "LogisticReg_liblinear",
          "LogisticReg_liblinear",
          "LogisticReg_lbfgs",
          "LogisticReg_lbfgs",
          "LogisticReg_lbfgs",
          "LogisticReg_lbfgs",
          "SVC_linear",
          "SVC_linear",
          "SVC_linear",
          "SVC_linear",
          "RandomForestCl",
          "RandomForestCl",
          "RandomForestCl",
          "RandomForestCl",
          "DecisionTreeCl",
          "DecisionTreeCl",
          "DecisionTreeCl",
          "DecisionTreeCl",
          "SVC_rbf",
          "SVC_rbf",
          "SVC_rbf",
          "SVC_rbf",
          "SVC_rbf",
          "KNeighborsCl",
          "KNeighborsCl",
          "KNeighborsCl",
          "KNeighborsCl"
         ],
         "y": [
          0.8237190960729777,
          0.8206425624442291,
          0.8197551285003003,
          0.816796847940469,
          0.8238670548125973,
          0.8201396485016798,
          0.8179801626143538,
          0.818423965334646,
          0.8177731171519992,
          0.8232458449269665,
          0.8071234810832145,
          0.8070643024872711,
          0.8070643024872711,
          0.8077742251428919,
          0.8075079888348328,
          0.8059992715067065,
          0.8057034642753172,
          0.8057921892950686,
          0.8054668601393936,
          0.8018282094726299,
          0.7994912674209212,
          0.7951426512243728,
          0.795349702811608,
          0.8105550066641763,
          0.8047569007344896,
          0.7987813325155394,
          0.7881611754968764,
          0.8051415187339578,
          0.7920365160478914,
          0.813483710175797,
          0.7963259230240938,
          0.7878950616864283,
          0.7781033682616897,
          0.9645900197888766,
          0.9875458516214611,
          0.9919240203666979,
          0.8330967598218125,
          0.8599868596812525,
          0.9971601011315778,
          0.9971601011315778
         ]
        }
       ],
       "layout": {
        "height": 800,
        "legend": {
         "orientation": "v"
        },
        "template": {
         "data": {
          "bar": [
           {
            "error_x": {
             "color": "#2a3f5f"
            },
            "error_y": {
             "color": "#2a3f5f"
            },
            "marker": {
             "line": {
              "color": "#E5ECF6",
              "width": 0.5
             }
            },
            "type": "bar"
           }
          ],
          "barpolar": [
           {
            "marker": {
             "line": {
              "color": "#E5ECF6",
              "width": 0.5
             }
            },
            "type": "barpolar"
           }
          ],
          "carpet": [
           {
            "aaxis": {
             "endlinecolor": "#2a3f5f",
             "gridcolor": "white",
             "linecolor": "white",
             "minorgridcolor": "white",
             "startlinecolor": "#2a3f5f"
            },
            "baxis": {
             "endlinecolor": "#2a3f5f",
             "gridcolor": "white",
             "linecolor": "white",
             "minorgridcolor": "white",
             "startlinecolor": "#2a3f5f"
            },
            "type": "carpet"
           }
          ],
          "choropleth": [
           {
            "colorbar": {
             "outlinewidth": 0,
             "ticks": ""
            },
            "type": "choropleth"
           }
          ],
          "contour": [
           {
            "colorbar": {
             "outlinewidth": 0,
             "ticks": ""
            },
            "colorscale": [
             [
              0,
              "#0d0887"
             ],
             [
              0.1111111111111111,
              "#46039f"
             ],
             [
              0.2222222222222222,
              "#7201a8"
             ],
             [
              0.3333333333333333,
              "#9c179e"
             ],
             [
              0.4444444444444444,
              "#bd3786"
             ],
             [
              0.5555555555555556,
              "#d8576b"
             ],
             [
              0.6666666666666666,
              "#ed7953"
             ],
             [
              0.7777777777777778,
              "#fb9f3a"
             ],
             [
              0.8888888888888888,
              "#fdca26"
             ],
             [
              1,
              "#f0f921"
             ]
            ],
            "type": "contour"
           }
          ],
          "contourcarpet": [
           {
            "colorbar": {
             "outlinewidth": 0,
             "ticks": ""
            },
            "type": "contourcarpet"
           }
          ],
          "heatmap": [
           {
            "colorbar": {
             "outlinewidth": 0,
             "ticks": ""
            },
            "colorscale": [
             [
              0,
              "#0d0887"
             ],
             [
              0.1111111111111111,
              "#46039f"
             ],
             [
              0.2222222222222222,
              "#7201a8"
             ],
             [
              0.3333333333333333,
              "#9c179e"
             ],
             [
              0.4444444444444444,
              "#bd3786"
             ],
             [
              0.5555555555555556,
              "#d8576b"
             ],
             [
              0.6666666666666666,
              "#ed7953"
             ],
             [
              0.7777777777777778,
              "#fb9f3a"
             ],
             [
              0.8888888888888888,
              "#fdca26"
             ],
             [
              1,
              "#f0f921"
             ]
            ],
            "type": "heatmap"
           }
          ],
          "heatmapgl": [
           {
            "colorbar": {
             "outlinewidth": 0,
             "ticks": ""
            },
            "colorscale": [
             [
              0,
              "#0d0887"
             ],
             [
              0.1111111111111111,
              "#46039f"
             ],
             [
              0.2222222222222222,
              "#7201a8"
             ],
             [
              0.3333333333333333,
              "#9c179e"
             ],
             [
              0.4444444444444444,
              "#bd3786"
             ],
             [
              0.5555555555555556,
              "#d8576b"
             ],
             [
              0.6666666666666666,
              "#ed7953"
             ],
             [
              0.7777777777777778,
              "#fb9f3a"
             ],
             [
              0.8888888888888888,
              "#fdca26"
             ],
             [
              1,
              "#f0f921"
             ]
            ],
            "type": "heatmapgl"
           }
          ],
          "histogram": [
           {
            "marker": {
             "colorbar": {
              "outlinewidth": 0,
              "ticks": ""
             }
            },
            "type": "histogram"
           }
          ],
          "histogram2d": [
           {
            "colorbar": {
             "outlinewidth": 0,
             "ticks": ""
            },
            "colorscale": [
             [
              0,
              "#0d0887"
             ],
             [
              0.1111111111111111,
              "#46039f"
             ],
             [
              0.2222222222222222,
              "#7201a8"
             ],
             [
              0.3333333333333333,
              "#9c179e"
             ],
             [
              0.4444444444444444,
              "#bd3786"
             ],
             [
              0.5555555555555556,
              "#d8576b"
             ],
             [
              0.6666666666666666,
              "#ed7953"
             ],
             [
              0.7777777777777778,
              "#fb9f3a"
             ],
             [
              0.8888888888888888,
              "#fdca26"
             ],
             [
              1,
              "#f0f921"
             ]
            ],
            "type": "histogram2d"
           }
          ],
          "histogram2dcontour": [
           {
            "colorbar": {
             "outlinewidth": 0,
             "ticks": ""
            },
            "colorscale": [
             [
              0,
              "#0d0887"
             ],
             [
              0.1111111111111111,
              "#46039f"
             ],
             [
              0.2222222222222222,
              "#7201a8"
             ],
             [
              0.3333333333333333,
              "#9c179e"
             ],
             [
              0.4444444444444444,
              "#bd3786"
             ],
             [
              0.5555555555555556,
              "#d8576b"
             ],
             [
              0.6666666666666666,
              "#ed7953"
             ],
             [
              0.7777777777777778,
              "#fb9f3a"
             ],
             [
              0.8888888888888888,
              "#fdca26"
             ],
             [
              1,
              "#f0f921"
             ]
            ],
            "type": "histogram2dcontour"
           }
          ],
          "mesh3d": [
           {
            "colorbar": {
             "outlinewidth": 0,
             "ticks": ""
            },
            "type": "mesh3d"
           }
          ],
          "parcoords": [
           {
            "line": {
             "colorbar": {
              "outlinewidth": 0,
              "ticks": ""
             }
            },
            "type": "parcoords"
           }
          ],
          "pie": [
           {
            "automargin": true,
            "type": "pie"
           }
          ],
          "scatter": [
           {
            "marker": {
             "colorbar": {
              "outlinewidth": 0,
              "ticks": ""
             }
            },
            "type": "scatter"
           }
          ],
          "scatter3d": [
           {
            "line": {
             "colorbar": {
              "outlinewidth": 0,
              "ticks": ""
             }
            },
            "marker": {
             "colorbar": {
              "outlinewidth": 0,
              "ticks": ""
             }
            },
            "type": "scatter3d"
           }
          ],
          "scattercarpet": [
           {
            "marker": {
             "colorbar": {
              "outlinewidth": 0,
              "ticks": ""
             }
            },
            "type": "scattercarpet"
           }
          ],
          "scattergeo": [
           {
            "marker": {
             "colorbar": {
              "outlinewidth": 0,
              "ticks": ""
             }
            },
            "type": "scattergeo"
           }
          ],
          "scattergl": [
           {
            "marker": {
             "colorbar": {
              "outlinewidth": 0,
              "ticks": ""
             }
            },
            "type": "scattergl"
           }
          ],
          "scattermapbox": [
           {
            "marker": {
             "colorbar": {
              "outlinewidth": 0,
              "ticks": ""
             }
            },
            "type": "scattermapbox"
           }
          ],
          "scatterpolar": [
           {
            "marker": {
             "colorbar": {
              "outlinewidth": 0,
              "ticks": ""
             }
            },
            "type": "scatterpolar"
           }
          ],
          "scatterpolargl": [
           {
            "marker": {
             "colorbar": {
              "outlinewidth": 0,
              "ticks": ""
             }
            },
            "type": "scatterpolargl"
           }
          ],
          "scatterternary": [
           {
            "marker": {
             "colorbar": {
              "outlinewidth": 0,
              "ticks": ""
             }
            },
            "type": "scatterternary"
           }
          ],
          "surface": [
           {
            "colorbar": {
             "outlinewidth": 0,
             "ticks": ""
            },
            "colorscale": [
             [
              0,
              "#0d0887"
             ],
             [
              0.1111111111111111,
              "#46039f"
             ],
             [
              0.2222222222222222,
              "#7201a8"
             ],
             [
              0.3333333333333333,
              "#9c179e"
             ],
             [
              0.4444444444444444,
              "#bd3786"
             ],
             [
              0.5555555555555556,
              "#d8576b"
             ],
             [
              0.6666666666666666,
              "#ed7953"
             ],
             [
              0.7777777777777778,
              "#fb9f3a"
             ],
             [
              0.8888888888888888,
              "#fdca26"
             ],
             [
              1,
              "#f0f921"
             ]
            ],
            "type": "surface"
           }
          ],
          "table": [
           {
            "cells": {
             "fill": {
              "color": "#EBF0F8"
             },
             "line": {
              "color": "white"
             }
            },
            "header": {
             "fill": {
              "color": "#C8D4E3"
             },
             "line": {
              "color": "white"
             }
            },
            "type": "table"
           }
          ]
         },
         "layout": {
          "annotationdefaults": {
           "arrowcolor": "#2a3f5f",
           "arrowhead": 0,
           "arrowwidth": 1
          },
          "coloraxis": {
           "colorbar": {
            "outlinewidth": 0,
            "ticks": ""
           }
          },
          "colorscale": {
           "diverging": [
            [
             0,
             "#8e0152"
            ],
            [
             0.1,
             "#c51b7d"
            ],
            [
             0.2,
             "#de77ae"
            ],
            [
             0.3,
             "#f1b6da"
            ],
            [
             0.4,
             "#fde0ef"
            ],
            [
             0.5,
             "#f7f7f7"
            ],
            [
             0.6,
             "#e6f5d0"
            ],
            [
             0.7,
             "#b8e186"
            ],
            [
             0.8,
             "#7fbc41"
            ],
            [
             0.9,
             "#4d9221"
            ],
            [
             1,
             "#276419"
            ]
           ],
           "sequential": [
            [
             0,
             "#0d0887"
            ],
            [
             0.1111111111111111,
             "#46039f"
            ],
            [
             0.2222222222222222,
             "#7201a8"
            ],
            [
             0.3333333333333333,
             "#9c179e"
            ],
            [
             0.4444444444444444,
             "#bd3786"
            ],
            [
             0.5555555555555556,
             "#d8576b"
            ],
            [
             0.6666666666666666,
             "#ed7953"
            ],
            [
             0.7777777777777778,
             "#fb9f3a"
            ],
            [
             0.8888888888888888,
             "#fdca26"
            ],
            [
             1,
             "#f0f921"
            ]
           ],
           "sequentialminus": [
            [
             0,
             "#0d0887"
            ],
            [
             0.1111111111111111,
             "#46039f"
            ],
            [
             0.2222222222222222,
             "#7201a8"
            ],
            [
             0.3333333333333333,
             "#9c179e"
            ],
            [
             0.4444444444444444,
             "#bd3786"
            ],
            [
             0.5555555555555556,
             "#d8576b"
            ],
            [
             0.6666666666666666,
             "#ed7953"
            ],
            [
             0.7777777777777778,
             "#fb9f3a"
            ],
            [
             0.8888888888888888,
             "#fdca26"
            ],
            [
             1,
             "#f0f921"
            ]
           ]
          },
          "colorway": [
           "#636efa",
           "#EF553B",
           "#00cc96",
           "#ab63fa",
           "#FFA15A",
           "#19d3f3",
           "#FF6692",
           "#B6E880",
           "#FF97FF",
           "#FECB52"
          ],
          "font": {
           "color": "#2a3f5f"
          },
          "geo": {
           "bgcolor": "white",
           "lakecolor": "white",
           "landcolor": "#E5ECF6",
           "showlakes": true,
           "showland": true,
           "subunitcolor": "white"
          },
          "hoverlabel": {
           "align": "left"
          },
          "hovermode": "closest",
          "mapbox": {
           "style": "light"
          },
          "paper_bgcolor": "white",
          "plot_bgcolor": "#E5ECF6",
          "polar": {
           "angularaxis": {
            "gridcolor": "white",
            "linecolor": "white",
            "ticks": ""
           },
           "bgcolor": "#E5ECF6",
           "radialaxis": {
            "gridcolor": "white",
            "linecolor": "white",
            "ticks": ""
           }
          },
          "scene": {
           "xaxis": {
            "backgroundcolor": "#E5ECF6",
            "gridcolor": "white",
            "gridwidth": 2,
            "linecolor": "white",
            "showbackground": true,
            "ticks": "",
            "zerolinecolor": "white"
           },
           "yaxis": {
            "backgroundcolor": "#E5ECF6",
            "gridcolor": "white",
            "gridwidth": 2,
            "linecolor": "white",
            "showbackground": true,
            "ticks": "",
            "zerolinecolor": "white"
           },
           "zaxis": {
            "backgroundcolor": "#E5ECF6",
            "gridcolor": "white",
            "gridwidth": 2,
            "linecolor": "white",
            "showbackground": true,
            "ticks": "",
            "zerolinecolor": "white"
           }
          },
          "shapedefaults": {
           "line": {
            "color": "#2a3f5f"
           }
          },
          "ternary": {
           "aaxis": {
            "gridcolor": "white",
            "linecolor": "white",
            "ticks": ""
           },
           "baxis": {
            "gridcolor": "white",
            "linecolor": "white",
            "ticks": ""
           },
           "bgcolor": "#E5ECF6",
           "caxis": {
            "gridcolor": "white",
            "linecolor": "white",
            "ticks": ""
           }
          },
          "title": {
           "x": 0.05
          },
          "xaxis": {
           "automargin": true,
           "gridcolor": "white",
           "linecolor": "white",
           "ticks": "",
           "title": {
            "standoff": 15
           },
           "zerolinecolor": "white",
           "zerolinewidth": 2
          },
          "yaxis": {
           "automargin": true,
           "gridcolor": "white",
           "linecolor": "white",
           "ticks": "",
           "title": {
            "standoff": 15
           },
           "zerolinecolor": "white",
           "zerolinewidth": 2
          }
         }
        },
        "title": {
         "text": "Scores of Best Models by Type"
        },
        "width": 1300,
        "xaxis": {
         "autorange": true,
         "range": [
          -0.5035083988943229,
          8.503508398894322
         ],
         "title": {
          "text": "Model Name"
         },
         "type": "category"
        },
        "yaxis": {
         "autorange": true,
         "range": [
          0.7275300430107869,
          1.0143951413117571
         ],
         "title": {
          "text": "Score"
         },
         "type": "linear"
        }
       }
      },
      "image/png": "[encoded data removed]",
      "text/html": [
       "<div>\n",
       "        \n",
       "        \n",
       "            <div id=\"5d24d2e1-29f2-4a48-b396-924d3ae92e4e\" class=\"plotly-graph-div\" style=\"height:800px; width:1300px;\"></div>\n",
       "            <script type=\"text/javascript\">\n",
       "                require([\"plotly\"], function(Plotly) {\n",
       "                    window.PLOTLYENV=window.PLOTLYENV || {};\n",
       "                    \n",
       "                if (document.getElementById(\"5d24d2e1-29f2-4a48-b396-924d3ae92e4e\")) {\n",
       "                    Plotly.newPlot(\n",
       "                        '5d24d2e1-29f2-4a48-b396-924d3ae92e4e',\n",
       "                        [{\"marker\": {\"line\": {\"width\": 2}, \"size\": 10}, \"mode\": \"markers\", \"name\": \"test_accuracy\", \"opacity\": 0.7, \"type\": \"scatter\", \"x\": [\"XGBCl\", \"XGBCl\", \"XGBCl\", \"XGBCl\", \"XGBCl\", \"LGBMCl\", \"LGBMCl\", \"LGBMCl\", \"LGBMCl\", \"LGBMCl\", \"LogisticReg_liblinear\", \"LogisticReg_liblinear\", \"LogisticReg_liblinear\", \"LogisticReg_liblinear\", \"LogisticReg_liblinear\", \"LogisticReg_lbfgs\", \"LogisticReg_lbfgs\", \"LogisticReg_lbfgs\", \"LogisticReg_lbfgs\", \"SVC_linear\", \"SVC_linear\", \"SVC_linear\", \"SVC_linear\", \"RandomForestCl\", \"RandomForestCl\", \"RandomForestCl\", \"RandomForestCl\", \"DecisionTreeCl\", \"DecisionTreeCl\", \"DecisionTreeCl\", \"DecisionTreeCl\", \"SVC_rbf\", \"SVC_rbf\", \"SVC_rbf\", \"SVC_rbf\", \"SVC_rbf\", \"KNeighborsCl\", \"KNeighborsCl\", \"KNeighborsCl\", \"KNeighborsCl\"], \"y\": [0.8097275379976779, 0.8088411094483218, 0.8081308188427869, 0.8081301566700658, 0.8081283908761429, 0.8075971076295542, 0.8075966661810733, 0.8074200867887713, 0.8074196453402905, 0.8072419623267868, 0.8051139599253069, 0.8047588146225395, 0.804581352333276, 0.8042262070305084, 0.8040487447412451, 0.8028060672679196, 0.8013857067810902, 0.8010310029268035, 0.8004988367832533, 0.7987253175118197, 0.7965946664194555, 0.791269252671867, 0.7910922318310841, 0.7974808742445713, 0.7973034119553077, 0.7953517682218897, 0.7859442803727591, 0.7932228829234484, 0.791269914844588, 0.7902042582120453, 0.7902033753150839, 0.7878981313485809, 0.777957153010458, 0.7671277596048153, 0.76393233477687, 0.7596723569375836, 0.7667741593717304, 0.7532859217665003, 0.7474290040480824, 0.7447650831909662]}, {\"marker\": {\"line\": {\"width\": 2}, \"size\": 10}, \"mode\": \"markers\", \"name\": \"train_accuracy\", \"opacity\": 0.7, \"type\": \"scatter\", \"x\": [\"XGBCl\", \"XGBCl\", \"XGBCl\", \"XGBCl\", \"XGBCl\", \"LGBMCl\", \"LGBMCl\", \"LGBMCl\", \"LGBMCl\", \"LGBMCl\", \"LogisticReg_liblinear\", \"LogisticReg_liblinear\", \"LogisticReg_liblinear\", \"LogisticReg_liblinear\", \"LogisticReg_liblinear\", \"LogisticReg_lbfgs\", \"LogisticReg_lbfgs\", \"LogisticReg_lbfgs\", \"LogisticReg_lbfgs\", \"SVC_linear\", \"SVC_linear\", \"SVC_linear\", \"SVC_linear\", \"RandomForestCl\", \"RandomForestCl\", \"RandomForestCl\", \"RandomForestCl\", \"DecisionTreeCl\", \"DecisionTreeCl\", \"DecisionTreeCl\", \"DecisionTreeCl\", \"SVC_rbf\", \"SVC_rbf\", \"SVC_rbf\", \"SVC_rbf\", \"SVC_rbf\", \"KNeighborsCl\", \"KNeighborsCl\", \"KNeighborsCl\", \"KNeighborsCl\"], \"y\": [0.8237190960729777, 0.8206425624442291, 0.8197551285003003, 0.816796847940469, 0.8238670548125973, 0.8201396485016798, 0.8179801626143538, 0.818423965334646, 0.8177731171519992, 0.8232458449269665, 0.8071234810832145, 0.8070643024872711, 0.8070643024872711, 0.8077742251428919, 0.8075079888348328, 0.8059992715067065, 0.8057034642753172, 0.8057921892950686, 0.8054668601393936, 0.8018282094726299, 0.7994912674209212, 0.7951426512243728, 0.795349702811608, 0.8105550066641763, 0.8047569007344896, 0.7987813325155394, 0.7881611754968764, 0.8051415187339578, 0.7920365160478914, 0.813483710175797, 0.7963259230240938, 0.7878950616864283, 0.7781033682616897, 0.9645900197888766, 0.9875458516214611, 0.9919240203666979, 0.8330967598218125, 0.8599868596812525, 0.9971601011315778, 0.9971601011315778]}],\n",
       "                        {\"height\": 800, \"legend\": {\"orientation\": \"v\"}, \"template\": {\"data\": {\"bar\": [{\"error_x\": {\"color\": \"#2a3f5f\"}, \"error_y\": {\"color\": \"#2a3f5f\"}, \"marker\": {\"line\": {\"color\": \"#E5ECF6\", \"width\": 0.5}}, \"type\": \"bar\"}], \"barpolar\": [{\"marker\": {\"line\": {\"color\": \"#E5ECF6\", \"width\": 0.5}}, \"type\": \"barpolar\"}], \"carpet\": [{\"aaxis\": {\"endlinecolor\": \"#2a3f5f\", \"gridcolor\": \"white\", \"linecolor\": \"white\", \"minorgridcolor\": \"white\", \"startlinecolor\": \"#2a3f5f\"}, \"baxis\": {\"endlinecolor\": \"#2a3f5f\", \"gridcolor\": \"white\", \"linecolor\": \"white\", \"minorgridcolor\": \"white\", \"startlinecolor\": \"#2a3f5f\"}, \"type\": \"carpet\"}], \"choropleth\": [{\"colorbar\": {\"outlinewidth\": 0, \"ticks\": \"\"}, \"type\": \"choropleth\"}], \"contour\": [{\"colorbar\": {\"outlinewidth\": 0, \"ticks\": \"\"}, \"colorscale\": [[0.0, \"#0d0887\"], [0.1111111111111111, \"#46039f\"], [0.2222222222222222, \"#7201a8\"], [0.3333333333333333, \"#9c179e\"], [0.4444444444444444, \"#bd3786\"], [0.5555555555555556, \"#d8576b\"], [0.6666666666666666, \"#ed7953\"], [0.7777777777777778, \"#fb9f3a\"], [0.8888888888888888, \"#fdca26\"], [1.0, \"#f0f921\"]], \"type\": \"contour\"}], \"contourcarpet\": [{\"colorbar\": {\"outlinewidth\": 0, \"ticks\": \"\"}, \"type\": \"contourcarpet\"}], \"heatmap\": [{\"colorbar\": {\"outlinewidth\": 0, \"ticks\": \"\"}, \"colorscale\": [[0.0, \"#0d0887\"], [0.1111111111111111, \"#46039f\"], [0.2222222222222222, \"#7201a8\"], [0.3333333333333333, \"#9c179e\"], [0.4444444444444444, \"#bd3786\"], [0.5555555555555556, \"#d8576b\"], [0.6666666666666666, \"#ed7953\"], [0.7777777777777778, \"#fb9f3a\"], [0.8888888888888888, \"#fdca26\"], [1.0, \"#f0f921\"]], \"type\": \"heatmap\"}], \"heatmapgl\": [{\"colorbar\": {\"outlinewidth\": 0, \"ticks\": \"\"}, \"colorscale\": [[0.0, \"#0d0887\"], [0.1111111111111111, \"#46039f\"], [0.2222222222222222, \"#7201a8\"], [0.3333333333333333, \"#9c179e\"], [0.4444444444444444, \"#bd3786\"], [0.5555555555555556, \"#d8576b\"], [0.6666666666666666, \"#ed7953\"], [0.7777777777777778, \"#fb9f3a\"], [0.8888888888888888, \"#fdca26\"], [1.0, \"#f0f921\"]], \"type\": \"heatmapgl\"}], \"histogram\": [{\"marker\": {\"colorbar\": {\"outlinewidth\": 0, \"ticks\": \"\"}}, \"type\": \"histogram\"}], \"histogram2d\": [{\"colorbar\": {\"outlinewidth\": 0, \"ticks\": \"\"}, \"colorscale\": [[0.0, \"#0d0887\"], [0.1111111111111111, \"#46039f\"], [0.2222222222222222, \"#7201a8\"], [0.3333333333333333, \"#9c179e\"], [0.4444444444444444, \"#bd3786\"], [0.5555555555555556, \"#d8576b\"], [0.6666666666666666, \"#ed7953\"], [0.7777777777777778, \"#fb9f3a\"], [0.8888888888888888, \"#fdca26\"], [1.0, \"#f0f921\"]], \"type\": \"histogram2d\"}], \"histogram2dcontour\": [{\"colorbar\": {\"outlinewidth\": 0, \"ticks\": \"\"}, \"colorscale\": [[0.0, \"#0d0887\"], [0.1111111111111111, \"#46039f\"], [0.2222222222222222, \"#7201a8\"], [0.3333333333333333, \"#9c179e\"], [0.4444444444444444, \"#bd3786\"], [0.5555555555555556, \"#d8576b\"], [0.6666666666666666, \"#ed7953\"], [0.7777777777777778, \"#fb9f3a\"], [0.8888888888888888, \"#fdca26\"], [1.0, \"#f0f921\"]], \"type\": \"histogram2dcontour\"}], \"mesh3d\": [{\"colorbar\": {\"outlinewidth\": 0, \"ticks\": \"\"}, \"type\": \"mesh3d\"}], \"parcoords\": [{\"line\": {\"colorbar\": {\"outlinewidth\": 0, \"ticks\": \"\"}}, \"type\": \"parcoords\"}], \"pie\": [{\"automargin\": true, \"type\": \"pie\"}], \"scatter\": [{\"marker\": {\"colorbar\": {\"outlinewidth\": 0, \"ticks\": \"\"}}, \"type\": \"scatter\"}], \"scatter3d\": [{\"line\": {\"colorbar\": {\"outlinewidth\": 0, \"ticks\": \"\"}}, \"marker\": {\"colorbar\": {\"outlinewidth\": 0, \"ticks\": \"\"}}, \"type\": \"scatter3d\"}], \"scattercarpet\": [{\"marker\": {\"colorbar\": {\"outlinewidth\": 0, \"ticks\": \"\"}}, \"type\": \"scattercarpet\"}], \"scattergeo\": [{\"marker\": {\"colorbar\": {\"outlinewidth\": 0, \"ticks\": \"\"}}, \"type\": \"scattergeo\"}], \"scattergl\": [{\"marker\": {\"colorbar\": {\"outlinewidth\": 0, \"ticks\": \"\"}}, \"type\": \"scattergl\"}], \"scattermapbox\": [{\"marker\": {\"colorbar\": {\"outlinewidth\": 0, \"ticks\": \"\"}}, \"type\": \"scattermapbox\"}], \"scatterpolar\": [{\"marker\": {\"colorbar\": {\"outlinewidth\": 0, \"ticks\": \"\"}}, \"type\": \"scatterpolar\"}], \"scatterpolargl\": [{\"marker\": {\"colorbar\": {\"outlinewidth\": 0, \"ticks\": \"\"}}, \"type\": \"scatterpolargl\"}], \"scatterternary\": [{\"marker\": {\"colorbar\": {\"outlinewidth\": 0, \"ticks\": \"\"}}, \"type\": \"scatterternary\"}], \"surface\": [{\"colorbar\": {\"outlinewidth\": 0, \"ticks\": \"\"}, \"colorscale\": [[0.0, \"#0d0887\"], [0.1111111111111111, \"#46039f\"], [0.2222222222222222, \"#7201a8\"], [0.3333333333333333, \"#9c179e\"], [0.4444444444444444, \"#bd3786\"], [0.5555555555555556, \"#d8576b\"], [0.6666666666666666, \"#ed7953\"], [0.7777777777777778, \"#fb9f3a\"], [0.8888888888888888, \"#fdca26\"], [1.0, \"#f0f921\"]], \"type\": \"surface\"}], \"table\": [{\"cells\": {\"fill\": {\"color\": \"#EBF0F8\"}, \"line\": {\"color\": \"white\"}}, \"header\": {\"fill\": {\"color\": \"#C8D4E3\"}, \"line\": {\"color\": \"white\"}}, \"type\": \"table\"}]}, \"layout\": {\"annotationdefaults\": {\"arrowcolor\": \"#2a3f5f\", \"arrowhead\": 0, \"arrowwidth\": 1}, \"coloraxis\": {\"colorbar\": {\"outlinewidth\": 0, \"ticks\": \"\"}}, \"colorscale\": {\"diverging\": [[0, \"#8e0152\"], [0.1, \"#c51b7d\"], [0.2, \"#de77ae\"], [0.3, \"#f1b6da\"], [0.4, \"#fde0ef\"], [0.5, \"#f7f7f7\"], [0.6, \"#e6f5d0\"], [0.7, \"#b8e186\"], [0.8, \"#7fbc41\"], [0.9, \"#4d9221\"], [1, \"#276419\"]], \"sequential\": [[0.0, \"#0d0887\"], [0.1111111111111111, \"#46039f\"], [0.2222222222222222, \"#7201a8\"], [0.3333333333333333, \"#9c179e\"], [0.4444444444444444, \"#bd3786\"], [0.5555555555555556, \"#d8576b\"], [0.6666666666666666, \"#ed7953\"], [0.7777777777777778, \"#fb9f3a\"], [0.8888888888888888, \"#fdca26\"], [1.0, \"#f0f921\"]], \"sequentialminus\": [[0.0, \"#0d0887\"], [0.1111111111111111, \"#46039f\"], [0.2222222222222222, \"#7201a8\"], [0.3333333333333333, \"#9c179e\"], [0.4444444444444444, \"#bd3786\"], [0.5555555555555556, \"#d8576b\"], [0.6666666666666666, \"#ed7953\"], [0.7777777777777778, \"#fb9f3a\"], [0.8888888888888888, \"#fdca26\"], [1.0, \"#f0f921\"]]}, \"colorway\": [\"#636efa\", \"#EF553B\", \"#00cc96\", \"#ab63fa\", \"#FFA15A\", \"#19d3f3\", \"#FF6692\", \"#B6E880\", \"#FF97FF\", \"#FECB52\"], \"font\": {\"color\": \"#2a3f5f\"}, \"geo\": {\"bgcolor\": \"white\", \"lakecolor\": \"white\", \"landcolor\": \"#E5ECF6\", \"showlakes\": true, \"showland\": true, \"subunitcolor\": \"white\"}, \"hoverlabel\": {\"align\": \"left\"}, \"hovermode\": \"closest\", \"mapbox\": {\"style\": \"light\"}, \"paper_bgcolor\": \"white\", \"plot_bgcolor\": \"#E5ECF6\", \"polar\": {\"angularaxis\": {\"gridcolor\": \"white\", \"linecolor\": \"white\", \"ticks\": \"\"}, \"bgcolor\": \"#E5ECF6\", \"radialaxis\": {\"gridcolor\": \"white\", \"linecolor\": \"white\", \"ticks\": \"\"}}, \"scene\": {\"xaxis\": {\"backgroundcolor\": \"#E5ECF6\", \"gridcolor\": \"white\", \"gridwidth\": 2, \"linecolor\": \"white\", \"showbackground\": true, \"ticks\": \"\", \"zerolinecolor\": \"white\"}, \"yaxis\": {\"backgroundcolor\": \"#E5ECF6\", \"gridcolor\": \"white\", \"gridwidth\": 2, \"linecolor\": \"white\", \"showbackground\": true, \"ticks\": \"\", \"zerolinecolor\": \"white\"}, \"zaxis\": {\"backgroundcolor\": \"#E5ECF6\", \"gridcolor\": \"white\", \"gridwidth\": 2, \"linecolor\": \"white\", \"showbackground\": true, \"ticks\": \"\", \"zerolinecolor\": \"white\"}}, \"shapedefaults\": {\"line\": {\"color\": \"#2a3f5f\"}}, \"ternary\": {\"aaxis\": {\"gridcolor\": \"white\", \"linecolor\": \"white\", \"ticks\": \"\"}, \"baxis\": {\"gridcolor\": \"white\", \"linecolor\": \"white\", \"ticks\": \"\"}, \"bgcolor\": \"#E5ECF6\", \"caxis\": {\"gridcolor\": \"white\", \"linecolor\": \"white\", \"ticks\": \"\"}}, \"title\": {\"x\": 0.05}, \"xaxis\": {\"automargin\": true, \"gridcolor\": \"white\", \"linecolor\": \"white\", \"ticks\": \"\", \"title\": {\"standoff\": 15}, \"zerolinecolor\": \"white\", \"zerolinewidth\": 2}, \"yaxis\": {\"automargin\": true, \"gridcolor\": \"white\", \"linecolor\": \"white\", \"ticks\": \"\", \"title\": {\"standoff\": 15}, \"zerolinecolor\": \"white\", \"zerolinewidth\": 2}}}, \"title\": {\"text\": \"Scores of Best Models by Type\"}, \"width\": 1300, \"xaxis\": {\"title\": {\"text\": \"Model Name\"}}, \"yaxis\": {\"title\": {\"text\": \"Score\"}}},\n",
       "                        {\"responsive\": true}\n",
       "                    ).then(function(){\n",
       "                            \n",
       "var gd = document.getElementById('5d24d2e1-29f2-4a48-b396-924d3ae92e4e');\n",
       "var x = new MutationObserver(function (mutations, observer) {{\n",
       "        var display = window.getComputedStyle(gd).display;\n",
       "        if (!display || display === 'none') {{\n",
       "            console.log([gd, 'removed!']);\n",
       "            Plotly.purge(gd);\n",
       "            observer.disconnect();\n",
       "        }}\n",
       "}});\n",
       "\n",
       "// Listen for the removal of the full notebook cells\n",
       "var notebookContainer = gd.closest('#notebook-container');\n",
       "if (notebookContainer) {{\n",
       "    x.observe(notebookContainer, {childList: true});\n",
       "}}\n",
       "\n",
       "// Listen for the clearing of the current output cell\n",
       "var outputEl = gd.closest('.output');\n",
       "if (outputEl) {{\n",
       "    x.observe(outputEl, {childList: true});\n",
       "}}\n",
       "\n",
       "                        })\n",
       "                };\n",
       "                });\n",
       "            </script>\n",
       "        </div>"
      ]
     },
     "metadata": {},
     "output_type": "display_data"
    }
   ],
   "source": [
    "#fig = px.scatter(best_of_classifiers, x=\"classifier\", y=\"mean_test_accuracy\", color=\"classifier\",\n",
    "#                 size='mean_test_roc_auc', hover_data=['mean_test_accuracy','mean_test_roc_auc',\n",
    "#                                                       'mean_test_f1'])\n",
    "fig = go.Figure()\n",
    "fig.add_trace(go.Scatter(x=best_of_classifiers_1['classifier'], \n",
    "                         y=best_of_classifiers_1['mean_test_accuracy'],\n",
    "                         name='test_accuracy', \n",
    "                         mode='markers', opacity=0.7))\n",
    "fig.add_trace(go.Scatter(x=best_of_classifiers_1['classifier'],\n",
    "                         y=best_of_classifiers_1['mean_train_accuracy'],\n",
    "                         name='train_accuracy', \n",
    "                         mode='markers', opacity=0.7))\n",
    "# marker size belirle\n",
    "fig.update_traces(mode='markers', marker_size=10, marker_line_width=2)\n",
    "# layout degistir\n",
    "fig.update_layout(title='Scores of Best Models by Type', legend_orientation=\"v\",\n",
    "                   xaxis_title='Model Name',\n",
    "                   yaxis_title='Score', width=1300, height=800, )\n",
    "fig.show()"
   ]
  },
  {
   "cell_type": "markdown",
   "metadata": {},
   "source": [
    "### ***Secilen Model***"
   ]
  },
  {
   "cell_type": "code",
   "execution_count": 73,
   "metadata": {},
   "outputs": [
    {
     "data": {
      "text/plain": [
       "{'classifier': XGBClassifier(base_score=None, booster=None, colsample_bylevel=None,\n",
       "               colsample_bynode=None, colsample_bytree=None, gamma=None,\n",
       "               gpu_id=None, importance_type='gain', interaction_constraints=None,\n",
       "               learning_rate=None, max_delta_step=None, max_depth=None,\n",
       "               min_child_weight=None, missing=nan, monotone_constraints=None,\n",
       "               n_estimators=100, n_jobs=None, num_parallel_tree=None,\n",
       "               objective='binary:logistic', random_state=None, reg_alpha=None,\n",
       "               reg_lambda=None, scale_pos_weight=None, subsample=None,\n",
       "               tree_method=None, validate_parameters=False, verbosity=None),\n",
       " 'classifier__gamma': 1.0,\n",
       " 'classifier__max_depth': 6,\n",
       " 'classifier__reg_alpha': 1.0,\n",
       " 'classifier__reg_lambda': 100.0}"
      ]
     },
     "execution_count": 73,
     "metadata": {},
     "output_type": "execute_result"
    }
   ],
   "source": [
    "# secilen model\n",
    "best_of_classifiers_1.loc[279,'params']"
   ]
  },
  {
   "cell_type": "markdown",
   "metadata": {},
   "source": [
    "***accuracy, f1 ve auc skor hesaplama***"
   ]
  },
  {
   "cell_type": "code",
   "execution_count": 74,
   "metadata": {},
   "outputs": [
    {
     "name": "stdout",
     "output_type": "stream",
     "text": [
      "accuracy  : 0.79\n",
      "f1 score  : 0.56\n",
      "auc score : 0.83\n"
     ]
    }
   ],
   "source": [
    "# secilen modeli olustur ve test et\n",
    "xgb_cl = XGBClassifier(max_depth=6, reg_alpha=1, reg_lambda=100, gamma=1)\n",
    "# modeli egit\n",
    "xgb_cl.fit(X_train, y_train)\n",
    "# tahmin olustur\n",
    "y_pred = xgb_cl.predict(X_test)\n",
    "# auc score hesaplamada olasilik gerekli\n",
    "y_pred_prob = xgb_cl.predict_proba(X_test)\n",
    "print('accuracy  : {:.2f}'.format(accuracy_score(y_test, y_pred))) \n",
    "print('f1 score  : {:.2f}'.format(f1_score(y_test, y_pred))) \n",
    "# auc score da predict prob nin 1 inci sutunu yani survive olma durumunu aliriz\n",
    "print('auc score : {:.2f}'.format(roc_auc_score(y_test, y_pred_prob[:,1])))"
   ]
  },
  {
   "cell_type": "markdown",
   "metadata": {},
   "source": [
    "***classsification_report***"
   ]
  },
  {
   "cell_type": "code",
   "execution_count": 75,
   "metadata": {},
   "outputs": [
    {
     "name": "stdout",
     "output_type": "stream",
     "text": [
      "classification report : \n",
      "              precision    recall  f1-score   support\n",
      "\n",
      "           0       0.84      0.89      0.86      1041\n",
      "           1       0.62      0.51      0.56       368\n",
      "\n",
      "    accuracy                           0.79      1409\n",
      "   macro avg       0.73      0.70      0.71      1409\n",
      "weighted avg       0.78      0.79      0.78      1409\n",
      "\n"
     ]
    }
   ],
   "source": [
    "print('classification report : \\n{}'.format(classification_report(y_test, y_pred)))"
   ]
  },
  {
   "cell_type": "markdown",
   "metadata": {},
   "source": [
    "***cross_val_score***"
   ]
  },
  {
   "cell_type": "code",
   "execution_count": 76,
   "metadata": {},
   "outputs": [
    {
     "name": "stdout",
     "output_type": "stream",
     "text": [
      "cv accuracy mean: 0.8052\n"
     ]
    }
   ],
   "source": [
    "# cross_val_score ile skor sonucunu al\n",
    "cv_auc = cross_val_score(estimator=xgb_cl, X=X, y=y, cv=10, scoring='accuracy')\n",
    "# cv skorlarinin ortalamasi\n",
    "print('cv accuracy mean: {:.4f}'.format(cv_auc.mean()))"
   ]
  },
  {
   "cell_type": "code",
   "execution_count": 77,
   "metadata": {},
   "outputs": [
    {
     "name": "stdout",
     "output_type": "stream",
     "text": [
      "cv auc score mean: 0.8472\n"
     ]
    }
   ],
   "source": [
    "# cross_val_score ile skor sonucunu al\n",
    "cv_auc = cross_val_score(estimator=xgb_cl, X=X, y=y, cv=10, scoring='roc_auc')\n",
    "# cv skorlarinin ortalamasi\n",
    "print('cv auc score mean: {:.4f}'.format(cv_auc.mean()))"
   ]
  },
  {
   "cell_type": "markdown",
   "metadata": {},
   "source": [
    "***feature_importances_***"
   ]
  },
  {
   "cell_type": "code",
   "execution_count": 79,
   "metadata": {},
   "outputs": [
    {
     "data": {
      "image/png": "[encoded data removed]",
      "text/plain": [
       "<Figure size 720x504 with 1 Axes>"
      ]
     },
     "metadata": {
      "needs_background": "light"
     },
     "output_type": "display_data"
    }
   ],
   "source": [
    "# ozellik oneminden once model fit edilmeli\n",
    "xgb_cl.fit(X_train, y_train)\n",
    "# ozellik onem dereceleri\n",
    "# onem derecelerinden seri olustur\n",
    "önem_dereceleri = pd.Series(data=xgb_cl.feature_importances_,index= X_train.columns)\n",
    "# sirala\n",
    "önem_dereceleri_sıralı = önem_dereceleri.sort_values()\n",
    "# grafigini ciz\n",
    "plt.figure(figsize=(10,7))\n",
    "önem_dereceleri_sıralı.plot(kind='barh', color='darkblue')\n",
    "plt.title('Değişkenlerin Önem Dereceleri', fontdict=font_title)\n",
    "plt.show()"
   ]
  },
  {
   "cell_type": "markdown",
   "metadata": {},
   "source": [
    "---\n",
    "### ***Sonuc***\n",
    "- Test sonuclarindan da gorulecegi uzere Boosting algoritmalarin diger modellerden daha iyi performans gosterdigi belirlenmistir.\n",
    "- Testlerde en iyi sonuclari veren XGBoost algoritmasi ile tahmin modeli olusturulacaktir."
   ]
  }
 ],
 "metadata": {
  "kernelspec": {
   "display_name": "Python 3",
   "language": "python",
   "name": "python3"
  },
  "language_info": {
   "codemirror_mode": {
    "name": "ipython",
    "version": 3
   },
   "file_extension": ".py",
   "mimetype": "text/x-python",
   "name": "python",
   "nbconvert_exporter": "python",
   "pygments_lexer": "ipython3",
   "version": "3.7.6"
  }
 },
 "nbformat": 4,
 "nbformat_minor": 4
}
