{
 "cells": [
  {
   "cell_type": "markdown",
   "metadata": {},
   "source": [
    "# ***Regresyon Nedir?***"
   ]
  },
  {
   "cell_type": "markdown",
   "metadata": {},
   "source": [
    "## Q1\n",
    "Birkaç ülke için elinizde finansal, ekonomik ve sosyal göstergeler hakkında Dünya Bankası verileri olduğunu varsayalım. Bu ülkelerdeki gelişme düzeyini etkileyen faktörleri ölçmek istiyorsunuz. Bu amaçla, milli gelirin nüfusa bölümü olarak tanımlanan kişi başına düşen milli geliri, kalkınma seviyesi için bir vekil olarak kullanmaya karar verdiniz. Kişi başına geliri tahmin etmek için veri kümenizdeki bazı özellikleri kullanmak istiyorsunuz. Bu görev bir sınıflandırma görevi mi yoksa bir regresyon görevi mi? Niçin?"
   ]
  },
  {
   "cell_type": "markdown",
   "metadata": {},
   "source": [
    "---\n",
    "- Hedef degiskenimiz; kisi basina dusen gelir (gdp per capita) surekli bir degisken oldugundan bu tahmin problemini regresyon ile cozmek daha uygundur. Zira hedef degiskenimiz sonsuz sayida olasi degere sahiptir ve her bir deger icin kategori olusturmak ve her deger icin elimizde siniflandirma yapacak veri bulmak imkansiz olacaktir."
   ]
  },
  {
   "cell_type": "markdown",
   "metadata": {},
   "source": [
    "## Q2\n",
    "Aşağıdaki argümanlardan hangileri yanlıştır ve neden?"
   ]
  },
  {
   "cell_type": "markdown",
   "metadata": {},
   "source": [
    "---\n",
    "\n",
    "- OLS, özel bir doğrusal regresyon modelidir. \n",
    "    - ***Dogru; OLS, doğrusal regresyon modellerini tahmin etmenin en yaygın yöntemi.***\n",
    "- Regresyon modelleri, doğrusal regresyon varsayımlarını karşılamıyorsa kullanışsız hale gelir. \n",
    "    - ***Yanlis; modelimiz bu koşulları karşılamadığında bile doğrusal regresyon kullanmak için alabileceğimiz bazı yaklaşımlar mevcuttur.***\n",
    "- Estimation ve prediction, doğrusal regresyon modelleri bağlamında aynı şeydir. \n",
    "    - ***Dogru***\n",
    "- Doğrusal regresyon modeli sadece bir tür regresyon modelidir. Regresyon problemleri, Support Vector Machines veya Random Forests gibi başka modellerle de çözülebilir. \n",
    "    - ***Dogru***"
   ]
  },
  {
   "cell_type": "markdown",
   "metadata": {},
   "source": [
    "## Q3\n",
    "Proje yöneticinizin, şirketinizin sunduğu hangi ücretsiz hizmetlerin, müşterilerinizin daha fazla ücretli hizmet satın almasını sağladığını bulmanızı istediğini varsayalım. Bu görevi bir regresyon problemi olarak formüle edin ve üzerinde çalışmak istediğiniz potansiyel sonucu ve özellikleri yazın."
   ]
  },
  {
   "cell_type": "markdown",
   "metadata": {},
   "source": [
    "---\n",
    "Hedef Degisken($Y$): Her bir musterinin kullandigi ucretli hizmet sayisi.\n",
    "\n",
    "Ozellikler ($A, B, C, D$) ;Her bir musterinin kullandigi ucretsiz hizmetler.\n",
    "\n",
    "Formul:\n",
    "\n",
    "$$Y = \\beta_{bias} + \\beta_1 A + \\beta_2 B + \\beta_3 C + \\beta_4 D$$\n"
   ]
  }
 ],
 "metadata": {
  "kernelspec": {
   "display_name": "Python 3",
   "language": "python",
   "name": "python3"
  },
  "language_info": {
   "codemirror_mode": {
    "name": "ipython",
    "version": 3
   },
   "file_extension": ".py",
   "mimetype": "text/x-python",
   "name": "python",
   "nbconvert_exporter": "python",
   "pygments_lexer": "ipython3",
   "version": "3.7.6"
  }
 },
 "nbformat": 4,
 "nbformat_minor": 4
}
