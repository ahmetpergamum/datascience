{
 "cells": [
  {
   "cell_type": "markdown",
   "metadata": {},
   "source": [
    "# ***Eğitim Performansı***\n",
    "\n",
    "## ***Hava durumu modeli***\n",
    "\n",
    "Bu ödev için, geçmiş sıcaklık veri kümesine yeniden bakacaksınız. Öncelikle, Sıcaklık verilerini [Kaggle](https://www.kaggle.com/budincsevity/szeged-weather/data)'dan indirin.\n",
    "\n",
    "- Hedef değişkeninizin görünür sıcaklık ve sıcaklık arasındaki fark olduğu bir doğrusal regresyon modeli oluşturun. Açıklayıcı değişkenler olarak nem ve rüzgar hızı kullanın. Şimdi, modelinizi OLS kullanarak tahmin edin. R-kare ve ayarlanmış R-kare değerleri nelerdir? Tatminkar olduklarını düşünüyor musunuz? Açıklayın.\n",
    "\n",
    "- Yukarıdaki modele nem ve rüzgar hızı etkileşimini dahil edin ve OLS'yi kullanarak modeli tahmin edin. Şimdi, bu modelin R-kare değeri nedir? Bu model bir öncekine göre gelişti mi?\n",
    "\n",
    "- İlk modele ek açıklayıcı değişken olarak görünürlük ekleyin ve tahmin edin. R-kare arttı mı? Ayarlanmış R-kare değeri ne oldu? Tabloda ortaya çıkan farklılıkları, ayarlanmış R-kare içindeki iyileşme açısından etkileşim terimi ve görünürlük ile karşılaştırın. Hangisi daha kullanışlı?\n",
    "\n",
    "- AIC ve BIC puanlarına göre yukarıdaki üç modelden en iyisini seçin. Mentor ile gerekçenizi tartışarak seçiminizi doğrulayın."
   ]
  },
  {
   "cell_type": "code",
   "execution_count": 1,
   "metadata": {},
   "outputs": [],
   "source": [
    "import pandas as pd\n",
    "import numpy as np\n",
    "# grafiksel araclar\n",
    "import matplotlib.pyplot as plt\n",
    "import seaborn as sns\n",
    "sns.set(style=\"whitegrid\")\n",
    "\n",
    "from sklearn import linear_model\n",
    "import statsmodels.api as sm\n",
    "\n",
    "# uyarilari dikkate alma\n",
    "import warnings\n",
    "warnings.filterwarnings('ignore')\n",
    "\n",
    "# pandas varsayilan olarak cok sayida sutun veya satir varsa tumunu gostermez\n",
    "# bu nedenle 100 sutun ve satir gostermesi icin\n",
    "pd.options.display.max_rows = 100\n",
    "pd.options.display.max_columns = 100\n",
    "\n",
    "# virgulden sonra belirli sayida basamak gosterimi icin \n",
    "pd.options.display.float_format = '{:,.3f}'.format\n",
    "\n",
    "# font tanimlamalari\n",
    "title_font = {'family': 'times new roman', 'color': 'darkred','weight': 'bold','size': 14}\n",
    "axis_font  = {'family': 'times new roman', 'color': 'darkred','weight': 'bold','size': 14}\n",
    "\n",
    "# temiz veri setini dataframe icerisine yukle\n",
    "weather = pd.read_csv('data/weatherHistory.csv')"
   ]
  },
  {
   "cell_type": "code",
   "execution_count": 2,
   "metadata": {},
   "outputs": [
    {
     "name": "stdout",
     "output_type": "stream",
     "text": [
      "<class 'pandas.core.frame.DataFrame'>\n",
      "RangeIndex: 96453 entries, 0 to 96452\n",
      "Data columns (total 12 columns):\n",
      " #   Column                    Non-Null Count  Dtype  \n",
      "---  ------                    --------------  -----  \n",
      " 0   Formatted Date            96453 non-null  object \n",
      " 1   Summary                   96453 non-null  object \n",
      " 2   Precip Type               95936 non-null  object \n",
      " 3   Temperature (C)           96453 non-null  float64\n",
      " 4   Apparent Temperature (C)  96453 non-null  float64\n",
      " 5   Humidity                  96453 non-null  float64\n",
      " 6   Wind Speed (km/h)         96453 non-null  float64\n",
      " 7   Wind Bearing (degrees)    96453 non-null  float64\n",
      " 8   Visibility (km)           96453 non-null  float64\n",
      " 9   Loud Cover                96453 non-null  float64\n",
      " 10  Pressure (millibars)      96453 non-null  float64\n",
      " 11  Daily Summary             96453 non-null  object \n",
      "dtypes: float64(8), object(4)\n",
      "memory usage: 8.8+ MB\n"
     ]
    }
   ],
   "source": [
    "weather.info()"
   ]
  },
  {
   "cell_type": "markdown",
   "metadata": {},
   "source": [
    "- Sonuclar dataframe olusturularak kaydedilecek."
   ]
  },
  {
   "cell_type": "code",
   "execution_count": 68,
   "metadata": {},
   "outputs": [],
   "source": [
    "# sonuclari tutacak df\n",
    "results_df = pd.DataFrame(index=[1, 2, 3],\n",
    "                          columns=['rsquared','rsquared_adj', 'fvalue', 'aic', 'bic'])\n",
    "results_df.index.name = 'model'\n",
    "# sonuclari kaydeden fonksiyon\n",
    "def save_results(results, model_n):\n",
    "    results_df.loc[model_n, 'rsquared'] = results.rsquared\n",
    "    results_df.loc[model_n, 'rsquared_adj'] = results.rsquared_adj\n",
    "    results_df.loc[model_n, 'fvalue'] = results.fvalue\n",
    "    results_df.loc[model_n, 'aic'] = results.aic\n",
    "    results_df.loc[model_n, 'bic'] = results.bic"
   ]
  },
  {
   "cell_type": "markdown",
   "metadata": {},
   "source": [
    "---\n",
    "### ***1. Model***"
   ]
  },
  {
   "cell_type": "code",
   "execution_count": 69,
   "metadata": {},
   "outputs": [],
   "source": [
    "# aciklayici degiskenler listesi\n",
    "expl_vars = ['Humidity',  'Wind Speed (km/h)']\n",
    "\n",
    "# hedef degisken\n",
    "weather['Temp_Diff'] = weather['Temperature (C)'] - weather['Apparent Temperature (C)'] \n",
    "\n",
    "# hedef degiskeni\n",
    "Y = weather['Temp_Diff']\n",
    "# aciklayici degiskenler\n",
    "X = weather[expl_vars]\n",
    "\n",
    "# bias eklendi\n",
    "X = sm.add_constant(X)\n",
    "\n",
    "results = sm.OLS(Y, X).fit()\n",
    "\n",
    "# results nesnesinin metod ve degiskenleri\n",
    "# dir(results)\n",
    "\n",
    "# 1 inci model sonuclarini kaydedelim\n",
    "save_results(results,1)\n",
    "\n",
    "# 1 inci model sonuclari\n",
    "results_df.loc[1,:]"
   ]
  },
  {
   "cell_type": "markdown",
   "metadata": {},
   "source": [
    "- R-kare ve ayarlanmış R-kare değerleri 0.28, modelin hedef degisken varyansini aciklama orani %28, sonuc tatmin edici degildir."
   ]
  },
  {
   "cell_type": "markdown",
   "metadata": {},
   "source": [
    "---\n",
    "### ***2. Model***"
   ]
  },
  {
   "cell_type": "code",
   "execution_count": 71,
   "metadata": {},
   "outputs": [
    {
     "data": {
      "text/plain": [
       "rsquared             0.341\n",
       "rsquared_adj         0.341\n",
       "fvalue          16,656.182\n",
       "aic            333,393.099\n",
       "bic            333,431.006\n",
       "Name: 2, dtype: object"
      ]
     },
     "execution_count": 71,
     "metadata": {},
     "output_type": "execute_result"
    }
   ],
   "source": [
    "weather['Humidity_WindSpeed'] = weather['Humidity'] * weather['Wind Speed (km/h)']\n",
    "\n",
    "# aciklayici degiskenler listesi\n",
    "expl_vars = ['Humidity',  'Wind Speed (km/h)', 'Humidity_WindSpeed']\n",
    "\n",
    "# hedef degisken\n",
    "weather['Temp_Diff'] = weather['Temperature (C)'] - weather['Apparent Temperature (C)'] \n",
    "\n",
    "# hedef degiskeni\n",
    "Y = weather['Temp_Diff']\n",
    "# aciklayici degiskenler\n",
    "X = weather[expl_vars]\n",
    "\n",
    "# bias eklendi\n",
    "X = sm.add_constant(X)\n",
    "\n",
    "results = sm.OLS(Y, X).fit()\n",
    "\n",
    "# 2 inci model sonuclarini kaydedelim\n",
    "save_results(results,2)\n",
    "\n",
    "# 2 inci model sonuclari\n",
    "results_df.loc[2,:]"
   ]
  },
  {
   "cell_type": "markdown",
   "metadata": {},
   "source": [
    "- R-kare ve ayarlanmış R-kare değerleri 0.34 e yukseldi, modelin hedef degisken varyansini aciklama orani %34, sonuc tatmin edici degildir."
   ]
  },
  {
   "cell_type": "markdown",
   "metadata": {},
   "source": [
    "---\n",
    "### ***3. Model***"
   ]
  },
  {
   "cell_type": "code",
   "execution_count": 72,
   "metadata": {},
   "outputs": [
    {
     "data": {
      "text/html": [
       "<div>\n",
       "<style scoped>\n",
       "    .dataframe tbody tr th:only-of-type {\n",
       "        vertical-align: middle;\n",
       "    }\n",
       "\n",
       "    .dataframe tbody tr th {\n",
       "        vertical-align: top;\n",
       "    }\n",
       "\n",
       "    .dataframe thead th {\n",
       "        text-align: right;\n",
       "    }\n",
       "</style>\n",
       "<table border=\"1\" class=\"dataframe\">\n",
       "  <thead>\n",
       "    <tr style=\"text-align: right;\">\n",
       "      <th></th>\n",
       "      <th>rsquared</th>\n",
       "      <th>rsquared_adj</th>\n",
       "      <th>fvalue</th>\n",
       "      <th>aic</th>\n",
       "      <th>bic</th>\n",
       "    </tr>\n",
       "    <tr>\n",
       "      <th>model</th>\n",
       "      <th></th>\n",
       "      <th></th>\n",
       "      <th></th>\n",
       "      <th></th>\n",
       "      <th></th>\n",
       "    </tr>\n",
       "  </thead>\n",
       "  <tbody>\n",
       "    <tr>\n",
       "      <th>1</th>\n",
       "      <td>0.288</td>\n",
       "      <td>0.288</td>\n",
       "      <td>19,489.463</td>\n",
       "      <td>340,916.925</td>\n",
       "      <td>340,945.355</td>\n",
       "    </tr>\n",
       "    <tr>\n",
       "      <th>2</th>\n",
       "      <td>0.341</td>\n",
       "      <td>0.341</td>\n",
       "      <td>16,656.182</td>\n",
       "      <td>333,393.099</td>\n",
       "      <td>333,431.006</td>\n",
       "    </tr>\n",
       "    <tr>\n",
       "      <th>3</th>\n",
       "      <td>0.364</td>\n",
       "      <td>0.363</td>\n",
       "      <td>13,770.948</td>\n",
       "      <td>330,082.577</td>\n",
       "      <td>330,129.961</td>\n",
       "    </tr>\n",
       "  </tbody>\n",
       "</table>\n",
       "</div>"
      ],
      "text/plain": [
       "      rsquared rsquared_adj     fvalue         aic         bic\n",
       "model                                                         \n",
       "1        0.288        0.288 19,489.463 340,916.925 340,945.355\n",
       "2        0.341        0.341 16,656.182 333,393.099 333,431.006\n",
       "3        0.364        0.363 13,770.948 330,082.577 330,129.961"
      ]
     },
     "execution_count": 72,
     "metadata": {},
     "output_type": "execute_result"
    }
   ],
   "source": [
    "# aciklayici degiskenler listesi\n",
    "expl_vars = ['Humidity',  'Wind Speed (km/h)', 'Humidity_WindSpeed', 'Visibility (km)']\n",
    "\n",
    "# hedef degisken\n",
    "weather['Temp_Diff'] = weather['Temperature (C)'] - weather['Apparent Temperature (C)'] \n",
    "\n",
    "# hedef degiskeni\n",
    "Y = weather['Temp_Diff']\n",
    "# aciklayici degiskenler\n",
    "X = weather[expl_vars]\n",
    "\n",
    "# bias eklendi\n",
    "X = sm.add_constant(X)\n",
    "\n",
    "results = sm.OLS(Y, X).fit()\n",
    "\n",
    "# 3 inci model sonuclarini kaydedelim\n",
    "save_results(results,3)\n",
    "\n",
    "# 2 inci model sonuclari\n",
    "results_df"
   ]
  },
  {
   "cell_type": "markdown",
   "metadata": {},
   "source": [
    "- R-kare ve ayarlanmış R-kare değerleri 0.36 e yukseldi, modelin hedef degisken varyansini aciklama orani %36. R-kare degerlerine gore en kullanisli model budur.\n",
    "\n",
    "- AIC ve BIC puanlarina gore de 3 uncu model en iyisidir."
   ]
  }
 ],
 "metadata": {
  "kernelspec": {
   "display_name": "Python 3",
   "language": "python",
   "name": "python3"
  },
  "language_info": {
   "codemirror_mode": {
    "name": "ipython",
    "version": 3
   },
   "file_extension": ".py",
   "mimetype": "text/x-python",
   "name": "python",
   "nbconvert_exporter": "python",
   "pygments_lexer": "ipython3",
   "version": "3.7.6"
  }
 },
 "nbformat": 4,
 "nbformat_minor": 4
}
