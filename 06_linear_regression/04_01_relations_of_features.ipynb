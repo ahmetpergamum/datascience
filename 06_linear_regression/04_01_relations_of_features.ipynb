{
 "cells": [
  {
   "cell_type": "markdown",
   "metadata": {},
   "source": [
    "# ***Hedef Degisken ve Ozellikler Arasindaki Iliski***"
   ]
  },
  {
   "cell_type": "markdown",
   "metadata": {},
   "source": [
    "## Q\n",
    "\n",
    "***Yorum ve anlam***\n",
    "\n",
    "ABD’deki ailelerin yıllık dinlenme/eğlenme harcamalarını bilmek istediğimizi varsayalım. Aşağıdaki modeli tahmin ettik:\n",
    "\n",
    "$harcamalar=873+0.0012∗yillikgelir+0.00002∗yillikgelir^2−223.57∗cocuksahibi$\n",
    "\n",
    "Harcama ABD doları cinsinden eğlenme yıllık harcamasıdır, yıllık_gelir ABD doları cinsinden yıllık gelirdir ve cocuk_sahibi çocuklu aileleri gösteren değişkendir. Tahmin edilen katsayıları yorumlayınız. Yorumlarınızın istatistiksel olarak anlamlı olduğundan emin olmak için hangi ek istatistikler verilmelidir?"
   ]
  },
  {
   "cell_type": "markdown",
   "metadata": {},
   "source": [
    "- Eglence harcamasi hedef degisken, yillik gelir ve cocuk sahibi olma durumu da aciklayici degiskenlerdir.\n",
    "\n",
    "- Yillik gelir exponensiyel olarak eglence giderlerini arttirmaktadir.1000 dolar artisinda eglence harcamasini 21,2 dolar artirmakta, 10000 dolar artarsa eglence harcamalari 2000 dolar artmaktadir.Ancak 100 bin dolar oldugunda ise eglence harcamasi 200 bin dolar artacagi gorulmektedir. Burada yuksek gelir grubunun dikkate alinmadigi ve modelimizin uygun olmadigi sonucunu dogurur.\n",
    "\n",
    "- Cocuk sahibi ailelerin eglence harcamasi cocugu olmayan ailelere gore 223.57 dolar daha dusuktur.\n",
    "\n",
    "- Katsayilarin anlamli olup olmaddigindan emin olmak icin ```pvalues``` ve ```R squared``` degerleri de verilmelidir."
   ]
  }
 ],
 "metadata": {
  "kernelspec": {
   "display_name": "Python 3",
   "language": "python",
   "name": "python3"
  },
  "language_info": {
   "codemirror_mode": {
    "name": "ipython",
    "version": 3
   },
   "file_extension": ".py",
   "mimetype": "text/x-python",
   "name": "python",
   "nbconvert_exporter": "python",
   "pygments_lexer": "ipython3",
   "version": "3.7.6"
  }
 },
 "nbformat": 4,
 "nbformat_minor": 4
}
