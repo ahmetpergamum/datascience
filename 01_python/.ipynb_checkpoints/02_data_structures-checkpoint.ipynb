{
 "cells": [
  {
   "cell_type": "markdown",
   "metadata": {},
   "source": [
    "# Python'a Giris\n",
    "## Veri Yapilari"
   ]
  },
  {
   "cell_type": "markdown",
   "metadata": {},
   "source": [
    "### Q1: \n",
    "İçerisinde 7 günün bulunduğu bir sözlük oluşturun. Kullanıcıya günleri listeleyerek 2 farklı gün seçmesini isteyin (örneğin pazartesi ve salı için \"12\" gibi). Kullanıcının seçtiği günleri sözlükten silerek kalan 5 günü ekrana yazdırın."
   ]
  },
  {
   "cell_type": "code",
   "execution_count": 12,
   "metadata": {},
   "outputs": [
    {
     "name": "stdout",
     "output_type": "stream",
     "text": [
      "Pazartesi\n",
      "Sali\n",
      "Carsamba\n",
      "Persembe\n",
      "Cuma\n",
      "Cumartesi\n",
      "Pazar\n"
     ]
    },
    {
     "name": "stdin",
     "output_type": "stream",
     "text": [
      "Haftanin gunlerinden sectiginiz iki gun silinecektir :  23\n"
     ]
    },
    {
     "name": "stdout",
     "output_type": "stream",
     "text": [
      "Pazartesi\n",
      "Persembe\n",
      "Cuma\n",
      "Cumartesi\n",
      "Pazar\n"
     ]
    }
   ],
   "source": [
    "weekDays = { 1: 'Pazartesi', 2:'Sali', 3:'Carsamba', 4:'Persembe', 5:'Cuma', 6:'Cumartesi', 7:'Pazar'}\n",
    "\n",
    "for day in weekDays:\n",
    "    print(weekDays[day])\n",
    "\n",
    "selected = input ('Haftanin gunlerinden sectiginiz iki gun silinecektir : ')\n",
    "\n",
    "del(weekDays[int(selected[0])])\n",
    "del(weekDays[int(selected[1])])\n",
    "\n",
    "for day in weekDays:\n",
    "    print(weekDays[day])\n",
    "\n"
   ]
  },
  {
   "cell_type": "markdown",
   "metadata": {},
   "source": [
    "### Q2\n",
    "Ayların kaç gün çektiğini karıştırabiliyoruz. Bunun için bir liste oluşturun ancak listenizde ay isimleri ve gün sayıları beraber bulunsun\n",
    "(ipucu: listenizin içinde başka bir veri yapısı yer alacak!)."
   ]
  },
  {
   "cell_type": "code",
   "execution_count": 13,
   "metadata": {},
   "outputs": [
    {
     "name": "stdout",
     "output_type": "stream",
     "text": [
      "Ocak        31   gundur\n",
      "Subat       28   gundur\n",
      "Mart        31   gundur\n",
      "Nisan       30   gundur\n",
      "Mayis       31   gundur\n",
      "Haziran     30   gundur\n",
      "Temmuz      31   gundur\n",
      "Agustos     31   gundur\n",
      "Eylul       30   gundur\n",
      "Ekim        31   gundur\n",
      "Kasim       30   gundur\n",
      "Aralik      31   gundur\n"
     ]
    }
   ],
   "source": [
    "months = [('Ocak', 31), ('Subat', 28), ('Mart', 31), ('Nisan', 30), \n",
    "          ('Mayis', 31), ('Haziran', 30), ('Temmuz', 31), ('Agustos', 31),\n",
    "          ('Eylul', 30), ('Ekim', 31), ('Kasim', 30), ('Aralik', 31)]\n",
    "\n",
    "for month in months:\n",
    "    print('{:<10}  {:<4} gundur'.format(month[0], month[1]))\n"
   ]
  },
  {
   "cell_type": "markdown",
   "metadata": {},
   "source": [
    "### Q3\n",
    "Bilgileri bir önceki listeden alan başka bir ay listesi oluşturun. Bu kez ayları günlerle birlikte listenin içinde iki ayrı listede tutun."
   ]
  },
  {
   "cell_type": "code",
   "execution_count": 14,
   "metadata": {},
   "outputs": [
    {
     "name": "stdout",
     "output_type": "stream",
     "text": [
      "[['Ocak', 'Subat', 'Mart', 'Nisan', 'Mayis', 'Haziran', 'Temmuz', 'Agustos', 'Eylul', 'Ekim', 'Kasim', 'Aralik'], [31, 28, 31, 30, 31, 30, 31, 31, 30, 31, 30, 31]]\n",
      "Ocak 31 gundur\n",
      "Subat 28 gundur\n",
      "Mart 31 gundur\n",
      "Nisan 30 gundur\n",
      "Mayis 31 gundur\n",
      "Haziran 30 gundur\n",
      "Temmuz 31 gundur\n",
      "Agustos 31 gundur\n",
      "Eylul 30 gundur\n",
      "Ekim 31 gundur\n",
      "Kasim 30 gundur\n",
      "Aralik 31 gundur\n"
     ]
    }
   ],
   "source": [
    "months = [('Ocak', 31), ('Subat', 28), ('Mart', 31), ('Nisan', 30), \n",
    "          ('Mayis', 31), ('Haziran', 30), ('Temmuz', 31), ('Agustos', 31),\n",
    "          ('Eylul', 30), ('Ekim', 31), ('Kasim', 30), ('Aralik', 31)]\n",
    "\n",
    "monthsDays = [[],[]]\n",
    "for month in months:\n",
    "    monthsDays[0].append(month[0])\n",
    "    monthsDays[1].append(month[1])\n",
    "\n",
    "print(monthsDays)\n",
    "for i in range(12):\n",
    "    print('{} {} gundur'.format(monthsDays[0][i], monthsDays[1][i] ))\n",
    "    "
   ]
  },
  {
   "cell_type": "markdown",
   "metadata": {},
   "source": [
    "### Q4\n",
    "Şimdi ise mevsim mevsim ayrılmış ay listeleri oluşturun. Liste adlarına mevsimlerin adlarını verin."
   ]
  },
  {
   "cell_type": "code",
   "execution_count": 15,
   "metadata": {},
   "outputs": [
    {
     "name": "stdout",
     "output_type": "stream",
     "text": [
      "Bahar aylari\n",
      "Mart\n",
      "Nisan\n",
      "Mayis\n"
     ]
    }
   ],
   "source": [
    "spring = [('Mart', 31), ('Nisan', 30), ('Mayis', 31)]\n",
    "summer = [('Haziran', 30), ('Temmuz', 31), ('Agustos', 31)]\n",
    "fall = [('Eylul', 30), ('Ekim', 31), ('Kasim', 30)] \n",
    "winter = [('Aralik', 31), ('Ocak', 31), ('Subat', 28)] \n",
    "\n",
    "print('Bahar aylari')\n",
    "for month in spring:\n",
    "    print(month[0])"
   ]
  },
  {
   "cell_type": "markdown",
   "metadata": {},
   "source": [
    "### Q5\n",
    "Son olarak, bir önceki sorudaki listeden yaz ayının kaç gün sürdüğünü hesaplayın."
   ]
  },
  {
   "cell_type": "code",
   "execution_count": 16,
   "metadata": {},
   "outputs": [
    {
     "name": "stdout",
     "output_type": "stream",
     "text": [
      "92\n"
     ]
    }
   ],
   "source": [
    "summer = [('Haziran', 30), ('Temmuz', 31), ('Agustos', 31)]\n",
    "days = 0\n",
    "for month in summer:\n",
    "    days += month[1]\n",
    "\n",
    "print(days)"
   ]
  }
 ],
 "metadata": {
  "kernelspec": {
   "display_name": "Python 3",
   "language": "python",
   "name": "python3"
  },
  "language_info": {
   "codemirror_mode": {
    "name": "ipython",
    "version": 3
   },
   "file_extension": ".py",
   "mimetype": "text/x-python",
   "name": "python",
   "nbconvert_exporter": "python",
   "pygments_lexer": "ipython3",
   "version": "3.7.5"
  }
 },
 "nbformat": 4,
 "nbformat_minor": 4
}
