{
 "cells": [
  {
   "cell_type": "markdown",
   "metadata": {},
   "source": [
    "# Pyton'a Giris\n",
    "## Dosyadan Okuma/Dosyaya Yazma İşlemleri, Fonksiyonlar, Hatalar ve Moduller"
   ]
  },
  {
   "cell_type": "markdown",
   "metadata": {},
   "source": [
    "### Q1\n",
    "Seçeceğiniz herhangi bir şiiri bilgisayarına .txt dsyası olarak kaydedin. Şiirin kaç dizeden oluştuğunu hesaplayın ve başka bir dosyaya her dizenin ilk kelimesini yazdırın."
   ]
  },
  {
   "cell_type": "code",
   "execution_count": 17,
   "metadata": {},
   "outputs": [
    {
     "name": "stdout",
     "output_type": "stream",
     "text": [
      "Siirin dize sayisi: 31\n"
     ]
    }
   ],
   "source": [
    "lines=[]\n",
    "with open(\"../assignment04/siir.txt\",'r', encoding = 'utf8') as f:\n",
    "    lines = f.readlines()\n",
    "print('Siirin dize sayisi: {}'.format(len(lines)))\n",
    "\n",
    "with open(\"../assignment04/ilkkelime.txt\", \"w\", encoding = 'utf8') as f:\n",
    "    for line in lines:\n",
    "        f.write(line.split()[0] + '\\n')        "
   ]
  },
  {
   "cell_type": "markdown",
   "metadata": {},
   "source": [
    "### Q2\n",
    "Parametre olarak girilen bir sayının asal sayı olup olmadığını belirten bir fonksiyon yazın."
   ]
  },
  {
   "cell_type": "code",
   "execution_count": 68,
   "metadata": {},
   "outputs": [
    {
     "name": "stdin",
     "output_type": "stream",
     "text": [
      "bir sayi girin:  6\n"
     ]
    },
    {
     "name": "stdout",
     "output_type": "stream",
     "text": [
      "asal degil!\n"
     ]
    }
   ],
   "source": [
    "def isPrime(n):\n",
    "    if n <= 1 or n == 4:\n",
    "        print ('asal degil!')\n",
    "    elif n <= 3:\n",
    "        print ('asal!')\n",
    "    else:\n",
    "        p = True\n",
    "        for i in range(2,(n//2)):\n",
    "            if ( n % i == 0):\n",
    "                p = False\n",
    "                break\n",
    "        if p == True:\n",
    "            print ('asal!')\n",
    "        else:\n",
    "            print ('asal degil!') \n",
    "\n",
    "n = int(input('bir sayi girin: '))\n",
    "isPrime(n)\n",
    "        "
   ]
  },
  {
   "cell_type": "markdown",
   "metadata": {},
   "source": [
    "### Q3\n",
    "Parametre olarak girilecek listenin elemanlarını yeni bir listeye her değer sadece bir kere geçecek şekilde aktaran bir fonksiyon yazın. Normalde bu işlemi set() komutu ile yapabiliriz ama bu seferlik bu komutu kullanmayalım.\n",
    " Örnek : uniq_liste([1,2,2,3,3,4,4]) = [1,2,3,4]"
   ]
  },
  {
   "cell_type": "code",
   "execution_count": 44,
   "metadata": {},
   "outputs": [
    {
     "name": "stdout",
     "output_type": "stream",
     "text": [
      "[1, 2, 3, 4, 5, 6]\n"
     ]
    }
   ],
   "source": [
    "def uniq_list(l):\n",
    "    uniql = []\n",
    "    for item in l:\n",
    "        match = False\n",
    "        for j in uniql:\n",
    "            if j == item:\n",
    "                match = True\n",
    "                break\n",
    "        if (not match):\n",
    "            uniql.append(item)\n",
    "    return uniql\n",
    "        \n",
    "\n",
    "print(uniq_list([1,1,2,2,3,3,4,4,5,5,5,6,4,5,3,2,1]))\n"
   ]
  },
  {
   "cell_type": "markdown",
   "metadata": {},
   "source": [
    "### Q4\n",
    "Python'da hazır birçok modül bulunmaktadır. Zaman ile ilgili modüllerden birisini import ederek, parametre olarak doğum tarihi alan ve yaşı döndüren bir fonksiyon yazınız."
   ]
  },
  {
   "cell_type": "code",
   "execution_count": 60,
   "metadata": {},
   "outputs": [
    {
     "name": "stdin",
     "output_type": "stream",
     "text": [
      "Dogum tarihinizi YYYY-MM-DD formatinda giriniz : 1985-05-14\n"
     ]
    },
    {
     "name": "stdout",
     "output_type": "stream",
     "text": [
      "Yasiniz : 34\n"
     ]
    }
   ],
   "source": [
    "from datetime import date\n",
    "\n",
    "def find_age(birthDay):\n",
    "    d1 = date.today()\n",
    "    d2 = date.fromisoformat(birthDay)\n",
    "    delta = d1-d2\n",
    "    return delta.days//365\n",
    "bDay = input('Dogum tarihinizi YYYY-MM-DD formatinda giriniz :')\n",
    "print('Yasiniz : {}'.format(find_age(bDay)))"
   ]
  }
 ],
 "metadata": {
  "kernelspec": {
   "display_name": "Python 3",
   "language": "python",
   "name": "python3"
  },
  "language_info": {
   "codemirror_mode": {
    "name": "ipython",
    "version": 3
   },
   "file_extension": ".py",
   "mimetype": "text/x-python",
   "name": "python",
   "nbconvert_exporter": "python",
   "pygments_lexer": "ipython3",
   "version": "3.7.5"
  }
 },
 "nbformat": 4,
 "nbformat_minor": 4
}
