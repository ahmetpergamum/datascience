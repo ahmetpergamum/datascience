{
 "cells": [
  {
   "cell_type": "markdown",
   "metadata": {},
   "source": [
    "# ***Logistic Regression***\n",
    "\n",
    "## ***Titanic***\n",
    "\n",
    "Bu ödevde, modelinizi kullanarak Titanic faciasında hayatta kalma durumunu tahmin edeceksiniz. \n",
    "Titanic verilerini [Kaggle](https://www.kaggle.com/c/titanic/data)'dan indirin. Buradaki ```train.csv``` dosyasındaki veriler ihtiyacınızı görecektir.\n",
    "\n",
    "- Verilerinizi eğitim ve test kümelerine ayırın. Modelinizi oluşturarak ayırdığınız test kümesindeki verilere göre hayatta kalma durumlarını tahmin edin\n",
    "- Modelinizin performansı tatmin edici mi? Açıklayın.\n",
    "- Bazı değişkenleri ekleyerek veya çıkararak modelinizi tahmin performansı açısından geliştirmeye çalışın.\n",
    "- Lojistik Regresyon'un avantaj ve dezavantajlarını araştırın ve mentörünüzle tartışın.\n",
    "---"
   ]
  },
  {
   "cell_type": "code",
   "execution_count": 605,
   "metadata": {},
   "outputs": [],
   "source": [
    "import pandas as pd\n",
    "import numpy as np\n",
    "# grafiksel araclar\n",
    "import matplotlib.pyplot as plt\n",
    "import seaborn as sns\n",
    "import plotly.express as px\n",
    "import plotly.graph_objects as go\n",
    "sns.set(style=\"whitegrid\")\n",
    "# logistic regresyon icin\n",
    "from sklearn.linear_model import LogisticRegression\n",
    "# lineer regresyon icin\n",
    "from sklearn.linear_model import LinearRegression\n",
    "# egitim verisini ayirmak icin\n",
    "from sklearn.model_selection import train_test_split\n",
    "\n",
    "import statsmodels.api as sm\n",
    "# polynomial features icin\n",
    "from sklearn.preprocessing import PolynomialFeatures\n",
    "# tahmin performansi icin\n",
    "from sklearn.metrics import mean_absolute_error\n",
    "from statsmodels.tools.eval_measures import mse, rmse\n",
    "# regularizasyon icin\n",
    "from sklearn.linear_model import Ridge\n",
    "from sklearn.linear_model import Lasso\n",
    "from sklearn.linear_model import ElasticNet\n",
    "\n",
    "# uyarilari dikkate alma\n",
    "import warnings\n",
    "warnings.filterwarnings('ignore')\n",
    "\n",
    "# pandas varsayilan olarak cok sayida sutun veya satir varsa tumunu gostermez\n",
    "# bu nedenle 100 sutun ve satir gostermesi icin\n",
    "pd.options.display.max_rows = 100\n",
    "pd.options.display.max_columns = 100\n",
    "\n",
    "# virgulden sonra belirli sayida basamak gosterimi icin \n",
    "pd.options.display.float_format = '{:,.3f}'.format\n",
    "# aciklama sutunun tam cikmasi icin\n",
    "pd.options.display.max_colwidth = 100\n",
    "\n",
    "# font tanimlamalari\n",
    "title_font = {'family': 'times new roman', 'color': 'darkred', \n",
    "              'weight': 'bold', 'size': 14}\n",
    "axis_font  = {'family': 'times new roman', 'color': 'darkred', \n",
    "              'weight': 'bold', 'size': 14}\n",
    "\n",
    "# veri setini dataframe icerisine yukle\n",
    "titanic = pd.read_csv('data/train.csv')"
   ]
  },
  {
   "cell_type": "markdown",
   "metadata": {},
   "source": [
    "- Fonksiyon tanimlamalari."
   ]
  },
  {
   "cell_type": "code",
   "execution_count": 606,
   "metadata": {},
   "outputs": [],
   "source": [
    "# dogruluk degerlerini tutacak df\n",
    "accuracy_df = pd.DataFrame( columns=['description', \n",
    "                                     'train_accuracy', 'test_accuracy'])\n",
    "\n",
    "accuracy_df.index.name = 'model'\n",
    "\n",
    "# dogruluk degerlerini df kaydeden fonksiyon\n",
    "def save_accuracy(model_nu, description, train_accuracy, test_accuracy):    \n",
    "    global accuracy_df\n",
    "    # model varsa drop et\n",
    "    if (accuracy_df.index==model_nu).any():\n",
    "        accuracy_df.drop(index=model_nu, inplace=True)    \n",
    "    df = pd.DataFrame([])\n",
    "    df.index.name = 'model'\n",
    "    df.loc[model_nu, 'description'] = description,\n",
    "    df.loc[model_nu, 'train_accuracy'] = train_accuracy\n",
    "    df.loc[model_nu, 'test_accuracy'] = test_accuracy\n",
    "    accuracy_df = pd.concat([accuracy_df, df])        \n",
    "    \n",
    "# c degerlerine gore dogruluk degerlerini tutacak df\n",
    "cval_df = pd.DataFrame( columns=['model', 'description', 'c_val', \n",
    "                                 'train_accuracy', 'test_accuracy'])\n",
    "\n",
    "\n",
    "# c degerlerine gore dogruluk degerlerini df kaydeden fonksiyon\n",
    "def save_cval_accuracy(model_nu, description, cval, train_accuracy, test_accuracy):    \n",
    "    global cval_df\n",
    "    # model varsa drop et kaydet\n",
    "    #if (cval_df.model==model_nu).any():\n",
    "    #   cval_df = cval_df.drop(cval_df[cval_df.model == model_nu].index)\n",
    "    cval_df = cval_df.append({'model': model_nu, 'description': description, 'c_val': cval,\n",
    "                              'train_accuracy' : train_accuracy,\n",
    "                              'test_accuracy': test_accuracy\n",
    "                             }, ignore_index=True)"
   ]
  },
  {
   "cell_type": "code",
   "execution_count": 607,
   "metadata": {},
   "outputs": [
    {
     "data": {
      "text/html": [
       "<div>\n",
       "<style scoped>\n",
       "    .dataframe tbody tr th:only-of-type {\n",
       "        vertical-align: middle;\n",
       "    }\n",
       "\n",
       "    .dataframe tbody tr th {\n",
       "        vertical-align: top;\n",
       "    }\n",
       "\n",
       "    .dataframe thead th {\n",
       "        text-align: right;\n",
       "    }\n",
       "</style>\n",
       "<table border=\"1\" class=\"dataframe\">\n",
       "  <thead>\n",
       "    <tr style=\"text-align: right;\">\n",
       "      <th></th>\n",
       "      <th>description</th>\n",
       "      <th>train_accuracy</th>\n",
       "      <th>test_accuracy</th>\n",
       "    </tr>\n",
       "    <tr>\n",
       "      <th>model</th>\n",
       "      <th></th>\n",
       "      <th></th>\n",
       "      <th></th>\n",
       "    </tr>\n",
       "  </thead>\n",
       "  <tbody>\n",
       "  </tbody>\n",
       "</table>\n",
       "</div>"
      ],
      "text/plain": [
       "Empty DataFrame\n",
       "Columns: [description, train_accuracy, test_accuracy]\n",
       "Index: []"
      ]
     },
     "metadata": {},
     "output_type": "display_data"
    },
    {
     "data": {
      "text/html": [
       "<div>\n",
       "<style scoped>\n",
       "    .dataframe tbody tr th:only-of-type {\n",
       "        vertical-align: middle;\n",
       "    }\n",
       "\n",
       "    .dataframe tbody tr th {\n",
       "        vertical-align: top;\n",
       "    }\n",
       "\n",
       "    .dataframe thead th {\n",
       "        text-align: right;\n",
       "    }\n",
       "</style>\n",
       "<table border=\"1\" class=\"dataframe\">\n",
       "  <thead>\n",
       "    <tr style=\"text-align: right;\">\n",
       "      <th></th>\n",
       "      <th>model</th>\n",
       "      <th>description</th>\n",
       "      <th>c_val</th>\n",
       "      <th>train_accuracy</th>\n",
       "      <th>test_accuracy</th>\n",
       "    </tr>\n",
       "  </thead>\n",
       "  <tbody>\n",
       "  </tbody>\n",
       "</table>\n",
       "</div>"
      ],
      "text/plain": [
       "Empty DataFrame\n",
       "Columns: [model, description, c_val, train_accuracy, test_accuracy]\n",
       "Index: []"
      ]
     },
     "metadata": {},
     "output_type": "display_data"
    }
   ],
   "source": [
    "display(accuracy_df, cval_df)"
   ]
  },
  {
   "cell_type": "markdown",
   "metadata": {},
   "source": [
    "### Veri Kesfi\n",
    "- Veri setini inceleme."
   ]
  },
  {
   "cell_type": "code",
   "execution_count": 608,
   "metadata": {},
   "outputs": [
    {
     "name": "stdout",
     "output_type": "stream",
     "text": [
      "<class 'pandas.core.frame.DataFrame'>\n",
      "RangeIndex: 891 entries, 0 to 890\n",
      "Data columns (total 12 columns):\n",
      " #   Column       Non-Null Count  Dtype  \n",
      "---  ------       --------------  -----  \n",
      " 0   PassengerId  891 non-null    int64  \n",
      " 1   Survived     891 non-null    int64  \n",
      " 2   Pclass       891 non-null    int64  \n",
      " 3   Name         891 non-null    object \n",
      " 4   Sex          891 non-null    object \n",
      " 5   Age          714 non-null    float64\n",
      " 6   SibSp        891 non-null    int64  \n",
      " 7   Parch        891 non-null    int64  \n",
      " 8   Ticket       891 non-null    object \n",
      " 9   Fare         891 non-null    float64\n",
      " 10  Cabin        204 non-null    object \n",
      " 11  Embarked     889 non-null    object \n",
      "dtypes: float64(2), int64(5), object(5)\n",
      "memory usage: 83.7+ KB\n"
     ]
    }
   ],
   "source": [
    "titanic.info()"
   ]
  },
  {
   "cell_type": "code",
   "execution_count": 609,
   "metadata": {},
   "outputs": [
    {
     "name": "stdout",
     "output_type": "stream",
     "text": [
      "3 0.976\n",
      "1 0.185\n",
      "2 0.913\n"
     ]
    }
   ],
   "source": [
    "for val in titanic['Pclass'].unique():\n",
    "    print(val, '{:.3f}'.format(titanic.loc[titanic['Pclass']==val, 'Cabin'].isnull().mean()))"
   ]
  },
  {
   "cell_type": "markdown",
   "metadata": {},
   "source": [
    "- Pclass 2 ve 3 olanlarin Cabin numaralari genelde bos (sirasiyla %91 ve %97), 1 inci sinif yolcularda ise %18 in Cabin numarasi bos.\n",
    "- Nan degerleri 'None' string degeriyle doldurabiliriz."
   ]
  },
  {
   "cell_type": "code",
   "execution_count": 610,
   "metadata": {},
   "outputs": [],
   "source": [
    "titanic['Cabin'].fillna('None', inplace=True)"
   ]
  },
  {
   "cell_type": "code",
   "execution_count": 611,
   "metadata": {},
   "outputs": [
    {
     "data": {
      "text/plain": [
       "array(['S', 'C', 'Q', nan], dtype=object)"
      ]
     },
     "execution_count": 611,
     "metadata": {},
     "output_type": "execute_result"
    }
   ],
   "source": [
    "titanic['Embarked'].unique()"
   ]
  },
  {
   "cell_type": "code",
   "execution_count": 612,
   "metadata": {},
   "outputs": [
    {
     "name": "stdout",
     "output_type": "stream",
     "text": [
      "S 644\n",
      "C 168\n",
      "Q 77\n"
     ]
    }
   ],
   "source": [
    "for val in titanic['Embarked'].unique()[0:3]:    \n",
    "    print(val, titanic.loc[titanic['Embarked']==val, 'PassengerId'].count())"
   ]
  },
  {
   "cell_type": "markdown",
   "metadata": {},
   "source": [
    "- Embarked 3 farkli deger almis, eksik veriler en sik karsilasilan degerle doldurulabilir."
   ]
  },
  {
   "cell_type": "code",
   "execution_count": 613,
   "metadata": {},
   "outputs": [],
   "source": [
    "titanic['Embarked'].fillna('S', inplace=True)"
   ]
  },
  {
   "cell_type": "markdown",
   "metadata": {},
   "source": [
    "- Son olarak yas degeri de ortalama deger ile dolduruldu."
   ]
  },
  {
   "cell_type": "code",
   "execution_count": 614,
   "metadata": {},
   "outputs": [
    {
     "data": {
      "text/plain": [
       "29.0"
      ]
     },
     "execution_count": 614,
     "metadata": {},
     "output_type": "execute_result"
    }
   ],
   "source": [
    "np.floor(titanic['Age'].mean())"
   ]
  },
  {
   "cell_type": "code",
   "execution_count": 615,
   "metadata": {},
   "outputs": [],
   "source": [
    "titanic['Age'].fillna(np.floor(titanic['Age'].mean()), inplace=True)"
   ]
  },
  {
   "cell_type": "code",
   "execution_count": 616,
   "metadata": {},
   "outputs": [
    {
     "name": "stdout",
     "output_type": "stream",
     "text": [
      "<class 'pandas.core.frame.DataFrame'>\n",
      "RangeIndex: 891 entries, 0 to 890\n",
      "Data columns (total 12 columns):\n",
      " #   Column       Non-Null Count  Dtype  \n",
      "---  ------       --------------  -----  \n",
      " 0   PassengerId  891 non-null    int64  \n",
      " 1   Survived     891 non-null    int64  \n",
      " 2   Pclass       891 non-null    int64  \n",
      " 3   Name         891 non-null    object \n",
      " 4   Sex          891 non-null    object \n",
      " 5   Age          891 non-null    float64\n",
      " 6   SibSp        891 non-null    int64  \n",
      " 7   Parch        891 non-null    int64  \n",
      " 8   Ticket       891 non-null    object \n",
      " 9   Fare         891 non-null    float64\n",
      " 10  Cabin        891 non-null    object \n",
      " 11  Embarked     891 non-null    object \n",
      "dtypes: float64(2), int64(5), object(5)\n",
      "memory usage: 83.7+ KB\n"
     ]
    }
   ],
   "source": [
    "titanic.info()"
   ]
  },
  {
   "cell_type": "markdown",
   "metadata": {},
   "source": [
    "### ***1. Model: Sadece numerik degiskenler***"
   ]
  },
  {
   "cell_type": "markdown",
   "metadata": {},
   "source": [
    "- Hedef (bagimli) degisken : Survived\n",
    "- Aciklayici (bagimsiz) degiskenler : Diger tum degiskenler"
   ]
  },
  {
   "cell_type": "code",
   "execution_count": 617,
   "metadata": {},
   "outputs": [
    {
     "data": {
      "text/plain": [
       "['Pclass', 'Age', 'SibSp', 'Parch', 'Fare']"
      ]
     },
     "execution_count": 617,
     "metadata": {},
     "output_type": "execute_result"
    }
   ],
   "source": [
    "# aciklayici degiskenler numerik olanlar  \n",
    "expl_vars = [column for column in titanic.columns \n",
    "                if titanic.dtypes[column] != 'object']\n",
    "# aciklayici degiskenlerden hedef degisken ve id degiskeni ayrilir\n",
    "expl_vars.remove('Survived')\n",
    "expl_vars.remove('PassengerId')\n",
    "expl_vars"
   ]
  },
  {
   "cell_type": "code",
   "execution_count": 618,
   "metadata": {},
   "outputs": [
    {
     "data": {
      "text/html": [
       "<div>\n",
       "<style scoped>\n",
       "    .dataframe tbody tr th:only-of-type {\n",
       "        vertical-align: middle;\n",
       "    }\n",
       "\n",
       "    .dataframe tbody tr th {\n",
       "        vertical-align: top;\n",
       "    }\n",
       "\n",
       "    .dataframe thead th {\n",
       "        text-align: right;\n",
       "    }\n",
       "</style>\n",
       "<table border=\"1\" class=\"dataframe\">\n",
       "  <thead>\n",
       "    <tr style=\"text-align: right;\">\n",
       "      <th></th>\n",
       "      <th>description</th>\n",
       "      <th>train_accuracy</th>\n",
       "      <th>test_accuracy</th>\n",
       "    </tr>\n",
       "    <tr>\n",
       "      <th>model</th>\n",
       "      <th></th>\n",
       "      <th></th>\n",
       "      <th></th>\n",
       "    </tr>\n",
       "  </thead>\n",
       "  <tbody>\n",
       "    <tr>\n",
       "      <th>1</th>\n",
       "      <td>numerik degiskenler</td>\n",
       "      <td>0.705</td>\n",
       "      <td>0.698</td>\n",
       "    </tr>\n",
       "  </tbody>\n",
       "</table>\n",
       "</div>"
      ],
      "text/plain": [
       "               description  train_accuracy  test_accuracy\n",
       "model                                                    \n",
       "1      numerik degiskenler           0.705          0.698"
      ]
     },
     "execution_count": 618,
     "metadata": {},
     "output_type": "execute_result"
    }
   ],
   "source": [
    "# hedef ve aciklayici degiskenler\n",
    "Y = titanic['Survived']\n",
    "X = titanic[expl_vars]\n",
    "\n",
    "# egitim ve test veri kumelerine ayirma\n",
    "X_train, X_test, Y_train, Y_test =  train_test_split(X, Y, test_size=0.20, random_state=111)\n",
    "\n",
    "# log reg model nesnesi olustur\n",
    "log_reg = LogisticRegression()\n",
    "\n",
    "# modeli egit\n",
    "log_reg.fit(X_train, Y_train)\n",
    "\n",
    "# dogruluk skorlari\n",
    "train_accuracy = log_reg.score(X_train, Y_train)\n",
    "test_accuracy = log_reg.score(X_test, Y_test)\n",
    "\n",
    "# dogruluk degerlerini kaydet\n",
    "save_accuracy(1, 'numerik degiskenler', train_accuracy, test_accuracy)\n",
    "accuracy_df"
   ]
  },
  {
   "cell_type": "markdown",
   "metadata": {},
   "source": [
    "### ***1. Model: Sadece numerik degiskenler (Regularizasyon)***\n",
    "- C degerleri degistirilerek modele etkisi gozlemlenir. C degeri varsayilan olarak 1."
   ]
  },
  {
   "cell_type": "code",
   "execution_count": 619,
   "metadata": {},
   "outputs": [
    {
     "data": {
      "text/html": [
       "<div>\n",
       "<style scoped>\n",
       "    .dataframe tbody tr th:only-of-type {\n",
       "        vertical-align: middle;\n",
       "    }\n",
       "\n",
       "    .dataframe tbody tr th {\n",
       "        vertical-align: top;\n",
       "    }\n",
       "\n",
       "    .dataframe thead th {\n",
       "        text-align: right;\n",
       "    }\n",
       "</style>\n",
       "<table border=\"1\" class=\"dataframe\">\n",
       "  <thead>\n",
       "    <tr style=\"text-align: right;\">\n",
       "      <th></th>\n",
       "      <th>model</th>\n",
       "      <th>description</th>\n",
       "      <th>c_val</th>\n",
       "      <th>train_accuracy</th>\n",
       "      <th>test_accuracy</th>\n",
       "    </tr>\n",
       "  </thead>\n",
       "  <tbody>\n",
       "    <tr>\n",
       "      <th>0</th>\n",
       "      <td>1</td>\n",
       "      <td>numerik degiskenler</td>\n",
       "      <td>0.001</td>\n",
       "      <td>0.687</td>\n",
       "      <td>0.665</td>\n",
       "    </tr>\n",
       "    <tr>\n",
       "      <th>1</th>\n",
       "      <td>1</td>\n",
       "      <td>numerik degiskenler</td>\n",
       "      <td>0.010</td>\n",
       "      <td>0.709</td>\n",
       "      <td>0.698</td>\n",
       "    </tr>\n",
       "    <tr>\n",
       "      <th>2</th>\n",
       "      <td>1</td>\n",
       "      <td>numerik degiskenler</td>\n",
       "      <td>0.100</td>\n",
       "      <td>0.711</td>\n",
       "      <td>0.709</td>\n",
       "    </tr>\n",
       "    <tr>\n",
       "      <th>3</th>\n",
       "      <td>1</td>\n",
       "      <td>numerik degiskenler</td>\n",
       "      <td>1.000</td>\n",
       "      <td>0.705</td>\n",
       "      <td>0.698</td>\n",
       "    </tr>\n",
       "    <tr>\n",
       "      <th>4</th>\n",
       "      <td>1</td>\n",
       "      <td>numerik degiskenler</td>\n",
       "      <td>10.000</td>\n",
       "      <td>0.706</td>\n",
       "      <td>0.698</td>\n",
       "    </tr>\n",
       "    <tr>\n",
       "      <th>5</th>\n",
       "      <td>1</td>\n",
       "      <td>numerik degiskenler</td>\n",
       "      <td>100.000</td>\n",
       "      <td>0.706</td>\n",
       "      <td>0.698</td>\n",
       "    </tr>\n",
       "    <tr>\n",
       "      <th>6</th>\n",
       "      <td>1</td>\n",
       "      <td>numerik degiskenler</td>\n",
       "      <td>1,000.000</td>\n",
       "      <td>0.706</td>\n",
       "      <td>0.698</td>\n",
       "    </tr>\n",
       "  </tbody>\n",
       "</table>\n",
       "</div>"
      ],
      "text/plain": [
       "  model          description     c_val  train_accuracy  test_accuracy\n",
       "0     1  numerik degiskenler     0.001           0.687          0.665\n",
       "1     1  numerik degiskenler     0.010           0.709          0.698\n",
       "2     1  numerik degiskenler     0.100           0.711          0.709\n",
       "3     1  numerik degiskenler     1.000           0.705          0.698\n",
       "4     1  numerik degiskenler    10.000           0.706          0.698\n",
       "5     1  numerik degiskenler   100.000           0.706          0.698\n",
       "6     1  numerik degiskenler 1,000.000           0.706          0.698"
      ]
     },
     "execution_count": 619,
     "metadata": {},
     "output_type": "execute_result"
    }
   ],
   "source": [
    "c_vals = [0.001,0.01,0.1,1,10,100, 1000]\n",
    "\n",
    "# dogruluk degerlerini tutacak df\n",
    "accuracy_df2 = pd.DataFrame(columns=['C Değeri', 'Eğitim Doğruluğu', 'Test Doğruluğu'])\n",
    "\n",
    "for c in c_vals:\n",
    "    \n",
    "    # Apply logistic regression model to training data\n",
    "    lr = LogisticRegression(penalty = 'l2', C = c, random_state = 111)\n",
    "    lr.fit(X_train,Y_train)\n",
    "    save_cval_accuracy(1, 'numerik degiskenler', c, \n",
    "                       lr.score(X_train, Y_train), lr.score(X_test, Y_test))\n",
    "\n",
    "cval_df"
   ]
  },
  {
   "cell_type": "markdown",
   "metadata": {},
   "source": [
    "### ***2. Model: Cinsiyet ve Liman bilgisi dahil***\n",
    "- Kadin kurtulam orani fazla oldugundan kadin 1, erkek 0.\n",
    "- Liman bilgisi de kurtulma oranina gore siralanarak encode edildi."
   ]
  },
  {
   "cell_type": "code",
   "execution_count": 620,
   "metadata": {},
   "outputs": [
    {
     "data": {
      "text/html": [
       "<div>\n",
       "<style scoped>\n",
       "    .dataframe tbody tr th:only-of-type {\n",
       "        vertical-align: middle;\n",
       "    }\n",
       "\n",
       "    .dataframe tbody tr th {\n",
       "        vertical-align: top;\n",
       "    }\n",
       "\n",
       "    .dataframe thead th {\n",
       "        text-align: right;\n",
       "    }\n",
       "</style>\n",
       "<table border=\"1\" class=\"dataframe\">\n",
       "  <thead>\n",
       "    <tr style=\"text-align: right;\">\n",
       "      <th></th>\n",
       "      <th>Survived</th>\n",
       "    </tr>\n",
       "    <tr>\n",
       "      <th>Sex</th>\n",
       "      <th></th>\n",
       "    </tr>\n",
       "  </thead>\n",
       "  <tbody>\n",
       "    <tr>\n",
       "      <th>female</th>\n",
       "      <td>0.742</td>\n",
       "    </tr>\n",
       "    <tr>\n",
       "      <th>male</th>\n",
       "      <td>0.189</td>\n",
       "    </tr>\n",
       "  </tbody>\n",
       "</table>\n",
       "</div>"
      ],
      "text/plain": [
       "        Survived\n",
       "Sex             \n",
       "female     0.742\n",
       "male       0.189"
      ]
     },
     "execution_count": 620,
     "metadata": {},
     "output_type": "execute_result"
    }
   ],
   "source": [
    "titanic[['Sex', 'Survived']].groupby('Sex').mean()"
   ]
  },
  {
   "cell_type": "code",
   "execution_count": 621,
   "metadata": {},
   "outputs": [],
   "source": [
    "titanic['Sex'].replace({'female': 1, 'male': 0}, inplace=True)"
   ]
  },
  {
   "cell_type": "code",
   "execution_count": 622,
   "metadata": {},
   "outputs": [
    {
     "data": {
      "text/html": [
       "<div>\n",
       "<style scoped>\n",
       "    .dataframe tbody tr th:only-of-type {\n",
       "        vertical-align: middle;\n",
       "    }\n",
       "\n",
       "    .dataframe tbody tr th {\n",
       "        vertical-align: top;\n",
       "    }\n",
       "\n",
       "    .dataframe thead th {\n",
       "        text-align: right;\n",
       "    }\n",
       "</style>\n",
       "<table border=\"1\" class=\"dataframe\">\n",
       "  <thead>\n",
       "    <tr style=\"text-align: right;\">\n",
       "      <th></th>\n",
       "      <th>Survived</th>\n",
       "    </tr>\n",
       "    <tr>\n",
       "      <th>Embarked</th>\n",
       "      <th></th>\n",
       "    </tr>\n",
       "  </thead>\n",
       "  <tbody>\n",
       "    <tr>\n",
       "      <th>C</th>\n",
       "      <td>0.554</td>\n",
       "    </tr>\n",
       "    <tr>\n",
       "      <th>Q</th>\n",
       "      <td>0.390</td>\n",
       "    </tr>\n",
       "    <tr>\n",
       "      <th>S</th>\n",
       "      <td>0.339</td>\n",
       "    </tr>\n",
       "  </tbody>\n",
       "</table>\n",
       "</div>"
      ],
      "text/plain": [
       "          Survived\n",
       "Embarked          \n",
       "C            0.554\n",
       "Q            0.390\n",
       "S            0.339"
      ]
     },
     "execution_count": 622,
     "metadata": {},
     "output_type": "execute_result"
    }
   ],
   "source": [
    "titanic[['Embarked', 'Survived']].groupby('Embarked').mean()"
   ]
  },
  {
   "cell_type": "code",
   "execution_count": 623,
   "metadata": {},
   "outputs": [],
   "source": [
    "titanic['Embarked'].replace({'C': 3, 'Q': 2, 'S': 1}, inplace=True)"
   ]
  },
  {
   "cell_type": "code",
   "execution_count": 624,
   "metadata": {},
   "outputs": [
    {
     "data": {
      "text/plain": [
       "['Pclass', 'Sex', 'Age', 'SibSp', 'Parch', 'Fare', 'Embarked']"
      ]
     },
     "execution_count": 624,
     "metadata": {},
     "output_type": "execute_result"
    }
   ],
   "source": [
    "# aciklayici degiskenler numerik olanlar  \n",
    "expl_vars = [column for column in titanic.columns \n",
    "                if titanic.dtypes[column] != 'object']\n",
    "# aciklayici degiskenlerden hedef degisken ve id degiskeni ayrilir\n",
    "expl_vars.remove('Survived')\n",
    "expl_vars.remove('PassengerId')\n",
    "expl_vars"
   ]
  },
  {
   "cell_type": "code",
   "execution_count": 625,
   "metadata": {},
   "outputs": [
    {
     "data": {
      "text/html": [
       "<div>\n",
       "<style scoped>\n",
       "    .dataframe tbody tr th:only-of-type {\n",
       "        vertical-align: middle;\n",
       "    }\n",
       "\n",
       "    .dataframe tbody tr th {\n",
       "        vertical-align: top;\n",
       "    }\n",
       "\n",
       "    .dataframe thead th {\n",
       "        text-align: right;\n",
       "    }\n",
       "</style>\n",
       "<table border=\"1\" class=\"dataframe\">\n",
       "  <thead>\n",
       "    <tr style=\"text-align: right;\">\n",
       "      <th></th>\n",
       "      <th>description</th>\n",
       "      <th>train_accuracy</th>\n",
       "      <th>test_accuracy</th>\n",
       "    </tr>\n",
       "    <tr>\n",
       "      <th>model</th>\n",
       "      <th></th>\n",
       "      <th></th>\n",
       "      <th></th>\n",
       "    </tr>\n",
       "  </thead>\n",
       "  <tbody>\n",
       "    <tr>\n",
       "      <th>1</th>\n",
       "      <td>numerik degiskenler</td>\n",
       "      <td>0.705</td>\n",
       "      <td>0.698</td>\n",
       "    </tr>\n",
       "    <tr>\n",
       "      <th>2</th>\n",
       "      <td>cinsiyet ve liman bilgisi dahil</td>\n",
       "      <td>0.799</td>\n",
       "      <td>0.771</td>\n",
       "    </tr>\n",
       "  </tbody>\n",
       "</table>\n",
       "</div>"
      ],
      "text/plain": [
       "                           description  train_accuracy  test_accuracy\n",
       "model                                                                \n",
       "1                  numerik degiskenler           0.705          0.698\n",
       "2      cinsiyet ve liman bilgisi dahil           0.799          0.771"
      ]
     },
     "execution_count": 625,
     "metadata": {},
     "output_type": "execute_result"
    }
   ],
   "source": [
    "# hedef ve aciklayici degiskenler\n",
    "Y = titanic['Survived']\n",
    "X = titanic[expl_vars]\n",
    "\n",
    "# egitim ve test veri kumelerine ayirma\n",
    "X_train, X_test, Y_train, Y_test =  train_test_split(X, Y, test_size=0.20, random_state=111)\n",
    "\n",
    "# log reg model nesnesi olustur\n",
    "log_reg = LogisticRegression()\n",
    "\n",
    "# modeli egit\n",
    "log_reg.fit(X_train, Y_train)\n",
    "\n",
    "# dogruluk skorlari\n",
    "train_accuracy = log_reg.score(X_train, Y_train)\n",
    "test_accuracy = log_reg.score(X_test, Y_test)\n",
    "\n",
    "# dogruluk degerlerini kaydet\n",
    "save_accuracy(2, 'cinsiyet ve liman bilgisi dahil', train_accuracy, test_accuracy)\n",
    "accuracy_df"
   ]
  },
  {
   "cell_type": "markdown",
   "metadata": {},
   "source": [
    "### ***2. Model: Cinsiyet ve Liman bilgisi dahil (Regularizasyon)***\n",
    "- C degerleri degistirilerek modele etkisi gozlemlenir. C degeri varsayilan olarak 1."
   ]
  },
  {
   "cell_type": "code",
   "execution_count": 626,
   "metadata": {},
   "outputs": [
    {
     "data": {
      "text/html": [
       "<div>\n",
       "<style scoped>\n",
       "    .dataframe tbody tr th:only-of-type {\n",
       "        vertical-align: middle;\n",
       "    }\n",
       "\n",
       "    .dataframe tbody tr th {\n",
       "        vertical-align: top;\n",
       "    }\n",
       "\n",
       "    .dataframe thead th {\n",
       "        text-align: right;\n",
       "    }\n",
       "</style>\n",
       "<table border=\"1\" class=\"dataframe\">\n",
       "  <thead>\n",
       "    <tr style=\"text-align: right;\">\n",
       "      <th></th>\n",
       "      <th>model</th>\n",
       "      <th>description</th>\n",
       "      <th>c_val</th>\n",
       "      <th>train_accuracy</th>\n",
       "      <th>test_accuracy</th>\n",
       "    </tr>\n",
       "  </thead>\n",
       "  <tbody>\n",
       "    <tr>\n",
       "      <th>0</th>\n",
       "      <td>1</td>\n",
       "      <td>numerik degiskenler</td>\n",
       "      <td>0.001</td>\n",
       "      <td>0.687</td>\n",
       "      <td>0.665</td>\n",
       "    </tr>\n",
       "    <tr>\n",
       "      <th>1</th>\n",
       "      <td>1</td>\n",
       "      <td>numerik degiskenler</td>\n",
       "      <td>0.010</td>\n",
       "      <td>0.709</td>\n",
       "      <td>0.698</td>\n",
       "    </tr>\n",
       "    <tr>\n",
       "      <th>2</th>\n",
       "      <td>1</td>\n",
       "      <td>numerik degiskenler</td>\n",
       "      <td>0.100</td>\n",
       "      <td>0.711</td>\n",
       "      <td>0.709</td>\n",
       "    </tr>\n",
       "    <tr>\n",
       "      <th>3</th>\n",
       "      <td>1</td>\n",
       "      <td>numerik degiskenler</td>\n",
       "      <td>1.000</td>\n",
       "      <td>0.705</td>\n",
       "      <td>0.698</td>\n",
       "    </tr>\n",
       "    <tr>\n",
       "      <th>4</th>\n",
       "      <td>1</td>\n",
       "      <td>numerik degiskenler</td>\n",
       "      <td>10.000</td>\n",
       "      <td>0.706</td>\n",
       "      <td>0.698</td>\n",
       "    </tr>\n",
       "    <tr>\n",
       "      <th>5</th>\n",
       "      <td>1</td>\n",
       "      <td>numerik degiskenler</td>\n",
       "      <td>100.000</td>\n",
       "      <td>0.706</td>\n",
       "      <td>0.698</td>\n",
       "    </tr>\n",
       "    <tr>\n",
       "      <th>6</th>\n",
       "      <td>1</td>\n",
       "      <td>numerik degiskenler</td>\n",
       "      <td>1,000.000</td>\n",
       "      <td>0.706</td>\n",
       "      <td>0.698</td>\n",
       "    </tr>\n",
       "    <tr>\n",
       "      <th>7</th>\n",
       "      <td>2</td>\n",
       "      <td>cinsiyet ve liman bilgisi dahil</td>\n",
       "      <td>0.001</td>\n",
       "      <td>0.688</td>\n",
       "      <td>0.659</td>\n",
       "    </tr>\n",
       "    <tr>\n",
       "      <th>8</th>\n",
       "      <td>2</td>\n",
       "      <td>cinsiyet ve liman bilgisi dahil</td>\n",
       "      <td>0.010</td>\n",
       "      <td>0.735</td>\n",
       "      <td>0.760</td>\n",
       "    </tr>\n",
       "    <tr>\n",
       "      <th>9</th>\n",
       "      <td>2</td>\n",
       "      <td>cinsiyet ve liman bilgisi dahil</td>\n",
       "      <td>0.100</td>\n",
       "      <td>0.806</td>\n",
       "      <td>0.782</td>\n",
       "    </tr>\n",
       "    <tr>\n",
       "      <th>10</th>\n",
       "      <td>2</td>\n",
       "      <td>cinsiyet ve liman bilgisi dahil</td>\n",
       "      <td>1.000</td>\n",
       "      <td>0.799</td>\n",
       "      <td>0.771</td>\n",
       "    </tr>\n",
       "    <tr>\n",
       "      <th>11</th>\n",
       "      <td>2</td>\n",
       "      <td>cinsiyet ve liman bilgisi dahil</td>\n",
       "      <td>10.000</td>\n",
       "      <td>0.799</td>\n",
       "      <td>0.777</td>\n",
       "    </tr>\n",
       "    <tr>\n",
       "      <th>12</th>\n",
       "      <td>2</td>\n",
       "      <td>cinsiyet ve liman bilgisi dahil</td>\n",
       "      <td>100.000</td>\n",
       "      <td>0.799</td>\n",
       "      <td>0.777</td>\n",
       "    </tr>\n",
       "    <tr>\n",
       "      <th>13</th>\n",
       "      <td>2</td>\n",
       "      <td>cinsiyet ve liman bilgisi dahil</td>\n",
       "      <td>1,000.000</td>\n",
       "      <td>0.799</td>\n",
       "      <td>0.777</td>\n",
       "    </tr>\n",
       "  </tbody>\n",
       "</table>\n",
       "</div>"
      ],
      "text/plain": [
       "   model                      description     c_val  train_accuracy  \\\n",
       "0      1              numerik degiskenler     0.001           0.687   \n",
       "1      1              numerik degiskenler     0.010           0.709   \n",
       "2      1              numerik degiskenler     0.100           0.711   \n",
       "3      1              numerik degiskenler     1.000           0.705   \n",
       "4      1              numerik degiskenler    10.000           0.706   \n",
       "5      1              numerik degiskenler   100.000           0.706   \n",
       "6      1              numerik degiskenler 1,000.000           0.706   \n",
       "7      2  cinsiyet ve liman bilgisi dahil     0.001           0.688   \n",
       "8      2  cinsiyet ve liman bilgisi dahil     0.010           0.735   \n",
       "9      2  cinsiyet ve liman bilgisi dahil     0.100           0.806   \n",
       "10     2  cinsiyet ve liman bilgisi dahil     1.000           0.799   \n",
       "11     2  cinsiyet ve liman bilgisi dahil    10.000           0.799   \n",
       "12     2  cinsiyet ve liman bilgisi dahil   100.000           0.799   \n",
       "13     2  cinsiyet ve liman bilgisi dahil 1,000.000           0.799   \n",
       "\n",
       "    test_accuracy  \n",
       "0           0.665  \n",
       "1           0.698  \n",
       "2           0.709  \n",
       "3           0.698  \n",
       "4           0.698  \n",
       "5           0.698  \n",
       "6           0.698  \n",
       "7           0.659  \n",
       "8           0.760  \n",
       "9           0.782  \n",
       "10          0.771  \n",
       "11          0.777  \n",
       "12          0.777  \n",
       "13          0.777  "
      ]
     },
     "execution_count": 626,
     "metadata": {},
     "output_type": "execute_result"
    }
   ],
   "source": [
    "c_vals = [0.001,0.01,0.1,1,10,100, 1000]\n",
    "\n",
    "\n",
    "for c in c_vals:\n",
    "    \n",
    "    # Apply logistic regression model to training data\n",
    "    lr = LogisticRegression(penalty = 'l2', C = c, random_state = 111)\n",
    "    lr.fit(X_train,Y_train)\n",
    "    save_cval_accuracy(2, 'cinsiyet ve liman bilgisi dahil', c, \n",
    "                       lr.score(X_train, Y_train), lr.score(X_test, Y_test))\n",
    "\n",
    "cval_df"
   ]
  },
  {
   "cell_type": "markdown",
   "metadata": {},
   "source": [
    "### ***3. Model: Yasi tahminle doldurarak***\n",
    "- Yas degiskenindeki eksik degerler lineer regresyon yontemiyle doldurulacaktir."
   ]
  },
  {
   "cell_type": "code",
   "execution_count": 627,
   "metadata": {},
   "outputs": [
    {
     "name": "stdout",
     "output_type": "stream",
     "text": [
      "<class 'pandas.core.frame.DataFrame'>\n",
      "RangeIndex: 891 entries, 0 to 890\n",
      "Data columns (total 12 columns):\n",
      " #   Column       Non-Null Count  Dtype  \n",
      "---  ------       --------------  -----  \n",
      " 0   PassengerId  891 non-null    int64  \n",
      " 1   Survived     891 non-null    int64  \n",
      " 2   Pclass       891 non-null    int64  \n",
      " 3   Name         891 non-null    object \n",
      " 4   Sex          891 non-null    object \n",
      " 5   Age          714 non-null    float64\n",
      " 6   SibSp        891 non-null    int64  \n",
      " 7   Parch        891 non-null    int64  \n",
      " 8   Ticket       891 non-null    object \n",
      " 9   Fare         891 non-null    float64\n",
      " 10  Cabin        204 non-null    object \n",
      " 11  Embarked     889 non-null    object \n",
      "dtypes: float64(2), int64(5), object(5)\n",
      "memory usage: 83.7+ KB\n"
     ]
    }
   ],
   "source": [
    "titanic = pd.read_csv('data/train.csv')\n",
    "\n",
    "titanic.info()"
   ]
  },
  {
   "cell_type": "markdown",
   "metadata": {},
   "source": [
    "- Eksik degerler Yas haric onceki gibi doldurulur."
   ]
  },
  {
   "cell_type": "code",
   "execution_count": 628,
   "metadata": {},
   "outputs": [],
   "source": [
    "titanic['Cabin'].fillna('None', inplace=True)\n",
    "\n",
    "titanic['Embarked'].fillna('S', inplace=True)"
   ]
  },
  {
   "cell_type": "markdown",
   "metadata": {},
   "source": [
    "- Cinsiyet ve liman bilgisi onceki gibi encode edilir."
   ]
  },
  {
   "cell_type": "code",
   "execution_count": 629,
   "metadata": {},
   "outputs": [],
   "source": [
    "titanic['Sex'].replace({'female': 1, 'male': 0}, inplace=True)\n",
    "titanic['Embarked'].replace({'C': 3, 'Q': 2, 'S': 1}, inplace=True)"
   ]
  },
  {
   "cell_type": "code",
   "execution_count": 630,
   "metadata": {},
   "outputs": [
    {
     "data": {
      "text/plain": [
       "0.19865319865319866"
      ]
     },
     "execution_count": 630,
     "metadata": {},
     "output_type": "execute_result"
    }
   ],
   "source": [
    "titanic['Age'].isnull().mean()"
   ]
  },
  {
   "cell_type": "markdown",
   "metadata": {},
   "source": [
    "- Yas bilgisinin null orani da 80 e 20 kuaralina uymaktadir."
   ]
  },
  {
   "cell_type": "markdown",
   "metadata": {},
   "source": [
    "- Yas degeri olan ve olmayan data ikiye ayrildi"
   ]
  },
  {
   "cell_type": "code",
   "execution_count": 633,
   "metadata": {},
   "outputs": [],
   "source": [
    "titanic_no_age = titanic[titanic['Age'].isnull()]"
   ]
  },
  {
   "cell_type": "code",
   "execution_count": 634,
   "metadata": {},
   "outputs": [],
   "source": [
    "titanic_w_age = titanic[titanic['Age'].notnull()]"
   ]
  },
  {
   "cell_type": "markdown",
   "metadata": {},
   "source": [
    "- Hedef (bagimli) degisken : Yas\n",
    "- Aciklayici (bagimsiz) degiskenler : Diger tum numerik degiskenler"
   ]
  },
  {
   "cell_type": "code",
   "execution_count": 635,
   "metadata": {},
   "outputs": [
    {
     "data": {
      "text/plain": [
       "['Survived', 'Pclass', 'Sex', 'SibSp', 'Parch', 'Fare', 'Embarked']"
      ]
     },
     "execution_count": 635,
     "metadata": {},
     "output_type": "execute_result"
    }
   ],
   "source": [
    "# aciklayici degiskenler numerik olanlar  \n",
    "expl_vars = [column for column in titanic_w_age.columns \n",
    "                if titanic_w_age.dtypes[column] != 'object']\n",
    "# aciklayici degiskenlerden hedef degisken ve id degiskeni ayrilir\n",
    "expl_vars.remove('Age')\n",
    "expl_vars.remove('PassengerId')\n",
    "expl_vars"
   ]
  },
  {
   "cell_type": "code",
   "execution_count": 636,
   "metadata": {},
   "outputs": [
    {
     "name": "stdout",
     "output_type": "stream",
     "text": [
      "Egitim rsquare degeri: \n",
      "0.27711273581074836\n",
      "Test rsquare degeri:\n",
      "0.2501980404839499\n",
      "RMSE degeri: \n",
      "13.036706369815096\n"
     ]
    }
   ],
   "source": [
    "# hedef ve aciklayici degiskenler\n",
    "Y = titanic_w_age['Age']\n",
    "X = titanic_w_age[expl_vars]\n",
    "\n",
    "# egitim ve test veri kumelerine ayirma\n",
    "X_train, X_test, Y_train, Y_test =  train_test_split(X, Y, test_size=0.20, random_state=111)\n",
    "\n",
    "# log reg model nesnesi olustur\n",
    "lrm = LinearRegression()\n",
    "# modeli egit\n",
    "lrm.fit(X_train, Y_train)\n",
    "\n",
    "# rsquare skorlari\n",
    "train_rsquare = lrm.score(X_train, Y_train)\n",
    "test_rsquare = lrm.score(X_test, Y_test)\n",
    "\n",
    "# test verisi ile tahmin\n",
    "Y_test_pred = lrm.predict(X_test)\n",
    "# egitim verisi ile tahmin\n",
    "Y_train_pred = lrm.predict(X_train)\n",
    "\n",
    "print('Egitim rsquare degeri: ', train_rsquare, \n",
    "      'Test rsquare degeri:', test_rsquare, \n",
    "      'RMSE degeri: ', rmse(Y_test, Y_test_pred) , sep='\\n')\n"
   ]
  },
  {
   "cell_type": "markdown",
   "metadata": {},
   "source": [
    "- Bir kez daha model olusturuyoruz. Bu defa daha cok veriyle doldurmak icin split etmeden olusturduk. Yas degeri olmayan verilerle de tahmin yaparak yas degerini dolduracagiz."
   ]
  },
  {
   "cell_type": "code",
   "execution_count": 639,
   "metadata": {},
   "outputs": [],
   "source": [
    "Y = titanic_w_age['Age']\n",
    "X = titanic_w_age[expl_vars]\n",
    "\n",
    "# model nesnesi olustur\n",
    "lrm = LinearRegression()\n",
    "# modeli egit\n",
    "lrm.fit(X, Y)\n",
    "\n",
    "# tahmini yas degeri olmayan data uzerinde yaptik\n",
    "# yas degeri eksi ya da ondalikli olmasin \n",
    "titanic_no_age['Age'] = np.floor(np.abs(lrm.predict(titanic_no_age[expl_vars])))"
   ]
  },
  {
   "cell_type": "code",
   "execution_count": 651,
   "metadata": {},
   "outputs": [],
   "source": [
    "# iki veri kumesini birlestir\n",
    "titanic = pd.concat([titanic_no_age, titanic_w_age])\n",
    "# sirala\n",
    "titanic = titanic.sort_values(by='PassengerId')"
   ]
  },
  {
   "cell_type": "code",
   "execution_count": 653,
   "metadata": {},
   "outputs": [
    {
     "name": "stdout",
     "output_type": "stream",
     "text": [
      "<class 'pandas.core.frame.DataFrame'>\n",
      "Int64Index: 891 entries, 0 to 890\n",
      "Data columns (total 12 columns):\n",
      " #   Column       Non-Null Count  Dtype  \n",
      "---  ------       --------------  -----  \n",
      " 0   PassengerId  891 non-null    int64  \n",
      " 1   Survived     891 non-null    int64  \n",
      " 2   Pclass       891 non-null    int64  \n",
      " 3   Name         891 non-null    object \n",
      " 4   Sex          891 non-null    int64  \n",
      " 5   Age          891 non-null    float64\n",
      " 6   SibSp        891 non-null    int64  \n",
      " 7   Parch        891 non-null    int64  \n",
      " 8   Ticket       891 non-null    object \n",
      " 9   Fare         891 non-null    float64\n",
      " 10  Cabin        891 non-null    object \n",
      " 11  Embarked     891 non-null    int64  \n",
      "dtypes: float64(2), int64(7), object(3)\n",
      "memory usage: 90.5+ KB\n"
     ]
    }
   ],
   "source": [
    "titanic.info()"
   ]
  },
  {
   "cell_type": "markdown",
   "metadata": {},
   "source": [
    "- Nihai logistic regression modelini olusturalim."
   ]
  },
  {
   "cell_type": "code",
   "execution_count": 654,
   "metadata": {},
   "outputs": [
    {
     "data": {
      "text/plain": [
       "['Pclass', 'Sex', 'Age', 'SibSp', 'Parch', 'Fare', 'Embarked']"
      ]
     },
     "execution_count": 654,
     "metadata": {},
     "output_type": "execute_result"
    }
   ],
   "source": [
    "# aciklayici degiskenler numerik olanlar  \n",
    "expl_vars = [column for column in titanic.columns \n",
    "                if titanic.dtypes[column] != 'object']\n",
    "# aciklayici degiskenlerden hedef degisken ve id degiskeni ayrilir\n",
    "expl_vars.remove('Survived')\n",
    "expl_vars.remove('PassengerId')\n",
    "expl_vars"
   ]
  },
  {
   "cell_type": "code",
   "execution_count": 658,
   "metadata": {},
   "outputs": [
    {
     "data": {
      "text/html": [
       "<div>\n",
       "<style scoped>\n",
       "    .dataframe tbody tr th:only-of-type {\n",
       "        vertical-align: middle;\n",
       "    }\n",
       "\n",
       "    .dataframe tbody tr th {\n",
       "        vertical-align: top;\n",
       "    }\n",
       "\n",
       "    .dataframe thead th {\n",
       "        text-align: right;\n",
       "    }\n",
       "</style>\n",
       "<table border=\"1\" class=\"dataframe\">\n",
       "  <thead>\n",
       "    <tr style=\"text-align: right;\">\n",
       "      <th></th>\n",
       "      <th>description</th>\n",
       "      <th>train_accuracy</th>\n",
       "      <th>test_accuracy</th>\n",
       "    </tr>\n",
       "    <tr>\n",
       "      <th>model</th>\n",
       "      <th></th>\n",
       "      <th></th>\n",
       "      <th></th>\n",
       "    </tr>\n",
       "  </thead>\n",
       "  <tbody>\n",
       "    <tr>\n",
       "      <th>1</th>\n",
       "      <td>numerik degiskenler</td>\n",
       "      <td>0.705</td>\n",
       "      <td>0.698</td>\n",
       "    </tr>\n",
       "    <tr>\n",
       "      <th>2</th>\n",
       "      <td>cinsiyet ve liman bilgisi dahil</td>\n",
       "      <td>0.799</td>\n",
       "      <td>0.771</td>\n",
       "    </tr>\n",
       "    <tr>\n",
       "      <th>3</th>\n",
       "      <td>yas tahminle dolduruldu</td>\n",
       "      <td>0.823</td>\n",
       "      <td>0.799</td>\n",
       "    </tr>\n",
       "  </tbody>\n",
       "</table>\n",
       "</div>"
      ],
      "text/plain": [
       "                           description  train_accuracy  test_accuracy\n",
       "model                                                                \n",
       "1                  numerik degiskenler           0.705          0.698\n",
       "2      cinsiyet ve liman bilgisi dahil           0.799          0.771\n",
       "3              yas tahminle dolduruldu           0.823          0.799"
      ]
     },
     "execution_count": 658,
     "metadata": {},
     "output_type": "execute_result"
    }
   ],
   "source": [
    "# hedef ve aciklayici degiskenler\n",
    "Y = titanic['Survived']\n",
    "X = titanic[expl_vars]\n",
    "\n",
    "# egitim ve test veri kumelerine ayirma\n",
    "X_train, X_test, Y_train, Y_test =  train_test_split(X, Y, test_size=0.20, random_state=111)\n",
    "\n",
    "# log reg model nesnesi olustur\n",
    "log_reg = LogisticRegression()\n",
    "\n",
    "# modeli egit\n",
    "log_reg.fit(X_train, Y_train)\n",
    "\n",
    "# dogruluk skorlari\n",
    "train_accuracy = log_reg.score(X_train, Y_train)\n",
    "test_accuracy = log_reg.score(X_test, Y_test)\n",
    "\n",
    "# dogruluk degerlerini kaydet\n",
    "save_accuracy(3, 'yas tahminle dolduruldu', train_accuracy, test_accuracy)\n",
    "accuracy_df"
   ]
  }
 ],
 "metadata": {
  "kernelspec": {
   "display_name": "Python 3",
   "language": "python",
   "name": "python3"
  },
  "language_info": {
   "codemirror_mode": {
    "name": "ipython",
    "version": 3
   },
   "file_extension": ".py",
   "mimetype": "text/x-python",
   "name": "python",
   "nbconvert_exporter": "python",
   "pygments_lexer": "ipython3",
   "version": "3.7.6"
  }
 },
 "nbformat": 4,
 "nbformat_minor": 4
}
