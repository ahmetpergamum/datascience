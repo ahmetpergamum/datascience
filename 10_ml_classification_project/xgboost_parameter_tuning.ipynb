{
 "cells": [
  {
   "cell_type": "markdown",
   "metadata": {},
   "source": [
    "# ***XGBoost Parameter Tuning***\n",
    "---\n",
    "- Titanic kurtulma tahmin modelimizde sectigimiz XGBoost algoritmasinda modelin performansini artirmada onemli bir yeri olan parametre ayarlama konusunda calisilacaktir.\n",
    "- Buradaki parametre ayarlamalari [analyticsvidhya.com](https://www.analyticsvidhya.com/blog/2016/03/complete-guide-parameter-tuning-xgboost-with-codes-python/)'daki makaleden yola cikilarak yapilmisitir."
   ]
  },
  {
   "cell_type": "markdown",
   "metadata": {},
   "source": [
    "---\n",
    "## ***XGBoost Hakkinda***\n",
    "***Avantajlari***\n",
    "- Regularize boosting algoritmasidir ve bu overfittingi azaltir.\n",
    "- Paralel islem imkani saglar ve bu hizini artirir. \n",
    "    - Boosting sequential dir yani her bir agac bir onceki agac sonucuna gore olusturulur ancak agaclari olusturmada paralellik devreye girer.\n",
    "- Custom optimizasyon hedefleri ve degerlendirme kriteri belirlemeye imkan veren esneklige sahiptir.\n",
    "- Eksik degerlerin built-in yontemleriyle ustesinden gelir.\n",
    "- Agac budama ozelligi verdir ve negatif kazanc olsa dahi maksimum derinlige kadar dener.\n",
    "    - Maksimum derinlige indikten sonra agaci inceler, eger agacin belli dalinin alt dallari da dahil negatif kazanci varsa o dali (alt dallar dahil) budar.\n",
    "    - Negaif kazancli belli bir dalin alt dallarinda pozitif kazanclar varsa ikisinin kumulatif kazancini kullanir. Ornegin klasik Gradient Boosting (GBM) -3 negatif kazancla karsilasinca daha derine inmez durur ancak XGBoost ise -3 sonrasi denemeye devam eder ve devaminda +9 kazanc elde etmisse iki dali da preserve eder ve toplam kazanci +6 alir.\n",
    "- Built-in cross validation ozelligi sayesinde optimum boosting iterasyonunu kolaylikla belirleyebilir. num_boost_round ve early_stopping_rounds parametreleriyle bunu basarir.\n",
    "- GBM deki gibi var olan onceki modeld kosumundaki son iterasyondan baslayarak devam edebilir.\n",
    "\n",
    "### ***Parametre Ayarlama Adimlari***\n",
    "\n",
    "- ```learning_rate``` icin baslangicta farkli problemler icin 0.05 ile 0.3 (default 0.3) arasinda bir deger belirlenebilir.\n",
    "- Burada ```learning_rate``` parametresi icin kucuk bir deger (0.1) belirlenir ve sonrasinda bu deger icin optimum iterasyon sayisi (agac sayisi ya da ```num_boost_round``` ya da scikit-learn icin ```n_estimators``` parametresi) ```xgboost.cv``` ile elde edilir. ```xgboost.cv``` nin ```early_stopping_rounds``` parametresi optimum degeri bulamamiza yarar.\n",
    "- Agac olusturma ile ilgili parametreler ayarlanir, sirasiyla:\n",
    "    - ```max_depth, min_child_weight```\n",
    "    - ```gamma```\n",
    "    - ```subsample, colsample_bytree```\n",
    "\n",
    "- Regularizasyon parametreleri (```lambda, alpha```) ayarlanir. Bu parametreler maodel karmasikligini dusurur ve performansi artirir.\n",
    "- Burnu parametreler ayarlandiktan sonra ```learning_rate``` dusurulerek yine optimum agac sayisi hesaplanir.\n",
    "\n",
    "- Parametreler hakkinda [dokumantasyon](https://xgboost.readthedocs.io/en/latest/parameter.html)."
   ]
  },
  {
   "cell_type": "code",
   "execution_count": 135,
   "metadata": {},
   "outputs": [],
   "source": [
    "import pandas as pd\n",
    "import numpy as np\n",
    "import matplotlib.pyplot as plt\n",
    "import seaborn as sns\n",
    "import plotly.express as px\n",
    "import plotly.graph_objects as go\n",
    "# classifiers\n",
    "from xgboost import XGBClassifier\n",
    "import xgboost as xgb\n",
    "# pipeline meta model\n",
    "from sklearn.pipeline import Pipeline\n",
    "# egitim verisini ayirma\n",
    "from sklearn.model_selection import train_test_split\n",
    "# metrics\n",
    "from sklearn.metrics import mean_squared_error, classification_report\n",
    "from sklearn.metrics import accuracy_score, precision_score, recall_score, f1_score, roc_auc_score\n",
    "# cross validation\n",
    "from sklearn.model_selection import cross_validate, cross_val_score\n",
    "# hiperparametre tuning\n",
    "from sklearn.model_selection import GridSearchCV, RandomizedSearchCV\n",
    "\n",
    "# uyarilari dikkate alma\n",
    "import warnings\n",
    "warnings.filterwarnings('ignore')\n",
    "\n",
    "# pandas varsayilan olarak cok sayida sutun veya satir varsa tumunu gostermez\n",
    "# bu nedenle 100 sutun ve satir gostermesi icin\n",
    "pd.options.display.max_rows = 100\n",
    "pd.options.display.max_columns = 100\n",
    "\n",
    "# virgulden sonra belirli sayida basamak gosterimi icin \n",
    "pd.options.display.float_format = '{:,.3f}'.format\n",
    "# aciklama sutunun tam cikmasi icin\n",
    "pd.options.display.max_colwidth = 100\n",
    "\n",
    "# font tanimlamalari\n",
    "title_font = {'family': 'times new roman', 'color': 'darkred', \n",
    "              'weight': 'bold', 'size': 14}\n",
    "axis_font  = {'family': 'times new roman', 'color': 'darkred', \n",
    "              'weight': 'bold', 'size': 14}"
   ]
  },
  {
   "cell_type": "code",
   "execution_count": 136,
   "metadata": {},
   "outputs": [],
   "source": [
    "# model fit eden ve sonuclarini donen fonksiyon\n",
    "# xgboost built in cv sayesinde optimum boost round sayisini yani agac sayisini tespit eder\n",
    "# birinci parametre olarak scikit learn api sinden bir model (XGBClassifier gibi) alir\n",
    "def modelfit(alg, X_train, X_test, y_train, y_test, \n",
    "             useTrainCV=True, cv_folds=5, early_stopping_rounds=50):\n",
    "    \n",
    "    if useTrainCV:\n",
    "        xgb_param = alg.get_xgb_params()\n",
    "        xgtrain = xgb.DMatrix(X_train, label=y_train)\n",
    "        cvresult = xgb.cv(xgb_param, xgtrain, num_boost_round=alg.get_params()['n_estimators'], \n",
    "                          nfold=cv_folds, metrics='auc', \n",
    "                          early_stopping_rounds=early_stopping_rounds)\n",
    "        # early stoppping rounda gore optimum n_estimators degistirdik\n",
    "        alg.set_params(n_estimators=cvresult.shape[0])\n",
    "    \n",
    "    #Fit the algorithm on the data\n",
    "    alg.fit(X_train, y_train,eval_metric='auc')\n",
    "        \n",
    "    #Predict training set:\n",
    "    y_train_predictions = alg.predict(X_train)\n",
    "    y_train_predprob = alg.predict_proba(X_train)[:,1]\n",
    "    #Predict test set:\n",
    "    y_test_predictions = alg.predict(X_test)\n",
    "    y_test_predprob = alg.predict_proba(X_test)[:,1]\n",
    "        \n",
    "    #Print model report:\n",
    "    print(\"\\nModel Report\")\n",
    "    print(\"Accuracy (Train) : {:.6f}\".format(accuracy_score(y_train,\n",
    "                                                            y_train_predictions)))\n",
    "    print(\"AUC Score (Train): {}\".format(roc_auc_score(y_train, \n",
    "                                                       y_train_predprob)))\n",
    "    print(\"Accuracy (Test)  : {:.6f}\".format(accuracy_score(y_test,\n",
    "                                                            y_test_predictions)))\n",
    "    print(\"AUC Score (Test) : {}\".format(roc_auc_score(y_test, \n",
    "                                                       y_test_predprob)))\n",
    "    print('Best iteration   : {}'.format(cvresult.shape[0]))\n",
    "    \n",
    "    print('CV test mean(auc) : {:.6f}'.format(cvresult['test-auc-mean'].mean()))\n",
    "    # xgboost’s sklearn wrapper doesn’t have a “feature_importances” metric \n",
    "    # but a get_fscore() function which does the same job\n",
    "    feat_imp = pd.Series(alg.get_booster().get_fscore()).sort_values(ascending=False)\n",
    "    feat_imp.plot(kind='bar', title='Feature Importances')\n",
    "    plt.ylabel('Feature Importance Score')"
   ]
  },
  {
   "cell_type": "code",
   "execution_count": 137,
   "metadata": {},
   "outputs": [],
   "source": [
    "# yas degiskeninin surekli oldugu veri seti secildi, orada model daha iyi performas gosteriyor\n",
    "titanic = pd.read_csv('data/titanic_clean_with_age.csv')"
   ]
  },
  {
   "cell_type": "code",
   "execution_count": 138,
   "metadata": {},
   "outputs": [
    {
     "name": "stdout",
     "output_type": "stream",
     "text": [
      "<class 'pandas.core.frame.DataFrame'>\n",
      "RangeIndex: 891 entries, 0 to 890\n",
      "Data columns (total 14 columns):\n",
      " #   Column       Non-Null Count  Dtype  \n",
      "---  ------       --------------  -----  \n",
      " 0   PassengerId  891 non-null    int64  \n",
      " 1   Survived     891 non-null    int64  \n",
      " 2   Pclass       891 non-null    int64  \n",
      " 3   Age          891 non-null    float64\n",
      " 4   SibSp        891 non-null    int64  \n",
      " 5   Parch        891 non-null    int64  \n",
      " 6   Fare         891 non-null    float64\n",
      " 7   gender_male  891 non-null    int64  \n",
      " 8   embarked_Q   891 non-null    int64  \n",
      " 9   embarked_S   891 non-null    int64  \n",
      " 10  master       891 non-null    int64  \n",
      " 11  miss         891 non-null    int64  \n",
      " 12  mr           891 non-null    int64  \n",
      " 13  mrs          891 non-null    int64  \n",
      "dtypes: float64(2), int64(12)\n",
      "memory usage: 97.6 KB\n"
     ]
    }
   ],
   "source": [
    "titanic.info()"
   ]
  },
  {
   "cell_type": "code",
   "execution_count": 139,
   "metadata": {},
   "outputs": [],
   "source": [
    "# aciklayici degiskenler\n",
    "X = titanic.drop(['PassengerId', 'Survived'], axis=1)\n",
    "# hedef degisken\n",
    "y = titanic['Survived']\n",
    "# egitim ve test kumesini ayirma\n",
    "X_train, X_test, y_train, y_test = train_test_split(X, y, test_size=0.2, random_state=0)"
   ]
  },
  {
   "cell_type": "markdown",
   "metadata": {},
   "source": [
    "***Model karsilastirmasinda basarili olan parametrelerle deneme***"
   ]
  },
  {
   "cell_type": "code",
   "execution_count": 140,
   "metadata": {},
   "outputs": [
    {
     "name": "stdout",
     "output_type": "stream",
     "text": [
      "\n",
      "Model Report\n",
      "Accuracy (Train) : 0.900281\n",
      "AUC Score (Train): 0.9580423373134079\n",
      "Accuracy (Test)  : 0.843575\n",
      "AUC Score (Test) : 0.9136363636363636\n",
      "Best iteration   : 17\n",
      "CV test mean(auc) : 0.869274\n"
     ]
    },
    {
     "data": {
      "image/png": "[encoded data removed]",
      "text/plain": [
       "<Figure size 432x288 with 1 Axes>"
      ]
     },
     "metadata": {
      "needs_background": "light"
     },
     "output_type": "display_data"
    }
   ],
   "source": [
    "# model karsilastirmasindaki en basarili model\n",
    "xgb_cl = XGBClassifier(max_depth=6, reg_alpha=1, reg_lambda=0.1, gamma=1)\n",
    "# modelfit ile modeli xgboost.cv metoduna soktuk\n",
    "modelfit(xgb_cl, X_train, X_test, y_train, y_test)"
   ]
  },
  {
   "cell_type": "markdown",
   "metadata": {},
   "source": [
    "- Iki farkli model baslangici secilerek testlere devam edielcek learning_rate : 0.1 ve 0.05 durumu icin ayri ayri testler uygulanacak."
   ]
  },
  {
   "cell_type": "markdown",
   "metadata": {},
   "source": [
    "## ***Model baslangici learning_rate: 0.1***"
   ]
  },
  {
   "cell_type": "markdown",
   "metadata": {},
   "source": [
    "---\n",
    "### ***1. learning_rate & n_estimators***\n",
    "\n",
    "- ```learning_rate``` baslangicta farkli problemler icin 0.05 ile 0.3 arasinda bir deger belirlenebilir.\n",
    "- ```learning_rate``` parametresi kucuk bir deger (0.1) belirlenir ve sonrasinda bu deger icin optimum iterasyon sayisi (agac sayisi ya da ```num_boost_round``` ya da scikit-learn icin ```n_estimators``` parametresi) ```xgboost.cv``` ile elde edilir.\n",
    "- Default degerler: ```learning_rate:0.3, n_estimators:100```\n",
    "- Diger parametreler baslangicta tahmini olarak verilmistir, daha sonraki adimlarda ayarlanacaktir."
   ]
  },
  {
   "cell_type": "code",
   "execution_count": 175,
   "metadata": {},
   "outputs": [
    {
     "name": "stdout",
     "output_type": "stream",
     "text": [
      "\n",
      "Model Report\n",
      "Accuracy (Train) : 0.910112\n",
      "AUC Score (Train): 0.9662694936043454\n",
      "Accuracy (Test)  : 0.849162\n",
      "AUC Score (Test) : 0.9081686429512518\n",
      "Best iteration   : 61\n",
      "CV test mean(auc) : 0.872353\n"
     ]
    },
    {
     "data": {
      "image/png": "[encoded data removed]",
      "text/plain": [
       "<Figure size 432x288 with 1 Axes>"
      ]
     },
     "metadata": {
      "needs_background": "light"
     },
     "output_type": "display_data"
    }
   ],
   "source": [
    "# ilk model parametreleri\n",
    "xgb11 = XGBClassifier(\n",
    "    learning_rate=0.1,      # ne kadar kucukse model o kadar iyi genelleme yapar (def:0.3)\n",
    "    n_estimators=1000,      # toplam kac boost round olacak ve kac agac olusacak (def:100)\n",
    "    max_depth=5,            # her bir agacin max derinligi (def:6)\n",
    "    min_child_weight=1,     # dengesiz siniflarda kullanilir(def:1)\n",
    "    gamma=0,                # min hata azaltmayi belirler (agac bunun altinda split edemez)(def:0)\n",
    "    subsample=0.8,            # agac olusturuken alinacak orneklem orani (def:1)\n",
    "    colsample_bytree=0.8,     # agac olusturuken alinacak sutun(feature) orani (def:1)\n",
    "    scale_pos_weight=1,     # dengesiz siniflarda kullanilmali, (def:1)\n",
    "    objective= 'binary:logistic') # ikili siniflandirmada hedef\n",
    "\n",
    "modelfit(xgb11, X_train, X_test, y_train, y_test)"
   ]
  },
  {
   "cell_type": "markdown",
   "metadata": {},
   "source": [
    "### ***2. max_depth & min_child_weight***\n",
    "\n",
    "- Modele en cok etki eden ```max_depth, min_child_weight``` oldugundan ilk olarak bu parametrelerle basladik. Deneme araliklari baslangicta yuksek tutulup (coarse-grained) sonrasinda araliklar kucultulecektir(fine-grained).\n",
    "- Deafult degerler: ```max_depth:6, min_child_weight:1```"
   ]
  },
  {
   "cell_type": "code",
   "execution_count": 176,
   "metadata": {},
   "outputs": [
    {
     "name": "stdout",
     "output_type": "stream",
     "text": [
      "Best params: \n",
      "{'max_depth': 9, 'min_child_weight': 3}\n",
      "\n",
      "Best cross-validation score: \n",
      "0.8795771455410953\n",
      "\n",
      "Test-set score: \n",
      "0.917786561264822\n",
      "\n",
      "CPU times: user 279 ms, sys: 7.77 ms, total: 286 ms\n",
      "Wall time: 709 ms\n"
     ]
    }
   ],
   "source": [
    "%%time\n",
    "\n",
    "param_test11 = {\n",
    "    'max_depth':range(3,10,2),\n",
    "    'min_child_weight':range(1,6,2)\n",
    "}\n",
    "\n",
    "gsearch11 = GridSearchCV(estimator = XGBClassifier(learning_rate=0.1, \n",
    "                                                  n_estimators=61, \n",
    "                                                  max_depth=3,\n",
    "                                                  min_child_weight=1, \n",
    "                                                  gamma=0, \n",
    "                                                  subsample=0.8, \n",
    "                                                  colsample_bytree=0.8, \n",
    "                                                  objective= 'binary:logistic', \n",
    "                                                  scale_pos_weight=1), \n",
    "                        param_grid = param_test11, \n",
    "                        scoring='roc_auc',\n",
    "                        n_jobs=4,\n",
    "                        cv=5)\n",
    "gsearch11.fit(X_train,y_train)\n",
    "\n",
    "# sonuclar\n",
    "#print(\"Grid scores: \\n\")\n",
    "#display(pd.DataFrame(gsearch1.cv_results_))\n",
    "print(\"Best params: \\n{}\\n\".format(gsearch11.best_params_))\n",
    "print(\"Best cross-validation score: \\n{}\\n\".format(gsearch11.best_score_))\n",
    "print(\"Test-set score: \\n{}\\n\".format(gsearch11.score(X_test, y_test)))"
   ]
  },
  {
   "cell_type": "markdown",
   "metadata": {},
   "source": [
    "- Araligi 2 den 1 e dusurerek tekrar test edelim ve kacirdigimiz parametreleri de gorelim."
   ]
  },
  {
   "cell_type": "code",
   "execution_count": 177,
   "metadata": {},
   "outputs": [
    {
     "name": "stdout",
     "output_type": "stream",
     "text": [
      "Best params: \n",
      "{'max_depth': 8, 'min_child_weight': 2}\n",
      "\n",
      "Best cross-validation score: \n",
      "0.8802129444919414\n",
      "\n",
      "Test-set score: \n",
      "0.9115942028985508\n",
      "\n",
      "CPU times: user 257 ms, sys: 3.9 ms, total: 260 ms\n",
      "Wall time: 630 ms\n"
     ]
    }
   ],
   "source": [
    "%%time\n",
    "\n",
    "param_test12 = {\n",
    "    'max_depth':[8,9,10],\n",
    "    'min_child_weight':[2,3,4]\n",
    "}\n",
    "gsearch12 = GridSearchCV(estimator = XGBClassifier(learning_rate=0.1, \n",
    "                                                  n_estimators=61, \n",
    "                                                  max_depth=9,\n",
    "                                                  min_child_weight=3, \n",
    "                                                  gamma=0, \n",
    "                                                  subsample=0.8, \n",
    "                                                  colsample_bytree=0.8,\n",
    "                                                  objective= 'binary:logistic', \n",
    "                                                  scale_pos_weight=1), \n",
    "                        param_grid = param_test12, \n",
    "                        scoring='roc_auc',\n",
    "                        n_jobs=4,\n",
    "                        cv=5)\n",
    "\n",
    "gsearch12.fit(X_train,y_train)\n",
    "\n",
    "# sonuclar\n",
    "#print(\"Grid scores: \\n\")\n",
    "#display(pd.DataFrame(gsearch2.cv_results_))\n",
    "print(\"Best params: \\n{}\\n\".format(gsearch12.best_params_))\n",
    "print(\"Best cross-validation score: \\n{}\\n\".format(gsearch12.best_score_))\n",
    "print(\"Test-set score: \\n{}\\n\".format(gsearch12.score(X_test, y_test)))"
   ]
  },
  {
   "cell_type": "markdown",
   "metadata": {},
   "source": [
    "- ***???*** Bazi durumlarda aradaki parametereler grid search tarafindan secildi ancak bir onceki grid search e gore kotu sonuc verdi.\n",
    "- Tespit edilen parametre eger kenardaysa(basta-sonda) ona gore devam eden parametrelerle tekrar grid search yapilmali. Sonraki ya da oncekileri kacirmamaliyiz."
   ]
  },
  {
   "cell_type": "code",
   "execution_count": 117,
   "metadata": {},
   "outputs": [],
   "source": [
    "# optional, duruma gore\n",
    "# min_child_weight eger 1 ciksaydi bu sekilde testi devam ettirebilirdik\n",
    "param_test2b = {\n",
    "    'min_child_weight':[0.4,0.6,0.8,1]\n",
    "}"
   ]
  },
  {
   "cell_type": "markdown",
   "metadata": {},
   "source": [
    "### ***3. gamma***\n",
    "- gamma ile dalin split etmesi icin minimum loss reduction yani min hata azaltma belirenir. Ne kadar yuksekse dallanma o kadar zor olur ve model konservatif olur.\n",
    "- ```gamma``` icin 0,0.1,0.2,0.3,0.4 degerlerini test edecegiz.\n",
    "- Deafult deger ```gamma:0```"
   ]
  },
  {
   "cell_type": "code",
   "execution_count": 178,
   "metadata": {},
   "outputs": [
    {
     "name": "stdout",
     "output_type": "stream",
     "text": [
      "Best params: \n",
      "{'gamma': 0.2}\n",
      "\n",
      "Best cross-validation score: \n",
      "0.8807860739051963\n",
      "\n",
      "Test-set score: \n",
      "0.9197628458498023\n",
      "\n",
      "CPU times: user 219 ms, sys: 3.82 ms, total: 223 ms\n",
      "Wall time: 427 ms\n"
     ]
    }
   ],
   "source": [
    "%%time\n",
    "\n",
    "param_test13 = {\n",
    "    'gamma':[i/10.0 for i in range(0,5)]\n",
    "}\n",
    "gsearch13 = GridSearchCV(estimator = XGBClassifier(learning_rate=0.1, \n",
    "                                                  n_estimators=61, \n",
    "                                                  max_depth=8,\n",
    "                                                  min_child_weight=2, \n",
    "                                                  gamma=0, \n",
    "                                                  subsample=0.8, \n",
    "                                                  colsample_bytree=0.8,\n",
    "                                                  objective= 'binary:logistic', \n",
    "                                                  scale_pos_weight=1), \n",
    "                        param_grid = param_test13, \n",
    "                        scoring='roc_auc',\n",
    "                        n_jobs=4,\n",
    "                        cv=5)\n",
    "\n",
    "gsearch13.fit(X_train,y_train)\n",
    "\n",
    "# sonuclar\n",
    "#print(\"Grid scores: \\n\")\n",
    "#display(pd.DataFrame(gsearch3.cv_results_))\n",
    "print(\"Best params: \\n{}\\n\".format(gsearch13.best_params_))\n",
    "print(\"Best cross-validation score: \\n{}\\n\".format(gsearch13.best_score_))\n",
    "print(\"Test-set score: \\n{}\\n\".format(gsearch13.score(X_test, y_test)))"
   ]
  },
  {
   "cell_type": "markdown",
   "metadata": {},
   "source": [
    "### ***Recalibration***\n",
    "\n",
    "- Diger parametrelere devam etmeden once burada agac sayisini (n_estimators) tekrar kalibre etmek uygun olmaktadir."
   ]
  },
  {
   "cell_type": "code",
   "execution_count": 179,
   "metadata": {},
   "outputs": [
    {
     "name": "stdout",
     "output_type": "stream",
     "text": [
      "\n",
      "Model Report\n",
      "Accuracy (Train) : 0.912921\n",
      "AUC Score (Train): 0.9686725575108264\n",
      "Accuracy (Test)  : 0.854749\n",
      "AUC Score (Test) : 0.9197628458498024\n",
      "Best iteration   : 62\n",
      "CV test mean(auc) : 0.873731\n"
     ]
    },
    {
     "data": {
      "image/png": "[encoded data removed]",
      "text/plain": [
       "<Figure size 432x288 with 1 Axes>"
      ]
     },
     "metadata": {
      "needs_background": "light"
     },
     "output_type": "display_data"
    }
   ],
   "source": [
    "xgb12 = XGBClassifier(\n",
    "    learning_rate =0.1,\n",
    "    n_estimators=1000,\n",
    "    max_depth=8,\n",
    "    min_child_weight=2,\n",
    "    gamma=0.2,\n",
    "    subsample=0.8,\n",
    "    colsample_bytree=0.8,\n",
    "    objective= 'binary:logistic',\n",
    "    scale_pos_weight=1)\n",
    "modelfit(xgb12, X_train, X_test, y_train, y_test)"
   ]
  },
  {
   "cell_type": "markdown",
   "metadata": {},
   "source": [
    "- En iyi iterasyon sayisi degistiyse guncellenir degismediyse ayni sekilde devam edilir.\n",
    "\n",
    "- Burada skorda da kucuk bir gelisme gorduk, ```max_depth, min_child_weight, gamma``` parametrelerinde mevcut degerleri kullanabiliriz."
   ]
  },
  {
   "cell_type": "markdown",
   "metadata": {},
   "source": [
    "### ***4. subsample & colsample_bytree***\n",
    "\n",
    "- Burada da testi 2 adimda gerceklestirecegiz. 0.6,0.7,0.8,0.9 baslangic test degerlerimiz.\n",
    "- Default degerler: ```subsample:1, colsample_bytree:1```"
   ]
  },
  {
   "cell_type": "code",
   "execution_count": 180,
   "metadata": {},
   "outputs": [
    {
     "name": "stdout",
     "output_type": "stream",
     "text": [
      "Best params: \n",
      "{'colsample_bytree': 0.6, 'subsample': 0.6}\n",
      "\n",
      "Best cross-validation score: \n",
      "0.883639846743295\n",
      "\n",
      "Test-set score: \n",
      "0.9192358366271409\n",
      "\n",
      "CPU times: user 318 ms, sys: 3.99 ms, total: 322 ms\n",
      "Wall time: 1.03 s\n"
     ]
    }
   ],
   "source": [
    "%%time\n",
    "\n",
    "param_test14 = {\n",
    "    'subsample':[i/10.0 for i in range(6,10)],\n",
    "    'colsample_bytree':[i/10.0 for i in range(6,10)]\n",
    "}\n",
    "gsearch14 = GridSearchCV(estimator = XGBClassifier(learning_rate=0.1, \n",
    "                                                  n_estimators=62, \n",
    "                                                  max_depth=8,\n",
    "                                                  min_child_weight=2, \n",
    "                                                  gamma=0.2, \n",
    "                                                  subsample=0.8, \n",
    "                                                  colsample_bytree=0.8,\n",
    "                                                  objective= 'binary:logistic', \n",
    "                                                  scale_pos_weight=1), \n",
    "                        param_grid = param_test14, \n",
    "                        scoring='roc_auc',\n",
    "                        n_jobs=4, \n",
    "                        cv=5)\n",
    "\n",
    "gsearch14.fit(X_train,y_train)\n",
    "\n",
    "# sonuclar\n",
    "#print(\"Grid scores: \\n\")\n",
    "#display(pd.DataFrame(gsearch4.cv_results_))\n",
    "print(\"Best params: \\n{}\\n\".format(gsearch14.best_params_))\n",
    "print(\"Best cross-validation score: \\n{}\\n\".format(gsearch14.best_score_))\n",
    "print(\"Test-set score: \\n{}\\n\".format(gsearch14.score(X_test, y_test)))"
   ]
  },
  {
   "cell_type": "markdown",
   "metadata": {},
   "source": [
    "- 0.05 araliginda teste devam ederiz. Buldugumuz degerin 0.05 alti ve 0.05 ustunde de arama yapariz."
   ]
  },
  {
   "cell_type": "code",
   "execution_count": 121,
   "metadata": {},
   "outputs": [
    {
     "data": {
      "text/plain": [
       "[0.65, 0.7, 0.75]"
      ]
     },
     "execution_count": 121,
     "metadata": {},
     "output_type": "execute_result"
    }
   ],
   "source": [
    "[i/100.0 for i in range(65,80,5)]"
   ]
  },
  {
   "cell_type": "code",
   "execution_count": 181,
   "metadata": {},
   "outputs": [
    {
     "name": "stdout",
     "output_type": "stream",
     "text": [
      "Best params: \n",
      "{'colsample_bytree': 0.55, 'subsample': 0.55}\n",
      "\n",
      "Best cross-validation score: \n",
      "0.8873318741226264\n",
      "\n",
      "Test-set score: \n",
      "0.9129117259552043\n",
      "\n",
      "CPU times: user 293 ms, sys: 4.08 ms, total: 297 ms\n",
      "Wall time: 950 ms\n"
     ]
    }
   ],
   "source": [
    "%%time\n",
    "\n",
    "param_test15 = {\n",
    "    'subsample':[i/100.0 for i in range(55,75,5)],\n",
    "    'colsample_bytree':[i/100.0 for i in range(55,75,5)]\n",
    "}\n",
    "gsearch15 = GridSearchCV(estimator = XGBClassifier(learning_rate=0.1, \n",
    "                                                  n_estimators=62, \n",
    "                                                  max_depth=8,\n",
    "                                                  min_child_weight=2, \n",
    "                                                  gamma=0.2, \n",
    "                                                  subsample=0.6, \n",
    "                                                  colsample_bytree=0.6,\n",
    "                                                  objective= 'binary:logistic', \n",
    "                                                  scale_pos_weight=1), \n",
    "                        param_grid = param_test15, \n",
    "                        scoring='roc_auc',\n",
    "                        n_jobs=4, \n",
    "                        cv=5)\n",
    "\n",
    "gsearch15.fit(X_train,y_train)\n",
    "\n",
    "# sonuclar\n",
    "#print(\"Grid scores: \\n\")\n",
    "#display(pd.DataFrame(gsearch5.cv_results_))\n",
    "print(\"Best params: \\n{}\\n\".format(gsearch15.best_params_))\n",
    "print(\"Best cross-validation score: \\n{}\\n\".format(gsearch15.best_score_))\n",
    "print(\"Test-set score: \\n{}\\n\".format(gsearch15.score(X_test, y_test)))"
   ]
  },
  {
   "cell_type": "markdown",
   "metadata": {},
   "source": [
    "- Sonuca gore gelisme varsa parametre guncellenir yoksa ilk adimdaki secilir."
   ]
  },
  {
   "cell_type": "markdown",
   "metadata": {},
   "source": [
    "### ***5. alpha & lambda***\n",
    "- Overfittingi azaltmak icin regularizasyon parametrelerini de test etmeliyiz. \n",
    "- Burada yalnizca alpha (L2 - Ridge) parametresi tespit edilip birakilabilir ya da lambda (L1- Lasso) icin de alpha icin tekrar edilen arama adimlari uygulanabilir.\n",
    "- Default degerler:```reg_alpha:0, reg_lambda:1```"
   ]
  },
  {
   "cell_type": "code",
   "execution_count": 184,
   "metadata": {},
   "outputs": [
    {
     "name": "stdout",
     "output_type": "stream",
     "text": [
      "Best params: \n",
      "{'reg_alpha': 0}\n",
      "\n",
      "Best cross-validation score: \n",
      "0.8873318741226264\n",
      "\n",
      "Test-set score: \n",
      "0.9129117259552043\n",
      "\n"
     ]
    }
   ],
   "source": [
    "param_test16 = {\n",
    "    'reg_alpha':[0, 1e-5, 1e-2, 0.1, 1, 100]\n",
    "}\n",
    "\n",
    "gsearch16 = GridSearchCV(estimator = XGBClassifier(learning_rate=0.1, \n",
    "                                                  n_estimators=62, \n",
    "                                                  max_depth=8,\n",
    "                                                  min_child_weight=2, \n",
    "                                                  gamma=0.2, \n",
    "                                                  subsample=0.55, \n",
    "                                                  colsample_bytree=0.55,\n",
    "                                                  objective= 'binary:logistic',  \n",
    "                                                  scale_pos_weight=1), \n",
    "                        param_grid = param_test16, \n",
    "                        scoring='roc_auc',\n",
    "                        n_jobs=4, \n",
    "                        cv=5)\n",
    "\n",
    "gsearch16.fit(X_train,y_train)\n",
    "\n",
    "# sonuclar\n",
    "#print(\"Grid scores: \\n\")\n",
    "#display(pd.DataFrame(gsearch6.cv_results_))\n",
    "print(\"Best params: \\n{}\\n\".format(gsearch16.best_params_))\n",
    "print(\"Best cross-validation score: \\n{}\\n\".format(gsearch16.best_score_))\n",
    "print(\"Test-set score: \\n{}\\n\".format(gsearch16.score(X_test, y_test)))"
   ]
  },
  {
   "cell_type": "markdown",
   "metadata": {},
   "source": [
    "- Alpha default deger 0 ciktiysa regualarizasyona gerek yoktur.\n",
    "- Default degerden farkli ise birinci adimda genis adimlarla aram yapildigindan buradaki sonuca gore ikinci adimda daha sik adimlarla fine-grained arama yapilir."
   ]
  },
  {
   "cell_type": "code",
   "execution_count": 128,
   "metadata": {},
   "outputs": [
    {
     "data": {
      "text/plain": [
       "array([0.e+00, 2.e-06, 4.e-06, 6.e-06, 8.e-06, 1.e-05])"
      ]
     },
     "execution_count": 128,
     "metadata": {},
     "output_type": "execute_result"
    }
   ],
   "source": [
    "np.arange(0.0, 0.000012, 0.000002)"
   ]
  },
  {
   "cell_type": "code",
   "execution_count": 185,
   "metadata": {},
   "outputs": [
    {
     "name": "stdout",
     "output_type": "stream",
     "text": [
      "Best params: \n",
      "{'reg_alpha': 0.0}\n",
      "\n",
      "Best cross-validation score: \n",
      "0.8873318741226264\n",
      "\n",
      "Test-set score: \n",
      "0.9129117259552043\n",
      "\n"
     ]
    }
   ],
   "source": [
    "# optional\n",
    "param_test17 = {\n",
    "    'reg_alpha': np.arange(0.0, 0.000012, 0.000002)\n",
    "}\n",
    "\n",
    "gsearch17 = GridSearchCV(estimator = XGBClassifier(learning_rate=0.1, \n",
    "                                                  n_estimators=62, \n",
    "                                                  max_depth=8,\n",
    "                                                  min_child_weight=2, \n",
    "                                                  gamma=0.2, \n",
    "                                                  subsample=0.55, \n",
    "                                                  colsample_bytree=0.55,\n",
    "                                                  objective= 'binary:logistic', \n",
    "                                                  scale_pos_weight=1), \n",
    "                        param_grid = param_test17, \n",
    "                        scoring='roc_auc',\n",
    "                        n_jobs=4, \n",
    "                        cv=5)\n",
    "\n",
    "gsearch17.fit(X_train,y_train)\n",
    "\n",
    "# sonuclar\n",
    "#print(\"Grid scores: \\n\")\n",
    "\n",
    "#display(pd.DataFrame(gsearch7.cv_results_))\n",
    "print(\"Best params: \\n{}\\n\".format(gsearch17.best_params_))\n",
    "print(\"Best cross-validation score: \\n{}\\n\".format(gsearch17.best_score_))\n",
    "print(\"Test-set score: \\n{}\\n\".format(gsearch17.score(X_test, y_test)))"
   ]
  },
  {
   "cell_type": "markdown",
   "metadata": {},
   "source": [
    "- ```reg_lambda``` icin de ayni adimlar tekrar edilebilir.\n",
    "- Default deger: ```reg_lambda:1```"
   ]
  },
  {
   "cell_type": "code",
   "execution_count": 186,
   "metadata": {},
   "outputs": [
    {
     "name": "stdout",
     "output_type": "stream",
     "text": [
      "Best params: \n",
      "{'reg_lambda': 1}\n",
      "\n",
      "Best cross-validation score: \n",
      "0.8873318741226264\n",
      "\n",
      "Test-set score: \n",
      "0.9129117259552043\n",
      "\n"
     ]
    }
   ],
   "source": [
    "param_test18 = {\n",
    "    'reg_lambda':[0, 1e-5, 1e-2, 0.1, 1, 100]\n",
    "}\n",
    "\n",
    "gsearch18 = GridSearchCV(estimator = XGBClassifier(learning_rate=0.1, \n",
    "                                                  n_estimators=62, \n",
    "                                                  max_depth=8,\n",
    "                                                  min_child_weight=2, \n",
    "                                                  gamma=0.2, \n",
    "                                                  subsample=0.55, \n",
    "                                                  colsample_bytree=0.55,\n",
    "                                                  reg_alpha=0,\n",
    "                                                  objective= 'binary:logistic', \n",
    "                                                  scale_pos_weight=1), \n",
    "                        param_grid = param_test18, \n",
    "                        scoring='roc_auc',\n",
    "                        n_jobs=4, \n",
    "                        cv=5)\n",
    "\n",
    "gsearch18.fit(X_train,y_train)\n",
    "\n",
    "# sonuclar\n",
    "#print(\"Grid scores: \\n\")\n",
    "#display(pd.DataFrame(gsearch8.cv_results_))\n",
    "print(\"Best params: \\n{}\\n\".format(gsearch18.best_params_))\n",
    "print(\"Best cross-validation score: \\n{}\\n\".format(gsearch18.best_score_))\n",
    "print(\"Test-set score: \\n{}\\n\".format(gsearch18.score(X_test, y_test)))"
   ]
  },
  {
   "cell_type": "markdown",
   "metadata": {},
   "source": [
    "- CV skorunda gelisme varsa parametre secilir yoksa secilmez. \n",
    "- Sonucta secilen parametrelerle tekrar model xgboost.cv ile test edilirek yeni eklenen parametrelerin etkisi gozlenir.\n",
    "- ***???*** Ancak burada secilen parametrelerle model performansi dustu."
   ]
  },
  {
   "cell_type": "code",
   "execution_count": 188,
   "metadata": {},
   "outputs": [
    {
     "name": "stdout",
     "output_type": "stream",
     "text": [
      "\n",
      "Model Report\n",
      "Accuracy (Train) : 0.912921\n",
      "AUC Score (Train): 0.9748596126728245\n",
      "Accuracy (Test)  : 0.843575\n",
      "AUC Score (Test) : 0.8984189723320158\n",
      "Best iteration   : 56\n",
      "CV test mean(auc) : 0.866204\n"
     ]
    },
    {
     "data": {
      "image/png": "[encoded data removed]",
      "text/plain": [
       "<Figure size 432x288 with 1 Axes>"
      ]
     },
     "metadata": {
      "needs_background": "light"
     },
     "output_type": "display_data"
    }
   ],
   "source": [
    "xgb13 = XGBClassifier(\n",
    "    learning_rate=0.1,\n",
    "    n_estimators=1000,\n",
    "    max_depth=8,\n",
    "    min_child_weight=2,\n",
    "    gamma=0.2,\n",
    "    subsample=0.55,\n",
    "    colsample_bytree=0.55,\n",
    "    reg_alpha=0,\n",
    "    reg_lambda=1,\n",
    "    objective='binary:logistic',\n",
    "    scale_pos_weight=1)\n",
    "modelfit(xgb13, X_train, X_test, y_train, y_test)"
   ]
  },
  {
   "cell_type": "markdown",
   "metadata": {},
   "source": [
    "## ***Model baslangici learning_rate: 0.05***"
   ]
  },
  {
   "cell_type": "markdown",
   "metadata": {},
   "source": [
    "---\n",
    "### ***1. learning_rate & n_estimators***\n",
    "\n",
    "- ```learning_rate``` baslangicta farkli problemler icin 0.05 ile 0.3 arasinda bir deger belirlenebilir.\n",
    "- ```learning_rate``` parametresi kucuk bir deger (0.1) belirlenir ve sonrasinda bu deger icin optimum iterasyon sayisi (agac sayisi ya da ```num_boost_round``` ya da scikit-learn icin ```n_estimators``` parametresi) ```xgboost.cv``` ile elde edilir.\n",
    "- Default degerler: ```learning_rate:0.3, n_estimators:100```\n",
    "- Diger parametreler baslangicta tahmini olarak verilmistir, daha sonraki adimlarda ayarlanacaktir."
   ]
  },
  {
   "cell_type": "code",
   "execution_count": 112,
   "metadata": {},
   "outputs": [
    {
     "name": "stdout",
     "output_type": "stream",
     "text": [
      "\n",
      "Model Report\n",
      "Accuracy (Train) : 0.910112\n",
      "AUC Score (Train): 0.9701744724523768\n",
      "Accuracy (Test)  : 0.849162\n",
      "AUC Score (Test) : 0.9035573122529644\n",
      "Best iteration   : 131\n",
      "CV test mean(auc) : 0.860760\n"
     ]
    },
    {
     "data": {
      "image/png": "[encoded data removed]",
      "text/plain": [
       "<Figure size 432x288 with 1 Axes>"
      ]
     },
     "metadata": {
      "needs_background": "light"
     },
     "output_type": "display_data"
    }
   ],
   "source": [
    "# ilk model parametreleri\n",
    "xgb21 = XGBClassifier(\n",
    "    learning_rate=0.05,     # ne kadar kucukse model o kadar iyi genelleme yapar (def:0.3)\n",
    "    n_estimators=1000,      # toplam kac boost round olacak ve kac agac olusacak (def:100)\n",
    "    max_depth=5,            # her bir agacin max derinligi (def:6)\n",
    "    min_child_weight=1,     # dengesiz siniflarda kullanilir(def:1)\n",
    "    gamma=0,                # min hata azaltmayi belirler (agac bunun altinda split edemez)(def:0)\n",
    "    subsample=1,          # agac olusturuken alinacak orneklem orani (def:1)\n",
    "    colsample_bytree=1,   # agac olusturuken alinacak sutun(feature) orani (def:1)\n",
    "    scale_pos_weight=1,     # dengesiz siniflarda kullanilmali, (def:1)\n",
    "    objective= 'binary:logistic') # ikili siniflandirmada hedef\n",
    "\n",
    "modelfit(xgb21, X_train, X_test, y_train, y_test)"
   ]
  },
  {
   "cell_type": "markdown",
   "metadata": {},
   "source": [
    "### ***2. max_depth & min_child_weight***\n",
    "\n",
    "- Modele en cok etki eden ```max_depth, min_child_weight``` oldugundan ilk olarak bu parametrelerle basladik. Deneme araliklari baslangicta yuksek tutulup (coarse-grained) sonrasinda araliklar kucultulecektir(fine-grained).\n",
    "- Deafult degerler: ```max_depth:6, min_child_weight:1```"
   ]
  },
  {
   "cell_type": "code",
   "execution_count": 189,
   "metadata": {},
   "outputs": [
    {
     "name": "stdout",
     "output_type": "stream",
     "text": [
      "Best params: \n",
      "{'max_depth': 7, 'min_child_weight': 5}\n",
      "\n",
      "Best cross-validation score: \n",
      "0.8768546225050926\n",
      "\n",
      "Test-set score: \n",
      "0.9094861660079051\n",
      "\n",
      "CPU times: user 435 ms, sys: 7.98 ms, total: 443 ms\n",
      "Wall time: 1.37 s\n"
     ]
    }
   ],
   "source": [
    "%%time\n",
    "\n",
    "param_test21 = {\n",
    "    'max_depth':range(3,10,2),\n",
    "    'min_child_weight':range(1,6,2)\n",
    "}\n",
    "\n",
    "gsearch21 = GridSearchCV(estimator = XGBClassifier(learning_rate=0.05, \n",
    "                                                  n_estimators=131, \n",
    "                                                  max_depth=3,\n",
    "                                                  min_child_weight=1, \n",
    "                                                  gamma=0, \n",
    "                                                  subsample=1, \n",
    "                                                  colsample_bytree=1, \n",
    "                                                  objective= 'binary:logistic', \n",
    "                                                  scale_pos_weight=1), \n",
    "                        param_grid = param_test21, \n",
    "                        scoring='roc_auc',\n",
    "                        n_jobs=4,\n",
    "                        cv=5)\n",
    "gsearch21.fit(X_train,y_train)\n",
    "\n",
    "# sonuclar\n",
    "#print(\"Grid scores: \\n\")\n",
    "#display(pd.DataFrame(gsearch1.cv_results_))\n",
    "print(\"Best params: \\n{}\\n\".format(gsearch21.best_params_))\n",
    "print(\"Best cross-validation score: \\n{}\\n\".format(gsearch21.best_score_))\n",
    "print(\"Test-set score: \\n{}\\n\".format(gsearch21.score(X_test, y_test)))"
   ]
  },
  {
   "cell_type": "markdown",
   "metadata": {},
   "source": [
    "- Araligi 2 den 1 e dusurerek tekrar test edelim ve kacirdigimiz parametreleri de gorelim."
   ]
  },
  {
   "cell_type": "code",
   "execution_count": 190,
   "metadata": {},
   "outputs": [
    {
     "name": "stdout",
     "output_type": "stream",
     "text": [
      "Best params: \n",
      "{'max_depth': 7, 'min_child_weight': 5}\n",
      "\n",
      "Best cross-validation score: \n",
      "0.8768546225050926\n",
      "\n",
      "Test-set score: \n",
      "0.9094861660079051\n",
      "\n",
      "CPU times: user 379 ms, sys: 7.86 ms, total: 386 ms\n",
      "Wall time: 1.08 s\n"
     ]
    }
   ],
   "source": [
    "%%time\n",
    "\n",
    "param_test22 = {\n",
    "    'max_depth':[6,7,8],\n",
    "    'min_child_weight':[4,5,6]\n",
    "}\n",
    "gsearch22 = GridSearchCV(estimator = XGBClassifier(learning_rate=0.05, \n",
    "                                                  n_estimators=131, \n",
    "                                                  max_depth=7,\n",
    "                                                  min_child_weight=5, \n",
    "                                                  gamma=0, \n",
    "                                                  subsample=1, \n",
    "                                                  colsample_bytree=1,\n",
    "                                                  objective= 'binary:logistic', \n",
    "                                                  scale_pos_weight=1), \n",
    "                        param_grid = param_test22, \n",
    "                        scoring='roc_auc',\n",
    "                        n_jobs=4,\n",
    "                        cv=5)\n",
    "\n",
    "gsearch22.fit(X_train,y_train)\n",
    "\n",
    "# sonuclar\n",
    "#print(\"Grid scores: \\n\")\n",
    "#display(pd.DataFrame(gsearch2.cv_results_))\n",
    "print(\"Best params: \\n{}\\n\".format(gsearch22.best_params_))\n",
    "print(\"Best cross-validation score: \\n{}\\n\".format(gsearch22.best_score_))\n",
    "print(\"Test-set score: \\n{}\\n\".format(gsearch22.score(X_test, y_test)))"
   ]
  },
  {
   "cell_type": "markdown",
   "metadata": {},
   "source": [
    "- ***???*** Bazi durumlarda aradaki parametereler grid search tarafindan secildi ancak bir onceki grid search e gore kotu sonuc verdi.\n",
    "- Tespit edilen parametre eger kenardaysa(basta-sonda) ona gore devam eden parametrelerle tekrar grid search yapilmali. Sonraki ya da oncekileri kacirmamaliyiz."
   ]
  },
  {
   "cell_type": "code",
   "execution_count": 117,
   "metadata": {},
   "outputs": [],
   "source": [
    "# optional, duruma gore\n",
    "# min_child_weight eger 1 ciksaydi bu sekilde testi devam ettirebilirdik\n",
    "param_test2b = {\n",
    "    'min_child_weight':[0.4,0.6,0.8,1]\n",
    "}"
   ]
  },
  {
   "cell_type": "markdown",
   "metadata": {},
   "source": [
    "### ***3. gamma***\n",
    "- gamma ile dalin split etmesi icin minimum loss reduction yani min hata azaltma belirenir. Ne kadar yuksekse dallanma o kadar zor olur ve model konservatif olur.\n",
    "- ```gamma``` icin 0,0.1,0.2,0.3,0.4 degerlerini test edecegiz.\n",
    "- Deafult deger ```gamma:0```"
   ]
  },
  {
   "cell_type": "code",
   "execution_count": 191,
   "metadata": {},
   "outputs": [
    {
     "name": "stdout",
     "output_type": "stream",
     "text": [
      "Best params: \n",
      "{'gamma': 0.0}\n",
      "\n",
      "Best cross-validation score: \n",
      "0.8768546225050926\n",
      "\n",
      "Test-set score: \n",
      "0.9094861660079051\n",
      "\n",
      "CPU times: user 327 ms, sys: 4.05 ms, total: 331 ms\n",
      "Wall time: 672 ms\n"
     ]
    }
   ],
   "source": [
    "%%time\n",
    "\n",
    "param_test23 = {\n",
    "    'gamma':[i/10.0 for i in range(0,5)]\n",
    "}\n",
    "gsearch23 = GridSearchCV(estimator = XGBClassifier(learning_rate=0.05, \n",
    "                                                  n_estimators=131, \n",
    "                                                  max_depth=7,\n",
    "                                                  min_child_weight=5, \n",
    "                                                  gamma=0, \n",
    "                                                  subsample=1, \n",
    "                                                  colsample_bytree=1,\n",
    "                                                  objective= 'binary:logistic', \n",
    "                                                  scale_pos_weight=1), \n",
    "                        param_grid = param_test23, \n",
    "                        scoring='roc_auc',\n",
    "                        n_jobs=4,\n",
    "                        cv=5)\n",
    "\n",
    "gsearch23.fit(X_train,y_train)\n",
    "\n",
    "# sonuclar\n",
    "#print(\"Grid scores: \\n\")\n",
    "#display(pd.DataFrame(gsearch3.cv_results_))\n",
    "print(\"Best params: \\n{}\\n\".format(gsearch23.best_params_))\n",
    "print(\"Best cross-validation score: \\n{}\\n\".format(gsearch23.best_score_))\n",
    "print(\"Test-set score: \\n{}\\n\".format(gsearch23.score(X_test, y_test)))"
   ]
  },
  {
   "cell_type": "markdown",
   "metadata": {},
   "source": [
    "### ***Recalibration***\n",
    "\n",
    "- Diger parametrelere devam etmeden once burada agac sayisini (n_estimators) tekrar kalibre etmek uygun olmaktadir."
   ]
  },
  {
   "cell_type": "code",
   "execution_count": 192,
   "metadata": {},
   "outputs": [
    {
     "name": "stdout",
     "output_type": "stream",
     "text": [
      "\n",
      "Model Report\n",
      "Accuracy (Train) : 0.894663\n",
      "AUC Score (Train): 0.947553964638247\n",
      "Accuracy (Test)  : 0.854749\n",
      "AUC Score (Test) : 0.9108036890645587\n",
      "Best iteration   : 140\n",
      "CV test mean(auc) : 0.868082\n"
     ]
    },
    {
     "data": {
      "image/png": "[encoded data removed]",
      "text/plain": [
       "<Figure size 432x288 with 1 Axes>"
      ]
     },
     "metadata": {
      "needs_background": "light"
     },
     "output_type": "display_data"
    }
   ],
   "source": [
    "xgb22 = XGBClassifier(\n",
    "    learning_rate=0.05,\n",
    "    n_estimators=1000,\n",
    "    max_depth=7,\n",
    "    min_child_weight=5,\n",
    "    gamma=0,\n",
    "    subsample=1,\n",
    "    colsample_bytree=1,\n",
    "    objective= 'binary:logistic',\n",
    "    scale_pos_weight=1)\n",
    "modelfit(xgb22, X_train, X_test, y_train, y_test)"
   ]
  },
  {
   "cell_type": "markdown",
   "metadata": {},
   "source": [
    "- En iyi iterasyon sayisi degisti.\n",
    "\n",
    "- Burada skorda da bir gelisme gorduk, ```max_depth, min_child_weight, gamma``` parametrelerinde mevcut degerleri kullanabiliriz."
   ]
  },
  {
   "cell_type": "markdown",
   "metadata": {},
   "source": [
    "### ***4. subsample & colsample_bytree***\n",
    "\n",
    "- Burada da testi 2 adimda gerceklestirecegiz. 0.6,0.7,0.8,0.9 baslangic test degerlerimiz.\n",
    "- Default degerler: ```subsample:1, colsample_bytree:1```"
   ]
  },
  {
   "cell_type": "code",
   "execution_count": 195,
   "metadata": {},
   "outputs": [
    {
     "name": "stdout",
     "output_type": "stream",
     "text": [
      "Best params: \n",
      "{'colsample_bytree': 0.7, 'subsample': 0.9}\n",
      "\n",
      "Best cross-validation score: \n",
      "0.8780353165933104\n",
      "\n",
      "Test-set score: \n",
      "0.904874835309618\n",
      "\n",
      "CPU times: user 428 ms, sys: 12 ms, total: 440 ms\n",
      "Wall time: 1.7 s\n"
     ]
    }
   ],
   "source": [
    "%%time\n",
    "\n",
    "param_test24 = {\n",
    "    'subsample':[i/10.0 for i in range(6,10)],\n",
    "    'colsample_bytree':[i/10.0 for i in range(6,10)]\n",
    "}\n",
    "gsearch24 = GridSearchCV(estimator = XGBClassifier(learning_rate=0.05, \n",
    "                                                  n_estimators=140, \n",
    "                                                  max_depth=7,\n",
    "                                                  min_child_weight=5, \n",
    "                                                  gamma=0, \n",
    "                                                  subsample=1, \n",
    "                                                  colsample_bytree=1,\n",
    "                                                  objective= 'binary:logistic', \n",
    "                                                  scale_pos_weight=1), \n",
    "                        param_grid = param_test24, \n",
    "                        scoring='roc_auc',\n",
    "                        n_jobs=4, \n",
    "                        cv=5)\n",
    "\n",
    "gsearch24.fit(X_train,y_train)\n",
    "\n",
    "# sonuclar\n",
    "#print(\"Grid scores: \\n\")\n",
    "#display(pd.DataFrame(gsearch4.cv_results_))\n",
    "print(\"Best params: \\n{}\\n\".format(gsearch24.best_params_))\n",
    "print(\"Best cross-validation score: \\n{}\\n\".format(gsearch24.best_score_))\n",
    "print(\"Test-set score: \\n{}\\n\".format(gsearch24.score(X_test, y_test)))"
   ]
  },
  {
   "cell_type": "markdown",
   "metadata": {},
   "source": [
    "- 0.05 araliginda teste devam ederiz. Buldugumuz degerin 0.05 alti ve 0.05 ustunde de arama yapariz."
   ]
  },
  {
   "cell_type": "code",
   "execution_count": 121,
   "metadata": {},
   "outputs": [
    {
     "data": {
      "text/plain": [
       "[0.65, 0.7, 0.75]"
      ]
     },
     "execution_count": 121,
     "metadata": {},
     "output_type": "execute_result"
    }
   ],
   "source": [
    "[i/100.0 for i in range(65,80,5)]"
   ]
  },
  {
   "cell_type": "code",
   "execution_count": 196,
   "metadata": {},
   "outputs": [
    {
     "name": "stdout",
     "output_type": "stream",
     "text": [
      "Best params: \n",
      "{'colsample_bytree': 0.7, 'subsample': 0.9}\n",
      "\n",
      "Best cross-validation score: \n",
      "0.8780353165933104\n",
      "\n",
      "Test-set score: \n",
      "0.904874835309618\n",
      "\n",
      "CPU times: user 317 ms, sys: 7.98 ms, total: 325 ms\n",
      "Wall time: 692 ms\n"
     ]
    }
   ],
   "source": [
    "%%time\n",
    "\n",
    "param_test25 = {\n",
    "    'subsample':[i/100.0 for i in range(85,100,5)],\n",
    "    'colsample_bytree':[i/100.0 for i in range(65,75,5)]\n",
    "}\n",
    "gsearch25 = GridSearchCV(estimator = XGBClassifier(learning_rate=0.05, \n",
    "                                                  n_estimators=140, \n",
    "                                                  max_depth=7,\n",
    "                                                  min_child_weight=5, \n",
    "                                                  gamma=0, \n",
    "                                                  subsample=0.9, \n",
    "                                                  colsample_bytree=0.7,\n",
    "                                                  objective= 'binary:logistic', \n",
    "                                                  scale_pos_weight=1), \n",
    "                        param_grid = param_test25, \n",
    "                        scoring='roc_auc',\n",
    "                        n_jobs=4, \n",
    "                        cv=5)\n",
    "\n",
    "gsearch25.fit(X_train,y_train)\n",
    "\n",
    "# sonuclar\n",
    "#print(\"Grid scores: \\n\")\n",
    "#display(pd.DataFrame(gsearch5.cv_results_))\n",
    "print(\"Best params: \\n{}\\n\".format(gsearch25.best_params_))\n",
    "print(\"Best cross-validation score: \\n{}\\n\".format(gsearch25.best_score_))\n",
    "print(\"Test-set score: \\n{}\\n\".format(gsearch25.score(X_test, y_test)))"
   ]
  },
  {
   "cell_type": "markdown",
   "metadata": {},
   "source": [
    "- Sonuca gore gelisme varsa parametre guncellenir yoksa ilk adimdaki secilir."
   ]
  },
  {
   "cell_type": "markdown",
   "metadata": {},
   "source": [
    "### ***5. alpha & lambda***\n",
    "- Overfittingi azaltmak icin regularizasyon parametrelerini de test etmeliyiz. \n",
    "- Burada yalnizca alpha (L2 - Ridge) parametresi tespit edilip birakilabilir ya da lambda (L1- Lasso) icin de alpha icin tekrar edilen arama adimlari uygulanabilir.\n",
    "- Default degerler:```reg_alpha:0, reg_lambda:1```"
   ]
  },
  {
   "cell_type": "code",
   "execution_count": 197,
   "metadata": {},
   "outputs": [
    {
     "name": "stdout",
     "output_type": "stream",
     "text": [
      "Best params: \n",
      "{'reg_alpha': 0}\n",
      "\n",
      "Best cross-validation score: \n",
      "0.8780353165933104\n",
      "\n",
      "Test-set score: \n",
      "0.904874835309618\n",
      "\n"
     ]
    }
   ],
   "source": [
    "param_test26 = {\n",
    "    'reg_alpha':[0, 1e-5, 1e-2, 0.1, 1, 100]\n",
    "}\n",
    "\n",
    "gsearch26 = GridSearchCV(estimator = XGBClassifier(learning_rate=0.05, \n",
    "                                                  n_estimators=140, \n",
    "                                                  max_depth=7,\n",
    "                                                  min_child_weight=5, \n",
    "                                                  gamma=0, \n",
    "                                                  subsample=0.9, \n",
    "                                                  colsample_bytree=0.7,\n",
    "                                                  objective= 'binary:logistic',  \n",
    "                                                  scale_pos_weight=1), \n",
    "                        param_grid = param_test26, \n",
    "                        scoring='roc_auc',\n",
    "                        n_jobs=4, \n",
    "                        cv=5)\n",
    "\n",
    "gsearch26.fit(X_train,y_train)\n",
    "\n",
    "# sonuclar\n",
    "#print(\"Grid scores: \\n\")\n",
    "#display(pd.DataFrame(gsearch6.cv_results_))\n",
    "print(\"Best params: \\n{}\\n\".format(gsearch26.best_params_))\n",
    "print(\"Best cross-validation score: \\n{}\\n\".format(gsearch26.best_score_))\n",
    "print(\"Test-set score: \\n{}\\n\".format(gsearch26.score(X_test, y_test)))"
   ]
  },
  {
   "cell_type": "markdown",
   "metadata": {},
   "source": [
    "- Birinci adimda genis adimlarla aram yapildi buradaki sonuca gore ikinci adimda daha sik adimlarla fine-grained arama yapilir.\n",
    "- Alpha default deger 0 ciktiysa regualarizasyona gerek yoktur."
   ]
  },
  {
   "cell_type": "code",
   "execution_count": 128,
   "metadata": {},
   "outputs": [
    {
     "data": {
      "text/plain": [
       "array([0.e+00, 2.e-06, 4.e-06, 6.e-06, 8.e-06, 1.e-05])"
      ]
     },
     "execution_count": 128,
     "metadata": {},
     "output_type": "execute_result"
    }
   ],
   "source": [
    "np.arange(0.0, 0.000012, 0.000002)"
   ]
  },
  {
   "cell_type": "code",
   "execution_count": 198,
   "metadata": {},
   "outputs": [
    {
     "name": "stdout",
     "output_type": "stream",
     "text": [
      "Best params: \n",
      "{'reg_alpha': 0.0}\n",
      "\n",
      "Best cross-validation score: \n",
      "0.8780353165933104\n",
      "\n",
      "Test-set score: \n",
      "0.904874835309618\n",
      "\n"
     ]
    }
   ],
   "source": [
    "# optional\n",
    "param_test27 = {\n",
    "    'reg_alpha': np.arange(0.0, 0.000012, 0.000002)\n",
    "}\n",
    "\n",
    "gsearch27 = GridSearchCV(estimator = XGBClassifier(learning_rate=0.05, \n",
    "                                                  n_estimators=140, \n",
    "                                                  max_depth=7,\n",
    "                                                  min_child_weight=5, \n",
    "                                                  gamma=0, \n",
    "                                                  subsample=0.9, \n",
    "                                                  colsample_bytree=0.7,\n",
    "                                                  objective= 'binary:logistic', \n",
    "                                                  scale_pos_weight=1), \n",
    "                        param_grid = param_test27, \n",
    "                        scoring='roc_auc',\n",
    "                        n_jobs=4, \n",
    "                        cv=5)\n",
    "\n",
    "gsearch27.fit(X_train,y_train)\n",
    "\n",
    "# sonuclar\n",
    "#print(\"Grid scores: \\n\")\n",
    "\n",
    "#display(pd.DataFrame(gsearch7.cv_results_))\n",
    "print(\"Best params: \\n{}\\n\".format(gsearch27.best_params_))\n",
    "print(\"Best cross-validation score: \\n{}\\n\".format(gsearch27.best_score_))\n",
    "print(\"Test-set score: \\n{}\\n\".format(gsearch27.score(X_test, y_test)))"
   ]
  },
  {
   "cell_type": "markdown",
   "metadata": {},
   "source": [
    "- ```reg_lambda``` icin de ayni adimlar tekrar edilebilir.\n",
    "- Default deger: ```reg_lambda:1```"
   ]
  },
  {
   "cell_type": "code",
   "execution_count": 199,
   "metadata": {},
   "outputs": [
    {
     "name": "stdout",
     "output_type": "stream",
     "text": [
      "Best params: \n",
      "{'reg_lambda': 0}\n",
      "\n",
      "Best cross-validation score: \n",
      "0.8787109337893038\n",
      "\n",
      "Test-set score: \n",
      "0.907905138339921\n",
      "\n"
     ]
    }
   ],
   "source": [
    "param_test28 = {\n",
    "    'reg_lambda':[0, 1e-5, 1e-2, 0.1, 1, 100]\n",
    "}\n",
    "\n",
    "gsearch28 = GridSearchCV(estimator = XGBClassifier(learning_rate =0.05, \n",
    "                                                  n_estimators=140, \n",
    "                                                  max_depth=7,\n",
    "                                                  min_child_weight=5, \n",
    "                                                  gamma=0, \n",
    "                                                  subsample=0.9, \n",
    "                                                  colsample_bytree=0.7,\n",
    "                                                  reg_alpha=0,\n",
    "                                                  objective= 'binary:logistic', \n",
    "                                                  scale_pos_weight=1), \n",
    "                        param_grid = param_test28, \n",
    "                        scoring='roc_auc',\n",
    "                        n_jobs=4, \n",
    "                        cv=5)\n",
    "\n",
    "gsearch28.fit(X_train,y_train)\n",
    "\n",
    "# sonuclar\n",
    "#print(\"Grid scores: \\n\")\n",
    "#display(pd.DataFrame(gsearch8.cv_results_))\n",
    "print(\"Best params: \\n{}\\n\".format(gsearch28.best_params_))\n",
    "print(\"Best cross-validation score: \\n{}\\n\".format(gsearch28.best_score_))\n",
    "print(\"Test-set score: \\n{}\\n\".format(gsearch28.score(X_test, y_test)))"
   ]
  },
  {
   "cell_type": "markdown",
   "metadata": {},
   "source": [
    "- CV skorunda gelisme varsa parametre secilir yoksa secilmez. \n",
    "- Sonucta secilen parametrelerle tekrar model xgboost.cv ile test edilirek yeni eklenen parametrelerin etkisi gozlenir."
   ]
  },
  {
   "cell_type": "code",
   "execution_count": 200,
   "metadata": {},
   "outputs": [
    {
     "name": "stdout",
     "output_type": "stream",
     "text": [
      "\n",
      "Model Report\n",
      "Accuracy (Train) : 0.901685\n",
      "AUC Score (Train): 0.9609210076180463\n",
      "Accuracy (Test)  : 0.854749\n",
      "AUC Score (Test) : 0.9085638998682477\n",
      "Best iteration   : 242\n",
      "CV test mean(auc) : 0.874429\n"
     ]
    },
    {
     "data": {
      "image/png": "[encoded data removed]",
      "text/plain": [
       "<Figure size 432x288 with 1 Axes>"
      ]
     },
     "metadata": {
      "needs_background": "light"
     },
     "output_type": "display_data"
    }
   ],
   "source": [
    "xgb23 = XGBClassifier(\n",
    "    learning_rate=0.05,\n",
    "    n_estimators=1000,\n",
    "    max_depth=7,\n",
    "    min_child_weight=5,\n",
    "    gamma=0,\n",
    "    subsample=0.9,\n",
    "    colsample_bytree=0.7,\n",
    "    reg_alpha=0,\n",
    "    reg_lambda=0,\n",
    "    objective='binary:logistic',\n",
    "    scale_pos_weight=1)\n",
    "modelfit(xgb23, X_train, X_test, y_train, y_test)"
   ]
  },
  {
   "cell_type": "markdown",
   "metadata": {},
   "source": [
    "### ***6. Reducing Learning Rate***\n",
    "- Son olarak secilen parametrelerle learning_rate azaltilarak agac sayisi artirilir ve modelin genellestirme ozelligi maksimum duzeye cikarilmaya calisilir.\n",
    "- Ancak burada learning_rate azaltildiginda model performansi dustugunden degisiklik yapilmadi."
   ]
  },
  {
   "cell_type": "code",
   "execution_count": 202,
   "metadata": {},
   "outputs": [
    {
     "name": "stdout",
     "output_type": "stream",
     "text": [
      "\n",
      "Model Report\n",
      "Accuracy (Train) : 0.896067\n",
      "AUC Score (Train): 0.9550301634584095\n",
      "Accuracy (Test)  : 0.849162\n",
      "AUC Score (Test) : 0.9102766798418973\n",
      "Best iteration   : 303\n",
      "CV test mean(auc) : 0.874966\n"
     ]
    },
    {
     "data": {
      "image/png": "[encoded data removed]",
      "text/plain": [
       "<Figure size 432x288 with 1 Axes>"
      ]
     },
     "metadata": {
      "needs_background": "light"
     },
     "output_type": "display_data"
    }
   ],
   "source": [
    "xgb24 = XGBClassifier(\n",
    "    learning_rate=0.03,\n",
    "    n_estimators=1000,\n",
    "    max_depth=7,\n",
    "    min_child_weight=5,\n",
    "    gamma=0,\n",
    "    subsample=0.9,\n",
    "    colsample_bytree=0.7,\n",
    "    reg_alpha=0,\n",
    "    reg_lambda=0,\n",
    "    objective='binary:logistic',\n",
    "    scale_pos_weight=1)\n",
    "modelfit(xgb24, X_train, X_test, y_train, y_test)"
   ]
  },
  {
   "cell_type": "markdown",
   "metadata": {},
   "source": [
    "- Testlerde yuksek performans veren bir model."
   ]
  },
  {
   "cell_type": "code",
   "execution_count": 201,
   "metadata": {},
   "outputs": [
    {
     "name": "stdout",
     "output_type": "stream",
     "text": [
      "\n",
      "Model Report\n",
      "Accuracy (Train) : 0.904494\n",
      "AUC Score (Train): 0.964045825093661\n",
      "Accuracy (Test)  : 0.871508\n",
      "AUC Score (Test) : 0.9055335968379447\n",
      "Best iteration   : 51\n",
      "CV test mean(auc) : 0.866169\n"
     ]
    },
    {
     "data": {
      "image/png": "[encoded data removed]",
      "text/plain": [
       "<Figure size 432x288 with 1 Axes>"
      ]
     },
     "metadata": {
      "needs_background": "light"
     },
     "output_type": "display_data"
    }
   ],
   "source": [
    "xgb_test = XGBClassifier(\n",
    "    learning_rate=0.1,\n",
    "    n_estimators=1000,\n",
    "    max_depth=9,\n",
    "    min_child_weight=3,\n",
    "    gamma=0.3,\n",
    "    #subsample=0.95,\n",
    "    #colsample_bytree=0.6,\n",
    "    #reg_alpha=0.27,\n",
    "    #reg_lambda=0,\n",
    "    objective='binary:logistic',\n",
    "    scale_pos_weight=1)\n",
    "modelfit(xgb_test, X_train, X_test, y_train, y_test)"
   ]
  },
  {
   "cell_type": "markdown",
   "metadata": {},
   "source": [
    "### ***Grid Search Testi***"
   ]
  },
  {
   "cell_type": "code",
   "execution_count": 206,
   "metadata": {},
   "outputs": [
    {
     "data": {
      "text/html": [
       "<div>\n",
       "<style scoped>\n",
       "    .dataframe tbody tr th:only-of-type {\n",
       "        vertical-align: middle;\n",
       "    }\n",
       "\n",
       "    .dataframe tbody tr th {\n",
       "        vertical-align: top;\n",
       "    }\n",
       "\n",
       "    .dataframe thead th {\n",
       "        text-align: right;\n",
       "    }\n",
       "</style>\n",
       "<table border=\"1\" class=\"dataframe\">\n",
       "  <thead>\n",
       "    <tr style=\"text-align: right;\">\n",
       "      <th></th>\n",
       "      <th>mean_fit_time</th>\n",
       "      <th>std_fit_time</th>\n",
       "      <th>mean_score_time</th>\n",
       "      <th>std_score_time</th>\n",
       "      <th>param_colsample_bytree</th>\n",
       "      <th>param_gamma</th>\n",
       "      <th>param_learning_rate</th>\n",
       "      <th>param_max_depth</th>\n",
       "      <th>param_min_child_weight</th>\n",
       "      <th>param_n_estimators</th>\n",
       "      <th>param_reg_alpha</th>\n",
       "      <th>param_reg_lambda</th>\n",
       "      <th>param_subsample</th>\n",
       "      <th>params</th>\n",
       "      <th>split0_test_score</th>\n",
       "      <th>split1_test_score</th>\n",
       "      <th>split2_test_score</th>\n",
       "      <th>split3_test_score</th>\n",
       "      <th>split4_test_score</th>\n",
       "      <th>mean_test_score</th>\n",
       "      <th>std_test_score</th>\n",
       "      <th>rank_test_score</th>\n",
       "      <th>split0_train_score</th>\n",
       "      <th>split1_train_score</th>\n",
       "      <th>split2_train_score</th>\n",
       "      <th>split3_train_score</th>\n",
       "      <th>split4_train_score</th>\n",
       "      <th>mean_train_score</th>\n",
       "      <th>std_train_score</th>\n",
       "    </tr>\n",
       "  </thead>\n",
       "  <tbody>\n",
       "    <tr>\n",
       "      <th>0</th>\n",
       "      <td>0.058</td>\n",
       "      <td>0.017</td>\n",
       "      <td>0.004</td>\n",
       "      <td>0.001</td>\n",
       "      <td>1</td>\n",
       "      <td>0.300</td>\n",
       "      <td>0.100</td>\n",
       "      <td>9</td>\n",
       "      <td>3</td>\n",
       "      <td>51</td>\n",
       "      <td>0</td>\n",
       "      <td>1</td>\n",
       "      <td>1</td>\n",
       "      <td>{'colsample_bytree': 1, 'gamma': 0.3, 'learning_rate': 0.1, 'max_depth': 9, 'min_child_weight': ...</td>\n",
       "      <td>0.884</td>\n",
       "      <td>0.904</td>\n",
       "      <td>0.843</td>\n",
       "      <td>0.836</td>\n",
       "      <td>0.909</td>\n",
       "      <td>0.875</td>\n",
       "      <td>0.031</td>\n",
       "      <td>2</td>\n",
       "      <td>0.962</td>\n",
       "      <td>0.962</td>\n",
       "      <td>0.964</td>\n",
       "      <td>0.963</td>\n",
       "      <td>0.960</td>\n",
       "      <td>0.962</td>\n",
       "      <td>0.001</td>\n",
       "    </tr>\n",
       "    <tr>\n",
       "      <th>1</th>\n",
       "      <td>0.115</td>\n",
       "      <td>0.020</td>\n",
       "      <td>0.004</td>\n",
       "      <td>0.001</td>\n",
       "      <td>0.700</td>\n",
       "      <td>0</td>\n",
       "      <td>0.050</td>\n",
       "      <td>7</td>\n",
       "      <td>5</td>\n",
       "      <td>242</td>\n",
       "      <td>0</td>\n",
       "      <td>0</td>\n",
       "      <td>0.900</td>\n",
       "      <td>{'colsample_bytree': 0.7, 'gamma': 0, 'learning_rate': 0.05, 'max_depth': 7, 'min_child_weight':...</td>\n",
       "      <td>0.870</td>\n",
       "      <td>0.912</td>\n",
       "      <td>0.858</td>\n",
       "      <td>0.853</td>\n",
       "      <td>0.912</td>\n",
       "      <td>0.881</td>\n",
       "      <td>0.026</td>\n",
       "      <td>1</td>\n",
       "      <td>0.959</td>\n",
       "      <td>0.958</td>\n",
       "      <td>0.961</td>\n",
       "      <td>0.963</td>\n",
       "      <td>0.955</td>\n",
       "      <td>0.959</td>\n",
       "      <td>0.003</td>\n",
       "    </tr>\n",
       "  </tbody>\n",
       "</table>\n",
       "</div>"
      ],
      "text/plain": [
       "   mean_fit_time  std_fit_time  mean_score_time  std_score_time  \\\n",
       "0          0.058         0.017            0.004           0.001   \n",
       "1          0.115         0.020            0.004           0.001   \n",
       "\n",
       "  param_colsample_bytree param_gamma param_learning_rate param_max_depth  \\\n",
       "0                      1       0.300               0.100               9   \n",
       "1                  0.700           0               0.050               7   \n",
       "\n",
       "  param_min_child_weight param_n_estimators param_reg_alpha param_reg_lambda  \\\n",
       "0                      3                 51               0                1   \n",
       "1                      5                242               0                0   \n",
       "\n",
       "  param_subsample  \\\n",
       "0               1   \n",
       "1           0.900   \n",
       "\n",
       "                                                                                                params  \\\n",
       "0  {'colsample_bytree': 1, 'gamma': 0.3, 'learning_rate': 0.1, 'max_depth': 9, 'min_child_weight': ...   \n",
       "1  {'colsample_bytree': 0.7, 'gamma': 0, 'learning_rate': 0.05, 'max_depth': 7, 'min_child_weight':...   \n",
       "\n",
       "   split0_test_score  split1_test_score  split2_test_score  split3_test_score  \\\n",
       "0              0.884              0.904              0.843              0.836   \n",
       "1              0.870              0.912              0.858              0.853   \n",
       "\n",
       "   split4_test_score  mean_test_score  std_test_score  rank_test_score  \\\n",
       "0              0.909            0.875           0.031                2   \n",
       "1              0.912            0.881           0.026                1   \n",
       "\n",
       "   split0_train_score  split1_train_score  split2_train_score  \\\n",
       "0               0.962               0.962               0.964   \n",
       "1               0.959               0.958               0.961   \n",
       "\n",
       "   split3_train_score  split4_train_score  mean_train_score  std_train_score  \n",
       "0               0.963               0.960             0.962            0.001  \n",
       "1               0.963               0.955             0.959            0.003  "
      ]
     },
     "metadata": {},
     "output_type": "display_data"
    },
    {
     "name": "stdout",
     "output_type": "stream",
     "text": [
      "Best params: \n",
      "{'colsample_bytree': 0.7, 'gamma': 0, 'learning_rate': 0.05, 'max_depth': 7, 'min_child_weight': 5, 'n_estimators': 242, 'reg_alpha': 0, 'reg_lambda': 0, 'subsample': 0.9}\n",
      "\n",
      "Best cross-validation score: \n",
      "0.8808749986806413\n",
      "\n",
      "Test-set score: \n",
      "0.9085638998682477\n",
      "\n"
     ]
    }
   ],
   "source": [
    "param_test_comp = [{'learning_rate': [0.1], 'n_estimators': [51],\n",
    "                    'max_depth': [9],  'min_child_weight': [3], 'gamma': [0.3],\n",
    "                    'subsample': [1], 'colsample_bytree': [1], \n",
    "                    'reg_alpha': [0], 'reg_lambda': [1]},\n",
    "                   {'learning_rate': [0.05], 'n_estimators': [242], \n",
    "                    'max_depth': [7],  'min_child_weight': [5], 'gamma': [0],\n",
    "                    'subsample': [0.9], 'colsample_bytree': [0.7], \n",
    "                    'reg_alpha': [0], 'reg_lambda': [0]}]\n",
    "\n",
    "gsearch_comp = GridSearchCV(estimator = XGBClassifier(objective= 'binary:logistic'), \n",
    "                        param_grid = param_test_comp, \n",
    "                        scoring='roc_auc',\n",
    "                        return_train_score=True,\n",
    "                        n_jobs=4, \n",
    "                        cv=5)\n",
    "\n",
    "gsearch_comp.fit(X_train,y_train)\n",
    "\n",
    "# sonuclar\n",
    "#print(\"Grid scores: \\n\")\n",
    "display(pd.DataFrame(gsearch_comp.cv_results_))\n",
    "print(\"Best params: \\n{}\\n\".format(gsearch_comp.best_params_))\n",
    "print(\"Best cross-validation score: \\n{}\\n\".format(gsearch_comp.best_score_))\n",
    "print(\"Test-set score: \\n{}\\n\".format(gsearch_comp.score(X_test, y_test)))"
   ]
  },
  {
   "cell_type": "markdown",
   "metadata": {},
   "source": [
    "#### ***Sonuc***"
   ]
  },
  {
   "cell_type": "markdown",
   "metadata": {},
   "source": [
    "- ***???*** Bazi durmlar icin skorda gelisme goremedik hatta hafif bir azalma gorduk. Grid search skorlarindaki performans artisina ragmen xgboost.cv metodundaki skorlarda azalma ya da sabit durum tespit edildi.\n",
    "\n",
    "- ***???*** xgboost.cv metodunda iyi performans gosteren model grid search te daha dusuk performanstaydi. Iki metodun farkli ozellikleri buna neden olmus olabilir.\n",
    "\n",
    "- En iyi tahmin modeli:"
   ]
  },
  {
   "cell_type": "code",
   "execution_count": 208,
   "metadata": {},
   "outputs": [
    {
     "data": {
      "text/plain": [
       "XGBClassifier(base_score=0.5, booster=None, colsample_bylevel=1,\n",
       "              colsample_bynode=1, colsample_bytree=0.7, gamma=0, gpu_id=-1,\n",
       "              importance_type='gain', interaction_constraints=None,\n",
       "              learning_rate=0.05, max_delta_step=0, max_depth=7,\n",
       "              min_child_weight=5, missing=nan, monotone_constraints=None,\n",
       "              n_estimators=242, n_jobs=0, num_parallel_tree=1,\n",
       "              objective='binary:logistic', random_state=0, reg_alpha=0,\n",
       "              reg_lambda=0, scale_pos_weight=1, subsample=0.9, tree_method=None,\n",
       "              validate_parameters=False, verbosity=None)"
      ]
     },
     "execution_count": 208,
     "metadata": {},
     "output_type": "execute_result"
    }
   ],
   "source": [
    "# en iyi tahmin modeli\n",
    "gsearch_comp.best_estimator_"
   ]
  }
 ],
 "metadata": {
  "kernelspec": {
   "display_name": "Python 3",
   "language": "python",
   "name": "python3"
  },
  "language_info": {
   "codemirror_mode": {
    "name": "ipython",
    "version": 3
   },
   "file_extension": ".py",
   "mimetype": "text/x-python",
   "name": "python",
   "nbconvert_exporter": "python",
   "pygments_lexer": "ipython3",
   "version": "3.7.6"
  }
 },
 "nbformat": 4,
 "nbformat_minor": 4
}
