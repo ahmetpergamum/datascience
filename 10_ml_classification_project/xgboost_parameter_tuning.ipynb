{
 "cells": [
  {
   "cell_type": "markdown",
   "metadata": {},
   "source": [
    "# ***XGBoost Parameter Tuning***\n",
    "---\n",
    "- Titanic kurtulma tahmin modelimizde sectigimiz XGBoost algoritmasinda modelin performansini artirmada onemli bir yeri olan parametre ayarlama konusunda calisilacaktir.\n",
    "- Buradaki parametre ayarlamalari [analyticsvidhya.com](https://www.analyticsvidhya.com/blog/2016/03/complete-guide-parameter-tuning-xgboost-with-codes-python/)'daki makaleden yola cikilarak yapilmisitir."
   ]
  },
  {
   "cell_type": "markdown",
   "metadata": {},
   "source": [
    "---\n",
    "## ***XGBoost Hakkinda***\n",
    "***Avantajlari***\n",
    "- Regularize boosting algoritmasidir ve bu overfittingi azaltir.\n",
    "- Paralel islem imkani saglar ve bu hizini artirir. \n",
    "    - Boosting sequential dir yani her bir agac bir onceki agac sonucuna gore olusturulur ancak agaclari olusturmada paralellik devreye girer.\n",
    "- Custom optimizasyon hedefleri ve degerlendirme kriteri belirlemeye imkan veren esneklige sahiptir.\n",
    "- Eksik degerlerin built-in yontemleriyle ustesinden gelir.\n",
    "- Agac budama ozelligi verdir ve negatif kazanc olsa dahi maksimum derinlige kadar dener.\n",
    "    - Maksimum derinlige indikten sonra agaci inceler, eger agacin belli dalinin alt dallari da dahil negatif kazanci varsa o dali (alt dallar dahil) budar.\n",
    "    - Negaif kazancli belli bir dalin alt dallarinda pozitif kazanclar varsa ikisinin kumulatif kazancini kullanir. Ornegin klasik Gradient Boosting (GBM) -3 negatif kazancla karsilasinca daha derine inmez durur ancak XGBoost ise -3 sonrasi denemeye devam eder ve devaminda +9 kazanc elde etmisse iki dali da preserve eder ve toplam kazanci +6 alir.\n",
    "- Built-in cross validation ozelligi sayesinde optimum boosting iterasyonunu kolaylikla belirleyebilir. num_boost_round ve early_stopping_rounds parametreleriyle bunu basarir.\n",
    "- GBM deki gibi var olan onceki modeld kosumundaki son iterasyondan baslayarak devam edebilir.\n",
    "\n",
    "### ***Parametre Ayarlama Adimlari***\n",
    "\n",
    "- ```learning_rate``` icin baslangicta farkli problemler icin 0.05 ile 0.3 (default 0.3) arasinda bir deger belirlenebilir.\n",
    "- Burada ```learning_rate``` parametresi icin kucuk bir deger (0.1) belirlenir ve sonrasinda bu deger icin optimum iterasyon sayisi (agac sayisi ya da ```num_boost_round``` ya da scikit-learn icin ```n_estimators``` parametresi) ```xgboost.cv``` ile elde edilir. ```xgboost.cv``` nin ```early_stopping_rounds``` parametresi optimum degeri bulamamiza yarar.\n",
    "- Agac olusturma ile ilgili parametreler ayarlanir, sirasiyla:\n",
    "    - ```max_depth, min_child_weight```\n",
    "    - ```gamma```\n",
    "    - ```subsample, colsample_bytree```\n",
    "\n",
    "- Regularizasyon parametreleri (```lambda, alpha```) ayarlanir. Bu parametreler maodel karmasikligini dusurur ve performansi artirir.\n",
    "- Burnu parametreler ayarlandiktan sonra ```learning_rate``` dusurulerek yine optimum agac sayisi hesaplanir.\n",
    "\n",
    "- Parametreler hakkinda [dokumantasyon](https://xgboost.readthedocs.io/en/latest/parameter.html)."
   ]
  },
  {
   "cell_type": "code",
   "execution_count": 1,
   "metadata": {},
   "outputs": [],
   "source": [
    "import pandas as pd\n",
    "import numpy as np\n",
    "import matplotlib.pyplot as plt\n",
    "import seaborn as sns\n",
    "import plotly.express as px\n",
    "import plotly.graph_objects as go\n",
    "# classifiers\n",
    "from xgboost import XGBClassifier\n",
    "import xgboost as xgb\n",
    "# pipeline meta model\n",
    "from sklearn.pipeline import Pipeline\n",
    "# egitim verisini ayirma\n",
    "from sklearn.model_selection import train_test_split\n",
    "# metrics\n",
    "from sklearn.metrics import mean_squared_error, classification_report\n",
    "from sklearn.metrics import accuracy_score, precision_score, recall_score, f1_score, roc_auc_score\n",
    "# cross validation\n",
    "from sklearn.model_selection import cross_validate, cross_val_score\n",
    "# hiperparametre tuning\n",
    "from sklearn.model_selection import GridSearchCV, RandomizedSearchCV\n",
    "\n",
    "# uyarilari dikkate alma\n",
    "import warnings\n",
    "warnings.filterwarnings('ignore')\n",
    "\n",
    "# pandas varsayilan olarak cok sayida sutun veya satir varsa tumunu gostermez\n",
    "# bu nedenle 100 sutun ve satir gostermesi icin\n",
    "pd.options.display.max_rows = 100\n",
    "pd.options.display.max_columns = 100\n",
    "\n",
    "# virgulden sonra belirli sayida basamak gosterimi icin \n",
    "pd.options.display.float_format = '{:,.3f}'.format\n",
    "# aciklama sutunun tam cikmasi icin\n",
    "pd.options.display.max_colwidth = 100\n",
    "\n",
    "# font tanimlamalari\n",
    "title_font = {'family': 'times new roman', 'color': 'darkred', \n",
    "              'weight': 'bold', 'size': 14}\n",
    "axis_font  = {'family': 'times new roman', 'color': 'darkred', \n",
    "              'weight': 'bold', 'size': 14}"
   ]
  },
  {
   "cell_type": "code",
   "execution_count": 56,
   "metadata": {},
   "outputs": [],
   "source": [
    "# model fit eden ve sonuclarini donen fonksiyon\n",
    "# xgboost built in cv sayesinde optimum boost round sayisini yani agac sayisini tespit eder\n",
    "# birinci parametre olarak scikit learn api sinden bir model (XGBClassifier gibi) alir\n",
    "def modelfit(alg, X_train, X_test, y_train, y_test, \n",
    "             useTrainCV=True, cv_folds=5, early_stopping_rounds=50, verbose=False):\n",
    "    print(alg.get_xgb_params())\n",
    "    if useTrainCV:\n",
    "        xgb_param = alg.get_xgb_params()\n",
    "        xgtrain = xgb.DMatrix(X_train, label=y_train)\n",
    "        cvresult = xgb.cv(xgb_param, xgtrain, num_boost_round=alg.get_params()['n_estimators'], \n",
    "                          nfold=cv_folds, metrics='auc', \n",
    "                          early_stopping_rounds=early_stopping_rounds, verbose_eval=verbose)\n",
    "        # early stoppping rounda gore optimum n_estimators degistirdik\n",
    "        alg.set_params(n_estimators=cvresult.shape[0])\n",
    "    \n",
    "    #Fit the algorithm on the data\n",
    "    # alg.fit(X_train, y_train)\n",
    "    \n",
    "    # buradaki skorlar cv skorlari olmadigindan model performansini degerlendirmede bizi yaniltir\n",
    "    # bu yuzden aciklama satiri haline getirildi\n",
    "    #Predict training set:\n",
    "    # y_train_predictions = alg.predict(X_train)\n",
    "    # y_train_predprob = alg.predict_proba(X_train)[:,1]\n",
    "    #Predict test set:\n",
    "    # y_test_predictions = alg.predict(X_test)\n",
    "    # y_test_predprob = alg.predict_proba(X_test)[:,1]\n",
    "        \n",
    "    #Print model report:\n",
    "    # print(\"\\nModel Report\")\n",
    "    # print(\"Accuracy (Train) : {:.6f}\".format(accuracy_score(y_train, y_train_predictions)))\n",
    "    # print(\"AUC Score (Train): {}\".format(roc_auc_score(y_train, y_train_predprob)))\n",
    "    # print(\"Accuracy (Test)  : {:.6f}\".format(accuracy_score(y_test, y_test_predictions)))\n",
    "    # print(\"AUC Score (Test) : {}\".format(roc_auc_score(y_test, y_test_predprob)))\n",
    "    # xgboost’s sklearn wrapper doesn’t have a “feature_importances” metric \n",
    "    # but a get_fscore() function which does the same job\n",
    "    # feat_imp = pd.Series(alg.get_booster().get_fscore()).sort_values(ascending=False)\n",
    "    # feat_imp.plot(kind='bar', title='Feature Importances')\n",
    "    # plt.ylabel('Feature Importance Score')\n",
    "    \n",
    "    # bizi ilgilendiren iterasyon sayisi ve son iterasyonun cv skorlari\n",
    "    print('\\nBest iteration   : {}'.format(cvresult.shape[0]))\n",
    "    print('\\nCV train mean for last iteration(auc) : {:.6f}'.format(\n",
    "        cvresult['train-auc-mean'].iloc[-1]))\n",
    "    print('\\nCV test mean for last iteration(auc)  : {:.6f}'.format(\n",
    "        cvresult['test-auc-mean'].iloc[-1]))    \n",
    "    \n",
    "    return cvresult"
   ]
  },
  {
   "cell_type": "code",
   "execution_count": 3,
   "metadata": {},
   "outputs": [],
   "source": [
    "# yas degiskeninin surekli oldugu veri seti secildi, orada model daha iyi performas gosteriyor\n",
    "titanic = pd.read_csv('data/titanic_clean_with_age.csv')"
   ]
  },
  {
   "cell_type": "code",
   "execution_count": 4,
   "metadata": {},
   "outputs": [
    {
     "name": "stdout",
     "output_type": "stream",
     "text": [
      "<class 'pandas.core.frame.DataFrame'>\n",
      "RangeIndex: 891 entries, 0 to 890\n",
      "Data columns (total 14 columns):\n",
      " #   Column       Non-Null Count  Dtype  \n",
      "---  ------       --------------  -----  \n",
      " 0   PassengerId  891 non-null    int64  \n",
      " 1   Survived     891 non-null    int64  \n",
      " 2   Pclass       891 non-null    int64  \n",
      " 3   Age          891 non-null    float64\n",
      " 4   SibSp        891 non-null    int64  \n",
      " 5   Parch        891 non-null    int64  \n",
      " 6   Fare         891 non-null    float64\n",
      " 7   gender_male  891 non-null    int64  \n",
      " 8   embarked_Q   891 non-null    int64  \n",
      " 9   embarked_S   891 non-null    int64  \n",
      " 10  master       891 non-null    int64  \n",
      " 11  miss         891 non-null    int64  \n",
      " 12  mr           891 non-null    int64  \n",
      " 13  mrs          891 non-null    int64  \n",
      "dtypes: float64(2), int64(12)\n",
      "memory usage: 97.6 KB\n"
     ]
    }
   ],
   "source": [
    "titanic.info()"
   ]
  },
  {
   "cell_type": "code",
   "execution_count": 5,
   "metadata": {},
   "outputs": [],
   "source": [
    "# aciklayici degiskenler\n",
    "X = titanic.drop(['PassengerId', 'Survived'], axis=1)\n",
    "# hedef degisken\n",
    "y = titanic['Survived']\n",
    "# egitim ve test kumesini ayirma\n",
    "X_train, X_test, y_train, y_test = train_test_split(X, y, test_size=0.2, random_state=0)"
   ]
  },
  {
   "cell_type": "markdown",
   "metadata": {},
   "source": [
    "***Model karsilastirmasinda basarili olan parametrelerle deneme***"
   ]
  },
  {
   "cell_type": "code",
   "execution_count": 57,
   "metadata": {},
   "outputs": [
    {
     "name": "stdout",
     "output_type": "stream",
     "text": [
      "{'objective': 'binary:logistic', 'base_score': None, 'booster': None, 'colsample_bylevel': None, 'colsample_bynode': None, 'colsample_bytree': None, 'gamma': 1, 'gpu_id': None, 'importance_type': 'gain', 'interaction_constraints': None, 'learning_rate': None, 'max_delta_step': None, 'max_depth': 6, 'min_child_weight': None, 'missing': nan, 'monotone_constraints': None, 'n_estimators': 100, 'n_jobs': None, 'num_parallel_tree': None, 'random_state': None, 'reg_alpha': 1, 'reg_lambda': 0.1, 'scale_pos_weight': None, 'subsample': None, 'tree_method': None, 'validate_parameters': False, 'verbosity': None}\n",
      "\n",
      "Best iteration   : 17\n",
      "\n",
      "CV train mean for last iteration(auc) : 0.956991\n",
      "\n",
      "CV test mean for last iteration(auc)  : 0.878172\n"
     ]
    }
   ],
   "source": [
    "# model karsilastirmasindaki en basarili model\n",
    "xgb_cl = XGBClassifier(max_depth=6, reg_alpha=1, reg_lambda=0.1, gamma=1)\n",
    "# modelfit ile modeli xgboost.cv metoduna soktuk\n",
    "cv_cl = modelfit(xgb_cl, X_train, X_test, y_train, y_test, verbose=False)"
   ]
  },
  {
   "cell_type": "markdown",
   "metadata": {},
   "source": [
    "- Iki farkli model baslangici secilerek testlere devam edielcek learning_rate : 0.1 ve 0.05 durumu icin ayri ayri testler uygulanacak."
   ]
  },
  {
   "cell_type": "markdown",
   "metadata": {},
   "source": [
    "## ***Model baslangici learning_rate: 0.1***"
   ]
  },
  {
   "cell_type": "markdown",
   "metadata": {},
   "source": [
    "---\n",
    "### ***1. learning_rate & n_estimators***\n",
    "\n",
    "- ```learning_rate``` baslangicta farkli problemler icin 0.05 ile 0.3 arasinda bir deger belirlenebilir.\n",
    "- ```learning_rate``` parametresi kucuk bir deger (0.1) belirlenir ve sonrasinda bu deger icin optimum iterasyon sayisi (agac sayisi ya da ```num_boost_round``` ya da scikit-learn icin ```n_estimators``` parametresi) ```xgboost.cv``` ile elde edilir.\n",
    "- Default degerler: ```learning_rate:0.3, n_estimators:100```\n",
    "- Diger parametreler baslangicta tahmini olarak verilmistir, daha sonraki adimlarda ayarlanacaktir."
   ]
  },
  {
   "cell_type": "code",
   "execution_count": 58,
   "metadata": {},
   "outputs": [
    {
     "name": "stdout",
     "output_type": "stream",
     "text": [
      "{'objective': 'binary:logistic', 'base_score': None, 'booster': None, 'colsample_bylevel': None, 'colsample_bynode': None, 'colsample_bytree': 0.8, 'gamma': 0, 'gpu_id': None, 'importance_type': 'gain', 'interaction_constraints': None, 'learning_rate': 0.1, 'max_delta_step': None, 'max_depth': 5, 'min_child_weight': 1, 'missing': nan, 'monotone_constraints': None, 'n_estimators': 1000, 'n_jobs': None, 'num_parallel_tree': None, 'random_state': None, 'reg_alpha': None, 'reg_lambda': None, 'scale_pos_weight': 1, 'subsample': 0.8, 'tree_method': None, 'validate_parameters': False, 'verbosity': None}\n",
      "\n",
      "Best iteration   : 61\n",
      "\n",
      "CV train mean for last iteration(auc) : 0.969205\n",
      "\n",
      "CV test mean for last iteration(auc)  : 0.877491\n"
     ]
    }
   ],
   "source": [
    "# ilk model parametreleri\n",
    "xgb11 = XGBClassifier(\n",
    "    learning_rate=0.1,      # ne kadar kucukse model o kadar iyi genelleme yapar (def:0.3)\n",
    "    n_estimators=1000,      # toplam kac boost round olacak ve kac agac olusacak (def:100)\n",
    "    max_depth=5,            # her bir agacin max derinligi (def:6)\n",
    "    min_child_weight=1,     # dengesiz siniflarda kullanilir(def:1)\n",
    "    gamma=0,                # min hata azaltmayi belirler (agac bunun altinda split edemez)(def:0)\n",
    "    subsample=0.8,            # agac olusturuken alinacak orneklem orani (def:1)\n",
    "    colsample_bytree=0.8,     # agac olusturuken alinacak sutun(feature) orani (def:1)\n",
    "    scale_pos_weight=1,     # dengesiz siniflarda kullanilmali, (def:1)\n",
    "    objective= 'binary:logistic') # ikili siniflandirmada hedef\n",
    "\n",
    "cv_11 = modelfit(xgb11, X_train, X_test, y_train, y_test, verbose=False)"
   ]
  },
  {
   "cell_type": "markdown",
   "metadata": {},
   "source": [
    "### ***2. max_depth & min_child_weight***\n",
    "\n",
    "- Modele en cok etki eden ```max_depth, min_child_weight``` oldugundan ilk olarak bu parametrelerle basladik. Deneme araliklari baslangicta yuksek tutulup (coarse-grained) sonrasinda araliklar kucultulecektir(fine-grained).\n",
    "- Deafult degerler: ```max_depth:6, min_child_weight:1```"
   ]
  },
  {
   "cell_type": "code",
   "execution_count": 8,
   "metadata": {},
   "outputs": [
    {
     "name": "stdout",
     "output_type": "stream",
     "text": [
      "Best params: \n",
      "{'max_depth': 9, 'min_child_weight': 3}\n",
      "\n",
      "Best cross-validation score: \n",
      "0.8795771455410953\n",
      "\n",
      "Test-set score: \n",
      "0.917786561264822\n",
      "\n",
      "CPU times: user 718 ms, sys: 51.6 ms, total: 770 ms\n",
      "Wall time: 2.19 s\n"
     ]
    }
   ],
   "source": [
    "%%time\n",
    "\n",
    "param_test11 = {\n",
    "    'max_depth':range(3,10,2),\n",
    "    'min_child_weight':range(1,6,2)\n",
    "}\n",
    "\n",
    "gsearch11 = GridSearchCV(estimator = XGBClassifier(learning_rate=0.1, \n",
    "                                                  n_estimators=61, \n",
    "                                                  max_depth=3,\n",
    "                                                  min_child_weight=1, \n",
    "                                                  gamma=0, \n",
    "                                                  subsample=0.8, \n",
    "                                                  colsample_bytree=0.8, \n",
    "                                                  objective= 'binary:logistic', \n",
    "                                                  scale_pos_weight=1), \n",
    "                        param_grid = param_test11, \n",
    "                        scoring='roc_auc',\n",
    "                        n_jobs=4,\n",
    "                        cv=5)\n",
    "gsearch11.fit(X_train,y_train)\n",
    "\n",
    "# sonuclar\n",
    "#print(\"Grid scores: \\n\")\n",
    "#display(pd.DataFrame(gsearch1.cv_results_))\n",
    "print(\"Best params: \\n{}\\n\".format(gsearch11.best_params_))\n",
    "print(\"Best cross-validation score: \\n{}\\n\".format(gsearch11.best_score_))\n",
    "print(\"Test-set score: \\n{}\\n\".format(gsearch11.score(X_test, y_test)))"
   ]
  },
  {
   "cell_type": "markdown",
   "metadata": {},
   "source": [
    "- Araligi 2 den 1 e dusurerek tekrar test edelim ve kacirdigimiz parametreleri de gorelim."
   ]
  },
  {
   "cell_type": "code",
   "execution_count": 9,
   "metadata": {},
   "outputs": [
    {
     "name": "stdout",
     "output_type": "stream",
     "text": [
      "Best params: \n",
      "{'max_depth': 8, 'min_child_weight': 2}\n",
      "\n",
      "Best cross-validation score: \n",
      "0.8802129444919414\n",
      "\n",
      "Test-set score: \n",
      "0.9115942028985508\n",
      "\n",
      "CPU times: user 547 ms, sys: 12.4 ms, total: 559 ms\n",
      "Wall time: 801 ms\n"
     ]
    }
   ],
   "source": [
    "%%time\n",
    "\n",
    "param_test12 = {\n",
    "    'max_depth':[8,9,10],\n",
    "    'min_child_weight':[2,3,4]\n",
    "}\n",
    "gsearch12 = GridSearchCV(estimator = XGBClassifier(learning_rate=0.1, \n",
    "                                                  n_estimators=61, \n",
    "                                                  max_depth=9,\n",
    "                                                  min_child_weight=3, \n",
    "                                                  gamma=0, \n",
    "                                                  subsample=0.8, \n",
    "                                                  colsample_bytree=0.8,\n",
    "                                                  objective= 'binary:logistic', \n",
    "                                                  scale_pos_weight=1), \n",
    "                        param_grid = param_test12, \n",
    "                        scoring='roc_auc',\n",
    "                        n_jobs=4,\n",
    "                        cv=5)\n",
    "\n",
    "gsearch12.fit(X_train,y_train)\n",
    "\n",
    "# sonuclar\n",
    "#print(\"Grid scores: \\n\")\n",
    "#display(pd.DataFrame(gsearch2.cv_results_))\n",
    "print(\"Best params: \\n{}\\n\".format(gsearch12.best_params_))\n",
    "print(\"Best cross-validation score: \\n{}\\n\".format(gsearch12.best_score_))\n",
    "print(\"Test-set score: \\n{}\\n\".format(gsearch12.score(X_test, y_test)))"
   ]
  },
  {
   "cell_type": "markdown",
   "metadata": {},
   "source": [
    "- ***???*** Bazi durumlarda aradaki parametereler grid search tarafindan secildi ancak bir onceki grid search e gore kotu sonuc verdi.\n",
    "- Tespit edilen parametre eger kenardaysa(basta-sonda) ona gore devam eden parametrelerle tekrar grid search yapilmali. Sonraki ya da oncekileri kacirmamaliyiz."
   ]
  },
  {
   "cell_type": "code",
   "execution_count": 10,
   "metadata": {},
   "outputs": [],
   "source": [
    "# optional, duruma gore\n",
    "# min_child_weight eger 1 ciksaydi bu sekilde testi devam ettirebilirdik\n",
    "param_test2b = {\n",
    "    'min_child_weight':[0.4,0.6,0.8,1]\n",
    "}"
   ]
  },
  {
   "cell_type": "markdown",
   "metadata": {},
   "source": [
    "### ***3. gamma***\n",
    "- gamma ile dalin split etmesi icin minimum loss reduction yani min hata azaltma belirenir. Ne kadar yuksekse dallanma o kadar zor olur ve model konservatif olur.\n",
    "- ```gamma``` icin 0,0.1,0.2,0.3,0.4 degerlerini test edecegiz.\n",
    "- Deafult deger ```gamma:0```"
   ]
  },
  {
   "cell_type": "code",
   "execution_count": 11,
   "metadata": {},
   "outputs": [
    {
     "name": "stdout",
     "output_type": "stream",
     "text": [
      "Best params: \n",
      "{'gamma': 0.2}\n",
      "\n",
      "Best cross-validation score: \n",
      "0.8807860739051963\n",
      "\n",
      "Test-set score: \n",
      "0.9197628458498023\n",
      "\n",
      "CPU times: user 524 ms, sys: 10.4 ms, total: 534 ms\n",
      "Wall time: 704 ms\n"
     ]
    }
   ],
   "source": [
    "%%time\n",
    "\n",
    "param_test13 = {\n",
    "    'gamma':[i/10.0 for i in range(0,5)]\n",
    "}\n",
    "gsearch13 = GridSearchCV(estimator = XGBClassifier(learning_rate=0.1, \n",
    "                                                  n_estimators=61, \n",
    "                                                  max_depth=8,\n",
    "                                                  min_child_weight=2, \n",
    "                                                  gamma=0, \n",
    "                                                  subsample=0.8, \n",
    "                                                  colsample_bytree=0.8,\n",
    "                                                  objective= 'binary:logistic', \n",
    "                                                  scale_pos_weight=1), \n",
    "                        param_grid = param_test13, \n",
    "                        scoring='roc_auc',\n",
    "                        n_jobs=4,\n",
    "                        cv=5)\n",
    "\n",
    "gsearch13.fit(X_train,y_train)\n",
    "\n",
    "# sonuclar\n",
    "#print(\"Grid scores: \\n\")\n",
    "#display(pd.DataFrame(gsearch3.cv_results_))\n",
    "print(\"Best params: \\n{}\\n\".format(gsearch13.best_params_))\n",
    "print(\"Best cross-validation score: \\n{}\\n\".format(gsearch13.best_score_))\n",
    "print(\"Test-set score: \\n{}\\n\".format(gsearch13.score(X_test, y_test)))"
   ]
  },
  {
   "cell_type": "markdown",
   "metadata": {},
   "source": [
    "### ***Recalibration***\n",
    "\n",
    "- Diger parametrelere devam etmeden once burada agac sayisini (n_estimators) tekrar kalibre etmek uygun olmaktadir."
   ]
  },
  {
   "cell_type": "code",
   "execution_count": 59,
   "metadata": {},
   "outputs": [
    {
     "name": "stdout",
     "output_type": "stream",
     "text": [
      "{'objective': 'binary:logistic', 'base_score': None, 'booster': None, 'colsample_bylevel': None, 'colsample_bynode': None, 'colsample_bytree': 0.8, 'gamma': 0.2, 'gpu_id': None, 'importance_type': 'gain', 'interaction_constraints': None, 'learning_rate': 0.1, 'max_delta_step': None, 'max_depth': 8, 'min_child_weight': 2, 'missing': nan, 'monotone_constraints': None, 'n_estimators': 1000, 'n_jobs': None, 'num_parallel_tree': None, 'random_state': None, 'reg_alpha': None, 'reg_lambda': None, 'scale_pos_weight': 1, 'subsample': 0.8, 'tree_method': None, 'validate_parameters': False, 'verbosity': None}\n",
      "\n",
      "Best iteration   : 62\n",
      "\n",
      "CV train mean for last iteration(auc) : 0.969454\n",
      "\n",
      "CV test mean for last iteration(auc)  : 0.879838\n"
     ]
    }
   ],
   "source": [
    "xgb12 = XGBClassifier(\n",
    "    learning_rate =0.1,\n",
    "    n_estimators=1000,\n",
    "    max_depth=8,\n",
    "    min_child_weight=2,\n",
    "    gamma=0.2,\n",
    "    subsample=0.8,\n",
    "    colsample_bytree=0.8,\n",
    "    objective= 'binary:logistic',\n",
    "    scale_pos_weight=1)\n",
    "cv_12 = modelfit(xgb12, X_train, X_test, y_train, y_test)"
   ]
  },
  {
   "cell_type": "markdown",
   "metadata": {},
   "source": [
    "- En iyi iterasyon sayisi degistiyse guncellenir degismediyse ayni sekilde devam edilir.\n",
    "\n",
    "- Burada skorda da kucuk bir gelisme gorduk, ```max_depth, min_child_weight, gamma``` parametrelerinde mevcut degerleri kullanabiliriz."
   ]
  },
  {
   "cell_type": "markdown",
   "metadata": {},
   "source": [
    "### ***4. subsample & colsample_bytree***\n",
    "\n",
    "- Burada da testi 2 adimda gerceklestirecegiz. 0.6,0.7,0.8,0.9 baslangic test degerlerimiz.\n",
    "- Default degerler: ```subsample:1, colsample_bytree:1```"
   ]
  },
  {
   "cell_type": "code",
   "execution_count": 13,
   "metadata": {},
   "outputs": [
    {
     "name": "stdout",
     "output_type": "stream",
     "text": [
      "Best params: \n",
      "{'colsample_bytree': 0.6, 'subsample': 0.6}\n",
      "\n",
      "Best cross-validation score: \n",
      "0.883639846743295\n",
      "\n",
      "Test-set score: \n",
      "0.9192358366271409\n",
      "\n",
      "CPU times: user 693 ms, sys: 7.87 ms, total: 701 ms\n",
      "Wall time: 2.08 s\n"
     ]
    }
   ],
   "source": [
    "%%time\n",
    "\n",
    "param_test14 = {\n",
    "    'subsample':[i/10.0 for i in range(6,10)],\n",
    "    'colsample_bytree':[i/10.0 for i in range(6,10)]\n",
    "}\n",
    "gsearch14 = GridSearchCV(estimator = XGBClassifier(learning_rate=0.1, \n",
    "                                                  n_estimators=62, \n",
    "                                                  max_depth=8,\n",
    "                                                  min_child_weight=2, \n",
    "                                                  gamma=0.2, \n",
    "                                                  subsample=0.8, \n",
    "                                                  colsample_bytree=0.8,\n",
    "                                                  objective= 'binary:logistic', \n",
    "                                                  scale_pos_weight=1), \n",
    "                        param_grid = param_test14, \n",
    "                        scoring='roc_auc',\n",
    "                        n_jobs=4, \n",
    "                        cv=5)\n",
    "\n",
    "gsearch14.fit(X_train,y_train)\n",
    "\n",
    "# sonuclar\n",
    "#print(\"Grid scores: \\n\")\n",
    "#display(pd.DataFrame(gsearch4.cv_results_))\n",
    "print(\"Best params: \\n{}\\n\".format(gsearch14.best_params_))\n",
    "print(\"Best cross-validation score: \\n{}\\n\".format(gsearch14.best_score_))\n",
    "print(\"Test-set score: \\n{}\\n\".format(gsearch14.score(X_test, y_test)))"
   ]
  },
  {
   "cell_type": "markdown",
   "metadata": {},
   "source": [
    "- 0.05 araliginda teste devam ederiz. Buldugumuz degerin 0.05 alti ve 0.05 ustunde de arama yapariz."
   ]
  },
  {
   "cell_type": "code",
   "execution_count": 14,
   "metadata": {},
   "outputs": [
    {
     "data": {
      "text/plain": [
       "[0.65, 0.7, 0.75]"
      ]
     },
     "execution_count": 14,
     "metadata": {},
     "output_type": "execute_result"
    }
   ],
   "source": [
    "[i/100.0 for i in range(65,80,5)]"
   ]
  },
  {
   "cell_type": "code",
   "execution_count": 15,
   "metadata": {},
   "outputs": [
    {
     "name": "stdout",
     "output_type": "stream",
     "text": [
      "Best params: \n",
      "{'colsample_bytree': 0.55, 'subsample': 0.55}\n",
      "\n",
      "Best cross-validation score: \n",
      "0.8873318741226264\n",
      "\n",
      "Test-set score: \n",
      "0.9129117259552043\n",
      "\n",
      "CPU times: user 707 ms, sys: 2.74 ms, total: 710 ms\n",
      "Wall time: 1.48 s\n"
     ]
    }
   ],
   "source": [
    "%%time\n",
    "\n",
    "param_test15 = {\n",
    "    'subsample':[i/100.0 for i in range(55,75,5)],\n",
    "    'colsample_bytree':[i/100.0 for i in range(55,75,5)]\n",
    "}\n",
    "gsearch15 = GridSearchCV(estimator = XGBClassifier(learning_rate=0.1, \n",
    "                                                  n_estimators=62, \n",
    "                                                  max_depth=8,\n",
    "                                                  min_child_weight=2, \n",
    "                                                  gamma=0.2, \n",
    "                                                  subsample=0.6, \n",
    "                                                  colsample_bytree=0.6,\n",
    "                                                  objective= 'binary:logistic', \n",
    "                                                  scale_pos_weight=1), \n",
    "                        param_grid = param_test15, \n",
    "                        scoring='roc_auc',\n",
    "                        n_jobs=4, \n",
    "                        cv=5)\n",
    "\n",
    "gsearch15.fit(X_train,y_train)\n",
    "\n",
    "# sonuclar\n",
    "#print(\"Grid scores: \\n\")\n",
    "#display(pd.DataFrame(gsearch5.cv_results_))\n",
    "print(\"Best params: \\n{}\\n\".format(gsearch15.best_params_))\n",
    "print(\"Best cross-validation score: \\n{}\\n\".format(gsearch15.best_score_))\n",
    "print(\"Test-set score: \\n{}\\n\".format(gsearch15.score(X_test, y_test)))"
   ]
  },
  {
   "cell_type": "markdown",
   "metadata": {},
   "source": [
    "- Sonuca gore gelisme varsa parametre guncellenir yoksa ilk adimdaki secilir."
   ]
  },
  {
   "cell_type": "markdown",
   "metadata": {},
   "source": [
    "### ***5. alpha & lambda***\n",
    "- Overfittingi azaltmak icin regularizasyon parametrelerini de test etmeliyiz. \n",
    "- Burada yalnizca alpha (L2 - Ridge) parametresi tespit edilip birakilabilir ya da lambda (L1- Lasso) icin de alpha icin tekrar edilen arama adimlari uygulanabilir.\n",
    "- Default degerler:```reg_alpha:0, reg_lambda:1```"
   ]
  },
  {
   "cell_type": "code",
   "execution_count": 16,
   "metadata": {},
   "outputs": [
    {
     "name": "stdout",
     "output_type": "stream",
     "text": [
      "Best params: \n",
      "{'reg_alpha': 0}\n",
      "\n",
      "Best cross-validation score: \n",
      "0.8873318741226264\n",
      "\n",
      "Test-set score: \n",
      "0.9129117259552043\n",
      "\n"
     ]
    }
   ],
   "source": [
    "param_test16 = {\n",
    "    'reg_alpha':[0, 1e-5, 1e-2, 0.1, 1, 100]\n",
    "}\n",
    "\n",
    "gsearch16 = GridSearchCV(estimator = XGBClassifier(learning_rate=0.1, \n",
    "                                                  n_estimators=62, \n",
    "                                                  max_depth=8,\n",
    "                                                  min_child_weight=2, \n",
    "                                                  gamma=0.2, \n",
    "                                                  subsample=0.55, \n",
    "                                                  colsample_bytree=0.55,\n",
    "                                                  objective= 'binary:logistic',  \n",
    "                                                  scale_pos_weight=1), \n",
    "                        param_grid = param_test16, \n",
    "                        scoring='roc_auc',\n",
    "                        n_jobs=4, \n",
    "                        cv=5)\n",
    "\n",
    "gsearch16.fit(X_train,y_train)\n",
    "\n",
    "# sonuclar\n",
    "#print(\"Grid scores: \\n\")\n",
    "#display(pd.DataFrame(gsearch6.cv_results_))\n",
    "print(\"Best params: \\n{}\\n\".format(gsearch16.best_params_))\n",
    "print(\"Best cross-validation score: \\n{}\\n\".format(gsearch16.best_score_))\n",
    "print(\"Test-set score: \\n{}\\n\".format(gsearch16.score(X_test, y_test)))"
   ]
  },
  {
   "cell_type": "markdown",
   "metadata": {},
   "source": [
    "- Alpha default deger 0 ciktiysa regualarizasyona gerek yoktur.\n",
    "- Default degerden farkli ise birinci adimda genis adimlarla aram yapildigindan buradaki sonuca gore ikinci adimda daha sik adimlarla fine-grained arama yapilir."
   ]
  },
  {
   "cell_type": "code",
   "execution_count": 17,
   "metadata": {},
   "outputs": [
    {
     "data": {
      "text/plain": [
       "array([0.e+00, 2.e-06, 4.e-06, 6.e-06, 8.e-06, 1.e-05])"
      ]
     },
     "execution_count": 17,
     "metadata": {},
     "output_type": "execute_result"
    }
   ],
   "source": [
    "np.arange(0.0, 0.000012, 0.000002)"
   ]
  },
  {
   "cell_type": "code",
   "execution_count": 18,
   "metadata": {},
   "outputs": [
    {
     "name": "stdout",
     "output_type": "stream",
     "text": [
      "Best params: \n",
      "{'reg_alpha': 0.0}\n",
      "\n",
      "Best cross-validation score: \n",
      "0.8873318741226264\n",
      "\n",
      "Test-set score: \n",
      "0.9129117259552043\n",
      "\n"
     ]
    }
   ],
   "source": [
    "# optional\n",
    "param_test17 = {\n",
    "    'reg_alpha': np.arange(0.0, 0.000012, 0.000002)\n",
    "}\n",
    "\n",
    "gsearch17 = GridSearchCV(estimator = XGBClassifier(learning_rate=0.1, \n",
    "                                                  n_estimators=62, \n",
    "                                                  max_depth=8,\n",
    "                                                  min_child_weight=2, \n",
    "                                                  gamma=0.2, \n",
    "                                                  subsample=0.55, \n",
    "                                                  colsample_bytree=0.55,\n",
    "                                                  objective= 'binary:logistic', \n",
    "                                                  scale_pos_weight=1), \n",
    "                        param_grid = param_test17, \n",
    "                        scoring='roc_auc',\n",
    "                        n_jobs=4, \n",
    "                        cv=5)\n",
    "\n",
    "gsearch17.fit(X_train,y_train)\n",
    "\n",
    "# sonuclar\n",
    "#print(\"Grid scores: \\n\")\n",
    "\n",
    "#display(pd.DataFrame(gsearch7.cv_results_))\n",
    "print(\"Best params: \\n{}\\n\".format(gsearch17.best_params_))\n",
    "print(\"Best cross-validation score: \\n{}\\n\".format(gsearch17.best_score_))\n",
    "print(\"Test-set score: \\n{}\\n\".format(gsearch17.score(X_test, y_test)))"
   ]
  },
  {
   "cell_type": "markdown",
   "metadata": {},
   "source": [
    "- ```reg_lambda``` icin de ayni adimlar tekrar edilebilir.\n",
    "- Default deger: ```reg_lambda:1```"
   ]
  },
  {
   "cell_type": "code",
   "execution_count": 19,
   "metadata": {},
   "outputs": [
    {
     "name": "stdout",
     "output_type": "stream",
     "text": [
      "Best params: \n",
      "{'reg_lambda': 1}\n",
      "\n",
      "Best cross-validation score: \n",
      "0.8873318741226264\n",
      "\n",
      "Test-set score: \n",
      "0.9129117259552043\n",
      "\n"
     ]
    }
   ],
   "source": [
    "param_test18 = {\n",
    "    'reg_lambda':[0, 1e-5, 1e-2, 0.1, 1, 100]\n",
    "}\n",
    "\n",
    "gsearch18 = GridSearchCV(estimator = XGBClassifier(learning_rate=0.1, \n",
    "                                                  n_estimators=62, \n",
    "                                                  max_depth=8,\n",
    "                                                  min_child_weight=2, \n",
    "                                                  gamma=0.2, \n",
    "                                                  subsample=0.55, \n",
    "                                                  colsample_bytree=0.55,\n",
    "                                                  reg_alpha=0,\n",
    "                                                  objective= 'binary:logistic', \n",
    "                                                  scale_pos_weight=1), \n",
    "                        param_grid = param_test18, \n",
    "                        scoring='roc_auc',\n",
    "                        n_jobs=4, \n",
    "                        cv=5)\n",
    "\n",
    "gsearch18.fit(X_train,y_train)\n",
    "\n",
    "# sonuclar\n",
    "#print(\"Grid scores: \\n\")\n",
    "#display(pd.DataFrame(gsearch8.cv_results_))\n",
    "print(\"Best params: \\n{}\\n\".format(gsearch18.best_params_))\n",
    "print(\"Best cross-validation score: \\n{}\\n\".format(gsearch18.best_score_))\n",
    "print(\"Test-set score: \\n{}\\n\".format(gsearch18.score(X_test, y_test)))"
   ]
  },
  {
   "cell_type": "markdown",
   "metadata": {},
   "source": [
    "- CV skorunda gelisme varsa parametre secilir yoksa secilmez. \n",
    "- Sonucta secilen parametrelerle tekrar model xgboost.cv ile test edilirek yeni eklenen parametrelerin etkisi gozlenir.\n",
    "- ***???*** Ancak burada secilen parametrelerle model performansi dustu."
   ]
  },
  {
   "cell_type": "code",
   "execution_count": 60,
   "metadata": {},
   "outputs": [
    {
     "name": "stdout",
     "output_type": "stream",
     "text": [
      "{'objective': 'binary:logistic', 'base_score': None, 'booster': None, 'colsample_bylevel': None, 'colsample_bynode': None, 'colsample_bytree': 0.55, 'gamma': 0.2, 'gpu_id': None, 'importance_type': 'gain', 'interaction_constraints': None, 'learning_rate': 0.1, 'max_delta_step': None, 'max_depth': 8, 'min_child_weight': 2, 'missing': nan, 'monotone_constraints': None, 'n_estimators': 1000, 'n_jobs': None, 'num_parallel_tree': None, 'random_state': None, 'reg_alpha': 0, 'reg_lambda': 1, 'scale_pos_weight': 1, 'subsample': 0.55, 'tree_method': None, 'validate_parameters': False, 'verbosity': None}\n",
      "\n",
      "Best iteration   : 56\n",
      "\n",
      "CV train mean for last iteration(auc) : 0.942012\n",
      "\n",
      "CV test mean for last iteration(auc)  : 0.880534\n"
     ]
    }
   ],
   "source": [
    "xgb13 = XGBClassifier(\n",
    "    learning_rate=0.1,\n",
    "    n_estimators=1000,\n",
    "    max_depth=8,\n",
    "    min_child_weight=2,\n",
    "    gamma=0.2,\n",
    "    subsample=0.55,\n",
    "    colsample_bytree=0.55,\n",
    "    reg_alpha=0,\n",
    "    reg_lambda=1,\n",
    "    objective='binary:logistic',\n",
    "    scale_pos_weight=1)\n",
    "cv_13 = modelfit(xgb13, X_train, X_test, y_train, y_test)"
   ]
  },
  {
   "cell_type": "code",
   "execution_count": null,
   "metadata": {},
   "outputs": [],
   "source": []
  },
  {
   "cell_type": "markdown",
   "metadata": {},
   "source": [
    "### ***6. Reducing Learning Rate***\n",
    "- Son olarak secilen parametrelerle learning_rate azaltilarak agac sayisi artirilir ve modelin genellestirme ozelligi maksimum duzeye cikarilmaya calisilir."
   ]
  },
  {
   "cell_type": "code",
   "execution_count": 75,
   "metadata": {},
   "outputs": [
    {
     "name": "stdout",
     "output_type": "stream",
     "text": [
      "{'objective': 'binary:logistic', 'base_score': None, 'booster': None, 'colsample_bylevel': None, 'colsample_bynode': None, 'colsample_bytree': 0.7, 'gamma': 0, 'gpu_id': None, 'importance_type': 'gain', 'interaction_constraints': None, 'learning_rate': 0.03, 'max_delta_step': None, 'max_depth': 7, 'min_child_weight': 5, 'missing': nan, 'monotone_constraints': None, 'n_estimators': 303, 'n_jobs': None, 'num_parallel_tree': None, 'random_state': None, 'reg_alpha': 0, 'reg_lambda': 0, 'scale_pos_weight': 1, 'subsample': 0.9, 'tree_method': None, 'validate_parameters': False, 'verbosity': None}\n",
      "\n",
      "Best iteration   : 303\n",
      "\n",
      "CV train mean for last iteration(auc) : 0.953272\n",
      "\n",
      "CV test mean for last iteration(auc)  : 0.881467\n"
     ]
    }
   ],
   "source": [
    "xgb14 = XGBClassifier(\n",
    "    learning_rate=0.05,\n",
    "    n_estimators=1000,\n",
    "    max_depth=8,\n",
    "    min_child_weight=2,\n",
    "    gamma=0.2,\n",
    "    subsample=0.55,\n",
    "    colsample_bytree=0.55,\n",
    "    reg_alpha=0,\n",
    "    reg_lambda=1,\n",
    "    objective='binary:logistic',\n",
    "    scale_pos_weight=1)\n",
    "cv_14 = modelfit(xgb24, X_train, X_test, y_train, y_test)"
   ]
  },
  {
   "cell_type": "markdown",
   "metadata": {},
   "source": [
    "## ***Model baslangici learning_rate: 0.05***"
   ]
  },
  {
   "cell_type": "markdown",
   "metadata": {},
   "source": [
    "---\n",
    "### ***1. learning_rate & n_estimators***\n",
    "\n",
    "- ```learning_rate``` baslangicta farkli problemler icin 0.05 ile 0.3 arasinda bir deger belirlenebilir.\n",
    "- ```learning_rate``` parametresi kucuk bir deger (0.1) belirlenir ve sonrasinda bu deger icin optimum iterasyon sayisi (agac sayisi ya da ```num_boost_round``` ya da scikit-learn icin ```n_estimators``` parametresi) ```xgboost.cv``` ile elde edilir.\n",
    "- Default degerler: ```learning_rate:0.3, n_estimators:100```\n",
    "- Diger parametreler baslangicta tahmini olarak verilmistir, daha sonraki adimlarda ayarlanacaktir."
   ]
  },
  {
   "cell_type": "code",
   "execution_count": 61,
   "metadata": {},
   "outputs": [
    {
     "name": "stdout",
     "output_type": "stream",
     "text": [
      "{'objective': 'binary:logistic', 'base_score': None, 'booster': None, 'colsample_bylevel': None, 'colsample_bynode': None, 'colsample_bytree': 1, 'gamma': 0, 'gpu_id': None, 'importance_type': 'gain', 'interaction_constraints': None, 'learning_rate': 0.05, 'max_delta_step': None, 'max_depth': 5, 'min_child_weight': 1, 'missing': nan, 'monotone_constraints': None, 'n_estimators': 1000, 'n_jobs': None, 'num_parallel_tree': None, 'random_state': None, 'reg_alpha': None, 'reg_lambda': None, 'scale_pos_weight': 1, 'subsample': 1, 'tree_method': None, 'validate_parameters': False, 'verbosity': None}\n",
      "\n",
      "Best iteration   : 131\n",
      "\n",
      "CV train mean for last iteration(auc) : 0.975174\n",
      "\n",
      "CV test mean for last iteration(auc)  : 0.868656\n"
     ]
    }
   ],
   "source": [
    "# ilk model parametreleri\n",
    "xgb21 = XGBClassifier(\n",
    "    learning_rate=0.05,     # ne kadar kucukse model o kadar iyi genelleme yapar (def:0.3)\n",
    "    n_estimators=1000,      # toplam kac boost round olacak ve kac agac olusacak (def:100)\n",
    "    max_depth=5,            # her bir agacin max derinligi (def:6)\n",
    "    min_child_weight=1,     # dengesiz siniflarda kullanilir(def:1)\n",
    "    gamma=0,                # min hata azaltmayi belirler (agac bunun altinda split edemez)(def:0)\n",
    "    subsample=1,          # agac olusturuken alinacak orneklem orani (def:1)\n",
    "    colsample_bytree=1,   # agac olusturuken alinacak sutun(feature) orani (def:1)\n",
    "    scale_pos_weight=1,     # dengesiz siniflarda kullanilmali, (def:1)\n",
    "    objective= 'binary:logistic') # ikili siniflandirmada hedef\n",
    "\n",
    "cv_21 = modelfit(xgb21, X_train, X_test, y_train, y_test)"
   ]
  },
  {
   "cell_type": "markdown",
   "metadata": {},
   "source": [
    "### ***2. max_depth & min_child_weight***\n",
    "\n",
    "- Modele en cok etki eden ```max_depth, min_child_weight``` oldugundan ilk olarak bu parametrelerle basladik. Deneme araliklari baslangicta yuksek tutulup (coarse-grained) sonrasinda araliklar kucultulecektir(fine-grained).\n",
    "- Deafult degerler: ```max_depth:6, min_child_weight:1```"
   ]
  },
  {
   "cell_type": "code",
   "execution_count": 22,
   "metadata": {},
   "outputs": [
    {
     "name": "stdout",
     "output_type": "stream",
     "text": [
      "Best params: \n",
      "{'max_depth': 7, 'min_child_weight': 5}\n",
      "\n",
      "Best cross-validation score: \n",
      "0.8768546225050926\n",
      "\n",
      "Test-set score: \n",
      "0.9094861660079051\n",
      "\n",
      "CPU times: user 870 ms, sys: 7.84 ms, total: 878 ms\n",
      "Wall time: 2.1 s\n"
     ]
    }
   ],
   "source": [
    "%%time\n",
    "\n",
    "param_test21 = {\n",
    "    'max_depth':range(3,10,2),\n",
    "    'min_child_weight':range(1,6,2)\n",
    "}\n",
    "\n",
    "gsearch21 = GridSearchCV(estimator = XGBClassifier(learning_rate=0.05, \n",
    "                                                  n_estimators=131, \n",
    "                                                  max_depth=3,\n",
    "                                                  min_child_weight=1, \n",
    "                                                  gamma=0, \n",
    "                                                  subsample=1, \n",
    "                                                  colsample_bytree=1, \n",
    "                                                  objective= 'binary:logistic', \n",
    "                                                  scale_pos_weight=1), \n",
    "                        param_grid = param_test21, \n",
    "                        scoring='roc_auc',\n",
    "                        n_jobs=4,\n",
    "                        cv=5)\n",
    "gsearch21.fit(X_train,y_train)\n",
    "\n",
    "# sonuclar\n",
    "#print(\"Grid scores: \\n\")\n",
    "#display(pd.DataFrame(gsearch1.cv_results_))\n",
    "print(\"Best params: \\n{}\\n\".format(gsearch21.best_params_))\n",
    "print(\"Best cross-validation score: \\n{}\\n\".format(gsearch21.best_score_))\n",
    "print(\"Test-set score: \\n{}\\n\".format(gsearch21.score(X_test, y_test)))"
   ]
  },
  {
   "cell_type": "markdown",
   "metadata": {},
   "source": [
    "- Araligi 2 den 1 e dusurerek tekrar test edelim ve kacirdigimiz parametreleri de gorelim."
   ]
  },
  {
   "cell_type": "code",
   "execution_count": 23,
   "metadata": {},
   "outputs": [
    {
     "name": "stdout",
     "output_type": "stream",
     "text": [
      "Best params: \n",
      "{'max_depth': 7, 'min_child_weight': 5}\n",
      "\n",
      "Best cross-validation score: \n",
      "0.8768546225050926\n",
      "\n",
      "Test-set score: \n",
      "0.9094861660079051\n",
      "\n",
      "CPU times: user 843 ms, sys: 12 ms, total: 855 ms\n",
      "Wall time: 1.7 s\n"
     ]
    }
   ],
   "source": [
    "%%time\n",
    "\n",
    "param_test22 = {\n",
    "    'max_depth':[6,7,8],\n",
    "    'min_child_weight':[4,5,6]\n",
    "}\n",
    "gsearch22 = GridSearchCV(estimator = XGBClassifier(learning_rate=0.05, \n",
    "                                                  n_estimators=131, \n",
    "                                                  max_depth=7,\n",
    "                                                  min_child_weight=5, \n",
    "                                                  gamma=0, \n",
    "                                                  subsample=1, \n",
    "                                                  colsample_bytree=1,\n",
    "                                                  objective= 'binary:logistic', \n",
    "                                                  scale_pos_weight=1), \n",
    "                        param_grid = param_test22, \n",
    "                        scoring='roc_auc',\n",
    "                        n_jobs=4,\n",
    "                        cv=5)\n",
    "\n",
    "gsearch22.fit(X_train,y_train)\n",
    "\n",
    "# sonuclar\n",
    "#print(\"Grid scores: \\n\")\n",
    "#display(pd.DataFrame(gsearch2.cv_results_))\n",
    "print(\"Best params: \\n{}\\n\".format(gsearch22.best_params_))\n",
    "print(\"Best cross-validation score: \\n{}\\n\".format(gsearch22.best_score_))\n",
    "print(\"Test-set score: \\n{}\\n\".format(gsearch22.score(X_test, y_test)))"
   ]
  },
  {
   "cell_type": "markdown",
   "metadata": {},
   "source": [
    "- ***???*** Bazi durumlarda aradaki parametereler grid search tarafindan secildi ancak bir onceki grid search e gore kotu sonuc verdi.\n",
    "- Tespit edilen parametre eger kenardaysa(basta-sonda) ona gore devam eden parametrelerle tekrar grid search yapilmali. Sonraki ya da oncekileri kacirmamaliyiz."
   ]
  },
  {
   "cell_type": "code",
   "execution_count": 24,
   "metadata": {},
   "outputs": [],
   "source": [
    "# optional, duruma gore\n",
    "# min_child_weight eger 1 ciksaydi bu sekilde testi devam ettirebilirdik\n",
    "param_test2b = {\n",
    "    'min_child_weight':[0.4,0.6,0.8,1]\n",
    "}"
   ]
  },
  {
   "cell_type": "markdown",
   "metadata": {},
   "source": [
    "### ***3. gamma***\n",
    "- gamma ile dalin split etmesi icin minimum loss reduction yani min hata azaltma belirenir. Ne kadar yuksekse dallanma o kadar zor olur ve model konservatif olur.\n",
    "- ```gamma``` icin 0,0.1,0.2,0.3,0.4 degerlerini test edecegiz.\n",
    "- Deafult deger ```gamma:0```"
   ]
  },
  {
   "cell_type": "code",
   "execution_count": 25,
   "metadata": {},
   "outputs": [
    {
     "name": "stdout",
     "output_type": "stream",
     "text": [
      "Best params: \n",
      "{'gamma': 0.0}\n",
      "\n",
      "Best cross-validation score: \n",
      "0.8768546225050926\n",
      "\n",
      "Test-set score: \n",
      "0.9094861660079051\n",
      "\n",
      "CPU times: user 1.53 s, sys: 15.5 ms, total: 1.54 s\n",
      "Wall time: 1.27 s\n"
     ]
    }
   ],
   "source": [
    "%%time\n",
    "\n",
    "param_test23 = {\n",
    "    'gamma':[i/10.0 for i in range(0,5)]\n",
    "}\n",
    "gsearch23 = GridSearchCV(estimator = XGBClassifier(learning_rate=0.05, \n",
    "                                                  n_estimators=131, \n",
    "                                                  max_depth=7,\n",
    "                                                  min_child_weight=5, \n",
    "                                                  gamma=0, \n",
    "                                                  subsample=1, \n",
    "                                                  colsample_bytree=1,\n",
    "                                                  objective= 'binary:logistic', \n",
    "                                                  scale_pos_weight=1), \n",
    "                        param_grid = param_test23, \n",
    "                        scoring='roc_auc',\n",
    "                        n_jobs=4,\n",
    "                        cv=5)\n",
    "\n",
    "gsearch23.fit(X_train,y_train)\n",
    "\n",
    "# sonuclar\n",
    "#print(\"Grid scores: \\n\")\n",
    "#display(pd.DataFrame(gsearch3.cv_results_))\n",
    "print(\"Best params: \\n{}\\n\".format(gsearch23.best_params_))\n",
    "print(\"Best cross-validation score: \\n{}\\n\".format(gsearch23.best_score_))\n",
    "print(\"Test-set score: \\n{}\\n\".format(gsearch23.score(X_test, y_test)))"
   ]
  },
  {
   "cell_type": "markdown",
   "metadata": {},
   "source": [
    "### ***Recalibration***\n",
    "\n",
    "- Diger parametrelere devam etmeden once burada agac sayisini (n_estimators) tekrar kalibre etmek uygun olmaktadir."
   ]
  },
  {
   "cell_type": "code",
   "execution_count": 62,
   "metadata": {},
   "outputs": [
    {
     "name": "stdout",
     "output_type": "stream",
     "text": [
      "{'objective': 'binary:logistic', 'base_score': None, 'booster': None, 'colsample_bylevel': None, 'colsample_bynode': None, 'colsample_bytree': 1, 'gamma': 0, 'gpu_id': None, 'importance_type': 'gain', 'interaction_constraints': None, 'learning_rate': 0.05, 'max_delta_step': None, 'max_depth': 7, 'min_child_weight': 5, 'missing': nan, 'monotone_constraints': None, 'n_estimators': 1000, 'n_jobs': None, 'num_parallel_tree': None, 'random_state': None, 'reg_alpha': None, 'reg_lambda': None, 'scale_pos_weight': 1, 'subsample': 1, 'tree_method': None, 'validate_parameters': False, 'verbosity': None}\n",
      "\n",
      "Best iteration   : 140\n",
      "\n",
      "CV train mean for last iteration(auc) : 0.949434\n",
      "\n",
      "CV test mean for last iteration(auc)  : 0.875547\n"
     ]
    }
   ],
   "source": [
    "xgb22 = XGBClassifier(\n",
    "    learning_rate=0.05,\n",
    "    n_estimators=1000,\n",
    "    max_depth=7,\n",
    "    min_child_weight=5,\n",
    "    gamma=0,\n",
    "    subsample=1,\n",
    "    colsample_bytree=1,\n",
    "    objective= 'binary:logistic',\n",
    "    scale_pos_weight=1)\n",
    "cv_22 = modelfit(xgb22, X_train, X_test, y_train, y_test)"
   ]
  },
  {
   "cell_type": "code",
   "execution_count": 70,
   "metadata": {},
   "outputs": [
    {
     "name": "stdout",
     "output_type": "stream",
     "text": [
      "\n",
      "CV results comparison for different learning rate\n",
      "\n",
      "\n",
      "model 2.2 (initial learning rate=0.05)\n",
      "\n",
      "Cv train auc score for last iteration :  0.9494344000000001\n",
      "Cv test auc score for last iteration  :  0.8755472000000001\n",
      "\n",
      "model 1.2(initial learning rate=0.1)\n",
      "\n",
      "Cv train auc score for last iteration :  0.9694536000000001\n",
      "Cv test auc score for last iteration  :  0.8798381999999998\n"
     ]
    }
   ],
   "source": [
    "# farkli learning rate parametresine gore model karsilastirmasi\n",
    "print('\\nCV results comparison for different learning rate\\n')\n",
    "print('\\nmodel 2.2 (initial learning rate=0.05)\\n')\n",
    "print('Cv train auc score for last iteration : ',cv_22['train-auc-mean'].iloc[-1])\n",
    "print('Cv test auc score for last iteration  : ',cv_22['test-auc-mean'].iloc[-1])\n",
    "print('\\nmodel 1.2(initial learning rate=0.1)\\n')\n",
    "print('Cv train auc score for last iteration : ',cv_12['train-auc-mean'].iloc[-1])\n",
    "print('Cv test auc score for last iteration  : ',cv_12['test-auc-mean'].iloc[-1])"
   ]
  },
  {
   "cell_type": "markdown",
   "metadata": {},
   "source": [
    "- En iyi iterasyon sayisi degisti.\n",
    "\n",
    "- Burada skorda da bir gelisme gorduk, ```max_depth, min_child_weight, gamma``` parametrelerinde mevcut degerleri kullanabiliriz."
   ]
  },
  {
   "cell_type": "markdown",
   "metadata": {},
   "source": [
    "### ***4. subsample & colsample_bytree***\n",
    "\n",
    "- Burada da testi 2 adimda gerceklestirecegiz. 0.6,0.7,0.8,0.9 baslangic test degerlerimiz.\n",
    "- Default degerler: ```subsample:1, colsample_bytree:1```"
   ]
  },
  {
   "cell_type": "code",
   "execution_count": 27,
   "metadata": {},
   "outputs": [
    {
     "name": "stdout",
     "output_type": "stream",
     "text": [
      "Best params: \n",
      "{'colsample_bytree': 0.7, 'subsample': 0.9}\n",
      "\n",
      "Best cross-validation score: \n",
      "0.8780353165933104\n",
      "\n",
      "Test-set score: \n",
      "0.904874835309618\n",
      "\n",
      "CPU times: user 772 ms, sys: 19.9 ms, total: 792 ms\n",
      "Wall time: 2.35 s\n"
     ]
    }
   ],
   "source": [
    "%%time\n",
    "\n",
    "param_test24 = {\n",
    "    'subsample':[i/10.0 for i in range(6,10)],\n",
    "    'colsample_bytree':[i/10.0 for i in range(6,10)]\n",
    "}\n",
    "gsearch24 = GridSearchCV(estimator = XGBClassifier(learning_rate=0.05, \n",
    "                                                  n_estimators=140, \n",
    "                                                  max_depth=7,\n",
    "                                                  min_child_weight=5, \n",
    "                                                  gamma=0, \n",
    "                                                  subsample=1, \n",
    "                                                  colsample_bytree=1,\n",
    "                                                  objective= 'binary:logistic', \n",
    "                                                  scale_pos_weight=1), \n",
    "                        param_grid = param_test24, \n",
    "                        scoring='roc_auc',\n",
    "                        n_jobs=4, \n",
    "                        cv=5)\n",
    "\n",
    "gsearch24.fit(X_train,y_train)\n",
    "\n",
    "# sonuclar\n",
    "#print(\"Grid scores: \\n\")\n",
    "#display(pd.DataFrame(gsearch4.cv_results_))\n",
    "print(\"Best params: \\n{}\\n\".format(gsearch24.best_params_))\n",
    "print(\"Best cross-validation score: \\n{}\\n\".format(gsearch24.best_score_))\n",
    "print(\"Test-set score: \\n{}\\n\".format(gsearch24.score(X_test, y_test)))"
   ]
  },
  {
   "cell_type": "markdown",
   "metadata": {},
   "source": [
    "- 0.05 araliginda teste devam ederiz. Buldugumuz degerin 0.05 alti ve 0.05 ustunde de arama yapariz."
   ]
  },
  {
   "cell_type": "code",
   "execution_count": 28,
   "metadata": {},
   "outputs": [
    {
     "data": {
      "text/plain": [
       "[0.65, 0.7, 0.75]"
      ]
     },
     "execution_count": 28,
     "metadata": {},
     "output_type": "execute_result"
    }
   ],
   "source": [
    "[i/100.0 for i in range(65,80,5)]"
   ]
  },
  {
   "cell_type": "code",
   "execution_count": 29,
   "metadata": {},
   "outputs": [
    {
     "name": "stdout",
     "output_type": "stream",
     "text": [
      "Best params: \n",
      "{'colsample_bytree': 0.7, 'subsample': 0.9}\n",
      "\n",
      "Best cross-validation score: \n",
      "0.8780353165933104\n",
      "\n",
      "Test-set score: \n",
      "0.904874835309618\n",
      "\n",
      "CPU times: user 731 ms, sys: 12.3 ms, total: 743 ms\n",
      "Wall time: 1.11 s\n"
     ]
    }
   ],
   "source": [
    "%%time\n",
    "\n",
    "param_test25 = {\n",
    "    'subsample':[i/100.0 for i in range(85,100,5)],\n",
    "    'colsample_bytree':[i/100.0 for i in range(65,75,5)]\n",
    "}\n",
    "gsearch25 = GridSearchCV(estimator = XGBClassifier(learning_rate=0.05, \n",
    "                                                  n_estimators=140, \n",
    "                                                  max_depth=7,\n",
    "                                                  min_child_weight=5, \n",
    "                                                  gamma=0, \n",
    "                                                  subsample=0.9, \n",
    "                                                  colsample_bytree=0.7,\n",
    "                                                  objective= 'binary:logistic', \n",
    "                                                  scale_pos_weight=1), \n",
    "                        param_grid = param_test25, \n",
    "                        scoring='roc_auc',\n",
    "                        n_jobs=4, \n",
    "                        cv=5)\n",
    "\n",
    "gsearch25.fit(X_train,y_train)\n",
    "\n",
    "# sonuclar\n",
    "#print(\"Grid scores: \\n\")\n",
    "#display(pd.DataFrame(gsearch5.cv_results_))\n",
    "print(\"Best params: \\n{}\\n\".format(gsearch25.best_params_))\n",
    "print(\"Best cross-validation score: \\n{}\\n\".format(gsearch25.best_score_))\n",
    "print(\"Test-set score: \\n{}\\n\".format(gsearch25.score(X_test, y_test)))"
   ]
  },
  {
   "cell_type": "markdown",
   "metadata": {},
   "source": [
    "- Sonuca gore gelisme varsa parametre guncellenir yoksa ilk adimdaki secilir."
   ]
  },
  {
   "cell_type": "markdown",
   "metadata": {},
   "source": [
    "### ***5. alpha & lambda***\n",
    "- Overfittingi azaltmak icin regularizasyon parametrelerini de test etmeliyiz. \n",
    "- Burada yalnizca alpha (L2 - Ridge) parametresi tespit edilip birakilabilir ya da lambda (L1- Lasso) icin de alpha icin tekrar edilen arama adimlari uygulanabilir.\n",
    "- Default degerler:```reg_alpha:0, reg_lambda:1```"
   ]
  },
  {
   "cell_type": "code",
   "execution_count": 30,
   "metadata": {},
   "outputs": [
    {
     "name": "stdout",
     "output_type": "stream",
     "text": [
      "Best params: \n",
      "{'reg_alpha': 0}\n",
      "\n",
      "Best cross-validation score: \n",
      "0.8780353165933104\n",
      "\n",
      "Test-set score: \n",
      "0.904874835309618\n",
      "\n"
     ]
    }
   ],
   "source": [
    "param_test26 = {\n",
    "    'reg_alpha':[0, 1e-5, 1e-2, 0.1, 1, 100]\n",
    "}\n",
    "\n",
    "gsearch26 = GridSearchCV(estimator = XGBClassifier(learning_rate=0.05, \n",
    "                                                  n_estimators=140, \n",
    "                                                  max_depth=7,\n",
    "                                                  min_child_weight=5, \n",
    "                                                  gamma=0, \n",
    "                                                  subsample=0.9, \n",
    "                                                  colsample_bytree=0.7,\n",
    "                                                  objective= 'binary:logistic',  \n",
    "                                                  scale_pos_weight=1), \n",
    "                        param_grid = param_test26, \n",
    "                        scoring='roc_auc',\n",
    "                        n_jobs=4, \n",
    "                        cv=5)\n",
    "\n",
    "gsearch26.fit(X_train,y_train)\n",
    "\n",
    "# sonuclar\n",
    "#print(\"Grid scores: \\n\")\n",
    "#display(pd.DataFrame(gsearch6.cv_results_))\n",
    "print(\"Best params: \\n{}\\n\".format(gsearch26.best_params_))\n",
    "print(\"Best cross-validation score: \\n{}\\n\".format(gsearch26.best_score_))\n",
    "print(\"Test-set score: \\n{}\\n\".format(gsearch26.score(X_test, y_test)))"
   ]
  },
  {
   "cell_type": "markdown",
   "metadata": {},
   "source": [
    "- Birinci adimda genis adimlarla aram yapildi buradaki sonuca gore ikinci adimda daha sik adimlarla fine-grained arama yapilir.\n",
    "- Alpha default deger 0 ciktiysa regualarizasyona gerek yoktur."
   ]
  },
  {
   "cell_type": "code",
   "execution_count": 31,
   "metadata": {},
   "outputs": [
    {
     "data": {
      "text/plain": [
       "array([0.e+00, 2.e-06, 4.e-06, 6.e-06, 8.e-06, 1.e-05])"
      ]
     },
     "execution_count": 31,
     "metadata": {},
     "output_type": "execute_result"
    }
   ],
   "source": [
    "np.arange(0.0, 0.000012, 0.000002)"
   ]
  },
  {
   "cell_type": "code",
   "execution_count": 32,
   "metadata": {},
   "outputs": [
    {
     "name": "stdout",
     "output_type": "stream",
     "text": [
      "Best params: \n",
      "{'reg_alpha': 0.0}\n",
      "\n",
      "Best cross-validation score: \n",
      "0.8780353165933104\n",
      "\n",
      "Test-set score: \n",
      "0.904874835309618\n",
      "\n"
     ]
    }
   ],
   "source": [
    "# optional\n",
    "param_test27 = {\n",
    "    'reg_alpha': np.arange(0.0, 0.000012, 0.000002)\n",
    "}\n",
    "\n",
    "gsearch27 = GridSearchCV(estimator = XGBClassifier(learning_rate=0.05, \n",
    "                                                  n_estimators=140, \n",
    "                                                  max_depth=7,\n",
    "                                                  min_child_weight=5, \n",
    "                                                  gamma=0, \n",
    "                                                  subsample=0.9, \n",
    "                                                  colsample_bytree=0.7,\n",
    "                                                  objective= 'binary:logistic', \n",
    "                                                  scale_pos_weight=1), \n",
    "                        param_grid = param_test27, \n",
    "                        scoring='roc_auc',\n",
    "                        n_jobs=4, \n",
    "                        cv=5)\n",
    "\n",
    "gsearch27.fit(X_train,y_train)\n",
    "\n",
    "# sonuclar\n",
    "#print(\"Grid scores: \\n\")\n",
    "\n",
    "#display(pd.DataFrame(gsearch7.cv_results_))\n",
    "print(\"Best params: \\n{}\\n\".format(gsearch27.best_params_))\n",
    "print(\"Best cross-validation score: \\n{}\\n\".format(gsearch27.best_score_))\n",
    "print(\"Test-set score: \\n{}\\n\".format(gsearch27.score(X_test, y_test)))"
   ]
  },
  {
   "cell_type": "markdown",
   "metadata": {},
   "source": [
    "- ```reg_lambda``` icin de ayni adimlar tekrar edilebilir.\n",
    "- Default deger: ```reg_lambda:1```"
   ]
  },
  {
   "cell_type": "code",
   "execution_count": 33,
   "metadata": {},
   "outputs": [
    {
     "name": "stdout",
     "output_type": "stream",
     "text": [
      "Best params: \n",
      "{'reg_lambda': 0}\n",
      "\n",
      "Best cross-validation score: \n",
      "0.8787109337893038\n",
      "\n",
      "Test-set score: \n",
      "0.907905138339921\n",
      "\n"
     ]
    }
   ],
   "source": [
    "param_test28 = {\n",
    "    'reg_lambda':[0, 1e-5, 1e-2, 0.1, 1, 100]\n",
    "}\n",
    "\n",
    "gsearch28 = GridSearchCV(estimator = XGBClassifier(learning_rate =0.05, \n",
    "                                                  n_estimators=140, \n",
    "                                                  max_depth=7,\n",
    "                                                  min_child_weight=5, \n",
    "                                                  gamma=0, \n",
    "                                                  subsample=0.9, \n",
    "                                                  colsample_bytree=0.7,\n",
    "                                                  reg_alpha=0,\n",
    "                                                  objective= 'binary:logistic', \n",
    "                                                  scale_pos_weight=1), \n",
    "                        param_grid = param_test28, \n",
    "                        scoring='roc_auc',\n",
    "                        n_jobs=4, \n",
    "                        cv=5)\n",
    "\n",
    "gsearch28.fit(X_train,y_train)\n",
    "\n",
    "# sonuclar\n",
    "#print(\"Grid scores: \\n\")\n",
    "#display(pd.DataFrame(gsearch8.cv_results_))\n",
    "print(\"Best params: \\n{}\\n\".format(gsearch28.best_params_))\n",
    "print(\"Best cross-validation score: \\n{}\\n\".format(gsearch28.best_score_))\n",
    "print(\"Test-set score: \\n{}\\n\".format(gsearch28.score(X_test, y_test)))"
   ]
  },
  {
   "cell_type": "markdown",
   "metadata": {},
   "source": [
    "- CV skorunda gelisme varsa parametre secilir yoksa secilmez. \n",
    "- Sonucta secilen parametrelerle tekrar model xgboost.cv ile test edilirek yeni eklenen parametrelerin etkisi gozlenir."
   ]
  },
  {
   "cell_type": "code",
   "execution_count": 71,
   "metadata": {},
   "outputs": [
    {
     "name": "stdout",
     "output_type": "stream",
     "text": [
      "{'objective': 'binary:logistic', 'base_score': None, 'booster': None, 'colsample_bylevel': None, 'colsample_bynode': None, 'colsample_bytree': 0.7, 'gamma': 0, 'gpu_id': None, 'importance_type': 'gain', 'interaction_constraints': None, 'learning_rate': 0.05, 'max_delta_step': None, 'max_depth': 7, 'min_child_weight': 5, 'missing': nan, 'monotone_constraints': None, 'n_estimators': 1000, 'n_jobs': None, 'num_parallel_tree': None, 'random_state': None, 'reg_alpha': 0, 'reg_lambda': 0, 'scale_pos_weight': 1, 'subsample': 0.9, 'tree_method': None, 'validate_parameters': False, 'verbosity': None}\n",
      "\n",
      "Best iteration   : 242\n",
      "\n",
      "CV train mean for last iteration(auc) : 0.959699\n",
      "\n",
      "CV test mean for last iteration(auc)  : 0.880879\n"
     ]
    }
   ],
   "source": [
    "xgb23 = XGBClassifier(\n",
    "    learning_rate=0.05,\n",
    "    n_estimators=1000,\n",
    "    max_depth=7,\n",
    "    min_child_weight=5,\n",
    "    gamma=0,\n",
    "    subsample=0.9,\n",
    "    colsample_bytree=0.7,\n",
    "    reg_alpha=0,\n",
    "    reg_lambda=0,\n",
    "    objective='binary:logistic',\n",
    "    scale_pos_weight=1)\n",
    "cv_23 = modelfit(xgb23, X_train, X_test, y_train, y_test)"
   ]
  },
  {
   "cell_type": "code",
   "execution_count": 72,
   "metadata": {},
   "outputs": [
    {
     "name": "stdout",
     "output_type": "stream",
     "text": [
      "\n",
      "CV results comparison for different learning rate\n",
      "\n",
      "\n",
      "model 2.3 (initial learning rate=0.05)\n",
      "\n",
      "Cv train auc score for last iteration :  0.9596988000000002\n",
      "Cv test auc score for last iteration  :  0.8808788\n",
      "\n",
      "model 1.3(initial learning rate=0.1)\n",
      "\n",
      "Cv train auc score for last iteration :  0.9420124\n",
      "Cv test auc score for last iteration  :  0.8805339999999999\n"
     ]
    }
   ],
   "source": [
    "# farkli learning rate parametresine gore model karsilastirmasi\n",
    "print('\\nCV results comparison for different learning rate\\n')\n",
    "print('\\nmodel 2.3 (initial learning rate=0.05)\\n')\n",
    "print('Cv train auc score for last iteration : ',cv_23['train-auc-mean'].iloc[-1])\n",
    "print('Cv test auc score for last iteration  : ',cv_23['test-auc-mean'].iloc[-1])\n",
    "print('\\nmodel 1.3(initial learning rate=0.1)\\n')\n",
    "print('Cv train auc score for last iteration : ',cv_13['train-auc-mean'].iloc[-1])\n",
    "print('Cv test auc score for last iteration  : ',cv_13['test-auc-mean'].iloc[-1])"
   ]
  },
  {
   "cell_type": "markdown",
   "metadata": {},
   "source": [
    "### ***6. Reducing Learning Rate***\n",
    "- Son olarak secilen parametrelerle learning_rate azaltilarak agac sayisi artirilir ve modelin genellestirme ozelligi maksimum duzeye cikarilmaya calisilir."
   ]
  },
  {
   "cell_type": "code",
   "execution_count": 73,
   "metadata": {},
   "outputs": [
    {
     "name": "stdout",
     "output_type": "stream",
     "text": [
      "{'objective': 'binary:logistic', 'base_score': None, 'booster': None, 'colsample_bylevel': None, 'colsample_bynode': None, 'colsample_bytree': 0.7, 'gamma': 0, 'gpu_id': None, 'importance_type': 'gain', 'interaction_constraints': None, 'learning_rate': 0.03, 'max_delta_step': None, 'max_depth': 7, 'min_child_weight': 5, 'missing': nan, 'monotone_constraints': None, 'n_estimators': 1000, 'n_jobs': None, 'num_parallel_tree': None, 'random_state': None, 'reg_alpha': 0, 'reg_lambda': 0, 'scale_pos_weight': 1, 'subsample': 0.9, 'tree_method': None, 'validate_parameters': False, 'verbosity': None}\n",
      "\n",
      "Best iteration   : 303\n",
      "\n",
      "CV train mean for last iteration(auc) : 0.953272\n",
      "\n",
      "CV test mean for last iteration(auc)  : 0.881467\n"
     ]
    }
   ],
   "source": [
    "xgb24 = XGBClassifier(\n",
    "    learning_rate=0.03,\n",
    "    n_estimators=1000,\n",
    "    max_depth=7,\n",
    "    min_child_weight=5,\n",
    "    gamma=0,\n",
    "    subsample=0.9,\n",
    "    colsample_bytree=0.7,\n",
    "    reg_alpha=0,\n",
    "    reg_lambda=0,\n",
    "    objective='binary:logistic',\n",
    "    scale_pos_weight=1)\n",
    "cv_24 = modelfit(xgb24, X_train, X_test, y_train, y_test)"
   ]
  },
  {
   "cell_type": "code",
   "execution_count": 76,
   "metadata": {},
   "outputs": [
    {
     "name": "stdout",
     "output_type": "stream",
     "text": [
      "\n",
      "CV results comparison for different learning rate\n",
      "\n",
      "\n",
      "model 2.4 (initial learning rate=0.05)\n",
      "\n",
      "Cv train auc score for last iteration :  0.9532716000000001\n",
      "Cv test auc score for last iteration  :  0.8814666000000001\n",
      "\n",
      "model 1.4(initial learning rate=0.1)\n",
      "\n",
      "Cv train auc score for last iteration :  0.9532716000000001\n",
      "Cv test auc score for last iteration  :  0.8814666000000001\n"
     ]
    }
   ],
   "source": [
    "# farkli learning rate parametresine gore model karsilastirmasi\n",
    "print('\\nCV results comparison for different learning rate\\n')\n",
    "print('\\nmodel 2.4 (initial learning rate=0.05)\\n')\n",
    "print('Cv train auc score for last iteration : ',cv_24['train-auc-mean'].iloc[-1])\n",
    "print('Cv test auc score for last iteration  : ',cv_24['test-auc-mean'].iloc[-1])\n",
    "print('\\nmodel 1.4(initial learning rate=0.1)\\n')\n",
    "print('Cv train auc score for last iteration : ',cv_14['train-auc-mean'].iloc[-1])\n",
    "print('Cv test auc score for last iteration  : ',cv_14['test-auc-mean'].iloc[-1])"
   ]
  },
  {
   "cell_type": "markdown",
   "metadata": {},
   "source": [
    "#### ***Sonuc***"
   ]
  },
  {
   "cell_type": "markdown",
   "metadata": {},
   "source": [
    "- ***Overfitting*** learning_rate=0.1 secildigi durumda model test-train skor farki biraz daha az yani overfitting daha az oldugu gozlendi.\n",
    "\n",
    "- ***Learning rate*** azaltildiginda iki model de esit performans gosterdi ve iterasyon sayisi cok artti.\n"
   ]
  },
  {
   "cell_type": "code",
   "execution_count": 84,
   "metadata": {},
   "outputs": [
    {
     "name": "stdout",
     "output_type": "stream",
     "text": [
      "\n",
      "CV results comparison for different models\n",
      "\n",
      "model 1\n",
      "Cv best iteration :  17\n",
      "Cv train auc score for last iteration :  0.9569905999999999\n",
      "Cv test auc score for last iteration  :  0.8781722000000001\n",
      "Cv diff auc score for last iteration  :  0.07881839999999984\n",
      "\n",
      "model 2\n",
      "Cv best iteration :  61\n",
      "Cv train auc score for last iteration :  0.969205\n",
      "Cv test auc score for last iteration  :  0.8774908\n",
      "Cv diff auc score for last iteration  :  0.09171419999999997\n",
      "\n",
      "model 3\n",
      "Cv best iteration :  62\n",
      "Cv train auc score for last iteration :  0.9694536000000001\n",
      "Cv test auc score for last iteration  :  0.8798381999999998\n",
      "Cv diff auc score for last iteration  :  0.08961540000000034\n",
      "\n",
      "model 4\n",
      "Cv best iteration :  56\n",
      "Cv train auc score for last iteration :  0.9420124\n",
      "Cv test auc score for last iteration  :  0.8805339999999999\n",
      "Cv diff auc score for last iteration  :  0.061478400000000044\n",
      "\n",
      "model 5\n",
      "Cv best iteration :  303\n",
      "Cv train auc score for last iteration :  0.9532716000000001\n",
      "Cv test auc score for last iteration  :  0.8814666000000001\n",
      "Cv diff auc score for last iteration  :  0.07180500000000001\n",
      "\n",
      "model 6\n",
      "Cv best iteration :  131\n",
      "Cv train auc score for last iteration :  0.975174\n",
      "Cv test auc score for last iteration  :  0.8686564000000001\n",
      "Cv diff auc score for last iteration  :  0.10651759999999988\n",
      "\n",
      "model 7\n",
      "Cv best iteration :  140\n",
      "Cv train auc score for last iteration :  0.9494344000000001\n",
      "Cv test auc score for last iteration  :  0.8755472000000001\n",
      "Cv diff auc score for last iteration  :  0.07388720000000004\n",
      "\n",
      "model 8\n",
      "Cv best iteration :  242\n",
      "Cv train auc score for last iteration :  0.9596988000000002\n",
      "Cv test auc score for last iteration  :  0.8808788\n",
      "Cv diff auc score for last iteration  :  0.07882000000000022\n",
      "\n",
      "model 9\n",
      "Cv best iteration :  303\n",
      "Cv train auc score for last iteration :  0.9532716000000001\n",
      "Cv test auc score for last iteration  :  0.8814666000000001\n",
      "Cv diff auc score for last iteration  :  0.07180500000000001\n"
     ]
    }
   ],
   "source": [
    "# model karsilastirmalari\n",
    "print('\\nCV results comparison for different models')\n",
    "i = 1\n",
    "for cv in [cv_cl, cv_11, cv_12, cv_13, cv_14, cv_21, cv_22, cv_23, cv_24]:\n",
    "    print('\\nmodel ' + str(i))\n",
    "    print('Cv best iteration : ',cv.shape[0])\n",
    "    print('Cv train auc score for last iteration : ',cv['train-auc-mean'].iloc[-1])\n",
    "    print('Cv test auc score for last iteration  : ',cv['test-auc-mean'].iloc[-1])\n",
    "    print('Cv diff auc score for last iteration  : ',\n",
    "          cv['train-auc-mean'].iloc[-1]-cv['test-auc-mean'].iloc[-1])\n",
    "    i+=1"
   ]
  },
  {
   "cell_type": "markdown",
   "metadata": {},
   "source": [
    "- En iyi tahmin modeli overfitting ve iterasyon sayisinin az oldugu model 4 yani cv_13 degiskenini olusturan model secilebilir."
   ]
  },
  {
   "cell_type": "code",
   "execution_count": 85,
   "metadata": {},
   "outputs": [
    {
     "name": "stdout",
     "output_type": "stream",
     "text": [
      "{'objective': 'binary:logistic', 'base_score': None, 'booster': None, 'colsample_bylevel': None, 'colsample_bynode': None, 'colsample_bytree': 0.55, 'gamma': 0.2, 'gpu_id': None, 'importance_type': 'gain', 'interaction_constraints': None, 'learning_rate': 0.1, 'max_delta_step': None, 'max_depth': 8, 'min_child_weight': 2, 'missing': nan, 'monotone_constraints': None, 'n_estimators': 1000, 'n_jobs': None, 'num_parallel_tree': None, 'random_state': None, 'reg_alpha': 0, 'reg_lambda': 1, 'scale_pos_weight': 1, 'subsample': 0.55, 'tree_method': None, 'validate_parameters': False, 'verbosity': None}\n",
      "\n",
      "Best iteration   : 56\n",
      "\n",
      "CV train mean for last iteration(auc) : 0.942012\n",
      "\n",
      "CV test mean for last iteration(auc)  : 0.880534\n"
     ]
    }
   ],
   "source": [
    "xgb13 = XGBClassifier(\n",
    "    learning_rate=0.1,\n",
    "    n_estimators=1000,\n",
    "    max_depth=8,\n",
    "    min_child_weight=2,\n",
    "    gamma=0.2,\n",
    "    subsample=0.55,\n",
    "    colsample_bytree=0.55,\n",
    "    reg_alpha=0,\n",
    "    reg_lambda=1,\n",
    "    objective='binary:logistic',\n",
    "    scale_pos_weight=1)\n",
    "cv_13 = modelfit(xgb13, X_train, X_test, y_train, y_test)"
   ]
  },
  {
   "cell_type": "markdown",
   "metadata": {},
   "source": [
    "---\n",
    "### ***Iterasyon sayisi tespitinde farkli yontemler***\n",
    "#### ***Grafiksel gosterim***\n",
    "- Iterasyon sayisini tespitinde modelimizin fit metoduna eval_set ve eval_metric parametreleri tanimlayarak ve validasyon skorlarinin grafigini cizdirerek de yapabiliriz.\n",
    "- Ancak buradaki skorlar cv yapilmamais skorlar oldugundan bize dogru sonuclari vermeyebilir."
   ]
  },
  {
   "cell_type": "code",
   "execution_count": 149,
   "metadata": {},
   "outputs": [],
   "source": [
    "from matplotlib import pyplot as plt\n",
    "def plot_train_test_score(model, eval_plot='error'):\n",
    "    eval_set = [(X_train, y_train), (X_test, y_test)]\n",
    "    eval_metric = [\"auc\",\"error\"]\n",
    "    model.fit(X_train, y_train, eval_metric=eval_metric, eval_set=eval_set, verbose=False)\n",
    "    # Evaluation results\n",
    "    evaluation_results = model.evals_result()\n",
    "    train_scores = evaluation_results['validation_0'][eval_plot] # Train ‘error’ metric\n",
    "    test_scores = evaluation_results['validation_1'][eval_plot] # Test ‘error’ metric\n",
    "    scores_diff = []\n",
    "    # error olursa test error buyuk olacagindan test-train hesaplanir\n",
    "    if eval_plot=='error':\n",
    "        for i, _ in enumerate(test_scores):\n",
    "            scores_diff.append(test_scores[i]-train_scores[i])\n",
    "        # Plotting\n",
    "        plt.figure(figsize=(15,8))\n",
    "        plt.plot(train_scores)\n",
    "        plt.plot(test_scores)\n",
    "        plt.plot(scores_diff)\n",
    "        plt.xlabel('# of trees (n_estimators)')\n",
    "        plt.ylabel(eval_plot)\n",
    "        plt.legend(['Train', 'Test', 'Overfit'])\n",
    "        plt.title('XGBoost Classification ' + eval_plot + ' scores')\n",
    "        plt.show()\n",
    "    else:\n",
    "        for i, _ in enumerate(test_scores):\n",
    "            scores_diff.append(train_scores[i]-test_scores[i])   \n",
    "        # Plotting\n",
    "        plt.figure(figsize=(24,8))\n",
    "        \n",
    "        plt.subplot(121)\n",
    "        plt.plot(train_scores)\n",
    "        plt.plot(test_scores)\n",
    "        plt.xlabel('# of trees (n_estimators)')\n",
    "        plt.ylabel(eval_plot)\n",
    "        plt.legend(['Train', 'Test'])\n",
    "        plt.title('XGBoost Classification ' + eval_plot + ' scores')\n",
    "        \n",
    "        plt.subplot(122)\n",
    "        plt.plot(scores_diff)\n",
    "        plt.xlabel('# of trees (n_estimators)')\n",
    "        plt.ylabel(eval_plot)\n",
    "        plt.legend(['Overfit'])\n",
    "        plt.title('XGBoost Classification ' + eval_plot + ' overfit')\n",
    "        plt.show()\n",
    "    \n",
    "\n",
    "    return train_scores, test_scores, scores_diff"
   ]
  },
  {
   "cell_type": "code",
   "execution_count": 150,
   "metadata": {},
   "outputs": [
    {
     "data": {
      "image/png": "[encoded data removed]",
      "text/plain": [
       "<Figure size 1728x576 with 2 Axes>"
      ]
     },
     "metadata": {
      "needs_background": "light"
     },
     "output_type": "display_data"
    }
   ],
   "source": [
    "model1 = XGBClassifier(silent=False, \n",
    "                      scale_pos_weight=1,\n",
    "                      learning_rate=0.01,  \n",
    "                      colsample_bytree = 0.4,\n",
    "                      subsample = 0.8,\n",
    "                      objective='binary:logistic', \n",
    "                      n_estimators=1000,                       \n",
    "                      reg_alpha = 0.3,\n",
    "                      max_depth=4, \n",
    "                      gamma=10)\n",
    "train_scores, test_scores, scores_diff = plot_train_test_score(model1, eval_plot='auc')"
   ]
  },
  {
   "cell_type": "code",
   "execution_count": 151,
   "metadata": {},
   "outputs": [
    {
     "data": {
      "image/png": "[encoded data removed]",
      "text/plain": [
       "<Figure size 1728x576 with 2 Axes>"
      ]
     },
     "metadata": {
      "needs_background": "light"
     },
     "output_type": "display_data"
    }
   ],
   "source": [
    "xgb13 = XGBClassifier(\n",
    "    learning_rate=0.1,\n",
    "    n_estimators=1000,\n",
    "    max_depth=8,\n",
    "    min_child_weight=2,\n",
    "    gamma=0.2,\n",
    "    subsample=0.55,\n",
    "    colsample_bytree=0.55,\n",
    "    reg_alpha=0,\n",
    "    reg_lambda=1,\n",
    "    objective='binary:logistic',\n",
    "    scale_pos_weight=1)\n",
    "train_scores, test_scores, scores_diff = plot_train_test_score(xgb13, eval_plot='auc')"
   ]
  },
  {
   "cell_type": "markdown",
   "metadata": {},
   "source": [
    "#### ***early stopping parametresi kullanilarak model olusturma***\n",
    "- early stopping parametresini kullanabilmek icin eval set ve eval metric belirlemek gerekiyor"
   ]
  },
  {
   "cell_type": "code",
   "execution_count": 139,
   "metadata": {},
   "outputs": [
    {
     "data": {
      "text/plain": [
       "XGBClassifier(base_score=0.5, booster=None, colsample_bylevel=1,\n",
       "              colsample_bynode=1, colsample_bytree=0.55, gamma=0.2, gpu_id=-1,\n",
       "              importance_type='gain', interaction_constraints=None,\n",
       "              learning_rate=0.1, max_delta_step=0, max_depth=8,\n",
       "              min_child_weight=2, missing=nan, monotone_constraints=None,\n",
       "              n_estimators=1000, n_jobs=0, num_parallel_tree=1,\n",
       "              objective='binary:logistic', random_state=0, reg_alpha=0,\n",
       "              reg_lambda=1, scale_pos_weight=1, subsample=0.55,\n",
       "              tree_method=None, validate_parameters=False, verbosity=None)"
      ]
     },
     "execution_count": 139,
     "metadata": {},
     "output_type": "execute_result"
    }
   ],
   "source": [
    "# early stoppping parametresi kullanilarak model olusturma\n",
    "xgb13_early_stop = XGBClassifier(\n",
    "    learning_rate=0.1,\n",
    "    n_estimators=1000,\n",
    "    max_depth=8,\n",
    "    min_child_weight=2,\n",
    "    gamma=0.2,\n",
    "    subsample=0.55,\n",
    "    colsample_bytree=0.55,\n",
    "    reg_alpha=0,\n",
    "    reg_lambda=1,\n",
    "    objective='binary:logistic',\n",
    "    scale_pos_weight=1)\n",
    "\n",
    "# eval set ve eval metric belirlemek gerekiyor \n",
    "eval_set = [(X_train, y_train), (X_test, y_test)]\n",
    "eval_metric = [\"auc\"]\n",
    "xgb13_early_stop.fit(X_train, y_train, \n",
    "                     eval_metric=eval_metric, eval_set=eval_set, \n",
    "                     early_stopping_rounds=50, verbose=False)"
   ]
  },
  {
   "cell_type": "code",
   "execution_count": 140,
   "metadata": {},
   "outputs": [
    {
     "data": {
      "text/plain": [
       "75"
      ]
     },
     "execution_count": 140,
     "metadata": {},
     "output_type": "execute_result"
    }
   ],
   "source": [
    "xgb13_early_stop.best_iteration"
   ]
  },
  {
   "cell_type": "markdown",
   "metadata": {},
   "source": [
    "- Bu model icin xgboost.cv yontemiyle iterasyon sayisini 56 bulmustuk. Burada cv yapilmadigindan sonuc farli cikti.\n",
    "- Bu yontemde yine cv yapilmadigindan bulunan degerler guvenilir olmaz."
   ]
  },
  {
   "cell_type": "markdown",
   "metadata": {},
   "source": [
    "---\n",
    "### ***Iterasyon sayisi tespitinde xgboost.cv skorlarinin grafik incelemesi***\n",
    "- Optimum num_boost_rounds tespit etmede en tutarli sonuclar cv skorlarini gorebildigimiz grafikte olacaktir."
   ]
  },
  {
   "cell_type": "code",
   "execution_count": 155,
   "metadata": {},
   "outputs": [],
   "source": [
    "# early stoppping parametresi kullanilarak model olusturma\n",
    "xgb_model = XGBClassifier(\n",
    "    learning_rate=0.1,\n",
    "    n_estimators=1000,\n",
    "    max_depth=8,\n",
    "    min_child_weight=2,\n",
    "    gamma=0.2,\n",
    "    subsample=0.55,\n",
    "    colsample_bytree=0.55,\n",
    "    reg_alpha=0,\n",
    "    reg_lambda=1,\n",
    "    objective='binary:logistic',\n",
    "    scale_pos_weight=1)"
   ]
  },
  {
   "cell_type": "code",
   "execution_count": 196,
   "metadata": {},
   "outputs": [],
   "source": [
    "import plotly.express as px\n",
    "# xgboost built in cv sayesinde optimum boost round sayisini yani agac sayisini tespit eder\n",
    "# cv sonuclarinin grafigini plotlar\n",
    "# birinci parametre olarak scikit learn api sinden bir model (XGBClassifier gibi) alir\n",
    "def plot_cv_results(model, X_train, X_test, y_train, y_test, metrics='auc',\n",
    "                    cv_folds=5, early_stopping_rounds=50, verbose=False):\n",
    "    #print(alg.get_xgb_params())\n",
    "    xgb_params = model.get_xgb_params()\n",
    "    xgtrain = xgb.DMatrix(X_train, label=y_train)\n",
    "    cvresult = xgb.cv(xgb_params, xgtrain, num_boost_round=model.get_params()['n_estimators'], \n",
    "                      nfold=cv_folds, metrics=metrics, \n",
    "                      early_stopping_rounds=early_stopping_rounds, verbose_eval=verbose)\n",
    "    \n",
    "    # bizi ilgilendiren iterasyon sayisi ve son iterasyonun cv skorlari\n",
    "    print('\\nbest iteration   : {}'.format(cvresult.shape[0]))\n",
    "    print('\\ncv train {} mean for last iteration : {:.6f}'.format(\n",
    "        metrics, cvresult['train-'+metrics+'-mean'].iloc[-1]))\n",
    "    print('\\ncv test {} mean for last iteration(auc)  : {:.6f}'.format(\n",
    "        metrics, cvresult['test-'+metrics+'-mean'].iloc[-1]))\n",
    "    \n",
    "    # grafik cizimi\n",
    "    df = cvresult\n",
    "    # metrik error ise test degerinden train degerini cikar\n",
    "    if metrics == 'error':\n",
    "        df['train_test_diff (overfit)'] = df['test-'+metrics+'-mean']-df['train-'+metrics+'-mean']\n",
    "    else:\n",
    "        df['train_test_diff (overfit)'] = df['train-'+metrics+'-mean']-df['test-'+metrics+'-mean']\n",
    "    df['num_of_rounds']=df.index+1\n",
    "    fig = px.scatter(df, x='num_of_rounds', y='test-'+metrics+'-mean', \n",
    "                     color='train_test_diff (overfit)', \n",
    "                     title='cv '+metrics+' scores overfit inspection graphs')\n",
    "    fig.show()\n",
    "    fig = px.scatter(df, x='num_of_rounds', y='train_test_diff (overfit)', \n",
    "                     color='test-'+metrics+'-mean')\n",
    "    fig.show()\n",
    "    \n",
    "    return cvresult"
   ]
  },
  {
   "cell_type": "code",
   "execution_count": 197,
   "metadata": {},
   "outputs": [
    {
     "name": "stdout",
     "output_type": "stream",
     "text": [
      "\n",
      "best iteration   : 56\n",
      "\n",
      "cv train auc mean for last iteration : 0.942012\n",
      "\n",
      "cv test auc mean for last iteration(auc)  : 0.880534\n"
     ]
    },
    {
     "data": {
      "application/vnd.plotly.v1+json": {
       "config": {
        "plotlyServerURL": "https://plot.ly"
       },
       "data": [
        {
         "hovertemplate": "num_of_rounds=%{x}<br>test-auc-mean=%{y}<br>train_test_diff (overfit)=%{marker.color}<extra></extra>",
         "legendgroup": "",
         "marker": {
          "color": [
           0.013637800000000255,
           0.021922199999999892,
           0.01756779999999991,
           0.020739199999999847,
           0.02748879999999987,
           0.03300780000000003,
           0.0333121999999999,
           0.03618239999999995,
           0.03474139999999981,
           0.037005399999999966,
           0.0418130000000001,
           0.03979739999999998,
           0.04246899999999998,
           0.044203800000000015,
           0.04565139999999979,
           0.047782199999999886,
           0.046551599999999915,
           0.0483846,
           0.049362399999999806,
           0.04797419999999997,
           0.04697140000000011,
           0.04632120000000006,
           0.04601040000000001,
           0.049184000000000005,
           0.04822179999999987,
           0.04864360000000012,
           0.0478364,
           0.05001840000000013,
           0.051602600000000054,
           0.051276200000000105,
           0.051893999999999996,
           0.05367040000000012,
           0.054656999999999956,
           0.055289000000000144,
           0.055627399999999994,
           0.0549483999999999,
           0.05596879999999993,
           0.056756600000000046,
           0.05706779999999989,
           0.05880399999999997,
           0.05917300000000025,
           0.059836400000000234,
           0.061659199999999914,
           0.06171159999999998,
           0.06268419999999997,
           0.06279859999999993,
           0.0631872,
           0.06192160000000013,
           0.06126600000000004,
           0.061353599999999786,
           0.06236860000000011,
           0.06269380000000024,
           0.06341160000000001,
           0.06287140000000013,
           0.06254340000000003,
           0.061478400000000044
          ],
          "coloraxis": "coloraxis",
          "symbol": "circle"
         },
         "mode": "markers",
         "name": "",
         "showlegend": false,
         "type": "scatter",
         "x": [
          1,
          2,
          3,
          4,
          5,
          6,
          7,
          8,
          9,
          10,
          11,
          12,
          13,
          14,
          15,
          16,
          17,
          18,
          19,
          20,
          21,
          22,
          23,
          24,
          25,
          26,
          27,
          28,
          29,
          30,
          31,
          32,
          33,
          34,
          35,
          36,
          37,
          38,
          39,
          40,
          41,
          42,
          43,
          44,
          45,
          46,
          47,
          48,
          49,
          50,
          51,
          52,
          53,
          54,
          55,
          56
         ],
         "xaxis": "x",
         "y": [
          0.8392031999999998,
          0.8389584000000001,
          0.8591612,
          0.8587742,
          0.855241,
          0.8574486,
          0.8566246,
          0.8575598,
          0.8609294000000001,
          0.8609092,
          0.8595868,
          0.8643822,
          0.8647012000000001,
          0.8648776,
          0.8635416000000001,
          0.8630720000000001,
          0.865499,
          0.86554,
          0.8660370000000001,
          0.8688848,
          0.8715131999999999,
          0.8734335999999999,
          0.8755664000000001,
          0.8740631999999999,
          0.8749800000000001,
          0.8750252,
          0.8761414000000001,
          0.8751713999999999,
          0.8746684,
          0.874953,
          0.875625,
          0.8748989999999999,
          0.874909,
          0.8749908,
          0.8750242,
          0.8763026,
          0.8765014000000001,
          0.8763922,
          0.8764486,
          0.8754094,
          0.8754761999999999,
          0.8757522,
          0.8743398000000001,
          0.8747486,
          0.874657,
          0.8750796,
          0.8754072,
          0.8771015999999999,
          0.878374,
          0.8784600000000001,
          0.8783027999999999,
          0.8783145999999998,
          0.8778736,
          0.8785605999999999,
          0.8793708,
          0.8805339999999999
         ],
         "yaxis": "y"
        }
       ],
       "layout": {
        "autosize": true,
        "coloraxis": {
         "colorbar": {
          "title": {
           "text": "train_test_diff (overfit)"
          }
         },
         "colorscale": [
          [
           0,
           "#0d0887"
          ],
          [
           0.1111111111111111,
           "#46039f"
          ],
          [
           0.2222222222222222,
           "#7201a8"
          ],
          [
           0.3333333333333333,
           "#9c179e"
          ],
          [
           0.4444444444444444,
           "#bd3786"
          ],
          [
           0.5555555555555556,
           "#d8576b"
          ],
          [
           0.6666666666666666,
           "#ed7953"
          ],
          [
           0.7777777777777778,
           "#fb9f3a"
          ],
          [
           0.8888888888888888,
           "#fdca26"
          ],
          [
           1,
           "#f0f921"
          ]
         ]
        },
        "legend": {
         "tracegroupgap": 0
        },
        "template": {
         "data": {
          "bar": [
           {
            "error_x": {
             "color": "#2a3f5f"
            },
            "error_y": {
             "color": "#2a3f5f"
            },
            "marker": {
             "line": {
              "color": "#E5ECF6",
              "width": 0.5
             }
            },
            "type": "bar"
           }
          ],
          "barpolar": [
           {
            "marker": {
             "line": {
              "color": "#E5ECF6",
              "width": 0.5
             }
            },
            "type": "barpolar"
           }
          ],
          "carpet": [
           {
            "aaxis": {
             "endlinecolor": "#2a3f5f",
             "gridcolor": "white",
             "linecolor": "white",
             "minorgridcolor": "white",
             "startlinecolor": "#2a3f5f"
            },
            "baxis": {
             "endlinecolor": "#2a3f5f",
             "gridcolor": "white",
             "linecolor": "white",
             "minorgridcolor": "white",
             "startlinecolor": "#2a3f5f"
            },
            "type": "carpet"
           }
          ],
          "choropleth": [
           {
            "colorbar": {
             "outlinewidth": 0,
             "ticks": ""
            },
            "type": "choropleth"
           }
          ],
          "contour": [
           {
            "colorbar": {
             "outlinewidth": 0,
             "ticks": ""
            },
            "colorscale": [
             [
              0,
              "#0d0887"
             ],
             [
              0.1111111111111111,
              "#46039f"
             ],
             [
              0.2222222222222222,
              "#7201a8"
             ],
             [
              0.3333333333333333,
              "#9c179e"
             ],
             [
              0.4444444444444444,
              "#bd3786"
             ],
             [
              0.5555555555555556,
              "#d8576b"
             ],
             [
              0.6666666666666666,
              "#ed7953"
             ],
             [
              0.7777777777777778,
              "#fb9f3a"
             ],
             [
              0.8888888888888888,
              "#fdca26"
             ],
             [
              1,
              "#f0f921"
             ]
            ],
            "type": "contour"
           }
          ],
          "contourcarpet": [
           {
            "colorbar": {
             "outlinewidth": 0,
             "ticks": ""
            },
            "type": "contourcarpet"
           }
          ],
          "heatmap": [
           {
            "colorbar": {
             "outlinewidth": 0,
             "ticks": ""
            },
            "colorscale": [
             [
              0,
              "#0d0887"
             ],
             [
              0.1111111111111111,
              "#46039f"
             ],
             [
              0.2222222222222222,
              "#7201a8"
             ],
             [
              0.3333333333333333,
              "#9c179e"
             ],
             [
              0.4444444444444444,
              "#bd3786"
             ],
             [
              0.5555555555555556,
              "#d8576b"
             ],
             [
              0.6666666666666666,
              "#ed7953"
             ],
             [
              0.7777777777777778,
              "#fb9f3a"
             ],
             [
              0.8888888888888888,
              "#fdca26"
             ],
             [
              1,
              "#f0f921"
             ]
            ],
            "type": "heatmap"
           }
          ],
          "heatmapgl": [
           {
            "colorbar": {
             "outlinewidth": 0,
             "ticks": ""
            },
            "colorscale": [
             [
              0,
              "#0d0887"
             ],
             [
              0.1111111111111111,
              "#46039f"
             ],
             [
              0.2222222222222222,
              "#7201a8"
             ],
             [
              0.3333333333333333,
              "#9c179e"
             ],
             [
              0.4444444444444444,
              "#bd3786"
             ],
             [
              0.5555555555555556,
              "#d8576b"
             ],
             [
              0.6666666666666666,
              "#ed7953"
             ],
             [
              0.7777777777777778,
              "#fb9f3a"
             ],
             [
              0.8888888888888888,
              "#fdca26"
             ],
             [
              1,
              "#f0f921"
             ]
            ],
            "type": "heatmapgl"
           }
          ],
          "histogram": [
           {
            "marker": {
             "colorbar": {
              "outlinewidth": 0,
              "ticks": ""
             }
            },
            "type": "histogram"
           }
          ],
          "histogram2d": [
           {
            "colorbar": {
             "outlinewidth": 0,
             "ticks": ""
            },
            "colorscale": [
             [
              0,
              "#0d0887"
             ],
             [
              0.1111111111111111,
              "#46039f"
             ],
             [
              0.2222222222222222,
              "#7201a8"
             ],
             [
              0.3333333333333333,
              "#9c179e"
             ],
             [
              0.4444444444444444,
              "#bd3786"
             ],
             [
              0.5555555555555556,
              "#d8576b"
             ],
             [
              0.6666666666666666,
              "#ed7953"
             ],
             [
              0.7777777777777778,
              "#fb9f3a"
             ],
             [
              0.8888888888888888,
              "#fdca26"
             ],
             [
              1,
              "#f0f921"
             ]
            ],
            "type": "histogram2d"
           }
          ],
          "histogram2dcontour": [
           {
            "colorbar": {
             "outlinewidth": 0,
             "ticks": ""
            },
            "colorscale": [
             [
              0,
              "#0d0887"
             ],
             [
              0.1111111111111111,
              "#46039f"
             ],
             [
              0.2222222222222222,
              "#7201a8"
             ],
             [
              0.3333333333333333,
              "#9c179e"
             ],
             [
              0.4444444444444444,
              "#bd3786"
             ],
             [
              0.5555555555555556,
              "#d8576b"
             ],
             [
              0.6666666666666666,
              "#ed7953"
             ],
             [
              0.7777777777777778,
              "#fb9f3a"
             ],
             [
              0.8888888888888888,
              "#fdca26"
             ],
             [
              1,
              "#f0f921"
             ]
            ],
            "type": "histogram2dcontour"
           }
          ],
          "mesh3d": [
           {
            "colorbar": {
             "outlinewidth": 0,
             "ticks": ""
            },
            "type": "mesh3d"
           }
          ],
          "parcoords": [
           {
            "line": {
             "colorbar": {
              "outlinewidth": 0,
              "ticks": ""
             }
            },
            "type": "parcoords"
           }
          ],
          "pie": [
           {
            "automargin": true,
            "type": "pie"
           }
          ],
          "scatter": [
           {
            "marker": {
             "colorbar": {
              "outlinewidth": 0,
              "ticks": ""
             }
            },
            "type": "scatter"
           }
          ],
          "scatter3d": [
           {
            "line": {
             "colorbar": {
              "outlinewidth": 0,
              "ticks": ""
             }
            },
            "marker": {
             "colorbar": {
              "outlinewidth": 0,
              "ticks": ""
             }
            },
            "type": "scatter3d"
           }
          ],
          "scattercarpet": [
           {
            "marker": {
             "colorbar": {
              "outlinewidth": 0,
              "ticks": ""
             }
            },
            "type": "scattercarpet"
           }
          ],
          "scattergeo": [
           {
            "marker": {
             "colorbar": {
              "outlinewidth": 0,
              "ticks": ""
             }
            },
            "type": "scattergeo"
           }
          ],
          "scattergl": [
           {
            "marker": {
             "colorbar": {
              "outlinewidth": 0,
              "ticks": ""
             }
            },
            "type": "scattergl"
           }
          ],
          "scattermapbox": [
           {
            "marker": {
             "colorbar": {
              "outlinewidth": 0,
              "ticks": ""
             }
            },
            "type": "scattermapbox"
           }
          ],
          "scatterpolar": [
           {
            "marker": {
             "colorbar": {
              "outlinewidth": 0,
              "ticks": ""
             }
            },
            "type": "scatterpolar"
           }
          ],
          "scatterpolargl": [
           {
            "marker": {
             "colorbar": {
              "outlinewidth": 0,
              "ticks": ""
             }
            },
            "type": "scatterpolargl"
           }
          ],
          "scatterternary": [
           {
            "marker": {
             "colorbar": {
              "outlinewidth": 0,
              "ticks": ""
             }
            },
            "type": "scatterternary"
           }
          ],
          "surface": [
           {
            "colorbar": {
             "outlinewidth": 0,
             "ticks": ""
            },
            "colorscale": [
             [
              0,
              "#0d0887"
             ],
             [
              0.1111111111111111,
              "#46039f"
             ],
             [
              0.2222222222222222,
              "#7201a8"
             ],
             [
              0.3333333333333333,
              "#9c179e"
             ],
             [
              0.4444444444444444,
              "#bd3786"
             ],
             [
              0.5555555555555556,
              "#d8576b"
             ],
             [
              0.6666666666666666,
              "#ed7953"
             ],
             [
              0.7777777777777778,
              "#fb9f3a"
             ],
             [
              0.8888888888888888,
              "#fdca26"
             ],
             [
              1,
              "#f0f921"
             ]
            ],
            "type": "surface"
           }
          ],
          "table": [
           {
            "cells": {
             "fill": {
              "color": "#EBF0F8"
             },
             "line": {
              "color": "white"
             }
            },
            "header": {
             "fill": {
              "color": "#C8D4E3"
             },
             "line": {
              "color": "white"
             }
            },
            "type": "table"
           }
          ]
         },
         "layout": {
          "annotationdefaults": {
           "arrowcolor": "#2a3f5f",
           "arrowhead": 0,
           "arrowwidth": 1
          },
          "coloraxis": {
           "colorbar": {
            "outlinewidth": 0,
            "ticks": ""
           }
          },
          "colorscale": {
           "diverging": [
            [
             0,
             "#8e0152"
            ],
            [
             0.1,
             "#c51b7d"
            ],
            [
             0.2,
             "#de77ae"
            ],
            [
             0.3,
             "#f1b6da"
            ],
            [
             0.4,
             "#fde0ef"
            ],
            [
             0.5,
             "#f7f7f7"
            ],
            [
             0.6,
             "#e6f5d0"
            ],
            [
             0.7,
             "#b8e186"
            ],
            [
             0.8,
             "#7fbc41"
            ],
            [
             0.9,
             "#4d9221"
            ],
            [
             1,
             "#276419"
            ]
           ],
           "sequential": [
            [
             0,
             "#0d0887"
            ],
            [
             0.1111111111111111,
             "#46039f"
            ],
            [
             0.2222222222222222,
             "#7201a8"
            ],
            [
             0.3333333333333333,
             "#9c179e"
            ],
            [
             0.4444444444444444,
             "#bd3786"
            ],
            [
             0.5555555555555556,
             "#d8576b"
            ],
            [
             0.6666666666666666,
             "#ed7953"
            ],
            [
             0.7777777777777778,
             "#fb9f3a"
            ],
            [
             0.8888888888888888,
             "#fdca26"
            ],
            [
             1,
             "#f0f921"
            ]
           ],
           "sequentialminus": [
            [
             0,
             "#0d0887"
            ],
            [
             0.1111111111111111,
             "#46039f"
            ],
            [
             0.2222222222222222,
             "#7201a8"
            ],
            [
             0.3333333333333333,
             "#9c179e"
            ],
            [
             0.4444444444444444,
             "#bd3786"
            ],
            [
             0.5555555555555556,
             "#d8576b"
            ],
            [
             0.6666666666666666,
             "#ed7953"
            ],
            [
             0.7777777777777778,
             "#fb9f3a"
            ],
            [
             0.8888888888888888,
             "#fdca26"
            ],
            [
             1,
             "#f0f921"
            ]
           ]
          },
          "colorway": [
           "#636efa",
           "#EF553B",
           "#00cc96",
           "#ab63fa",
           "#FFA15A",
           "#19d3f3",
           "#FF6692",
           "#B6E880",
           "#FF97FF",
           "#FECB52"
          ],
          "font": {
           "color": "#2a3f5f"
          },
          "geo": {
           "bgcolor": "white",
           "lakecolor": "white",
           "landcolor": "#E5ECF6",
           "showlakes": true,
           "showland": true,
           "subunitcolor": "white"
          },
          "hoverlabel": {
           "align": "left"
          },
          "hovermode": "closest",
          "mapbox": {
           "style": "light"
          },
          "paper_bgcolor": "white",
          "plot_bgcolor": "#E5ECF6",
          "polar": {
           "angularaxis": {
            "gridcolor": "white",
            "linecolor": "white",
            "ticks": ""
           },
           "bgcolor": "#E5ECF6",
           "radialaxis": {
            "gridcolor": "white",
            "linecolor": "white",
            "ticks": ""
           }
          },
          "scene": {
           "xaxis": {
            "backgroundcolor": "#E5ECF6",
            "gridcolor": "white",
            "gridwidth": 2,
            "linecolor": "white",
            "showbackground": true,
            "ticks": "",
            "zerolinecolor": "white"
           },
           "yaxis": {
            "backgroundcolor": "#E5ECF6",
            "gridcolor": "white",
            "gridwidth": 2,
            "linecolor": "white",
            "showbackground": true,
            "ticks": "",
            "zerolinecolor": "white"
           },
           "zaxis": {
            "backgroundcolor": "#E5ECF6",
            "gridcolor": "white",
            "gridwidth": 2,
            "linecolor": "white",
            "showbackground": true,
            "ticks": "",
            "zerolinecolor": "white"
           }
          },
          "shapedefaults": {
           "line": {
            "color": "#2a3f5f"
           }
          },
          "ternary": {
           "aaxis": {
            "gridcolor": "white",
            "linecolor": "white",
            "ticks": ""
           },
           "baxis": {
            "gridcolor": "white",
            "linecolor": "white",
            "ticks": ""
           },
           "bgcolor": "#E5ECF6",
           "caxis": {
            "gridcolor": "white",
            "linecolor": "white",
            "ticks": ""
           }
          },
          "title": {
           "x": 0.05
          },
          "xaxis": {
           "automargin": true,
           "gridcolor": "white",
           "linecolor": "white",
           "ticks": "",
           "title": {
            "standoff": 15
           },
           "zerolinecolor": "white",
           "zerolinewidth": 2
          },
          "yaxis": {
           "automargin": true,
           "gridcolor": "white",
           "linecolor": "white",
           "ticks": "",
           "title": {
            "standoff": 15
           },
           "zerolinecolor": "white",
           "zerolinewidth": 2
          }
         }
        },
        "title": {
         "text": "cv auc scores overfit inspection graphs"
        },
        "xaxis": {
         "anchor": "y",
         "autorange": true,
         "domain": [
          0,
          1
         ],
         "range": [
          -2.29337899543379,
          59.29337899543379
         ],
         "title": {
          "text": "num_of_rounds"
         },
         "type": "linear"
        },
        "yaxis": {
         "anchor": "x",
         "autorange": true,
         "domain": [
          0,
          1
         ],
         "range": [
          0.8359130535031848,
          0.8835793464968152
         ],
         "title": {
          "text": "test-auc-mean"
         },
         "type": "linear"
        }
       }
      },
      "image/png": "[encoded data removed]",
      "text/html": [
       "<div>\n",
       "        \n",
       "        \n",
       "            <div id=\"620c280f-1cda-4710-a2c3-3ea766bee5ab\" class=\"plotly-graph-div\" style=\"height:525px; width:100%;\"></div>\n",
       "            <script type=\"text/javascript\">\n",
       "                require([\"plotly\"], function(Plotly) {\n",
       "                    window.PLOTLYENV=window.PLOTLYENV || {};\n",
       "                    \n",
       "                if (document.getElementById(\"620c280f-1cda-4710-a2c3-3ea766bee5ab\")) {\n",
       "                    Plotly.newPlot(\n",
       "                        '620c280f-1cda-4710-a2c3-3ea766bee5ab',\n",
       "                        [{\"hovertemplate\": \"num_of_rounds=%{x}<br>test-auc-mean=%{y}<br>train_test_diff (overfit)=%{marker.color}<extra></extra>\", \"legendgroup\": \"\", \"marker\": {\"color\": [0.013637800000000255, 0.021922199999999892, 0.01756779999999991, 0.020739199999999847, 0.02748879999999987, 0.03300780000000003, 0.0333121999999999, 0.03618239999999995, 0.03474139999999981, 0.037005399999999966, 0.0418130000000001, 0.03979739999999998, 0.04246899999999998, 0.044203800000000015, 0.04565139999999979, 0.047782199999999886, 0.046551599999999915, 0.0483846, 0.049362399999999806, 0.04797419999999997, 0.04697140000000011, 0.04632120000000006, 0.04601040000000001, 0.049184000000000005, 0.04822179999999987, 0.04864360000000012, 0.0478364, 0.05001840000000013, 0.051602600000000054, 0.051276200000000105, 0.051893999999999996, 0.05367040000000012, 0.054656999999999956, 0.055289000000000144, 0.055627399999999994, 0.0549483999999999, 0.05596879999999993, 0.056756600000000046, 0.05706779999999989, 0.05880399999999997, 0.05917300000000025, 0.059836400000000234, 0.061659199999999914, 0.06171159999999998, 0.06268419999999997, 0.06279859999999993, 0.0631872, 0.06192160000000013, 0.06126600000000004, 0.061353599999999786, 0.06236860000000011, 0.06269380000000024, 0.06341160000000001, 0.06287140000000013, 0.06254340000000003, 0.061478400000000044], \"coloraxis\": \"coloraxis\", \"symbol\": \"circle\"}, \"mode\": \"markers\", \"name\": \"\", \"showlegend\": false, \"type\": \"scatter\", \"x\": [1, 2, 3, 4, 5, 6, 7, 8, 9, 10, 11, 12, 13, 14, 15, 16, 17, 18, 19, 20, 21, 22, 23, 24, 25, 26, 27, 28, 29, 30, 31, 32, 33, 34, 35, 36, 37, 38, 39, 40, 41, 42, 43, 44, 45, 46, 47, 48, 49, 50, 51, 52, 53, 54, 55, 56], \"xaxis\": \"x\", \"y\": [0.8392031999999998, 0.8389584000000001, 0.8591612, 0.8587742, 0.855241, 0.8574486, 0.8566246, 0.8575598, 0.8609294000000001, 0.8609092, 0.8595868, 0.8643822, 0.8647012000000001, 0.8648776, 0.8635416000000001, 0.8630720000000001, 0.865499, 0.86554, 0.8660370000000001, 0.8688848, 0.8715131999999999, 0.8734335999999999, 0.8755664000000001, 0.8740631999999999, 0.8749800000000001, 0.8750252, 0.8761414000000001, 0.8751713999999999, 0.8746684, 0.874953, 0.875625, 0.8748989999999999, 0.874909, 0.8749908, 0.8750242, 0.8763026, 0.8765014000000001, 0.8763922, 0.8764486, 0.8754094, 0.8754761999999999, 0.8757522, 0.8743398000000001, 0.8747486, 0.874657, 0.8750796, 0.8754072, 0.8771015999999999, 0.878374, 0.8784600000000001, 0.8783027999999999, 0.8783145999999998, 0.8778736, 0.8785605999999999, 0.8793708, 0.8805339999999999], \"yaxis\": \"y\"}],\n",
       "                        {\"coloraxis\": {\"colorbar\": {\"title\": {\"text\": \"train_test_diff (overfit)\"}}, \"colorscale\": [[0.0, \"#0d0887\"], [0.1111111111111111, \"#46039f\"], [0.2222222222222222, \"#7201a8\"], [0.3333333333333333, \"#9c179e\"], [0.4444444444444444, \"#bd3786\"], [0.5555555555555556, \"#d8576b\"], [0.6666666666666666, \"#ed7953\"], [0.7777777777777778, \"#fb9f3a\"], [0.8888888888888888, \"#fdca26\"], [1.0, \"#f0f921\"]]}, \"legend\": {\"tracegroupgap\": 0}, \"template\": {\"data\": {\"bar\": [{\"error_x\": {\"color\": \"#2a3f5f\"}, \"error_y\": {\"color\": \"#2a3f5f\"}, \"marker\": {\"line\": {\"color\": \"#E5ECF6\", \"width\": 0.5}}, \"type\": \"bar\"}], \"barpolar\": [{\"marker\": {\"line\": {\"color\": \"#E5ECF6\", \"width\": 0.5}}, \"type\": \"barpolar\"}], \"carpet\": [{\"aaxis\": {\"endlinecolor\": \"#2a3f5f\", \"gridcolor\": \"white\", \"linecolor\": \"white\", \"minorgridcolor\": \"white\", \"startlinecolor\": \"#2a3f5f\"}, \"baxis\": {\"endlinecolor\": \"#2a3f5f\", \"gridcolor\": \"white\", \"linecolor\": \"white\", \"minorgridcolor\": \"white\", \"startlinecolor\": \"#2a3f5f\"}, \"type\": \"carpet\"}], \"choropleth\": [{\"colorbar\": {\"outlinewidth\": 0, \"ticks\": \"\"}, \"type\": \"choropleth\"}], \"contour\": [{\"colorbar\": {\"outlinewidth\": 0, \"ticks\": \"\"}, \"colorscale\": [[0.0, \"#0d0887\"], [0.1111111111111111, \"#46039f\"], [0.2222222222222222, \"#7201a8\"], [0.3333333333333333, \"#9c179e\"], [0.4444444444444444, \"#bd3786\"], [0.5555555555555556, \"#d8576b\"], [0.6666666666666666, \"#ed7953\"], [0.7777777777777778, \"#fb9f3a\"], [0.8888888888888888, \"#fdca26\"], [1.0, \"#f0f921\"]], \"type\": \"contour\"}], \"contourcarpet\": [{\"colorbar\": {\"outlinewidth\": 0, \"ticks\": \"\"}, \"type\": \"contourcarpet\"}], \"heatmap\": [{\"colorbar\": {\"outlinewidth\": 0, \"ticks\": \"\"}, \"colorscale\": [[0.0, \"#0d0887\"], [0.1111111111111111, \"#46039f\"], [0.2222222222222222, \"#7201a8\"], [0.3333333333333333, \"#9c179e\"], [0.4444444444444444, \"#bd3786\"], [0.5555555555555556, \"#d8576b\"], [0.6666666666666666, \"#ed7953\"], [0.7777777777777778, \"#fb9f3a\"], [0.8888888888888888, \"#fdca26\"], [1.0, \"#f0f921\"]], \"type\": \"heatmap\"}], \"heatmapgl\": [{\"colorbar\": {\"outlinewidth\": 0, \"ticks\": \"\"}, \"colorscale\": [[0.0, \"#0d0887\"], [0.1111111111111111, \"#46039f\"], [0.2222222222222222, \"#7201a8\"], [0.3333333333333333, \"#9c179e\"], [0.4444444444444444, \"#bd3786\"], [0.5555555555555556, \"#d8576b\"], [0.6666666666666666, \"#ed7953\"], [0.7777777777777778, \"#fb9f3a\"], [0.8888888888888888, \"#fdca26\"], [1.0, \"#f0f921\"]], \"type\": \"heatmapgl\"}], \"histogram\": [{\"marker\": {\"colorbar\": {\"outlinewidth\": 0, \"ticks\": \"\"}}, \"type\": \"histogram\"}], \"histogram2d\": [{\"colorbar\": {\"outlinewidth\": 0, \"ticks\": \"\"}, \"colorscale\": [[0.0, \"#0d0887\"], [0.1111111111111111, \"#46039f\"], [0.2222222222222222, \"#7201a8\"], [0.3333333333333333, \"#9c179e\"], [0.4444444444444444, \"#bd3786\"], [0.5555555555555556, \"#d8576b\"], [0.6666666666666666, \"#ed7953\"], [0.7777777777777778, \"#fb9f3a\"], [0.8888888888888888, \"#fdca26\"], [1.0, \"#f0f921\"]], \"type\": \"histogram2d\"}], \"histogram2dcontour\": [{\"colorbar\": {\"outlinewidth\": 0, \"ticks\": \"\"}, \"colorscale\": [[0.0, \"#0d0887\"], [0.1111111111111111, \"#46039f\"], [0.2222222222222222, \"#7201a8\"], [0.3333333333333333, \"#9c179e\"], [0.4444444444444444, \"#bd3786\"], [0.5555555555555556, \"#d8576b\"], [0.6666666666666666, \"#ed7953\"], [0.7777777777777778, \"#fb9f3a\"], [0.8888888888888888, \"#fdca26\"], [1.0, \"#f0f921\"]], \"type\": \"histogram2dcontour\"}], \"mesh3d\": [{\"colorbar\": {\"outlinewidth\": 0, \"ticks\": \"\"}, \"type\": \"mesh3d\"}], \"parcoords\": [{\"line\": {\"colorbar\": {\"outlinewidth\": 0, \"ticks\": \"\"}}, \"type\": \"parcoords\"}], \"pie\": [{\"automargin\": true, \"type\": \"pie\"}], \"scatter\": [{\"marker\": {\"colorbar\": {\"outlinewidth\": 0, \"ticks\": \"\"}}, \"type\": \"scatter\"}], \"scatter3d\": [{\"line\": {\"colorbar\": {\"outlinewidth\": 0, \"ticks\": \"\"}}, \"marker\": {\"colorbar\": {\"outlinewidth\": 0, \"ticks\": \"\"}}, \"type\": \"scatter3d\"}], \"scattercarpet\": [{\"marker\": {\"colorbar\": {\"outlinewidth\": 0, \"ticks\": \"\"}}, \"type\": \"scattercarpet\"}], \"scattergeo\": [{\"marker\": {\"colorbar\": {\"outlinewidth\": 0, \"ticks\": \"\"}}, \"type\": \"scattergeo\"}], \"scattergl\": [{\"marker\": {\"colorbar\": {\"outlinewidth\": 0, \"ticks\": \"\"}}, \"type\": \"scattergl\"}], \"scattermapbox\": [{\"marker\": {\"colorbar\": {\"outlinewidth\": 0, \"ticks\": \"\"}}, \"type\": \"scattermapbox\"}], \"scatterpolar\": [{\"marker\": {\"colorbar\": {\"outlinewidth\": 0, \"ticks\": \"\"}}, \"type\": \"scatterpolar\"}], \"scatterpolargl\": [{\"marker\": {\"colorbar\": {\"outlinewidth\": 0, \"ticks\": \"\"}}, \"type\": \"scatterpolargl\"}], \"scatterternary\": [{\"marker\": {\"colorbar\": {\"outlinewidth\": 0, \"ticks\": \"\"}}, \"type\": \"scatterternary\"}], \"surface\": [{\"colorbar\": {\"outlinewidth\": 0, \"ticks\": \"\"}, \"colorscale\": [[0.0, \"#0d0887\"], [0.1111111111111111, \"#46039f\"], [0.2222222222222222, \"#7201a8\"], [0.3333333333333333, \"#9c179e\"], [0.4444444444444444, \"#bd3786\"], [0.5555555555555556, \"#d8576b\"], [0.6666666666666666, \"#ed7953\"], [0.7777777777777778, \"#fb9f3a\"], [0.8888888888888888, \"#fdca26\"], [1.0, \"#f0f921\"]], \"type\": \"surface\"}], \"table\": [{\"cells\": {\"fill\": {\"color\": \"#EBF0F8\"}, \"line\": {\"color\": \"white\"}}, \"header\": {\"fill\": {\"color\": \"#C8D4E3\"}, \"line\": {\"color\": \"white\"}}, \"type\": \"table\"}]}, \"layout\": {\"annotationdefaults\": {\"arrowcolor\": \"#2a3f5f\", \"arrowhead\": 0, \"arrowwidth\": 1}, \"coloraxis\": {\"colorbar\": {\"outlinewidth\": 0, \"ticks\": \"\"}}, \"colorscale\": {\"diverging\": [[0, \"#8e0152\"], [0.1, \"#c51b7d\"], [0.2, \"#de77ae\"], [0.3, \"#f1b6da\"], [0.4, \"#fde0ef\"], [0.5, \"#f7f7f7\"], [0.6, \"#e6f5d0\"], [0.7, \"#b8e186\"], [0.8, \"#7fbc41\"], [0.9, \"#4d9221\"], [1, \"#276419\"]], \"sequential\": [[0.0, \"#0d0887\"], [0.1111111111111111, \"#46039f\"], [0.2222222222222222, \"#7201a8\"], [0.3333333333333333, \"#9c179e\"], [0.4444444444444444, \"#bd3786\"], [0.5555555555555556, \"#d8576b\"], [0.6666666666666666, \"#ed7953\"], [0.7777777777777778, \"#fb9f3a\"], [0.8888888888888888, \"#fdca26\"], [1.0, \"#f0f921\"]], \"sequentialminus\": [[0.0, \"#0d0887\"], [0.1111111111111111, \"#46039f\"], [0.2222222222222222, \"#7201a8\"], [0.3333333333333333, \"#9c179e\"], [0.4444444444444444, \"#bd3786\"], [0.5555555555555556, \"#d8576b\"], [0.6666666666666666, \"#ed7953\"], [0.7777777777777778, \"#fb9f3a\"], [0.8888888888888888, \"#fdca26\"], [1.0, \"#f0f921\"]]}, \"colorway\": [\"#636efa\", \"#EF553B\", \"#00cc96\", \"#ab63fa\", \"#FFA15A\", \"#19d3f3\", \"#FF6692\", \"#B6E880\", \"#FF97FF\", \"#FECB52\"], \"font\": {\"color\": \"#2a3f5f\"}, \"geo\": {\"bgcolor\": \"white\", \"lakecolor\": \"white\", \"landcolor\": \"#E5ECF6\", \"showlakes\": true, \"showland\": true, \"subunitcolor\": \"white\"}, \"hoverlabel\": {\"align\": \"left\"}, \"hovermode\": \"closest\", \"mapbox\": {\"style\": \"light\"}, \"paper_bgcolor\": \"white\", \"plot_bgcolor\": \"#E5ECF6\", \"polar\": {\"angularaxis\": {\"gridcolor\": \"white\", \"linecolor\": \"white\", \"ticks\": \"\"}, \"bgcolor\": \"#E5ECF6\", \"radialaxis\": {\"gridcolor\": \"white\", \"linecolor\": \"white\", \"ticks\": \"\"}}, \"scene\": {\"xaxis\": {\"backgroundcolor\": \"#E5ECF6\", \"gridcolor\": \"white\", \"gridwidth\": 2, \"linecolor\": \"white\", \"showbackground\": true, \"ticks\": \"\", \"zerolinecolor\": \"white\"}, \"yaxis\": {\"backgroundcolor\": \"#E5ECF6\", \"gridcolor\": \"white\", \"gridwidth\": 2, \"linecolor\": \"white\", \"showbackground\": true, \"ticks\": \"\", \"zerolinecolor\": \"white\"}, \"zaxis\": {\"backgroundcolor\": \"#E5ECF6\", \"gridcolor\": \"white\", \"gridwidth\": 2, \"linecolor\": \"white\", \"showbackground\": true, \"ticks\": \"\", \"zerolinecolor\": \"white\"}}, \"shapedefaults\": {\"line\": {\"color\": \"#2a3f5f\"}}, \"ternary\": {\"aaxis\": {\"gridcolor\": \"white\", \"linecolor\": \"white\", \"ticks\": \"\"}, \"baxis\": {\"gridcolor\": \"white\", \"linecolor\": \"white\", \"ticks\": \"\"}, \"bgcolor\": \"#E5ECF6\", \"caxis\": {\"gridcolor\": \"white\", \"linecolor\": \"white\", \"ticks\": \"\"}}, \"title\": {\"x\": 0.05}, \"xaxis\": {\"automargin\": true, \"gridcolor\": \"white\", \"linecolor\": \"white\", \"ticks\": \"\", \"title\": {\"standoff\": 15}, \"zerolinecolor\": \"white\", \"zerolinewidth\": 2}, \"yaxis\": {\"automargin\": true, \"gridcolor\": \"white\", \"linecolor\": \"white\", \"ticks\": \"\", \"title\": {\"standoff\": 15}, \"zerolinecolor\": \"white\", \"zerolinewidth\": 2}}}, \"title\": {\"text\": \"cv auc scores overfit inspection graphs\"}, \"xaxis\": {\"anchor\": \"y\", \"domain\": [0.0, 1.0], \"title\": {\"text\": \"num_of_rounds\"}}, \"yaxis\": {\"anchor\": \"x\", \"domain\": [0.0, 1.0], \"title\": {\"text\": \"test-auc-mean\"}}},\n",
       "                        {\"responsive\": true}\n",
       "                    ).then(function(){\n",
       "                            \n",
       "var gd = document.getElementById('620c280f-1cda-4710-a2c3-3ea766bee5ab');\n",
       "var x = new MutationObserver(function (mutations, observer) {{\n",
       "        var display = window.getComputedStyle(gd).display;\n",
       "        if (!display || display === 'none') {{\n",
       "            console.log([gd, 'removed!']);\n",
       "            Plotly.purge(gd);\n",
       "            observer.disconnect();\n",
       "        }}\n",
       "}});\n",
       "\n",
       "// Listen for the removal of the full notebook cells\n",
       "var notebookContainer = gd.closest('#notebook-container');\n",
       "if (notebookContainer) {{\n",
       "    x.observe(notebookContainer, {childList: true});\n",
       "}}\n",
       "\n",
       "// Listen for the clearing of the current output cell\n",
       "var outputEl = gd.closest('.output');\n",
       "if (outputEl) {{\n",
       "    x.observe(outputEl, {childList: true});\n",
       "}}\n",
       "\n",
       "                        })\n",
       "                };\n",
       "                });\n",
       "            </script>\n",
       "        </div>"
      ]
     },
     "metadata": {},
     "output_type": "display_data"
    },
    {
     "data": {
      "application/vnd.plotly.v1+json": {
       "config": {
        "plotlyServerURL": "https://plot.ly"
       },
       "data": [
        {
         "hovertemplate": "num_of_rounds=%{x}<br>train_test_diff (overfit)=%{y}<br>test-auc-mean=%{marker.color}<extra></extra>",
         "legendgroup": "",
         "marker": {
          "color": [
           0.8392031999999998,
           0.8389584000000001,
           0.8591612,
           0.8587742,
           0.855241,
           0.8574486,
           0.8566246,
           0.8575598,
           0.8609294000000001,
           0.8609092,
           0.8595868,
           0.8643822,
           0.8647012000000001,
           0.8648776,
           0.8635416000000001,
           0.8630720000000001,
           0.865499,
           0.86554,
           0.8660370000000001,
           0.8688848,
           0.8715131999999999,
           0.8734335999999999,
           0.8755664000000001,
           0.8740631999999999,
           0.8749800000000001,
           0.8750252,
           0.8761414000000001,
           0.8751713999999999,
           0.8746684,
           0.874953,
           0.875625,
           0.8748989999999999,
           0.874909,
           0.8749908,
           0.8750242,
           0.8763026,
           0.8765014000000001,
           0.8763922,
           0.8764486,
           0.8754094,
           0.8754761999999999,
           0.8757522,
           0.8743398000000001,
           0.8747486,
           0.874657,
           0.8750796,
           0.8754072,
           0.8771015999999999,
           0.878374,
           0.8784600000000001,
           0.8783027999999999,
           0.8783145999999998,
           0.8778736,
           0.8785605999999999,
           0.8793708,
           0.8805339999999999
          ],
          "coloraxis": "coloraxis",
          "symbol": "circle"
         },
         "mode": "markers",
         "name": "",
         "showlegend": false,
         "type": "scatter",
         "x": [
          1,
          2,
          3,
          4,
          5,
          6,
          7,
          8,
          9,
          10,
          11,
          12,
          13,
          14,
          15,
          16,
          17,
          18,
          19,
          20,
          21,
          22,
          23,
          24,
          25,
          26,
          27,
          28,
          29,
          30,
          31,
          32,
          33,
          34,
          35,
          36,
          37,
          38,
          39,
          40,
          41,
          42,
          43,
          44,
          45,
          46,
          47,
          48,
          49,
          50,
          51,
          52,
          53,
          54,
          55,
          56
         ],
         "xaxis": "x",
         "y": [
          0.013637800000000255,
          0.021922199999999892,
          0.01756779999999991,
          0.020739199999999847,
          0.02748879999999987,
          0.03300780000000003,
          0.0333121999999999,
          0.03618239999999995,
          0.03474139999999981,
          0.037005399999999966,
          0.0418130000000001,
          0.03979739999999998,
          0.04246899999999998,
          0.044203800000000015,
          0.04565139999999979,
          0.047782199999999886,
          0.046551599999999915,
          0.0483846,
          0.049362399999999806,
          0.04797419999999997,
          0.04697140000000011,
          0.04632120000000006,
          0.04601040000000001,
          0.049184000000000005,
          0.04822179999999987,
          0.04864360000000012,
          0.0478364,
          0.05001840000000013,
          0.051602600000000054,
          0.051276200000000105,
          0.051893999999999996,
          0.05367040000000012,
          0.054656999999999956,
          0.055289000000000144,
          0.055627399999999994,
          0.0549483999999999,
          0.05596879999999993,
          0.056756600000000046,
          0.05706779999999989,
          0.05880399999999997,
          0.05917300000000025,
          0.059836400000000234,
          0.061659199999999914,
          0.06171159999999998,
          0.06268419999999997,
          0.06279859999999993,
          0.0631872,
          0.06192160000000013,
          0.06126600000000004,
          0.061353599999999786,
          0.06236860000000011,
          0.06269380000000024,
          0.06341160000000001,
          0.06287140000000013,
          0.06254340000000003,
          0.061478400000000044
         ],
         "yaxis": "y"
        }
       ],
       "layout": {
        "autosize": true,
        "coloraxis": {
         "colorbar": {
          "title": {
           "text": "test-auc-mean"
          }
         },
         "colorscale": [
          [
           0,
           "#0d0887"
          ],
          [
           0.1111111111111111,
           "#46039f"
          ],
          [
           0.2222222222222222,
           "#7201a8"
          ],
          [
           0.3333333333333333,
           "#9c179e"
          ],
          [
           0.4444444444444444,
           "#bd3786"
          ],
          [
           0.5555555555555556,
           "#d8576b"
          ],
          [
           0.6666666666666666,
           "#ed7953"
          ],
          [
           0.7777777777777778,
           "#fb9f3a"
          ],
          [
           0.8888888888888888,
           "#fdca26"
          ],
          [
           1,
           "#f0f921"
          ]
         ]
        },
        "legend": {
         "tracegroupgap": 0
        },
        "margin": {
         "t": 60
        },
        "template": {
         "data": {
          "bar": [
           {
            "error_x": {
             "color": "#2a3f5f"
            },
            "error_y": {
             "color": "#2a3f5f"
            },
            "marker": {
             "line": {
              "color": "#E5ECF6",
              "width": 0.5
             }
            },
            "type": "bar"
           }
          ],
          "barpolar": [
           {
            "marker": {
             "line": {
              "color": "#E5ECF6",
              "width": 0.5
             }
            },
            "type": "barpolar"
           }
          ],
          "carpet": [
           {
            "aaxis": {
             "endlinecolor": "#2a3f5f",
             "gridcolor": "white",
             "linecolor": "white",
             "minorgridcolor": "white",
             "startlinecolor": "#2a3f5f"
            },
            "baxis": {
             "endlinecolor": "#2a3f5f",
             "gridcolor": "white",
             "linecolor": "white",
             "minorgridcolor": "white",
             "startlinecolor": "#2a3f5f"
            },
            "type": "carpet"
           }
          ],
          "choropleth": [
           {
            "colorbar": {
             "outlinewidth": 0,
             "ticks": ""
            },
            "type": "choropleth"
           }
          ],
          "contour": [
           {
            "colorbar": {
             "outlinewidth": 0,
             "ticks": ""
            },
            "colorscale": [
             [
              0,
              "#0d0887"
             ],
             [
              0.1111111111111111,
              "#46039f"
             ],
             [
              0.2222222222222222,
              "#7201a8"
             ],
             [
              0.3333333333333333,
              "#9c179e"
             ],
             [
              0.4444444444444444,
              "#bd3786"
             ],
             [
              0.5555555555555556,
              "#d8576b"
             ],
             [
              0.6666666666666666,
              "#ed7953"
             ],
             [
              0.7777777777777778,
              "#fb9f3a"
             ],
             [
              0.8888888888888888,
              "#fdca26"
             ],
             [
              1,
              "#f0f921"
             ]
            ],
            "type": "contour"
           }
          ],
          "contourcarpet": [
           {
            "colorbar": {
             "outlinewidth": 0,
             "ticks": ""
            },
            "type": "contourcarpet"
           }
          ],
          "heatmap": [
           {
            "colorbar": {
             "outlinewidth": 0,
             "ticks": ""
            },
            "colorscale": [
             [
              0,
              "#0d0887"
             ],
             [
              0.1111111111111111,
              "#46039f"
             ],
             [
              0.2222222222222222,
              "#7201a8"
             ],
             [
              0.3333333333333333,
              "#9c179e"
             ],
             [
              0.4444444444444444,
              "#bd3786"
             ],
             [
              0.5555555555555556,
              "#d8576b"
             ],
             [
              0.6666666666666666,
              "#ed7953"
             ],
             [
              0.7777777777777778,
              "#fb9f3a"
             ],
             [
              0.8888888888888888,
              "#fdca26"
             ],
             [
              1,
              "#f0f921"
             ]
            ],
            "type": "heatmap"
           }
          ],
          "heatmapgl": [
           {
            "colorbar": {
             "outlinewidth": 0,
             "ticks": ""
            },
            "colorscale": [
             [
              0,
              "#0d0887"
             ],
             [
              0.1111111111111111,
              "#46039f"
             ],
             [
              0.2222222222222222,
              "#7201a8"
             ],
             [
              0.3333333333333333,
              "#9c179e"
             ],
             [
              0.4444444444444444,
              "#bd3786"
             ],
             [
              0.5555555555555556,
              "#d8576b"
             ],
             [
              0.6666666666666666,
              "#ed7953"
             ],
             [
              0.7777777777777778,
              "#fb9f3a"
             ],
             [
              0.8888888888888888,
              "#fdca26"
             ],
             [
              1,
              "#f0f921"
             ]
            ],
            "type": "heatmapgl"
           }
          ],
          "histogram": [
           {
            "marker": {
             "colorbar": {
              "outlinewidth": 0,
              "ticks": ""
             }
            },
            "type": "histogram"
           }
          ],
          "histogram2d": [
           {
            "colorbar": {
             "outlinewidth": 0,
             "ticks": ""
            },
            "colorscale": [
             [
              0,
              "#0d0887"
             ],
             [
              0.1111111111111111,
              "#46039f"
             ],
             [
              0.2222222222222222,
              "#7201a8"
             ],
             [
              0.3333333333333333,
              "#9c179e"
             ],
             [
              0.4444444444444444,
              "#bd3786"
             ],
             [
              0.5555555555555556,
              "#d8576b"
             ],
             [
              0.6666666666666666,
              "#ed7953"
             ],
             [
              0.7777777777777778,
              "#fb9f3a"
             ],
             [
              0.8888888888888888,
              "#fdca26"
             ],
             [
              1,
              "#f0f921"
             ]
            ],
            "type": "histogram2d"
           }
          ],
          "histogram2dcontour": [
           {
            "colorbar": {
             "outlinewidth": 0,
             "ticks": ""
            },
            "colorscale": [
             [
              0,
              "#0d0887"
             ],
             [
              0.1111111111111111,
              "#46039f"
             ],
             [
              0.2222222222222222,
              "#7201a8"
             ],
             [
              0.3333333333333333,
              "#9c179e"
             ],
             [
              0.4444444444444444,
              "#bd3786"
             ],
             [
              0.5555555555555556,
              "#d8576b"
             ],
             [
              0.6666666666666666,
              "#ed7953"
             ],
             [
              0.7777777777777778,
              "#fb9f3a"
             ],
             [
              0.8888888888888888,
              "#fdca26"
             ],
             [
              1,
              "#f0f921"
             ]
            ],
            "type": "histogram2dcontour"
           }
          ],
          "mesh3d": [
           {
            "colorbar": {
             "outlinewidth": 0,
             "ticks": ""
            },
            "type": "mesh3d"
           }
          ],
          "parcoords": [
           {
            "line": {
             "colorbar": {
              "outlinewidth": 0,
              "ticks": ""
             }
            },
            "type": "parcoords"
           }
          ],
          "pie": [
           {
            "automargin": true,
            "type": "pie"
           }
          ],
          "scatter": [
           {
            "marker": {
             "colorbar": {
              "outlinewidth": 0,
              "ticks": ""
             }
            },
            "type": "scatter"
           }
          ],
          "scatter3d": [
           {
            "line": {
             "colorbar": {
              "outlinewidth": 0,
              "ticks": ""
             }
            },
            "marker": {
             "colorbar": {
              "outlinewidth": 0,
              "ticks": ""
             }
            },
            "type": "scatter3d"
           }
          ],
          "scattercarpet": [
           {
            "marker": {
             "colorbar": {
              "outlinewidth": 0,
              "ticks": ""
             }
            },
            "type": "scattercarpet"
           }
          ],
          "scattergeo": [
           {
            "marker": {
             "colorbar": {
              "outlinewidth": 0,
              "ticks": ""
             }
            },
            "type": "scattergeo"
           }
          ],
          "scattergl": [
           {
            "marker": {
             "colorbar": {
              "outlinewidth": 0,
              "ticks": ""
             }
            },
            "type": "scattergl"
           }
          ],
          "scattermapbox": [
           {
            "marker": {
             "colorbar": {
              "outlinewidth": 0,
              "ticks": ""
             }
            },
            "type": "scattermapbox"
           }
          ],
          "scatterpolar": [
           {
            "marker": {
             "colorbar": {
              "outlinewidth": 0,
              "ticks": ""
             }
            },
            "type": "scatterpolar"
           }
          ],
          "scatterpolargl": [
           {
            "marker": {
             "colorbar": {
              "outlinewidth": 0,
              "ticks": ""
             }
            },
            "type": "scatterpolargl"
           }
          ],
          "scatterternary": [
           {
            "marker": {
             "colorbar": {
              "outlinewidth": 0,
              "ticks": ""
             }
            },
            "type": "scatterternary"
           }
          ],
          "surface": [
           {
            "colorbar": {
             "outlinewidth": 0,
             "ticks": ""
            },
            "colorscale": [
             [
              0,
              "#0d0887"
             ],
             [
              0.1111111111111111,
              "#46039f"
             ],
             [
              0.2222222222222222,
              "#7201a8"
             ],
             [
              0.3333333333333333,
              "#9c179e"
             ],
             [
              0.4444444444444444,
              "#bd3786"
             ],
             [
              0.5555555555555556,
              "#d8576b"
             ],
             [
              0.6666666666666666,
              "#ed7953"
             ],
             [
              0.7777777777777778,
              "#fb9f3a"
             ],
             [
              0.8888888888888888,
              "#fdca26"
             ],
             [
              1,
              "#f0f921"
             ]
            ],
            "type": "surface"
           }
          ],
          "table": [
           {
            "cells": {
             "fill": {
              "color": "#EBF0F8"
             },
             "line": {
              "color": "white"
             }
            },
            "header": {
             "fill": {
              "color": "#C8D4E3"
             },
             "line": {
              "color": "white"
             }
            },
            "type": "table"
           }
          ]
         },
         "layout": {
          "annotationdefaults": {
           "arrowcolor": "#2a3f5f",
           "arrowhead": 0,
           "arrowwidth": 1
          },
          "coloraxis": {
           "colorbar": {
            "outlinewidth": 0,
            "ticks": ""
           }
          },
          "colorscale": {
           "diverging": [
            [
             0,
             "#8e0152"
            ],
            [
             0.1,
             "#c51b7d"
            ],
            [
             0.2,
             "#de77ae"
            ],
            [
             0.3,
             "#f1b6da"
            ],
            [
             0.4,
             "#fde0ef"
            ],
            [
             0.5,
             "#f7f7f7"
            ],
            [
             0.6,
             "#e6f5d0"
            ],
            [
             0.7,
             "#b8e186"
            ],
            [
             0.8,
             "#7fbc41"
            ],
            [
             0.9,
             "#4d9221"
            ],
            [
             1,
             "#276419"
            ]
           ],
           "sequential": [
            [
             0,
             "#0d0887"
            ],
            [
             0.1111111111111111,
             "#46039f"
            ],
            [
             0.2222222222222222,
             "#7201a8"
            ],
            [
             0.3333333333333333,
             "#9c179e"
            ],
            [
             0.4444444444444444,
             "#bd3786"
            ],
            [
             0.5555555555555556,
             "#d8576b"
            ],
            [
             0.6666666666666666,
             "#ed7953"
            ],
            [
             0.7777777777777778,
             "#fb9f3a"
            ],
            [
             0.8888888888888888,
             "#fdca26"
            ],
            [
             1,
             "#f0f921"
            ]
           ],
           "sequentialminus": [
            [
             0,
             "#0d0887"
            ],
            [
             0.1111111111111111,
             "#46039f"
            ],
            [
             0.2222222222222222,
             "#7201a8"
            ],
            [
             0.3333333333333333,
             "#9c179e"
            ],
            [
             0.4444444444444444,
             "#bd3786"
            ],
            [
             0.5555555555555556,
             "#d8576b"
            ],
            [
             0.6666666666666666,
             "#ed7953"
            ],
            [
             0.7777777777777778,
             "#fb9f3a"
            ],
            [
             0.8888888888888888,
             "#fdca26"
            ],
            [
             1,
             "#f0f921"
            ]
           ]
          },
          "colorway": [
           "#636efa",
           "#EF553B",
           "#00cc96",
           "#ab63fa",
           "#FFA15A",
           "#19d3f3",
           "#FF6692",
           "#B6E880",
           "#FF97FF",
           "#FECB52"
          ],
          "font": {
           "color": "#2a3f5f"
          },
          "geo": {
           "bgcolor": "white",
           "lakecolor": "white",
           "landcolor": "#E5ECF6",
           "showlakes": true,
           "showland": true,
           "subunitcolor": "white"
          },
          "hoverlabel": {
           "align": "left"
          },
          "hovermode": "closest",
          "mapbox": {
           "style": "light"
          },
          "paper_bgcolor": "white",
          "plot_bgcolor": "#E5ECF6",
          "polar": {
           "angularaxis": {
            "gridcolor": "white",
            "linecolor": "white",
            "ticks": ""
           },
           "bgcolor": "#E5ECF6",
           "radialaxis": {
            "gridcolor": "white",
            "linecolor": "white",
            "ticks": ""
           }
          },
          "scene": {
           "xaxis": {
            "backgroundcolor": "#E5ECF6",
            "gridcolor": "white",
            "gridwidth": 2,
            "linecolor": "white",
            "showbackground": true,
            "ticks": "",
            "zerolinecolor": "white"
           },
           "yaxis": {
            "backgroundcolor": "#E5ECF6",
            "gridcolor": "white",
            "gridwidth": 2,
            "linecolor": "white",
            "showbackground": true,
            "ticks": "",
            "zerolinecolor": "white"
           },
           "zaxis": {
            "backgroundcolor": "#E5ECF6",
            "gridcolor": "white",
            "gridwidth": 2,
            "linecolor": "white",
            "showbackground": true,
            "ticks": "",
            "zerolinecolor": "white"
           }
          },
          "shapedefaults": {
           "line": {
            "color": "#2a3f5f"
           }
          },
          "ternary": {
           "aaxis": {
            "gridcolor": "white",
            "linecolor": "white",
            "ticks": ""
           },
           "baxis": {
            "gridcolor": "white",
            "linecolor": "white",
            "ticks": ""
           },
           "bgcolor": "#E5ECF6",
           "caxis": {
            "gridcolor": "white",
            "linecolor": "white",
            "ticks": ""
           }
          },
          "title": {
           "x": 0.05
          },
          "xaxis": {
           "automargin": true,
           "gridcolor": "white",
           "linecolor": "white",
           "ticks": "",
           "title": {
            "standoff": 15
           },
           "zerolinecolor": "white",
           "zerolinewidth": 2
          },
          "yaxis": {
           "automargin": true,
           "gridcolor": "white",
           "linecolor": "white",
           "ticks": "",
           "title": {
            "standoff": 15
           },
           "zerolinecolor": "white",
           "zerolinewidth": 2
          }
         }
        },
        "xaxis": {
         "anchor": "y",
         "autorange": true,
         "domain": [
          0,
          1
         ],
         "range": [
          -2.284607696151924,
          59.28460769615192
         ],
         "title": {
          "text": "num_of_rounds"
         },
         "type": "linear"
        },
        "yaxis": {
         "anchor": "x",
         "autorange": true,
         "domain": [
          0,
          1
         ],
         "range": [
          0.010108718416206534,
          0.06694068158379374
         ],
         "title": {
          "text": "train_test_diff (overfit)"
         },
         "type": "linear"
        }
       }
      },
      "image/png": "[encoded data removed]",
      "text/html": [
       "<div>\n",
       "        \n",
       "        \n",
       "            <div id=\"774a692a-6c01-47ec-9689-508eeea7e132\" class=\"plotly-graph-div\" style=\"height:525px; width:100%;\"></div>\n",
       "            <script type=\"text/javascript\">\n",
       "                require([\"plotly\"], function(Plotly) {\n",
       "                    window.PLOTLYENV=window.PLOTLYENV || {};\n",
       "                    \n",
       "                if (document.getElementById(\"774a692a-6c01-47ec-9689-508eeea7e132\")) {\n",
       "                    Plotly.newPlot(\n",
       "                        '774a692a-6c01-47ec-9689-508eeea7e132',\n",
       "                        [{\"hovertemplate\": \"num_of_rounds=%{x}<br>train_test_diff (overfit)=%{y}<br>test-auc-mean=%{marker.color}<extra></extra>\", \"legendgroup\": \"\", \"marker\": {\"color\": [0.8392031999999998, 0.8389584000000001, 0.8591612, 0.8587742, 0.855241, 0.8574486, 0.8566246, 0.8575598, 0.8609294000000001, 0.8609092, 0.8595868, 0.8643822, 0.8647012000000001, 0.8648776, 0.8635416000000001, 0.8630720000000001, 0.865499, 0.86554, 0.8660370000000001, 0.8688848, 0.8715131999999999, 0.8734335999999999, 0.8755664000000001, 0.8740631999999999, 0.8749800000000001, 0.8750252, 0.8761414000000001, 0.8751713999999999, 0.8746684, 0.874953, 0.875625, 0.8748989999999999, 0.874909, 0.8749908, 0.8750242, 0.8763026, 0.8765014000000001, 0.8763922, 0.8764486, 0.8754094, 0.8754761999999999, 0.8757522, 0.8743398000000001, 0.8747486, 0.874657, 0.8750796, 0.8754072, 0.8771015999999999, 0.878374, 0.8784600000000001, 0.8783027999999999, 0.8783145999999998, 0.8778736, 0.8785605999999999, 0.8793708, 0.8805339999999999], \"coloraxis\": \"coloraxis\", \"symbol\": \"circle\"}, \"mode\": \"markers\", \"name\": \"\", \"showlegend\": false, \"type\": \"scatter\", \"x\": [1, 2, 3, 4, 5, 6, 7, 8, 9, 10, 11, 12, 13, 14, 15, 16, 17, 18, 19, 20, 21, 22, 23, 24, 25, 26, 27, 28, 29, 30, 31, 32, 33, 34, 35, 36, 37, 38, 39, 40, 41, 42, 43, 44, 45, 46, 47, 48, 49, 50, 51, 52, 53, 54, 55, 56], \"xaxis\": \"x\", \"y\": [0.013637800000000255, 0.021922199999999892, 0.01756779999999991, 0.020739199999999847, 0.02748879999999987, 0.03300780000000003, 0.0333121999999999, 0.03618239999999995, 0.03474139999999981, 0.037005399999999966, 0.0418130000000001, 0.03979739999999998, 0.04246899999999998, 0.044203800000000015, 0.04565139999999979, 0.047782199999999886, 0.046551599999999915, 0.0483846, 0.049362399999999806, 0.04797419999999997, 0.04697140000000011, 0.04632120000000006, 0.04601040000000001, 0.049184000000000005, 0.04822179999999987, 0.04864360000000012, 0.0478364, 0.05001840000000013, 0.051602600000000054, 0.051276200000000105, 0.051893999999999996, 0.05367040000000012, 0.054656999999999956, 0.055289000000000144, 0.055627399999999994, 0.0549483999999999, 0.05596879999999993, 0.056756600000000046, 0.05706779999999989, 0.05880399999999997, 0.05917300000000025, 0.059836400000000234, 0.061659199999999914, 0.06171159999999998, 0.06268419999999997, 0.06279859999999993, 0.0631872, 0.06192160000000013, 0.06126600000000004, 0.061353599999999786, 0.06236860000000011, 0.06269380000000024, 0.06341160000000001, 0.06287140000000013, 0.06254340000000003, 0.061478400000000044], \"yaxis\": \"y\"}],\n",
       "                        {\"coloraxis\": {\"colorbar\": {\"title\": {\"text\": \"test-auc-mean\"}}, \"colorscale\": [[0.0, \"#0d0887\"], [0.1111111111111111, \"#46039f\"], [0.2222222222222222, \"#7201a8\"], [0.3333333333333333, \"#9c179e\"], [0.4444444444444444, \"#bd3786\"], [0.5555555555555556, \"#d8576b\"], [0.6666666666666666, \"#ed7953\"], [0.7777777777777778, \"#fb9f3a\"], [0.8888888888888888, \"#fdca26\"], [1.0, \"#f0f921\"]]}, \"legend\": {\"tracegroupgap\": 0}, \"margin\": {\"t\": 60}, \"template\": {\"data\": {\"bar\": [{\"error_x\": {\"color\": \"#2a3f5f\"}, \"error_y\": {\"color\": \"#2a3f5f\"}, \"marker\": {\"line\": {\"color\": \"#E5ECF6\", \"width\": 0.5}}, \"type\": \"bar\"}], \"barpolar\": [{\"marker\": {\"line\": {\"color\": \"#E5ECF6\", \"width\": 0.5}}, \"type\": \"barpolar\"}], \"carpet\": [{\"aaxis\": {\"endlinecolor\": \"#2a3f5f\", \"gridcolor\": \"white\", \"linecolor\": \"white\", \"minorgridcolor\": \"white\", \"startlinecolor\": \"#2a3f5f\"}, \"baxis\": {\"endlinecolor\": \"#2a3f5f\", \"gridcolor\": \"white\", \"linecolor\": \"white\", \"minorgridcolor\": \"white\", \"startlinecolor\": \"#2a3f5f\"}, \"type\": \"carpet\"}], \"choropleth\": [{\"colorbar\": {\"outlinewidth\": 0, \"ticks\": \"\"}, \"type\": \"choropleth\"}], \"contour\": [{\"colorbar\": {\"outlinewidth\": 0, \"ticks\": \"\"}, \"colorscale\": [[0.0, \"#0d0887\"], [0.1111111111111111, \"#46039f\"], [0.2222222222222222, \"#7201a8\"], [0.3333333333333333, \"#9c179e\"], [0.4444444444444444, \"#bd3786\"], [0.5555555555555556, \"#d8576b\"], [0.6666666666666666, \"#ed7953\"], [0.7777777777777778, \"#fb9f3a\"], [0.8888888888888888, \"#fdca26\"], [1.0, \"#f0f921\"]], \"type\": \"contour\"}], \"contourcarpet\": [{\"colorbar\": {\"outlinewidth\": 0, \"ticks\": \"\"}, \"type\": \"contourcarpet\"}], \"heatmap\": [{\"colorbar\": {\"outlinewidth\": 0, \"ticks\": \"\"}, \"colorscale\": [[0.0, \"#0d0887\"], [0.1111111111111111, \"#46039f\"], [0.2222222222222222, \"#7201a8\"], [0.3333333333333333, \"#9c179e\"], [0.4444444444444444, \"#bd3786\"], [0.5555555555555556, \"#d8576b\"], [0.6666666666666666, \"#ed7953\"], [0.7777777777777778, \"#fb9f3a\"], [0.8888888888888888, \"#fdca26\"], [1.0, \"#f0f921\"]], \"type\": \"heatmap\"}], \"heatmapgl\": [{\"colorbar\": {\"outlinewidth\": 0, \"ticks\": \"\"}, \"colorscale\": [[0.0, \"#0d0887\"], [0.1111111111111111, \"#46039f\"], [0.2222222222222222, \"#7201a8\"], [0.3333333333333333, \"#9c179e\"], [0.4444444444444444, \"#bd3786\"], [0.5555555555555556, \"#d8576b\"], [0.6666666666666666, \"#ed7953\"], [0.7777777777777778, \"#fb9f3a\"], [0.8888888888888888, \"#fdca26\"], [1.0, \"#f0f921\"]], \"type\": \"heatmapgl\"}], \"histogram\": [{\"marker\": {\"colorbar\": {\"outlinewidth\": 0, \"ticks\": \"\"}}, \"type\": \"histogram\"}], \"histogram2d\": [{\"colorbar\": {\"outlinewidth\": 0, \"ticks\": \"\"}, \"colorscale\": [[0.0, \"#0d0887\"], [0.1111111111111111, \"#46039f\"], [0.2222222222222222, \"#7201a8\"], [0.3333333333333333, \"#9c179e\"], [0.4444444444444444, \"#bd3786\"], [0.5555555555555556, \"#d8576b\"], [0.6666666666666666, \"#ed7953\"], [0.7777777777777778, \"#fb9f3a\"], [0.8888888888888888, \"#fdca26\"], [1.0, \"#f0f921\"]], \"type\": \"histogram2d\"}], \"histogram2dcontour\": [{\"colorbar\": {\"outlinewidth\": 0, \"ticks\": \"\"}, \"colorscale\": [[0.0, \"#0d0887\"], [0.1111111111111111, \"#46039f\"], [0.2222222222222222, \"#7201a8\"], [0.3333333333333333, \"#9c179e\"], [0.4444444444444444, \"#bd3786\"], [0.5555555555555556, \"#d8576b\"], [0.6666666666666666, \"#ed7953\"], [0.7777777777777778, \"#fb9f3a\"], [0.8888888888888888, \"#fdca26\"], [1.0, \"#f0f921\"]], \"type\": \"histogram2dcontour\"}], \"mesh3d\": [{\"colorbar\": {\"outlinewidth\": 0, \"ticks\": \"\"}, \"type\": \"mesh3d\"}], \"parcoords\": [{\"line\": {\"colorbar\": {\"outlinewidth\": 0, \"ticks\": \"\"}}, \"type\": \"parcoords\"}], \"pie\": [{\"automargin\": true, \"type\": \"pie\"}], \"scatter\": [{\"marker\": {\"colorbar\": {\"outlinewidth\": 0, \"ticks\": \"\"}}, \"type\": \"scatter\"}], \"scatter3d\": [{\"line\": {\"colorbar\": {\"outlinewidth\": 0, \"ticks\": \"\"}}, \"marker\": {\"colorbar\": {\"outlinewidth\": 0, \"ticks\": \"\"}}, \"type\": \"scatter3d\"}], \"scattercarpet\": [{\"marker\": {\"colorbar\": {\"outlinewidth\": 0, \"ticks\": \"\"}}, \"type\": \"scattercarpet\"}], \"scattergeo\": [{\"marker\": {\"colorbar\": {\"outlinewidth\": 0, \"ticks\": \"\"}}, \"type\": \"scattergeo\"}], \"scattergl\": [{\"marker\": {\"colorbar\": {\"outlinewidth\": 0, \"ticks\": \"\"}}, \"type\": \"scattergl\"}], \"scattermapbox\": [{\"marker\": {\"colorbar\": {\"outlinewidth\": 0, \"ticks\": \"\"}}, \"type\": \"scattermapbox\"}], \"scatterpolar\": [{\"marker\": {\"colorbar\": {\"outlinewidth\": 0, \"ticks\": \"\"}}, \"type\": \"scatterpolar\"}], \"scatterpolargl\": [{\"marker\": {\"colorbar\": {\"outlinewidth\": 0, \"ticks\": \"\"}}, \"type\": \"scatterpolargl\"}], \"scatterternary\": [{\"marker\": {\"colorbar\": {\"outlinewidth\": 0, \"ticks\": \"\"}}, \"type\": \"scatterternary\"}], \"surface\": [{\"colorbar\": {\"outlinewidth\": 0, \"ticks\": \"\"}, \"colorscale\": [[0.0, \"#0d0887\"], [0.1111111111111111, \"#46039f\"], [0.2222222222222222, \"#7201a8\"], [0.3333333333333333, \"#9c179e\"], [0.4444444444444444, \"#bd3786\"], [0.5555555555555556, \"#d8576b\"], [0.6666666666666666, \"#ed7953\"], [0.7777777777777778, \"#fb9f3a\"], [0.8888888888888888, \"#fdca26\"], [1.0, \"#f0f921\"]], \"type\": \"surface\"}], \"table\": [{\"cells\": {\"fill\": {\"color\": \"#EBF0F8\"}, \"line\": {\"color\": \"white\"}}, \"header\": {\"fill\": {\"color\": \"#C8D4E3\"}, \"line\": {\"color\": \"white\"}}, \"type\": \"table\"}]}, \"layout\": {\"annotationdefaults\": {\"arrowcolor\": \"#2a3f5f\", \"arrowhead\": 0, \"arrowwidth\": 1}, \"coloraxis\": {\"colorbar\": {\"outlinewidth\": 0, \"ticks\": \"\"}}, \"colorscale\": {\"diverging\": [[0, \"#8e0152\"], [0.1, \"#c51b7d\"], [0.2, \"#de77ae\"], [0.3, \"#f1b6da\"], [0.4, \"#fde0ef\"], [0.5, \"#f7f7f7\"], [0.6, \"#e6f5d0\"], [0.7, \"#b8e186\"], [0.8, \"#7fbc41\"], [0.9, \"#4d9221\"], [1, \"#276419\"]], \"sequential\": [[0.0, \"#0d0887\"], [0.1111111111111111, \"#46039f\"], [0.2222222222222222, \"#7201a8\"], [0.3333333333333333, \"#9c179e\"], [0.4444444444444444, \"#bd3786\"], [0.5555555555555556, \"#d8576b\"], [0.6666666666666666, \"#ed7953\"], [0.7777777777777778, \"#fb9f3a\"], [0.8888888888888888, \"#fdca26\"], [1.0, \"#f0f921\"]], \"sequentialminus\": [[0.0, \"#0d0887\"], [0.1111111111111111, \"#46039f\"], [0.2222222222222222, \"#7201a8\"], [0.3333333333333333, \"#9c179e\"], [0.4444444444444444, \"#bd3786\"], [0.5555555555555556, \"#d8576b\"], [0.6666666666666666, \"#ed7953\"], [0.7777777777777778, \"#fb9f3a\"], [0.8888888888888888, \"#fdca26\"], [1.0, \"#f0f921\"]]}, \"colorway\": [\"#636efa\", \"#EF553B\", \"#00cc96\", \"#ab63fa\", \"#FFA15A\", \"#19d3f3\", \"#FF6692\", \"#B6E880\", \"#FF97FF\", \"#FECB52\"], \"font\": {\"color\": \"#2a3f5f\"}, \"geo\": {\"bgcolor\": \"white\", \"lakecolor\": \"white\", \"landcolor\": \"#E5ECF6\", \"showlakes\": true, \"showland\": true, \"subunitcolor\": \"white\"}, \"hoverlabel\": {\"align\": \"left\"}, \"hovermode\": \"closest\", \"mapbox\": {\"style\": \"light\"}, \"paper_bgcolor\": \"white\", \"plot_bgcolor\": \"#E5ECF6\", \"polar\": {\"angularaxis\": {\"gridcolor\": \"white\", \"linecolor\": \"white\", \"ticks\": \"\"}, \"bgcolor\": \"#E5ECF6\", \"radialaxis\": {\"gridcolor\": \"white\", \"linecolor\": \"white\", \"ticks\": \"\"}}, \"scene\": {\"xaxis\": {\"backgroundcolor\": \"#E5ECF6\", \"gridcolor\": \"white\", \"gridwidth\": 2, \"linecolor\": \"white\", \"showbackground\": true, \"ticks\": \"\", \"zerolinecolor\": \"white\"}, \"yaxis\": {\"backgroundcolor\": \"#E5ECF6\", \"gridcolor\": \"white\", \"gridwidth\": 2, \"linecolor\": \"white\", \"showbackground\": true, \"ticks\": \"\", \"zerolinecolor\": \"white\"}, \"zaxis\": {\"backgroundcolor\": \"#E5ECF6\", \"gridcolor\": \"white\", \"gridwidth\": 2, \"linecolor\": \"white\", \"showbackground\": true, \"ticks\": \"\", \"zerolinecolor\": \"white\"}}, \"shapedefaults\": {\"line\": {\"color\": \"#2a3f5f\"}}, \"ternary\": {\"aaxis\": {\"gridcolor\": \"white\", \"linecolor\": \"white\", \"ticks\": \"\"}, \"baxis\": {\"gridcolor\": \"white\", \"linecolor\": \"white\", \"ticks\": \"\"}, \"bgcolor\": \"#E5ECF6\", \"caxis\": {\"gridcolor\": \"white\", \"linecolor\": \"white\", \"ticks\": \"\"}}, \"title\": {\"x\": 0.05}, \"xaxis\": {\"automargin\": true, \"gridcolor\": \"white\", \"linecolor\": \"white\", \"ticks\": \"\", \"title\": {\"standoff\": 15}, \"zerolinecolor\": \"white\", \"zerolinewidth\": 2}, \"yaxis\": {\"automargin\": true, \"gridcolor\": \"white\", \"linecolor\": \"white\", \"ticks\": \"\", \"title\": {\"standoff\": 15}, \"zerolinecolor\": \"white\", \"zerolinewidth\": 2}}}, \"xaxis\": {\"anchor\": \"y\", \"domain\": [0.0, 1.0], \"title\": {\"text\": \"num_of_rounds\"}}, \"yaxis\": {\"anchor\": \"x\", \"domain\": [0.0, 1.0], \"title\": {\"text\": \"train_test_diff (overfit)\"}}},\n",
       "                        {\"responsive\": true}\n",
       "                    ).then(function(){\n",
       "                            \n",
       "var gd = document.getElementById('774a692a-6c01-47ec-9689-508eeea7e132');\n",
       "var x = new MutationObserver(function (mutations, observer) {{\n",
       "        var display = window.getComputedStyle(gd).display;\n",
       "        if (!display || display === 'none') {{\n",
       "            console.log([gd, 'removed!']);\n",
       "            Plotly.purge(gd);\n",
       "            observer.disconnect();\n",
       "        }}\n",
       "}});\n",
       "\n",
       "// Listen for the removal of the full notebook cells\n",
       "var notebookContainer = gd.closest('#notebook-container');\n",
       "if (notebookContainer) {{\n",
       "    x.observe(notebookContainer, {childList: true});\n",
       "}}\n",
       "\n",
       "// Listen for the clearing of the current output cell\n",
       "var outputEl = gd.closest('.output');\n",
       "if (outputEl) {{\n",
       "    x.observe(outputEl, {childList: true});\n",
       "}}\n",
       "\n",
       "                        })\n",
       "                };\n",
       "                });\n",
       "            </script>\n",
       "        </div>"
      ]
     },
     "metadata": {},
     "output_type": "display_data"
    }
   ],
   "source": [
    "cv_xgb_auc = plot_cv_results(xgb_model, X_train, X_test, y_train, y_test, metrics='auc')"
   ]
  },
  {
   "cell_type": "code",
   "execution_count": 198,
   "metadata": {},
   "outputs": [
    {
     "name": "stdout",
     "output_type": "stream",
     "text": [
      "\n",
      "best iteration   : 44\n",
      "\n",
      "cv train error mean for last iteration : 0.123942\n",
      "\n",
      "cv test error mean for last iteration(auc)  : 0.161391\n"
     ]
    },
    {
     "data": {
      "application/vnd.plotly.v1+json": {
       "config": {
        "plotlyServerURL": "https://plot.ly"
       },
       "data": [
        {
         "hovertemplate": "num_of_rounds=%{x}<br>test-error-mean=%{y}<br>train_test_diff (overfit)=%{marker.color}<extra></extra>",
         "legendgroup": "",
         "marker": {
          "color": [
           0.0248844,
           0.0009780000000000066,
           0.014695600000000003,
           0.009066800000000041,
           0.013608800000000032,
           0.0227686,
           0.01889379999999999,
           0.03150540000000002,
           0.03256220000000001,
           0.03043179999999998,
           0.0251894,
           0.0287134,
           0.028013199999999988,
           0.027311399999999986,
           0.02903680000000003,
           0.03782959999999999,
           0.03606380000000001,
           0.0374738,
           0.03781899999999999,
           0.039573,
           0.03360799999999997,
           0.03324820000000003,
           0.036777000000000004,
           0.033957600000000004,
           0.03571200000000002,
           0.036415,
           0.04099100000000003,
           0.0346544,
           0.03182779999999999,
           0.0381504,
           0.0374478,
           0.03816319999999998,
           0.04484160000000001,
           0.04483780000000001,
           0.03919580000000003,
           0.040252399999999994,
           0.03989619999999999,
           0.04026019999999997,
           0.041317999999999994,
           0.04165340000000001,
           0.04482240000000001,
           0.03954460000000001,
           0.0409486,
           0.037448800000000004
          ],
          "coloraxis": "coloraxis",
          "symbol": "circle"
         },
         "mode": "markers",
         "name": "",
         "showlegend": false,
         "type": "scatter",
         "x": [
          1,
          2,
          3,
          4,
          5,
          6,
          7,
          8,
          9,
          10,
          11,
          12,
          13,
          14,
          15,
          16,
          17,
          18,
          19,
          20,
          21,
          22,
          23,
          24,
          25,
          26,
          27,
          28,
          29,
          30,
          31,
          32,
          33,
          34,
          35,
          36,
          37,
          38,
          39,
          40,
          41,
          42,
          43,
          44
         ],
         "xaxis": "x",
         "y": [
          0.2036048,
          0.1797004,
          0.1811186,
          0.1783018,
          0.179681,
          0.1811188,
          0.175485,
          0.1824782,
          0.1838864,
          0.1824584,
          0.176864,
          0.1810892,
          0.1782822,
          0.1754752,
          0.1782526,
          0.1838864,
          0.1838766,
          0.182478,
          0.1782624,
          0.1810696,
          0.17545539999999998,
          0.1754454,
          0.1782724,
          0.174047,
          0.174047,
          0.174047,
          0.1782726,
          0.1726386,
          0.1698118,
          0.1740274,
          0.1740272,
          0.17123,
          0.174047,
          0.1726384,
          0.166995,
          0.1684034,
          0.166995,
          0.16841319999999999,
          0.1698216,
          0.1684034,
          0.1712202,
          0.164188,
          0.164188,
          0.1613908
         ],
         "yaxis": "y"
        }
       ],
       "layout": {
        "autosize": true,
        "coloraxis": {
         "colorbar": {
          "title": {
           "text": "train_test_diff (overfit)"
          }
         },
         "colorscale": [
          [
           0,
           "#0d0887"
          ],
          [
           0.1111111111111111,
           "#46039f"
          ],
          [
           0.2222222222222222,
           "#7201a8"
          ],
          [
           0.3333333333333333,
           "#9c179e"
          ],
          [
           0.4444444444444444,
           "#bd3786"
          ],
          [
           0.5555555555555556,
           "#d8576b"
          ],
          [
           0.6666666666666666,
           "#ed7953"
          ],
          [
           0.7777777777777778,
           "#fb9f3a"
          ],
          [
           0.8888888888888888,
           "#fdca26"
          ],
          [
           1,
           "#f0f921"
          ]
         ]
        },
        "legend": {
         "tracegroupgap": 0
        },
        "template": {
         "data": {
          "bar": [
           {
            "error_x": {
             "color": "#2a3f5f"
            },
            "error_y": {
             "color": "#2a3f5f"
            },
            "marker": {
             "line": {
              "color": "#E5ECF6",
              "width": 0.5
             }
            },
            "type": "bar"
           }
          ],
          "barpolar": [
           {
            "marker": {
             "line": {
              "color": "#E5ECF6",
              "width": 0.5
             }
            },
            "type": "barpolar"
           }
          ],
          "carpet": [
           {
            "aaxis": {
             "endlinecolor": "#2a3f5f",
             "gridcolor": "white",
             "linecolor": "white",
             "minorgridcolor": "white",
             "startlinecolor": "#2a3f5f"
            },
            "baxis": {
             "endlinecolor": "#2a3f5f",
             "gridcolor": "white",
             "linecolor": "white",
             "minorgridcolor": "white",
             "startlinecolor": "#2a3f5f"
            },
            "type": "carpet"
           }
          ],
          "choropleth": [
           {
            "colorbar": {
             "outlinewidth": 0,
             "ticks": ""
            },
            "type": "choropleth"
           }
          ],
          "contour": [
           {
            "colorbar": {
             "outlinewidth": 0,
             "ticks": ""
            },
            "colorscale": [
             [
              0,
              "#0d0887"
             ],
             [
              0.1111111111111111,
              "#46039f"
             ],
             [
              0.2222222222222222,
              "#7201a8"
             ],
             [
              0.3333333333333333,
              "#9c179e"
             ],
             [
              0.4444444444444444,
              "#bd3786"
             ],
             [
              0.5555555555555556,
              "#d8576b"
             ],
             [
              0.6666666666666666,
              "#ed7953"
             ],
             [
              0.7777777777777778,
              "#fb9f3a"
             ],
             [
              0.8888888888888888,
              "#fdca26"
             ],
             [
              1,
              "#f0f921"
             ]
            ],
            "type": "contour"
           }
          ],
          "contourcarpet": [
           {
            "colorbar": {
             "outlinewidth": 0,
             "ticks": ""
            },
            "type": "contourcarpet"
           }
          ],
          "heatmap": [
           {
            "colorbar": {
             "outlinewidth": 0,
             "ticks": ""
            },
            "colorscale": [
             [
              0,
              "#0d0887"
             ],
             [
              0.1111111111111111,
              "#46039f"
             ],
             [
              0.2222222222222222,
              "#7201a8"
             ],
             [
              0.3333333333333333,
              "#9c179e"
             ],
             [
              0.4444444444444444,
              "#bd3786"
             ],
             [
              0.5555555555555556,
              "#d8576b"
             ],
             [
              0.6666666666666666,
              "#ed7953"
             ],
             [
              0.7777777777777778,
              "#fb9f3a"
             ],
             [
              0.8888888888888888,
              "#fdca26"
             ],
             [
              1,
              "#f0f921"
             ]
            ],
            "type": "heatmap"
           }
          ],
          "heatmapgl": [
           {
            "colorbar": {
             "outlinewidth": 0,
             "ticks": ""
            },
            "colorscale": [
             [
              0,
              "#0d0887"
             ],
             [
              0.1111111111111111,
              "#46039f"
             ],
             [
              0.2222222222222222,
              "#7201a8"
             ],
             [
              0.3333333333333333,
              "#9c179e"
             ],
             [
              0.4444444444444444,
              "#bd3786"
             ],
             [
              0.5555555555555556,
              "#d8576b"
             ],
             [
              0.6666666666666666,
              "#ed7953"
             ],
             [
              0.7777777777777778,
              "#fb9f3a"
             ],
             [
              0.8888888888888888,
              "#fdca26"
             ],
             [
              1,
              "#f0f921"
             ]
            ],
            "type": "heatmapgl"
           }
          ],
          "histogram": [
           {
            "marker": {
             "colorbar": {
              "outlinewidth": 0,
              "ticks": ""
             }
            },
            "type": "histogram"
           }
          ],
          "histogram2d": [
           {
            "colorbar": {
             "outlinewidth": 0,
             "ticks": ""
            },
            "colorscale": [
             [
              0,
              "#0d0887"
             ],
             [
              0.1111111111111111,
              "#46039f"
             ],
             [
              0.2222222222222222,
              "#7201a8"
             ],
             [
              0.3333333333333333,
              "#9c179e"
             ],
             [
              0.4444444444444444,
              "#bd3786"
             ],
             [
              0.5555555555555556,
              "#d8576b"
             ],
             [
              0.6666666666666666,
              "#ed7953"
             ],
             [
              0.7777777777777778,
              "#fb9f3a"
             ],
             [
              0.8888888888888888,
              "#fdca26"
             ],
             [
              1,
              "#f0f921"
             ]
            ],
            "type": "histogram2d"
           }
          ],
          "histogram2dcontour": [
           {
            "colorbar": {
             "outlinewidth": 0,
             "ticks": ""
            },
            "colorscale": [
             [
              0,
              "#0d0887"
             ],
             [
              0.1111111111111111,
              "#46039f"
             ],
             [
              0.2222222222222222,
              "#7201a8"
             ],
             [
              0.3333333333333333,
              "#9c179e"
             ],
             [
              0.4444444444444444,
              "#bd3786"
             ],
             [
              0.5555555555555556,
              "#d8576b"
             ],
             [
              0.6666666666666666,
              "#ed7953"
             ],
             [
              0.7777777777777778,
              "#fb9f3a"
             ],
             [
              0.8888888888888888,
              "#fdca26"
             ],
             [
              1,
              "#f0f921"
             ]
            ],
            "type": "histogram2dcontour"
           }
          ],
          "mesh3d": [
           {
            "colorbar": {
             "outlinewidth": 0,
             "ticks": ""
            },
            "type": "mesh3d"
           }
          ],
          "parcoords": [
           {
            "line": {
             "colorbar": {
              "outlinewidth": 0,
              "ticks": ""
             }
            },
            "type": "parcoords"
           }
          ],
          "pie": [
           {
            "automargin": true,
            "type": "pie"
           }
          ],
          "scatter": [
           {
            "marker": {
             "colorbar": {
              "outlinewidth": 0,
              "ticks": ""
             }
            },
            "type": "scatter"
           }
          ],
          "scatter3d": [
           {
            "line": {
             "colorbar": {
              "outlinewidth": 0,
              "ticks": ""
             }
            },
            "marker": {
             "colorbar": {
              "outlinewidth": 0,
              "ticks": ""
             }
            },
            "type": "scatter3d"
           }
          ],
          "scattercarpet": [
           {
            "marker": {
             "colorbar": {
              "outlinewidth": 0,
              "ticks": ""
             }
            },
            "type": "scattercarpet"
           }
          ],
          "scattergeo": [
           {
            "marker": {
             "colorbar": {
              "outlinewidth": 0,
              "ticks": ""
             }
            },
            "type": "scattergeo"
           }
          ],
          "scattergl": [
           {
            "marker": {
             "colorbar": {
              "outlinewidth": 0,
              "ticks": ""
             }
            },
            "type": "scattergl"
           }
          ],
          "scattermapbox": [
           {
            "marker": {
             "colorbar": {
              "outlinewidth": 0,
              "ticks": ""
             }
            },
            "type": "scattermapbox"
           }
          ],
          "scatterpolar": [
           {
            "marker": {
             "colorbar": {
              "outlinewidth": 0,
              "ticks": ""
             }
            },
            "type": "scatterpolar"
           }
          ],
          "scatterpolargl": [
           {
            "marker": {
             "colorbar": {
              "outlinewidth": 0,
              "ticks": ""
             }
            },
            "type": "scatterpolargl"
           }
          ],
          "scatterternary": [
           {
            "marker": {
             "colorbar": {
              "outlinewidth": 0,
              "ticks": ""
             }
            },
            "type": "scatterternary"
           }
          ],
          "surface": [
           {
            "colorbar": {
             "outlinewidth": 0,
             "ticks": ""
            },
            "colorscale": [
             [
              0,
              "#0d0887"
             ],
             [
              0.1111111111111111,
              "#46039f"
             ],
             [
              0.2222222222222222,
              "#7201a8"
             ],
             [
              0.3333333333333333,
              "#9c179e"
             ],
             [
              0.4444444444444444,
              "#bd3786"
             ],
             [
              0.5555555555555556,
              "#d8576b"
             ],
             [
              0.6666666666666666,
              "#ed7953"
             ],
             [
              0.7777777777777778,
              "#fb9f3a"
             ],
             [
              0.8888888888888888,
              "#fdca26"
             ],
             [
              1,
              "#f0f921"
             ]
            ],
            "type": "surface"
           }
          ],
          "table": [
           {
            "cells": {
             "fill": {
              "color": "#EBF0F8"
             },
             "line": {
              "color": "white"
             }
            },
            "header": {
             "fill": {
              "color": "#C8D4E3"
             },
             "line": {
              "color": "white"
             }
            },
            "type": "table"
           }
          ]
         },
         "layout": {
          "annotationdefaults": {
           "arrowcolor": "#2a3f5f",
           "arrowhead": 0,
           "arrowwidth": 1
          },
          "coloraxis": {
           "colorbar": {
            "outlinewidth": 0,
            "ticks": ""
           }
          },
          "colorscale": {
           "diverging": [
            [
             0,
             "#8e0152"
            ],
            [
             0.1,
             "#c51b7d"
            ],
            [
             0.2,
             "#de77ae"
            ],
            [
             0.3,
             "#f1b6da"
            ],
            [
             0.4,
             "#fde0ef"
            ],
            [
             0.5,
             "#f7f7f7"
            ],
            [
             0.6,
             "#e6f5d0"
            ],
            [
             0.7,
             "#b8e186"
            ],
            [
             0.8,
             "#7fbc41"
            ],
            [
             0.9,
             "#4d9221"
            ],
            [
             1,
             "#276419"
            ]
           ],
           "sequential": [
            [
             0,
             "#0d0887"
            ],
            [
             0.1111111111111111,
             "#46039f"
            ],
            [
             0.2222222222222222,
             "#7201a8"
            ],
            [
             0.3333333333333333,
             "#9c179e"
            ],
            [
             0.4444444444444444,
             "#bd3786"
            ],
            [
             0.5555555555555556,
             "#d8576b"
            ],
            [
             0.6666666666666666,
             "#ed7953"
            ],
            [
             0.7777777777777778,
             "#fb9f3a"
            ],
            [
             0.8888888888888888,
             "#fdca26"
            ],
            [
             1,
             "#f0f921"
            ]
           ],
           "sequentialminus": [
            [
             0,
             "#0d0887"
            ],
            [
             0.1111111111111111,
             "#46039f"
            ],
            [
             0.2222222222222222,
             "#7201a8"
            ],
            [
             0.3333333333333333,
             "#9c179e"
            ],
            [
             0.4444444444444444,
             "#bd3786"
            ],
            [
             0.5555555555555556,
             "#d8576b"
            ],
            [
             0.6666666666666666,
             "#ed7953"
            ],
            [
             0.7777777777777778,
             "#fb9f3a"
            ],
            [
             0.8888888888888888,
             "#fdca26"
            ],
            [
             1,
             "#f0f921"
            ]
           ]
          },
          "colorway": [
           "#636efa",
           "#EF553B",
           "#00cc96",
           "#ab63fa",
           "#FFA15A",
           "#19d3f3",
           "#FF6692",
           "#B6E880",
           "#FF97FF",
           "#FECB52"
          ],
          "font": {
           "color": "#2a3f5f"
          },
          "geo": {
           "bgcolor": "white",
           "lakecolor": "white",
           "landcolor": "#E5ECF6",
           "showlakes": true,
           "showland": true,
           "subunitcolor": "white"
          },
          "hoverlabel": {
           "align": "left"
          },
          "hovermode": "closest",
          "mapbox": {
           "style": "light"
          },
          "paper_bgcolor": "white",
          "plot_bgcolor": "#E5ECF6",
          "polar": {
           "angularaxis": {
            "gridcolor": "white",
            "linecolor": "white",
            "ticks": ""
           },
           "bgcolor": "#E5ECF6",
           "radialaxis": {
            "gridcolor": "white",
            "linecolor": "white",
            "ticks": ""
           }
          },
          "scene": {
           "xaxis": {
            "backgroundcolor": "#E5ECF6",
            "gridcolor": "white",
            "gridwidth": 2,
            "linecolor": "white",
            "showbackground": true,
            "ticks": "",
            "zerolinecolor": "white"
           },
           "yaxis": {
            "backgroundcolor": "#E5ECF6",
            "gridcolor": "white",
            "gridwidth": 2,
            "linecolor": "white",
            "showbackground": true,
            "ticks": "",
            "zerolinecolor": "white"
           },
           "zaxis": {
            "backgroundcolor": "#E5ECF6",
            "gridcolor": "white",
            "gridwidth": 2,
            "linecolor": "white",
            "showbackground": true,
            "ticks": "",
            "zerolinecolor": "white"
           }
          },
          "shapedefaults": {
           "line": {
            "color": "#2a3f5f"
           }
          },
          "ternary": {
           "aaxis": {
            "gridcolor": "white",
            "linecolor": "white",
            "ticks": ""
           },
           "baxis": {
            "gridcolor": "white",
            "linecolor": "white",
            "ticks": ""
           },
           "bgcolor": "#E5ECF6",
           "caxis": {
            "gridcolor": "white",
            "linecolor": "white",
            "ticks": ""
           }
          },
          "title": {
           "x": 0.05
          },
          "xaxis": {
           "automargin": true,
           "gridcolor": "white",
           "linecolor": "white",
           "ticks": "",
           "title": {
            "standoff": 15
           },
           "zerolinecolor": "white",
           "zerolinewidth": 2
          },
          "yaxis": {
           "automargin": true,
           "gridcolor": "white",
           "linecolor": "white",
           "ticks": "",
           "title": {
            "standoff": 15
           },
           "zerolinecolor": "white",
           "zerolinewidth": 2
          }
         }
        },
        "title": {
         "text": "cv error scores overfit inspection graphs"
        },
        "xaxis": {
         "anchor": "y",
         "autorange": true,
         "domain": [
          0,
          1
         ],
         "range": [
          -1.5748235782482363,
          46.574823578248235
         ],
         "title": {
          "text": "num_of_rounds"
         },
         "type": "linear"
        },
        "yaxis": {
         "anchor": "x",
         "autorange": true,
         "domain": [
          0,
          1
         ],
         "range": [
          0.15829869171974523,
          0.20669690828025478
         ],
         "title": {
          "text": "test-error-mean"
         },
         "type": "linear"
        }
       }
      },
      "image/png": "[encoded data removed]",
      "text/html": [
       "<div>\n",
       "        \n",
       "        \n",
       "            <div id=\"bd579bdc-27ff-434b-9ce8-4bd8243e21ab\" class=\"plotly-graph-div\" style=\"height:525px; width:100%;\"></div>\n",
       "            <script type=\"text/javascript\">\n",
       "                require([\"plotly\"], function(Plotly) {\n",
       "                    window.PLOTLYENV=window.PLOTLYENV || {};\n",
       "                    \n",
       "                if (document.getElementById(\"bd579bdc-27ff-434b-9ce8-4bd8243e21ab\")) {\n",
       "                    Plotly.newPlot(\n",
       "                        'bd579bdc-27ff-434b-9ce8-4bd8243e21ab',\n",
       "                        [{\"hovertemplate\": \"num_of_rounds=%{x}<br>test-error-mean=%{y}<br>train_test_diff (overfit)=%{marker.color}<extra></extra>\", \"legendgroup\": \"\", \"marker\": {\"color\": [0.0248844, 0.0009780000000000066, 0.014695600000000003, 0.009066800000000041, 0.013608800000000032, 0.0227686, 0.01889379999999999, 0.03150540000000002, 0.03256220000000001, 0.03043179999999998, 0.0251894, 0.0287134, 0.028013199999999988, 0.027311399999999986, 0.02903680000000003, 0.03782959999999999, 0.03606380000000001, 0.0374738, 0.03781899999999999, 0.039573, 0.03360799999999997, 0.03324820000000003, 0.036777000000000004, 0.033957600000000004, 0.03571200000000002, 0.036415, 0.04099100000000003, 0.0346544, 0.03182779999999999, 0.0381504, 0.0374478, 0.03816319999999998, 0.04484160000000001, 0.04483780000000001, 0.03919580000000003, 0.040252399999999994, 0.03989619999999999, 0.04026019999999997, 0.041317999999999994, 0.04165340000000001, 0.04482240000000001, 0.03954460000000001, 0.0409486, 0.037448800000000004], \"coloraxis\": \"coloraxis\", \"symbol\": \"circle\"}, \"mode\": \"markers\", \"name\": \"\", \"showlegend\": false, \"type\": \"scatter\", \"x\": [1, 2, 3, 4, 5, 6, 7, 8, 9, 10, 11, 12, 13, 14, 15, 16, 17, 18, 19, 20, 21, 22, 23, 24, 25, 26, 27, 28, 29, 30, 31, 32, 33, 34, 35, 36, 37, 38, 39, 40, 41, 42, 43, 44], \"xaxis\": \"x\", \"y\": [0.2036048, 0.1797004, 0.1811186, 0.1783018, 0.179681, 0.1811188, 0.175485, 0.1824782, 0.1838864, 0.1824584, 0.176864, 0.1810892, 0.1782822, 0.1754752, 0.1782526, 0.1838864, 0.1838766, 0.182478, 0.1782624, 0.1810696, 0.17545539999999998, 0.1754454, 0.1782724, 0.174047, 0.174047, 0.174047, 0.1782726, 0.1726386, 0.1698118, 0.1740274, 0.1740272, 0.17123, 0.174047, 0.1726384, 0.166995, 0.1684034, 0.166995, 0.16841319999999999, 0.1698216, 0.1684034, 0.1712202, 0.164188, 0.164188, 0.1613908], \"yaxis\": \"y\"}],\n",
       "                        {\"coloraxis\": {\"colorbar\": {\"title\": {\"text\": \"train_test_diff (overfit)\"}}, \"colorscale\": [[0.0, \"#0d0887\"], [0.1111111111111111, \"#46039f\"], [0.2222222222222222, \"#7201a8\"], [0.3333333333333333, \"#9c179e\"], [0.4444444444444444, \"#bd3786\"], [0.5555555555555556, \"#d8576b\"], [0.6666666666666666, \"#ed7953\"], [0.7777777777777778, \"#fb9f3a\"], [0.8888888888888888, \"#fdca26\"], [1.0, \"#f0f921\"]]}, \"legend\": {\"tracegroupgap\": 0}, \"template\": {\"data\": {\"bar\": [{\"error_x\": {\"color\": \"#2a3f5f\"}, \"error_y\": {\"color\": \"#2a3f5f\"}, \"marker\": {\"line\": {\"color\": \"#E5ECF6\", \"width\": 0.5}}, \"type\": \"bar\"}], \"barpolar\": [{\"marker\": {\"line\": {\"color\": \"#E5ECF6\", \"width\": 0.5}}, \"type\": \"barpolar\"}], \"carpet\": [{\"aaxis\": {\"endlinecolor\": \"#2a3f5f\", \"gridcolor\": \"white\", \"linecolor\": \"white\", \"minorgridcolor\": \"white\", \"startlinecolor\": \"#2a3f5f\"}, \"baxis\": {\"endlinecolor\": \"#2a3f5f\", \"gridcolor\": \"white\", \"linecolor\": \"white\", \"minorgridcolor\": \"white\", \"startlinecolor\": \"#2a3f5f\"}, \"type\": \"carpet\"}], \"choropleth\": [{\"colorbar\": {\"outlinewidth\": 0, \"ticks\": \"\"}, \"type\": \"choropleth\"}], \"contour\": [{\"colorbar\": {\"outlinewidth\": 0, \"ticks\": \"\"}, \"colorscale\": [[0.0, \"#0d0887\"], [0.1111111111111111, \"#46039f\"], [0.2222222222222222, \"#7201a8\"], [0.3333333333333333, \"#9c179e\"], [0.4444444444444444, \"#bd3786\"], [0.5555555555555556, \"#d8576b\"], [0.6666666666666666, \"#ed7953\"], [0.7777777777777778, \"#fb9f3a\"], [0.8888888888888888, \"#fdca26\"], [1.0, \"#f0f921\"]], \"type\": \"contour\"}], \"contourcarpet\": [{\"colorbar\": {\"outlinewidth\": 0, \"ticks\": \"\"}, \"type\": \"contourcarpet\"}], \"heatmap\": [{\"colorbar\": {\"outlinewidth\": 0, \"ticks\": \"\"}, \"colorscale\": [[0.0, \"#0d0887\"], [0.1111111111111111, \"#46039f\"], [0.2222222222222222, \"#7201a8\"], [0.3333333333333333, \"#9c179e\"], [0.4444444444444444, \"#bd3786\"], [0.5555555555555556, \"#d8576b\"], [0.6666666666666666, \"#ed7953\"], [0.7777777777777778, \"#fb9f3a\"], [0.8888888888888888, \"#fdca26\"], [1.0, \"#f0f921\"]], \"type\": \"heatmap\"}], \"heatmapgl\": [{\"colorbar\": {\"outlinewidth\": 0, \"ticks\": \"\"}, \"colorscale\": [[0.0, \"#0d0887\"], [0.1111111111111111, \"#46039f\"], [0.2222222222222222, \"#7201a8\"], [0.3333333333333333, \"#9c179e\"], [0.4444444444444444, \"#bd3786\"], [0.5555555555555556, \"#d8576b\"], [0.6666666666666666, \"#ed7953\"], [0.7777777777777778, \"#fb9f3a\"], [0.8888888888888888, \"#fdca26\"], [1.0, \"#f0f921\"]], \"type\": \"heatmapgl\"}], \"histogram\": [{\"marker\": {\"colorbar\": {\"outlinewidth\": 0, \"ticks\": \"\"}}, \"type\": \"histogram\"}], \"histogram2d\": [{\"colorbar\": {\"outlinewidth\": 0, \"ticks\": \"\"}, \"colorscale\": [[0.0, \"#0d0887\"], [0.1111111111111111, \"#46039f\"], [0.2222222222222222, \"#7201a8\"], [0.3333333333333333, \"#9c179e\"], [0.4444444444444444, \"#bd3786\"], [0.5555555555555556, \"#d8576b\"], [0.6666666666666666, \"#ed7953\"], [0.7777777777777778, \"#fb9f3a\"], [0.8888888888888888, \"#fdca26\"], [1.0, \"#f0f921\"]], \"type\": \"histogram2d\"}], \"histogram2dcontour\": [{\"colorbar\": {\"outlinewidth\": 0, \"ticks\": \"\"}, \"colorscale\": [[0.0, \"#0d0887\"], [0.1111111111111111, \"#46039f\"], [0.2222222222222222, \"#7201a8\"], [0.3333333333333333, \"#9c179e\"], [0.4444444444444444, \"#bd3786\"], [0.5555555555555556, \"#d8576b\"], [0.6666666666666666, \"#ed7953\"], [0.7777777777777778, \"#fb9f3a\"], [0.8888888888888888, \"#fdca26\"], [1.0, \"#f0f921\"]], \"type\": \"histogram2dcontour\"}], \"mesh3d\": [{\"colorbar\": {\"outlinewidth\": 0, \"ticks\": \"\"}, \"type\": \"mesh3d\"}], \"parcoords\": [{\"line\": {\"colorbar\": {\"outlinewidth\": 0, \"ticks\": \"\"}}, \"type\": \"parcoords\"}], \"pie\": [{\"automargin\": true, \"type\": \"pie\"}], \"scatter\": [{\"marker\": {\"colorbar\": {\"outlinewidth\": 0, \"ticks\": \"\"}}, \"type\": \"scatter\"}], \"scatter3d\": [{\"line\": {\"colorbar\": {\"outlinewidth\": 0, \"ticks\": \"\"}}, \"marker\": {\"colorbar\": {\"outlinewidth\": 0, \"ticks\": \"\"}}, \"type\": \"scatter3d\"}], \"scattercarpet\": [{\"marker\": {\"colorbar\": {\"outlinewidth\": 0, \"ticks\": \"\"}}, \"type\": \"scattercarpet\"}], \"scattergeo\": [{\"marker\": {\"colorbar\": {\"outlinewidth\": 0, \"ticks\": \"\"}}, \"type\": \"scattergeo\"}], \"scattergl\": [{\"marker\": {\"colorbar\": {\"outlinewidth\": 0, \"ticks\": \"\"}}, \"type\": \"scattergl\"}], \"scattermapbox\": [{\"marker\": {\"colorbar\": {\"outlinewidth\": 0, \"ticks\": \"\"}}, \"type\": \"scattermapbox\"}], \"scatterpolar\": [{\"marker\": {\"colorbar\": {\"outlinewidth\": 0, \"ticks\": \"\"}}, \"type\": \"scatterpolar\"}], \"scatterpolargl\": [{\"marker\": {\"colorbar\": {\"outlinewidth\": 0, \"ticks\": \"\"}}, \"type\": \"scatterpolargl\"}], \"scatterternary\": [{\"marker\": {\"colorbar\": {\"outlinewidth\": 0, \"ticks\": \"\"}}, \"type\": \"scatterternary\"}], \"surface\": [{\"colorbar\": {\"outlinewidth\": 0, \"ticks\": \"\"}, \"colorscale\": [[0.0, \"#0d0887\"], [0.1111111111111111, \"#46039f\"], [0.2222222222222222, \"#7201a8\"], [0.3333333333333333, \"#9c179e\"], [0.4444444444444444, \"#bd3786\"], [0.5555555555555556, \"#d8576b\"], [0.6666666666666666, \"#ed7953\"], [0.7777777777777778, \"#fb9f3a\"], [0.8888888888888888, \"#fdca26\"], [1.0, \"#f0f921\"]], \"type\": \"surface\"}], \"table\": [{\"cells\": {\"fill\": {\"color\": \"#EBF0F8\"}, \"line\": {\"color\": \"white\"}}, \"header\": {\"fill\": {\"color\": \"#C8D4E3\"}, \"line\": {\"color\": \"white\"}}, \"type\": \"table\"}]}, \"layout\": {\"annotationdefaults\": {\"arrowcolor\": \"#2a3f5f\", \"arrowhead\": 0, \"arrowwidth\": 1}, \"coloraxis\": {\"colorbar\": {\"outlinewidth\": 0, \"ticks\": \"\"}}, \"colorscale\": {\"diverging\": [[0, \"#8e0152\"], [0.1, \"#c51b7d\"], [0.2, \"#de77ae\"], [0.3, \"#f1b6da\"], [0.4, \"#fde0ef\"], [0.5, \"#f7f7f7\"], [0.6, \"#e6f5d0\"], [0.7, \"#b8e186\"], [0.8, \"#7fbc41\"], [0.9, \"#4d9221\"], [1, \"#276419\"]], \"sequential\": [[0.0, \"#0d0887\"], [0.1111111111111111, \"#46039f\"], [0.2222222222222222, \"#7201a8\"], [0.3333333333333333, \"#9c179e\"], [0.4444444444444444, \"#bd3786\"], [0.5555555555555556, \"#d8576b\"], [0.6666666666666666, \"#ed7953\"], [0.7777777777777778, \"#fb9f3a\"], [0.8888888888888888, \"#fdca26\"], [1.0, \"#f0f921\"]], \"sequentialminus\": [[0.0, \"#0d0887\"], [0.1111111111111111, \"#46039f\"], [0.2222222222222222, \"#7201a8\"], [0.3333333333333333, \"#9c179e\"], [0.4444444444444444, \"#bd3786\"], [0.5555555555555556, \"#d8576b\"], [0.6666666666666666, \"#ed7953\"], [0.7777777777777778, \"#fb9f3a\"], [0.8888888888888888, \"#fdca26\"], [1.0, \"#f0f921\"]]}, \"colorway\": [\"#636efa\", \"#EF553B\", \"#00cc96\", \"#ab63fa\", \"#FFA15A\", \"#19d3f3\", \"#FF6692\", \"#B6E880\", \"#FF97FF\", \"#FECB52\"], \"font\": {\"color\": \"#2a3f5f\"}, \"geo\": {\"bgcolor\": \"white\", \"lakecolor\": \"white\", \"landcolor\": \"#E5ECF6\", \"showlakes\": true, \"showland\": true, \"subunitcolor\": \"white\"}, \"hoverlabel\": {\"align\": \"left\"}, \"hovermode\": \"closest\", \"mapbox\": {\"style\": \"light\"}, \"paper_bgcolor\": \"white\", \"plot_bgcolor\": \"#E5ECF6\", \"polar\": {\"angularaxis\": {\"gridcolor\": \"white\", \"linecolor\": \"white\", \"ticks\": \"\"}, \"bgcolor\": \"#E5ECF6\", \"radialaxis\": {\"gridcolor\": \"white\", \"linecolor\": \"white\", \"ticks\": \"\"}}, \"scene\": {\"xaxis\": {\"backgroundcolor\": \"#E5ECF6\", \"gridcolor\": \"white\", \"gridwidth\": 2, \"linecolor\": \"white\", \"showbackground\": true, \"ticks\": \"\", \"zerolinecolor\": \"white\"}, \"yaxis\": {\"backgroundcolor\": \"#E5ECF6\", \"gridcolor\": \"white\", \"gridwidth\": 2, \"linecolor\": \"white\", \"showbackground\": true, \"ticks\": \"\", \"zerolinecolor\": \"white\"}, \"zaxis\": {\"backgroundcolor\": \"#E5ECF6\", \"gridcolor\": \"white\", \"gridwidth\": 2, \"linecolor\": \"white\", \"showbackground\": true, \"ticks\": \"\", \"zerolinecolor\": \"white\"}}, \"shapedefaults\": {\"line\": {\"color\": \"#2a3f5f\"}}, \"ternary\": {\"aaxis\": {\"gridcolor\": \"white\", \"linecolor\": \"white\", \"ticks\": \"\"}, \"baxis\": {\"gridcolor\": \"white\", \"linecolor\": \"white\", \"ticks\": \"\"}, \"bgcolor\": \"#E5ECF6\", \"caxis\": {\"gridcolor\": \"white\", \"linecolor\": \"white\", \"ticks\": \"\"}}, \"title\": {\"x\": 0.05}, \"xaxis\": {\"automargin\": true, \"gridcolor\": \"white\", \"linecolor\": \"white\", \"ticks\": \"\", \"title\": {\"standoff\": 15}, \"zerolinecolor\": \"white\", \"zerolinewidth\": 2}, \"yaxis\": {\"automargin\": true, \"gridcolor\": \"white\", \"linecolor\": \"white\", \"ticks\": \"\", \"title\": {\"standoff\": 15}, \"zerolinecolor\": \"white\", \"zerolinewidth\": 2}}}, \"title\": {\"text\": \"cv error scores overfit inspection graphs\"}, \"xaxis\": {\"anchor\": \"y\", \"domain\": [0.0, 1.0], \"title\": {\"text\": \"num_of_rounds\"}}, \"yaxis\": {\"anchor\": \"x\", \"domain\": [0.0, 1.0], \"title\": {\"text\": \"test-error-mean\"}}},\n",
       "                        {\"responsive\": true}\n",
       "                    ).then(function(){\n",
       "                            \n",
       "var gd = document.getElementById('bd579bdc-27ff-434b-9ce8-4bd8243e21ab');\n",
       "var x = new MutationObserver(function (mutations, observer) {{\n",
       "        var display = window.getComputedStyle(gd).display;\n",
       "        if (!display || display === 'none') {{\n",
       "            console.log([gd, 'removed!']);\n",
       "            Plotly.purge(gd);\n",
       "            observer.disconnect();\n",
       "        }}\n",
       "}});\n",
       "\n",
       "// Listen for the removal of the full notebook cells\n",
       "var notebookContainer = gd.closest('#notebook-container');\n",
       "if (notebookContainer) {{\n",
       "    x.observe(notebookContainer, {childList: true});\n",
       "}}\n",
       "\n",
       "// Listen for the clearing of the current output cell\n",
       "var outputEl = gd.closest('.output');\n",
       "if (outputEl) {{\n",
       "    x.observe(outputEl, {childList: true});\n",
       "}}\n",
       "\n",
       "                        })\n",
       "                };\n",
       "                });\n",
       "            </script>\n",
       "        </div>"
      ]
     },
     "metadata": {},
     "output_type": "display_data"
    },
    {
     "data": {
      "application/vnd.plotly.v1+json": {
       "config": {
        "plotlyServerURL": "https://plot.ly"
       },
       "data": [
        {
         "hovertemplate": "num_of_rounds=%{x}<br>train_test_diff (overfit)=%{y}<br>test-error-mean=%{marker.color}<extra></extra>",
         "legendgroup": "",
         "marker": {
          "color": [
           0.2036048,
           0.1797004,
           0.1811186,
           0.1783018,
           0.179681,
           0.1811188,
           0.175485,
           0.1824782,
           0.1838864,
           0.1824584,
           0.176864,
           0.1810892,
           0.1782822,
           0.1754752,
           0.1782526,
           0.1838864,
           0.1838766,
           0.182478,
           0.1782624,
           0.1810696,
           0.17545539999999998,
           0.1754454,
           0.1782724,
           0.174047,
           0.174047,
           0.174047,
           0.1782726,
           0.1726386,
           0.1698118,
           0.1740274,
           0.1740272,
           0.17123,
           0.174047,
           0.1726384,
           0.166995,
           0.1684034,
           0.166995,
           0.16841319999999999,
           0.1698216,
           0.1684034,
           0.1712202,
           0.164188,
           0.164188,
           0.1613908
          ],
          "coloraxis": "coloraxis",
          "symbol": "circle"
         },
         "mode": "markers",
         "name": "",
         "showlegend": false,
         "type": "scatter",
         "x": [
          1,
          2,
          3,
          4,
          5,
          6,
          7,
          8,
          9,
          10,
          11,
          12,
          13,
          14,
          15,
          16,
          17,
          18,
          19,
          20,
          21,
          22,
          23,
          24,
          25,
          26,
          27,
          28,
          29,
          30,
          31,
          32,
          33,
          34,
          35,
          36,
          37,
          38,
          39,
          40,
          41,
          42,
          43,
          44
         ],
         "xaxis": "x",
         "y": [
          0.0248844,
          0.0009780000000000066,
          0.014695600000000003,
          0.009066800000000041,
          0.013608800000000032,
          0.0227686,
          0.01889379999999999,
          0.03150540000000002,
          0.03256220000000001,
          0.03043179999999998,
          0.0251894,
          0.0287134,
          0.028013199999999988,
          0.027311399999999986,
          0.02903680000000003,
          0.03782959999999999,
          0.03606380000000001,
          0.0374738,
          0.03781899999999999,
          0.039573,
          0.03360799999999997,
          0.03324820000000003,
          0.036777000000000004,
          0.033957600000000004,
          0.03571200000000002,
          0.036415,
          0.04099100000000003,
          0.0346544,
          0.03182779999999999,
          0.0381504,
          0.0374478,
          0.03816319999999998,
          0.04484160000000001,
          0.04483780000000001,
          0.03919580000000003,
          0.040252399999999994,
          0.03989619999999999,
          0.04026019999999997,
          0.041317999999999994,
          0.04165340000000001,
          0.04482240000000001,
          0.03954460000000001,
          0.0409486,
          0.037448800000000004
         ],
         "yaxis": "y"
        }
       ],
       "layout": {
        "autosize": true,
        "coloraxis": {
         "colorbar": {
          "title": {
           "text": "test-error-mean"
          }
         },
         "colorscale": [
          [
           0,
           "#0d0887"
          ],
          [
           0.1111111111111111,
           "#46039f"
          ],
          [
           0.2222222222222222,
           "#7201a8"
          ],
          [
           0.3333333333333333,
           "#9c179e"
          ],
          [
           0.4444444444444444,
           "#bd3786"
          ],
          [
           0.5555555555555556,
           "#d8576b"
          ],
          [
           0.6666666666666666,
           "#ed7953"
          ],
          [
           0.7777777777777778,
           "#fb9f3a"
          ],
          [
           0.8888888888888888,
           "#fdca26"
          ],
          [
           1,
           "#f0f921"
          ]
         ]
        },
        "legend": {
         "tracegroupgap": 0
        },
        "margin": {
         "t": 60
        },
        "template": {
         "data": {
          "bar": [
           {
            "error_x": {
             "color": "#2a3f5f"
            },
            "error_y": {
             "color": "#2a3f5f"
            },
            "marker": {
             "line": {
              "color": "#E5ECF6",
              "width": 0.5
             }
            },
            "type": "bar"
           }
          ],
          "barpolar": [
           {
            "marker": {
             "line": {
              "color": "#E5ECF6",
              "width": 0.5
             }
            },
            "type": "barpolar"
           }
          ],
          "carpet": [
           {
            "aaxis": {
             "endlinecolor": "#2a3f5f",
             "gridcolor": "white",
             "linecolor": "white",
             "minorgridcolor": "white",
             "startlinecolor": "#2a3f5f"
            },
            "baxis": {
             "endlinecolor": "#2a3f5f",
             "gridcolor": "white",
             "linecolor": "white",
             "minorgridcolor": "white",
             "startlinecolor": "#2a3f5f"
            },
            "type": "carpet"
           }
          ],
          "choropleth": [
           {
            "colorbar": {
             "outlinewidth": 0,
             "ticks": ""
            },
            "type": "choropleth"
           }
          ],
          "contour": [
           {
            "colorbar": {
             "outlinewidth": 0,
             "ticks": ""
            },
            "colorscale": [
             [
              0,
              "#0d0887"
             ],
             [
              0.1111111111111111,
              "#46039f"
             ],
             [
              0.2222222222222222,
              "#7201a8"
             ],
             [
              0.3333333333333333,
              "#9c179e"
             ],
             [
              0.4444444444444444,
              "#bd3786"
             ],
             [
              0.5555555555555556,
              "#d8576b"
             ],
             [
              0.6666666666666666,
              "#ed7953"
             ],
             [
              0.7777777777777778,
              "#fb9f3a"
             ],
             [
              0.8888888888888888,
              "#fdca26"
             ],
             [
              1,
              "#f0f921"
             ]
            ],
            "type": "contour"
           }
          ],
          "contourcarpet": [
           {
            "colorbar": {
             "outlinewidth": 0,
             "ticks": ""
            },
            "type": "contourcarpet"
           }
          ],
          "heatmap": [
           {
            "colorbar": {
             "outlinewidth": 0,
             "ticks": ""
            },
            "colorscale": [
             [
              0,
              "#0d0887"
             ],
             [
              0.1111111111111111,
              "#46039f"
             ],
             [
              0.2222222222222222,
              "#7201a8"
             ],
             [
              0.3333333333333333,
              "#9c179e"
             ],
             [
              0.4444444444444444,
              "#bd3786"
             ],
             [
              0.5555555555555556,
              "#d8576b"
             ],
             [
              0.6666666666666666,
              "#ed7953"
             ],
             [
              0.7777777777777778,
              "#fb9f3a"
             ],
             [
              0.8888888888888888,
              "#fdca26"
             ],
             [
              1,
              "#f0f921"
             ]
            ],
            "type": "heatmap"
           }
          ],
          "heatmapgl": [
           {
            "colorbar": {
             "outlinewidth": 0,
             "ticks": ""
            },
            "colorscale": [
             [
              0,
              "#0d0887"
             ],
             [
              0.1111111111111111,
              "#46039f"
             ],
             [
              0.2222222222222222,
              "#7201a8"
             ],
             [
              0.3333333333333333,
              "#9c179e"
             ],
             [
              0.4444444444444444,
              "#bd3786"
             ],
             [
              0.5555555555555556,
              "#d8576b"
             ],
             [
              0.6666666666666666,
              "#ed7953"
             ],
             [
              0.7777777777777778,
              "#fb9f3a"
             ],
             [
              0.8888888888888888,
              "#fdca26"
             ],
             [
              1,
              "#f0f921"
             ]
            ],
            "type": "heatmapgl"
           }
          ],
          "histogram": [
           {
            "marker": {
             "colorbar": {
              "outlinewidth": 0,
              "ticks": ""
             }
            },
            "type": "histogram"
           }
          ],
          "histogram2d": [
           {
            "colorbar": {
             "outlinewidth": 0,
             "ticks": ""
            },
            "colorscale": [
             [
              0,
              "#0d0887"
             ],
             [
              0.1111111111111111,
              "#46039f"
             ],
             [
              0.2222222222222222,
              "#7201a8"
             ],
             [
              0.3333333333333333,
              "#9c179e"
             ],
             [
              0.4444444444444444,
              "#bd3786"
             ],
             [
              0.5555555555555556,
              "#d8576b"
             ],
             [
              0.6666666666666666,
              "#ed7953"
             ],
             [
              0.7777777777777778,
              "#fb9f3a"
             ],
             [
              0.8888888888888888,
              "#fdca26"
             ],
             [
              1,
              "#f0f921"
             ]
            ],
            "type": "histogram2d"
           }
          ],
          "histogram2dcontour": [
           {
            "colorbar": {
             "outlinewidth": 0,
             "ticks": ""
            },
            "colorscale": [
             [
              0,
              "#0d0887"
             ],
             [
              0.1111111111111111,
              "#46039f"
             ],
             [
              0.2222222222222222,
              "#7201a8"
             ],
             [
              0.3333333333333333,
              "#9c179e"
             ],
             [
              0.4444444444444444,
              "#bd3786"
             ],
             [
              0.5555555555555556,
              "#d8576b"
             ],
             [
              0.6666666666666666,
              "#ed7953"
             ],
             [
              0.7777777777777778,
              "#fb9f3a"
             ],
             [
              0.8888888888888888,
              "#fdca26"
             ],
             [
              1,
              "#f0f921"
             ]
            ],
            "type": "histogram2dcontour"
           }
          ],
          "mesh3d": [
           {
            "colorbar": {
             "outlinewidth": 0,
             "ticks": ""
            },
            "type": "mesh3d"
           }
          ],
          "parcoords": [
           {
            "line": {
             "colorbar": {
              "outlinewidth": 0,
              "ticks": ""
             }
            },
            "type": "parcoords"
           }
          ],
          "pie": [
           {
            "automargin": true,
            "type": "pie"
           }
          ],
          "scatter": [
           {
            "marker": {
             "colorbar": {
              "outlinewidth": 0,
              "ticks": ""
             }
            },
            "type": "scatter"
           }
          ],
          "scatter3d": [
           {
            "line": {
             "colorbar": {
              "outlinewidth": 0,
              "ticks": ""
             }
            },
            "marker": {
             "colorbar": {
              "outlinewidth": 0,
              "ticks": ""
             }
            },
            "type": "scatter3d"
           }
          ],
          "scattercarpet": [
           {
            "marker": {
             "colorbar": {
              "outlinewidth": 0,
              "ticks": ""
             }
            },
            "type": "scattercarpet"
           }
          ],
          "scattergeo": [
           {
            "marker": {
             "colorbar": {
              "outlinewidth": 0,
              "ticks": ""
             }
            },
            "type": "scattergeo"
           }
          ],
          "scattergl": [
           {
            "marker": {
             "colorbar": {
              "outlinewidth": 0,
              "ticks": ""
             }
            },
            "type": "scattergl"
           }
          ],
          "scattermapbox": [
           {
            "marker": {
             "colorbar": {
              "outlinewidth": 0,
              "ticks": ""
             }
            },
            "type": "scattermapbox"
           }
          ],
          "scatterpolar": [
           {
            "marker": {
             "colorbar": {
              "outlinewidth": 0,
              "ticks": ""
             }
            },
            "type": "scatterpolar"
           }
          ],
          "scatterpolargl": [
           {
            "marker": {
             "colorbar": {
              "outlinewidth": 0,
              "ticks": ""
             }
            },
            "type": "scatterpolargl"
           }
          ],
          "scatterternary": [
           {
            "marker": {
             "colorbar": {
              "outlinewidth": 0,
              "ticks": ""
             }
            },
            "type": "scatterternary"
           }
          ],
          "surface": [
           {
            "colorbar": {
             "outlinewidth": 0,
             "ticks": ""
            },
            "colorscale": [
             [
              0,
              "#0d0887"
             ],
             [
              0.1111111111111111,
              "#46039f"
             ],
             [
              0.2222222222222222,
              "#7201a8"
             ],
             [
              0.3333333333333333,
              "#9c179e"
             ],
             [
              0.4444444444444444,
              "#bd3786"
             ],
             [
              0.5555555555555556,
              "#d8576b"
             ],
             [
              0.6666666666666666,
              "#ed7953"
             ],
             [
              0.7777777777777778,
              "#fb9f3a"
             ],
             [
              0.8888888888888888,
              "#fdca26"
             ],
             [
              1,
              "#f0f921"
             ]
            ],
            "type": "surface"
           }
          ],
          "table": [
           {
            "cells": {
             "fill": {
              "color": "#EBF0F8"
             },
             "line": {
              "color": "white"
             }
            },
            "header": {
             "fill": {
              "color": "#C8D4E3"
             },
             "line": {
              "color": "white"
             }
            },
            "type": "table"
           }
          ]
         },
         "layout": {
          "annotationdefaults": {
           "arrowcolor": "#2a3f5f",
           "arrowhead": 0,
           "arrowwidth": 1
          },
          "coloraxis": {
           "colorbar": {
            "outlinewidth": 0,
            "ticks": ""
           }
          },
          "colorscale": {
           "diverging": [
            [
             0,
             "#8e0152"
            ],
            [
             0.1,
             "#c51b7d"
            ],
            [
             0.2,
             "#de77ae"
            ],
            [
             0.3,
             "#f1b6da"
            ],
            [
             0.4,
             "#fde0ef"
            ],
            [
             0.5,
             "#f7f7f7"
            ],
            [
             0.6,
             "#e6f5d0"
            ],
            [
             0.7,
             "#b8e186"
            ],
            [
             0.8,
             "#7fbc41"
            ],
            [
             0.9,
             "#4d9221"
            ],
            [
             1,
             "#276419"
            ]
           ],
           "sequential": [
            [
             0,
             "#0d0887"
            ],
            [
             0.1111111111111111,
             "#46039f"
            ],
            [
             0.2222222222222222,
             "#7201a8"
            ],
            [
             0.3333333333333333,
             "#9c179e"
            ],
            [
             0.4444444444444444,
             "#bd3786"
            ],
            [
             0.5555555555555556,
             "#d8576b"
            ],
            [
             0.6666666666666666,
             "#ed7953"
            ],
            [
             0.7777777777777778,
             "#fb9f3a"
            ],
            [
             0.8888888888888888,
             "#fdca26"
            ],
            [
             1,
             "#f0f921"
            ]
           ],
           "sequentialminus": [
            [
             0,
             "#0d0887"
            ],
            [
             0.1111111111111111,
             "#46039f"
            ],
            [
             0.2222222222222222,
             "#7201a8"
            ],
            [
             0.3333333333333333,
             "#9c179e"
            ],
            [
             0.4444444444444444,
             "#bd3786"
            ],
            [
             0.5555555555555556,
             "#d8576b"
            ],
            [
             0.6666666666666666,
             "#ed7953"
            ],
            [
             0.7777777777777778,
             "#fb9f3a"
            ],
            [
             0.8888888888888888,
             "#fdca26"
            ],
            [
             1,
             "#f0f921"
            ]
           ]
          },
          "colorway": [
           "#636efa",
           "#EF553B",
           "#00cc96",
           "#ab63fa",
           "#FFA15A",
           "#19d3f3",
           "#FF6692",
           "#B6E880",
           "#FF97FF",
           "#FECB52"
          ],
          "font": {
           "color": "#2a3f5f"
          },
          "geo": {
           "bgcolor": "white",
           "lakecolor": "white",
           "landcolor": "#E5ECF6",
           "showlakes": true,
           "showland": true,
           "subunitcolor": "white"
          },
          "hoverlabel": {
           "align": "left"
          },
          "hovermode": "closest",
          "mapbox": {
           "style": "light"
          },
          "paper_bgcolor": "white",
          "plot_bgcolor": "#E5ECF6",
          "polar": {
           "angularaxis": {
            "gridcolor": "white",
            "linecolor": "white",
            "ticks": ""
           },
           "bgcolor": "#E5ECF6",
           "radialaxis": {
            "gridcolor": "white",
            "linecolor": "white",
            "ticks": ""
           }
          },
          "scene": {
           "xaxis": {
            "backgroundcolor": "#E5ECF6",
            "gridcolor": "white",
            "gridwidth": 2,
            "linecolor": "white",
            "showbackground": true,
            "ticks": "",
            "zerolinecolor": "white"
           },
           "yaxis": {
            "backgroundcolor": "#E5ECF6",
            "gridcolor": "white",
            "gridwidth": 2,
            "linecolor": "white",
            "showbackground": true,
            "ticks": "",
            "zerolinecolor": "white"
           },
           "zaxis": {
            "backgroundcolor": "#E5ECF6",
            "gridcolor": "white",
            "gridwidth": 2,
            "linecolor": "white",
            "showbackground": true,
            "ticks": "",
            "zerolinecolor": "white"
           }
          },
          "shapedefaults": {
           "line": {
            "color": "#2a3f5f"
           }
          },
          "ternary": {
           "aaxis": {
            "gridcolor": "white",
            "linecolor": "white",
            "ticks": ""
           },
           "baxis": {
            "gridcolor": "white",
            "linecolor": "white",
            "ticks": ""
           },
           "bgcolor": "#E5ECF6",
           "caxis": {
            "gridcolor": "white",
            "linecolor": "white",
            "ticks": ""
           }
          },
          "title": {
           "x": 0.05
          },
          "xaxis": {
           "automargin": true,
           "gridcolor": "white",
           "linecolor": "white",
           "ticks": "",
           "title": {
            "standoff": 15
           },
           "zerolinecolor": "white",
           "zerolinewidth": 2
          },
          "yaxis": {
           "automargin": true,
           "gridcolor": "white",
           "linecolor": "white",
           "ticks": "",
           "title": {
            "standoff": 15
           },
           "zerolinecolor": "white",
           "zerolinewidth": 2
          }
         }
        },
        "xaxis": {
         "anchor": "y",
         "autorange": true,
         "domain": [
          0,
          1
         ],
         "range": [
          -1.5694276501410718,
          46.56942765014107
         ],
         "title": {
          "text": "num_of_rounds"
         },
         "type": "linear"
        },
        "yaxis": {
         "anchor": "x",
         "autorange": true,
         "domain": [
          0,
          1
         ],
         "range": [
          -0.00213203425414364,
          0.04795163425414366
         ],
         "title": {
          "text": "train_test_diff (overfit)"
         },
         "type": "linear"
        }
       }
      },
      "image/png": "[encoded data removed]",
      "text/html": [
       "<div>\n",
       "        \n",
       "        \n",
       "            <div id=\"09d11006-c028-4204-a077-90637586efc1\" class=\"plotly-graph-div\" style=\"height:525px; width:100%;\"></div>\n",
       "            <script type=\"text/javascript\">\n",
       "                require([\"plotly\"], function(Plotly) {\n",
       "                    window.PLOTLYENV=window.PLOTLYENV || {};\n",
       "                    \n",
       "                if (document.getElementById(\"09d11006-c028-4204-a077-90637586efc1\")) {\n",
       "                    Plotly.newPlot(\n",
       "                        '09d11006-c028-4204-a077-90637586efc1',\n",
       "                        [{\"hovertemplate\": \"num_of_rounds=%{x}<br>train_test_diff (overfit)=%{y}<br>test-error-mean=%{marker.color}<extra></extra>\", \"legendgroup\": \"\", \"marker\": {\"color\": [0.2036048, 0.1797004, 0.1811186, 0.1783018, 0.179681, 0.1811188, 0.175485, 0.1824782, 0.1838864, 0.1824584, 0.176864, 0.1810892, 0.1782822, 0.1754752, 0.1782526, 0.1838864, 0.1838766, 0.182478, 0.1782624, 0.1810696, 0.17545539999999998, 0.1754454, 0.1782724, 0.174047, 0.174047, 0.174047, 0.1782726, 0.1726386, 0.1698118, 0.1740274, 0.1740272, 0.17123, 0.174047, 0.1726384, 0.166995, 0.1684034, 0.166995, 0.16841319999999999, 0.1698216, 0.1684034, 0.1712202, 0.164188, 0.164188, 0.1613908], \"coloraxis\": \"coloraxis\", \"symbol\": \"circle\"}, \"mode\": \"markers\", \"name\": \"\", \"showlegend\": false, \"type\": \"scatter\", \"x\": [1, 2, 3, 4, 5, 6, 7, 8, 9, 10, 11, 12, 13, 14, 15, 16, 17, 18, 19, 20, 21, 22, 23, 24, 25, 26, 27, 28, 29, 30, 31, 32, 33, 34, 35, 36, 37, 38, 39, 40, 41, 42, 43, 44], \"xaxis\": \"x\", \"y\": [0.0248844, 0.0009780000000000066, 0.014695600000000003, 0.009066800000000041, 0.013608800000000032, 0.0227686, 0.01889379999999999, 0.03150540000000002, 0.03256220000000001, 0.03043179999999998, 0.0251894, 0.0287134, 0.028013199999999988, 0.027311399999999986, 0.02903680000000003, 0.03782959999999999, 0.03606380000000001, 0.0374738, 0.03781899999999999, 0.039573, 0.03360799999999997, 0.03324820000000003, 0.036777000000000004, 0.033957600000000004, 0.03571200000000002, 0.036415, 0.04099100000000003, 0.0346544, 0.03182779999999999, 0.0381504, 0.0374478, 0.03816319999999998, 0.04484160000000001, 0.04483780000000001, 0.03919580000000003, 0.040252399999999994, 0.03989619999999999, 0.04026019999999997, 0.041317999999999994, 0.04165340000000001, 0.04482240000000001, 0.03954460000000001, 0.0409486, 0.037448800000000004], \"yaxis\": \"y\"}],\n",
       "                        {\"coloraxis\": {\"colorbar\": {\"title\": {\"text\": \"test-error-mean\"}}, \"colorscale\": [[0.0, \"#0d0887\"], [0.1111111111111111, \"#46039f\"], [0.2222222222222222, \"#7201a8\"], [0.3333333333333333, \"#9c179e\"], [0.4444444444444444, \"#bd3786\"], [0.5555555555555556, \"#d8576b\"], [0.6666666666666666, \"#ed7953\"], [0.7777777777777778, \"#fb9f3a\"], [0.8888888888888888, \"#fdca26\"], [1.0, \"#f0f921\"]]}, \"legend\": {\"tracegroupgap\": 0}, \"margin\": {\"t\": 60}, \"template\": {\"data\": {\"bar\": [{\"error_x\": {\"color\": \"#2a3f5f\"}, \"error_y\": {\"color\": \"#2a3f5f\"}, \"marker\": {\"line\": {\"color\": \"#E5ECF6\", \"width\": 0.5}}, \"type\": \"bar\"}], \"barpolar\": [{\"marker\": {\"line\": {\"color\": \"#E5ECF6\", \"width\": 0.5}}, \"type\": \"barpolar\"}], \"carpet\": [{\"aaxis\": {\"endlinecolor\": \"#2a3f5f\", \"gridcolor\": \"white\", \"linecolor\": \"white\", \"minorgridcolor\": \"white\", \"startlinecolor\": \"#2a3f5f\"}, \"baxis\": {\"endlinecolor\": \"#2a3f5f\", \"gridcolor\": \"white\", \"linecolor\": \"white\", \"minorgridcolor\": \"white\", \"startlinecolor\": \"#2a3f5f\"}, \"type\": \"carpet\"}], \"choropleth\": [{\"colorbar\": {\"outlinewidth\": 0, \"ticks\": \"\"}, \"type\": \"choropleth\"}], \"contour\": [{\"colorbar\": {\"outlinewidth\": 0, \"ticks\": \"\"}, \"colorscale\": [[0.0, \"#0d0887\"], [0.1111111111111111, \"#46039f\"], [0.2222222222222222, \"#7201a8\"], [0.3333333333333333, \"#9c179e\"], [0.4444444444444444, \"#bd3786\"], [0.5555555555555556, \"#d8576b\"], [0.6666666666666666, \"#ed7953\"], [0.7777777777777778, \"#fb9f3a\"], [0.8888888888888888, \"#fdca26\"], [1.0, \"#f0f921\"]], \"type\": \"contour\"}], \"contourcarpet\": [{\"colorbar\": {\"outlinewidth\": 0, \"ticks\": \"\"}, \"type\": \"contourcarpet\"}], \"heatmap\": [{\"colorbar\": {\"outlinewidth\": 0, \"ticks\": \"\"}, \"colorscale\": [[0.0, \"#0d0887\"], [0.1111111111111111, \"#46039f\"], [0.2222222222222222, \"#7201a8\"], [0.3333333333333333, \"#9c179e\"], [0.4444444444444444, \"#bd3786\"], [0.5555555555555556, \"#d8576b\"], [0.6666666666666666, \"#ed7953\"], [0.7777777777777778, \"#fb9f3a\"], [0.8888888888888888, \"#fdca26\"], [1.0, \"#f0f921\"]], \"type\": \"heatmap\"}], \"heatmapgl\": [{\"colorbar\": {\"outlinewidth\": 0, \"ticks\": \"\"}, \"colorscale\": [[0.0, \"#0d0887\"], [0.1111111111111111, \"#46039f\"], [0.2222222222222222, \"#7201a8\"], [0.3333333333333333, \"#9c179e\"], [0.4444444444444444, \"#bd3786\"], [0.5555555555555556, \"#d8576b\"], [0.6666666666666666, \"#ed7953\"], [0.7777777777777778, \"#fb9f3a\"], [0.8888888888888888, \"#fdca26\"], [1.0, \"#f0f921\"]], \"type\": \"heatmapgl\"}], \"histogram\": [{\"marker\": {\"colorbar\": {\"outlinewidth\": 0, \"ticks\": \"\"}}, \"type\": \"histogram\"}], \"histogram2d\": [{\"colorbar\": {\"outlinewidth\": 0, \"ticks\": \"\"}, \"colorscale\": [[0.0, \"#0d0887\"], [0.1111111111111111, \"#46039f\"], [0.2222222222222222, \"#7201a8\"], [0.3333333333333333, \"#9c179e\"], [0.4444444444444444, \"#bd3786\"], [0.5555555555555556, \"#d8576b\"], [0.6666666666666666, \"#ed7953\"], [0.7777777777777778, \"#fb9f3a\"], [0.8888888888888888, \"#fdca26\"], [1.0, \"#f0f921\"]], \"type\": \"histogram2d\"}], \"histogram2dcontour\": [{\"colorbar\": {\"outlinewidth\": 0, \"ticks\": \"\"}, \"colorscale\": [[0.0, \"#0d0887\"], [0.1111111111111111, \"#46039f\"], [0.2222222222222222, \"#7201a8\"], [0.3333333333333333, \"#9c179e\"], [0.4444444444444444, \"#bd3786\"], [0.5555555555555556, \"#d8576b\"], [0.6666666666666666, \"#ed7953\"], [0.7777777777777778, \"#fb9f3a\"], [0.8888888888888888, \"#fdca26\"], [1.0, \"#f0f921\"]], \"type\": \"histogram2dcontour\"}], \"mesh3d\": [{\"colorbar\": {\"outlinewidth\": 0, \"ticks\": \"\"}, \"type\": \"mesh3d\"}], \"parcoords\": [{\"line\": {\"colorbar\": {\"outlinewidth\": 0, \"ticks\": \"\"}}, \"type\": \"parcoords\"}], \"pie\": [{\"automargin\": true, \"type\": \"pie\"}], \"scatter\": [{\"marker\": {\"colorbar\": {\"outlinewidth\": 0, \"ticks\": \"\"}}, \"type\": \"scatter\"}], \"scatter3d\": [{\"line\": {\"colorbar\": {\"outlinewidth\": 0, \"ticks\": \"\"}}, \"marker\": {\"colorbar\": {\"outlinewidth\": 0, \"ticks\": \"\"}}, \"type\": \"scatter3d\"}], \"scattercarpet\": [{\"marker\": {\"colorbar\": {\"outlinewidth\": 0, \"ticks\": \"\"}}, \"type\": \"scattercarpet\"}], \"scattergeo\": [{\"marker\": {\"colorbar\": {\"outlinewidth\": 0, \"ticks\": \"\"}}, \"type\": \"scattergeo\"}], \"scattergl\": [{\"marker\": {\"colorbar\": {\"outlinewidth\": 0, \"ticks\": \"\"}}, \"type\": \"scattergl\"}], \"scattermapbox\": [{\"marker\": {\"colorbar\": {\"outlinewidth\": 0, \"ticks\": \"\"}}, \"type\": \"scattermapbox\"}], \"scatterpolar\": [{\"marker\": {\"colorbar\": {\"outlinewidth\": 0, \"ticks\": \"\"}}, \"type\": \"scatterpolar\"}], \"scatterpolargl\": [{\"marker\": {\"colorbar\": {\"outlinewidth\": 0, \"ticks\": \"\"}}, \"type\": \"scatterpolargl\"}], \"scatterternary\": [{\"marker\": {\"colorbar\": {\"outlinewidth\": 0, \"ticks\": \"\"}}, \"type\": \"scatterternary\"}], \"surface\": [{\"colorbar\": {\"outlinewidth\": 0, \"ticks\": \"\"}, \"colorscale\": [[0.0, \"#0d0887\"], [0.1111111111111111, \"#46039f\"], [0.2222222222222222, \"#7201a8\"], [0.3333333333333333, \"#9c179e\"], [0.4444444444444444, \"#bd3786\"], [0.5555555555555556, \"#d8576b\"], [0.6666666666666666, \"#ed7953\"], [0.7777777777777778, \"#fb9f3a\"], [0.8888888888888888, \"#fdca26\"], [1.0, \"#f0f921\"]], \"type\": \"surface\"}], \"table\": [{\"cells\": {\"fill\": {\"color\": \"#EBF0F8\"}, \"line\": {\"color\": \"white\"}}, \"header\": {\"fill\": {\"color\": \"#C8D4E3\"}, \"line\": {\"color\": \"white\"}}, \"type\": \"table\"}]}, \"layout\": {\"annotationdefaults\": {\"arrowcolor\": \"#2a3f5f\", \"arrowhead\": 0, \"arrowwidth\": 1}, \"coloraxis\": {\"colorbar\": {\"outlinewidth\": 0, \"ticks\": \"\"}}, \"colorscale\": {\"diverging\": [[0, \"#8e0152\"], [0.1, \"#c51b7d\"], [0.2, \"#de77ae\"], [0.3, \"#f1b6da\"], [0.4, \"#fde0ef\"], [0.5, \"#f7f7f7\"], [0.6, \"#e6f5d0\"], [0.7, \"#b8e186\"], [0.8, \"#7fbc41\"], [0.9, \"#4d9221\"], [1, \"#276419\"]], \"sequential\": [[0.0, \"#0d0887\"], [0.1111111111111111, \"#46039f\"], [0.2222222222222222, \"#7201a8\"], [0.3333333333333333, \"#9c179e\"], [0.4444444444444444, \"#bd3786\"], [0.5555555555555556, \"#d8576b\"], [0.6666666666666666, \"#ed7953\"], [0.7777777777777778, \"#fb9f3a\"], [0.8888888888888888, \"#fdca26\"], [1.0, \"#f0f921\"]], \"sequentialminus\": [[0.0, \"#0d0887\"], [0.1111111111111111, \"#46039f\"], [0.2222222222222222, \"#7201a8\"], [0.3333333333333333, \"#9c179e\"], [0.4444444444444444, \"#bd3786\"], [0.5555555555555556, \"#d8576b\"], [0.6666666666666666, \"#ed7953\"], [0.7777777777777778, \"#fb9f3a\"], [0.8888888888888888, \"#fdca26\"], [1.0, \"#f0f921\"]]}, \"colorway\": [\"#636efa\", \"#EF553B\", \"#00cc96\", \"#ab63fa\", \"#FFA15A\", \"#19d3f3\", \"#FF6692\", \"#B6E880\", \"#FF97FF\", \"#FECB52\"], \"font\": {\"color\": \"#2a3f5f\"}, \"geo\": {\"bgcolor\": \"white\", \"lakecolor\": \"white\", \"landcolor\": \"#E5ECF6\", \"showlakes\": true, \"showland\": true, \"subunitcolor\": \"white\"}, \"hoverlabel\": {\"align\": \"left\"}, \"hovermode\": \"closest\", \"mapbox\": {\"style\": \"light\"}, \"paper_bgcolor\": \"white\", \"plot_bgcolor\": \"#E5ECF6\", \"polar\": {\"angularaxis\": {\"gridcolor\": \"white\", \"linecolor\": \"white\", \"ticks\": \"\"}, \"bgcolor\": \"#E5ECF6\", \"radialaxis\": {\"gridcolor\": \"white\", \"linecolor\": \"white\", \"ticks\": \"\"}}, \"scene\": {\"xaxis\": {\"backgroundcolor\": \"#E5ECF6\", \"gridcolor\": \"white\", \"gridwidth\": 2, \"linecolor\": \"white\", \"showbackground\": true, \"ticks\": \"\", \"zerolinecolor\": \"white\"}, \"yaxis\": {\"backgroundcolor\": \"#E5ECF6\", \"gridcolor\": \"white\", \"gridwidth\": 2, \"linecolor\": \"white\", \"showbackground\": true, \"ticks\": \"\", \"zerolinecolor\": \"white\"}, \"zaxis\": {\"backgroundcolor\": \"#E5ECF6\", \"gridcolor\": \"white\", \"gridwidth\": 2, \"linecolor\": \"white\", \"showbackground\": true, \"ticks\": \"\", \"zerolinecolor\": \"white\"}}, \"shapedefaults\": {\"line\": {\"color\": \"#2a3f5f\"}}, \"ternary\": {\"aaxis\": {\"gridcolor\": \"white\", \"linecolor\": \"white\", \"ticks\": \"\"}, \"baxis\": {\"gridcolor\": \"white\", \"linecolor\": \"white\", \"ticks\": \"\"}, \"bgcolor\": \"#E5ECF6\", \"caxis\": {\"gridcolor\": \"white\", \"linecolor\": \"white\", \"ticks\": \"\"}}, \"title\": {\"x\": 0.05}, \"xaxis\": {\"automargin\": true, \"gridcolor\": \"white\", \"linecolor\": \"white\", \"ticks\": \"\", \"title\": {\"standoff\": 15}, \"zerolinecolor\": \"white\", \"zerolinewidth\": 2}, \"yaxis\": {\"automargin\": true, \"gridcolor\": \"white\", \"linecolor\": \"white\", \"ticks\": \"\", \"title\": {\"standoff\": 15}, \"zerolinecolor\": \"white\", \"zerolinewidth\": 2}}}, \"xaxis\": {\"anchor\": \"y\", \"domain\": [0.0, 1.0], \"title\": {\"text\": \"num_of_rounds\"}}, \"yaxis\": {\"anchor\": \"x\", \"domain\": [0.0, 1.0], \"title\": {\"text\": \"train_test_diff (overfit)\"}}},\n",
       "                        {\"responsive\": true}\n",
       "                    ).then(function(){\n",
       "                            \n",
       "var gd = document.getElementById('09d11006-c028-4204-a077-90637586efc1');\n",
       "var x = new MutationObserver(function (mutations, observer) {{\n",
       "        var display = window.getComputedStyle(gd).display;\n",
       "        if (!display || display === 'none') {{\n",
       "            console.log([gd, 'removed!']);\n",
       "            Plotly.purge(gd);\n",
       "            observer.disconnect();\n",
       "        }}\n",
       "}});\n",
       "\n",
       "// Listen for the removal of the full notebook cells\n",
       "var notebookContainer = gd.closest('#notebook-container');\n",
       "if (notebookContainer) {{\n",
       "    x.observe(notebookContainer, {childList: true});\n",
       "}}\n",
       "\n",
       "// Listen for the clearing of the current output cell\n",
       "var outputEl = gd.closest('.output');\n",
       "if (outputEl) {{\n",
       "    x.observe(outputEl, {childList: true});\n",
       "}}\n",
       "\n",
       "                        })\n",
       "                };\n",
       "                });\n",
       "            </script>\n",
       "        </div>"
      ]
     },
     "metadata": {},
     "output_type": "display_data"
    }
   ],
   "source": [
    "cv_xgb_err = plot_cv_results(xgb_model, X_train, X_test, y_train, y_test, metrics='error')"
   ]
  }
 ],
 "metadata": {
  "kernelspec": {
   "display_name": "Python 3",
   "language": "python",
   "name": "python3"
  },
  "language_info": {
   "codemirror_mode": {
    "name": "ipython",
    "version": 3
   },
   "file_extension": ".py",
   "mimetype": "text/x-python",
   "name": "python",
   "nbconvert_exporter": "python",
   "pygments_lexer": "ipython3",
   "version": "3.7.6"
  }
 },
 "nbformat": 4,
 "nbformat_minor": 4
}
