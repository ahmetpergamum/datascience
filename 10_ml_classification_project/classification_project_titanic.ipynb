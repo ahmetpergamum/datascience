{
 "cells": [
  {
   "cell_type": "markdown",
   "metadata": {},
   "source": [
    "# ***Classification Project***\n",
    "\n",
    "Bu proje, sınıflandırma algoritmalarını kullanacağınız ilk projeniz. Bu projede, lojistik regresyon yöntemini kullanarak bir sınıflandırma problemini çözmeniz beklenmektedir. Projede uygulamanız gereken adımlar şunlar:\n",
    "\n",
    "- ilgi alanınıza göre bir veri kümesi seçin\n",
    "- araştırma sorusu belirleme\n",
    "- veri temizliği\n",
    "- veri keşfi\n",
    "- özellik mühendisliği\n",
    "- test kümesi oluşturma\n",
    "- ilk sınıflandırma modeli\n",
    "- modeli kullanarak tahmin yapma\n",
    " \n",
    "Yukarıdaki adımları tamamladıktan sonra, araştırma sorunuza hangi cevapları bulduğunuzu açıklayin Vardığınız sonuçları sebepleriyle beraber tartışin.\n",
    "\n",
    "---\n",
    "\n",
    "## ***Titanic***\n",
    "\n",
    "- Siniflandirma projesinde Titanic verileriyle calisarak faciada hayatta kalma durumunu tahmin edecegiz. Titanic verileri [Kaggle](https://www.kaggle.com/c/titanic/data)'dan elde edilmisitir. Buradaki ```train.csv``` dosyası kullanilmistir.\n",
    "- ***Veri Seti:*** Titanic\n",
    "- ***Arastirma konusu:*** Faciadan kurtulma durumu hedef degisken, diger degiskenler aciklayici degisken olmak uzere faciadan kurtulma durumunu tahmin eden bir model olusturulacaktir."
   ]
  },
  {
   "cell_type": "code",
   "execution_count": 1,
   "metadata": {},
   "outputs": [],
   "source": [
    "import pandas as pd\n",
    "import numpy as np\n",
    "import matplotlib.pyplot as plt\n",
    "import seaborn as sns\n",
    "import plotly.express as px\n",
    "import plotly.graph_objects as go\n",
    "# classifiers, regressors\n",
    "from sklearn.neighbors import KNeighborsClassifier, KNeighborsRegressor\n",
    "from sklearn.linear_model import LogisticRegression, LinearRegression, Ridge, Lasso\n",
    "from sklearn.tree import DecisionTreeClassifier, DecisionTreeRegressor\n",
    "from sklearn.ensemble import RandomForestClassifier, RandomForestRegressor\n",
    "from sklearn.svm import SVC, SVR\n",
    "from xgboost import XGBClassifier, XGBRegressor\n",
    "from lightgbm import LGBMClassifier, LGBMRegressor\n",
    "import xgboost as xgb\n",
    "# pipeline meta model\n",
    "from sklearn.pipeline import Pipeline\n",
    "# olceklendirme\n",
    "from sklearn.preprocessing import StandardScaler\n",
    "# polinom ozellikler\n",
    "from sklearn.preprocessing import PolynomialFeatures\n",
    "# egitim verisini ayirma\n",
    "from sklearn.model_selection import train_test_split\n",
    "# metrics\n",
    "from sklearn.metrics import mean_squared_error, classification_report\n",
    "from sklearn.metrics import accuracy_score, precision_score, recall_score, f1_score, roc_auc_score\n",
    "# cross validation\n",
    "from sklearn.model_selection import cross_validate, cross_val_score\n",
    "# hiperparametre tuning\n",
    "from sklearn.model_selection import GridSearchCV, RandomizedSearchCV\n",
    "\n",
    "# uyarilari dikkate alma\n",
    "import warnings\n",
    "warnings.filterwarnings('ignore')\n",
    "\n",
    "# pandas varsayilan olarak cok sayida sutun veya satir varsa tumunu gostermez\n",
    "# bu nedenle 100 sutun ve satir gostermesi icin\n",
    "pd.options.display.max_rows = 100\n",
    "pd.options.display.max_columns = 100\n",
    "\n",
    "# virgulden sonra belirli sayida basamak gosterimi icin \n",
    "pd.options.display.float_format = '{:,.3f}'.format\n",
    "# aciklama sutunun tam cikmasi icin\n",
    "pd.options.display.max_colwidth = 100\n",
    "\n",
    "# font tanimlamalari\n",
    "title_font = {'family': 'times new roman', 'color': 'darkred', \n",
    "              'weight': 'bold', 'size': 14}\n",
    "axis_font  = {'family': 'times new roman', 'color': 'darkred', \n",
    "              'weight': 'bold', 'size': 14}"
   ]
  },
  {
   "cell_type": "markdown",
   "metadata": {},
   "source": [
    "---\n",
    "### ***Veri Kesfi***\n",
    "- Veri setini inceleme."
   ]
  },
  {
   "cell_type": "code",
   "execution_count": 2,
   "metadata": {},
   "outputs": [
    {
     "name": "stdout",
     "output_type": "stream",
     "text": [
      "<class 'pandas.core.frame.DataFrame'>\n",
      "RangeIndex: 891 entries, 0 to 890\n",
      "Data columns (total 12 columns):\n",
      " #   Column       Non-Null Count  Dtype  \n",
      "---  ------       --------------  -----  \n",
      " 0   PassengerId  891 non-null    int64  \n",
      " 1   Survived     891 non-null    int64  \n",
      " 2   Pclass       891 non-null    int64  \n",
      " 3   Name         891 non-null    object \n",
      " 4   Sex          891 non-null    object \n",
      " 5   Age          714 non-null    float64\n",
      " 6   SibSp        891 non-null    int64  \n",
      " 7   Parch        891 non-null    int64  \n",
      " 8   Ticket       891 non-null    object \n",
      " 9   Fare         891 non-null    float64\n",
      " 10  Cabin        204 non-null    object \n",
      " 11  Embarked     889 non-null    object \n",
      "dtypes: float64(2), int64(5), object(5)\n",
      "memory usage: 83.7+ KB\n"
     ]
    }
   ],
   "source": [
    "# veri setini dataframe icerisine yukle\n",
    "titanic = pd.read_csv('data/titanic_train.csv')\n",
    "\n",
    "titanic.info()"
   ]
  },
  {
   "cell_type": "markdown",
   "metadata": {},
   "source": [
    "- Cabin, Ticket degiskenleri numerik olmadigindan ve burada ihtiyacimiz olmadigindan cikarabiliriz."
   ]
  },
  {
   "cell_type": "code",
   "execution_count": 3,
   "metadata": {},
   "outputs": [],
   "source": [
    "titanic = titanic.drop(['Cabin','Ticket'], axis=1)"
   ]
  },
  {
   "cell_type": "code",
   "execution_count": 4,
   "metadata": {},
   "outputs": [
    {
     "data": {
      "text/plain": [
       "S    644\n",
       "C    168\n",
       "Q     77\n",
       "Name: Embarked, dtype: int64"
      ]
     },
     "execution_count": 4,
     "metadata": {},
     "output_type": "execute_result"
    }
   ],
   "source": [
    "titanic['Embarked'].value_counts()"
   ]
  },
  {
   "cell_type": "markdown",
   "metadata": {},
   "source": [
    "- Embarked 3 farkli deger almis, eksik veriler en sik karsilasilan degerle doldurulabilir."
   ]
  },
  {
   "cell_type": "code",
   "execution_count": 5,
   "metadata": {},
   "outputs": [],
   "source": [
    "titanic['Embarked'] = titanic['Embarked'].fillna('S')"
   ]
  },
  {
   "cell_type": "code",
   "execution_count": 6,
   "metadata": {},
   "outputs": [
    {
     "name": "stdout",
     "output_type": "stream",
     "text": [
      "<class 'pandas.core.frame.DataFrame'>\n",
      "RangeIndex: 891 entries, 0 to 890\n",
      "Data columns (total 10 columns):\n",
      " #   Column       Non-Null Count  Dtype  \n",
      "---  ------       --------------  -----  \n",
      " 0   PassengerId  891 non-null    int64  \n",
      " 1   Survived     891 non-null    int64  \n",
      " 2   Pclass       891 non-null    int64  \n",
      " 3   Name         891 non-null    object \n",
      " 4   Sex          891 non-null    object \n",
      " 5   Age          714 non-null    float64\n",
      " 6   SibSp        891 non-null    int64  \n",
      " 7   Parch        891 non-null    int64  \n",
      " 8   Fare         891 non-null    float64\n",
      " 9   Embarked     891 non-null    object \n",
      "dtypes: float64(2), int64(5), object(3)\n",
      "memory usage: 69.7+ KB\n"
     ]
    }
   ],
   "source": [
    "titanic.info()"
   ]
  },
  {
   "cell_type": "markdown",
   "metadata": {},
   "source": [
    "***Cinsiyet ve Liman bilgisi encode edilerek dahil edildi***"
   ]
  },
  {
   "cell_type": "code",
   "execution_count": 7,
   "metadata": {},
   "outputs": [],
   "source": [
    "# get_dummies metodu ile encode edilir\n",
    "titanic = pd.concat([titanic, pd.get_dummies(titanic.Sex, \n",
    "                                             drop_first=True)], axis=1)\n",
    "titanic = pd.concat([titanic, pd.get_dummies(titanic.Embarked, \n",
    "                                             drop_first=True, prefix='Embarked')], axis=1)\n",
    "# encode edilen sutunlar drop edilir"
   ]
  },
  {
   "cell_type": "code",
   "execution_count": 8,
   "metadata": {},
   "outputs": [],
   "source": [
    "titanic.drop(['Sex', 'Embarked'], axis=1, inplace=True)"
   ]
  },
  {
   "cell_type": "markdown",
   "metadata": {},
   "source": [
    "- Name sutunundan title bilgisi extract edildi."
   ]
  },
  {
   "cell_type": "code",
   "execution_count": 9,
   "metadata": {},
   "outputs": [
    {
     "data": {
      "text/plain": [
       "0                                Braund, Mr. Owen Harris\n",
       "1    Cumings, Mrs. John Bradley (Florence Briggs Thayer)\n",
       "2                                 Heikkinen, Miss. Laina\n",
       "3           Futrelle, Mrs. Jacques Heath (Lily May Peel)\n",
       "4                               Allen, Mr. William Henry\n",
       "5                                       Moran, Mr. James\n",
       "6                                McCarthy, Mr. Timothy J\n",
       "7                         Palsson, Master. Gosta Leonard\n",
       "8      Johnson, Mrs. Oscar W (Elisabeth Vilhelmina Berg)\n",
       "9                    Nasser, Mrs. Nicholas (Adele Achem)\n",
       "Name: Name, dtype: object"
      ]
     },
     "execution_count": 9,
     "metadata": {},
     "output_type": "execute_result"
    }
   ],
   "source": [
    "titanic.Name.head(10)"
   ]
  },
  {
   "cell_type": "code",
   "execution_count": 10,
   "metadata": {},
   "outputs": [],
   "source": [
    "def add_title(col):\n",
    "    if 'Mrs' in col:\n",
    "        return 'mrs'\n",
    "    elif 'Master' in col:\n",
    "        return 'master'\n",
    "    elif 'Mr' in col:\n",
    "        return 'mr'\n",
    "    elif 'Miss' in col:\n",
    "        return 'miss'\n",
    "    else:\n",
    "        return 'no_title'"
   ]
  },
  {
   "cell_type": "code",
   "execution_count": 11,
   "metadata": {},
   "outputs": [
    {
     "data": {
      "text/plain": [
       "'mr'"
      ]
     },
     "execution_count": 11,
     "metadata": {},
     "output_type": "execute_result"
    }
   ],
   "source": [
    "add_title('Fortune, Mr. Charles Alexander')"
   ]
  },
  {
   "cell_type": "code",
   "execution_count": 12,
   "metadata": {},
   "outputs": [],
   "source": [
    "titanic['title'] = titanic['Name'].apply(add_title)"
   ]
  },
  {
   "cell_type": "code",
   "execution_count": 13,
   "metadata": {},
   "outputs": [
    {
     "data": {
      "text/plain": [
       "array(['mr', 'mrs', 'miss', 'master', 'no_title'], dtype=object)"
      ]
     },
     "execution_count": 13,
     "metadata": {},
     "output_type": "execute_result"
    }
   ],
   "source": [
    "titanic['title'].unique()"
   ]
  },
  {
   "cell_type": "code",
   "execution_count": 14,
   "metadata": {},
   "outputs": [],
   "source": [
    "titanic = pd.concat([titanic,pd.get_dummies(titanic['title'])], axis=1)"
   ]
  },
  {
   "cell_type": "code",
   "execution_count": 15,
   "metadata": {},
   "outputs": [
    {
     "data": {
      "text/html": [
       "<div>\n",
       "<style scoped>\n",
       "    .dataframe tbody tr th:only-of-type {\n",
       "        vertical-align: middle;\n",
       "    }\n",
       "\n",
       "    .dataframe tbody tr th {\n",
       "        vertical-align: top;\n",
       "    }\n",
       "\n",
       "    .dataframe thead th {\n",
       "        text-align: right;\n",
       "    }\n",
       "</style>\n",
       "<table border=\"1\" class=\"dataframe\">\n",
       "  <thead>\n",
       "    <tr style=\"text-align: right;\">\n",
       "      <th></th>\n",
       "      <th>PassengerId</th>\n",
       "      <th>Survived</th>\n",
       "      <th>Pclass</th>\n",
       "      <th>Name</th>\n",
       "      <th>Age</th>\n",
       "      <th>SibSp</th>\n",
       "      <th>Parch</th>\n",
       "      <th>Fare</th>\n",
       "      <th>male</th>\n",
       "      <th>Embarked_Q</th>\n",
       "      <th>Embarked_S</th>\n",
       "      <th>title</th>\n",
       "      <th>master</th>\n",
       "      <th>miss</th>\n",
       "      <th>mr</th>\n",
       "      <th>mrs</th>\n",
       "      <th>no_title</th>\n",
       "    </tr>\n",
       "  </thead>\n",
       "  <tbody>\n",
       "    <tr>\n",
       "      <th>0</th>\n",
       "      <td>1</td>\n",
       "      <td>0</td>\n",
       "      <td>3</td>\n",
       "      <td>Braund, Mr. Owen Harris</td>\n",
       "      <td>22.000</td>\n",
       "      <td>1</td>\n",
       "      <td>0</td>\n",
       "      <td>7.250</td>\n",
       "      <td>1</td>\n",
       "      <td>0</td>\n",
       "      <td>1</td>\n",
       "      <td>mr</td>\n",
       "      <td>0</td>\n",
       "      <td>0</td>\n",
       "      <td>1</td>\n",
       "      <td>0</td>\n",
       "      <td>0</td>\n",
       "    </tr>\n",
       "    <tr>\n",
       "      <th>1</th>\n",
       "      <td>2</td>\n",
       "      <td>1</td>\n",
       "      <td>1</td>\n",
       "      <td>Cumings, Mrs. John Bradley (Florence Briggs Thayer)</td>\n",
       "      <td>38.000</td>\n",
       "      <td>1</td>\n",
       "      <td>0</td>\n",
       "      <td>71.283</td>\n",
       "      <td>0</td>\n",
       "      <td>0</td>\n",
       "      <td>0</td>\n",
       "      <td>mrs</td>\n",
       "      <td>0</td>\n",
       "      <td>0</td>\n",
       "      <td>0</td>\n",
       "      <td>1</td>\n",
       "      <td>0</td>\n",
       "    </tr>\n",
       "    <tr>\n",
       "      <th>2</th>\n",
       "      <td>3</td>\n",
       "      <td>1</td>\n",
       "      <td>3</td>\n",
       "      <td>Heikkinen, Miss. Laina</td>\n",
       "      <td>26.000</td>\n",
       "      <td>0</td>\n",
       "      <td>0</td>\n",
       "      <td>7.925</td>\n",
       "      <td>0</td>\n",
       "      <td>0</td>\n",
       "      <td>1</td>\n",
       "      <td>miss</td>\n",
       "      <td>0</td>\n",
       "      <td>1</td>\n",
       "      <td>0</td>\n",
       "      <td>0</td>\n",
       "      <td>0</td>\n",
       "    </tr>\n",
       "    <tr>\n",
       "      <th>3</th>\n",
       "      <td>4</td>\n",
       "      <td>1</td>\n",
       "      <td>1</td>\n",
       "      <td>Futrelle, Mrs. Jacques Heath (Lily May Peel)</td>\n",
       "      <td>35.000</td>\n",
       "      <td>1</td>\n",
       "      <td>0</td>\n",
       "      <td>53.100</td>\n",
       "      <td>0</td>\n",
       "      <td>0</td>\n",
       "      <td>1</td>\n",
       "      <td>mrs</td>\n",
       "      <td>0</td>\n",
       "      <td>0</td>\n",
       "      <td>0</td>\n",
       "      <td>1</td>\n",
       "      <td>0</td>\n",
       "    </tr>\n",
       "    <tr>\n",
       "      <th>4</th>\n",
       "      <td>5</td>\n",
       "      <td>0</td>\n",
       "      <td>3</td>\n",
       "      <td>Allen, Mr. William Henry</td>\n",
       "      <td>35.000</td>\n",
       "      <td>0</td>\n",
       "      <td>0</td>\n",
       "      <td>8.050</td>\n",
       "      <td>1</td>\n",
       "      <td>0</td>\n",
       "      <td>1</td>\n",
       "      <td>mr</td>\n",
       "      <td>0</td>\n",
       "      <td>0</td>\n",
       "      <td>1</td>\n",
       "      <td>0</td>\n",
       "      <td>0</td>\n",
       "    </tr>\n",
       "    <tr>\n",
       "      <th>...</th>\n",
       "      <td>...</td>\n",
       "      <td>...</td>\n",
       "      <td>...</td>\n",
       "      <td>...</td>\n",
       "      <td>...</td>\n",
       "      <td>...</td>\n",
       "      <td>...</td>\n",
       "      <td>...</td>\n",
       "      <td>...</td>\n",
       "      <td>...</td>\n",
       "      <td>...</td>\n",
       "      <td>...</td>\n",
       "      <td>...</td>\n",
       "      <td>...</td>\n",
       "      <td>...</td>\n",
       "      <td>...</td>\n",
       "      <td>...</td>\n",
       "    </tr>\n",
       "    <tr>\n",
       "      <th>886</th>\n",
       "      <td>887</td>\n",
       "      <td>0</td>\n",
       "      <td>2</td>\n",
       "      <td>Montvila, Rev. Juozas</td>\n",
       "      <td>27.000</td>\n",
       "      <td>0</td>\n",
       "      <td>0</td>\n",
       "      <td>13.000</td>\n",
       "      <td>1</td>\n",
       "      <td>0</td>\n",
       "      <td>1</td>\n",
       "      <td>no_title</td>\n",
       "      <td>0</td>\n",
       "      <td>0</td>\n",
       "      <td>0</td>\n",
       "      <td>0</td>\n",
       "      <td>1</td>\n",
       "    </tr>\n",
       "    <tr>\n",
       "      <th>887</th>\n",
       "      <td>888</td>\n",
       "      <td>1</td>\n",
       "      <td>1</td>\n",
       "      <td>Graham, Miss. Margaret Edith</td>\n",
       "      <td>19.000</td>\n",
       "      <td>0</td>\n",
       "      <td>0</td>\n",
       "      <td>30.000</td>\n",
       "      <td>0</td>\n",
       "      <td>0</td>\n",
       "      <td>1</td>\n",
       "      <td>miss</td>\n",
       "      <td>0</td>\n",
       "      <td>1</td>\n",
       "      <td>0</td>\n",
       "      <td>0</td>\n",
       "      <td>0</td>\n",
       "    </tr>\n",
       "    <tr>\n",
       "      <th>888</th>\n",
       "      <td>889</td>\n",
       "      <td>0</td>\n",
       "      <td>3</td>\n",
       "      <td>Johnston, Miss. Catherine Helen \"Carrie\"</td>\n",
       "      <td>nan</td>\n",
       "      <td>1</td>\n",
       "      <td>2</td>\n",
       "      <td>23.450</td>\n",
       "      <td>0</td>\n",
       "      <td>0</td>\n",
       "      <td>1</td>\n",
       "      <td>miss</td>\n",
       "      <td>0</td>\n",
       "      <td>1</td>\n",
       "      <td>0</td>\n",
       "      <td>0</td>\n",
       "      <td>0</td>\n",
       "    </tr>\n",
       "    <tr>\n",
       "      <th>889</th>\n",
       "      <td>890</td>\n",
       "      <td>1</td>\n",
       "      <td>1</td>\n",
       "      <td>Behr, Mr. Karl Howell</td>\n",
       "      <td>26.000</td>\n",
       "      <td>0</td>\n",
       "      <td>0</td>\n",
       "      <td>30.000</td>\n",
       "      <td>1</td>\n",
       "      <td>0</td>\n",
       "      <td>0</td>\n",
       "      <td>mr</td>\n",
       "      <td>0</td>\n",
       "      <td>0</td>\n",
       "      <td>1</td>\n",
       "      <td>0</td>\n",
       "      <td>0</td>\n",
       "    </tr>\n",
       "    <tr>\n",
       "      <th>890</th>\n",
       "      <td>891</td>\n",
       "      <td>0</td>\n",
       "      <td>3</td>\n",
       "      <td>Dooley, Mr. Patrick</td>\n",
       "      <td>32.000</td>\n",
       "      <td>0</td>\n",
       "      <td>0</td>\n",
       "      <td>7.750</td>\n",
       "      <td>1</td>\n",
       "      <td>1</td>\n",
       "      <td>0</td>\n",
       "      <td>mr</td>\n",
       "      <td>0</td>\n",
       "      <td>0</td>\n",
       "      <td>1</td>\n",
       "      <td>0</td>\n",
       "      <td>0</td>\n",
       "    </tr>\n",
       "  </tbody>\n",
       "</table>\n",
       "<p>891 rows × 17 columns</p>\n",
       "</div>"
      ],
      "text/plain": [
       "     PassengerId  Survived  Pclass  \\\n",
       "0              1         0       3   \n",
       "1              2         1       1   \n",
       "2              3         1       3   \n",
       "3              4         1       1   \n",
       "4              5         0       3   \n",
       "..           ...       ...     ...   \n",
       "886          887         0       2   \n",
       "887          888         1       1   \n",
       "888          889         0       3   \n",
       "889          890         1       1   \n",
       "890          891         0       3   \n",
       "\n",
       "                                                    Name    Age  SibSp  Parch  \\\n",
       "0                                Braund, Mr. Owen Harris 22.000      1      0   \n",
       "1    Cumings, Mrs. John Bradley (Florence Briggs Thayer) 38.000      1      0   \n",
       "2                                 Heikkinen, Miss. Laina 26.000      0      0   \n",
       "3           Futrelle, Mrs. Jacques Heath (Lily May Peel) 35.000      1      0   \n",
       "4                               Allen, Mr. William Henry 35.000      0      0   \n",
       "..                                                   ...    ...    ...    ...   \n",
       "886                                Montvila, Rev. Juozas 27.000      0      0   \n",
       "887                         Graham, Miss. Margaret Edith 19.000      0      0   \n",
       "888             Johnston, Miss. Catherine Helen \"Carrie\"    nan      1      2   \n",
       "889                                Behr, Mr. Karl Howell 26.000      0      0   \n",
       "890                                  Dooley, Mr. Patrick 32.000      0      0   \n",
       "\n",
       "      Fare  male  Embarked_Q  Embarked_S     title  master  miss  mr  mrs  \\\n",
       "0    7.250     1           0           1        mr       0     0   1    0   \n",
       "1   71.283     0           0           0       mrs       0     0   0    1   \n",
       "2    7.925     0           0           1      miss       0     1   0    0   \n",
       "3   53.100     0           0           1       mrs       0     0   0    1   \n",
       "4    8.050     1           0           1        mr       0     0   1    0   \n",
       "..     ...   ...         ...         ...       ...     ...   ...  ..  ...   \n",
       "886 13.000     1           0           1  no_title       0     0   0    0   \n",
       "887 30.000     0           0           1      miss       0     1   0    0   \n",
       "888 23.450     0           0           1      miss       0     1   0    0   \n",
       "889 30.000     1           0           0        mr       0     0   1    0   \n",
       "890  7.750     1           1           0        mr       0     0   1    0   \n",
       "\n",
       "     no_title  \n",
       "0           0  \n",
       "1           0  \n",
       "2           0  \n",
       "3           0  \n",
       "4           0  \n",
       "..        ...  \n",
       "886         1  \n",
       "887         0  \n",
       "888         0  \n",
       "889         0  \n",
       "890         0  \n",
       "\n",
       "[891 rows x 17 columns]"
      ]
     },
     "execution_count": 15,
     "metadata": {},
     "output_type": "execute_result"
    }
   ],
   "source": [
    "titanic"
   ]
  },
  {
   "cell_type": "code",
   "execution_count": 16,
   "metadata": {},
   "outputs": [],
   "source": [
    "titanic.drop(['Name', 'title', 'no_title'], axis=1, inplace=True)"
   ]
  },
  {
   "cell_type": "markdown",
   "metadata": {},
   "source": [
    "- Son olarak yas degerindeki nan degerler icin model olusturularak tahmin yapilacak."
   ]
  },
  {
   "cell_type": "code",
   "execution_count": 17,
   "metadata": {},
   "outputs": [],
   "source": [
    "# diger bir yontem yas sutunundaki eksik degerleri ortalama ile doldurmak\n",
    "# titanic['Age'].fillna(np.floor(titanic['Age'].mean()), inplace=True)"
   ]
  },
  {
   "cell_type": "code",
   "execution_count": 18,
   "metadata": {},
   "outputs": [
    {
     "data": {
      "text/html": [
       "<div>\n",
       "<style scoped>\n",
       "    .dataframe tbody tr th:only-of-type {\n",
       "        vertical-align: middle;\n",
       "    }\n",
       "\n",
       "    .dataframe tbody tr th {\n",
       "        vertical-align: top;\n",
       "    }\n",
       "\n",
       "    .dataframe thead th {\n",
       "        text-align: right;\n",
       "    }\n",
       "</style>\n",
       "<table border=\"1\" class=\"dataframe\">\n",
       "  <thead>\n",
       "    <tr style=\"text-align: right;\">\n",
       "      <th></th>\n",
       "      <th>PassengerId</th>\n",
       "      <th>Survived</th>\n",
       "      <th>Pclass</th>\n",
       "      <th>Age</th>\n",
       "      <th>SibSp</th>\n",
       "      <th>Parch</th>\n",
       "      <th>Fare</th>\n",
       "      <th>male</th>\n",
       "      <th>Embarked_Q</th>\n",
       "      <th>Embarked_S</th>\n",
       "      <th>master</th>\n",
       "      <th>miss</th>\n",
       "      <th>mr</th>\n",
       "      <th>mrs</th>\n",
       "    </tr>\n",
       "  </thead>\n",
       "  <tbody>\n",
       "    <tr>\n",
       "      <th>0</th>\n",
       "      <td>1</td>\n",
       "      <td>0</td>\n",
       "      <td>3</td>\n",
       "      <td>22.000</td>\n",
       "      <td>1</td>\n",
       "      <td>0</td>\n",
       "      <td>7.250</td>\n",
       "      <td>1</td>\n",
       "      <td>0</td>\n",
       "      <td>1</td>\n",
       "      <td>0</td>\n",
       "      <td>0</td>\n",
       "      <td>1</td>\n",
       "      <td>0</td>\n",
       "    </tr>\n",
       "    <tr>\n",
       "      <th>1</th>\n",
       "      <td>2</td>\n",
       "      <td>1</td>\n",
       "      <td>1</td>\n",
       "      <td>38.000</td>\n",
       "      <td>1</td>\n",
       "      <td>0</td>\n",
       "      <td>71.283</td>\n",
       "      <td>0</td>\n",
       "      <td>0</td>\n",
       "      <td>0</td>\n",
       "      <td>0</td>\n",
       "      <td>0</td>\n",
       "      <td>0</td>\n",
       "      <td>1</td>\n",
       "    </tr>\n",
       "    <tr>\n",
       "      <th>2</th>\n",
       "      <td>3</td>\n",
       "      <td>1</td>\n",
       "      <td>3</td>\n",
       "      <td>26.000</td>\n",
       "      <td>0</td>\n",
       "      <td>0</td>\n",
       "      <td>7.925</td>\n",
       "      <td>0</td>\n",
       "      <td>0</td>\n",
       "      <td>1</td>\n",
       "      <td>0</td>\n",
       "      <td>1</td>\n",
       "      <td>0</td>\n",
       "      <td>0</td>\n",
       "    </tr>\n",
       "    <tr>\n",
       "      <th>3</th>\n",
       "      <td>4</td>\n",
       "      <td>1</td>\n",
       "      <td>1</td>\n",
       "      <td>35.000</td>\n",
       "      <td>1</td>\n",
       "      <td>0</td>\n",
       "      <td>53.100</td>\n",
       "      <td>0</td>\n",
       "      <td>0</td>\n",
       "      <td>1</td>\n",
       "      <td>0</td>\n",
       "      <td>0</td>\n",
       "      <td>0</td>\n",
       "      <td>1</td>\n",
       "    </tr>\n",
       "    <tr>\n",
       "      <th>4</th>\n",
       "      <td>5</td>\n",
       "      <td>0</td>\n",
       "      <td>3</td>\n",
       "      <td>35.000</td>\n",
       "      <td>0</td>\n",
       "      <td>0</td>\n",
       "      <td>8.050</td>\n",
       "      <td>1</td>\n",
       "      <td>0</td>\n",
       "      <td>1</td>\n",
       "      <td>0</td>\n",
       "      <td>0</td>\n",
       "      <td>1</td>\n",
       "      <td>0</td>\n",
       "    </tr>\n",
       "    <tr>\n",
       "      <th>...</th>\n",
       "      <td>...</td>\n",
       "      <td>...</td>\n",
       "      <td>...</td>\n",
       "      <td>...</td>\n",
       "      <td>...</td>\n",
       "      <td>...</td>\n",
       "      <td>...</td>\n",
       "      <td>...</td>\n",
       "      <td>...</td>\n",
       "      <td>...</td>\n",
       "      <td>...</td>\n",
       "      <td>...</td>\n",
       "      <td>...</td>\n",
       "      <td>...</td>\n",
       "    </tr>\n",
       "    <tr>\n",
       "      <th>886</th>\n",
       "      <td>887</td>\n",
       "      <td>0</td>\n",
       "      <td>2</td>\n",
       "      <td>27.000</td>\n",
       "      <td>0</td>\n",
       "      <td>0</td>\n",
       "      <td>13.000</td>\n",
       "      <td>1</td>\n",
       "      <td>0</td>\n",
       "      <td>1</td>\n",
       "      <td>0</td>\n",
       "      <td>0</td>\n",
       "      <td>0</td>\n",
       "      <td>0</td>\n",
       "    </tr>\n",
       "    <tr>\n",
       "      <th>887</th>\n",
       "      <td>888</td>\n",
       "      <td>1</td>\n",
       "      <td>1</td>\n",
       "      <td>19.000</td>\n",
       "      <td>0</td>\n",
       "      <td>0</td>\n",
       "      <td>30.000</td>\n",
       "      <td>0</td>\n",
       "      <td>0</td>\n",
       "      <td>1</td>\n",
       "      <td>0</td>\n",
       "      <td>1</td>\n",
       "      <td>0</td>\n",
       "      <td>0</td>\n",
       "    </tr>\n",
       "    <tr>\n",
       "      <th>888</th>\n",
       "      <td>889</td>\n",
       "      <td>0</td>\n",
       "      <td>3</td>\n",
       "      <td>nan</td>\n",
       "      <td>1</td>\n",
       "      <td>2</td>\n",
       "      <td>23.450</td>\n",
       "      <td>0</td>\n",
       "      <td>0</td>\n",
       "      <td>1</td>\n",
       "      <td>0</td>\n",
       "      <td>1</td>\n",
       "      <td>0</td>\n",
       "      <td>0</td>\n",
       "    </tr>\n",
       "    <tr>\n",
       "      <th>889</th>\n",
       "      <td>890</td>\n",
       "      <td>1</td>\n",
       "      <td>1</td>\n",
       "      <td>26.000</td>\n",
       "      <td>0</td>\n",
       "      <td>0</td>\n",
       "      <td>30.000</td>\n",
       "      <td>1</td>\n",
       "      <td>0</td>\n",
       "      <td>0</td>\n",
       "      <td>0</td>\n",
       "      <td>0</td>\n",
       "      <td>1</td>\n",
       "      <td>0</td>\n",
       "    </tr>\n",
       "    <tr>\n",
       "      <th>890</th>\n",
       "      <td>891</td>\n",
       "      <td>0</td>\n",
       "      <td>3</td>\n",
       "      <td>32.000</td>\n",
       "      <td>0</td>\n",
       "      <td>0</td>\n",
       "      <td>7.750</td>\n",
       "      <td>1</td>\n",
       "      <td>1</td>\n",
       "      <td>0</td>\n",
       "      <td>0</td>\n",
       "      <td>0</td>\n",
       "      <td>1</td>\n",
       "      <td>0</td>\n",
       "    </tr>\n",
       "  </tbody>\n",
       "</table>\n",
       "<p>891 rows × 14 columns</p>\n",
       "</div>"
      ],
      "text/plain": [
       "     PassengerId  Survived  Pclass    Age  SibSp  Parch   Fare  male  \\\n",
       "0              1         0       3 22.000      1      0  7.250     1   \n",
       "1              2         1       1 38.000      1      0 71.283     0   \n",
       "2              3         1       3 26.000      0      0  7.925     0   \n",
       "3              4         1       1 35.000      1      0 53.100     0   \n",
       "4              5         0       3 35.000      0      0  8.050     1   \n",
       "..           ...       ...     ...    ...    ...    ...    ...   ...   \n",
       "886          887         0       2 27.000      0      0 13.000     1   \n",
       "887          888         1       1 19.000      0      0 30.000     0   \n",
       "888          889         0       3    nan      1      2 23.450     0   \n",
       "889          890         1       1 26.000      0      0 30.000     1   \n",
       "890          891         0       3 32.000      0      0  7.750     1   \n",
       "\n",
       "     Embarked_Q  Embarked_S  master  miss  mr  mrs  \n",
       "0             0           1       0     0   1    0  \n",
       "1             0           0       0     0   0    1  \n",
       "2             0           1       0     1   0    0  \n",
       "3             0           1       0     0   0    1  \n",
       "4             0           1       0     0   1    0  \n",
       "..          ...         ...     ...   ...  ..  ...  \n",
       "886           0           1       0     0   0    0  \n",
       "887           0           1       0     1   0    0  \n",
       "888           0           1       0     1   0    0  \n",
       "889           0           0       0     0   1    0  \n",
       "890           1           0       0     0   1    0  \n",
       "\n",
       "[891 rows x 14 columns]"
      ]
     },
     "execution_count": 18,
     "metadata": {},
     "output_type": "execute_result"
    }
   ],
   "source": [
    "titanic"
   ]
  },
  {
   "cell_type": "markdown",
   "metadata": {},
   "source": [
    "---\n",
    "### ***Yas Sutunundaki Eksik Degerleri Tahmin Ile Doldurma***"
   ]
  },
  {
   "cell_type": "code",
   "execution_count": 19,
   "metadata": {},
   "outputs": [],
   "source": [
    "# yas degerleri dolu ve bos olan sample lar ayri ayri alinir\n",
    "titanic_w_age = titanic[titanic['Age'].notnull()]\n",
    "titanic_no_age = titanic[titanic['Age'].isnull()]"
   ]
  },
  {
   "cell_type": "code",
   "execution_count": 20,
   "metadata": {},
   "outputs": [
    {
     "data": {
      "text/html": [
       "<div>\n",
       "<style scoped>\n",
       "    .dataframe tbody tr th:only-of-type {\n",
       "        vertical-align: middle;\n",
       "    }\n",
       "\n",
       "    .dataframe tbody tr th {\n",
       "        vertical-align: top;\n",
       "    }\n",
       "\n",
       "    .dataframe thead th {\n",
       "        text-align: right;\n",
       "    }\n",
       "</style>\n",
       "<table border=\"1\" class=\"dataframe\">\n",
       "  <thead>\n",
       "    <tr style=\"text-align: right;\">\n",
       "      <th></th>\n",
       "      <th>PassengerId</th>\n",
       "      <th>Survived</th>\n",
       "      <th>Pclass</th>\n",
       "      <th>Age</th>\n",
       "      <th>SibSp</th>\n",
       "      <th>Parch</th>\n",
       "      <th>Fare</th>\n",
       "      <th>male</th>\n",
       "      <th>Embarked_Q</th>\n",
       "      <th>Embarked_S</th>\n",
       "      <th>master</th>\n",
       "      <th>miss</th>\n",
       "      <th>mr</th>\n",
       "      <th>mrs</th>\n",
       "    </tr>\n",
       "  </thead>\n",
       "  <tbody>\n",
       "    <tr>\n",
       "      <th>0</th>\n",
       "      <td>1</td>\n",
       "      <td>0</td>\n",
       "      <td>3</td>\n",
       "      <td>22.000</td>\n",
       "      <td>1</td>\n",
       "      <td>0</td>\n",
       "      <td>7.250</td>\n",
       "      <td>1</td>\n",
       "      <td>0</td>\n",
       "      <td>1</td>\n",
       "      <td>0</td>\n",
       "      <td>0</td>\n",
       "      <td>1</td>\n",
       "      <td>0</td>\n",
       "    </tr>\n",
       "    <tr>\n",
       "      <th>1</th>\n",
       "      <td>2</td>\n",
       "      <td>1</td>\n",
       "      <td>1</td>\n",
       "      <td>38.000</td>\n",
       "      <td>1</td>\n",
       "      <td>0</td>\n",
       "      <td>71.283</td>\n",
       "      <td>0</td>\n",
       "      <td>0</td>\n",
       "      <td>0</td>\n",
       "      <td>0</td>\n",
       "      <td>0</td>\n",
       "      <td>0</td>\n",
       "      <td>1</td>\n",
       "    </tr>\n",
       "    <tr>\n",
       "      <th>2</th>\n",
       "      <td>3</td>\n",
       "      <td>1</td>\n",
       "      <td>3</td>\n",
       "      <td>26.000</td>\n",
       "      <td>0</td>\n",
       "      <td>0</td>\n",
       "      <td>7.925</td>\n",
       "      <td>0</td>\n",
       "      <td>0</td>\n",
       "      <td>1</td>\n",
       "      <td>0</td>\n",
       "      <td>1</td>\n",
       "      <td>0</td>\n",
       "      <td>0</td>\n",
       "    </tr>\n",
       "    <tr>\n",
       "      <th>3</th>\n",
       "      <td>4</td>\n",
       "      <td>1</td>\n",
       "      <td>1</td>\n",
       "      <td>35.000</td>\n",
       "      <td>1</td>\n",
       "      <td>0</td>\n",
       "      <td>53.100</td>\n",
       "      <td>0</td>\n",
       "      <td>0</td>\n",
       "      <td>1</td>\n",
       "      <td>0</td>\n",
       "      <td>0</td>\n",
       "      <td>0</td>\n",
       "      <td>1</td>\n",
       "    </tr>\n",
       "    <tr>\n",
       "      <th>4</th>\n",
       "      <td>5</td>\n",
       "      <td>0</td>\n",
       "      <td>3</td>\n",
       "      <td>35.000</td>\n",
       "      <td>0</td>\n",
       "      <td>0</td>\n",
       "      <td>8.050</td>\n",
       "      <td>1</td>\n",
       "      <td>0</td>\n",
       "      <td>1</td>\n",
       "      <td>0</td>\n",
       "      <td>0</td>\n",
       "      <td>1</td>\n",
       "      <td>0</td>\n",
       "    </tr>\n",
       "    <tr>\n",
       "      <th>...</th>\n",
       "      <td>...</td>\n",
       "      <td>...</td>\n",
       "      <td>...</td>\n",
       "      <td>...</td>\n",
       "      <td>...</td>\n",
       "      <td>...</td>\n",
       "      <td>...</td>\n",
       "      <td>...</td>\n",
       "      <td>...</td>\n",
       "      <td>...</td>\n",
       "      <td>...</td>\n",
       "      <td>...</td>\n",
       "      <td>...</td>\n",
       "      <td>...</td>\n",
       "    </tr>\n",
       "    <tr>\n",
       "      <th>885</th>\n",
       "      <td>886</td>\n",
       "      <td>0</td>\n",
       "      <td>3</td>\n",
       "      <td>39.000</td>\n",
       "      <td>0</td>\n",
       "      <td>5</td>\n",
       "      <td>29.125</td>\n",
       "      <td>0</td>\n",
       "      <td>1</td>\n",
       "      <td>0</td>\n",
       "      <td>0</td>\n",
       "      <td>0</td>\n",
       "      <td>0</td>\n",
       "      <td>1</td>\n",
       "    </tr>\n",
       "    <tr>\n",
       "      <th>886</th>\n",
       "      <td>887</td>\n",
       "      <td>0</td>\n",
       "      <td>2</td>\n",
       "      <td>27.000</td>\n",
       "      <td>0</td>\n",
       "      <td>0</td>\n",
       "      <td>13.000</td>\n",
       "      <td>1</td>\n",
       "      <td>0</td>\n",
       "      <td>1</td>\n",
       "      <td>0</td>\n",
       "      <td>0</td>\n",
       "      <td>0</td>\n",
       "      <td>0</td>\n",
       "    </tr>\n",
       "    <tr>\n",
       "      <th>887</th>\n",
       "      <td>888</td>\n",
       "      <td>1</td>\n",
       "      <td>1</td>\n",
       "      <td>19.000</td>\n",
       "      <td>0</td>\n",
       "      <td>0</td>\n",
       "      <td>30.000</td>\n",
       "      <td>0</td>\n",
       "      <td>0</td>\n",
       "      <td>1</td>\n",
       "      <td>0</td>\n",
       "      <td>1</td>\n",
       "      <td>0</td>\n",
       "      <td>0</td>\n",
       "    </tr>\n",
       "    <tr>\n",
       "      <th>889</th>\n",
       "      <td>890</td>\n",
       "      <td>1</td>\n",
       "      <td>1</td>\n",
       "      <td>26.000</td>\n",
       "      <td>0</td>\n",
       "      <td>0</td>\n",
       "      <td>30.000</td>\n",
       "      <td>1</td>\n",
       "      <td>0</td>\n",
       "      <td>0</td>\n",
       "      <td>0</td>\n",
       "      <td>0</td>\n",
       "      <td>1</td>\n",
       "      <td>0</td>\n",
       "    </tr>\n",
       "    <tr>\n",
       "      <th>890</th>\n",
       "      <td>891</td>\n",
       "      <td>0</td>\n",
       "      <td>3</td>\n",
       "      <td>32.000</td>\n",
       "      <td>0</td>\n",
       "      <td>0</td>\n",
       "      <td>7.750</td>\n",
       "      <td>1</td>\n",
       "      <td>1</td>\n",
       "      <td>0</td>\n",
       "      <td>0</td>\n",
       "      <td>0</td>\n",
       "      <td>1</td>\n",
       "      <td>0</td>\n",
       "    </tr>\n",
       "  </tbody>\n",
       "</table>\n",
       "<p>714 rows × 14 columns</p>\n",
       "</div>"
      ],
      "text/plain": [
       "     PassengerId  Survived  Pclass    Age  SibSp  Parch   Fare  male  \\\n",
       "0              1         0       3 22.000      1      0  7.250     1   \n",
       "1              2         1       1 38.000      1      0 71.283     0   \n",
       "2              3         1       3 26.000      0      0  7.925     0   \n",
       "3              4         1       1 35.000      1      0 53.100     0   \n",
       "4              5         0       3 35.000      0      0  8.050     1   \n",
       "..           ...       ...     ...    ...    ...    ...    ...   ...   \n",
       "885          886         0       3 39.000      0      5 29.125     0   \n",
       "886          887         0       2 27.000      0      0 13.000     1   \n",
       "887          888         1       1 19.000      0      0 30.000     0   \n",
       "889          890         1       1 26.000      0      0 30.000     1   \n",
       "890          891         0       3 32.000      0      0  7.750     1   \n",
       "\n",
       "     Embarked_Q  Embarked_S  master  miss  mr  mrs  \n",
       "0             0           1       0     0   1    0  \n",
       "1             0           0       0     0   0    1  \n",
       "2             0           1       0     1   0    0  \n",
       "3             0           1       0     0   0    1  \n",
       "4             0           1       0     0   1    0  \n",
       "..          ...         ...     ...   ...  ..  ...  \n",
       "885           1           0       0     0   0    1  \n",
       "886           0           1       0     0   0    0  \n",
       "887           0           1       0     1   0    0  \n",
       "889           0           0       0     0   1    0  \n",
       "890           1           0       0     0   1    0  \n",
       "\n",
       "[714 rows x 14 columns]"
      ]
     },
     "execution_count": 20,
     "metadata": {},
     "output_type": "execute_result"
    }
   ],
   "source": [
    "titanic_w_age"
   ]
  },
  {
   "cell_type": "markdown",
   "metadata": {},
   "source": [
    "#### ***Model - Pipeline***\n",
    "Meta model olarak dusunulebilecek pipeline sinifi ile modelleri test ederek en iyi performans veren modeli sececegiz."
   ]
  },
  {
   "cell_type": "code",
   "execution_count": 21,
   "metadata": {},
   "outputs": [],
   "source": [
    "# hedef degisken\n",
    "y = titanic_w_age['Age']\n",
    "# aciklayici degiskenler\n",
    "X = titanic_w_age.drop(['PassengerId', 'Age'], axis=1)"
   ]
  },
  {
   "cell_type": "code",
   "execution_count": 22,
   "metadata": {},
   "outputs": [
    {
     "name": "stdout",
     "output_type": "stream",
     "text": [
      "CPU times: user 14.5 ms, sys: 178 µs, total: 14.7 ms\n",
      "Wall time: 12.9 ms\n"
     ]
    }
   ],
   "source": [
    "%%time\n",
    "# egitim ve test kumesini ayirma\n",
    "X_train, X_test, y_train, y_test = train_test_split(X, y, test_size=0.2, random_state=0)"
   ]
  },
  {
   "cell_type": "code",
   "execution_count": 23,
   "metadata": {},
   "outputs": [
    {
     "name": "stdout",
     "output_type": "stream",
     "text": [
      "Best params: \n",
      "{'preprocessing': None, 'regressor': RandomForestRegressor(bootstrap=True, ccp_alpha=0.0, criterion='mse',\n",
      "                      max_depth=4, max_features='auto', max_leaf_nodes=None,\n",
      "                      max_samples=None, min_impurity_decrease=0.0,\n",
      "                      min_impurity_split=None, min_samples_leaf=1,\n",
      "                      min_samples_split=2, min_weight_fraction_leaf=0.0,\n",
      "                      n_estimators=100, n_jobs=None, oob_score=False,\n",
      "                      random_state=None, verbose=0, warm_start=False), 'regressor__max_depth': 4}\n",
      "\n",
      "Best cross-validation score: \n",
      "-10.92\n",
      "\n",
      "Test-set score: \n",
      "-11.15\n",
      "\n",
      "CPU times: user 1min 17s, sys: 1.57 s, total: 1min 19s\n",
      "Wall time: 5min 55s\n"
     ]
    }
   ],
   "source": [
    "%%time\n",
    "# hucrenin calisma suresini tutacak\n",
    "\n",
    "# pipeline tanimla\n",
    "# ilk model knn ve preprocessing yapilmayacak \n",
    "pipe = Pipeline([('preprocessing', None), ('regressor', KNeighborsRegressor())])\n",
    "\n",
    "# aranacak model ve parametreleri belirle\n",
    "param_grid = [{'regressor': [KNeighborsRegressor()], 'preprocessing': [None],\n",
    "               'regressor__n_neighbors': np.arange(3,10),\n",
    "               'regressor__weights': ['uniform', 'distance']},\n",
    "              {'regressor': [LinearRegression()], 'preprocessing': [None]},\n",
    "              {'regressor': [Ridge()], 'preprocessing': [None],\n",
    "               'regressor__alpha': np.logspace(-3,3,7)},\n",
    "              {'regressor': [Lasso()], 'preprocessing': [None],\n",
    "               'regressor__alpha': np.logspace(-3,3,7)},\n",
    "              {'regressor': [DecisionTreeRegressor()], 'preprocessing': [None],\n",
    "               'regressor__max_depth': np.arange(3,10)},              \n",
    "              {'regressor': [RandomForestRegressor()], 'preprocessing': [None],\n",
    "               'regressor__max_depth': np.arange(3,10)},\n",
    "              {'regressor': [SVR()], 'preprocessing': [StandardScaler(), None],\n",
    "               'regressor__gamma': np.logspace(-3,2,6),\n",
    "               'regressor__C': np.logspace(-3,2,6)},\n",
    "              {'regressor': [SVR(kernel='linear')], 'preprocessing': [StandardScaler(), None],\n",
    "               'regressor__C': np.logspace(-3,2,6)},\n",
    "              {'regressor': [XGBRegressor()], 'preprocessing': [None],\n",
    "               'regressor__gamma': np.logspace(-3,2,6),\n",
    "               'regressor__reg_alpha': np.logspace(-3,2,6), \n",
    "               'regressor__reg_lambda': np.logspace(-3,2,6), \n",
    "               'regressor__max_depth': np.arange(3,10)},\n",
    "              {'regressor': [LGBMRegressor()], 'preprocessing': [None],\n",
    "               'regressor__reg_alpha': np.logspace(-3,2,6), \n",
    "               'regressor__reg_lambda': np.logspace(-3,2,6), \n",
    "               'regressor__max_depth': np.arange(3,10)}              \n",
    "             ]\n",
    "# gridsearch nesnesi tanimla\n",
    "grid = GridSearchCV(estimator=pipe, param_grid=param_grid, scoring=['neg_root_mean_squared_error','r2'], \n",
    "                    cv=7, n_jobs=-1, return_train_score=True, refit='neg_root_mean_squared_error')\n",
    "# modeli egit\n",
    "grid.fit(X_train, y_train)\n",
    "\n",
    "# sonuclar\n",
    "print(\"Best params: \\n{}\\n\".format(grid.best_params_))\n",
    "print(\"Best cross-validation score: \\n{:.2f}\\n\".format(grid.best_score_))\n",
    "print(\"Test-set score: \\n{:.2f}\\n\".format(grid.score(X_test, y_test)))\n"
   ]
  },
  {
   "cell_type": "code",
   "execution_count": 24,
   "metadata": {},
   "outputs": [
    {
     "data": {
      "text/html": [
       "<div>\n",
       "<style scoped>\n",
       "    .dataframe tbody tr th:only-of-type {\n",
       "        vertical-align: middle;\n",
       "    }\n",
       "\n",
       "    .dataframe tbody tr th {\n",
       "        vertical-align: top;\n",
       "    }\n",
       "\n",
       "    .dataframe thead th {\n",
       "        text-align: right;\n",
       "    }\n",
       "</style>\n",
       "<table border=\"1\" class=\"dataframe\">\n",
       "  <thead>\n",
       "    <tr style=\"text-align: right;\">\n",
       "      <th></th>\n",
       "      <th>mean_fit_time</th>\n",
       "      <th>std_fit_time</th>\n",
       "      <th>mean_score_time</th>\n",
       "      <th>std_score_time</th>\n",
       "      <th>param_preprocessing</th>\n",
       "      <th>param_regressor</th>\n",
       "      <th>param_regressor__n_neighbors</th>\n",
       "      <th>param_regressor__weights</th>\n",
       "      <th>param_regressor__alpha</th>\n",
       "      <th>param_regressor__max_depth</th>\n",
       "      <th>param_regressor__C</th>\n",
       "      <th>param_regressor__gamma</th>\n",
       "      <th>param_regressor__reg_alpha</th>\n",
       "      <th>param_regressor__reg_lambda</th>\n",
       "      <th>params</th>\n",
       "      <th>split0_test_neg_root_mean_squared_error</th>\n",
       "      <th>split1_test_neg_root_mean_squared_error</th>\n",
       "      <th>split2_test_neg_root_mean_squared_error</th>\n",
       "      <th>split3_test_neg_root_mean_squared_error</th>\n",
       "      <th>split4_test_neg_root_mean_squared_error</th>\n",
       "      <th>split5_test_neg_root_mean_squared_error</th>\n",
       "      <th>split6_test_neg_root_mean_squared_error</th>\n",
       "      <th>mean_test_neg_root_mean_squared_error</th>\n",
       "      <th>std_test_neg_root_mean_squared_error</th>\n",
       "      <th>rank_test_neg_root_mean_squared_error</th>\n",
       "      <th>split0_train_neg_root_mean_squared_error</th>\n",
       "      <th>split1_train_neg_root_mean_squared_error</th>\n",
       "      <th>split2_train_neg_root_mean_squared_error</th>\n",
       "      <th>split3_train_neg_root_mean_squared_error</th>\n",
       "      <th>split4_train_neg_root_mean_squared_error</th>\n",
       "      <th>split5_train_neg_root_mean_squared_error</th>\n",
       "      <th>split6_train_neg_root_mean_squared_error</th>\n",
       "      <th>mean_train_neg_root_mean_squared_error</th>\n",
       "      <th>std_train_neg_root_mean_squared_error</th>\n",
       "      <th>split0_test_r2</th>\n",
       "      <th>split1_test_r2</th>\n",
       "      <th>split2_test_r2</th>\n",
       "      <th>split3_test_r2</th>\n",
       "      <th>split4_test_r2</th>\n",
       "      <th>split5_test_r2</th>\n",
       "      <th>split6_test_r2</th>\n",
       "      <th>mean_test_r2</th>\n",
       "      <th>std_test_r2</th>\n",
       "      <th>rank_test_r2</th>\n",
       "      <th>split0_train_r2</th>\n",
       "      <th>split1_train_r2</th>\n",
       "      <th>split2_train_r2</th>\n",
       "      <th>split3_train_r2</th>\n",
       "      <th>split4_train_r2</th>\n",
       "      <th>split5_train_r2</th>\n",
       "      <th>split6_train_r2</th>\n",
       "      <th>mean_train_r2</th>\n",
       "      <th>std_train_r2</th>\n",
       "    </tr>\n",
       "  </thead>\n",
       "  <tbody>\n",
       "    <tr>\n",
       "      <th>0</th>\n",
       "      <td>0.013</td>\n",
       "      <td>0.009</td>\n",
       "      <td>0.007</td>\n",
       "      <td>0.001</td>\n",
       "      <td>None</td>\n",
       "      <td>KNeighborsRegressor(algorithm='auto', leaf_size=30, metric='minkowski',\\n                    met...</td>\n",
       "      <td>3</td>\n",
       "      <td>uniform</td>\n",
       "      <td>NaN</td>\n",
       "      <td>NaN</td>\n",
       "      <td>NaN</td>\n",
       "      <td>NaN</td>\n",
       "      <td>NaN</td>\n",
       "      <td>NaN</td>\n",
       "      <td>{'preprocessing': None, 'regressor': KNeighborsRegressor(algorithm='auto', leaf_size=30, metric=...</td>\n",
       "      <td>-13.495</td>\n",
       "      <td>-12.357</td>\n",
       "      <td>-14.125</td>\n",
       "      <td>-13.241</td>\n",
       "      <td>-13.694</td>\n",
       "      <td>-12.918</td>\n",
       "      <td>-13.418</td>\n",
       "      <td>-13.321</td>\n",
       "      <td>0.524</td>\n",
       "      <td>1829</td>\n",
       "      <td>-10.247</td>\n",
       "      <td>-10.193</td>\n",
       "      <td>-9.977</td>\n",
       "      <td>-10.370</td>\n",
       "      <td>-10.154</td>\n",
       "      <td>-9.899</td>\n",
       "      <td>-10.102</td>\n",
       "      <td>-10.135</td>\n",
       "      <td>0.148</td>\n",
       "      <td>0.122</td>\n",
       "      <td>0.161</td>\n",
       "      <td>0.027</td>\n",
       "      <td>0.057</td>\n",
       "      <td>0.244</td>\n",
       "      <td>0.147</td>\n",
       "      <td>0.238</td>\n",
       "      <td>0.142</td>\n",
       "      <td>0.076</td>\n",
       "      <td>1821</td>\n",
       "      <td>0.500</td>\n",
       "      <td>0.514</td>\n",
       "      <td>0.527</td>\n",
       "      <td>0.497</td>\n",
       "      <td>0.494</td>\n",
       "      <td>0.538</td>\n",
       "      <td>0.502</td>\n",
       "      <td>0.510</td>\n",
       "      <td>0.016</td>\n",
       "    </tr>\n",
       "  </tbody>\n",
       "</table>\n",
       "</div>"
      ],
      "text/plain": [
       "   mean_fit_time  std_fit_time  mean_score_time  std_score_time  \\\n",
       "0          0.013         0.009            0.007           0.001   \n",
       "\n",
       "  param_preprocessing  \\\n",
       "0                None   \n",
       "\n",
       "                                                                                       param_regressor  \\\n",
       "0  KNeighborsRegressor(algorithm='auto', leaf_size=30, metric='minkowski',\\n                    met...   \n",
       "\n",
       "  param_regressor__n_neighbors param_regressor__weights  \\\n",
       "0                            3                  uniform   \n",
       "\n",
       "  param_regressor__alpha param_regressor__max_depth param_regressor__C  \\\n",
       "0                    NaN                        NaN                NaN   \n",
       "\n",
       "  param_regressor__gamma param_regressor__reg_alpha  \\\n",
       "0                    NaN                        NaN   \n",
       "\n",
       "  param_regressor__reg_lambda  \\\n",
       "0                         NaN   \n",
       "\n",
       "                                                                                                params  \\\n",
       "0  {'preprocessing': None, 'regressor': KNeighborsRegressor(algorithm='auto', leaf_size=30, metric=...   \n",
       "\n",
       "   split0_test_neg_root_mean_squared_error  \\\n",
       "0                                  -13.495   \n",
       "\n",
       "   split1_test_neg_root_mean_squared_error  \\\n",
       "0                                  -12.357   \n",
       "\n",
       "   split2_test_neg_root_mean_squared_error  \\\n",
       "0                                  -14.125   \n",
       "\n",
       "   split3_test_neg_root_mean_squared_error  \\\n",
       "0                                  -13.241   \n",
       "\n",
       "   split4_test_neg_root_mean_squared_error  \\\n",
       "0                                  -13.694   \n",
       "\n",
       "   split5_test_neg_root_mean_squared_error  \\\n",
       "0                                  -12.918   \n",
       "\n",
       "   split6_test_neg_root_mean_squared_error  \\\n",
       "0                                  -13.418   \n",
       "\n",
       "   mean_test_neg_root_mean_squared_error  \\\n",
       "0                                -13.321   \n",
       "\n",
       "   std_test_neg_root_mean_squared_error  \\\n",
       "0                                 0.524   \n",
       "\n",
       "   rank_test_neg_root_mean_squared_error  \\\n",
       "0                                   1829   \n",
       "\n",
       "   split0_train_neg_root_mean_squared_error  \\\n",
       "0                                   -10.247   \n",
       "\n",
       "   split1_train_neg_root_mean_squared_error  \\\n",
       "0                                   -10.193   \n",
       "\n",
       "   split2_train_neg_root_mean_squared_error  \\\n",
       "0                                    -9.977   \n",
       "\n",
       "   split3_train_neg_root_mean_squared_error  \\\n",
       "0                                   -10.370   \n",
       "\n",
       "   split4_train_neg_root_mean_squared_error  \\\n",
       "0                                   -10.154   \n",
       "\n",
       "   split5_train_neg_root_mean_squared_error  \\\n",
       "0                                    -9.899   \n",
       "\n",
       "   split6_train_neg_root_mean_squared_error  \\\n",
       "0                                   -10.102   \n",
       "\n",
       "   mean_train_neg_root_mean_squared_error  \\\n",
       "0                                 -10.135   \n",
       "\n",
       "   std_train_neg_root_mean_squared_error  split0_test_r2  split1_test_r2  \\\n",
       "0                                  0.148           0.122           0.161   \n",
       "\n",
       "   split2_test_r2  split3_test_r2  split4_test_r2  split5_test_r2  \\\n",
       "0           0.027           0.057           0.244           0.147   \n",
       "\n",
       "   split6_test_r2  mean_test_r2  std_test_r2  rank_test_r2  split0_train_r2  \\\n",
       "0           0.238         0.142        0.076          1821            0.500   \n",
       "\n",
       "   split1_train_r2  split2_train_r2  split3_train_r2  split4_train_r2  \\\n",
       "0            0.514            0.527            0.497            0.494   \n",
       "\n",
       "   split5_train_r2  split6_train_r2  mean_train_r2  std_train_r2  \n",
       "0            0.538            0.502          0.510         0.016  "
      ]
     },
     "execution_count": 24,
     "metadata": {},
     "output_type": "execute_result"
    }
   ],
   "source": [
    "# sonuclari df olarak kaydet\n",
    "grid_df = pd.DataFrame(grid.cv_results_)\n",
    "grid_df.head(1)"
   ]
  },
  {
   "cell_type": "code",
   "execution_count": 25,
   "metadata": {},
   "outputs": [
    {
     "data": {
      "text/html": [
       "<div>\n",
       "<style scoped>\n",
       "    .dataframe tbody tr th:only-of-type {\n",
       "        vertical-align: middle;\n",
       "    }\n",
       "\n",
       "    .dataframe tbody tr th {\n",
       "        vertical-align: top;\n",
       "    }\n",
       "\n",
       "    .dataframe thead th {\n",
       "        text-align: right;\n",
       "    }\n",
       "</style>\n",
       "<table border=\"1\" class=\"dataframe\">\n",
       "  <thead>\n",
       "    <tr style=\"text-align: right;\">\n",
       "      <th></th>\n",
       "      <th>param_regressor</th>\n",
       "      <th>mean_train_neg_root_mean_squared_error</th>\n",
       "      <th>mean_test_neg_root_mean_squared_error</th>\n",
       "      <th>mean_train_r2</th>\n",
       "      <th>mean_test_r2</th>\n",
       "    </tr>\n",
       "  </thead>\n",
       "  <tbody>\n",
       "    <tr>\n",
       "      <th>37</th>\n",
       "      <td>RandomForestRegressor(bootstrap=True, ccp_alpha=0.0, criterion='mse',\\n                      max...</td>\n",
       "      <td>-10.322</td>\n",
       "      <td>-10.921</td>\n",
       "      <td>0.492</td>\n",
       "      <td>0.424</td>\n",
       "    </tr>\n",
       "    <tr>\n",
       "      <th>1691</th>\n",
       "      <td>LGBMRegressor(boosting_type='gbdt', class_weight=None, colsample_bytree=1.0,\\n              impo...</td>\n",
       "      <td>-9.514</td>\n",
       "      <td>-10.936</td>\n",
       "      <td>0.569</td>\n",
       "      <td>0.423</td>\n",
       "    </tr>\n",
       "    <tr>\n",
       "      <th>1685</th>\n",
       "      <td>LGBMRegressor(boosting_type='gbdt', class_weight=None, colsample_bytree=1.0,\\n              impo...</td>\n",
       "      <td>-9.513</td>\n",
       "      <td>-10.944</td>\n",
       "      <td>0.569</td>\n",
       "      <td>0.422</td>\n",
       "    </tr>\n",
       "    <tr>\n",
       "      <th>1679</th>\n",
       "      <td>LGBMRegressor(boosting_type='gbdt', class_weight=None, colsample_bytree=1.0,\\n              impo...</td>\n",
       "      <td>-9.513</td>\n",
       "      <td>-10.946</td>\n",
       "      <td>0.569</td>\n",
       "      <td>0.422</td>\n",
       "    </tr>\n",
       "    <tr>\n",
       "      <th>1672</th>\n",
       "      <td>LGBMRegressor(boosting_type='gbdt', class_weight=None, colsample_bytree=1.0,\\n              impo...</td>\n",
       "      <td>-10.506</td>\n",
       "      <td>-10.951</td>\n",
       "      <td>0.474</td>\n",
       "      <td>0.421</td>\n",
       "    </tr>\n",
       "    <tr>\n",
       "      <th>1703</th>\n",
       "      <td>LGBMRegressor(boosting_type='gbdt', class_weight=None, colsample_bytree=1.0,\\n              impo...</td>\n",
       "      <td>-9.578</td>\n",
       "      <td>-10.957</td>\n",
       "      <td>0.563</td>\n",
       "      <td>0.421</td>\n",
       "    </tr>\n",
       "    <tr>\n",
       "      <th>1671</th>\n",
       "      <td>LGBMRegressor(boosting_type='gbdt', class_weight=None, colsample_bytree=1.0,\\n              impo...</td>\n",
       "      <td>-10.511</td>\n",
       "      <td>-10.960</td>\n",
       "      <td>0.473</td>\n",
       "      <td>0.420</td>\n",
       "    </tr>\n",
       "    <tr>\n",
       "      <th>1669</th>\n",
       "      <td>LGBMRegressor(boosting_type='gbdt', class_weight=None, colsample_bytree=1.0,\\n              impo...</td>\n",
       "      <td>-10.514</td>\n",
       "      <td>-10.961</td>\n",
       "      <td>0.473</td>\n",
       "      <td>0.420</td>\n",
       "    </tr>\n",
       "    <tr>\n",
       "      <th>1670</th>\n",
       "      <td>LGBMRegressor(boosting_type='gbdt', class_weight=None, colsample_bytree=1.0,\\n              impo...</td>\n",
       "      <td>-10.514</td>\n",
       "      <td>-10.961</td>\n",
       "      <td>0.473</td>\n",
       "      <td>0.420</td>\n",
       "    </tr>\n",
       "    <tr>\n",
       "      <th>1739</th>\n",
       "      <td>LGBMRegressor(boosting_type='gbdt', class_weight=None, colsample_bytree=1.0,\\n              impo...</td>\n",
       "      <td>-9.366</td>\n",
       "      <td>-10.964</td>\n",
       "      <td>0.582</td>\n",
       "      <td>0.420</td>\n",
       "    </tr>\n",
       "    <tr>\n",
       "      <th>949</th>\n",
       "      <td>XGBRegressor(base_score=None, booster=None, colsample_bylevel=None,\\n             colsample_byno...</td>\n",
       "      <td>-9.974</td>\n",
       "      <td>-10.972</td>\n",
       "      <td>0.526</td>\n",
       "      <td>0.418</td>\n",
       "    </tr>\n",
       "    <tr>\n",
       "      <th>1779</th>\n",
       "      <td>LGBMRegressor(boosting_type='gbdt', class_weight=None, colsample_bytree=1.0,\\n              impo...</td>\n",
       "      <td>-10.372</td>\n",
       "      <td>-10.979</td>\n",
       "      <td>0.487</td>\n",
       "      <td>0.419</td>\n",
       "    </tr>\n",
       "  </tbody>\n",
       "</table>\n",
       "</div>"
      ],
      "text/plain": [
       "                                                                                          param_regressor  \\\n",
       "37    RandomForestRegressor(bootstrap=True, ccp_alpha=0.0, criterion='mse',\\n                      max...   \n",
       "1691  LGBMRegressor(boosting_type='gbdt', class_weight=None, colsample_bytree=1.0,\\n              impo...   \n",
       "1685  LGBMRegressor(boosting_type='gbdt', class_weight=None, colsample_bytree=1.0,\\n              impo...   \n",
       "1679  LGBMRegressor(boosting_type='gbdt', class_weight=None, colsample_bytree=1.0,\\n              impo...   \n",
       "1672  LGBMRegressor(boosting_type='gbdt', class_weight=None, colsample_bytree=1.0,\\n              impo...   \n",
       "1703  LGBMRegressor(boosting_type='gbdt', class_weight=None, colsample_bytree=1.0,\\n              impo...   \n",
       "1671  LGBMRegressor(boosting_type='gbdt', class_weight=None, colsample_bytree=1.0,\\n              impo...   \n",
       "1669  LGBMRegressor(boosting_type='gbdt', class_weight=None, colsample_bytree=1.0,\\n              impo...   \n",
       "1670  LGBMRegressor(boosting_type='gbdt', class_weight=None, colsample_bytree=1.0,\\n              impo...   \n",
       "1739  LGBMRegressor(boosting_type='gbdt', class_weight=None, colsample_bytree=1.0,\\n              impo...   \n",
       "949   XGBRegressor(base_score=None, booster=None, colsample_bylevel=None,\\n             colsample_byno...   \n",
       "1779  LGBMRegressor(boosting_type='gbdt', class_weight=None, colsample_bytree=1.0,\\n              impo...   \n",
       "\n",
       "      mean_train_neg_root_mean_squared_error  \\\n",
       "37                                   -10.322   \n",
       "1691                                  -9.514   \n",
       "1685                                  -9.513   \n",
       "1679                                  -9.513   \n",
       "1672                                 -10.506   \n",
       "1703                                  -9.578   \n",
       "1671                                 -10.511   \n",
       "1669                                 -10.514   \n",
       "1670                                 -10.514   \n",
       "1739                                  -9.366   \n",
       "949                                   -9.974   \n",
       "1779                                 -10.372   \n",
       "\n",
       "      mean_test_neg_root_mean_squared_error  mean_train_r2  mean_test_r2  \n",
       "37                                  -10.921          0.492         0.424  \n",
       "1691                                -10.936          0.569         0.423  \n",
       "1685                                -10.944          0.569         0.422  \n",
       "1679                                -10.946          0.569         0.422  \n",
       "1672                                -10.951          0.474         0.421  \n",
       "1703                                -10.957          0.563         0.421  \n",
       "1671                                -10.960          0.473         0.420  \n",
       "1669                                -10.961          0.473         0.420  \n",
       "1670                                -10.961          0.473         0.420  \n",
       "1739                                -10.964          0.582         0.420  \n",
       "949                                 -10.972          0.526         0.418  \n",
       "1779                                -10.979          0.487         0.419  "
      ]
     },
     "execution_count": 25,
     "metadata": {},
     "output_type": "execute_result"
    }
   ],
   "source": [
    "# sirala\n",
    "grid_df = grid_df.sort_values(by='mean_test_neg_root_mean_squared_error', ascending=False)\n",
    "# ilk siradakileri goster\n",
    "grid_df.loc[:,['param_regressor','mean_train_neg_root_mean_squared_error',\n",
    "               'mean_test_neg_root_mean_squared_error','mean_train_r2','mean_test_r2']].head(12)"
   ]
  },
  {
   "cell_type": "code",
   "execution_count": 26,
   "metadata": {},
   "outputs": [
    {
     "name": "stdout",
     "output_type": "stream",
     "text": [
      "rmse : 11.15\n"
     ]
    }
   ],
   "source": [
    "# secilen modeli olustur ve test et\n",
    "lgbm_reg = LGBMRegressor(max_depth=4, reg_alpha=0.1, reg_lambda=10)\n",
    "lgbm_reg.fit(X_train, y_train)\n",
    "y_pred = lgbm_reg.predict(X_test)\n",
    "# degerleri yuvarla\n",
    "y_pred = np.around(y_pred)\n",
    "print('rmse : {:.2f}'.format(np.sqrt(mean_squared_error(y_test, y_pred))))"
   ]
  },
  {
   "cell_type": "code",
   "execution_count": 27,
   "metadata": {},
   "outputs": [
    {
     "data": {
      "text/plain": [
       "array([32.89591762, 31.29562167, 27.12868865, 28.51492777, 20.68348996,\n",
       "       28.75733132, 35.27054275, 24.81742161, 21.22301958, 28.4411498 ])"
      ]
     },
     "execution_count": 27,
     "metadata": {},
     "output_type": "execute_result"
    }
   ],
   "source": [
    "# secilen modeli butun veriyle egitip tahmin degerleri ile eksik degerleri doldur\n",
    "lgbm_reg = LGBMRegressor(max_depth=4, reg_alpha=0.1, reg_lambda=10)\n",
    "lgbm_reg.fit(X, y)\n",
    "# eksik degerlerin aciklayici degiskenler bolumu\n",
    "X_fill = titanic_no_age.drop(['PassengerId', 'Age'], axis=1)\n",
    "# eksik degerleri  tahmin ile doldur\n",
    "predicted_age = lgbm_reg.predict(X_fill)\n",
    "# degerleri incele\n",
    "predicted_age[:10]"
   ]
  },
  {
   "cell_type": "code",
   "execution_count": 28,
   "metadata": {},
   "outputs": [],
   "source": [
    "# degerleri yuvarlayarak doldur\n",
    "titanic_no_age['Age'] = np.around(predicted_age)"
   ]
  },
  {
   "cell_type": "code",
   "execution_count": 29,
   "metadata": {},
   "outputs": [],
   "source": [
    "# ayirdigimiz dfleri birlestir\n",
    "titanic = pd.concat([titanic_w_age, titanic_no_age])"
   ]
  },
  {
   "cell_type": "code",
   "execution_count": 30,
   "metadata": {},
   "outputs": [],
   "source": [
    "# sirala\n",
    "titanic = titanic.sort_values(by='PassengerId')"
   ]
  },
  {
   "cell_type": "code",
   "execution_count": 31,
   "metadata": {},
   "outputs": [
    {
     "name": "stdout",
     "output_type": "stream",
     "text": [
      "<class 'pandas.core.frame.DataFrame'>\n",
      "Int64Index: 891 entries, 0 to 890\n",
      "Data columns (total 14 columns):\n",
      " #   Column       Non-Null Count  Dtype  \n",
      "---  ------       --------------  -----  \n",
      " 0   PassengerId  891 non-null    int64  \n",
      " 1   Survived     891 non-null    int64  \n",
      " 2   Pclass       891 non-null    int64  \n",
      " 3   Age          891 non-null    float64\n",
      " 4   SibSp        891 non-null    int64  \n",
      " 5   Parch        891 non-null    int64  \n",
      " 6   Fare         891 non-null    float64\n",
      " 7   male         891 non-null    uint8  \n",
      " 8   Embarked_Q   891 non-null    uint8  \n",
      " 9   Embarked_S   891 non-null    uint8  \n",
      " 10  master       891 non-null    uint8  \n",
      " 11  miss         891 non-null    uint8  \n",
      " 12  mr           891 non-null    uint8  \n",
      " 13  mrs          891 non-null    uint8  \n",
      "dtypes: float64(2), int64(5), uint8(7)\n",
      "memory usage: 61.8 KB\n"
     ]
    }
   ],
   "source": [
    "titanic.info()"
   ]
  },
  {
   "cell_type": "markdown",
   "metadata": {},
   "source": [
    "---\n",
    "### ***Kurtulma Tahmin Modeli - Pipeline***\n",
    "Meta model olarak dusunulebilecek pipeline sinifi ile modelleri test ederek en iyi performans veren modeli sececegiz."
   ]
  },
  {
   "cell_type": "code",
   "execution_count": 52,
   "metadata": {},
   "outputs": [],
   "source": [
    "# hedef degisken\n",
    "y = titanic['Survived']\n",
    "# aciklayici degiskenler\n",
    "X = titanic.drop(['PassengerId', 'Survived'], axis=1)"
   ]
  },
  {
   "cell_type": "code",
   "execution_count": 53,
   "metadata": {},
   "outputs": [],
   "source": [
    "# egitim ve test kumesini ayirma\n",
    "X_train, X_test, y_train, y_test = train_test_split(X, y, test_size=0.2, random_state=0)"
   ]
  },
  {
   "cell_type": "code",
   "execution_count": 54,
   "metadata": {},
   "outputs": [
    {
     "name": "stdout",
     "output_type": "stream",
     "text": [
      "Best params: \n",
      "{'classifier': XGBClassifier(base_score=None, booster=None, colsample_bylevel=None,\n",
      "              colsample_bynode=None, colsample_bytree=None, gamma=1.0,\n",
      "              gpu_id=None, importance_type='gain', interaction_constraints=None,\n",
      "              learning_rate=None, max_delta_step=None, max_depth=6,\n",
      "              min_child_weight=None, missing=nan, monotone_constraints=None,\n",
      "              n_estimators=100, n_jobs=None, num_parallel_tree=None,\n",
      "              objective='binary:logistic', random_state=None, reg_alpha=1.0,\n",
      "              reg_lambda=0.1, scale_pos_weight=None, subsample=None,\n",
      "              tree_method=None, validate_parameters=False, verbosity=None), 'classifier__gamma': 1.0, 'classifier__max_depth': 6, 'classifier__reg_alpha': 1.0, 'classifier__reg_lambda': 0.1, 'preprocessing': None}\n",
      "\n",
      "Best cross-validation score: \n",
      "0.85\n",
      "\n",
      "Test-set score: \n",
      "0.84\n",
      "\n",
      "CPU times: user 1min 32s, sys: 1.77 s, total: 1min 34s\n",
      "Wall time: 7min 22s\n"
     ]
    }
   ],
   "source": [
    "%%time\n",
    "# hucrenin calisma suresini tutacak\n",
    "\n",
    "# pipeline tanimla\n",
    "# ilk model knn ve preprocessing dahil tanimlandi \n",
    "pipe = Pipeline([('preprocessing', None), \n",
    "                 ('classifier', KNeighborsClassifier())])\n",
    "\n",
    "# aranacak model ve parametreleri belirle\n",
    "param_grid = [{'classifier': [KNeighborsClassifier()], 'preprocessing': [None],\n",
    "               'classifier__n_neighbors': np.arange(3,10),\n",
    "               'classifier__weights': ['uniform', 'distance']},\n",
    "              {'classifier': [LogisticRegression()], 'preprocessing': [None],\n",
    "               'classifier__C': np.logspace(-3,2,6)},\n",
    "              {'classifier': [LogisticRegression(solver='liblinear')], 'preprocessing': [None],\n",
    "               'classifier__penalty': ['l1', 'l2'],\n",
    "               'classifier__C': np.logspace(-3,2,6)},\n",
    "              {'classifier': [DecisionTreeClassifier()], 'preprocessing': [None],\n",
    "               'classifier__max_depth': np.arange(3,10)},\n",
    "              {'classifier': [RandomForestClassifier()], 'preprocessing': [None],\n",
    "               'classifier__max_depth': np.arange(3,10)},\n",
    "              {'classifier': [SVC()], 'preprocessing': [StandardScaler(), None],\n",
    "               'classifier__gamma': np.logspace(-3,2,6),\n",
    "               'classifier__C': np.logspace(-3,2,6)},\n",
    "              {'classifier': [SVC(kernel='linear')], 'preprocessing': [StandardScaler(), None],\n",
    "               'classifier__C': np.logspace(-3,2,6)},\n",
    "              {'classifier': [XGBClassifier()], 'preprocessing': [None],\n",
    "               'classifier__gamma': np.logspace(-3,2,6),\n",
    "               'classifier__reg_alpha': np.logspace(-3,2,6), \n",
    "               'classifier__reg_lambda': np.logspace(-3,2,6), \n",
    "               'classifier__max_depth': np.arange(3,10)},\n",
    "              {'classifier': [LGBMClassifier()], 'preprocessing': [None],\n",
    "               'classifier__reg_alpha': np.logspace(-3,2,6), \n",
    "               'classifier__reg_lambda': np.logspace(-3,2,6), \n",
    "               'classifier__max_depth': np.arange(3,10)}\n",
    "             ]\n",
    "# gridsearch nesnesi tanimla\n",
    "grid_survive = GridSearchCV(estimator=pipe, param_grid=param_grid, scoring=['roc_auc','f1','accuracy'], \n",
    "                            cv=7, n_jobs=-1, return_train_score=True, refit='accuracy')\n",
    "# modeli egit\n",
    "grid_survive.fit(X_train, y_train)\n",
    "\n",
    "# sonuclar\n",
    "print(\"Best params: \\n{}\\n\".format(grid_survive.best_params_))\n",
    "print(\"Best cross-validation score: \\n{:.2f}\\n\".format(grid_survive.best_score_))\n",
    "print(\"Test-set score: \\n{:.2f}\\n\".format(grid_survive.score(X_test, y_test)))\n"
   ]
  },
  {
   "cell_type": "code",
   "execution_count": 55,
   "metadata": {},
   "outputs": [
    {
     "data": {
      "text/html": [
       "<div>\n",
       "<style scoped>\n",
       "    .dataframe tbody tr th:only-of-type {\n",
       "        vertical-align: middle;\n",
       "    }\n",
       "\n",
       "    .dataframe tbody tr th {\n",
       "        vertical-align: top;\n",
       "    }\n",
       "\n",
       "    .dataframe thead th {\n",
       "        text-align: right;\n",
       "    }\n",
       "</style>\n",
       "<table border=\"1\" class=\"dataframe\">\n",
       "  <thead>\n",
       "    <tr style=\"text-align: right;\">\n",
       "      <th></th>\n",
       "      <th>mean_fit_time</th>\n",
       "      <th>std_fit_time</th>\n",
       "      <th>mean_score_time</th>\n",
       "      <th>std_score_time</th>\n",
       "      <th>param_classifier</th>\n",
       "      <th>param_classifier__n_neighbors</th>\n",
       "      <th>param_classifier__weights</th>\n",
       "      <th>param_preprocessing</th>\n",
       "      <th>param_classifier__C</th>\n",
       "      <th>param_classifier__penalty</th>\n",
       "      <th>param_classifier__max_depth</th>\n",
       "      <th>param_classifier__gamma</th>\n",
       "      <th>param_classifier__reg_alpha</th>\n",
       "      <th>param_classifier__reg_lambda</th>\n",
       "      <th>params</th>\n",
       "      <th>split0_test_roc_auc</th>\n",
       "      <th>split1_test_roc_auc</th>\n",
       "      <th>split2_test_roc_auc</th>\n",
       "      <th>split3_test_roc_auc</th>\n",
       "      <th>split4_test_roc_auc</th>\n",
       "      <th>split5_test_roc_auc</th>\n",
       "      <th>split6_test_roc_auc</th>\n",
       "      <th>mean_test_roc_auc</th>\n",
       "      <th>std_test_roc_auc</th>\n",
       "      <th>rank_test_roc_auc</th>\n",
       "      <th>split0_train_roc_auc</th>\n",
       "      <th>split1_train_roc_auc</th>\n",
       "      <th>split2_train_roc_auc</th>\n",
       "      <th>split3_train_roc_auc</th>\n",
       "      <th>split4_train_roc_auc</th>\n",
       "      <th>split5_train_roc_auc</th>\n",
       "      <th>split6_train_roc_auc</th>\n",
       "      <th>mean_train_roc_auc</th>\n",
       "      <th>std_train_roc_auc</th>\n",
       "      <th>split0_test_f1</th>\n",
       "      <th>split1_test_f1</th>\n",
       "      <th>split2_test_f1</th>\n",
       "      <th>split3_test_f1</th>\n",
       "      <th>split4_test_f1</th>\n",
       "      <th>split5_test_f1</th>\n",
       "      <th>split6_test_f1</th>\n",
       "      <th>mean_test_f1</th>\n",
       "      <th>std_test_f1</th>\n",
       "      <th>rank_test_f1</th>\n",
       "      <th>split0_train_f1</th>\n",
       "      <th>split1_train_f1</th>\n",
       "      <th>split2_train_f1</th>\n",
       "      <th>split3_train_f1</th>\n",
       "      <th>split4_train_f1</th>\n",
       "      <th>split5_train_f1</th>\n",
       "      <th>split6_train_f1</th>\n",
       "      <th>mean_train_f1</th>\n",
       "      <th>std_train_f1</th>\n",
       "      <th>split0_test_accuracy</th>\n",
       "      <th>split1_test_accuracy</th>\n",
       "      <th>split2_test_accuracy</th>\n",
       "      <th>split3_test_accuracy</th>\n",
       "      <th>split4_test_accuracy</th>\n",
       "      <th>split5_test_accuracy</th>\n",
       "      <th>split6_test_accuracy</th>\n",
       "      <th>mean_test_accuracy</th>\n",
       "      <th>std_test_accuracy</th>\n",
       "      <th>rank_test_accuracy</th>\n",
       "      <th>split0_train_accuracy</th>\n",
       "      <th>split1_train_accuracy</th>\n",
       "      <th>split2_train_accuracy</th>\n",
       "      <th>split3_train_accuracy</th>\n",
       "      <th>split4_train_accuracy</th>\n",
       "      <th>split5_train_accuracy</th>\n",
       "      <th>split6_train_accuracy</th>\n",
       "      <th>mean_train_accuracy</th>\n",
       "      <th>std_train_accuracy</th>\n",
       "    </tr>\n",
       "  </thead>\n",
       "  <tbody>\n",
       "    <tr>\n",
       "      <th>0</th>\n",
       "      <td>0.008</td>\n",
       "      <td>0.000</td>\n",
       "      <td>0.023</td>\n",
       "      <td>0.002</td>\n",
       "      <td>KNeighborsClassifier(algorithm='auto', leaf_size=30, metric='minkowski',\\n                     m...</td>\n",
       "      <td>3</td>\n",
       "      <td>uniform</td>\n",
       "      <td>None</td>\n",
       "      <td>NaN</td>\n",
       "      <td>NaN</td>\n",
       "      <td>NaN</td>\n",
       "      <td>NaN</td>\n",
       "      <td>NaN</td>\n",
       "      <td>NaN</td>\n",
       "      <td>{'classifier': KNeighborsClassifier(algorithm='auto', leaf_size=30, metric='minkowski',\n",
       "        ...</td>\n",
       "      <td>0.729</td>\n",
       "      <td>0.699</td>\n",
       "      <td>0.779</td>\n",
       "      <td>0.668</td>\n",
       "      <td>0.758</td>\n",
       "      <td>0.748</td>\n",
       "      <td>0.783</td>\n",
       "      <td>0.737</td>\n",
       "      <td>0.039</td>\n",
       "      <td>1755</td>\n",
       "      <td>0.921</td>\n",
       "      <td>0.922</td>\n",
       "      <td>0.913</td>\n",
       "      <td>0.920</td>\n",
       "      <td>0.913</td>\n",
       "      <td>0.917</td>\n",
       "      <td>0.915</td>\n",
       "      <td>0.917</td>\n",
       "      <td>0.004</td>\n",
       "      <td>0.575</td>\n",
       "      <td>0.580</td>\n",
       "      <td>0.611</td>\n",
       "      <td>0.533</td>\n",
       "      <td>0.613</td>\n",
       "      <td>0.613</td>\n",
       "      <td>0.650</td>\n",
       "      <td>0.597</td>\n",
       "      <td>0.035</td>\n",
       "      <td>1326</td>\n",
       "      <td>0.776</td>\n",
       "      <td>0.785</td>\n",
       "      <td>0.763</td>\n",
       "      <td>0.777</td>\n",
       "      <td>0.761</td>\n",
       "      <td>0.769</td>\n",
       "      <td>0.774</td>\n",
       "      <td>0.772</td>\n",
       "      <td>0.008</td>\n",
       "      <td>0.696</td>\n",
       "      <td>0.716</td>\n",
       "      <td>0.725</td>\n",
       "      <td>0.657</td>\n",
       "      <td>0.716</td>\n",
       "      <td>0.713</td>\n",
       "      <td>0.723</td>\n",
       "      <td>0.706</td>\n",
       "      <td>0.022</td>\n",
       "      <td>1326</td>\n",
       "      <td>0.838</td>\n",
       "      <td>0.844</td>\n",
       "      <td>0.828</td>\n",
       "      <td>0.839</td>\n",
       "      <td>0.828</td>\n",
       "      <td>0.835</td>\n",
       "      <td>0.838</td>\n",
       "      <td>0.836</td>\n",
       "      <td>0.006</td>\n",
       "    </tr>\n",
       "  </tbody>\n",
       "</table>\n",
       "</div>"
      ],
      "text/plain": [
       "   mean_fit_time  std_fit_time  mean_score_time  std_score_time  \\\n",
       "0          0.008         0.000            0.023           0.002   \n",
       "\n",
       "                                                                                      param_classifier  \\\n",
       "0  KNeighborsClassifier(algorithm='auto', leaf_size=30, metric='minkowski',\\n                     m...   \n",
       "\n",
       "  param_classifier__n_neighbors param_classifier__weights param_preprocessing  \\\n",
       "0                             3                   uniform                None   \n",
       "\n",
       "  param_classifier__C param_classifier__penalty param_classifier__max_depth  \\\n",
       "0                 NaN                       NaN                         NaN   \n",
       "\n",
       "  param_classifier__gamma param_classifier__reg_alpha  \\\n",
       "0                     NaN                         NaN   \n",
       "\n",
       "  param_classifier__reg_lambda  \\\n",
       "0                          NaN   \n",
       "\n",
       "                                                                                                params  \\\n",
       "0  {'classifier': KNeighborsClassifier(algorithm='auto', leaf_size=30, metric='minkowski',\n",
       "        ...   \n",
       "\n",
       "   split0_test_roc_auc  split1_test_roc_auc  split2_test_roc_auc  \\\n",
       "0                0.729                0.699                0.779   \n",
       "\n",
       "   split3_test_roc_auc  split4_test_roc_auc  split5_test_roc_auc  \\\n",
       "0                0.668                0.758                0.748   \n",
       "\n",
       "   split6_test_roc_auc  mean_test_roc_auc  std_test_roc_auc  \\\n",
       "0                0.783              0.737             0.039   \n",
       "\n",
       "   rank_test_roc_auc  split0_train_roc_auc  split1_train_roc_auc  \\\n",
       "0               1755                 0.921                 0.922   \n",
       "\n",
       "   split2_train_roc_auc  split3_train_roc_auc  split4_train_roc_auc  \\\n",
       "0                 0.913                 0.920                 0.913   \n",
       "\n",
       "   split5_train_roc_auc  split6_train_roc_auc  mean_train_roc_auc  \\\n",
       "0                 0.917                 0.915               0.917   \n",
       "\n",
       "   std_train_roc_auc  split0_test_f1  split1_test_f1  split2_test_f1  \\\n",
       "0              0.004           0.575           0.580           0.611   \n",
       "\n",
       "   split3_test_f1  split4_test_f1  split5_test_f1  split6_test_f1  \\\n",
       "0           0.533           0.613           0.613           0.650   \n",
       "\n",
       "   mean_test_f1  std_test_f1  rank_test_f1  split0_train_f1  split1_train_f1  \\\n",
       "0         0.597        0.035          1326            0.776            0.785   \n",
       "\n",
       "   split2_train_f1  split3_train_f1  split4_train_f1  split5_train_f1  \\\n",
       "0            0.763            0.777            0.761            0.769   \n",
       "\n",
       "   split6_train_f1  mean_train_f1  std_train_f1  split0_test_accuracy  \\\n",
       "0            0.774          0.772         0.008                 0.696   \n",
       "\n",
       "   split1_test_accuracy  split2_test_accuracy  split3_test_accuracy  \\\n",
       "0                 0.716                 0.725                 0.657   \n",
       "\n",
       "   split4_test_accuracy  split5_test_accuracy  split6_test_accuracy  \\\n",
       "0                 0.716                 0.713                 0.723   \n",
       "\n",
       "   mean_test_accuracy  std_test_accuracy  rank_test_accuracy  \\\n",
       "0               0.706              0.022                1326   \n",
       "\n",
       "   split0_train_accuracy  split1_train_accuracy  split2_train_accuracy  \\\n",
       "0                  0.838                  0.844                  0.828   \n",
       "\n",
       "   split3_train_accuracy  split4_train_accuracy  split5_train_accuracy  \\\n",
       "0                  0.839                  0.828                  0.835   \n",
       "\n",
       "   split6_train_accuracy  mean_train_accuracy  std_train_accuracy  \n",
       "0                  0.838                0.836               0.006  "
      ]
     },
     "execution_count": 55,
     "metadata": {},
     "output_type": "execute_result"
    }
   ],
   "source": [
    "# sonuclari df olarak kaydet\n",
    "grid_survive_df = pd.DataFrame(grid_survive.cv_results_)\n",
    "grid_survive_df.head(1)"
   ]
  },
  {
   "cell_type": "code",
   "execution_count": 56,
   "metadata": {},
   "outputs": [
    {
     "data": {
      "text/html": [
       "<div>\n",
       "<style scoped>\n",
       "    .dataframe tbody tr th:only-of-type {\n",
       "        vertical-align: middle;\n",
       "    }\n",
       "\n",
       "    .dataframe tbody tr th {\n",
       "        vertical-align: top;\n",
       "    }\n",
       "\n",
       "    .dataframe thead th {\n",
       "        text-align: right;\n",
       "    }\n",
       "</style>\n",
       "<table border=\"1\" class=\"dataframe\">\n",
       "  <thead>\n",
       "    <tr style=\"text-align: right;\">\n",
       "      <th></th>\n",
       "      <th>param_classifier</th>\n",
       "      <th>mean_train_accuracy</th>\n",
       "      <th>mean_test_accuracy</th>\n",
       "      <th>mean_train_roc_auc</th>\n",
       "      <th>mean_test_roc_auc</th>\n",
       "      <th>mean_train_f1</th>\n",
       "      <th>mean_test_f1</th>\n",
       "    </tr>\n",
       "  </thead>\n",
       "  <tbody>\n",
       "    <tr>\n",
       "      <th>1049</th>\n",
       "      <td>XGBClassifier(base_score=None, booster=None, colsample_bylevel=None,\\n              colsample_by...</td>\n",
       "      <td>0.900</td>\n",
       "      <td>0.854</td>\n",
       "      <td>0.963</td>\n",
       "      <td>0.884</td>\n",
       "      <td>0.860</td>\n",
       "      <td>0.797</td>\n",
       "    </tr>\n",
       "    <tr>\n",
       "      <th>1014</th>\n",
       "      <td>XGBClassifier(base_score=None, booster=None, colsample_bylevel=None,\\n              colsample_by...</td>\n",
       "      <td>0.896</td>\n",
       "      <td>0.854</td>\n",
       "      <td>0.958</td>\n",
       "      <td>0.881</td>\n",
       "      <td>0.854</td>\n",
       "      <td>0.795</td>\n",
       "    </tr>\n",
       "    <tr>\n",
       "      <th>764</th>\n",
       "      <td>XGBClassifier(base_score=None, booster=None, colsample_bylevel=None,\\n              colsample_by...</td>\n",
       "      <td>0.905</td>\n",
       "      <td>0.853</td>\n",
       "      <td>0.971</td>\n",
       "      <td>0.886</td>\n",
       "      <td>0.870</td>\n",
       "      <td>0.794</td>\n",
       "    </tr>\n",
       "    <tr>\n",
       "      <th>656</th>\n",
       "      <td>XGBClassifier(base_score=None, booster=None, colsample_bylevel=None,\\n              colsample_by...</td>\n",
       "      <td>0.888</td>\n",
       "      <td>0.851</td>\n",
       "      <td>0.947</td>\n",
       "      <td>0.883</td>\n",
       "      <td>0.845</td>\n",
       "      <td>0.795</td>\n",
       "    </tr>\n",
       "    <tr>\n",
       "      <th>1048</th>\n",
       "      <td>XGBClassifier(base_score=None, booster=None, colsample_bylevel=None,\\n              colsample_by...</td>\n",
       "      <td>0.901</td>\n",
       "      <td>0.851</td>\n",
       "      <td>0.964</td>\n",
       "      <td>0.885</td>\n",
       "      <td>0.861</td>\n",
       "      <td>0.792</td>\n",
       "    </tr>\n",
       "  </tbody>\n",
       "</table>\n",
       "</div>"
      ],
      "text/plain": [
       "                                                                                         param_classifier  \\\n",
       "1049  XGBClassifier(base_score=None, booster=None, colsample_bylevel=None,\\n              colsample_by...   \n",
       "1014  XGBClassifier(base_score=None, booster=None, colsample_bylevel=None,\\n              colsample_by...   \n",
       "764   XGBClassifier(base_score=None, booster=None, colsample_bylevel=None,\\n              colsample_by...   \n",
       "656   XGBClassifier(base_score=None, booster=None, colsample_bylevel=None,\\n              colsample_by...   \n",
       "1048  XGBClassifier(base_score=None, booster=None, colsample_bylevel=None,\\n              colsample_by...   \n",
       "\n",
       "      mean_train_accuracy  mean_test_accuracy  mean_train_roc_auc  \\\n",
       "1049                0.900               0.854               0.963   \n",
       "1014                0.896               0.854               0.958   \n",
       "764                 0.905               0.853               0.971   \n",
       "656                 0.888               0.851               0.947   \n",
       "1048                0.901               0.851               0.964   \n",
       "\n",
       "      mean_test_roc_auc  mean_train_f1  mean_test_f1  \n",
       "1049              0.884          0.860         0.797  \n",
       "1014              0.881          0.854         0.795  \n",
       "764               0.886          0.870         0.794  \n",
       "656               0.883          0.845         0.795  \n",
       "1048              0.885          0.861         0.792  "
      ]
     },
     "execution_count": 56,
     "metadata": {},
     "output_type": "execute_result"
    }
   ],
   "source": [
    "# sirala\n",
    "grid_survive_df = grid_survive_df.sort_values(by='mean_test_accuracy', ascending=False)\n",
    "# ilk siradakileri goster\n",
    "grid_survive_df.loc[:,['param_classifier','mean_train_accuracy', 'mean_test_accuracy', 'mean_train_roc_auc',\n",
    "                       'mean_test_roc_auc','mean_train_f1','mean_test_f1']].head(5)"
   ]
  },
  {
   "cell_type": "code",
   "execution_count": 57,
   "metadata": {},
   "outputs": [],
   "source": [
    "# her bir classifier in en iyi degerleriyle ayri bir df olustur\n",
    "best_of_classifiers = pd.DataFrame([])\n",
    "for classifier in grid_survive_df.param_classifier.unique():\n",
    "    best_of_classifiers = pd.concat([best_of_classifiers,grid_survive_df[grid_survive_df['param_classifier']==classifier].head(1)])"
   ]
  },
  {
   "cell_type": "code",
   "execution_count": 65,
   "metadata": {},
   "outputs": [
    {
     "data": {
      "text/html": [
       "<div>\n",
       "<style scoped>\n",
       "    .dataframe tbody tr th:only-of-type {\n",
       "        vertical-align: middle;\n",
       "    }\n",
       "\n",
       "    .dataframe tbody tr th {\n",
       "        vertical-align: top;\n",
       "    }\n",
       "\n",
       "    .dataframe thead th {\n",
       "        text-align: right;\n",
       "    }\n",
       "</style>\n",
       "<table border=\"1\" class=\"dataframe\">\n",
       "  <thead>\n",
       "    <tr style=\"text-align: right;\">\n",
       "      <th></th>\n",
       "      <th>mean_fit_time</th>\n",
       "      <th>std_fit_time</th>\n",
       "      <th>mean_score_time</th>\n",
       "      <th>std_score_time</th>\n",
       "      <th>param_classifier</th>\n",
       "      <th>param_classifier__n_neighbors</th>\n",
       "      <th>param_classifier__weights</th>\n",
       "      <th>param_preprocessing</th>\n",
       "      <th>param_classifier__C</th>\n",
       "      <th>param_classifier__penalty</th>\n",
       "      <th>param_classifier__max_depth</th>\n",
       "      <th>param_classifier__gamma</th>\n",
       "      <th>param_classifier__reg_alpha</th>\n",
       "      <th>param_classifier__reg_lambda</th>\n",
       "      <th>params</th>\n",
       "      <th>split0_test_roc_auc</th>\n",
       "      <th>split1_test_roc_auc</th>\n",
       "      <th>split2_test_roc_auc</th>\n",
       "      <th>split3_test_roc_auc</th>\n",
       "      <th>split4_test_roc_auc</th>\n",
       "      <th>split5_test_roc_auc</th>\n",
       "      <th>split6_test_roc_auc</th>\n",
       "      <th>mean_test_roc_auc</th>\n",
       "      <th>std_test_roc_auc</th>\n",
       "      <th>rank_test_roc_auc</th>\n",
       "      <th>split0_train_roc_auc</th>\n",
       "      <th>split1_train_roc_auc</th>\n",
       "      <th>split2_train_roc_auc</th>\n",
       "      <th>split3_train_roc_auc</th>\n",
       "      <th>split4_train_roc_auc</th>\n",
       "      <th>split5_train_roc_auc</th>\n",
       "      <th>split6_train_roc_auc</th>\n",
       "      <th>mean_train_roc_auc</th>\n",
       "      <th>std_train_roc_auc</th>\n",
       "      <th>split0_test_f1</th>\n",
       "      <th>split1_test_f1</th>\n",
       "      <th>split2_test_f1</th>\n",
       "      <th>split3_test_f1</th>\n",
       "      <th>split4_test_f1</th>\n",
       "      <th>split5_test_f1</th>\n",
       "      <th>split6_test_f1</th>\n",
       "      <th>mean_test_f1</th>\n",
       "      <th>std_test_f1</th>\n",
       "      <th>rank_test_f1</th>\n",
       "      <th>split0_train_f1</th>\n",
       "      <th>split1_train_f1</th>\n",
       "      <th>split2_train_f1</th>\n",
       "      <th>split3_train_f1</th>\n",
       "      <th>split4_train_f1</th>\n",
       "      <th>split5_train_f1</th>\n",
       "      <th>split6_train_f1</th>\n",
       "      <th>mean_train_f1</th>\n",
       "      <th>std_train_f1</th>\n",
       "      <th>split0_test_accuracy</th>\n",
       "      <th>split1_test_accuracy</th>\n",
       "      <th>split2_test_accuracy</th>\n",
       "      <th>split3_test_accuracy</th>\n",
       "      <th>split4_test_accuracy</th>\n",
       "      <th>split5_test_accuracy</th>\n",
       "      <th>split6_test_accuracy</th>\n",
       "      <th>mean_test_accuracy</th>\n",
       "      <th>std_test_accuracy</th>\n",
       "      <th>rank_test_accuracy</th>\n",
       "      <th>split0_train_accuracy</th>\n",
       "      <th>split1_train_accuracy</th>\n",
       "      <th>split2_train_accuracy</th>\n",
       "      <th>split3_train_accuracy</th>\n",
       "      <th>split4_train_accuracy</th>\n",
       "      <th>split5_train_accuracy</th>\n",
       "      <th>split6_train_accuracy</th>\n",
       "      <th>mean_train_accuracy</th>\n",
       "      <th>std_train_accuracy</th>\n",
       "    </tr>\n",
       "  </thead>\n",
       "  <tbody>\n",
       "    <tr>\n",
       "      <th>1049</th>\n",
       "      <td>0.182</td>\n",
       "      <td>0.025</td>\n",
       "      <td>0.009</td>\n",
       "      <td>0.001</td>\n",
       "      <td>XGBClassifier(base_score=None, booster=None, colsample_bylevel=None,\\n              colsample_by...</td>\n",
       "      <td>NaN</td>\n",
       "      <td>NaN</td>\n",
       "      <td>None</td>\n",
       "      <td>NaN</td>\n",
       "      <td>NaN</td>\n",
       "      <td>7</td>\n",
       "      <td>1.000</td>\n",
       "      <td>1.000</td>\n",
       "      <td>0.010</td>\n",
       "      <td>{'classifier': XGBClassifier(base_score=None, booster=None, colsample_bylevel=None,\n",
       "            ...</td>\n",
       "      <td>0.875</td>\n",
       "      <td>0.902</td>\n",
       "      <td>0.901</td>\n",
       "      <td>0.850</td>\n",
       "      <td>0.875</td>\n",
       "      <td>0.887</td>\n",
       "      <td>0.896</td>\n",
       "      <td>0.884</td>\n",
       "      <td>0.017</td>\n",
       "      <td>94</td>\n",
       "      <td>0.964</td>\n",
       "      <td>0.966</td>\n",
       "      <td>0.955</td>\n",
       "      <td>0.967</td>\n",
       "      <td>0.955</td>\n",
       "      <td>0.966</td>\n",
       "      <td>0.965</td>\n",
       "      <td>0.963</td>\n",
       "      <td>0.005</td>\n",
       "      <td>0.767</td>\n",
       "      <td>0.816</td>\n",
       "      <td>0.817</td>\n",
       "      <td>0.805</td>\n",
       "      <td>0.732</td>\n",
       "      <td>0.817</td>\n",
       "      <td>0.822</td>\n",
       "      <td>0.797</td>\n",
       "      <td>0.031</td>\n",
       "      <td>1</td>\n",
       "      <td>0.867</td>\n",
       "      <td>0.868</td>\n",
       "      <td>0.847</td>\n",
       "      <td>0.866</td>\n",
       "      <td>0.860</td>\n",
       "      <td>0.853</td>\n",
       "      <td>0.860</td>\n",
       "      <td>0.860</td>\n",
       "      <td>0.007</td>\n",
       "      <td>0.833</td>\n",
       "      <td>0.863</td>\n",
       "      <td>0.873</td>\n",
       "      <td>0.853</td>\n",
       "      <td>0.814</td>\n",
       "      <td>0.871</td>\n",
       "      <td>0.871</td>\n",
       "      <td>0.854</td>\n",
       "      <td>0.021</td>\n",
       "      <td>1</td>\n",
       "      <td>0.903</td>\n",
       "      <td>0.905</td>\n",
       "      <td>0.890</td>\n",
       "      <td>0.903</td>\n",
       "      <td>0.900</td>\n",
       "      <td>0.895</td>\n",
       "      <td>0.900</td>\n",
       "      <td>0.900</td>\n",
       "      <td>0.005</td>\n",
       "    </tr>\n",
       "    <tr>\n",
       "      <th>1843</th>\n",
       "      <td>0.129</td>\n",
       "      <td>0.020</td>\n",
       "      <td>0.030</td>\n",
       "      <td>0.008</td>\n",
       "      <td>LGBMClassifier(boosting_type='gbdt', class_weight=None, colsample_bytree=1.0,\\n               im...</td>\n",
       "      <td>NaN</td>\n",
       "      <td>NaN</td>\n",
       "      <td>None</td>\n",
       "      <td>NaN</td>\n",
       "      <td>NaN</td>\n",
       "      <td>8</td>\n",
       "      <td>NaN</td>\n",
       "      <td>1.000</td>\n",
       "      <td>1.000</td>\n",
       "      <td>{'classifier': LGBMClassifier(boosting_type='gbdt', class_weight=None, colsample_bytree=1.0,\n",
       "   ...</td>\n",
       "      <td>0.875</td>\n",
       "      <td>0.899</td>\n",
       "      <td>0.888</td>\n",
       "      <td>0.849</td>\n",
       "      <td>0.879</td>\n",
       "      <td>0.878</td>\n",
       "      <td>0.910</td>\n",
       "      <td>0.883</td>\n",
       "      <td>0.018</td>\n",
       "      <td>120</td>\n",
       "      <td>0.967</td>\n",
       "      <td>0.965</td>\n",
       "      <td>0.965</td>\n",
       "      <td>0.968</td>\n",
       "      <td>0.968</td>\n",
       "      <td>0.972</td>\n",
       "      <td>0.965</td>\n",
       "      <td>0.967</td>\n",
       "      <td>0.002</td>\n",
       "      <td>0.757</td>\n",
       "      <td>0.795</td>\n",
       "      <td>0.795</td>\n",
       "      <td>0.816</td>\n",
       "      <td>0.743</td>\n",
       "      <td>0.789</td>\n",
       "      <td>0.822</td>\n",
       "      <td>0.788</td>\n",
       "      <td>0.027</td>\n",
       "      <td>19</td>\n",
       "      <td>0.871</td>\n",
       "      <td>0.874</td>\n",
       "      <td>0.864</td>\n",
       "      <td>0.881</td>\n",
       "      <td>0.860</td>\n",
       "      <td>0.855</td>\n",
       "      <td>0.864</td>\n",
       "      <td>0.867</td>\n",
       "      <td>0.008</td>\n",
       "      <td>0.824</td>\n",
       "      <td>0.853</td>\n",
       "      <td>0.853</td>\n",
       "      <td>0.863</td>\n",
       "      <td>0.824</td>\n",
       "      <td>0.851</td>\n",
       "      <td>0.871</td>\n",
       "      <td>0.848</td>\n",
       "      <td>0.017</td>\n",
       "      <td>15</td>\n",
       "      <td>0.905</td>\n",
       "      <td>0.908</td>\n",
       "      <td>0.902</td>\n",
       "      <td>0.913</td>\n",
       "      <td>0.900</td>\n",
       "      <td>0.895</td>\n",
       "      <td>0.902</td>\n",
       "      <td>0.904</td>\n",
       "      <td>0.005</td>\n",
       "    </tr>\n",
       "    <tr>\n",
       "      <th>96</th>\n",
       "      <td>0.034</td>\n",
       "      <td>0.002</td>\n",
       "      <td>0.013</td>\n",
       "      <td>0.001</td>\n",
       "      <td>SVC(C=1.0, break_ties=False, cache_size=200, class_weight=None, coef0=0.0,\\n    decision_functio...</td>\n",
       "      <td>NaN</td>\n",
       "      <td>NaN</td>\n",
       "      <td>StandardScaler(copy=True, with_mean=True, with_std=True)</td>\n",
       "      <td>10.000</td>\n",
       "      <td>NaN</td>\n",
       "      <td>NaN</td>\n",
       "      <td>0.010</td>\n",
       "      <td>NaN</td>\n",
       "      <td>NaN</td>\n",
       "      <td>{'classifier': SVC(C=1.0, break_ties=False, cache_size=200, class_weight=None, coef0=0.0,\n",
       "    de...</td>\n",
       "      <td>0.832</td>\n",
       "      <td>0.858</td>\n",
       "      <td>0.918</td>\n",
       "      <td>0.833</td>\n",
       "      <td>0.844</td>\n",
       "      <td>0.855</td>\n",
       "      <td>0.889</td>\n",
       "      <td>0.861</td>\n",
       "      <td>0.029</td>\n",
       "      <td>830</td>\n",
       "      <td>0.891</td>\n",
       "      <td>0.894</td>\n",
       "      <td>0.885</td>\n",
       "      <td>0.896</td>\n",
       "      <td>0.883</td>\n",
       "      <td>0.874</td>\n",
       "      <td>0.883</td>\n",
       "      <td>0.886</td>\n",
       "      <td>0.007</td>\n",
       "      <td>0.737</td>\n",
       "      <td>0.778</td>\n",
       "      <td>0.800</td>\n",
       "      <td>0.750</td>\n",
       "      <td>0.767</td>\n",
       "      <td>0.776</td>\n",
       "      <td>0.842</td>\n",
       "      <td>0.779</td>\n",
       "      <td>0.032</td>\n",
       "      <td>138</td>\n",
       "      <td>0.787</td>\n",
       "      <td>0.774</td>\n",
       "      <td>0.771</td>\n",
       "      <td>0.778</td>\n",
       "      <td>0.782</td>\n",
       "      <td>0.779</td>\n",
       "      <td>0.769</td>\n",
       "      <td>0.777</td>\n",
       "      <td>0.006</td>\n",
       "      <td>0.804</td>\n",
       "      <td>0.843</td>\n",
       "      <td>0.853</td>\n",
       "      <td>0.804</td>\n",
       "      <td>0.833</td>\n",
       "      <td>0.851</td>\n",
       "      <td>0.881</td>\n",
       "      <td>0.839</td>\n",
       "      <td>0.026</td>\n",
       "      <td>150</td>\n",
       "      <td>0.846</td>\n",
       "      <td>0.833</td>\n",
       "      <td>0.833</td>\n",
       "      <td>0.839</td>\n",
       "      <td>0.841</td>\n",
       "      <td>0.836</td>\n",
       "      <td>0.833</td>\n",
       "      <td>0.837</td>\n",
       "      <td>0.005</td>\n",
       "    </tr>\n",
       "    <tr>\n",
       "      <th>44</th>\n",
       "      <td>0.376</td>\n",
       "      <td>0.023</td>\n",
       "      <td>0.052</td>\n",
       "      <td>0.003</td>\n",
       "      <td>RandomForestClassifier(bootstrap=True, ccp_alpha=0.0, class_weight=None,\\n                      ...</td>\n",
       "      <td>NaN</td>\n",
       "      <td>NaN</td>\n",
       "      <td>None</td>\n",
       "      <td>NaN</td>\n",
       "      <td>NaN</td>\n",
       "      <td>8</td>\n",
       "      <td>NaN</td>\n",
       "      <td>NaN</td>\n",
       "      <td>NaN</td>\n",
       "      <td>{'classifier': RandomForestClassifier(bootstrap=True, ccp_alpha=0.0, class_weight=None,\n",
       "        ...</td>\n",
       "      <td>0.847</td>\n",
       "      <td>0.889</td>\n",
       "      <td>0.914</td>\n",
       "      <td>0.829</td>\n",
       "      <td>0.848</td>\n",
       "      <td>0.898</td>\n",
       "      <td>0.895</td>\n",
       "      <td>0.874</td>\n",
       "      <td>0.030</td>\n",
       "      <td>511</td>\n",
       "      <td>0.975</td>\n",
       "      <td>0.971</td>\n",
       "      <td>0.972</td>\n",
       "      <td>0.972</td>\n",
       "      <td>0.974</td>\n",
       "      <td>0.972</td>\n",
       "      <td>0.970</td>\n",
       "      <td>0.972</td>\n",
       "      <td>0.001</td>\n",
       "      <td>0.753</td>\n",
       "      <td>0.784</td>\n",
       "      <td>0.800</td>\n",
       "      <td>0.769</td>\n",
       "      <td>0.750</td>\n",
       "      <td>0.765</td>\n",
       "      <td>0.795</td>\n",
       "      <td>0.774</td>\n",
       "      <td>0.018</td>\n",
       "      <td>275</td>\n",
       "      <td>0.884</td>\n",
       "      <td>0.903</td>\n",
       "      <td>0.872</td>\n",
       "      <td>0.898</td>\n",
       "      <td>0.883</td>\n",
       "      <td>0.881</td>\n",
       "      <td>0.886</td>\n",
       "      <td>0.887</td>\n",
       "      <td>0.010</td>\n",
       "      <td>0.814</td>\n",
       "      <td>0.843</td>\n",
       "      <td>0.863</td>\n",
       "      <td>0.824</td>\n",
       "      <td>0.824</td>\n",
       "      <td>0.842</td>\n",
       "      <td>0.851</td>\n",
       "      <td>0.837</td>\n",
       "      <td>0.016</td>\n",
       "      <td>254</td>\n",
       "      <td>0.918</td>\n",
       "      <td>0.930</td>\n",
       "      <td>0.910</td>\n",
       "      <td>0.926</td>\n",
       "      <td>0.918</td>\n",
       "      <td>0.915</td>\n",
       "      <td>0.920</td>\n",
       "      <td>0.919</td>\n",
       "      <td>0.006</td>\n",
       "    </tr>\n",
       "    <tr>\n",
       "      <th>33</th>\n",
       "      <td>0.013</td>\n",
       "      <td>0.007</td>\n",
       "      <td>0.018</td>\n",
       "      <td>0.009</td>\n",
       "      <td>DecisionTreeClassifier(ccp_alpha=0.0, class_weight=None, criterion='gini',\\n                    ...</td>\n",
       "      <td>NaN</td>\n",
       "      <td>NaN</td>\n",
       "      <td>None</td>\n",
       "      <td>NaN</td>\n",
       "      <td>NaN</td>\n",
       "      <td>4</td>\n",
       "      <td>NaN</td>\n",
       "      <td>NaN</td>\n",
       "      <td>NaN</td>\n",
       "      <td>{'classifier': DecisionTreeClassifier(ccp_alpha=0.0, class_weight=None, criterion='gini',\n",
       "      ...</td>\n",
       "      <td>0.822</td>\n",
       "      <td>0.863</td>\n",
       "      <td>0.884</td>\n",
       "      <td>0.847</td>\n",
       "      <td>0.853</td>\n",
       "      <td>0.889</td>\n",
       "      <td>0.909</td>\n",
       "      <td>0.867</td>\n",
       "      <td>0.027</td>\n",
       "      <td>770</td>\n",
       "      <td>0.899</td>\n",
       "      <td>0.899</td>\n",
       "      <td>0.894</td>\n",
       "      <td>0.901</td>\n",
       "      <td>0.905</td>\n",
       "      <td>0.904</td>\n",
       "      <td>0.900</td>\n",
       "      <td>0.900</td>\n",
       "      <td>0.003</td>\n",
       "      <td>0.759</td>\n",
       "      <td>0.757</td>\n",
       "      <td>0.779</td>\n",
       "      <td>0.795</td>\n",
       "      <td>0.722</td>\n",
       "      <td>0.778</td>\n",
       "      <td>0.838</td>\n",
       "      <td>0.775</td>\n",
       "      <td>0.033</td>\n",
       "      <td>219</td>\n",
       "      <td>0.801</td>\n",
       "      <td>0.811</td>\n",
       "      <td>0.803</td>\n",
       "      <td>0.792</td>\n",
       "      <td>0.816</td>\n",
       "      <td>0.822</td>\n",
       "      <td>0.809</td>\n",
       "      <td>0.808</td>\n",
       "      <td>0.009</td>\n",
       "      <td>0.814</td>\n",
       "      <td>0.824</td>\n",
       "      <td>0.833</td>\n",
       "      <td>0.843</td>\n",
       "      <td>0.804</td>\n",
       "      <td>0.842</td>\n",
       "      <td>0.881</td>\n",
       "      <td>0.834</td>\n",
       "      <td>0.023</td>\n",
       "      <td>335</td>\n",
       "      <td>0.848</td>\n",
       "      <td>0.859</td>\n",
       "      <td>0.852</td>\n",
       "      <td>0.848</td>\n",
       "      <td>0.864</td>\n",
       "      <td>0.869</td>\n",
       "      <td>0.863</td>\n",
       "      <td>0.857</td>\n",
       "      <td>0.008</td>\n",
       "    </tr>\n",
       "    <tr>\n",
       "      <th>128</th>\n",
       "      <td>1.007</td>\n",
       "      <td>0.419</td>\n",
       "      <td>0.009</td>\n",
       "      <td>0.000</td>\n",
       "      <td>SVC(C=1.0, break_ties=False, cache_size=200, class_weight=None, coef0=0.0,\\n    decision_functio...</td>\n",
       "      <td>NaN</td>\n",
       "      <td>NaN</td>\n",
       "      <td>StandardScaler(copy=True, with_mean=True, with_std=True)</td>\n",
       "      <td>100.000</td>\n",
       "      <td>NaN</td>\n",
       "      <td>NaN</td>\n",
       "      <td>NaN</td>\n",
       "      <td>NaN</td>\n",
       "      <td>NaN</td>\n",
       "      <td>{'classifier': SVC(C=1.0, break_ties=False, cache_size=200, class_weight=None, coef0=0.0,\n",
       "    de...</td>\n",
       "      <td>0.842</td>\n",
       "      <td>0.848</td>\n",
       "      <td>0.880</td>\n",
       "      <td>0.812</td>\n",
       "      <td>0.844</td>\n",
       "      <td>0.867</td>\n",
       "      <td>0.879</td>\n",
       "      <td>0.853</td>\n",
       "      <td>0.022</td>\n",
       "      <td>992</td>\n",
       "      <td>0.859</td>\n",
       "      <td>0.851</td>\n",
       "      <td>0.858</td>\n",
       "      <td>0.870</td>\n",
       "      <td>0.864</td>\n",
       "      <td>0.852</td>\n",
       "      <td>0.857</td>\n",
       "      <td>0.859</td>\n",
       "      <td>0.006</td>\n",
       "      <td>0.727</td>\n",
       "      <td>0.757</td>\n",
       "      <td>0.789</td>\n",
       "      <td>0.734</td>\n",
       "      <td>0.757</td>\n",
       "      <td>0.765</td>\n",
       "      <td>0.842</td>\n",
       "      <td>0.767</td>\n",
       "      <td>0.036</td>\n",
       "      <td>470</td>\n",
       "      <td>0.780</td>\n",
       "      <td>0.774</td>\n",
       "      <td>0.767</td>\n",
       "      <td>0.777</td>\n",
       "      <td>0.774</td>\n",
       "      <td>0.775</td>\n",
       "      <td>0.758</td>\n",
       "      <td>0.772</td>\n",
       "      <td>0.007</td>\n",
       "      <td>0.794</td>\n",
       "      <td>0.824</td>\n",
       "      <td>0.843</td>\n",
       "      <td>0.794</td>\n",
       "      <td>0.824</td>\n",
       "      <td>0.842</td>\n",
       "      <td>0.881</td>\n",
       "      <td>0.829</td>\n",
       "      <td>0.028</td>\n",
       "      <td>499</td>\n",
       "      <td>0.839</td>\n",
       "      <td>0.833</td>\n",
       "      <td>0.830</td>\n",
       "      <td>0.838</td>\n",
       "      <td>0.834</td>\n",
       "      <td>0.831</td>\n",
       "      <td>0.823</td>\n",
       "      <td>0.833</td>\n",
       "      <td>0.005</td>\n",
       "    </tr>\n",
       "    <tr>\n",
       "      <th>29</th>\n",
       "      <td>0.012</td>\n",
       "      <td>0.004</td>\n",
       "      <td>0.010</td>\n",
       "      <td>0.003</td>\n",
       "      <td>LogisticRegression(C=1.0, class_weight=None, dual=False, fit_intercept=True,\\n                  ...</td>\n",
       "      <td>NaN</td>\n",
       "      <td>NaN</td>\n",
       "      <td>None</td>\n",
       "      <td>10.000</td>\n",
       "      <td>l2</td>\n",
       "      <td>NaN</td>\n",
       "      <td>NaN</td>\n",
       "      <td>NaN</td>\n",
       "      <td>NaN</td>\n",
       "      <td>{'classifier': LogisticRegression(C=1.0, class_weight=None, dual=False, fit_intercept=True,\n",
       "    ...</td>\n",
       "      <td>0.830</td>\n",
       "      <td>0.877</td>\n",
       "      <td>0.884</td>\n",
       "      <td>0.826</td>\n",
       "      <td>0.833</td>\n",
       "      <td>0.921</td>\n",
       "      <td>0.915</td>\n",
       "      <td>0.870</td>\n",
       "      <td>0.037</td>\n",
       "      <td>683</td>\n",
       "      <td>0.880</td>\n",
       "      <td>0.875</td>\n",
       "      <td>0.874</td>\n",
       "      <td>0.885</td>\n",
       "      <td>0.882</td>\n",
       "      <td>0.868</td>\n",
       "      <td>0.869</td>\n",
       "      <td>0.876</td>\n",
       "      <td>0.006</td>\n",
       "      <td>0.727</td>\n",
       "      <td>0.784</td>\n",
       "      <td>0.773</td>\n",
       "      <td>0.750</td>\n",
       "      <td>0.747</td>\n",
       "      <td>0.735</td>\n",
       "      <td>0.846</td>\n",
       "      <td>0.766</td>\n",
       "      <td>0.038</td>\n",
       "      <td>499</td>\n",
       "      <td>0.783</td>\n",
       "      <td>0.778</td>\n",
       "      <td>0.772</td>\n",
       "      <td>0.778</td>\n",
       "      <td>0.777</td>\n",
       "      <td>0.783</td>\n",
       "      <td>0.761</td>\n",
       "      <td>0.776</td>\n",
       "      <td>0.007</td>\n",
       "      <td>0.794</td>\n",
       "      <td>0.843</td>\n",
       "      <td>0.833</td>\n",
       "      <td>0.804</td>\n",
       "      <td>0.814</td>\n",
       "      <td>0.822</td>\n",
       "      <td>0.881</td>\n",
       "      <td>0.827</td>\n",
       "      <td>0.027</td>\n",
       "      <td>541</td>\n",
       "      <td>0.841</td>\n",
       "      <td>0.834</td>\n",
       "      <td>0.833</td>\n",
       "      <td>0.836</td>\n",
       "      <td>0.834</td>\n",
       "      <td>0.840</td>\n",
       "      <td>0.825</td>\n",
       "      <td>0.835</td>\n",
       "      <td>0.005</td>\n",
       "    </tr>\n",
       "    <tr>\n",
       "      <th>18</th>\n",
       "      <td>0.098</td>\n",
       "      <td>0.015</td>\n",
       "      <td>0.014</td>\n",
       "      <td>0.005</td>\n",
       "      <td>LogisticRegression(C=1.0, class_weight=None, dual=False, fit_intercept=True,\\n                  ...</td>\n",
       "      <td>NaN</td>\n",
       "      <td>NaN</td>\n",
       "      <td>None</td>\n",
       "      <td>10.000</td>\n",
       "      <td>NaN</td>\n",
       "      <td>NaN</td>\n",
       "      <td>NaN</td>\n",
       "      <td>NaN</td>\n",
       "      <td>NaN</td>\n",
       "      <td>{'classifier': LogisticRegression(C=1.0, class_weight=None, dual=False, fit_intercept=True,\n",
       "    ...</td>\n",
       "      <td>0.838</td>\n",
       "      <td>0.877</td>\n",
       "      <td>0.883</td>\n",
       "      <td>0.825</td>\n",
       "      <td>0.832</td>\n",
       "      <td>0.919</td>\n",
       "      <td>0.911</td>\n",
       "      <td>0.869</td>\n",
       "      <td>0.035</td>\n",
       "      <td>713</td>\n",
       "      <td>0.878</td>\n",
       "      <td>0.876</td>\n",
       "      <td>0.873</td>\n",
       "      <td>0.883</td>\n",
       "      <td>0.882</td>\n",
       "      <td>0.868</td>\n",
       "      <td>0.867</td>\n",
       "      <td>0.875</td>\n",
       "      <td>0.006</td>\n",
       "      <td>0.753</td>\n",
       "      <td>0.784</td>\n",
       "      <td>0.800</td>\n",
       "      <td>0.765</td>\n",
       "      <td>0.720</td>\n",
       "      <td>0.735</td>\n",
       "      <td>0.805</td>\n",
       "      <td>0.766</td>\n",
       "      <td>0.030</td>\n",
       "      <td>497</td>\n",
       "      <td>0.774</td>\n",
       "      <td>0.775</td>\n",
       "      <td>0.765</td>\n",
       "      <td>0.770</td>\n",
       "      <td>0.770</td>\n",
       "      <td>0.765</td>\n",
       "      <td>0.753</td>\n",
       "      <td>0.768</td>\n",
       "      <td>0.007</td>\n",
       "      <td>0.814</td>\n",
       "      <td>0.843</td>\n",
       "      <td>0.853</td>\n",
       "      <td>0.814</td>\n",
       "      <td>0.794</td>\n",
       "      <td>0.822</td>\n",
       "      <td>0.851</td>\n",
       "      <td>0.827</td>\n",
       "      <td>0.021</td>\n",
       "      <td>576</td>\n",
       "      <td>0.834</td>\n",
       "      <td>0.833</td>\n",
       "      <td>0.826</td>\n",
       "      <td>0.830</td>\n",
       "      <td>0.830</td>\n",
       "      <td>0.825</td>\n",
       "      <td>0.820</td>\n",
       "      <td>0.828</td>\n",
       "      <td>0.005</td>\n",
       "    </tr>\n",
       "    <tr>\n",
       "      <th>4</th>\n",
       "      <td>0.012</td>\n",
       "      <td>0.002</td>\n",
       "      <td>0.038</td>\n",
       "      <td>0.005</td>\n",
       "      <td>KNeighborsClassifier(algorithm='auto', leaf_size=30, metric='minkowski',\\n                     m...</td>\n",
       "      <td>5</td>\n",
       "      <td>uniform</td>\n",
       "      <td>None</td>\n",
       "      <td>NaN</td>\n",
       "      <td>NaN</td>\n",
       "      <td>NaN</td>\n",
       "      <td>NaN</td>\n",
       "      <td>NaN</td>\n",
       "      <td>NaN</td>\n",
       "      <td>{'classifier': KNeighborsClassifier(algorithm='auto', leaf_size=30, metric='minkowski',\n",
       "        ...</td>\n",
       "      <td>0.682</td>\n",
       "      <td>0.695</td>\n",
       "      <td>0.779</td>\n",
       "      <td>0.674</td>\n",
       "      <td>0.771</td>\n",
       "      <td>0.775</td>\n",
       "      <td>0.798</td>\n",
       "      <td>0.739</td>\n",
       "      <td>0.049</td>\n",
       "      <td>1750</td>\n",
       "      <td>0.883</td>\n",
       "      <td>0.892</td>\n",
       "      <td>0.877</td>\n",
       "      <td>0.892</td>\n",
       "      <td>0.874</td>\n",
       "      <td>0.887</td>\n",
       "      <td>0.873</td>\n",
       "      <td>0.883</td>\n",
       "      <td>0.007</td>\n",
       "      <td>0.521</td>\n",
       "      <td>0.580</td>\n",
       "      <td>0.592</td>\n",
       "      <td>0.632</td>\n",
       "      <td>0.630</td>\n",
       "      <td>0.603</td>\n",
       "      <td>0.667</td>\n",
       "      <td>0.603</td>\n",
       "      <td>0.043</td>\n",
       "      <td>1323</td>\n",
       "      <td>0.732</td>\n",
       "      <td>0.757</td>\n",
       "      <td>0.715</td>\n",
       "      <td>0.749</td>\n",
       "      <td>0.713</td>\n",
       "      <td>0.736</td>\n",
       "      <td>0.715</td>\n",
       "      <td>0.731</td>\n",
       "      <td>0.016</td>\n",
       "      <td>0.657</td>\n",
       "      <td>0.716</td>\n",
       "      <td>0.716</td>\n",
       "      <td>0.725</td>\n",
       "      <td>0.735</td>\n",
       "      <td>0.713</td>\n",
       "      <td>0.743</td>\n",
       "      <td>0.715</td>\n",
       "      <td>0.026</td>\n",
       "      <td>1322</td>\n",
       "      <td>0.808</td>\n",
       "      <td>0.820</td>\n",
       "      <td>0.802</td>\n",
       "      <td>0.815</td>\n",
       "      <td>0.795</td>\n",
       "      <td>0.813</td>\n",
       "      <td>0.802</td>\n",
       "      <td>0.808</td>\n",
       "      <td>0.008</td>\n",
       "    </tr>\n",
       "  </tbody>\n",
       "</table>\n",
       "</div>"
      ],
      "text/plain": [
       "      mean_fit_time  std_fit_time  mean_score_time  std_score_time  \\\n",
       "1049          0.182         0.025            0.009           0.001   \n",
       "1843          0.129         0.020            0.030           0.008   \n",
       "96            0.034         0.002            0.013           0.001   \n",
       "44            0.376         0.023            0.052           0.003   \n",
       "33            0.013         0.007            0.018           0.009   \n",
       "128           1.007         0.419            0.009           0.000   \n",
       "29            0.012         0.004            0.010           0.003   \n",
       "18            0.098         0.015            0.014           0.005   \n",
       "4             0.012         0.002            0.038           0.005   \n",
       "\n",
       "                                                                                         param_classifier  \\\n",
       "1049  XGBClassifier(base_score=None, booster=None, colsample_bylevel=None,\\n              colsample_by...   \n",
       "1843  LGBMClassifier(boosting_type='gbdt', class_weight=None, colsample_bytree=1.0,\\n               im...   \n",
       "96    SVC(C=1.0, break_ties=False, cache_size=200, class_weight=None, coef0=0.0,\\n    decision_functio...   \n",
       "44    RandomForestClassifier(bootstrap=True, ccp_alpha=0.0, class_weight=None,\\n                      ...   \n",
       "33    DecisionTreeClassifier(ccp_alpha=0.0, class_weight=None, criterion='gini',\\n                    ...   \n",
       "128   SVC(C=1.0, break_ties=False, cache_size=200, class_weight=None, coef0=0.0,\\n    decision_functio...   \n",
       "29    LogisticRegression(C=1.0, class_weight=None, dual=False, fit_intercept=True,\\n                  ...   \n",
       "18    LogisticRegression(C=1.0, class_weight=None, dual=False, fit_intercept=True,\\n                  ...   \n",
       "4     KNeighborsClassifier(algorithm='auto', leaf_size=30, metric='minkowski',\\n                     m...   \n",
       "\n",
       "     param_classifier__n_neighbors param_classifier__weights  \\\n",
       "1049                           NaN                       NaN   \n",
       "1843                           NaN                       NaN   \n",
       "96                             NaN                       NaN   \n",
       "44                             NaN                       NaN   \n",
       "33                             NaN                       NaN   \n",
       "128                            NaN                       NaN   \n",
       "29                             NaN                       NaN   \n",
       "18                             NaN                       NaN   \n",
       "4                                5                   uniform   \n",
       "\n",
       "                                           param_preprocessing  \\\n",
       "1049                                                      None   \n",
       "1843                                                      None   \n",
       "96    StandardScaler(copy=True, with_mean=True, with_std=True)   \n",
       "44                                                        None   \n",
       "33                                                        None   \n",
       "128   StandardScaler(copy=True, with_mean=True, with_std=True)   \n",
       "29                                                        None   \n",
       "18                                                        None   \n",
       "4                                                         None   \n",
       "\n",
       "     param_classifier__C param_classifier__penalty  \\\n",
       "1049                 NaN                       NaN   \n",
       "1843                 NaN                       NaN   \n",
       "96                10.000                       NaN   \n",
       "44                   NaN                       NaN   \n",
       "33                   NaN                       NaN   \n",
       "128              100.000                       NaN   \n",
       "29                10.000                        l2   \n",
       "18                10.000                       NaN   \n",
       "4                    NaN                       NaN   \n",
       "\n",
       "     param_classifier__max_depth param_classifier__gamma  \\\n",
       "1049                           7                   1.000   \n",
       "1843                           8                     NaN   \n",
       "96                           NaN                   0.010   \n",
       "44                             8                     NaN   \n",
       "33                             4                     NaN   \n",
       "128                          NaN                     NaN   \n",
       "29                           NaN                     NaN   \n",
       "18                           NaN                     NaN   \n",
       "4                            NaN                     NaN   \n",
       "\n",
       "     param_classifier__reg_alpha param_classifier__reg_lambda  \\\n",
       "1049                       1.000                        0.010   \n",
       "1843                       1.000                        1.000   \n",
       "96                           NaN                          NaN   \n",
       "44                           NaN                          NaN   \n",
       "33                           NaN                          NaN   \n",
       "128                          NaN                          NaN   \n",
       "29                           NaN                          NaN   \n",
       "18                           NaN                          NaN   \n",
       "4                            NaN                          NaN   \n",
       "\n",
       "                                                                                                   params  \\\n",
       "1049  {'classifier': XGBClassifier(base_score=None, booster=None, colsample_bylevel=None,\n",
       "            ...   \n",
       "1843  {'classifier': LGBMClassifier(boosting_type='gbdt', class_weight=None, colsample_bytree=1.0,\n",
       "   ...   \n",
       "96    {'classifier': SVC(C=1.0, break_ties=False, cache_size=200, class_weight=None, coef0=0.0,\n",
       "    de...   \n",
       "44    {'classifier': RandomForestClassifier(bootstrap=True, ccp_alpha=0.0, class_weight=None,\n",
       "        ...   \n",
       "33    {'classifier': DecisionTreeClassifier(ccp_alpha=0.0, class_weight=None, criterion='gini',\n",
       "      ...   \n",
       "128   {'classifier': SVC(C=1.0, break_ties=False, cache_size=200, class_weight=None, coef0=0.0,\n",
       "    de...   \n",
       "29    {'classifier': LogisticRegression(C=1.0, class_weight=None, dual=False, fit_intercept=True,\n",
       "    ...   \n",
       "18    {'classifier': LogisticRegression(C=1.0, class_weight=None, dual=False, fit_intercept=True,\n",
       "    ...   \n",
       "4     {'classifier': KNeighborsClassifier(algorithm='auto', leaf_size=30, metric='minkowski',\n",
       "        ...   \n",
       "\n",
       "      split0_test_roc_auc  split1_test_roc_auc  split2_test_roc_auc  \\\n",
       "1049                0.875                0.902                0.901   \n",
       "1843                0.875                0.899                0.888   \n",
       "96                  0.832                0.858                0.918   \n",
       "44                  0.847                0.889                0.914   \n",
       "33                  0.822                0.863                0.884   \n",
       "128                 0.842                0.848                0.880   \n",
       "29                  0.830                0.877                0.884   \n",
       "18                  0.838                0.877                0.883   \n",
       "4                   0.682                0.695                0.779   \n",
       "\n",
       "      split3_test_roc_auc  split4_test_roc_auc  split5_test_roc_auc  \\\n",
       "1049                0.850                0.875                0.887   \n",
       "1843                0.849                0.879                0.878   \n",
       "96                  0.833                0.844                0.855   \n",
       "44                  0.829                0.848                0.898   \n",
       "33                  0.847                0.853                0.889   \n",
       "128                 0.812                0.844                0.867   \n",
       "29                  0.826                0.833                0.921   \n",
       "18                  0.825                0.832                0.919   \n",
       "4                   0.674                0.771                0.775   \n",
       "\n",
       "      split6_test_roc_auc  mean_test_roc_auc  std_test_roc_auc  \\\n",
       "1049                0.896              0.884             0.017   \n",
       "1843                0.910              0.883             0.018   \n",
       "96                  0.889              0.861             0.029   \n",
       "44                  0.895              0.874             0.030   \n",
       "33                  0.909              0.867             0.027   \n",
       "128                 0.879              0.853             0.022   \n",
       "29                  0.915              0.870             0.037   \n",
       "18                  0.911              0.869             0.035   \n",
       "4                   0.798              0.739             0.049   \n",
       "\n",
       "      rank_test_roc_auc  split0_train_roc_auc  split1_train_roc_auc  \\\n",
       "1049                 94                 0.964                 0.966   \n",
       "1843                120                 0.967                 0.965   \n",
       "96                  830                 0.891                 0.894   \n",
       "44                  511                 0.975                 0.971   \n",
       "33                  770                 0.899                 0.899   \n",
       "128                 992                 0.859                 0.851   \n",
       "29                  683                 0.880                 0.875   \n",
       "18                  713                 0.878                 0.876   \n",
       "4                  1750                 0.883                 0.892   \n",
       "\n",
       "      split2_train_roc_auc  split3_train_roc_auc  split4_train_roc_auc  \\\n",
       "1049                 0.955                 0.967                 0.955   \n",
       "1843                 0.965                 0.968                 0.968   \n",
       "96                   0.885                 0.896                 0.883   \n",
       "44                   0.972                 0.972                 0.974   \n",
       "33                   0.894                 0.901                 0.905   \n",
       "128                  0.858                 0.870                 0.864   \n",
       "29                   0.874                 0.885                 0.882   \n",
       "18                   0.873                 0.883                 0.882   \n",
       "4                    0.877                 0.892                 0.874   \n",
       "\n",
       "      split5_train_roc_auc  split6_train_roc_auc  mean_train_roc_auc  \\\n",
       "1049                 0.966                 0.965               0.963   \n",
       "1843                 0.972                 0.965               0.967   \n",
       "96                   0.874                 0.883               0.886   \n",
       "44                   0.972                 0.970               0.972   \n",
       "33                   0.904                 0.900               0.900   \n",
       "128                  0.852                 0.857               0.859   \n",
       "29                   0.868                 0.869               0.876   \n",
       "18                   0.868                 0.867               0.875   \n",
       "4                    0.887                 0.873               0.883   \n",
       "\n",
       "      std_train_roc_auc  split0_test_f1  split1_test_f1  split2_test_f1  \\\n",
       "1049              0.005           0.767           0.816           0.817   \n",
       "1843              0.002           0.757           0.795           0.795   \n",
       "96                0.007           0.737           0.778           0.800   \n",
       "44                0.001           0.753           0.784           0.800   \n",
       "33                0.003           0.759           0.757           0.779   \n",
       "128               0.006           0.727           0.757           0.789   \n",
       "29                0.006           0.727           0.784           0.773   \n",
       "18                0.006           0.753           0.784           0.800   \n",
       "4                 0.007           0.521           0.580           0.592   \n",
       "\n",
       "      split3_test_f1  split4_test_f1  split5_test_f1  split6_test_f1  \\\n",
       "1049           0.805           0.732           0.817           0.822   \n",
       "1843           0.816           0.743           0.789           0.822   \n",
       "96             0.750           0.767           0.776           0.842   \n",
       "44             0.769           0.750           0.765           0.795   \n",
       "33             0.795           0.722           0.778           0.838   \n",
       "128            0.734           0.757           0.765           0.842   \n",
       "29             0.750           0.747           0.735           0.846   \n",
       "18             0.765           0.720           0.735           0.805   \n",
       "4              0.632           0.630           0.603           0.667   \n",
       "\n",
       "      mean_test_f1  std_test_f1  rank_test_f1  split0_train_f1  \\\n",
       "1049         0.797        0.031             1            0.867   \n",
       "1843         0.788        0.027            19            0.871   \n",
       "96           0.779        0.032           138            0.787   \n",
       "44           0.774        0.018           275            0.884   \n",
       "33           0.775        0.033           219            0.801   \n",
       "128          0.767        0.036           470            0.780   \n",
       "29           0.766        0.038           499            0.783   \n",
       "18           0.766        0.030           497            0.774   \n",
       "4            0.603        0.043          1323            0.732   \n",
       "\n",
       "      split1_train_f1  split2_train_f1  split3_train_f1  split4_train_f1  \\\n",
       "1049            0.868            0.847            0.866            0.860   \n",
       "1843            0.874            0.864            0.881            0.860   \n",
       "96              0.774            0.771            0.778            0.782   \n",
       "44              0.903            0.872            0.898            0.883   \n",
       "33              0.811            0.803            0.792            0.816   \n",
       "128             0.774            0.767            0.777            0.774   \n",
       "29              0.778            0.772            0.778            0.777   \n",
       "18              0.775            0.765            0.770            0.770   \n",
       "4               0.757            0.715            0.749            0.713   \n",
       "\n",
       "      split5_train_f1  split6_train_f1  mean_train_f1  std_train_f1  \\\n",
       "1049            0.853            0.860          0.860         0.007   \n",
       "1843            0.855            0.864          0.867         0.008   \n",
       "96              0.779            0.769          0.777         0.006   \n",
       "44              0.881            0.886          0.887         0.010   \n",
       "33              0.822            0.809          0.808         0.009   \n",
       "128             0.775            0.758          0.772         0.007   \n",
       "29              0.783            0.761          0.776         0.007   \n",
       "18              0.765            0.753          0.768         0.007   \n",
       "4               0.736            0.715          0.731         0.016   \n",
       "\n",
       "      split0_test_accuracy  split1_test_accuracy  split2_test_accuracy  \\\n",
       "1049                 0.833                 0.863                 0.873   \n",
       "1843                 0.824                 0.853                 0.853   \n",
       "96                   0.804                 0.843                 0.853   \n",
       "44                   0.814                 0.843                 0.863   \n",
       "33                   0.814                 0.824                 0.833   \n",
       "128                  0.794                 0.824                 0.843   \n",
       "29                   0.794                 0.843                 0.833   \n",
       "18                   0.814                 0.843                 0.853   \n",
       "4                    0.657                 0.716                 0.716   \n",
       "\n",
       "      split3_test_accuracy  split4_test_accuracy  split5_test_accuracy  \\\n",
       "1049                 0.853                 0.814                 0.871   \n",
       "1843                 0.863                 0.824                 0.851   \n",
       "96                   0.804                 0.833                 0.851   \n",
       "44                   0.824                 0.824                 0.842   \n",
       "33                   0.843                 0.804                 0.842   \n",
       "128                  0.794                 0.824                 0.842   \n",
       "29                   0.804                 0.814                 0.822   \n",
       "18                   0.814                 0.794                 0.822   \n",
       "4                    0.725                 0.735                 0.713   \n",
       "\n",
       "      split6_test_accuracy  mean_test_accuracy  std_test_accuracy  \\\n",
       "1049                 0.871               0.854              0.021   \n",
       "1843                 0.871               0.848              0.017   \n",
       "96                   0.881               0.839              0.026   \n",
       "44                   0.851               0.837              0.016   \n",
       "33                   0.881               0.834              0.023   \n",
       "128                  0.881               0.829              0.028   \n",
       "29                   0.881               0.827              0.027   \n",
       "18                   0.851               0.827              0.021   \n",
       "4                    0.743               0.715              0.026   \n",
       "\n",
       "      rank_test_accuracy  split0_train_accuracy  split1_train_accuracy  \\\n",
       "1049                   1                  0.903                  0.905   \n",
       "1843                  15                  0.905                  0.908   \n",
       "96                   150                  0.846                  0.833   \n",
       "44                   254                  0.918                  0.930   \n",
       "33                   335                  0.848                  0.859   \n",
       "128                  499                  0.839                  0.833   \n",
       "29                   541                  0.841                  0.834   \n",
       "18                   576                  0.834                  0.833   \n",
       "4                   1322                  0.808                  0.820   \n",
       "\n",
       "      split2_train_accuracy  split3_train_accuracy  split4_train_accuracy  \\\n",
       "1049                  0.890                  0.903                  0.900   \n",
       "1843                  0.902                  0.913                  0.900   \n",
       "96                    0.833                  0.839                  0.841   \n",
       "44                    0.910                  0.926                  0.918   \n",
       "33                    0.852                  0.848                  0.864   \n",
       "128                   0.830                  0.838                  0.834   \n",
       "29                    0.833                  0.836                  0.834   \n",
       "18                    0.826                  0.830                  0.830   \n",
       "4                     0.802                  0.815                  0.795   \n",
       "\n",
       "      split5_train_accuracy  split6_train_accuracy  mean_train_accuracy  \\\n",
       "1049                  0.895                  0.900                0.900   \n",
       "1843                  0.895                  0.902                0.904   \n",
       "96                    0.836                  0.833                0.837   \n",
       "44                    0.915                  0.920                0.919   \n",
       "33                    0.869                  0.863                0.857   \n",
       "128                   0.831                  0.823                0.833   \n",
       "29                    0.840                  0.825                0.835   \n",
       "18                    0.825                  0.820                0.828   \n",
       "4                     0.813                  0.802                0.808   \n",
       "\n",
       "      std_train_accuracy  \n",
       "1049               0.005  \n",
       "1843               0.005  \n",
       "96                 0.005  \n",
       "44                 0.006  \n",
       "33                 0.008  \n",
       "128                0.005  \n",
       "29                 0.005  \n",
       "18                 0.005  \n",
       "4                  0.008  "
      ]
     },
     "execution_count": 65,
     "metadata": {},
     "output_type": "execute_result"
    }
   ],
   "source": [
    "best_of_classifiers"
   ]
  },
  {
   "cell_type": "code",
   "execution_count": 69,
   "metadata": {},
   "outputs": [
    {
     "data": {
      "text/plain": [
       "{'classifier': LogisticRegression(C=1.0, class_weight=None, dual=False, fit_intercept=True,\n",
       "                    intercept_scaling=1, l1_ratio=None, max_iter=100,\n",
       "                    multi_class='auto', n_jobs=None, penalty='l2',\n",
       "                    random_state=None, solver='liblinear', tol=0.0001, verbose=0,\n",
       "                    warm_start=False),\n",
       " 'classifier__C': 10.0,\n",
       " 'classifier__penalty': 'l2',\n",
       " 'preprocessing': None}"
      ]
     },
     "execution_count": 69,
     "metadata": {},
     "output_type": "execute_result"
    }
   ],
   "source": [
    "best_of_classifiers.loc[29,:]['params']"
   ]
  },
  {
   "cell_type": "code",
   "execution_count": 91,
   "metadata": {},
   "outputs": [
    {
     "name": "stdout",
     "output_type": "stream",
     "text": [
      "['XGBCl', 'LGBMCl', 'SVC_rbf', 'RandomForestCl', 'DecisionTreeCl', 'SVC_linear', 'LogisticReg_liblinear', 'LogisticReg_lbfgs', 'KNeighborsCl']\n"
     ]
    }
   ],
   "source": [
    "# adlandirma olmali, grafik gosterimi icin\n",
    "name_list = []\n",
    "for i in best_of_classifiers.index:\n",
    "    classifier = best_of_classifiers.loc[i,'param_classifier']\n",
    "    name = classifier.__class__.__name__    \n",
    "    if (name == 'SVC'):\n",
    "        name = name + '_' + classifier.kernel\n",
    "    elif (name == 'LogisticRegression'):\n",
    "        name = name.split('ression')[0]\n",
    "        name = name + '_' + classifier.solver\n",
    "    else:\n",
    "        name = name.split('assifier')[0]\n",
    "        \n",
    "    name_list.append(name)\n",
    "\n",
    "print(name_list)"
   ]
  },
  {
   "cell_type": "code",
   "execution_count": 92,
   "metadata": {},
   "outputs": [],
   "source": [
    "# adlandirma olmali, grafik gosterimi icin\n",
    "best_of_classifiers['classifier'] = name_list"
   ]
  },
  {
   "cell_type": "code",
   "execution_count": 93,
   "metadata": {},
   "outputs": [
    {
     "data": {
      "text/html": [
       "<div>\n",
       "<style scoped>\n",
       "    .dataframe tbody tr th:only-of-type {\n",
       "        vertical-align: middle;\n",
       "    }\n",
       "\n",
       "    .dataframe tbody tr th {\n",
       "        vertical-align: top;\n",
       "    }\n",
       "\n",
       "    .dataframe thead th {\n",
       "        text-align: right;\n",
       "    }\n",
       "</style>\n",
       "<table border=\"1\" class=\"dataframe\">\n",
       "  <thead>\n",
       "    <tr style=\"text-align: right;\">\n",
       "      <th></th>\n",
       "      <th>classifier</th>\n",
       "      <th>mean_train_accuracy</th>\n",
       "      <th>mean_test_accuracy</th>\n",
       "      <th>mean_train_roc_auc</th>\n",
       "      <th>mean_test_roc_auc</th>\n",
       "      <th>mean_train_f1</th>\n",
       "      <th>mean_test_f1</th>\n",
       "    </tr>\n",
       "  </thead>\n",
       "  <tbody>\n",
       "    <tr>\n",
       "      <th>1049</th>\n",
       "      <td>XGBCl</td>\n",
       "      <td>0.900</td>\n",
       "      <td>0.854</td>\n",
       "      <td>0.963</td>\n",
       "      <td>0.884</td>\n",
       "      <td>0.860</td>\n",
       "      <td>0.797</td>\n",
       "    </tr>\n",
       "    <tr>\n",
       "      <th>1843</th>\n",
       "      <td>LGBMCl</td>\n",
       "      <td>0.904</td>\n",
       "      <td>0.848</td>\n",
       "      <td>0.967</td>\n",
       "      <td>0.883</td>\n",
       "      <td>0.867</td>\n",
       "      <td>0.788</td>\n",
       "    </tr>\n",
       "    <tr>\n",
       "      <th>96</th>\n",
       "      <td>SVC_rbf</td>\n",
       "      <td>0.837</td>\n",
       "      <td>0.839</td>\n",
       "      <td>0.886</td>\n",
       "      <td>0.861</td>\n",
       "      <td>0.777</td>\n",
       "      <td>0.779</td>\n",
       "    </tr>\n",
       "    <tr>\n",
       "      <th>44</th>\n",
       "      <td>RandomForestCl</td>\n",
       "      <td>0.919</td>\n",
       "      <td>0.837</td>\n",
       "      <td>0.972</td>\n",
       "      <td>0.874</td>\n",
       "      <td>0.887</td>\n",
       "      <td>0.774</td>\n",
       "    </tr>\n",
       "    <tr>\n",
       "      <th>33</th>\n",
       "      <td>DecisionTreeCl</td>\n",
       "      <td>0.857</td>\n",
       "      <td>0.834</td>\n",
       "      <td>0.900</td>\n",
       "      <td>0.867</td>\n",
       "      <td>0.808</td>\n",
       "      <td>0.775</td>\n",
       "    </tr>\n",
       "    <tr>\n",
       "      <th>128</th>\n",
       "      <td>SVC_linear</td>\n",
       "      <td>0.833</td>\n",
       "      <td>0.829</td>\n",
       "      <td>0.859</td>\n",
       "      <td>0.853</td>\n",
       "      <td>0.772</td>\n",
       "      <td>0.767</td>\n",
       "    </tr>\n",
       "    <tr>\n",
       "      <th>29</th>\n",
       "      <td>LogisticReg_liblinear</td>\n",
       "      <td>0.835</td>\n",
       "      <td>0.827</td>\n",
       "      <td>0.876</td>\n",
       "      <td>0.870</td>\n",
       "      <td>0.776</td>\n",
       "      <td>0.766</td>\n",
       "    </tr>\n",
       "    <tr>\n",
       "      <th>18</th>\n",
       "      <td>LogisticReg_lbfgs</td>\n",
       "      <td>0.828</td>\n",
       "      <td>0.827</td>\n",
       "      <td>0.875</td>\n",
       "      <td>0.869</td>\n",
       "      <td>0.768</td>\n",
       "      <td>0.766</td>\n",
       "    </tr>\n",
       "    <tr>\n",
       "      <th>4</th>\n",
       "      <td>KNeighborsCl</td>\n",
       "      <td>0.808</td>\n",
       "      <td>0.715</td>\n",
       "      <td>0.883</td>\n",
       "      <td>0.739</td>\n",
       "      <td>0.731</td>\n",
       "      <td>0.603</td>\n",
       "    </tr>\n",
       "  </tbody>\n",
       "</table>\n",
       "</div>"
      ],
      "text/plain": [
       "                 classifier  mean_train_accuracy  mean_test_accuracy  \\\n",
       "1049                  XGBCl                0.900               0.854   \n",
       "1843                 LGBMCl                0.904               0.848   \n",
       "96                  SVC_rbf                0.837               0.839   \n",
       "44           RandomForestCl                0.919               0.837   \n",
       "33           DecisionTreeCl                0.857               0.834   \n",
       "128              SVC_linear                0.833               0.829   \n",
       "29    LogisticReg_liblinear                0.835               0.827   \n",
       "18        LogisticReg_lbfgs                0.828               0.827   \n",
       "4              KNeighborsCl                0.808               0.715   \n",
       "\n",
       "      mean_train_roc_auc  mean_test_roc_auc  mean_train_f1  mean_test_f1  \n",
       "1049               0.963              0.884          0.860         0.797  \n",
       "1843               0.967              0.883          0.867         0.788  \n",
       "96                 0.886              0.861          0.777         0.779  \n",
       "44                 0.972              0.874          0.887         0.774  \n",
       "33                 0.900              0.867          0.808         0.775  \n",
       "128                0.859              0.853          0.772         0.767  \n",
       "29                 0.876              0.870          0.776         0.766  \n",
       "18                 0.875              0.869          0.768         0.766  \n",
       "4                  0.883              0.739          0.731         0.603  "
      ]
     },
     "execution_count": 93,
     "metadata": {},
     "output_type": "execute_result"
    }
   ],
   "source": [
    "# her bir classifier in skor degerlerini incele\n",
    "best_of_classifiers.loc[:,['classifier','mean_train_accuracy', 'mean_test_accuracy','mean_train_roc_auc',\n",
    "                       'mean_test_roc_auc','mean_train_f1','mean_test_f1']]"
   ]
  },
  {
   "cell_type": "markdown",
   "metadata": {},
   "source": [
    "***Grafik Incelemesi***"
   ]
  },
  {
   "cell_type": "code",
   "execution_count": 119,
   "metadata": {},
   "outputs": [
    {
     "data": {
      "application/vnd.plotly.v1+json": {
       "config": {
        "plotlyServerURL": "https://plot.ly"
       },
       "data": [
        {
         "marker": {
          "color": [
           0.8539811964389716,
           0.8483512216767896,
           0.8385611670410738,
           0.837105139085337,
           0.8343456194358932,
           0.8287433785395345,
           0.8273150844496213,
           0.827273483650886,
           0.7149235931996561
          ],
          "colorscale": [
           [
            0,
            "#440154"
           ],
           [
            0.1111111111111111,
            "#482878"
           ],
           [
            0.2222222222222222,
            "#3e4989"
           ],
           [
            0.3333333333333333,
            "#31688e"
           ],
           [
            0.4444444444444444,
            "#26828e"
           ],
           [
            0.5555555555555556,
            "#1f9e89"
           ],
           [
            0.6666666666666666,
            "#35b779"
           ],
           [
            0.7777777777777778,
            "#6ece58"
           ],
           [
            0.8888888888888888,
            "#b5de2b"
           ],
           [
            1,
            "#fde725"
           ]
          ],
          "line": {
           "width": 2
          },
          "showscale": true,
          "size": 20
         },
         "mode": "markers",
         "name": "test_accuracy",
         "opacity": 0.7,
         "type": "scatter",
         "x": [
          "XGBCl",
          "LGBMCl",
          "SVC_rbf",
          "RandomForestCl",
          "DecisionTreeCl",
          "SVC_linear",
          "LogisticReg_liblinear",
          "LogisticReg_lbfgs",
          "KNeighborsCl"
         ],
         "y": [
          0.8539811964389716,
          0.8483512216767896,
          0.8385611670410738,
          0.837105139085337,
          0.8343456194358932,
          0.8287433785395345,
          0.8273150844496213,
          0.827273483650886,
          0.7149235931996561
         ]
        },
        {
         "marker": {
          "line": {
           "width": 2
          },
          "size": 20
         },
         "mode": "markers",
         "name": "train_accuracy",
         "opacity": 0.7,
         "type": "scatter",
         "x": [
          "XGBCl",
          "LGBMCl",
          "SVC_rbf",
          "RandomForestCl",
          "DecisionTreeCl",
          "SVC_linear",
          "LogisticReg_liblinear",
          "LogisticReg_lbfgs",
          "KNeighborsCl"
         ],
         "y": [
          0.8995795275530191,
          0.9035604088969977,
          0.8373139591486296,
          0.9194766517054624,
          0.857439909236212,
          0.8326335680364283,
          0.8347389966155226,
          0.8281862190826265,
          0.8078184110970996
         ]
        }
       ],
       "layout": {
        "height": 800,
        "legend": {
         "orientation": "h"
        },
        "template": {
         "data": {
          "bar": [
           {
            "error_x": {
             "color": "#2a3f5f"
            },
            "error_y": {
             "color": "#2a3f5f"
            },
            "marker": {
             "line": {
              "color": "#E5ECF6",
              "width": 0.5
             }
            },
            "type": "bar"
           }
          ],
          "barpolar": [
           {
            "marker": {
             "line": {
              "color": "#E5ECF6",
              "width": 0.5
             }
            },
            "type": "barpolar"
           }
          ],
          "carpet": [
           {
            "aaxis": {
             "endlinecolor": "#2a3f5f",
             "gridcolor": "white",
             "linecolor": "white",
             "minorgridcolor": "white",
             "startlinecolor": "#2a3f5f"
            },
            "baxis": {
             "endlinecolor": "#2a3f5f",
             "gridcolor": "white",
             "linecolor": "white",
             "minorgridcolor": "white",
             "startlinecolor": "#2a3f5f"
            },
            "type": "carpet"
           }
          ],
          "choropleth": [
           {
            "colorbar": {
             "outlinewidth": 0,
             "ticks": ""
            },
            "type": "choropleth"
           }
          ],
          "contour": [
           {
            "colorbar": {
             "outlinewidth": 0,
             "ticks": ""
            },
            "colorscale": [
             [
              0,
              "#0d0887"
             ],
             [
              0.1111111111111111,
              "#46039f"
             ],
             [
              0.2222222222222222,
              "#7201a8"
             ],
             [
              0.3333333333333333,
              "#9c179e"
             ],
             [
              0.4444444444444444,
              "#bd3786"
             ],
             [
              0.5555555555555556,
              "#d8576b"
             ],
             [
              0.6666666666666666,
              "#ed7953"
             ],
             [
              0.7777777777777778,
              "#fb9f3a"
             ],
             [
              0.8888888888888888,
              "#fdca26"
             ],
             [
              1,
              "#f0f921"
             ]
            ],
            "type": "contour"
           }
          ],
          "contourcarpet": [
           {
            "colorbar": {
             "outlinewidth": 0,
             "ticks": ""
            },
            "type": "contourcarpet"
           }
          ],
          "heatmap": [
           {
            "colorbar": {
             "outlinewidth": 0,
             "ticks": ""
            },
            "colorscale": [
             [
              0,
              "#0d0887"
             ],
             [
              0.1111111111111111,
              "#46039f"
             ],
             [
              0.2222222222222222,
              "#7201a8"
             ],
             [
              0.3333333333333333,
              "#9c179e"
             ],
             [
              0.4444444444444444,
              "#bd3786"
             ],
             [
              0.5555555555555556,
              "#d8576b"
             ],
             [
              0.6666666666666666,
              "#ed7953"
             ],
             [
              0.7777777777777778,
              "#fb9f3a"
             ],
             [
              0.8888888888888888,
              "#fdca26"
             ],
             [
              1,
              "#f0f921"
             ]
            ],
            "type": "heatmap"
           }
          ],
          "heatmapgl": [
           {
            "colorbar": {
             "outlinewidth": 0,
             "ticks": ""
            },
            "colorscale": [
             [
              0,
              "#0d0887"
             ],
             [
              0.1111111111111111,
              "#46039f"
             ],
             [
              0.2222222222222222,
              "#7201a8"
             ],
             [
              0.3333333333333333,
              "#9c179e"
             ],
             [
              0.4444444444444444,
              "#bd3786"
             ],
             [
              0.5555555555555556,
              "#d8576b"
             ],
             [
              0.6666666666666666,
              "#ed7953"
             ],
             [
              0.7777777777777778,
              "#fb9f3a"
             ],
             [
              0.8888888888888888,
              "#fdca26"
             ],
             [
              1,
              "#f0f921"
             ]
            ],
            "type": "heatmapgl"
           }
          ],
          "histogram": [
           {
            "marker": {
             "colorbar": {
              "outlinewidth": 0,
              "ticks": ""
             }
            },
            "type": "histogram"
           }
          ],
          "histogram2d": [
           {
            "colorbar": {
             "outlinewidth": 0,
             "ticks": ""
            },
            "colorscale": [
             [
              0,
              "#0d0887"
             ],
             [
              0.1111111111111111,
              "#46039f"
             ],
             [
              0.2222222222222222,
              "#7201a8"
             ],
             [
              0.3333333333333333,
              "#9c179e"
             ],
             [
              0.4444444444444444,
              "#bd3786"
             ],
             [
              0.5555555555555556,
              "#d8576b"
             ],
             [
              0.6666666666666666,
              "#ed7953"
             ],
             [
              0.7777777777777778,
              "#fb9f3a"
             ],
             [
              0.8888888888888888,
              "#fdca26"
             ],
             [
              1,
              "#f0f921"
             ]
            ],
            "type": "histogram2d"
           }
          ],
          "histogram2dcontour": [
           {
            "colorbar": {
             "outlinewidth": 0,
             "ticks": ""
            },
            "colorscale": [
             [
              0,
              "#0d0887"
             ],
             [
              0.1111111111111111,
              "#46039f"
             ],
             [
              0.2222222222222222,
              "#7201a8"
             ],
             [
              0.3333333333333333,
              "#9c179e"
             ],
             [
              0.4444444444444444,
              "#bd3786"
             ],
             [
              0.5555555555555556,
              "#d8576b"
             ],
             [
              0.6666666666666666,
              "#ed7953"
             ],
             [
              0.7777777777777778,
              "#fb9f3a"
             ],
             [
              0.8888888888888888,
              "#fdca26"
             ],
             [
              1,
              "#f0f921"
             ]
            ],
            "type": "histogram2dcontour"
           }
          ],
          "mesh3d": [
           {
            "colorbar": {
             "outlinewidth": 0,
             "ticks": ""
            },
            "type": "mesh3d"
           }
          ],
          "parcoords": [
           {
            "line": {
             "colorbar": {
              "outlinewidth": 0,
              "ticks": ""
             }
            },
            "type": "parcoords"
           }
          ],
          "pie": [
           {
            "automargin": true,
            "type": "pie"
           }
          ],
          "scatter": [
           {
            "marker": {
             "colorbar": {
              "outlinewidth": 0,
              "ticks": ""
             }
            },
            "type": "scatter"
           }
          ],
          "scatter3d": [
           {
            "line": {
             "colorbar": {
              "outlinewidth": 0,
              "ticks": ""
             }
            },
            "marker": {
             "colorbar": {
              "outlinewidth": 0,
              "ticks": ""
             }
            },
            "type": "scatter3d"
           }
          ],
          "scattercarpet": [
           {
            "marker": {
             "colorbar": {
              "outlinewidth": 0,
              "ticks": ""
             }
            },
            "type": "scattercarpet"
           }
          ],
          "scattergeo": [
           {
            "marker": {
             "colorbar": {
              "outlinewidth": 0,
              "ticks": ""
             }
            },
            "type": "scattergeo"
           }
          ],
          "scattergl": [
           {
            "marker": {
             "colorbar": {
              "outlinewidth": 0,
              "ticks": ""
             }
            },
            "type": "scattergl"
           }
          ],
          "scattermapbox": [
           {
            "marker": {
             "colorbar": {
              "outlinewidth": 0,
              "ticks": ""
             }
            },
            "type": "scattermapbox"
           }
          ],
          "scatterpolar": [
           {
            "marker": {
             "colorbar": {
              "outlinewidth": 0,
              "ticks": ""
             }
            },
            "type": "scatterpolar"
           }
          ],
          "scatterpolargl": [
           {
            "marker": {
             "colorbar": {
              "outlinewidth": 0,
              "ticks": ""
             }
            },
            "type": "scatterpolargl"
           }
          ],
          "scatterternary": [
           {
            "marker": {
             "colorbar": {
              "outlinewidth": 0,
              "ticks": ""
             }
            },
            "type": "scatterternary"
           }
          ],
          "surface": [
           {
            "colorbar": {
             "outlinewidth": 0,
             "ticks": ""
            },
            "colorscale": [
             [
              0,
              "#0d0887"
             ],
             [
              0.1111111111111111,
              "#46039f"
             ],
             [
              0.2222222222222222,
              "#7201a8"
             ],
             [
              0.3333333333333333,
              "#9c179e"
             ],
             [
              0.4444444444444444,
              "#bd3786"
             ],
             [
              0.5555555555555556,
              "#d8576b"
             ],
             [
              0.6666666666666666,
              "#ed7953"
             ],
             [
              0.7777777777777778,
              "#fb9f3a"
             ],
             [
              0.8888888888888888,
              "#fdca26"
             ],
             [
              1,
              "#f0f921"
             ]
            ],
            "type": "surface"
           }
          ],
          "table": [
           {
            "cells": {
             "fill": {
              "color": "#EBF0F8"
             },
             "line": {
              "color": "white"
             }
            },
            "header": {
             "fill": {
              "color": "#C8D4E3"
             },
             "line": {
              "color": "white"
             }
            },
            "type": "table"
           }
          ]
         },
         "layout": {
          "annotationdefaults": {
           "arrowcolor": "#2a3f5f",
           "arrowhead": 0,
           "arrowwidth": 1
          },
          "coloraxis": {
           "colorbar": {
            "outlinewidth": 0,
            "ticks": ""
           }
          },
          "colorscale": {
           "diverging": [
            [
             0,
             "#8e0152"
            ],
            [
             0.1,
             "#c51b7d"
            ],
            [
             0.2,
             "#de77ae"
            ],
            [
             0.3,
             "#f1b6da"
            ],
            [
             0.4,
             "#fde0ef"
            ],
            [
             0.5,
             "#f7f7f7"
            ],
            [
             0.6,
             "#e6f5d0"
            ],
            [
             0.7,
             "#b8e186"
            ],
            [
             0.8,
             "#7fbc41"
            ],
            [
             0.9,
             "#4d9221"
            ],
            [
             1,
             "#276419"
            ]
           ],
           "sequential": [
            [
             0,
             "#0d0887"
            ],
            [
             0.1111111111111111,
             "#46039f"
            ],
            [
             0.2222222222222222,
             "#7201a8"
            ],
            [
             0.3333333333333333,
             "#9c179e"
            ],
            [
             0.4444444444444444,
             "#bd3786"
            ],
            [
             0.5555555555555556,
             "#d8576b"
            ],
            [
             0.6666666666666666,
             "#ed7953"
            ],
            [
             0.7777777777777778,
             "#fb9f3a"
            ],
            [
             0.8888888888888888,
             "#fdca26"
            ],
            [
             1,
             "#f0f921"
            ]
           ],
           "sequentialminus": [
            [
             0,
             "#0d0887"
            ],
            [
             0.1111111111111111,
             "#46039f"
            ],
            [
             0.2222222222222222,
             "#7201a8"
            ],
            [
             0.3333333333333333,
             "#9c179e"
            ],
            [
             0.4444444444444444,
             "#bd3786"
            ],
            [
             0.5555555555555556,
             "#d8576b"
            ],
            [
             0.6666666666666666,
             "#ed7953"
            ],
            [
             0.7777777777777778,
             "#fb9f3a"
            ],
            [
             0.8888888888888888,
             "#fdca26"
            ],
            [
             1,
             "#f0f921"
            ]
           ]
          },
          "colorway": [
           "#636efa",
           "#EF553B",
           "#00cc96",
           "#ab63fa",
           "#FFA15A",
           "#19d3f3",
           "#FF6692",
           "#B6E880",
           "#FF97FF",
           "#FECB52"
          ],
          "font": {
           "color": "#2a3f5f"
          },
          "geo": {
           "bgcolor": "white",
           "lakecolor": "white",
           "landcolor": "#E5ECF6",
           "showlakes": true,
           "showland": true,
           "subunitcolor": "white"
          },
          "hoverlabel": {
           "align": "left"
          },
          "hovermode": "closest",
          "mapbox": {
           "style": "light"
          },
          "paper_bgcolor": "white",
          "plot_bgcolor": "#E5ECF6",
          "polar": {
           "angularaxis": {
            "gridcolor": "white",
            "linecolor": "white",
            "ticks": ""
           },
           "bgcolor": "#E5ECF6",
           "radialaxis": {
            "gridcolor": "white",
            "linecolor": "white",
            "ticks": ""
           }
          },
          "scene": {
           "xaxis": {
            "backgroundcolor": "#E5ECF6",
            "gridcolor": "white",
            "gridwidth": 2,
            "linecolor": "white",
            "showbackground": true,
            "ticks": "",
            "zerolinecolor": "white"
           },
           "yaxis": {
            "backgroundcolor": "#E5ECF6",
            "gridcolor": "white",
            "gridwidth": 2,
            "linecolor": "white",
            "showbackground": true,
            "ticks": "",
            "zerolinecolor": "white"
           },
           "zaxis": {
            "backgroundcolor": "#E5ECF6",
            "gridcolor": "white",
            "gridwidth": 2,
            "linecolor": "white",
            "showbackground": true,
            "ticks": "",
            "zerolinecolor": "white"
           }
          },
          "shapedefaults": {
           "line": {
            "color": "#2a3f5f"
           }
          },
          "ternary": {
           "aaxis": {
            "gridcolor": "white",
            "linecolor": "white",
            "ticks": ""
           },
           "baxis": {
            "gridcolor": "white",
            "linecolor": "white",
            "ticks": ""
           },
           "bgcolor": "#E5ECF6",
           "caxis": {
            "gridcolor": "white",
            "linecolor": "white",
            "ticks": ""
           }
          },
          "title": {
           "x": 0.05
          },
          "xaxis": {
           "automargin": true,
           "gridcolor": "white",
           "linecolor": "white",
           "ticks": "",
           "title": {
            "standoff": 15
           },
           "zerolinecolor": "white",
           "zerolinewidth": 2
          },
          "yaxis": {
           "automargin": true,
           "gridcolor": "white",
           "linecolor": "white",
           "ticks": "",
           "title": {
            "standoff": 15
           },
           "zerolinecolor": "white",
           "zerolinewidth": 2
          }
         }
        },
        "title": {
         "text": "Scores of Best Models by Type"
        },
        "width": 1300,
        "xaxis": {
         "autorange": true,
         "range": [
          -0.5585215605749487,
          8.558521560574949
         ],
         "title": {
          "text": "Model Name"
         },
         "type": "category"
        },
        "yaxis": {
         "autorange": true,
         "range": [
          0.6980333435720127,
          0.9363669013331058
         ],
         "title": {
          "text": "Score"
         },
         "type": "linear"
        }
       }
      },
      "image/png": "[encoded data removed]",
      "text/html": [
       "<div>\n",
       "        \n",
       "        \n",
       "            <div id=\"4b16fa5b-b579-4916-99e4-703185bea9cd\" class=\"plotly-graph-div\" style=\"height:800px; width:1300px;\"></div>\n",
       "            <script type=\"text/javascript\">\n",
       "                require([\"plotly\"], function(Plotly) {\n",
       "                    window.PLOTLYENV=window.PLOTLYENV || {};\n",
       "                    \n",
       "                if (document.getElementById(\"4b16fa5b-b579-4916-99e4-703185bea9cd\")) {\n",
       "                    Plotly.newPlot(\n",
       "                        '4b16fa5b-b579-4916-99e4-703185bea9cd',\n",
       "                        [{\"marker\": {\"color\": [0.8539811964389716, 0.8483512216767896, 0.8385611670410738, 0.837105139085337, 0.8343456194358932, 0.8287433785395345, 0.8273150844496213, 0.827273483650886, 0.7149235931996561], \"colorscale\": [[0.0, \"#440154\"], [0.1111111111111111, \"#482878\"], [0.2222222222222222, \"#3e4989\"], [0.3333333333333333, \"#31688e\"], [0.4444444444444444, \"#26828e\"], [0.5555555555555556, \"#1f9e89\"], [0.6666666666666666, \"#35b779\"], [0.7777777777777778, \"#6ece58\"], [0.8888888888888888, \"#b5de2b\"], [1.0, \"#fde725\"]], \"line\": {\"width\": 2}, \"showscale\": true, \"size\": 20}, \"mode\": \"markers\", \"name\": \"test_accuracy\", \"opacity\": 0.7, \"type\": \"scatter\", \"x\": [\"XGBCl\", \"LGBMCl\", \"SVC_rbf\", \"RandomForestCl\", \"DecisionTreeCl\", \"SVC_linear\", \"LogisticReg_liblinear\", \"LogisticReg_lbfgs\", \"KNeighborsCl\"], \"y\": [0.8539811964389716, 0.8483512216767896, 0.8385611670410738, 0.837105139085337, 0.8343456194358932, 0.8287433785395345, 0.8273150844496213, 0.827273483650886, 0.7149235931996561]}, {\"marker\": {\"line\": {\"width\": 2}, \"size\": 20}, \"mode\": \"markers\", \"name\": \"train_accuracy\", \"opacity\": 0.7, \"type\": \"scatter\", \"x\": [\"XGBCl\", \"LGBMCl\", \"SVC_rbf\", \"RandomForestCl\", \"DecisionTreeCl\", \"SVC_linear\", \"LogisticReg_liblinear\", \"LogisticReg_lbfgs\", \"KNeighborsCl\"], \"y\": [0.8995795275530191, 0.9035604088969977, 0.8373139591486296, 0.9194766517054624, 0.857439909236212, 0.8326335680364283, 0.8347389966155226, 0.8281862190826265, 0.8078184110970996]}],\n",
       "                        {\"height\": 800, \"legend\": {\"orientation\": \"h\"}, \"template\": {\"data\": {\"bar\": [{\"error_x\": {\"color\": \"#2a3f5f\"}, \"error_y\": {\"color\": \"#2a3f5f\"}, \"marker\": {\"line\": {\"color\": \"#E5ECF6\", \"width\": 0.5}}, \"type\": \"bar\"}], \"barpolar\": [{\"marker\": {\"line\": {\"color\": \"#E5ECF6\", \"width\": 0.5}}, \"type\": \"barpolar\"}], \"carpet\": [{\"aaxis\": {\"endlinecolor\": \"#2a3f5f\", \"gridcolor\": \"white\", \"linecolor\": \"white\", \"minorgridcolor\": \"white\", \"startlinecolor\": \"#2a3f5f\"}, \"baxis\": {\"endlinecolor\": \"#2a3f5f\", \"gridcolor\": \"white\", \"linecolor\": \"white\", \"minorgridcolor\": \"white\", \"startlinecolor\": \"#2a3f5f\"}, \"type\": \"carpet\"}], \"choropleth\": [{\"colorbar\": {\"outlinewidth\": 0, \"ticks\": \"\"}, \"type\": \"choropleth\"}], \"contour\": [{\"colorbar\": {\"outlinewidth\": 0, \"ticks\": \"\"}, \"colorscale\": [[0.0, \"#0d0887\"], [0.1111111111111111, \"#46039f\"], [0.2222222222222222, \"#7201a8\"], [0.3333333333333333, \"#9c179e\"], [0.4444444444444444, \"#bd3786\"], [0.5555555555555556, \"#d8576b\"], [0.6666666666666666, \"#ed7953\"], [0.7777777777777778, \"#fb9f3a\"], [0.8888888888888888, \"#fdca26\"], [1.0, \"#f0f921\"]], \"type\": \"contour\"}], \"contourcarpet\": [{\"colorbar\": {\"outlinewidth\": 0, \"ticks\": \"\"}, \"type\": \"contourcarpet\"}], \"heatmap\": [{\"colorbar\": {\"outlinewidth\": 0, \"ticks\": \"\"}, \"colorscale\": [[0.0, \"#0d0887\"], [0.1111111111111111, \"#46039f\"], [0.2222222222222222, \"#7201a8\"], [0.3333333333333333, \"#9c179e\"], [0.4444444444444444, \"#bd3786\"], [0.5555555555555556, \"#d8576b\"], [0.6666666666666666, \"#ed7953\"], [0.7777777777777778, \"#fb9f3a\"], [0.8888888888888888, \"#fdca26\"], [1.0, \"#f0f921\"]], \"type\": \"heatmap\"}], \"heatmapgl\": [{\"colorbar\": {\"outlinewidth\": 0, \"ticks\": \"\"}, \"colorscale\": [[0.0, \"#0d0887\"], [0.1111111111111111, \"#46039f\"], [0.2222222222222222, \"#7201a8\"], [0.3333333333333333, \"#9c179e\"], [0.4444444444444444, \"#bd3786\"], [0.5555555555555556, \"#d8576b\"], [0.6666666666666666, \"#ed7953\"], [0.7777777777777778, \"#fb9f3a\"], [0.8888888888888888, \"#fdca26\"], [1.0, \"#f0f921\"]], \"type\": \"heatmapgl\"}], \"histogram\": [{\"marker\": {\"colorbar\": {\"outlinewidth\": 0, \"ticks\": \"\"}}, \"type\": \"histogram\"}], \"histogram2d\": [{\"colorbar\": {\"outlinewidth\": 0, \"ticks\": \"\"}, \"colorscale\": [[0.0, \"#0d0887\"], [0.1111111111111111, \"#46039f\"], [0.2222222222222222, \"#7201a8\"], [0.3333333333333333, \"#9c179e\"], [0.4444444444444444, \"#bd3786\"], [0.5555555555555556, \"#d8576b\"], [0.6666666666666666, \"#ed7953\"], [0.7777777777777778, \"#fb9f3a\"], [0.8888888888888888, \"#fdca26\"], [1.0, \"#f0f921\"]], \"type\": \"histogram2d\"}], \"histogram2dcontour\": [{\"colorbar\": {\"outlinewidth\": 0, \"ticks\": \"\"}, \"colorscale\": [[0.0, \"#0d0887\"], [0.1111111111111111, \"#46039f\"], [0.2222222222222222, \"#7201a8\"], [0.3333333333333333, \"#9c179e\"], [0.4444444444444444, \"#bd3786\"], [0.5555555555555556, \"#d8576b\"], [0.6666666666666666, \"#ed7953\"], [0.7777777777777778, \"#fb9f3a\"], [0.8888888888888888, \"#fdca26\"], [1.0, \"#f0f921\"]], \"type\": \"histogram2dcontour\"}], \"mesh3d\": [{\"colorbar\": {\"outlinewidth\": 0, \"ticks\": \"\"}, \"type\": \"mesh3d\"}], \"parcoords\": [{\"line\": {\"colorbar\": {\"outlinewidth\": 0, \"ticks\": \"\"}}, \"type\": \"parcoords\"}], \"pie\": [{\"automargin\": true, \"type\": \"pie\"}], \"scatter\": [{\"marker\": {\"colorbar\": {\"outlinewidth\": 0, \"ticks\": \"\"}}, \"type\": \"scatter\"}], \"scatter3d\": [{\"line\": {\"colorbar\": {\"outlinewidth\": 0, \"ticks\": \"\"}}, \"marker\": {\"colorbar\": {\"outlinewidth\": 0, \"ticks\": \"\"}}, \"type\": \"scatter3d\"}], \"scattercarpet\": [{\"marker\": {\"colorbar\": {\"outlinewidth\": 0, \"ticks\": \"\"}}, \"type\": \"scattercarpet\"}], \"scattergeo\": [{\"marker\": {\"colorbar\": {\"outlinewidth\": 0, \"ticks\": \"\"}}, \"type\": \"scattergeo\"}], \"scattergl\": [{\"marker\": {\"colorbar\": {\"outlinewidth\": 0, \"ticks\": \"\"}}, \"type\": \"scattergl\"}], \"scattermapbox\": [{\"marker\": {\"colorbar\": {\"outlinewidth\": 0, \"ticks\": \"\"}}, \"type\": \"scattermapbox\"}], \"scatterpolar\": [{\"marker\": {\"colorbar\": {\"outlinewidth\": 0, \"ticks\": \"\"}}, \"type\": \"scatterpolar\"}], \"scatterpolargl\": [{\"marker\": {\"colorbar\": {\"outlinewidth\": 0, \"ticks\": \"\"}}, \"type\": \"scatterpolargl\"}], \"scatterternary\": [{\"marker\": {\"colorbar\": {\"outlinewidth\": 0, \"ticks\": \"\"}}, \"type\": \"scatterternary\"}], \"surface\": [{\"colorbar\": {\"outlinewidth\": 0, \"ticks\": \"\"}, \"colorscale\": [[0.0, \"#0d0887\"], [0.1111111111111111, \"#46039f\"], [0.2222222222222222, \"#7201a8\"], [0.3333333333333333, \"#9c179e\"], [0.4444444444444444, \"#bd3786\"], [0.5555555555555556, \"#d8576b\"], [0.6666666666666666, \"#ed7953\"], [0.7777777777777778, \"#fb9f3a\"], [0.8888888888888888, \"#fdca26\"], [1.0, \"#f0f921\"]], \"type\": \"surface\"}], \"table\": [{\"cells\": {\"fill\": {\"color\": \"#EBF0F8\"}, \"line\": {\"color\": \"white\"}}, \"header\": {\"fill\": {\"color\": \"#C8D4E3\"}, \"line\": {\"color\": \"white\"}}, \"type\": \"table\"}]}, \"layout\": {\"annotationdefaults\": {\"arrowcolor\": \"#2a3f5f\", \"arrowhead\": 0, \"arrowwidth\": 1}, \"coloraxis\": {\"colorbar\": {\"outlinewidth\": 0, \"ticks\": \"\"}}, \"colorscale\": {\"diverging\": [[0, \"#8e0152\"], [0.1, \"#c51b7d\"], [0.2, \"#de77ae\"], [0.3, \"#f1b6da\"], [0.4, \"#fde0ef\"], [0.5, \"#f7f7f7\"], [0.6, \"#e6f5d0\"], [0.7, \"#b8e186\"], [0.8, \"#7fbc41\"], [0.9, \"#4d9221\"], [1, \"#276419\"]], \"sequential\": [[0.0, \"#0d0887\"], [0.1111111111111111, \"#46039f\"], [0.2222222222222222, \"#7201a8\"], [0.3333333333333333, \"#9c179e\"], [0.4444444444444444, \"#bd3786\"], [0.5555555555555556, \"#d8576b\"], [0.6666666666666666, \"#ed7953\"], [0.7777777777777778, \"#fb9f3a\"], [0.8888888888888888, \"#fdca26\"], [1.0, \"#f0f921\"]], \"sequentialminus\": [[0.0, \"#0d0887\"], [0.1111111111111111, \"#46039f\"], [0.2222222222222222, \"#7201a8\"], [0.3333333333333333, \"#9c179e\"], [0.4444444444444444, \"#bd3786\"], [0.5555555555555556, \"#d8576b\"], [0.6666666666666666, \"#ed7953\"], [0.7777777777777778, \"#fb9f3a\"], [0.8888888888888888, \"#fdca26\"], [1.0, \"#f0f921\"]]}, \"colorway\": [\"#636efa\", \"#EF553B\", \"#00cc96\", \"#ab63fa\", \"#FFA15A\", \"#19d3f3\", \"#FF6692\", \"#B6E880\", \"#FF97FF\", \"#FECB52\"], \"font\": {\"color\": \"#2a3f5f\"}, \"geo\": {\"bgcolor\": \"white\", \"lakecolor\": \"white\", \"landcolor\": \"#E5ECF6\", \"showlakes\": true, \"showland\": true, \"subunitcolor\": \"white\"}, \"hoverlabel\": {\"align\": \"left\"}, \"hovermode\": \"closest\", \"mapbox\": {\"style\": \"light\"}, \"paper_bgcolor\": \"white\", \"plot_bgcolor\": \"#E5ECF6\", \"polar\": {\"angularaxis\": {\"gridcolor\": \"white\", \"linecolor\": \"white\", \"ticks\": \"\"}, \"bgcolor\": \"#E5ECF6\", \"radialaxis\": {\"gridcolor\": \"white\", \"linecolor\": \"white\", \"ticks\": \"\"}}, \"scene\": {\"xaxis\": {\"backgroundcolor\": \"#E5ECF6\", \"gridcolor\": \"white\", \"gridwidth\": 2, \"linecolor\": \"white\", \"showbackground\": true, \"ticks\": \"\", \"zerolinecolor\": \"white\"}, \"yaxis\": {\"backgroundcolor\": \"#E5ECF6\", \"gridcolor\": \"white\", \"gridwidth\": 2, \"linecolor\": \"white\", \"showbackground\": true, \"ticks\": \"\", \"zerolinecolor\": \"white\"}, \"zaxis\": {\"backgroundcolor\": \"#E5ECF6\", \"gridcolor\": \"white\", \"gridwidth\": 2, \"linecolor\": \"white\", \"showbackground\": true, \"ticks\": \"\", \"zerolinecolor\": \"white\"}}, \"shapedefaults\": {\"line\": {\"color\": \"#2a3f5f\"}}, \"ternary\": {\"aaxis\": {\"gridcolor\": \"white\", \"linecolor\": \"white\", \"ticks\": \"\"}, \"baxis\": {\"gridcolor\": \"white\", \"linecolor\": \"white\", \"ticks\": \"\"}, \"bgcolor\": \"#E5ECF6\", \"caxis\": {\"gridcolor\": \"white\", \"linecolor\": \"white\", \"ticks\": \"\"}}, \"title\": {\"x\": 0.05}, \"xaxis\": {\"automargin\": true, \"gridcolor\": \"white\", \"linecolor\": \"white\", \"ticks\": \"\", \"title\": {\"standoff\": 15}, \"zerolinecolor\": \"white\", \"zerolinewidth\": 2}, \"yaxis\": {\"automargin\": true, \"gridcolor\": \"white\", \"linecolor\": \"white\", \"ticks\": \"\", \"title\": {\"standoff\": 15}, \"zerolinecolor\": \"white\", \"zerolinewidth\": 2}}}, \"title\": {\"text\": \"Scores of Best Models by Type\"}, \"width\": 1300, \"xaxis\": {\"title\": {\"text\": \"Model Name\"}}, \"yaxis\": {\"title\": {\"text\": \"Score\"}}},\n",
       "                        {\"responsive\": true}\n",
       "                    ).then(function(){\n",
       "                            \n",
       "var gd = document.getElementById('4b16fa5b-b579-4916-99e4-703185bea9cd');\n",
       "var x = new MutationObserver(function (mutations, observer) {{\n",
       "        var display = window.getComputedStyle(gd).display;\n",
       "        if (!display || display === 'none') {{\n",
       "            console.log([gd, 'removed!']);\n",
       "            Plotly.purge(gd);\n",
       "            observer.disconnect();\n",
       "        }}\n",
       "}});\n",
       "\n",
       "// Listen for the removal of the full notebook cells\n",
       "var notebookContainer = gd.closest('#notebook-container');\n",
       "if (notebookContainer) {{\n",
       "    x.observe(notebookContainer, {childList: true});\n",
       "}}\n",
       "\n",
       "// Listen for the clearing of the current output cell\n",
       "var outputEl = gd.closest('.output');\n",
       "if (outputEl) {{\n",
       "    x.observe(outputEl, {childList: true});\n",
       "}}\n",
       "\n",
       "                        })\n",
       "                };\n",
       "                });\n",
       "            </script>\n",
       "        </div>"
      ]
     },
     "metadata": {},
     "output_type": "display_data"
    }
   ],
   "source": [
    "#fig = px.scatter(best_of_classifiers, x=\"classifier\", y=\"mean_test_accuracy\", color=\"classifier\",\n",
    "#                 size='mean_test_roc_auc', hover_data=['mean_test_accuracy','mean_test_roc_auc', 'mean_test_f1'])\n",
    "fig = go.Figure()\n",
    "fig.add_trace(go.Scatter(x=best_of_classifiers['classifier'], \n",
    "                         y=best_of_classifiers['mean_test_accuracy'],\n",
    "                         name='test_accuracy', marker=dict(color=best_of_classifiers['mean_test_accuracy'] ,\n",
    "                                                           colorscale='Viridis', showscale=True),\n",
    "                         mode='markers', opacity=0.7))\n",
    "fig.add_trace(go.Scatter(x=best_of_classifiers['classifier'], \n",
    "                         y=best_of_classifiers['mean_train_accuracy'],\n",
    "                         name='train_accuracy', \n",
    "                         mode='markers', opacity=0.7))\n",
    "# marker size belirle\n",
    "fig.update_traces(mode='markers', marker_size=20, marker_line_width=2)\n",
    "# layout degistir\n",
    "fig.update_layout(title='Scores of Best Models by Type', legend_orientation=\"h\",\n",
    "                   xaxis_title='Model Name',\n",
    "                   yaxis_title='Score', width=1300, height=800, )\n",
    "fig.show()"
   ]
  },
  {
   "cell_type": "markdown",
   "metadata": {},
   "source": [
    "***f1 ve auc skor hesaplama***"
   ]
  },
  {
   "cell_type": "code",
   "execution_count": 42,
   "metadata": {},
   "outputs": [
    {
     "name": "stdout",
     "output_type": "stream",
     "text": [
      "f1 score  : 0.80\n",
      "auc score : 0.92\n"
     ]
    }
   ],
   "source": [
    "# secilen modeli olustur ve test et\n",
    "xgb_cl = XGBClassifier(max_depth=5, reg_alpha=1, reg_lambda=1, gamma=0.01)\n",
    "# modeli egit\n",
    "xgb_cl.fit(X_train, y_train)\n",
    "# tahmin olustur\n",
    "y_pred = xgb_cl.predict(X_test)\n",
    "# auc score hesaplamada olasilik gerekli\n",
    "y_pred_prob = xgb_cl.predict_proba(X_test)\n",
    "print('f1 score  : {:.2f}'.format(f1_score(y_test, y_pred))) \n",
    "# auc score da predict prob nin 1 inci sutunu yani survive olma durumunu aliriz\n",
    "print('auc score : {:.2f}'.format(roc_auc_score(y_test, y_pred_prob[:,1])))"
   ]
  },
  {
   "cell_type": "markdown",
   "metadata": {},
   "source": [
    "***classsification_report***"
   ]
  },
  {
   "cell_type": "code",
   "execution_count": 43,
   "metadata": {},
   "outputs": [
    {
     "name": "stdout",
     "output_type": "stream",
     "text": [
      "classification report : \n",
      "              precision    recall  f1-score   support\n",
      "\n",
      "           0       0.86      0.92      0.89       110\n",
      "           1       0.85      0.75      0.80        69\n",
      "\n",
      "    accuracy                           0.85       179\n",
      "   macro avg       0.85      0.84      0.84       179\n",
      "weighted avg       0.85      0.85      0.85       179\n",
      "\n"
     ]
    }
   ],
   "source": [
    "print('classification report : \\n{}'.format(classification_report(y_test, y_pred)))"
   ]
  },
  {
   "cell_type": "markdown",
   "metadata": {},
   "source": [
    "***cross_val_score***"
   ]
  },
  {
   "cell_type": "code",
   "execution_count": 44,
   "metadata": {},
   "outputs": [
    {
     "name": "stdout",
     "output_type": "stream",
     "text": [
      "cv auc score mean: 0.89\n"
     ]
    }
   ],
   "source": [
    "# modeli yeniden olustur\n",
    "xgb_cl = XGBClassifier(max_depth=5, reg_alpha=1, reg_lambda=1, gamma=0.01)\n",
    "# cross_val_score ile skor sonucunu al\n",
    "cv_auc = cross_val_score(estimator=xgb_cl, X=X, y=y, cv=10, scoring='roc_auc')\n",
    "# cv skorlarinin ortalamasi\n",
    "print('cv auc score mean: {:.2f}'.format(cv_auc.mean()))"
   ]
  },
  {
   "cell_type": "markdown",
   "metadata": {},
   "source": [
    "***feature_importances_***"
   ]
  },
  {
   "cell_type": "code",
   "execution_count": 45,
   "metadata": {},
   "outputs": [
    {
     "data": {
      "image/png": "[encoded data removed]",
      "text/plain": [
       "<Figure size 720x504 with 1 Axes>"
      ]
     },
     "metadata": {
      "needs_background": "light"
     },
     "output_type": "display_data"
    }
   ],
   "source": [
    "# ozellik oneminden once model fit edilmeli\n",
    "xgb_cl.fit(X_train, y_train)\n",
    "# ozellik onem dereceleri\n",
    "# onem derecelerinden seri olustur\n",
    "önem_dereceleri = pd.Series(data=xgb_cl.feature_importances_,index= X_train.columns)\n",
    "# sirala\n",
    "önem_dereceleri_sıralı = önem_dereceleri.sort_values()\n",
    "# grafigini ciz\n",
    "plt.figure(figsize=(10,7))\n",
    "önem_dereceleri_sıralı.plot(kind='barh', color='darkblue')\n",
    "plt.title('Değişkenlerin Önem Dereceleri', fontdict=title_font)\n",
    "plt.show()"
   ]
  },
  {
   "cell_type": "markdown",
   "metadata": {},
   "source": [
    "***Native API ile AUC score hesaplama***"
   ]
  },
  {
   "cell_type": "code",
   "execution_count": 46,
   "metadata": {},
   "outputs": [],
   "source": [
    "# dmatrix donusturme, xgboost performans ve etkinligini bu veri yapisindan alir\n",
    "dmatrix_train = xgb.DMatrix(data=X_train, label=y_train)\n",
    "# predict ederken de dmatrix veri yapisi kullanacagiz\n",
    "dmatrix_X_test = xgb.DMatrix(data=X_test)"
   ]
  },
  {
   "cell_type": "code",
   "execution_count": 47,
   "metadata": {},
   "outputs": [],
   "source": [
    "# parametereler en iyi sonuc verenler secildi\n",
    "params = {\"objective\":\"binary:logistic\", \"max_depth\":5, \n",
    "          'reg_lambda': 1 , 'reg_alpha': 1, 'gamma': 0.01, \"silent\":1}"
   ]
  },
  {
   "cell_type": "code",
   "execution_count": 48,
   "metadata": {},
   "outputs": [],
   "source": [
    "# modeli egit\n",
    "xgb_cl_dmatrix = xgb.train(params=params, dtrain=dmatrix_train, num_boost_round=100)"
   ]
  },
  {
   "cell_type": "code",
   "execution_count": 49,
   "metadata": {},
   "outputs": [],
   "source": [
    "# tahmin yap\n",
    "y_pred_dmatrix = xgb_cl_dmatrix.predict(data=dmatrix_X_test)"
   ]
  },
  {
   "cell_type": "code",
   "execution_count": 50,
   "metadata": {},
   "outputs": [],
   "source": [
    "# tahmin sonuclari olasilik degerleridir, \n",
    "# bu degerler skor hesaplama icin tahmin degerlerine donusturulebilir\n",
    "# 0.5 den buyukse True degilse False\n",
    "y_pred = y_pred_dmatrix>0.5"
   ]
  },
  {
   "cell_type": "code",
   "execution_count": 51,
   "metadata": {},
   "outputs": [
    {
     "name": "stdout",
     "output_type": "stream",
     "text": [
      "f1 score  : 0.80\n",
      "auc score : 0.92\n"
     ]
    }
   ],
   "source": [
    "# f1 skoru tahmin degerleri ile hesapladik\n",
    "print('f1 score  : {:.2f}'.format(f1_score(y_test, y_pred)))\n",
    "# roc_auc skorunu tahmin olasiliklari ile hesapladik\n",
    "print('auc score : {:.2f}'.format(roc_auc_score(y_test, y_pred_dmatrix)))"
   ]
  }
 ],
 "metadata": {
  "kernelspec": {
   "display_name": "Python 3",
   "language": "python",
   "name": "python3"
  },
  "language_info": {
   "codemirror_mode": {
    "name": "ipython",
    "version": 3
   },
   "file_extension": ".py",
   "mimetype": "text/x-python",
   "name": "python",
   "nbconvert_exporter": "python",
   "pygments_lexer": "ipython3",
   "version": "3.7.6"
  }
 },
 "nbformat": 4,
 "nbformat_minor": 4
}
