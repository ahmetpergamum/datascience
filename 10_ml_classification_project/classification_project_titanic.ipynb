{
 "cells": [
  {
   "cell_type": "markdown",
   "metadata": {},
   "source": [
    "# ***Classification Project***\n",
    "\n",
    "Bu proje, sınıflandırma algoritmalarını kullanacağınız ilk projeniz. Bu projede, lojistik regresyon yöntemini kullanarak bir sınıflandırma problemini çözmeniz beklenmektedir. Projede uygulamanız gereken adımlar şunlar:\n",
    "\n",
    "- ilgi alanınıza göre bir veri kümesi seçin\n",
    "- araştırma sorusu belirleme\n",
    "- veri temizliği\n",
    "- veri keşfi\n",
    "- özellik mühendisliği\n",
    "- test kümesi oluşturma\n",
    "- ilk sınıflandırma modeli\n",
    "- modeli kullanarak tahmin yapma\n",
    " \n",
    "Yukarıdaki adımları tamamladıktan sonra, araştırma sorunuza hangi cevapları bulduğunuzu açıklayin Vardığınız sonuçları sebepleriyle beraber tartışin.\n",
    "\n",
    "---\n",
    "\n",
    "## ***Titanic***\n",
    "\n",
    "- Siniflandirma projesinde Titanic verileriyle calisarak faciada hayatta kalma durumunu tahmin edecegiz. Titanic verileri [Kaggle](https://www.kaggle.com/c/titanic/data)'dan elde edilmisitir. Buradaki ```train.csv``` dosyası kullanilmistir.\n",
    "- ***Veri Seti:*** Titanic\n",
    "- ***Arastirma konusu:*** Faciadan kurtulma durumu hedef degisken, diger degiskenler aciklayici degisken olmak uzere faciadan kurtulma durumunu tahmin eden bir model olusturulacaktir."
   ]
  },
  {
   "cell_type": "code",
   "execution_count": 162,
   "metadata": {},
   "outputs": [],
   "source": [
    "import pandas as pd\n",
    "import numpy as np\n",
    "import matplotlib.pyplot as plt\n",
    "import seaborn as sns\n",
    "import plotly.express as px\n",
    "import plotly.graph_objects as go\n",
    "# classifiers, regressors\n",
    "from sklearn.neighbors import KNeighborsClassifier, KNeighborsRegressor\n",
    "from sklearn.linear_model import LogisticRegression, LinearRegression, Ridge, Lasso\n",
    "from sklearn.tree import DecisionTreeClassifier, DecisionTreeRegressor\n",
    "from sklearn.ensemble import RandomForestClassifier, RandomForestRegressor\n",
    "from sklearn.svm import SVC, SVR\n",
    "from xgboost import XGBClassifier, XGBRegressor\n",
    "from lightgbm import LGBMClassifier, LGBMRegressor\n",
    "import xgboost as xgb\n",
    "# pipeline meta model\n",
    "from sklearn.pipeline import Pipeline\n",
    "# olceklendirme\n",
    "from sklearn.preprocessing import StandardScaler\n",
    "# polinom ozellikler\n",
    "from sklearn.preprocessing import PolynomialFeatures\n",
    "# egitim verisini ayirma\n",
    "from sklearn.model_selection import train_test_split\n",
    "# metrics\n",
    "from sklearn.metrics import mean_squared_error, classification_report\n",
    "from sklearn.metrics import accuracy_score, precision_score, recall_score, f1_score, roc_auc_score\n",
    "# cross validation\n",
    "from sklearn.model_selection import cross_validate, cross_val_score\n",
    "# hiperparametre tuning\n",
    "from sklearn.model_selection import GridSearchCV, RandomizedSearchCV\n",
    "\n",
    "# uyarilari dikkate alma\n",
    "import warnings\n",
    "warnings.filterwarnings('ignore')\n",
    "\n",
    "# pandas varsayilan olarak cok sayida sutun veya satir varsa tumunu gostermez\n",
    "# bu nedenle 100 sutun ve satir gostermesi icin\n",
    "pd.options.display.max_rows = 100\n",
    "pd.options.display.max_columns = 100\n",
    "\n",
    "# virgulden sonra belirli sayida basamak gosterimi icin \n",
    "pd.options.display.float_format = '{:,.3f}'.format\n",
    "# aciklama sutunun tam cikmasi icin\n",
    "pd.options.display.max_colwidth = 100\n",
    "\n",
    "# font tanimlamalari\n",
    "title_font = {'family': 'times new roman', 'color': 'darkred', \n",
    "              'weight': 'bold', 'size': 14}\n",
    "axis_font  = {'family': 'times new roman', 'color': 'darkred', \n",
    "              'weight': 'bold', 'size': 14}"
   ]
  },
  {
   "cell_type": "markdown",
   "metadata": {},
   "source": [
    "---\n",
    "### ***Veri Kesfi***\n",
    "- Veri setini inceleme."
   ]
  },
  {
   "cell_type": "code",
   "execution_count": 163,
   "metadata": {},
   "outputs": [
    {
     "name": "stdout",
     "output_type": "stream",
     "text": [
      "<class 'pandas.core.frame.DataFrame'>\n",
      "RangeIndex: 891 entries, 0 to 890\n",
      "Data columns (total 12 columns):\n",
      " #   Column       Non-Null Count  Dtype  \n",
      "---  ------       --------------  -----  \n",
      " 0   PassengerId  891 non-null    int64  \n",
      " 1   Survived     891 non-null    int64  \n",
      " 2   Pclass       891 non-null    int64  \n",
      " 3   Name         891 non-null    object \n",
      " 4   Sex          891 non-null    object \n",
      " 5   Age          714 non-null    float64\n",
      " 6   SibSp        891 non-null    int64  \n",
      " 7   Parch        891 non-null    int64  \n",
      " 8   Ticket       891 non-null    object \n",
      " 9   Fare         891 non-null    float64\n",
      " 10  Cabin        204 non-null    object \n",
      " 11  Embarked     889 non-null    object \n",
      "dtypes: float64(2), int64(5), object(5)\n",
      "memory usage: 83.7+ KB\n"
     ]
    }
   ],
   "source": [
    "# veri setini dataframe icerisine yukle\n",
    "titanic = pd.read_csv('data/titanic_train.csv')\n",
    "\n",
    "titanic.info()"
   ]
  },
  {
   "cell_type": "markdown",
   "metadata": {},
   "source": [
    "- Cabin, Ticket degiskenleri numerik olmadigindan ve burada ihtiyacimiz olmadigindan cikarabiliriz."
   ]
  },
  {
   "cell_type": "code",
   "execution_count": 164,
   "metadata": {},
   "outputs": [],
   "source": [
    "titanic = titanic.drop(['Cabin','Ticket'], axis=1)"
   ]
  },
  {
   "cell_type": "code",
   "execution_count": 165,
   "metadata": {},
   "outputs": [
    {
     "data": {
      "text/plain": [
       "S    644\n",
       "C    168\n",
       "Q     77\n",
       "Name: Embarked, dtype: int64"
      ]
     },
     "execution_count": 165,
     "metadata": {},
     "output_type": "execute_result"
    }
   ],
   "source": [
    "titanic['Embarked'].value_counts()"
   ]
  },
  {
   "cell_type": "markdown",
   "metadata": {},
   "source": [
    "- Embarked 3 farkli deger almis, eksik veriler en sik karsilasilan degerle doldurulabilir."
   ]
  },
  {
   "cell_type": "code",
   "execution_count": 166,
   "metadata": {},
   "outputs": [],
   "source": [
    "titanic['Embarked'] = titanic['Embarked'].fillna('S')"
   ]
  },
  {
   "cell_type": "code",
   "execution_count": 167,
   "metadata": {},
   "outputs": [
    {
     "name": "stdout",
     "output_type": "stream",
     "text": [
      "<class 'pandas.core.frame.DataFrame'>\n",
      "RangeIndex: 891 entries, 0 to 890\n",
      "Data columns (total 10 columns):\n",
      " #   Column       Non-Null Count  Dtype  \n",
      "---  ------       --------------  -----  \n",
      " 0   PassengerId  891 non-null    int64  \n",
      " 1   Survived     891 non-null    int64  \n",
      " 2   Pclass       891 non-null    int64  \n",
      " 3   Name         891 non-null    object \n",
      " 4   Sex          891 non-null    object \n",
      " 5   Age          714 non-null    float64\n",
      " 6   SibSp        891 non-null    int64  \n",
      " 7   Parch        891 non-null    int64  \n",
      " 8   Fare         891 non-null    float64\n",
      " 9   Embarked     891 non-null    object \n",
      "dtypes: float64(2), int64(5), object(3)\n",
      "memory usage: 69.7+ KB\n"
     ]
    }
   ],
   "source": [
    "titanic.info()"
   ]
  },
  {
   "cell_type": "markdown",
   "metadata": {},
   "source": [
    "***Cinsiyet ve Liman bilgisi encode edilerek dahil edildi***"
   ]
  },
  {
   "cell_type": "code",
   "execution_count": 168,
   "metadata": {},
   "outputs": [],
   "source": [
    "# get_dummies metodu ile encode edilir\n",
    "titanic = pd.concat([titanic, pd.get_dummies(titanic.Sex, \n",
    "                                             drop_first=True)], axis=1)\n",
    "titanic = pd.concat([titanic, pd.get_dummies(titanic.Embarked, \n",
    "                                             drop_first=True, prefix='Embarked')], axis=1)\n",
    "# encode edilen sutunlar drop edilir"
   ]
  },
  {
   "cell_type": "code",
   "execution_count": 169,
   "metadata": {},
   "outputs": [],
   "source": [
    "titanic.drop(['Sex', 'Embarked'], axis=1, inplace=True)"
   ]
  },
  {
   "cell_type": "markdown",
   "metadata": {},
   "source": [
    "- Name sutunundan title bilgisi extract edildi."
   ]
  },
  {
   "cell_type": "code",
   "execution_count": 170,
   "metadata": {},
   "outputs": [
    {
     "data": {
      "text/plain": [
       "0                                Braund, Mr. Owen Harris\n",
       "1    Cumings, Mrs. John Bradley (Florence Briggs Thayer)\n",
       "2                                 Heikkinen, Miss. Laina\n",
       "3           Futrelle, Mrs. Jacques Heath (Lily May Peel)\n",
       "4                               Allen, Mr. William Henry\n",
       "5                                       Moran, Mr. James\n",
       "6                                McCarthy, Mr. Timothy J\n",
       "7                         Palsson, Master. Gosta Leonard\n",
       "8      Johnson, Mrs. Oscar W (Elisabeth Vilhelmina Berg)\n",
       "9                    Nasser, Mrs. Nicholas (Adele Achem)\n",
       "Name: Name, dtype: object"
      ]
     },
     "execution_count": 170,
     "metadata": {},
     "output_type": "execute_result"
    }
   ],
   "source": [
    "titanic.Name.head(10)"
   ]
  },
  {
   "cell_type": "code",
   "execution_count": 171,
   "metadata": {},
   "outputs": [],
   "source": [
    "def add_title(col):\n",
    "    if 'Mrs' in col:\n",
    "        return 'mrs'\n",
    "    elif 'Master' in col:\n",
    "        return 'master'\n",
    "    elif 'Mr' in col:\n",
    "        return 'mr'\n",
    "    elif 'Miss' in col:\n",
    "        return 'miss'\n",
    "    else:\n",
    "        return 'no_title'"
   ]
  },
  {
   "cell_type": "code",
   "execution_count": 172,
   "metadata": {},
   "outputs": [
    {
     "data": {
      "text/plain": [
       "'mr'"
      ]
     },
     "execution_count": 172,
     "metadata": {},
     "output_type": "execute_result"
    }
   ],
   "source": [
    "add_title('Fortune, Mr. Charles Alexander')"
   ]
  },
  {
   "cell_type": "code",
   "execution_count": 173,
   "metadata": {},
   "outputs": [],
   "source": [
    "titanic['title'] = titanic['Name'].apply(add_title)"
   ]
  },
  {
   "cell_type": "code",
   "execution_count": 174,
   "metadata": {},
   "outputs": [
    {
     "data": {
      "text/plain": [
       "array(['mr', 'mrs', 'miss', 'master', 'no_title'], dtype=object)"
      ]
     },
     "execution_count": 174,
     "metadata": {},
     "output_type": "execute_result"
    }
   ],
   "source": [
    "titanic['title'].unique()"
   ]
  },
  {
   "cell_type": "code",
   "execution_count": 175,
   "metadata": {},
   "outputs": [],
   "source": [
    "titanic = pd.concat([titanic,pd.get_dummies(titanic['title'])], axis=1)"
   ]
  },
  {
   "cell_type": "code",
   "execution_count": 176,
   "metadata": {},
   "outputs": [
    {
     "data": {
      "text/html": [
       "<div>\n",
       "<style scoped>\n",
       "    .dataframe tbody tr th:only-of-type {\n",
       "        vertical-align: middle;\n",
       "    }\n",
       "\n",
       "    .dataframe tbody tr th {\n",
       "        vertical-align: top;\n",
       "    }\n",
       "\n",
       "    .dataframe thead th {\n",
       "        text-align: right;\n",
       "    }\n",
       "</style>\n",
       "<table border=\"1\" class=\"dataframe\">\n",
       "  <thead>\n",
       "    <tr style=\"text-align: right;\">\n",
       "      <th></th>\n",
       "      <th>PassengerId</th>\n",
       "      <th>Survived</th>\n",
       "      <th>Pclass</th>\n",
       "      <th>Name</th>\n",
       "      <th>Age</th>\n",
       "      <th>SibSp</th>\n",
       "      <th>Parch</th>\n",
       "      <th>Fare</th>\n",
       "      <th>male</th>\n",
       "      <th>Embarked_Q</th>\n",
       "      <th>Embarked_S</th>\n",
       "      <th>title</th>\n",
       "      <th>master</th>\n",
       "      <th>miss</th>\n",
       "      <th>mr</th>\n",
       "      <th>mrs</th>\n",
       "      <th>no_title</th>\n",
       "    </tr>\n",
       "  </thead>\n",
       "  <tbody>\n",
       "    <tr>\n",
       "      <th>0</th>\n",
       "      <td>1</td>\n",
       "      <td>0</td>\n",
       "      <td>3</td>\n",
       "      <td>Braund, Mr. Owen Harris</td>\n",
       "      <td>22.000</td>\n",
       "      <td>1</td>\n",
       "      <td>0</td>\n",
       "      <td>7.250</td>\n",
       "      <td>1</td>\n",
       "      <td>0</td>\n",
       "      <td>1</td>\n",
       "      <td>mr</td>\n",
       "      <td>0</td>\n",
       "      <td>0</td>\n",
       "      <td>1</td>\n",
       "      <td>0</td>\n",
       "      <td>0</td>\n",
       "    </tr>\n",
       "    <tr>\n",
       "      <th>1</th>\n",
       "      <td>2</td>\n",
       "      <td>1</td>\n",
       "      <td>1</td>\n",
       "      <td>Cumings, Mrs. John Bradley (Florence Briggs Thayer)</td>\n",
       "      <td>38.000</td>\n",
       "      <td>1</td>\n",
       "      <td>0</td>\n",
       "      <td>71.283</td>\n",
       "      <td>0</td>\n",
       "      <td>0</td>\n",
       "      <td>0</td>\n",
       "      <td>mrs</td>\n",
       "      <td>0</td>\n",
       "      <td>0</td>\n",
       "      <td>0</td>\n",
       "      <td>1</td>\n",
       "      <td>0</td>\n",
       "    </tr>\n",
       "    <tr>\n",
       "      <th>2</th>\n",
       "      <td>3</td>\n",
       "      <td>1</td>\n",
       "      <td>3</td>\n",
       "      <td>Heikkinen, Miss. Laina</td>\n",
       "      <td>26.000</td>\n",
       "      <td>0</td>\n",
       "      <td>0</td>\n",
       "      <td>7.925</td>\n",
       "      <td>0</td>\n",
       "      <td>0</td>\n",
       "      <td>1</td>\n",
       "      <td>miss</td>\n",
       "      <td>0</td>\n",
       "      <td>1</td>\n",
       "      <td>0</td>\n",
       "      <td>0</td>\n",
       "      <td>0</td>\n",
       "    </tr>\n",
       "    <tr>\n",
       "      <th>3</th>\n",
       "      <td>4</td>\n",
       "      <td>1</td>\n",
       "      <td>1</td>\n",
       "      <td>Futrelle, Mrs. Jacques Heath (Lily May Peel)</td>\n",
       "      <td>35.000</td>\n",
       "      <td>1</td>\n",
       "      <td>0</td>\n",
       "      <td>53.100</td>\n",
       "      <td>0</td>\n",
       "      <td>0</td>\n",
       "      <td>1</td>\n",
       "      <td>mrs</td>\n",
       "      <td>0</td>\n",
       "      <td>0</td>\n",
       "      <td>0</td>\n",
       "      <td>1</td>\n",
       "      <td>0</td>\n",
       "    </tr>\n",
       "    <tr>\n",
       "      <th>4</th>\n",
       "      <td>5</td>\n",
       "      <td>0</td>\n",
       "      <td>3</td>\n",
       "      <td>Allen, Mr. William Henry</td>\n",
       "      <td>35.000</td>\n",
       "      <td>0</td>\n",
       "      <td>0</td>\n",
       "      <td>8.050</td>\n",
       "      <td>1</td>\n",
       "      <td>0</td>\n",
       "      <td>1</td>\n",
       "      <td>mr</td>\n",
       "      <td>0</td>\n",
       "      <td>0</td>\n",
       "      <td>1</td>\n",
       "      <td>0</td>\n",
       "      <td>0</td>\n",
       "    </tr>\n",
       "    <tr>\n",
       "      <th>...</th>\n",
       "      <td>...</td>\n",
       "      <td>...</td>\n",
       "      <td>...</td>\n",
       "      <td>...</td>\n",
       "      <td>...</td>\n",
       "      <td>...</td>\n",
       "      <td>...</td>\n",
       "      <td>...</td>\n",
       "      <td>...</td>\n",
       "      <td>...</td>\n",
       "      <td>...</td>\n",
       "      <td>...</td>\n",
       "      <td>...</td>\n",
       "      <td>...</td>\n",
       "      <td>...</td>\n",
       "      <td>...</td>\n",
       "      <td>...</td>\n",
       "    </tr>\n",
       "    <tr>\n",
       "      <th>886</th>\n",
       "      <td>887</td>\n",
       "      <td>0</td>\n",
       "      <td>2</td>\n",
       "      <td>Montvila, Rev. Juozas</td>\n",
       "      <td>27.000</td>\n",
       "      <td>0</td>\n",
       "      <td>0</td>\n",
       "      <td>13.000</td>\n",
       "      <td>1</td>\n",
       "      <td>0</td>\n",
       "      <td>1</td>\n",
       "      <td>no_title</td>\n",
       "      <td>0</td>\n",
       "      <td>0</td>\n",
       "      <td>0</td>\n",
       "      <td>0</td>\n",
       "      <td>1</td>\n",
       "    </tr>\n",
       "    <tr>\n",
       "      <th>887</th>\n",
       "      <td>888</td>\n",
       "      <td>1</td>\n",
       "      <td>1</td>\n",
       "      <td>Graham, Miss. Margaret Edith</td>\n",
       "      <td>19.000</td>\n",
       "      <td>0</td>\n",
       "      <td>0</td>\n",
       "      <td>30.000</td>\n",
       "      <td>0</td>\n",
       "      <td>0</td>\n",
       "      <td>1</td>\n",
       "      <td>miss</td>\n",
       "      <td>0</td>\n",
       "      <td>1</td>\n",
       "      <td>0</td>\n",
       "      <td>0</td>\n",
       "      <td>0</td>\n",
       "    </tr>\n",
       "    <tr>\n",
       "      <th>888</th>\n",
       "      <td>889</td>\n",
       "      <td>0</td>\n",
       "      <td>3</td>\n",
       "      <td>Johnston, Miss. Catherine Helen \"Carrie\"</td>\n",
       "      <td>nan</td>\n",
       "      <td>1</td>\n",
       "      <td>2</td>\n",
       "      <td>23.450</td>\n",
       "      <td>0</td>\n",
       "      <td>0</td>\n",
       "      <td>1</td>\n",
       "      <td>miss</td>\n",
       "      <td>0</td>\n",
       "      <td>1</td>\n",
       "      <td>0</td>\n",
       "      <td>0</td>\n",
       "      <td>0</td>\n",
       "    </tr>\n",
       "    <tr>\n",
       "      <th>889</th>\n",
       "      <td>890</td>\n",
       "      <td>1</td>\n",
       "      <td>1</td>\n",
       "      <td>Behr, Mr. Karl Howell</td>\n",
       "      <td>26.000</td>\n",
       "      <td>0</td>\n",
       "      <td>0</td>\n",
       "      <td>30.000</td>\n",
       "      <td>1</td>\n",
       "      <td>0</td>\n",
       "      <td>0</td>\n",
       "      <td>mr</td>\n",
       "      <td>0</td>\n",
       "      <td>0</td>\n",
       "      <td>1</td>\n",
       "      <td>0</td>\n",
       "      <td>0</td>\n",
       "    </tr>\n",
       "    <tr>\n",
       "      <th>890</th>\n",
       "      <td>891</td>\n",
       "      <td>0</td>\n",
       "      <td>3</td>\n",
       "      <td>Dooley, Mr. Patrick</td>\n",
       "      <td>32.000</td>\n",
       "      <td>0</td>\n",
       "      <td>0</td>\n",
       "      <td>7.750</td>\n",
       "      <td>1</td>\n",
       "      <td>1</td>\n",
       "      <td>0</td>\n",
       "      <td>mr</td>\n",
       "      <td>0</td>\n",
       "      <td>0</td>\n",
       "      <td>1</td>\n",
       "      <td>0</td>\n",
       "      <td>0</td>\n",
       "    </tr>\n",
       "  </tbody>\n",
       "</table>\n",
       "<p>891 rows × 17 columns</p>\n",
       "</div>"
      ],
      "text/plain": [
       "     PassengerId  Survived  Pclass  \\\n",
       "0              1         0       3   \n",
       "1              2         1       1   \n",
       "2              3         1       3   \n",
       "3              4         1       1   \n",
       "4              5         0       3   \n",
       "..           ...       ...     ...   \n",
       "886          887         0       2   \n",
       "887          888         1       1   \n",
       "888          889         0       3   \n",
       "889          890         1       1   \n",
       "890          891         0       3   \n",
       "\n",
       "                                                    Name    Age  SibSp  Parch  \\\n",
       "0                                Braund, Mr. Owen Harris 22.000      1      0   \n",
       "1    Cumings, Mrs. John Bradley (Florence Briggs Thayer) 38.000      1      0   \n",
       "2                                 Heikkinen, Miss. Laina 26.000      0      0   \n",
       "3           Futrelle, Mrs. Jacques Heath (Lily May Peel) 35.000      1      0   \n",
       "4                               Allen, Mr. William Henry 35.000      0      0   \n",
       "..                                                   ...    ...    ...    ...   \n",
       "886                                Montvila, Rev. Juozas 27.000      0      0   \n",
       "887                         Graham, Miss. Margaret Edith 19.000      0      0   \n",
       "888             Johnston, Miss. Catherine Helen \"Carrie\"    nan      1      2   \n",
       "889                                Behr, Mr. Karl Howell 26.000      0      0   \n",
       "890                                  Dooley, Mr. Patrick 32.000      0      0   \n",
       "\n",
       "      Fare  male  Embarked_Q  Embarked_S     title  master  miss  mr  mrs  \\\n",
       "0    7.250     1           0           1        mr       0     0   1    0   \n",
       "1   71.283     0           0           0       mrs       0     0   0    1   \n",
       "2    7.925     0           0           1      miss       0     1   0    0   \n",
       "3   53.100     0           0           1       mrs       0     0   0    1   \n",
       "4    8.050     1           0           1        mr       0     0   1    0   \n",
       "..     ...   ...         ...         ...       ...     ...   ...  ..  ...   \n",
       "886 13.000     1           0           1  no_title       0     0   0    0   \n",
       "887 30.000     0           0           1      miss       0     1   0    0   \n",
       "888 23.450     0           0           1      miss       0     1   0    0   \n",
       "889 30.000     1           0           0        mr       0     0   1    0   \n",
       "890  7.750     1           1           0        mr       0     0   1    0   \n",
       "\n",
       "     no_title  \n",
       "0           0  \n",
       "1           0  \n",
       "2           0  \n",
       "3           0  \n",
       "4           0  \n",
       "..        ...  \n",
       "886         1  \n",
       "887         0  \n",
       "888         0  \n",
       "889         0  \n",
       "890         0  \n",
       "\n",
       "[891 rows x 17 columns]"
      ]
     },
     "execution_count": 176,
     "metadata": {},
     "output_type": "execute_result"
    }
   ],
   "source": [
    "titanic"
   ]
  },
  {
   "cell_type": "code",
   "execution_count": 177,
   "metadata": {},
   "outputs": [],
   "source": [
    "titanic.drop(['Name', 'title', 'no_title'], axis=1, inplace=True)"
   ]
  },
  {
   "cell_type": "markdown",
   "metadata": {},
   "source": [
    "- Son olarak yas degerindeki nan degerler icin model olusturularak tahmin yapilacak."
   ]
  },
  {
   "cell_type": "code",
   "execution_count": 178,
   "metadata": {},
   "outputs": [],
   "source": [
    "# diger bir yontem yas sutunundaki eksik degerleri ortalama ile doldurmak\n",
    "# titanic['Age'].fillna(np.floor(titanic['Age'].mean()), inplace=True)"
   ]
  },
  {
   "cell_type": "code",
   "execution_count": 179,
   "metadata": {},
   "outputs": [
    {
     "data": {
      "text/html": [
       "<div>\n",
       "<style scoped>\n",
       "    .dataframe tbody tr th:only-of-type {\n",
       "        vertical-align: middle;\n",
       "    }\n",
       "\n",
       "    .dataframe tbody tr th {\n",
       "        vertical-align: top;\n",
       "    }\n",
       "\n",
       "    .dataframe thead th {\n",
       "        text-align: right;\n",
       "    }\n",
       "</style>\n",
       "<table border=\"1\" class=\"dataframe\">\n",
       "  <thead>\n",
       "    <tr style=\"text-align: right;\">\n",
       "      <th></th>\n",
       "      <th>PassengerId</th>\n",
       "      <th>Survived</th>\n",
       "      <th>Pclass</th>\n",
       "      <th>Age</th>\n",
       "      <th>SibSp</th>\n",
       "      <th>Parch</th>\n",
       "      <th>Fare</th>\n",
       "      <th>male</th>\n",
       "      <th>Embarked_Q</th>\n",
       "      <th>Embarked_S</th>\n",
       "      <th>master</th>\n",
       "      <th>miss</th>\n",
       "      <th>mr</th>\n",
       "      <th>mrs</th>\n",
       "    </tr>\n",
       "  </thead>\n",
       "  <tbody>\n",
       "    <tr>\n",
       "      <th>0</th>\n",
       "      <td>1</td>\n",
       "      <td>0</td>\n",
       "      <td>3</td>\n",
       "      <td>22.000</td>\n",
       "      <td>1</td>\n",
       "      <td>0</td>\n",
       "      <td>7.250</td>\n",
       "      <td>1</td>\n",
       "      <td>0</td>\n",
       "      <td>1</td>\n",
       "      <td>0</td>\n",
       "      <td>0</td>\n",
       "      <td>1</td>\n",
       "      <td>0</td>\n",
       "    </tr>\n",
       "    <tr>\n",
       "      <th>1</th>\n",
       "      <td>2</td>\n",
       "      <td>1</td>\n",
       "      <td>1</td>\n",
       "      <td>38.000</td>\n",
       "      <td>1</td>\n",
       "      <td>0</td>\n",
       "      <td>71.283</td>\n",
       "      <td>0</td>\n",
       "      <td>0</td>\n",
       "      <td>0</td>\n",
       "      <td>0</td>\n",
       "      <td>0</td>\n",
       "      <td>0</td>\n",
       "      <td>1</td>\n",
       "    </tr>\n",
       "    <tr>\n",
       "      <th>2</th>\n",
       "      <td>3</td>\n",
       "      <td>1</td>\n",
       "      <td>3</td>\n",
       "      <td>26.000</td>\n",
       "      <td>0</td>\n",
       "      <td>0</td>\n",
       "      <td>7.925</td>\n",
       "      <td>0</td>\n",
       "      <td>0</td>\n",
       "      <td>1</td>\n",
       "      <td>0</td>\n",
       "      <td>1</td>\n",
       "      <td>0</td>\n",
       "      <td>0</td>\n",
       "    </tr>\n",
       "    <tr>\n",
       "      <th>3</th>\n",
       "      <td>4</td>\n",
       "      <td>1</td>\n",
       "      <td>1</td>\n",
       "      <td>35.000</td>\n",
       "      <td>1</td>\n",
       "      <td>0</td>\n",
       "      <td>53.100</td>\n",
       "      <td>0</td>\n",
       "      <td>0</td>\n",
       "      <td>1</td>\n",
       "      <td>0</td>\n",
       "      <td>0</td>\n",
       "      <td>0</td>\n",
       "      <td>1</td>\n",
       "    </tr>\n",
       "    <tr>\n",
       "      <th>4</th>\n",
       "      <td>5</td>\n",
       "      <td>0</td>\n",
       "      <td>3</td>\n",
       "      <td>35.000</td>\n",
       "      <td>0</td>\n",
       "      <td>0</td>\n",
       "      <td>8.050</td>\n",
       "      <td>1</td>\n",
       "      <td>0</td>\n",
       "      <td>1</td>\n",
       "      <td>0</td>\n",
       "      <td>0</td>\n",
       "      <td>1</td>\n",
       "      <td>0</td>\n",
       "    </tr>\n",
       "    <tr>\n",
       "      <th>...</th>\n",
       "      <td>...</td>\n",
       "      <td>...</td>\n",
       "      <td>...</td>\n",
       "      <td>...</td>\n",
       "      <td>...</td>\n",
       "      <td>...</td>\n",
       "      <td>...</td>\n",
       "      <td>...</td>\n",
       "      <td>...</td>\n",
       "      <td>...</td>\n",
       "      <td>...</td>\n",
       "      <td>...</td>\n",
       "      <td>...</td>\n",
       "      <td>...</td>\n",
       "    </tr>\n",
       "    <tr>\n",
       "      <th>886</th>\n",
       "      <td>887</td>\n",
       "      <td>0</td>\n",
       "      <td>2</td>\n",
       "      <td>27.000</td>\n",
       "      <td>0</td>\n",
       "      <td>0</td>\n",
       "      <td>13.000</td>\n",
       "      <td>1</td>\n",
       "      <td>0</td>\n",
       "      <td>1</td>\n",
       "      <td>0</td>\n",
       "      <td>0</td>\n",
       "      <td>0</td>\n",
       "      <td>0</td>\n",
       "    </tr>\n",
       "    <tr>\n",
       "      <th>887</th>\n",
       "      <td>888</td>\n",
       "      <td>1</td>\n",
       "      <td>1</td>\n",
       "      <td>19.000</td>\n",
       "      <td>0</td>\n",
       "      <td>0</td>\n",
       "      <td>30.000</td>\n",
       "      <td>0</td>\n",
       "      <td>0</td>\n",
       "      <td>1</td>\n",
       "      <td>0</td>\n",
       "      <td>1</td>\n",
       "      <td>0</td>\n",
       "      <td>0</td>\n",
       "    </tr>\n",
       "    <tr>\n",
       "      <th>888</th>\n",
       "      <td>889</td>\n",
       "      <td>0</td>\n",
       "      <td>3</td>\n",
       "      <td>nan</td>\n",
       "      <td>1</td>\n",
       "      <td>2</td>\n",
       "      <td>23.450</td>\n",
       "      <td>0</td>\n",
       "      <td>0</td>\n",
       "      <td>1</td>\n",
       "      <td>0</td>\n",
       "      <td>1</td>\n",
       "      <td>0</td>\n",
       "      <td>0</td>\n",
       "    </tr>\n",
       "    <tr>\n",
       "      <th>889</th>\n",
       "      <td>890</td>\n",
       "      <td>1</td>\n",
       "      <td>1</td>\n",
       "      <td>26.000</td>\n",
       "      <td>0</td>\n",
       "      <td>0</td>\n",
       "      <td>30.000</td>\n",
       "      <td>1</td>\n",
       "      <td>0</td>\n",
       "      <td>0</td>\n",
       "      <td>0</td>\n",
       "      <td>0</td>\n",
       "      <td>1</td>\n",
       "      <td>0</td>\n",
       "    </tr>\n",
       "    <tr>\n",
       "      <th>890</th>\n",
       "      <td>891</td>\n",
       "      <td>0</td>\n",
       "      <td>3</td>\n",
       "      <td>32.000</td>\n",
       "      <td>0</td>\n",
       "      <td>0</td>\n",
       "      <td>7.750</td>\n",
       "      <td>1</td>\n",
       "      <td>1</td>\n",
       "      <td>0</td>\n",
       "      <td>0</td>\n",
       "      <td>0</td>\n",
       "      <td>1</td>\n",
       "      <td>0</td>\n",
       "    </tr>\n",
       "  </tbody>\n",
       "</table>\n",
       "<p>891 rows × 14 columns</p>\n",
       "</div>"
      ],
      "text/plain": [
       "     PassengerId  Survived  Pclass    Age  SibSp  Parch   Fare  male  \\\n",
       "0              1         0       3 22.000      1      0  7.250     1   \n",
       "1              2         1       1 38.000      1      0 71.283     0   \n",
       "2              3         1       3 26.000      0      0  7.925     0   \n",
       "3              4         1       1 35.000      1      0 53.100     0   \n",
       "4              5         0       3 35.000      0      0  8.050     1   \n",
       "..           ...       ...     ...    ...    ...    ...    ...   ...   \n",
       "886          887         0       2 27.000      0      0 13.000     1   \n",
       "887          888         1       1 19.000      0      0 30.000     0   \n",
       "888          889         0       3    nan      1      2 23.450     0   \n",
       "889          890         1       1 26.000      0      0 30.000     1   \n",
       "890          891         0       3 32.000      0      0  7.750     1   \n",
       "\n",
       "     Embarked_Q  Embarked_S  master  miss  mr  mrs  \n",
       "0             0           1       0     0   1    0  \n",
       "1             0           0       0     0   0    1  \n",
       "2             0           1       0     1   0    0  \n",
       "3             0           1       0     0   0    1  \n",
       "4             0           1       0     0   1    0  \n",
       "..          ...         ...     ...   ...  ..  ...  \n",
       "886           0           1       0     0   0    0  \n",
       "887           0           1       0     1   0    0  \n",
       "888           0           1       0     1   0    0  \n",
       "889           0           0       0     0   1    0  \n",
       "890           1           0       0     0   1    0  \n",
       "\n",
       "[891 rows x 14 columns]"
      ]
     },
     "execution_count": 179,
     "metadata": {},
     "output_type": "execute_result"
    }
   ],
   "source": [
    "titanic"
   ]
  },
  {
   "cell_type": "markdown",
   "metadata": {},
   "source": [
    "---\n",
    "### ***Yas Sutunundaki Eksik Degerleri Tahmin Ile Doldurma***"
   ]
  },
  {
   "cell_type": "code",
   "execution_count": 180,
   "metadata": {},
   "outputs": [],
   "source": [
    "# yas degerleri dolu ve bos olan sample lar ayri ayri alinir\n",
    "titanic_w_age = titanic[titanic['Age'].notnull()]\n",
    "titanic_no_age = titanic[titanic['Age'].isnull()]"
   ]
  },
  {
   "cell_type": "code",
   "execution_count": 181,
   "metadata": {},
   "outputs": [
    {
     "data": {
      "text/html": [
       "<div>\n",
       "<style scoped>\n",
       "    .dataframe tbody tr th:only-of-type {\n",
       "        vertical-align: middle;\n",
       "    }\n",
       "\n",
       "    .dataframe tbody tr th {\n",
       "        vertical-align: top;\n",
       "    }\n",
       "\n",
       "    .dataframe thead th {\n",
       "        text-align: right;\n",
       "    }\n",
       "</style>\n",
       "<table border=\"1\" class=\"dataframe\">\n",
       "  <thead>\n",
       "    <tr style=\"text-align: right;\">\n",
       "      <th></th>\n",
       "      <th>PassengerId</th>\n",
       "      <th>Survived</th>\n",
       "      <th>Pclass</th>\n",
       "      <th>Age</th>\n",
       "      <th>SibSp</th>\n",
       "      <th>Parch</th>\n",
       "      <th>Fare</th>\n",
       "      <th>male</th>\n",
       "      <th>Embarked_Q</th>\n",
       "      <th>Embarked_S</th>\n",
       "      <th>master</th>\n",
       "      <th>miss</th>\n",
       "      <th>mr</th>\n",
       "      <th>mrs</th>\n",
       "    </tr>\n",
       "  </thead>\n",
       "  <tbody>\n",
       "    <tr>\n",
       "      <th>0</th>\n",
       "      <td>1</td>\n",
       "      <td>0</td>\n",
       "      <td>3</td>\n",
       "      <td>22.000</td>\n",
       "      <td>1</td>\n",
       "      <td>0</td>\n",
       "      <td>7.250</td>\n",
       "      <td>1</td>\n",
       "      <td>0</td>\n",
       "      <td>1</td>\n",
       "      <td>0</td>\n",
       "      <td>0</td>\n",
       "      <td>1</td>\n",
       "      <td>0</td>\n",
       "    </tr>\n",
       "    <tr>\n",
       "      <th>1</th>\n",
       "      <td>2</td>\n",
       "      <td>1</td>\n",
       "      <td>1</td>\n",
       "      <td>38.000</td>\n",
       "      <td>1</td>\n",
       "      <td>0</td>\n",
       "      <td>71.283</td>\n",
       "      <td>0</td>\n",
       "      <td>0</td>\n",
       "      <td>0</td>\n",
       "      <td>0</td>\n",
       "      <td>0</td>\n",
       "      <td>0</td>\n",
       "      <td>1</td>\n",
       "    </tr>\n",
       "    <tr>\n",
       "      <th>2</th>\n",
       "      <td>3</td>\n",
       "      <td>1</td>\n",
       "      <td>3</td>\n",
       "      <td>26.000</td>\n",
       "      <td>0</td>\n",
       "      <td>0</td>\n",
       "      <td>7.925</td>\n",
       "      <td>0</td>\n",
       "      <td>0</td>\n",
       "      <td>1</td>\n",
       "      <td>0</td>\n",
       "      <td>1</td>\n",
       "      <td>0</td>\n",
       "      <td>0</td>\n",
       "    </tr>\n",
       "    <tr>\n",
       "      <th>3</th>\n",
       "      <td>4</td>\n",
       "      <td>1</td>\n",
       "      <td>1</td>\n",
       "      <td>35.000</td>\n",
       "      <td>1</td>\n",
       "      <td>0</td>\n",
       "      <td>53.100</td>\n",
       "      <td>0</td>\n",
       "      <td>0</td>\n",
       "      <td>1</td>\n",
       "      <td>0</td>\n",
       "      <td>0</td>\n",
       "      <td>0</td>\n",
       "      <td>1</td>\n",
       "    </tr>\n",
       "    <tr>\n",
       "      <th>4</th>\n",
       "      <td>5</td>\n",
       "      <td>0</td>\n",
       "      <td>3</td>\n",
       "      <td>35.000</td>\n",
       "      <td>0</td>\n",
       "      <td>0</td>\n",
       "      <td>8.050</td>\n",
       "      <td>1</td>\n",
       "      <td>0</td>\n",
       "      <td>1</td>\n",
       "      <td>0</td>\n",
       "      <td>0</td>\n",
       "      <td>1</td>\n",
       "      <td>0</td>\n",
       "    </tr>\n",
       "    <tr>\n",
       "      <th>...</th>\n",
       "      <td>...</td>\n",
       "      <td>...</td>\n",
       "      <td>...</td>\n",
       "      <td>...</td>\n",
       "      <td>...</td>\n",
       "      <td>...</td>\n",
       "      <td>...</td>\n",
       "      <td>...</td>\n",
       "      <td>...</td>\n",
       "      <td>...</td>\n",
       "      <td>...</td>\n",
       "      <td>...</td>\n",
       "      <td>...</td>\n",
       "      <td>...</td>\n",
       "    </tr>\n",
       "    <tr>\n",
       "      <th>885</th>\n",
       "      <td>886</td>\n",
       "      <td>0</td>\n",
       "      <td>3</td>\n",
       "      <td>39.000</td>\n",
       "      <td>0</td>\n",
       "      <td>5</td>\n",
       "      <td>29.125</td>\n",
       "      <td>0</td>\n",
       "      <td>1</td>\n",
       "      <td>0</td>\n",
       "      <td>0</td>\n",
       "      <td>0</td>\n",
       "      <td>0</td>\n",
       "      <td>1</td>\n",
       "    </tr>\n",
       "    <tr>\n",
       "      <th>886</th>\n",
       "      <td>887</td>\n",
       "      <td>0</td>\n",
       "      <td>2</td>\n",
       "      <td>27.000</td>\n",
       "      <td>0</td>\n",
       "      <td>0</td>\n",
       "      <td>13.000</td>\n",
       "      <td>1</td>\n",
       "      <td>0</td>\n",
       "      <td>1</td>\n",
       "      <td>0</td>\n",
       "      <td>0</td>\n",
       "      <td>0</td>\n",
       "      <td>0</td>\n",
       "    </tr>\n",
       "    <tr>\n",
       "      <th>887</th>\n",
       "      <td>888</td>\n",
       "      <td>1</td>\n",
       "      <td>1</td>\n",
       "      <td>19.000</td>\n",
       "      <td>0</td>\n",
       "      <td>0</td>\n",
       "      <td>30.000</td>\n",
       "      <td>0</td>\n",
       "      <td>0</td>\n",
       "      <td>1</td>\n",
       "      <td>0</td>\n",
       "      <td>1</td>\n",
       "      <td>0</td>\n",
       "      <td>0</td>\n",
       "    </tr>\n",
       "    <tr>\n",
       "      <th>889</th>\n",
       "      <td>890</td>\n",
       "      <td>1</td>\n",
       "      <td>1</td>\n",
       "      <td>26.000</td>\n",
       "      <td>0</td>\n",
       "      <td>0</td>\n",
       "      <td>30.000</td>\n",
       "      <td>1</td>\n",
       "      <td>0</td>\n",
       "      <td>0</td>\n",
       "      <td>0</td>\n",
       "      <td>0</td>\n",
       "      <td>1</td>\n",
       "      <td>0</td>\n",
       "    </tr>\n",
       "    <tr>\n",
       "      <th>890</th>\n",
       "      <td>891</td>\n",
       "      <td>0</td>\n",
       "      <td>3</td>\n",
       "      <td>32.000</td>\n",
       "      <td>0</td>\n",
       "      <td>0</td>\n",
       "      <td>7.750</td>\n",
       "      <td>1</td>\n",
       "      <td>1</td>\n",
       "      <td>0</td>\n",
       "      <td>0</td>\n",
       "      <td>0</td>\n",
       "      <td>1</td>\n",
       "      <td>0</td>\n",
       "    </tr>\n",
       "  </tbody>\n",
       "</table>\n",
       "<p>714 rows × 14 columns</p>\n",
       "</div>"
      ],
      "text/plain": [
       "     PassengerId  Survived  Pclass    Age  SibSp  Parch   Fare  male  \\\n",
       "0              1         0       3 22.000      1      0  7.250     1   \n",
       "1              2         1       1 38.000      1      0 71.283     0   \n",
       "2              3         1       3 26.000      0      0  7.925     0   \n",
       "3              4         1       1 35.000      1      0 53.100     0   \n",
       "4              5         0       3 35.000      0      0  8.050     1   \n",
       "..           ...       ...     ...    ...    ...    ...    ...   ...   \n",
       "885          886         0       3 39.000      0      5 29.125     0   \n",
       "886          887         0       2 27.000      0      0 13.000     1   \n",
       "887          888         1       1 19.000      0      0 30.000     0   \n",
       "889          890         1       1 26.000      0      0 30.000     1   \n",
       "890          891         0       3 32.000      0      0  7.750     1   \n",
       "\n",
       "     Embarked_Q  Embarked_S  master  miss  mr  mrs  \n",
       "0             0           1       0     0   1    0  \n",
       "1             0           0       0     0   0    1  \n",
       "2             0           1       0     1   0    0  \n",
       "3             0           1       0     0   0    1  \n",
       "4             0           1       0     0   1    0  \n",
       "..          ...         ...     ...   ...  ..  ...  \n",
       "885           1           0       0     0   0    1  \n",
       "886           0           1       0     0   0    0  \n",
       "887           0           1       0     1   0    0  \n",
       "889           0           0       0     0   1    0  \n",
       "890           1           0       0     0   1    0  \n",
       "\n",
       "[714 rows x 14 columns]"
      ]
     },
     "execution_count": 181,
     "metadata": {},
     "output_type": "execute_result"
    }
   ],
   "source": [
    "titanic_w_age"
   ]
  },
  {
   "cell_type": "markdown",
   "metadata": {},
   "source": [
    "#### ***Model - Pipeline***\n",
    "Meta model olarak dusunulebilecek pipeline sinifi ile modelleri test ederek en iyi performans veren modeli sececegiz."
   ]
  },
  {
   "cell_type": "code",
   "execution_count": 183,
   "metadata": {},
   "outputs": [],
   "source": [
    "# hedef degisken\n",
    "y = titanic_w_age['Age']\n",
    "# aciklayici degiskenler\n",
    "X = titanic_w_age.drop(['PassengerId', 'Age'], axis=1)"
   ]
  },
  {
   "cell_type": "code",
   "execution_count": 184,
   "metadata": {},
   "outputs": [
    {
     "name": "stdout",
     "output_type": "stream",
     "text": [
      "CPU times: user 5.91 ms, sys: 52 µs, total: 5.96 ms\n",
      "Wall time: 3.96 ms\n"
     ]
    }
   ],
   "source": [
    "%%time\n",
    "# egitim ve test kumesini ayirma\n",
    "X_train, X_test, y_train, y_test = train_test_split(X, y, test_size=0.2, random_state=0)"
   ]
  },
  {
   "cell_type": "code",
   "execution_count": 185,
   "metadata": {},
   "outputs": [
    {
     "name": "stdout",
     "output_type": "stream",
     "text": [
      "Best params: \n",
      "{'preprocessing': None, 'regressor': RandomForestRegressor(bootstrap=True, ccp_alpha=0.0, criterion='mse',\n",
      "                      max_depth=4, max_features='auto', max_leaf_nodes=None,\n",
      "                      max_samples=None, min_impurity_decrease=0.0,\n",
      "                      min_impurity_split=None, min_samples_leaf=1,\n",
      "                      min_samples_split=2, min_weight_fraction_leaf=0.0,\n",
      "                      n_estimators=100, n_jobs=None, oob_score=False,\n",
      "                      random_state=None, verbose=0, warm_start=False), 'regressor__max_depth': 4}\n",
      "\n",
      "Best cross-validation score: \n",
      "-10.94\n",
      "\n",
      "Test-set score: \n",
      "-11.19\n",
      "\n",
      "CPU times: user 51.2 s, sys: 870 ms, total: 52.1 s\n",
      "Wall time: 4min 34s\n"
     ]
    }
   ],
   "source": [
    "%%time\n",
    "# hucrenin calisma suresini tutacak\n",
    "\n",
    "# pipeline tanimla\n",
    "# ilk model knn ve preprocessing yapilmayacak \n",
    "pipe = Pipeline([('preprocessing', None), ('regressor', KNeighborsRegressor())])\n",
    "\n",
    "# aranacak model ve parametreleri belirle\n",
    "param_grid = [{'regressor': [KNeighborsRegressor()], 'preprocessing': [None],\n",
    "               'regressor__n_neighbors': np.arange(3,10),\n",
    "               'regressor__weights': ['uniform', 'distance']},\n",
    "              {'regressor': [LinearRegression()], 'preprocessing': [None]},\n",
    "              {'regressor': [Ridge()], 'preprocessing': [None],\n",
    "               'regressor__alpha': np.logspace(-3,3,7)},\n",
    "              {'regressor': [Lasso()], 'preprocessing': [None],\n",
    "               'regressor__alpha': np.logspace(-3,3,7)},\n",
    "              {'regressor': [DecisionTreeRegressor()], 'preprocessing': [None],\n",
    "               'regressor__max_depth': np.arange(3,10)},              \n",
    "              {'regressor': [RandomForestRegressor()], 'preprocessing': [None],\n",
    "               'regressor__max_depth': np.arange(3,10)},\n",
    "              {'regressor': [SVR()], 'preprocessing': [StandardScaler(), None],\n",
    "               'regressor__gamma': np.logspace(-3,2,6),\n",
    "               'regressor__C': np.logspace(-3,2,6)},\n",
    "              {'regressor': [SVR(kernel='linear')], 'preprocessing': [StandardScaler(), None],\n",
    "               'regressor__C': np.logspace(-3,2,6)},\n",
    "              {'regressor': [XGBRegressor()], 'preprocessing': [None],\n",
    "               'regressor__gamma': np.logspace(-3,2,6),\n",
    "               'regressor__reg_alpha': np.logspace(-3,2,6), \n",
    "               'regressor__reg_lambda': np.logspace(-3,2,6), \n",
    "               'regressor__max_depth': np.arange(3,10)},\n",
    "              {'regressor': [LGBMRegressor()], 'preprocessing': [None],\n",
    "               'regressor__reg_alpha': np.logspace(-3,2,6), \n",
    "               'regressor__reg_lambda': np.logspace(-3,2,6), \n",
    "               'regressor__max_depth': np.arange(3,10)}              \n",
    "             ]\n",
    "# gridsearch nesnesi tanimla\n",
    "grid = GridSearchCV(estimator=pipe, param_grid=param_grid, scoring=['neg_root_mean_squared_error','r2'], \n",
    "                    cv=7, n_jobs=-1, return_train_score=True, refit='neg_root_mean_squared_error')\n",
    "# modeli egit\n",
    "grid.fit(X_train, y_train)\n",
    "\n",
    "# sonuclar\n",
    "print(\"Best params: \\n{}\\n\".format(grid.best_params_))\n",
    "print(\"Best cross-validation score: \\n{:.2f}\\n\".format(grid.best_score_))\n",
    "print(\"Test-set score: \\n{:.2f}\\n\".format(grid.score(X_test, y_test)))\n"
   ]
  },
  {
   "cell_type": "code",
   "execution_count": 186,
   "metadata": {},
   "outputs": [
    {
     "data": {
      "text/html": [
       "<div>\n",
       "<style scoped>\n",
       "    .dataframe tbody tr th:only-of-type {\n",
       "        vertical-align: middle;\n",
       "    }\n",
       "\n",
       "    .dataframe tbody tr th {\n",
       "        vertical-align: top;\n",
       "    }\n",
       "\n",
       "    .dataframe thead th {\n",
       "        text-align: right;\n",
       "    }\n",
       "</style>\n",
       "<table border=\"1\" class=\"dataframe\">\n",
       "  <thead>\n",
       "    <tr style=\"text-align: right;\">\n",
       "      <th></th>\n",
       "      <th>mean_fit_time</th>\n",
       "      <th>std_fit_time</th>\n",
       "      <th>mean_score_time</th>\n",
       "      <th>std_score_time</th>\n",
       "      <th>param_preprocessing</th>\n",
       "      <th>param_regressor</th>\n",
       "      <th>param_regressor__n_neighbors</th>\n",
       "      <th>param_regressor__weights</th>\n",
       "      <th>param_regressor__alpha</th>\n",
       "      <th>param_regressor__max_depth</th>\n",
       "      <th>param_regressor__C</th>\n",
       "      <th>param_regressor__gamma</th>\n",
       "      <th>param_regressor__reg_alpha</th>\n",
       "      <th>param_regressor__reg_lambda</th>\n",
       "      <th>params</th>\n",
       "      <th>split0_test_neg_root_mean_squared_error</th>\n",
       "      <th>split1_test_neg_root_mean_squared_error</th>\n",
       "      <th>split2_test_neg_root_mean_squared_error</th>\n",
       "      <th>split3_test_neg_root_mean_squared_error</th>\n",
       "      <th>split4_test_neg_root_mean_squared_error</th>\n",
       "      <th>split5_test_neg_root_mean_squared_error</th>\n",
       "      <th>split6_test_neg_root_mean_squared_error</th>\n",
       "      <th>mean_test_neg_root_mean_squared_error</th>\n",
       "      <th>std_test_neg_root_mean_squared_error</th>\n",
       "      <th>rank_test_neg_root_mean_squared_error</th>\n",
       "      <th>split0_train_neg_root_mean_squared_error</th>\n",
       "      <th>split1_train_neg_root_mean_squared_error</th>\n",
       "      <th>split2_train_neg_root_mean_squared_error</th>\n",
       "      <th>split3_train_neg_root_mean_squared_error</th>\n",
       "      <th>split4_train_neg_root_mean_squared_error</th>\n",
       "      <th>split5_train_neg_root_mean_squared_error</th>\n",
       "      <th>split6_train_neg_root_mean_squared_error</th>\n",
       "      <th>mean_train_neg_root_mean_squared_error</th>\n",
       "      <th>std_train_neg_root_mean_squared_error</th>\n",
       "      <th>split0_test_r2</th>\n",
       "      <th>split1_test_r2</th>\n",
       "      <th>split2_test_r2</th>\n",
       "      <th>split3_test_r2</th>\n",
       "      <th>split4_test_r2</th>\n",
       "      <th>split5_test_r2</th>\n",
       "      <th>split6_test_r2</th>\n",
       "      <th>mean_test_r2</th>\n",
       "      <th>std_test_r2</th>\n",
       "      <th>rank_test_r2</th>\n",
       "      <th>split0_train_r2</th>\n",
       "      <th>split1_train_r2</th>\n",
       "      <th>split2_train_r2</th>\n",
       "      <th>split3_train_r2</th>\n",
       "      <th>split4_train_r2</th>\n",
       "      <th>split5_train_r2</th>\n",
       "      <th>split6_train_r2</th>\n",
       "      <th>mean_train_r2</th>\n",
       "      <th>std_train_r2</th>\n",
       "    </tr>\n",
       "  </thead>\n",
       "  <tbody>\n",
       "    <tr>\n",
       "      <th>0</th>\n",
       "      <td>0.012</td>\n",
       "      <td>0.009</td>\n",
       "      <td>0.005</td>\n",
       "      <td>0.001</td>\n",
       "      <td>None</td>\n",
       "      <td>KNeighborsRegressor(algorithm='auto', leaf_size=30, metric='minkowski',\\n                    met...</td>\n",
       "      <td>3</td>\n",
       "      <td>uniform</td>\n",
       "      <td>NaN</td>\n",
       "      <td>NaN</td>\n",
       "      <td>NaN</td>\n",
       "      <td>NaN</td>\n",
       "      <td>NaN</td>\n",
       "      <td>NaN</td>\n",
       "      <td>{'preprocessing': None, 'regressor': KNeighborsRegressor(algorithm='auto', leaf_size=30, metric=...</td>\n",
       "      <td>-13.495</td>\n",
       "      <td>-12.357</td>\n",
       "      <td>-14.125</td>\n",
       "      <td>-13.241</td>\n",
       "      <td>-13.694</td>\n",
       "      <td>-12.918</td>\n",
       "      <td>-13.418</td>\n",
       "      <td>-13.321</td>\n",
       "      <td>0.524</td>\n",
       "      <td>1829</td>\n",
       "      <td>-10.247</td>\n",
       "      <td>-10.193</td>\n",
       "      <td>-9.977</td>\n",
       "      <td>-10.370</td>\n",
       "      <td>-10.154</td>\n",
       "      <td>-9.899</td>\n",
       "      <td>-10.102</td>\n",
       "      <td>-10.135</td>\n",
       "      <td>0.148</td>\n",
       "      <td>0.122</td>\n",
       "      <td>0.161</td>\n",
       "      <td>0.027</td>\n",
       "      <td>0.057</td>\n",
       "      <td>0.244</td>\n",
       "      <td>0.147</td>\n",
       "      <td>0.238</td>\n",
       "      <td>0.142</td>\n",
       "      <td>0.076</td>\n",
       "      <td>1822</td>\n",
       "      <td>0.500</td>\n",
       "      <td>0.514</td>\n",
       "      <td>0.527</td>\n",
       "      <td>0.497</td>\n",
       "      <td>0.494</td>\n",
       "      <td>0.538</td>\n",
       "      <td>0.502</td>\n",
       "      <td>0.510</td>\n",
       "      <td>0.016</td>\n",
       "    </tr>\n",
       "  </tbody>\n",
       "</table>\n",
       "</div>"
      ],
      "text/plain": [
       "   mean_fit_time  std_fit_time  mean_score_time  std_score_time  \\\n",
       "0          0.012         0.009            0.005           0.001   \n",
       "\n",
       "  param_preprocessing  \\\n",
       "0                None   \n",
       "\n",
       "                                                                                       param_regressor  \\\n",
       "0  KNeighborsRegressor(algorithm='auto', leaf_size=30, metric='minkowski',\\n                    met...   \n",
       "\n",
       "  param_regressor__n_neighbors param_regressor__weights  \\\n",
       "0                            3                  uniform   \n",
       "\n",
       "  param_regressor__alpha param_regressor__max_depth param_regressor__C  \\\n",
       "0                    NaN                        NaN                NaN   \n",
       "\n",
       "  param_regressor__gamma param_regressor__reg_alpha  \\\n",
       "0                    NaN                        NaN   \n",
       "\n",
       "  param_regressor__reg_lambda  \\\n",
       "0                         NaN   \n",
       "\n",
       "                                                                                                params  \\\n",
       "0  {'preprocessing': None, 'regressor': KNeighborsRegressor(algorithm='auto', leaf_size=30, metric=...   \n",
       "\n",
       "   split0_test_neg_root_mean_squared_error  \\\n",
       "0                                  -13.495   \n",
       "\n",
       "   split1_test_neg_root_mean_squared_error  \\\n",
       "0                                  -12.357   \n",
       "\n",
       "   split2_test_neg_root_mean_squared_error  \\\n",
       "0                                  -14.125   \n",
       "\n",
       "   split3_test_neg_root_mean_squared_error  \\\n",
       "0                                  -13.241   \n",
       "\n",
       "   split4_test_neg_root_mean_squared_error  \\\n",
       "0                                  -13.694   \n",
       "\n",
       "   split5_test_neg_root_mean_squared_error  \\\n",
       "0                                  -12.918   \n",
       "\n",
       "   split6_test_neg_root_mean_squared_error  \\\n",
       "0                                  -13.418   \n",
       "\n",
       "   mean_test_neg_root_mean_squared_error  \\\n",
       "0                                -13.321   \n",
       "\n",
       "   std_test_neg_root_mean_squared_error  \\\n",
       "0                                 0.524   \n",
       "\n",
       "   rank_test_neg_root_mean_squared_error  \\\n",
       "0                                   1829   \n",
       "\n",
       "   split0_train_neg_root_mean_squared_error  \\\n",
       "0                                   -10.247   \n",
       "\n",
       "   split1_train_neg_root_mean_squared_error  \\\n",
       "0                                   -10.193   \n",
       "\n",
       "   split2_train_neg_root_mean_squared_error  \\\n",
       "0                                    -9.977   \n",
       "\n",
       "   split3_train_neg_root_mean_squared_error  \\\n",
       "0                                   -10.370   \n",
       "\n",
       "   split4_train_neg_root_mean_squared_error  \\\n",
       "0                                   -10.154   \n",
       "\n",
       "   split5_train_neg_root_mean_squared_error  \\\n",
       "0                                    -9.899   \n",
       "\n",
       "   split6_train_neg_root_mean_squared_error  \\\n",
       "0                                   -10.102   \n",
       "\n",
       "   mean_train_neg_root_mean_squared_error  \\\n",
       "0                                 -10.135   \n",
       "\n",
       "   std_train_neg_root_mean_squared_error  split0_test_r2  split1_test_r2  \\\n",
       "0                                  0.148           0.122           0.161   \n",
       "\n",
       "   split2_test_r2  split3_test_r2  split4_test_r2  split5_test_r2  \\\n",
       "0           0.027           0.057           0.244           0.147   \n",
       "\n",
       "   split6_test_r2  mean_test_r2  std_test_r2  rank_test_r2  split0_train_r2  \\\n",
       "0           0.238         0.142        0.076          1822            0.500   \n",
       "\n",
       "   split1_train_r2  split2_train_r2  split3_train_r2  split4_train_r2  \\\n",
       "0            0.514            0.527            0.497            0.494   \n",
       "\n",
       "   split5_train_r2  split6_train_r2  mean_train_r2  std_train_r2  \n",
       "0            0.538            0.502          0.510         0.016  "
      ]
     },
     "execution_count": 186,
     "metadata": {},
     "output_type": "execute_result"
    }
   ],
   "source": [
    "# sonuclari df olarak kaydet\n",
    "grid_df = pd.DataFrame(grid.cv_results_)\n",
    "grid_df.head(1)"
   ]
  },
  {
   "cell_type": "code",
   "execution_count": 187,
   "metadata": {},
   "outputs": [
    {
     "data": {
      "text/html": [
       "<div>\n",
       "<style scoped>\n",
       "    .dataframe tbody tr th:only-of-type {\n",
       "        vertical-align: middle;\n",
       "    }\n",
       "\n",
       "    .dataframe tbody tr th {\n",
       "        vertical-align: top;\n",
       "    }\n",
       "\n",
       "    .dataframe thead th {\n",
       "        text-align: right;\n",
       "    }\n",
       "</style>\n",
       "<table border=\"1\" class=\"dataframe\">\n",
       "  <thead>\n",
       "    <tr style=\"text-align: right;\">\n",
       "      <th></th>\n",
       "      <th>param_regressor</th>\n",
       "      <th>mean_train_neg_root_mean_squared_error</th>\n",
       "      <th>mean_test_neg_root_mean_squared_error</th>\n",
       "      <th>mean_train_r2</th>\n",
       "      <th>mean_test_r2</th>\n",
       "    </tr>\n",
       "  </thead>\n",
       "  <tbody>\n",
       "    <tr>\n",
       "      <th>37</th>\n",
       "      <td>RandomForestRegressor(bootstrap=True, ccp_alpha=0.0, criterion='mse',\\n                      max...</td>\n",
       "      <td>-10.337</td>\n",
       "      <td>-10.935</td>\n",
       "      <td>0.491</td>\n",
       "      <td>0.422</td>\n",
       "    </tr>\n",
       "    <tr>\n",
       "      <th>1691</th>\n",
       "      <td>LGBMRegressor(boosting_type='gbdt', class_weight=None, colsample_bytree=1.0,\\n              impo...</td>\n",
       "      <td>-9.514</td>\n",
       "      <td>-10.936</td>\n",
       "      <td>0.569</td>\n",
       "      <td>0.423</td>\n",
       "    </tr>\n",
       "    <tr>\n",
       "      <th>1685</th>\n",
       "      <td>LGBMRegressor(boosting_type='gbdt', class_weight=None, colsample_bytree=1.0,\\n              impo...</td>\n",
       "      <td>-9.513</td>\n",
       "      <td>-10.944</td>\n",
       "      <td>0.569</td>\n",
       "      <td>0.422</td>\n",
       "    </tr>\n",
       "    <tr>\n",
       "      <th>1679</th>\n",
       "      <td>LGBMRegressor(boosting_type='gbdt', class_weight=None, colsample_bytree=1.0,\\n              impo...</td>\n",
       "      <td>-9.513</td>\n",
       "      <td>-10.946</td>\n",
       "      <td>0.569</td>\n",
       "      <td>0.422</td>\n",
       "    </tr>\n",
       "    <tr>\n",
       "      <th>1672</th>\n",
       "      <td>LGBMRegressor(boosting_type='gbdt', class_weight=None, colsample_bytree=1.0,\\n              impo...</td>\n",
       "      <td>-10.506</td>\n",
       "      <td>-10.951</td>\n",
       "      <td>0.474</td>\n",
       "      <td>0.421</td>\n",
       "    </tr>\n",
       "    <tr>\n",
       "      <th>1703</th>\n",
       "      <td>LGBMRegressor(boosting_type='gbdt', class_weight=None, colsample_bytree=1.0,\\n              impo...</td>\n",
       "      <td>-9.578</td>\n",
       "      <td>-10.957</td>\n",
       "      <td>0.563</td>\n",
       "      <td>0.421</td>\n",
       "    </tr>\n",
       "    <tr>\n",
       "      <th>1671</th>\n",
       "      <td>LGBMRegressor(boosting_type='gbdt', class_weight=None, colsample_bytree=1.0,\\n              impo...</td>\n",
       "      <td>-10.511</td>\n",
       "      <td>-10.960</td>\n",
       "      <td>0.473</td>\n",
       "      <td>0.420</td>\n",
       "    </tr>\n",
       "    <tr>\n",
       "      <th>1669</th>\n",
       "      <td>LGBMRegressor(boosting_type='gbdt', class_weight=None, colsample_bytree=1.0,\\n              impo...</td>\n",
       "      <td>-10.514</td>\n",
       "      <td>-10.961</td>\n",
       "      <td>0.473</td>\n",
       "      <td>0.420</td>\n",
       "    </tr>\n",
       "    <tr>\n",
       "      <th>1670</th>\n",
       "      <td>LGBMRegressor(boosting_type='gbdt', class_weight=None, colsample_bytree=1.0,\\n              impo...</td>\n",
       "      <td>-10.514</td>\n",
       "      <td>-10.961</td>\n",
       "      <td>0.473</td>\n",
       "      <td>0.420</td>\n",
       "    </tr>\n",
       "    <tr>\n",
       "      <th>1739</th>\n",
       "      <td>LGBMRegressor(boosting_type='gbdt', class_weight=None, colsample_bytree=1.0,\\n              impo...</td>\n",
       "      <td>-9.366</td>\n",
       "      <td>-10.964</td>\n",
       "      <td>0.582</td>\n",
       "      <td>0.420</td>\n",
       "    </tr>\n",
       "    <tr>\n",
       "      <th>949</th>\n",
       "      <td>XGBRegressor(base_score=None, booster=None, colsample_bylevel=None,\\n             colsample_byno...</td>\n",
       "      <td>-9.974</td>\n",
       "      <td>-10.972</td>\n",
       "      <td>0.526</td>\n",
       "      <td>0.418</td>\n",
       "    </tr>\n",
       "    <tr>\n",
       "      <th>1779</th>\n",
       "      <td>LGBMRegressor(boosting_type='gbdt', class_weight=None, colsample_bytree=1.0,\\n              impo...</td>\n",
       "      <td>-10.372</td>\n",
       "      <td>-10.979</td>\n",
       "      <td>0.487</td>\n",
       "      <td>0.419</td>\n",
       "    </tr>\n",
       "  </tbody>\n",
       "</table>\n",
       "</div>"
      ],
      "text/plain": [
       "                                                                                          param_regressor  \\\n",
       "37    RandomForestRegressor(bootstrap=True, ccp_alpha=0.0, criterion='mse',\\n                      max...   \n",
       "1691  LGBMRegressor(boosting_type='gbdt', class_weight=None, colsample_bytree=1.0,\\n              impo...   \n",
       "1685  LGBMRegressor(boosting_type='gbdt', class_weight=None, colsample_bytree=1.0,\\n              impo...   \n",
       "1679  LGBMRegressor(boosting_type='gbdt', class_weight=None, colsample_bytree=1.0,\\n              impo...   \n",
       "1672  LGBMRegressor(boosting_type='gbdt', class_weight=None, colsample_bytree=1.0,\\n              impo...   \n",
       "1703  LGBMRegressor(boosting_type='gbdt', class_weight=None, colsample_bytree=1.0,\\n              impo...   \n",
       "1671  LGBMRegressor(boosting_type='gbdt', class_weight=None, colsample_bytree=1.0,\\n              impo...   \n",
       "1669  LGBMRegressor(boosting_type='gbdt', class_weight=None, colsample_bytree=1.0,\\n              impo...   \n",
       "1670  LGBMRegressor(boosting_type='gbdt', class_weight=None, colsample_bytree=1.0,\\n              impo...   \n",
       "1739  LGBMRegressor(boosting_type='gbdt', class_weight=None, colsample_bytree=1.0,\\n              impo...   \n",
       "949   XGBRegressor(base_score=None, booster=None, colsample_bylevel=None,\\n             colsample_byno...   \n",
       "1779  LGBMRegressor(boosting_type='gbdt', class_weight=None, colsample_bytree=1.0,\\n              impo...   \n",
       "\n",
       "      mean_train_neg_root_mean_squared_error  \\\n",
       "37                                   -10.337   \n",
       "1691                                  -9.514   \n",
       "1685                                  -9.513   \n",
       "1679                                  -9.513   \n",
       "1672                                 -10.506   \n",
       "1703                                  -9.578   \n",
       "1671                                 -10.511   \n",
       "1669                                 -10.514   \n",
       "1670                                 -10.514   \n",
       "1739                                  -9.366   \n",
       "949                                   -9.974   \n",
       "1779                                 -10.372   \n",
       "\n",
       "      mean_test_neg_root_mean_squared_error  mean_train_r2  mean_test_r2  \n",
       "37                                  -10.935          0.491         0.422  \n",
       "1691                                -10.936          0.569         0.423  \n",
       "1685                                -10.944          0.569         0.422  \n",
       "1679                                -10.946          0.569         0.422  \n",
       "1672                                -10.951          0.474         0.421  \n",
       "1703                                -10.957          0.563         0.421  \n",
       "1671                                -10.960          0.473         0.420  \n",
       "1669                                -10.961          0.473         0.420  \n",
       "1670                                -10.961          0.473         0.420  \n",
       "1739                                -10.964          0.582         0.420  \n",
       "949                                 -10.972          0.526         0.418  \n",
       "1779                                -10.979          0.487         0.419  "
      ]
     },
     "execution_count": 187,
     "metadata": {},
     "output_type": "execute_result"
    }
   ],
   "source": [
    "# sirala\n",
    "grid_df = grid_df.sort_values(by='mean_test_neg_root_mean_squared_error', ascending=False)\n",
    "# ilk siradakileri goster\n",
    "grid_df.loc[:,['param_regressor','mean_train_neg_root_mean_squared_error',\n",
    "               'mean_test_neg_root_mean_squared_error','mean_train_r2','mean_test_r2']].head(12)"
   ]
  },
  {
   "cell_type": "code",
   "execution_count": 188,
   "metadata": {},
   "outputs": [
    {
     "name": "stdout",
     "output_type": "stream",
     "text": [
      "rmse : 11.15\n"
     ]
    }
   ],
   "source": [
    "# secilen modeli olustur ve test et\n",
    "lgbm_reg = LGBMRegressor(max_depth=4, reg_alpha=0.1, reg_lambda=10)\n",
    "lgbm_reg.fit(X_train, y_train)\n",
    "y_pred = lgbm_reg.predict(X_test)\n",
    "# degerleri yuvarla\n",
    "y_pred = np.around(y_pred)\n",
    "print('rmse : {:.2f}'.format(np.sqrt(mean_squared_error(y_test, y_pred))))"
   ]
  },
  {
   "cell_type": "code",
   "execution_count": 189,
   "metadata": {},
   "outputs": [
    {
     "data": {
      "text/plain": [
       "array([32.89591762, 31.29562167, 27.12868865, 28.51492777, 20.68348996,\n",
       "       28.75733132, 35.27054275, 24.81742161, 21.22301958, 28.4411498 ])"
      ]
     },
     "execution_count": 189,
     "metadata": {},
     "output_type": "execute_result"
    }
   ],
   "source": [
    "# secilen modeli butun veriyle egitip tahmin degerleri ile eksik degerleri doldur\n",
    "lgbm_reg = LGBMRegressor(max_depth=4, reg_alpha=0.1, reg_lambda=10)\n",
    "lgbm_reg.fit(X, y)\n",
    "# eksik degerlerin aciklayici degiskenler bolumu\n",
    "X_fill = titanic_no_age.drop(['PassengerId', 'Age'], axis=1)\n",
    "# eksik degerleri  tahmin ile doldur\n",
    "predicted_age = lgbm_reg.predict(X_fill)\n",
    "# degerleri incele\n",
    "predicted_age[:10]"
   ]
  },
  {
   "cell_type": "code",
   "execution_count": 190,
   "metadata": {},
   "outputs": [],
   "source": [
    "# degerleri yuvarlayarak doldur\n",
    "titanic_no_age['Age'] = np.around(predicted_age)"
   ]
  },
  {
   "cell_type": "code",
   "execution_count": 191,
   "metadata": {},
   "outputs": [],
   "source": [
    "# ayirdigimiz dfleri birlestir\n",
    "titanic = pd.concat([titanic_w_age, titanic_no_age])"
   ]
  },
  {
   "cell_type": "code",
   "execution_count": 192,
   "metadata": {},
   "outputs": [],
   "source": [
    "# sirala\n",
    "titanic = titanic.sort_values(by='PassengerId')"
   ]
  },
  {
   "cell_type": "code",
   "execution_count": 193,
   "metadata": {},
   "outputs": [
    {
     "name": "stdout",
     "output_type": "stream",
     "text": [
      "<class 'pandas.core.frame.DataFrame'>\n",
      "Int64Index: 891 entries, 0 to 890\n",
      "Data columns (total 14 columns):\n",
      " #   Column       Non-Null Count  Dtype  \n",
      "---  ------       --------------  -----  \n",
      " 0   PassengerId  891 non-null    int64  \n",
      " 1   Survived     891 non-null    int64  \n",
      " 2   Pclass       891 non-null    int64  \n",
      " 3   Age          891 non-null    float64\n",
      " 4   SibSp        891 non-null    int64  \n",
      " 5   Parch        891 non-null    int64  \n",
      " 6   Fare         891 non-null    float64\n",
      " 7   male         891 non-null    uint8  \n",
      " 8   Embarked_Q   891 non-null    uint8  \n",
      " 9   Embarked_S   891 non-null    uint8  \n",
      " 10  master       891 non-null    uint8  \n",
      " 11  miss         891 non-null    uint8  \n",
      " 12  mr           891 non-null    uint8  \n",
      " 13  mrs          891 non-null    uint8  \n",
      "dtypes: float64(2), int64(5), uint8(7)\n",
      "memory usage: 61.8 KB\n"
     ]
    }
   ],
   "source": [
    "titanic.info()"
   ]
  },
  {
   "cell_type": "markdown",
   "metadata": {},
   "source": [
    "---\n",
    "### ***Kurtulma Tahmin Modeli - Pipeline***\n",
    "Meta model olarak dusunulebilecek pipeline sinifi ile modelleri test ederek en iyi performans veren modeli sececegiz."
   ]
  },
  {
   "cell_type": "code",
   "execution_count": 194,
   "metadata": {},
   "outputs": [],
   "source": [
    "# hedef degisken\n",
    "y = titanic['Survived']\n",
    "# aciklayici degiskenler\n",
    "X = titanic.drop(['PassengerId', 'Survived'], axis=1)"
   ]
  },
  {
   "cell_type": "code",
   "execution_count": 195,
   "metadata": {},
   "outputs": [],
   "source": [
    "# egitim ve test kumesini ayirma\n",
    "X_train, X_test, y_train, y_test = train_test_split(X, y, test_size=0.2, random_state=0)"
   ]
  },
  {
   "cell_type": "code",
   "execution_count": 196,
   "metadata": {},
   "outputs": [
    {
     "name": "stdout",
     "output_type": "stream",
     "text": [
      "Best params: \n",
      "{'classifier': XGBClassifier(base_score=None, booster=None, colsample_bylevel=None,\n",
      "              colsample_bynode=None, colsample_bytree=None, gamma=0.01,\n",
      "              gpu_id=None, importance_type='gain', interaction_constraints=None,\n",
      "              learning_rate=None, max_delta_step=None, max_depth=5,\n",
      "              min_child_weight=None, missing=nan, monotone_constraints=None,\n",
      "              n_estimators=100, n_jobs=None, num_parallel_tree=None,\n",
      "              objective='binary:logistic', random_state=None, reg_alpha=1.0,\n",
      "              reg_lambda=1.0, scale_pos_weight=None, subsample=None,\n",
      "              tree_method=None, validate_parameters=False, verbosity=None), 'classifier__gamma': 0.01, 'classifier__max_depth': 5, 'classifier__reg_alpha': 1.0, 'classifier__reg_lambda': 1.0, 'preprocessing': None}\n",
      "\n",
      "Best cross-validation score: \n",
      "0.89\n",
      "\n",
      "Test-set score: \n",
      "0.92\n",
      "\n",
      "CPU times: user 1min 19s, sys: 1.21 s, total: 1min 20s\n",
      "Wall time: 6min 31s\n"
     ]
    }
   ],
   "source": [
    "%%time\n",
    "# hucrenin calisma suresini tutacak\n",
    "\n",
    "# pipeline tanimla\n",
    "# ilk model knn ve preprocessing dahil tanimlandi \n",
    "pipe = Pipeline([('preprocessing', None), \n",
    "                 ('classifier', KNeighborsClassifier())])\n",
    "\n",
    "# aranacak model ve parametreleri belirle\n",
    "param_grid = [{'classifier': [KNeighborsClassifier()], 'preprocessing': [None],\n",
    "               'classifier__n_neighbors': np.arange(3,10),\n",
    "               'classifier__weights': ['uniform', 'distance']},\n",
    "              {'classifier': [LogisticRegression()], 'preprocessing': [None],\n",
    "               'classifier__C': np.logspace(-3,2,6)},\n",
    "              {'classifier': [LogisticRegression(solver='liblinear')], 'preprocessing': [None],\n",
    "               'classifier__penalty': ['l1', 'l2'],\n",
    "               'classifier__C': np.logspace(-3,2,6)},\n",
    "              {'classifier': [DecisionTreeClassifier()], 'preprocessing': [None],\n",
    "               'classifier__max_depth': np.arange(3,10)},\n",
    "              {'classifier': [RandomForestClassifier()], 'preprocessing': [None],\n",
    "               'classifier__max_depth': np.arange(3,10)},\n",
    "              {'classifier': [SVC()], 'preprocessing': [StandardScaler(), None],\n",
    "               'classifier__gamma': np.logspace(-3,2,6),\n",
    "               'classifier__C': np.logspace(-3,2,6)},\n",
    "              {'classifier': [SVC(kernel='linear')], 'preprocessing': [StandardScaler(), None],\n",
    "               'classifier__C': np.logspace(-3,2,6)},\n",
    "              {'classifier': [XGBClassifier()], 'preprocessing': [None],\n",
    "               'classifier__gamma': np.logspace(-3,2,6),\n",
    "               'classifier__reg_alpha': np.logspace(-3,2,6), \n",
    "               'classifier__reg_lambda': np.logspace(-3,2,6), \n",
    "               'classifier__max_depth': np.arange(3,10)},\n",
    "              {'classifier': [LGBMClassifier()], 'preprocessing': [None],\n",
    "               'classifier__reg_alpha': np.logspace(-3,2,6), \n",
    "               'classifier__reg_lambda': np.logspace(-3,2,6), \n",
    "               'classifier__max_depth': np.arange(3,10)}\n",
    "             ]\n",
    "# gridsearch nesnesi tanimla\n",
    "grid_survive = GridSearchCV(estimator=pipe, param_grid=param_grid, scoring=['roc_auc','f1'], \n",
    "                            cv=7, n_jobs=-1, return_train_score=True, refit='roc_auc')\n",
    "# modeli egit\n",
    "grid_survive.fit(X_train, y_train)\n",
    "\n",
    "# sonuclar\n",
    "print(\"Best params: \\n{}\\n\".format(grid_survive.best_params_))\n",
    "print(\"Best cross-validation score: \\n{:.2f}\\n\".format(grid_survive.best_score_))\n",
    "print(\"Test-set score: \\n{:.2f}\\n\".format(grid_survive.score(X_test, y_test)))\n"
   ]
  },
  {
   "cell_type": "code",
   "execution_count": 197,
   "metadata": {},
   "outputs": [
    {
     "data": {
      "text/html": [
       "<div>\n",
       "<style scoped>\n",
       "    .dataframe tbody tr th:only-of-type {\n",
       "        vertical-align: middle;\n",
       "    }\n",
       "\n",
       "    .dataframe tbody tr th {\n",
       "        vertical-align: top;\n",
       "    }\n",
       "\n",
       "    .dataframe thead th {\n",
       "        text-align: right;\n",
       "    }\n",
       "</style>\n",
       "<table border=\"1\" class=\"dataframe\">\n",
       "  <thead>\n",
       "    <tr style=\"text-align: right;\">\n",
       "      <th></th>\n",
       "      <th>mean_fit_time</th>\n",
       "      <th>std_fit_time</th>\n",
       "      <th>mean_score_time</th>\n",
       "      <th>std_score_time</th>\n",
       "      <th>param_classifier</th>\n",
       "      <th>param_classifier__n_neighbors</th>\n",
       "      <th>param_classifier__weights</th>\n",
       "      <th>param_preprocessing</th>\n",
       "      <th>param_classifier__C</th>\n",
       "      <th>param_classifier__penalty</th>\n",
       "      <th>param_classifier__max_depth</th>\n",
       "      <th>param_classifier__gamma</th>\n",
       "      <th>param_classifier__reg_alpha</th>\n",
       "      <th>param_classifier__reg_lambda</th>\n",
       "      <th>params</th>\n",
       "      <th>split0_test_roc_auc</th>\n",
       "      <th>split1_test_roc_auc</th>\n",
       "      <th>split2_test_roc_auc</th>\n",
       "      <th>split3_test_roc_auc</th>\n",
       "      <th>split4_test_roc_auc</th>\n",
       "      <th>split5_test_roc_auc</th>\n",
       "      <th>split6_test_roc_auc</th>\n",
       "      <th>mean_test_roc_auc</th>\n",
       "      <th>std_test_roc_auc</th>\n",
       "      <th>rank_test_roc_auc</th>\n",
       "      <th>split0_train_roc_auc</th>\n",
       "      <th>split1_train_roc_auc</th>\n",
       "      <th>split2_train_roc_auc</th>\n",
       "      <th>split3_train_roc_auc</th>\n",
       "      <th>split4_train_roc_auc</th>\n",
       "      <th>split5_train_roc_auc</th>\n",
       "      <th>split6_train_roc_auc</th>\n",
       "      <th>mean_train_roc_auc</th>\n",
       "      <th>std_train_roc_auc</th>\n",
       "      <th>split0_test_f1</th>\n",
       "      <th>split1_test_f1</th>\n",
       "      <th>split2_test_f1</th>\n",
       "      <th>split3_test_f1</th>\n",
       "      <th>split4_test_f1</th>\n",
       "      <th>split5_test_f1</th>\n",
       "      <th>split6_test_f1</th>\n",
       "      <th>mean_test_f1</th>\n",
       "      <th>std_test_f1</th>\n",
       "      <th>rank_test_f1</th>\n",
       "      <th>split0_train_f1</th>\n",
       "      <th>split1_train_f1</th>\n",
       "      <th>split2_train_f1</th>\n",
       "      <th>split3_train_f1</th>\n",
       "      <th>split4_train_f1</th>\n",
       "      <th>split5_train_f1</th>\n",
       "      <th>split6_train_f1</th>\n",
       "      <th>mean_train_f1</th>\n",
       "      <th>std_train_f1</th>\n",
       "    </tr>\n",
       "  </thead>\n",
       "  <tbody>\n",
       "    <tr>\n",
       "      <th>0</th>\n",
       "      <td>0.005</td>\n",
       "      <td>0.001</td>\n",
       "      <td>0.016</td>\n",
       "      <td>0.001</td>\n",
       "      <td>KNeighborsClassifier(algorithm='auto', leaf_size=30, metric='minkowski',\\n                     m...</td>\n",
       "      <td>3</td>\n",
       "      <td>uniform</td>\n",
       "      <td>None</td>\n",
       "      <td>NaN</td>\n",
       "      <td>NaN</td>\n",
       "      <td>NaN</td>\n",
       "      <td>NaN</td>\n",
       "      <td>NaN</td>\n",
       "      <td>NaN</td>\n",
       "      <td>{'classifier': KNeighborsClassifier(algorithm='auto', leaf_size=30, metric='minkowski',\n",
       "        ...</td>\n",
       "      <td>0.729</td>\n",
       "      <td>0.699</td>\n",
       "      <td>0.779</td>\n",
       "      <td>0.668</td>\n",
       "      <td>0.758</td>\n",
       "      <td>0.748</td>\n",
       "      <td>0.783</td>\n",
       "      <td>0.737</td>\n",
       "      <td>0.039</td>\n",
       "      <td>1755</td>\n",
       "      <td>0.921</td>\n",
       "      <td>0.922</td>\n",
       "      <td>0.913</td>\n",
       "      <td>0.920</td>\n",
       "      <td>0.913</td>\n",
       "      <td>0.917</td>\n",
       "      <td>0.915</td>\n",
       "      <td>0.917</td>\n",
       "      <td>0.004</td>\n",
       "      <td>0.575</td>\n",
       "      <td>0.580</td>\n",
       "      <td>0.611</td>\n",
       "      <td>0.533</td>\n",
       "      <td>0.613</td>\n",
       "      <td>0.613</td>\n",
       "      <td>0.650</td>\n",
       "      <td>0.597</td>\n",
       "      <td>0.035</td>\n",
       "      <td>1326</td>\n",
       "      <td>0.776</td>\n",
       "      <td>0.785</td>\n",
       "      <td>0.763</td>\n",
       "      <td>0.777</td>\n",
       "      <td>0.761</td>\n",
       "      <td>0.769</td>\n",
       "      <td>0.774</td>\n",
       "      <td>0.772</td>\n",
       "      <td>0.008</td>\n",
       "    </tr>\n",
       "  </tbody>\n",
       "</table>\n",
       "</div>"
      ],
      "text/plain": [
       "   mean_fit_time  std_fit_time  mean_score_time  std_score_time  \\\n",
       "0          0.005         0.001            0.016           0.001   \n",
       "\n",
       "                                                                                      param_classifier  \\\n",
       "0  KNeighborsClassifier(algorithm='auto', leaf_size=30, metric='minkowski',\\n                     m...   \n",
       "\n",
       "  param_classifier__n_neighbors param_classifier__weights param_preprocessing  \\\n",
       "0                             3                   uniform                None   \n",
       "\n",
       "  param_classifier__C param_classifier__penalty param_classifier__max_depth  \\\n",
       "0                 NaN                       NaN                         NaN   \n",
       "\n",
       "  param_classifier__gamma param_classifier__reg_alpha  \\\n",
       "0                     NaN                         NaN   \n",
       "\n",
       "  param_classifier__reg_lambda  \\\n",
       "0                          NaN   \n",
       "\n",
       "                                                                                                params  \\\n",
       "0  {'classifier': KNeighborsClassifier(algorithm='auto', leaf_size=30, metric='minkowski',\n",
       "        ...   \n",
       "\n",
       "   split0_test_roc_auc  split1_test_roc_auc  split2_test_roc_auc  \\\n",
       "0                0.729                0.699                0.779   \n",
       "\n",
       "   split3_test_roc_auc  split4_test_roc_auc  split5_test_roc_auc  \\\n",
       "0                0.668                0.758                0.748   \n",
       "\n",
       "   split6_test_roc_auc  mean_test_roc_auc  std_test_roc_auc  \\\n",
       "0                0.783              0.737             0.039   \n",
       "\n",
       "   rank_test_roc_auc  split0_train_roc_auc  split1_train_roc_auc  \\\n",
       "0               1755                 0.921                 0.922   \n",
       "\n",
       "   split2_train_roc_auc  split3_train_roc_auc  split4_train_roc_auc  \\\n",
       "0                 0.913                 0.920                 0.913   \n",
       "\n",
       "   split5_train_roc_auc  split6_train_roc_auc  mean_train_roc_auc  \\\n",
       "0                 0.917                 0.915               0.917   \n",
       "\n",
       "   std_train_roc_auc  split0_test_f1  split1_test_f1  split2_test_f1  \\\n",
       "0              0.004           0.575           0.580           0.611   \n",
       "\n",
       "   split3_test_f1  split4_test_f1  split5_test_f1  split6_test_f1  \\\n",
       "0           0.533           0.613           0.613           0.650   \n",
       "\n",
       "   mean_test_f1  std_test_f1  rank_test_f1  split0_train_f1  split1_train_f1  \\\n",
       "0         0.597        0.035          1326            0.776            0.785   \n",
       "\n",
       "   split2_train_f1  split3_train_f1  split4_train_f1  split5_train_f1  \\\n",
       "0            0.763            0.777            0.761            0.769   \n",
       "\n",
       "   split6_train_f1  mean_train_f1  std_train_f1  \n",
       "0            0.774          0.772         0.008  "
      ]
     },
     "execution_count": 197,
     "metadata": {},
     "output_type": "execute_result"
    }
   ],
   "source": [
    "# sonuclari df olarak kaydet\n",
    "grid_survive_df = pd.DataFrame(grid_survive.cv_results_)\n",
    "grid_survive_df.head(1)"
   ]
  },
  {
   "cell_type": "code",
   "execution_count": 224,
   "metadata": {},
   "outputs": [
    {
     "data": {
      "text/html": [
       "<div>\n",
       "<style scoped>\n",
       "    .dataframe tbody tr th:only-of-type {\n",
       "        vertical-align: middle;\n",
       "    }\n",
       "\n",
       "    .dataframe tbody tr th {\n",
       "        vertical-align: top;\n",
       "    }\n",
       "\n",
       "    .dataframe thead th {\n",
       "        text-align: right;\n",
       "    }\n",
       "</style>\n",
       "<table border=\"1\" class=\"dataframe\">\n",
       "  <thead>\n",
       "    <tr style=\"text-align: right;\">\n",
       "      <th></th>\n",
       "      <th>param_classifier</th>\n",
       "      <th>mean_train_roc_auc</th>\n",
       "      <th>mean_test_roc_auc</th>\n",
       "      <th>mean_train_f1</th>\n",
       "      <th>mean_test_f1</th>\n",
       "    </tr>\n",
       "  </thead>\n",
       "  <tbody>\n",
       "    <tr>\n",
       "      <th>475</th>\n",
       "      <td>XGBClassifier(base_score=None, booster=None, colsample_bylevel=None,\\n              colsample_by...</td>\n",
       "      <td>0.988</td>\n",
       "      <td>0.889</td>\n",
       "      <td>0.922</td>\n",
       "      <td>0.776</td>\n",
       "    </tr>\n",
       "    <tr>\n",
       "      <th>170</th>\n",
       "      <td>XGBClassifier(base_score=None, booster=None, colsample_bylevel=None,\\n              colsample_by...</td>\n",
       "      <td>0.976</td>\n",
       "      <td>0.888</td>\n",
       "      <td>0.883</td>\n",
       "      <td>0.787</td>\n",
       "    </tr>\n",
       "    <tr>\n",
       "      <th>680</th>\n",
       "      <td>XGBClassifier(base_score=None, booster=None, colsample_bylevel=None,\\n              colsample_by...</td>\n",
       "      <td>0.974</td>\n",
       "      <td>0.888</td>\n",
       "      <td>0.876</td>\n",
       "      <td>0.786</td>\n",
       "    </tr>\n",
       "    <tr>\n",
       "      <th>634</th>\n",
       "      <td>XGBClassifier(base_score=None, booster=None, colsample_bylevel=None,\\n              colsample_by...</td>\n",
       "      <td>0.988</td>\n",
       "      <td>0.888</td>\n",
       "      <td>0.924</td>\n",
       "      <td>0.765</td>\n",
       "    </tr>\n",
       "    <tr>\n",
       "      <th>182</th>\n",
       "      <td>XGBClassifier(base_score=None, booster=None, colsample_bylevel=None,\\n              colsample_by...</td>\n",
       "      <td>0.975</td>\n",
       "      <td>0.888</td>\n",
       "      <td>0.880</td>\n",
       "      <td>0.777</td>\n",
       "    </tr>\n",
       "  </tbody>\n",
       "</table>\n",
       "</div>"
      ],
      "text/plain": [
       "                                                                                        param_classifier  \\\n",
       "475  XGBClassifier(base_score=None, booster=None, colsample_bylevel=None,\\n              colsample_by...   \n",
       "170  XGBClassifier(base_score=None, booster=None, colsample_bylevel=None,\\n              colsample_by...   \n",
       "680  XGBClassifier(base_score=None, booster=None, colsample_bylevel=None,\\n              colsample_by...   \n",
       "634  XGBClassifier(base_score=None, booster=None, colsample_bylevel=None,\\n              colsample_by...   \n",
       "182  XGBClassifier(base_score=None, booster=None, colsample_bylevel=None,\\n              colsample_by...   \n",
       "\n",
       "     mean_train_roc_auc  mean_test_roc_auc  mean_train_f1  mean_test_f1  \n",
       "475               0.988              0.889          0.922         0.776  \n",
       "170               0.976              0.888          0.883         0.787  \n",
       "680               0.974              0.888          0.876         0.786  \n",
       "634               0.988              0.888          0.924         0.765  \n",
       "182               0.975              0.888          0.880         0.777  "
      ]
     },
     "execution_count": 224,
     "metadata": {},
     "output_type": "execute_result"
    }
   ],
   "source": [
    "# sirala\n",
    "grid_survive_df = grid_survive_df.sort_values(by='mean_test_roc_auc', ascending=False)\n",
    "# ilk siradakileri goster\n",
    "grid_survive_df.loc[:,['param_classifier','mean_train_roc_auc',\n",
    "                       'mean_test_roc_auc','mean_train_f1','mean_test_f1']].head(5)"
   ]
  },
  {
   "cell_type": "code",
   "execution_count": 231,
   "metadata": {},
   "outputs": [],
   "source": [
    "# her bir classifier in en iyi degerleriyle ayri bir df olustur\n",
    "best_of_classifiers = pd.DataFrame([])\n",
    "for classifier in grid_survive_df.param_classifier.unique():\n",
    "    best_of_classifiers = pd.concat([best_of_classifiers,grid_survive_df[grid_survive_df['param_classifier']==classifier].head(1)])"
   ]
  },
  {
   "cell_type": "code",
   "execution_count": 234,
   "metadata": {},
   "outputs": [
    {
     "data": {
      "text/html": [
       "<div>\n",
       "<style scoped>\n",
       "    .dataframe tbody tr th:only-of-type {\n",
       "        vertical-align: middle;\n",
       "    }\n",
       "\n",
       "    .dataframe tbody tr th {\n",
       "        vertical-align: top;\n",
       "    }\n",
       "\n",
       "    .dataframe thead th {\n",
       "        text-align: right;\n",
       "    }\n",
       "</style>\n",
       "<table border=\"1\" class=\"dataframe\">\n",
       "  <thead>\n",
       "    <tr style=\"text-align: right;\">\n",
       "      <th></th>\n",
       "      <th>mean_fit_time</th>\n",
       "      <th>std_fit_time</th>\n",
       "      <th>mean_score_time</th>\n",
       "      <th>std_score_time</th>\n",
       "      <th>param_classifier</th>\n",
       "      <th>param_classifier__n_neighbors</th>\n",
       "      <th>param_classifier__weights</th>\n",
       "      <th>param_preprocessing</th>\n",
       "      <th>param_classifier__C</th>\n",
       "      <th>param_classifier__penalty</th>\n",
       "      <th>param_classifier__max_depth</th>\n",
       "      <th>param_classifier__gamma</th>\n",
       "      <th>param_classifier__reg_alpha</th>\n",
       "      <th>param_classifier__reg_lambda</th>\n",
       "      <th>params</th>\n",
       "      <th>split0_test_roc_auc</th>\n",
       "      <th>split1_test_roc_auc</th>\n",
       "      <th>split2_test_roc_auc</th>\n",
       "      <th>split3_test_roc_auc</th>\n",
       "      <th>split4_test_roc_auc</th>\n",
       "      <th>split5_test_roc_auc</th>\n",
       "      <th>split6_test_roc_auc</th>\n",
       "      <th>mean_test_roc_auc</th>\n",
       "      <th>std_test_roc_auc</th>\n",
       "      <th>rank_test_roc_auc</th>\n",
       "      <th>split0_train_roc_auc</th>\n",
       "      <th>split1_train_roc_auc</th>\n",
       "      <th>split2_train_roc_auc</th>\n",
       "      <th>split3_train_roc_auc</th>\n",
       "      <th>split4_train_roc_auc</th>\n",
       "      <th>split5_train_roc_auc</th>\n",
       "      <th>split6_train_roc_auc</th>\n",
       "      <th>mean_train_roc_auc</th>\n",
       "      <th>std_train_roc_auc</th>\n",
       "      <th>split0_test_f1</th>\n",
       "      <th>split1_test_f1</th>\n",
       "      <th>split2_test_f1</th>\n",
       "      <th>split3_test_f1</th>\n",
       "      <th>split4_test_f1</th>\n",
       "      <th>split5_test_f1</th>\n",
       "      <th>split6_test_f1</th>\n",
       "      <th>mean_test_f1</th>\n",
       "      <th>std_test_f1</th>\n",
       "      <th>rank_test_f1</th>\n",
       "      <th>split0_train_f1</th>\n",
       "      <th>split1_train_f1</th>\n",
       "      <th>split2_train_f1</th>\n",
       "      <th>split3_train_f1</th>\n",
       "      <th>split4_train_f1</th>\n",
       "      <th>split5_train_f1</th>\n",
       "      <th>split6_train_f1</th>\n",
       "      <th>mean_train_f1</th>\n",
       "      <th>std_train_f1</th>\n",
       "    </tr>\n",
       "  </thead>\n",
       "  <tbody>\n",
       "    <tr>\n",
       "      <th>475</th>\n",
       "      <td>0.104</td>\n",
       "      <td>0.009</td>\n",
       "      <td>0.009</td>\n",
       "      <td>0.000</td>\n",
       "      <td>XGBClassifier(base_score=None, booster=None, colsample_bylevel=None,\\n              colsample_by...</td>\n",
       "      <td>NaN</td>\n",
       "      <td>NaN</td>\n",
       "      <td>None</td>\n",
       "      <td>NaN</td>\n",
       "      <td>NaN</td>\n",
       "      <td>5</td>\n",
       "      <td>0.010</td>\n",
       "      <td>1.000</td>\n",
       "      <td>1.000</td>\n",
       "      <td>{'classifier': XGBClassifier(base_score=None, booster=None, colsample_bylevel=None,\n",
       "            ...</td>\n",
       "      <td>0.879</td>\n",
       "      <td>0.906</td>\n",
       "      <td>0.888</td>\n",
       "      <td>0.860</td>\n",
       "      <td>0.890</td>\n",
       "      <td>0.894</td>\n",
       "      <td>0.902</td>\n",
       "      <td>0.889</td>\n",
       "      <td>0.014</td>\n",
       "      <td>1</td>\n",
       "      <td>0.991</td>\n",
       "      <td>0.986</td>\n",
       "      <td>0.991</td>\n",
       "      <td>0.989</td>\n",
       "      <td>0.986</td>\n",
       "      <td>0.992</td>\n",
       "      <td>0.984</td>\n",
       "      <td>0.988</td>\n",
       "      <td>0.003</td>\n",
       "      <td>0.744</td>\n",
       "      <td>0.747</td>\n",
       "      <td>0.784</td>\n",
       "      <td>0.795</td>\n",
       "      <td>0.761</td>\n",
       "      <td>0.806</td>\n",
       "      <td>0.795</td>\n",
       "      <td>0.776</td>\n",
       "      <td>0.023</td>\n",
       "      <td>214</td>\n",
       "      <td>0.930</td>\n",
       "      <td>0.920</td>\n",
       "      <td>0.934</td>\n",
       "      <td>0.936</td>\n",
       "      <td>0.905</td>\n",
       "      <td>0.930</td>\n",
       "      <td>0.902</td>\n",
       "      <td>0.922</td>\n",
       "      <td>0.013</td>\n",
       "    </tr>\n",
       "    <tr>\n",
       "      <th>1879</th>\n",
       "      <td>0.073</td>\n",
       "      <td>0.006</td>\n",
       "      <td>0.017</td>\n",
       "      <td>0.001</td>\n",
       "      <td>LGBMClassifier(boosting_type='gbdt', class_weight=None, colsample_bytree=1.0,\\n               im...</td>\n",
       "      <td>NaN</td>\n",
       "      <td>NaN</td>\n",
       "      <td>None</td>\n",
       "      <td>NaN</td>\n",
       "      <td>NaN</td>\n",
       "      <td>9</td>\n",
       "      <td>NaN</td>\n",
       "      <td>1.000</td>\n",
       "      <td>1.000</td>\n",
       "      <td>{'classifier': LGBMClassifier(boosting_type='gbdt', class_weight=None, colsample_bytree=1.0,\n",
       "   ...</td>\n",
       "      <td>0.879</td>\n",
       "      <td>0.898</td>\n",
       "      <td>0.890</td>\n",
       "      <td>0.848</td>\n",
       "      <td>0.878</td>\n",
       "      <td>0.879</td>\n",
       "      <td>0.914</td>\n",
       "      <td>0.884</td>\n",
       "      <td>0.019</td>\n",
       "      <td>91</td>\n",
       "      <td>0.968</td>\n",
       "      <td>0.966</td>\n",
       "      <td>0.968</td>\n",
       "      <td>0.970</td>\n",
       "      <td>0.968</td>\n",
       "      <td>0.975</td>\n",
       "      <td>0.966</td>\n",
       "      <td>0.969</td>\n",
       "      <td>0.003</td>\n",
       "      <td>0.747</td>\n",
       "      <td>0.795</td>\n",
       "      <td>0.795</td>\n",
       "      <td>0.789</td>\n",
       "      <td>0.743</td>\n",
       "      <td>0.761</td>\n",
       "      <td>0.822</td>\n",
       "      <td>0.779</td>\n",
       "      <td>0.027</td>\n",
       "      <td>136</td>\n",
       "      <td>0.868</td>\n",
       "      <td>0.880</td>\n",
       "      <td>0.869</td>\n",
       "      <td>0.881</td>\n",
       "      <td>0.858</td>\n",
       "      <td>0.858</td>\n",
       "      <td>0.865</td>\n",
       "      <td>0.868</td>\n",
       "      <td>0.009</td>\n",
       "    </tr>\n",
       "    <tr>\n",
       "      <th>44</th>\n",
       "      <td>0.331</td>\n",
       "      <td>0.006</td>\n",
       "      <td>0.051</td>\n",
       "      <td>0.001</td>\n",
       "      <td>RandomForestClassifier(bootstrap=True, ccp_alpha=0.0, class_weight=None,\\n                      ...</td>\n",
       "      <td>NaN</td>\n",
       "      <td>NaN</td>\n",
       "      <td>None</td>\n",
       "      <td>NaN</td>\n",
       "      <td>NaN</td>\n",
       "      <td>8</td>\n",
       "      <td>NaN</td>\n",
       "      <td>NaN</td>\n",
       "      <td>NaN</td>\n",
       "      <td>{'classifier': RandomForestClassifier(bootstrap=True, ccp_alpha=0.0, class_weight=None,\n",
       "        ...</td>\n",
       "      <td>0.844</td>\n",
       "      <td>0.883</td>\n",
       "      <td>0.905</td>\n",
       "      <td>0.834</td>\n",
       "      <td>0.847</td>\n",
       "      <td>0.893</td>\n",
       "      <td>0.898</td>\n",
       "      <td>0.872</td>\n",
       "      <td>0.027</td>\n",
       "      <td>592</td>\n",
       "      <td>0.974</td>\n",
       "      <td>0.972</td>\n",
       "      <td>0.971</td>\n",
       "      <td>0.972</td>\n",
       "      <td>0.972</td>\n",
       "      <td>0.972</td>\n",
       "      <td>0.970</td>\n",
       "      <td>0.972</td>\n",
       "      <td>0.001</td>\n",
       "      <td>0.730</td>\n",
       "      <td>0.784</td>\n",
       "      <td>0.806</td>\n",
       "      <td>0.753</td>\n",
       "      <td>0.722</td>\n",
       "      <td>0.746</td>\n",
       "      <td>0.767</td>\n",
       "      <td>0.758</td>\n",
       "      <td>0.027</td>\n",
       "      <td>725</td>\n",
       "      <td>0.882</td>\n",
       "      <td>0.886</td>\n",
       "      <td>0.882</td>\n",
       "      <td>0.892</td>\n",
       "      <td>0.878</td>\n",
       "      <td>0.882</td>\n",
       "      <td>0.885</td>\n",
       "      <td>0.884</td>\n",
       "      <td>0.004</td>\n",
       "    </tr>\n",
       "    <tr>\n",
       "      <th>16</th>\n",
       "      <td>0.059</td>\n",
       "      <td>0.002</td>\n",
       "      <td>0.008</td>\n",
       "      <td>0.001</td>\n",
       "      <td>LogisticRegression(C=1.0, class_weight=None, dual=False, fit_intercept=True,\\n                  ...</td>\n",
       "      <td>NaN</td>\n",
       "      <td>NaN</td>\n",
       "      <td>None</td>\n",
       "      <td>0.100</td>\n",
       "      <td>NaN</td>\n",
       "      <td>NaN</td>\n",
       "      <td>NaN</td>\n",
       "      <td>NaN</td>\n",
       "      <td>NaN</td>\n",
       "      <td>{'classifier': LogisticRegression(C=1.0, class_weight=None, dual=False, fit_intercept=True,\n",
       "    ...</td>\n",
       "      <td>0.838</td>\n",
       "      <td>0.874</td>\n",
       "      <td>0.880</td>\n",
       "      <td>0.823</td>\n",
       "      <td>0.842</td>\n",
       "      <td>0.921</td>\n",
       "      <td>0.914</td>\n",
       "      <td>0.870</td>\n",
       "      <td>0.035</td>\n",
       "      <td>670</td>\n",
       "      <td>0.877</td>\n",
       "      <td>0.873</td>\n",
       "      <td>0.872</td>\n",
       "      <td>0.882</td>\n",
       "      <td>0.880</td>\n",
       "      <td>0.867</td>\n",
       "      <td>0.868</td>\n",
       "      <td>0.874</td>\n",
       "      <td>0.005</td>\n",
       "      <td>0.720</td>\n",
       "      <td>0.750</td>\n",
       "      <td>0.773</td>\n",
       "      <td>0.753</td>\n",
       "      <td>0.757</td>\n",
       "      <td>0.735</td>\n",
       "      <td>0.835</td>\n",
       "      <td>0.761</td>\n",
       "      <td>0.034</td>\n",
       "      <td>652</td>\n",
       "      <td>0.766</td>\n",
       "      <td>0.766</td>\n",
       "      <td>0.758</td>\n",
       "      <td>0.770</td>\n",
       "      <td>0.762</td>\n",
       "      <td>0.765</td>\n",
       "      <td>0.751</td>\n",
       "      <td>0.763</td>\n",
       "      <td>0.006</td>\n",
       "    </tr>\n",
       "    <tr>\n",
       "      <th>26</th>\n",
       "      <td>0.020</td>\n",
       "      <td>0.003</td>\n",
       "      <td>0.007</td>\n",
       "      <td>0.000</td>\n",
       "      <td>LogisticRegression(C=1.0, class_weight=None, dual=False, fit_intercept=True,\\n                  ...</td>\n",
       "      <td>NaN</td>\n",
       "      <td>NaN</td>\n",
       "      <td>None</td>\n",
       "      <td>1.000</td>\n",
       "      <td>l1</td>\n",
       "      <td>NaN</td>\n",
       "      <td>NaN</td>\n",
       "      <td>NaN</td>\n",
       "      <td>NaN</td>\n",
       "      <td>{'classifier': LogisticRegression(C=1.0, class_weight=None, dual=False, fit_intercept=True,\n",
       "    ...</td>\n",
       "      <td>0.836</td>\n",
       "      <td>0.876</td>\n",
       "      <td>0.883</td>\n",
       "      <td>0.825</td>\n",
       "      <td>0.835</td>\n",
       "      <td>0.922</td>\n",
       "      <td>0.912</td>\n",
       "      <td>0.870</td>\n",
       "      <td>0.036</td>\n",
       "      <td>678</td>\n",
       "      <td>0.880</td>\n",
       "      <td>0.875</td>\n",
       "      <td>0.875</td>\n",
       "      <td>0.886</td>\n",
       "      <td>0.884</td>\n",
       "      <td>0.868</td>\n",
       "      <td>0.870</td>\n",
       "      <td>0.877</td>\n",
       "      <td>0.006</td>\n",
       "      <td>0.727</td>\n",
       "      <td>0.757</td>\n",
       "      <td>0.784</td>\n",
       "      <td>0.750</td>\n",
       "      <td>0.747</td>\n",
       "      <td>0.735</td>\n",
       "      <td>0.835</td>\n",
       "      <td>0.762</td>\n",
       "      <td>0.034</td>\n",
       "      <td>606</td>\n",
       "      <td>0.782</td>\n",
       "      <td>0.774</td>\n",
       "      <td>0.773</td>\n",
       "      <td>0.776</td>\n",
       "      <td>0.784</td>\n",
       "      <td>0.777</td>\n",
       "      <td>0.759</td>\n",
       "      <td>0.775</td>\n",
       "      <td>0.008</td>\n",
       "    </tr>\n",
       "    <tr>\n",
       "      <th>33</th>\n",
       "      <td>0.006</td>\n",
       "      <td>0.000</td>\n",
       "      <td>0.008</td>\n",
       "      <td>0.002</td>\n",
       "      <td>DecisionTreeClassifier(ccp_alpha=0.0, class_weight=None, criterion='gini',\\n                    ...</td>\n",
       "      <td>NaN</td>\n",
       "      <td>NaN</td>\n",
       "      <td>None</td>\n",
       "      <td>NaN</td>\n",
       "      <td>NaN</td>\n",
       "      <td>4</td>\n",
       "      <td>NaN</td>\n",
       "      <td>NaN</td>\n",
       "      <td>NaN</td>\n",
       "      <td>{'classifier': DecisionTreeClassifier(ccp_alpha=0.0, class_weight=None, criterion='gini',\n",
       "      ...</td>\n",
       "      <td>0.822</td>\n",
       "      <td>0.863</td>\n",
       "      <td>0.884</td>\n",
       "      <td>0.847</td>\n",
       "      <td>0.853</td>\n",
       "      <td>0.889</td>\n",
       "      <td>0.909</td>\n",
       "      <td>0.867</td>\n",
       "      <td>0.027</td>\n",
       "      <td>769</td>\n",
       "      <td>0.899</td>\n",
       "      <td>0.899</td>\n",
       "      <td>0.894</td>\n",
       "      <td>0.901</td>\n",
       "      <td>0.905</td>\n",
       "      <td>0.904</td>\n",
       "      <td>0.900</td>\n",
       "      <td>0.900</td>\n",
       "      <td>0.003</td>\n",
       "      <td>0.759</td>\n",
       "      <td>0.757</td>\n",
       "      <td>0.779</td>\n",
       "      <td>0.795</td>\n",
       "      <td>0.722</td>\n",
       "      <td>0.778</td>\n",
       "      <td>0.838</td>\n",
       "      <td>0.775</td>\n",
       "      <td>0.033</td>\n",
       "      <td>220</td>\n",
       "      <td>0.801</td>\n",
       "      <td>0.811</td>\n",
       "      <td>0.803</td>\n",
       "      <td>0.792</td>\n",
       "      <td>0.816</td>\n",
       "      <td>0.822</td>\n",
       "      <td>0.809</td>\n",
       "      <td>0.808</td>\n",
       "      <td>0.009</td>\n",
       "    </tr>\n",
       "    <tr>\n",
       "      <th>121</th>\n",
       "      <td>0.044</td>\n",
       "      <td>0.005</td>\n",
       "      <td>0.009</td>\n",
       "      <td>0.000</td>\n",
       "      <td>SVC(C=1.0, break_ties=False, cache_size=200, class_weight=None, coef0=0.0,\\n    decision_functio...</td>\n",
       "      <td>NaN</td>\n",
       "      <td>NaN</td>\n",
       "      <td>None</td>\n",
       "      <td>0.010</td>\n",
       "      <td>NaN</td>\n",
       "      <td>NaN</td>\n",
       "      <td>NaN</td>\n",
       "      <td>NaN</td>\n",
       "      <td>NaN</td>\n",
       "      <td>{'classifier': SVC(C=1.0, break_ties=False, cache_size=200, class_weight=None, coef0=0.0,\n",
       "    de...</td>\n",
       "      <td>0.856</td>\n",
       "      <td>0.863</td>\n",
       "      <td>0.883</td>\n",
       "      <td>0.808</td>\n",
       "      <td>0.831</td>\n",
       "      <td>0.908</td>\n",
       "      <td>0.897</td>\n",
       "      <td>0.864</td>\n",
       "      <td>0.033</td>\n",
       "      <td>801</td>\n",
       "      <td>0.869</td>\n",
       "      <td>0.865</td>\n",
       "      <td>0.863</td>\n",
       "      <td>0.878</td>\n",
       "      <td>0.869</td>\n",
       "      <td>0.858</td>\n",
       "      <td>0.862</td>\n",
       "      <td>0.866</td>\n",
       "      <td>0.006</td>\n",
       "      <td>0.667</td>\n",
       "      <td>0.727</td>\n",
       "      <td>0.753</td>\n",
       "      <td>0.718</td>\n",
       "      <td>0.763</td>\n",
       "      <td>0.743</td>\n",
       "      <td>0.784</td>\n",
       "      <td>0.736</td>\n",
       "      <td>0.035</td>\n",
       "      <td>1233</td>\n",
       "      <td>0.744</td>\n",
       "      <td>0.743</td>\n",
       "      <td>0.736</td>\n",
       "      <td>0.737</td>\n",
       "      <td>0.745</td>\n",
       "      <td>0.742</td>\n",
       "      <td>0.719</td>\n",
       "      <td>0.738</td>\n",
       "      <td>0.009</td>\n",
       "    </tr>\n",
       "    <tr>\n",
       "      <th>96</th>\n",
       "      <td>0.030</td>\n",
       "      <td>0.001</td>\n",
       "      <td>0.012</td>\n",
       "      <td>0.000</td>\n",
       "      <td>SVC(C=1.0, break_ties=False, cache_size=200, class_weight=None, coef0=0.0,\\n    decision_functio...</td>\n",
       "      <td>NaN</td>\n",
       "      <td>NaN</td>\n",
       "      <td>StandardScaler(copy=True, with_mean=True, with_std=True)</td>\n",
       "      <td>10.000</td>\n",
       "      <td>NaN</td>\n",
       "      <td>NaN</td>\n",
       "      <td>0.010</td>\n",
       "      <td>NaN</td>\n",
       "      <td>NaN</td>\n",
       "      <td>{'classifier': SVC(C=1.0, break_ties=False, cache_size=200, class_weight=None, coef0=0.0,\n",
       "    de...</td>\n",
       "      <td>0.832</td>\n",
       "      <td>0.858</td>\n",
       "      <td>0.918</td>\n",
       "      <td>0.833</td>\n",
       "      <td>0.844</td>\n",
       "      <td>0.855</td>\n",
       "      <td>0.889</td>\n",
       "      <td>0.861</td>\n",
       "      <td>0.029</td>\n",
       "      <td>830</td>\n",
       "      <td>0.891</td>\n",
       "      <td>0.894</td>\n",
       "      <td>0.885</td>\n",
       "      <td>0.896</td>\n",
       "      <td>0.883</td>\n",
       "      <td>0.874</td>\n",
       "      <td>0.883</td>\n",
       "      <td>0.886</td>\n",
       "      <td>0.007</td>\n",
       "      <td>0.737</td>\n",
       "      <td>0.778</td>\n",
       "      <td>0.800</td>\n",
       "      <td>0.750</td>\n",
       "      <td>0.767</td>\n",
       "      <td>0.776</td>\n",
       "      <td>0.842</td>\n",
       "      <td>0.779</td>\n",
       "      <td>0.032</td>\n",
       "      <td>138</td>\n",
       "      <td>0.787</td>\n",
       "      <td>0.774</td>\n",
       "      <td>0.771</td>\n",
       "      <td>0.778</td>\n",
       "      <td>0.782</td>\n",
       "      <td>0.779</td>\n",
       "      <td>0.769</td>\n",
       "      <td>0.777</td>\n",
       "      <td>0.006</td>\n",
       "    </tr>\n",
       "    <tr>\n",
       "      <th>13</th>\n",
       "      <td>0.005</td>\n",
       "      <td>0.001</td>\n",
       "      <td>0.011</td>\n",
       "      <td>0.001</td>\n",
       "      <td>KNeighborsClassifier(algorithm='auto', leaf_size=30, metric='minkowski',\\n                     m...</td>\n",
       "      <td>9</td>\n",
       "      <td>distance</td>\n",
       "      <td>None</td>\n",
       "      <td>NaN</td>\n",
       "      <td>NaN</td>\n",
       "      <td>NaN</td>\n",
       "      <td>NaN</td>\n",
       "      <td>NaN</td>\n",
       "      <td>NaN</td>\n",
       "      <td>{'classifier': KNeighborsClassifier(algorithm='auto', leaf_size=30, metric='minkowski',\n",
       "        ...</td>\n",
       "      <td>0.733</td>\n",
       "      <td>0.708</td>\n",
       "      <td>0.787</td>\n",
       "      <td>0.705</td>\n",
       "      <td>0.783</td>\n",
       "      <td>0.746</td>\n",
       "      <td>0.854</td>\n",
       "      <td>0.759</td>\n",
       "      <td>0.049</td>\n",
       "      <td>1732</td>\n",
       "      <td>1.000</td>\n",
       "      <td>1.000</td>\n",
       "      <td>1.000</td>\n",
       "      <td>1.000</td>\n",
       "      <td>1.000</td>\n",
       "      <td>1.000</td>\n",
       "      <td>1.000</td>\n",
       "      <td>1.000</td>\n",
       "      <td>0.000</td>\n",
       "      <td>0.600</td>\n",
       "      <td>0.553</td>\n",
       "      <td>0.583</td>\n",
       "      <td>0.613</td>\n",
       "      <td>0.640</td>\n",
       "      <td>0.564</td>\n",
       "      <td>0.675</td>\n",
       "      <td>0.604</td>\n",
       "      <td>0.040</td>\n",
       "      <td>1322</td>\n",
       "      <td>0.989</td>\n",
       "      <td>0.994</td>\n",
       "      <td>0.987</td>\n",
       "      <td>0.989</td>\n",
       "      <td>0.989</td>\n",
       "      <td>0.996</td>\n",
       "      <td>0.987</td>\n",
       "      <td>0.990</td>\n",
       "      <td>0.003</td>\n",
       "    </tr>\n",
       "  </tbody>\n",
       "</table>\n",
       "</div>"
      ],
      "text/plain": [
       "      mean_fit_time  std_fit_time  mean_score_time  std_score_time  \\\n",
       "475           0.104         0.009            0.009           0.000   \n",
       "1879          0.073         0.006            0.017           0.001   \n",
       "44            0.331         0.006            0.051           0.001   \n",
       "16            0.059         0.002            0.008           0.001   \n",
       "26            0.020         0.003            0.007           0.000   \n",
       "33            0.006         0.000            0.008           0.002   \n",
       "121           0.044         0.005            0.009           0.000   \n",
       "96            0.030         0.001            0.012           0.000   \n",
       "13            0.005         0.001            0.011           0.001   \n",
       "\n",
       "                                                                                         param_classifier  \\\n",
       "475   XGBClassifier(base_score=None, booster=None, colsample_bylevel=None,\\n              colsample_by...   \n",
       "1879  LGBMClassifier(boosting_type='gbdt', class_weight=None, colsample_bytree=1.0,\\n               im...   \n",
       "44    RandomForestClassifier(bootstrap=True, ccp_alpha=0.0, class_weight=None,\\n                      ...   \n",
       "16    LogisticRegression(C=1.0, class_weight=None, dual=False, fit_intercept=True,\\n                  ...   \n",
       "26    LogisticRegression(C=1.0, class_weight=None, dual=False, fit_intercept=True,\\n                  ...   \n",
       "33    DecisionTreeClassifier(ccp_alpha=0.0, class_weight=None, criterion='gini',\\n                    ...   \n",
       "121   SVC(C=1.0, break_ties=False, cache_size=200, class_weight=None, coef0=0.0,\\n    decision_functio...   \n",
       "96    SVC(C=1.0, break_ties=False, cache_size=200, class_weight=None, coef0=0.0,\\n    decision_functio...   \n",
       "13    KNeighborsClassifier(algorithm='auto', leaf_size=30, metric='minkowski',\\n                     m...   \n",
       "\n",
       "     param_classifier__n_neighbors param_classifier__weights  \\\n",
       "475                            NaN                       NaN   \n",
       "1879                           NaN                       NaN   \n",
       "44                             NaN                       NaN   \n",
       "16                             NaN                       NaN   \n",
       "26                             NaN                       NaN   \n",
       "33                             NaN                       NaN   \n",
       "121                            NaN                       NaN   \n",
       "96                             NaN                       NaN   \n",
       "13                               9                  distance   \n",
       "\n",
       "                                           param_preprocessing  \\\n",
       "475                                                       None   \n",
       "1879                                                      None   \n",
       "44                                                        None   \n",
       "16                                                        None   \n",
       "26                                                        None   \n",
       "33                                                        None   \n",
       "121                                                       None   \n",
       "96    StandardScaler(copy=True, with_mean=True, with_std=True)   \n",
       "13                                                        None   \n",
       "\n",
       "     param_classifier__C param_classifier__penalty  \\\n",
       "475                  NaN                       NaN   \n",
       "1879                 NaN                       NaN   \n",
       "44                   NaN                       NaN   \n",
       "16                 0.100                       NaN   \n",
       "26                 1.000                        l1   \n",
       "33                   NaN                       NaN   \n",
       "121                0.010                       NaN   \n",
       "96                10.000                       NaN   \n",
       "13                   NaN                       NaN   \n",
       "\n",
       "     param_classifier__max_depth param_classifier__gamma  \\\n",
       "475                            5                   0.010   \n",
       "1879                           9                     NaN   \n",
       "44                             8                     NaN   \n",
       "16                           NaN                     NaN   \n",
       "26                           NaN                     NaN   \n",
       "33                             4                     NaN   \n",
       "121                          NaN                     NaN   \n",
       "96                           NaN                   0.010   \n",
       "13                           NaN                     NaN   \n",
       "\n",
       "     param_classifier__reg_alpha param_classifier__reg_lambda  \\\n",
       "475                        1.000                        1.000   \n",
       "1879                       1.000                        1.000   \n",
       "44                           NaN                          NaN   \n",
       "16                           NaN                          NaN   \n",
       "26                           NaN                          NaN   \n",
       "33                           NaN                          NaN   \n",
       "121                          NaN                          NaN   \n",
       "96                           NaN                          NaN   \n",
       "13                           NaN                          NaN   \n",
       "\n",
       "                                                                                                   params  \\\n",
       "475   {'classifier': XGBClassifier(base_score=None, booster=None, colsample_bylevel=None,\n",
       "            ...   \n",
       "1879  {'classifier': LGBMClassifier(boosting_type='gbdt', class_weight=None, colsample_bytree=1.0,\n",
       "   ...   \n",
       "44    {'classifier': RandomForestClassifier(bootstrap=True, ccp_alpha=0.0, class_weight=None,\n",
       "        ...   \n",
       "16    {'classifier': LogisticRegression(C=1.0, class_weight=None, dual=False, fit_intercept=True,\n",
       "    ...   \n",
       "26    {'classifier': LogisticRegression(C=1.0, class_weight=None, dual=False, fit_intercept=True,\n",
       "    ...   \n",
       "33    {'classifier': DecisionTreeClassifier(ccp_alpha=0.0, class_weight=None, criterion='gini',\n",
       "      ...   \n",
       "121   {'classifier': SVC(C=1.0, break_ties=False, cache_size=200, class_weight=None, coef0=0.0,\n",
       "    de...   \n",
       "96    {'classifier': SVC(C=1.0, break_ties=False, cache_size=200, class_weight=None, coef0=0.0,\n",
       "    de...   \n",
       "13    {'classifier': KNeighborsClassifier(algorithm='auto', leaf_size=30, metric='minkowski',\n",
       "        ...   \n",
       "\n",
       "      split0_test_roc_auc  split1_test_roc_auc  split2_test_roc_auc  \\\n",
       "475                 0.879                0.906                0.888   \n",
       "1879                0.879                0.898                0.890   \n",
       "44                  0.844                0.883                0.905   \n",
       "16                  0.838                0.874                0.880   \n",
       "26                  0.836                0.876                0.883   \n",
       "33                  0.822                0.863                0.884   \n",
       "121                 0.856                0.863                0.883   \n",
       "96                  0.832                0.858                0.918   \n",
       "13                  0.733                0.708                0.787   \n",
       "\n",
       "      split3_test_roc_auc  split4_test_roc_auc  split5_test_roc_auc  \\\n",
       "475                 0.860                0.890                0.894   \n",
       "1879                0.848                0.878                0.879   \n",
       "44                  0.834                0.847                0.893   \n",
       "16                  0.823                0.842                0.921   \n",
       "26                  0.825                0.835                0.922   \n",
       "33                  0.847                0.853                0.889   \n",
       "121                 0.808                0.831                0.908   \n",
       "96                  0.833                0.844                0.855   \n",
       "13                  0.705                0.783                0.746   \n",
       "\n",
       "      split6_test_roc_auc  mean_test_roc_auc  std_test_roc_auc  \\\n",
       "475                 0.902              0.889             0.014   \n",
       "1879                0.914              0.884             0.019   \n",
       "44                  0.898              0.872             0.027   \n",
       "16                  0.914              0.870             0.035   \n",
       "26                  0.912              0.870             0.036   \n",
       "33                  0.909              0.867             0.027   \n",
       "121                 0.897              0.864             0.033   \n",
       "96                  0.889              0.861             0.029   \n",
       "13                  0.854              0.759             0.049   \n",
       "\n",
       "      rank_test_roc_auc  split0_train_roc_auc  split1_train_roc_auc  \\\n",
       "475                   1                 0.991                 0.986   \n",
       "1879                 91                 0.968                 0.966   \n",
       "44                  592                 0.974                 0.972   \n",
       "16                  670                 0.877                 0.873   \n",
       "26                  678                 0.880                 0.875   \n",
       "33                  769                 0.899                 0.899   \n",
       "121                 801                 0.869                 0.865   \n",
       "96                  830                 0.891                 0.894   \n",
       "13                 1732                 1.000                 1.000   \n",
       "\n",
       "      split2_train_roc_auc  split3_train_roc_auc  split4_train_roc_auc  \\\n",
       "475                  0.991                 0.989                 0.986   \n",
       "1879                 0.968                 0.970                 0.968   \n",
       "44                   0.971                 0.972                 0.972   \n",
       "16                   0.872                 0.882                 0.880   \n",
       "26                   0.875                 0.886                 0.884   \n",
       "33                   0.894                 0.901                 0.905   \n",
       "121                  0.863                 0.878                 0.869   \n",
       "96                   0.885                 0.896                 0.883   \n",
       "13                   1.000                 1.000                 1.000   \n",
       "\n",
       "      split5_train_roc_auc  split6_train_roc_auc  mean_train_roc_auc  \\\n",
       "475                  0.992                 0.984               0.988   \n",
       "1879                 0.975                 0.966               0.969   \n",
       "44                   0.972                 0.970               0.972   \n",
       "16                   0.867                 0.868               0.874   \n",
       "26                   0.868                 0.870               0.877   \n",
       "33                   0.904                 0.900               0.900   \n",
       "121                  0.858                 0.862               0.866   \n",
       "96                   0.874                 0.883               0.886   \n",
       "13                   1.000                 1.000               1.000   \n",
       "\n",
       "      std_train_roc_auc  split0_test_f1  split1_test_f1  split2_test_f1  \\\n",
       "475               0.003           0.744           0.747           0.784   \n",
       "1879              0.003           0.747           0.795           0.795   \n",
       "44                0.001           0.730           0.784           0.806   \n",
       "16                0.005           0.720           0.750           0.773   \n",
       "26                0.006           0.727           0.757           0.784   \n",
       "33                0.003           0.759           0.757           0.779   \n",
       "121               0.006           0.667           0.727           0.753   \n",
       "96                0.007           0.737           0.778           0.800   \n",
       "13                0.000           0.600           0.553           0.583   \n",
       "\n",
       "      split3_test_f1  split4_test_f1  split5_test_f1  split6_test_f1  \\\n",
       "475            0.795           0.761           0.806           0.795   \n",
       "1879           0.789           0.743           0.761           0.822   \n",
       "44             0.753           0.722           0.746           0.767   \n",
       "16             0.753           0.757           0.735           0.835   \n",
       "26             0.750           0.747           0.735           0.835   \n",
       "33             0.795           0.722           0.778           0.838   \n",
       "121            0.718           0.763           0.743           0.784   \n",
       "96             0.750           0.767           0.776           0.842   \n",
       "13             0.613           0.640           0.564           0.675   \n",
       "\n",
       "      mean_test_f1  std_test_f1  rank_test_f1  split0_train_f1  \\\n",
       "475          0.776        0.023           214            0.930   \n",
       "1879         0.779        0.027           136            0.868   \n",
       "44           0.758        0.027           725            0.882   \n",
       "16           0.761        0.034           652            0.766   \n",
       "26           0.762        0.034           606            0.782   \n",
       "33           0.775        0.033           220            0.801   \n",
       "121          0.736        0.035          1233            0.744   \n",
       "96           0.779        0.032           138            0.787   \n",
       "13           0.604        0.040          1322            0.989   \n",
       "\n",
       "      split1_train_f1  split2_train_f1  split3_train_f1  split4_train_f1  \\\n",
       "475             0.920            0.934            0.936            0.905   \n",
       "1879            0.880            0.869            0.881            0.858   \n",
       "44              0.886            0.882            0.892            0.878   \n",
       "16              0.766            0.758            0.770            0.762   \n",
       "26              0.774            0.773            0.776            0.784   \n",
       "33              0.811            0.803            0.792            0.816   \n",
       "121             0.743            0.736            0.737            0.745   \n",
       "96              0.774            0.771            0.778            0.782   \n",
       "13              0.994            0.987            0.989            0.989   \n",
       "\n",
       "      split5_train_f1  split6_train_f1  mean_train_f1  std_train_f1  \n",
       "475             0.930            0.902          0.922         0.013  \n",
       "1879            0.858            0.865          0.868         0.009  \n",
       "44              0.882            0.885          0.884         0.004  \n",
       "16              0.765            0.751          0.763         0.006  \n",
       "26              0.777            0.759          0.775         0.008  \n",
       "33              0.822            0.809          0.808         0.009  \n",
       "121             0.742            0.719          0.738         0.009  \n",
       "96              0.779            0.769          0.777         0.006  \n",
       "13              0.996            0.987          0.990         0.003  "
      ]
     },
     "execution_count": 234,
     "metadata": {},
     "output_type": "execute_result"
    }
   ],
   "source": [
    "best_of_classifiers"
   ]
  },
  {
   "cell_type": "code",
   "execution_count": 232,
   "metadata": {},
   "outputs": [
    {
     "data": {
      "text/html": [
       "<div>\n",
       "<style scoped>\n",
       "    .dataframe tbody tr th:only-of-type {\n",
       "        vertical-align: middle;\n",
       "    }\n",
       "\n",
       "    .dataframe tbody tr th {\n",
       "        vertical-align: top;\n",
       "    }\n",
       "\n",
       "    .dataframe thead th {\n",
       "        text-align: right;\n",
       "    }\n",
       "</style>\n",
       "<table border=\"1\" class=\"dataframe\">\n",
       "  <thead>\n",
       "    <tr style=\"text-align: right;\">\n",
       "      <th></th>\n",
       "      <th>param_classifier</th>\n",
       "      <th>mean_train_roc_auc</th>\n",
       "      <th>mean_test_roc_auc</th>\n",
       "      <th>mean_train_f1</th>\n",
       "      <th>mean_test_f1</th>\n",
       "    </tr>\n",
       "  </thead>\n",
       "  <tbody>\n",
       "    <tr>\n",
       "      <th>475</th>\n",
       "      <td>XGBClassifier(base_score=None, booster=None, colsample_bylevel=None,\\n              colsample_by...</td>\n",
       "      <td>0.988</td>\n",
       "      <td>0.889</td>\n",
       "      <td>0.922</td>\n",
       "      <td>0.776</td>\n",
       "    </tr>\n",
       "    <tr>\n",
       "      <th>1879</th>\n",
       "      <td>LGBMClassifier(boosting_type='gbdt', class_weight=None, colsample_bytree=1.0,\\n               im...</td>\n",
       "      <td>0.969</td>\n",
       "      <td>0.884</td>\n",
       "      <td>0.868</td>\n",
       "      <td>0.779</td>\n",
       "    </tr>\n",
       "    <tr>\n",
       "      <th>44</th>\n",
       "      <td>RandomForestClassifier(bootstrap=True, ccp_alpha=0.0, class_weight=None,\\n                      ...</td>\n",
       "      <td>0.972</td>\n",
       "      <td>0.872</td>\n",
       "      <td>0.884</td>\n",
       "      <td>0.758</td>\n",
       "    </tr>\n",
       "    <tr>\n",
       "      <th>16</th>\n",
       "      <td>LogisticRegression(C=1.0, class_weight=None, dual=False, fit_intercept=True,\\n                  ...</td>\n",
       "      <td>0.874</td>\n",
       "      <td>0.870</td>\n",
       "      <td>0.763</td>\n",
       "      <td>0.761</td>\n",
       "    </tr>\n",
       "    <tr>\n",
       "      <th>26</th>\n",
       "      <td>LogisticRegression(C=1.0, class_weight=None, dual=False, fit_intercept=True,\\n                  ...</td>\n",
       "      <td>0.877</td>\n",
       "      <td>0.870</td>\n",
       "      <td>0.775</td>\n",
       "      <td>0.762</td>\n",
       "    </tr>\n",
       "    <tr>\n",
       "      <th>33</th>\n",
       "      <td>DecisionTreeClassifier(ccp_alpha=0.0, class_weight=None, criterion='gini',\\n                    ...</td>\n",
       "      <td>0.900</td>\n",
       "      <td>0.867</td>\n",
       "      <td>0.808</td>\n",
       "      <td>0.775</td>\n",
       "    </tr>\n",
       "    <tr>\n",
       "      <th>121</th>\n",
       "      <td>SVC(C=1.0, break_ties=False, cache_size=200, class_weight=None, coef0=0.0,\\n    decision_functio...</td>\n",
       "      <td>0.866</td>\n",
       "      <td>0.864</td>\n",
       "      <td>0.738</td>\n",
       "      <td>0.736</td>\n",
       "    </tr>\n",
       "    <tr>\n",
       "      <th>96</th>\n",
       "      <td>SVC(C=1.0, break_ties=False, cache_size=200, class_weight=None, coef0=0.0,\\n    decision_functio...</td>\n",
       "      <td>0.886</td>\n",
       "      <td>0.861</td>\n",
       "      <td>0.777</td>\n",
       "      <td>0.779</td>\n",
       "    </tr>\n",
       "    <tr>\n",
       "      <th>13</th>\n",
       "      <td>KNeighborsClassifier(algorithm='auto', leaf_size=30, metric='minkowski',\\n                     m...</td>\n",
       "      <td>1.000</td>\n",
       "      <td>0.759</td>\n",
       "      <td>0.990</td>\n",
       "      <td>0.604</td>\n",
       "    </tr>\n",
       "  </tbody>\n",
       "</table>\n",
       "</div>"
      ],
      "text/plain": [
       "                                                                                         param_classifier  \\\n",
       "475   XGBClassifier(base_score=None, booster=None, colsample_bylevel=None,\\n              colsample_by...   \n",
       "1879  LGBMClassifier(boosting_type='gbdt', class_weight=None, colsample_bytree=1.0,\\n               im...   \n",
       "44    RandomForestClassifier(bootstrap=True, ccp_alpha=0.0, class_weight=None,\\n                      ...   \n",
       "16    LogisticRegression(C=1.0, class_weight=None, dual=False, fit_intercept=True,\\n                  ...   \n",
       "26    LogisticRegression(C=1.0, class_weight=None, dual=False, fit_intercept=True,\\n                  ...   \n",
       "33    DecisionTreeClassifier(ccp_alpha=0.0, class_weight=None, criterion='gini',\\n                    ...   \n",
       "121   SVC(C=1.0, break_ties=False, cache_size=200, class_weight=None, coef0=0.0,\\n    decision_functio...   \n",
       "96    SVC(C=1.0, break_ties=False, cache_size=200, class_weight=None, coef0=0.0,\\n    decision_functio...   \n",
       "13    KNeighborsClassifier(algorithm='auto', leaf_size=30, metric='minkowski',\\n                     m...   \n",
       "\n",
       "      mean_train_roc_auc  mean_test_roc_auc  mean_train_f1  mean_test_f1  \n",
       "475                0.988              0.889          0.922         0.776  \n",
       "1879               0.969              0.884          0.868         0.779  \n",
       "44                 0.972              0.872          0.884         0.758  \n",
       "16                 0.874              0.870          0.763         0.761  \n",
       "26                 0.877              0.870          0.775         0.762  \n",
       "33                 0.900              0.867          0.808         0.775  \n",
       "121                0.866              0.864          0.738         0.736  \n",
       "96                 0.886              0.861          0.777         0.779  \n",
       "13                 1.000              0.759          0.990         0.604  "
      ]
     },
     "execution_count": 232,
     "metadata": {},
     "output_type": "execute_result"
    }
   ],
   "source": [
    "# her bir classifier in skor degerlerini incele\n",
    "best_of_classifiers.loc[:,['param_classifier','mean_train_roc_auc',\n",
    "                       'mean_test_roc_auc','mean_train_f1','mean_test_f1']]"
   ]
  },
  {
   "cell_type": "code",
   "execution_count": 235,
   "metadata": {},
   "outputs": [],
   "source": [
    "# adlandirma olmali, grafik gosterimi icin\n",
    "best_of_classifiers['classifier'] = ['xgboost', 'lightgbm', 'randomforest', \n",
    "                                     'logisticreg', 'logisticreg_l1', 'decisiontree', \n",
    "                                     'svc', 'svc_scale', 'knn']"
   ]
  },
  {
   "cell_type": "markdown",
   "metadata": {},
   "source": [
    "***Grafik Incelemesi***"
   ]
  },
  {
   "cell_type": "code",
   "execution_count": 254,
   "metadata": {},
   "outputs": [
    {
     "data": {
      "application/vnd.plotly.v1+json": {
       "config": {
        "plotlyServerURL": "https://plot.ly"
       },
       "data": [
        {
         "mode": "lines+markers",
         "name": "train_auc_score",
         "type": "scatter",
         "x": [
          "xgboost",
          "lightgbm",
          "randomforest",
          "logisticreg",
          "logisticreg_l1",
          "decisiontree",
          "svc",
          "svc_scale",
          "knn"
         ],
         "y": [
          0.9883796627634458,
          0.968531620444821,
          0.971865292208215,
          0.8740770200837785,
          0.8768439937682698,
          0.900262449540414,
          0.8662889080008416,
          0.886419902054602,
          0.9998547847343631
         ]
        },
        {
         "mode": "lines+markers",
         "name": "test_auc_score",
         "type": "scatter",
         "x": [
          "xgboost",
          "lightgbm",
          "randomforest",
          "logisticreg",
          "logisticreg_l1",
          "decisiontree",
          "svc",
          "svc_scale",
          "knn"
         ],
         "y": [
          0.8885137733063999,
          0.8837394897302732,
          0.8721934321012661,
          0.8700533977031674,
          0.869819888253068,
          0.8668011456029888,
          0.8638246034559399,
          0.8612438082484165,
          0.7593989898137364
         ]
        }
       ],
       "layout": {
        "height": 800,
        "template": {
         "data": {
          "bar": [
           {
            "error_x": {
             "color": "#2a3f5f"
            },
            "error_y": {
             "color": "#2a3f5f"
            },
            "marker": {
             "line": {
              "color": "#E5ECF6",
              "width": 0.5
             }
            },
            "type": "bar"
           }
          ],
          "barpolar": [
           {
            "marker": {
             "line": {
              "color": "#E5ECF6",
              "width": 0.5
             }
            },
            "type": "barpolar"
           }
          ],
          "carpet": [
           {
            "aaxis": {
             "endlinecolor": "#2a3f5f",
             "gridcolor": "white",
             "linecolor": "white",
             "minorgridcolor": "white",
             "startlinecolor": "#2a3f5f"
            },
            "baxis": {
             "endlinecolor": "#2a3f5f",
             "gridcolor": "white",
             "linecolor": "white",
             "minorgridcolor": "white",
             "startlinecolor": "#2a3f5f"
            },
            "type": "carpet"
           }
          ],
          "choropleth": [
           {
            "colorbar": {
             "outlinewidth": 0,
             "ticks": ""
            },
            "type": "choropleth"
           }
          ],
          "contour": [
           {
            "colorbar": {
             "outlinewidth": 0,
             "ticks": ""
            },
            "colorscale": [
             [
              0,
              "#0d0887"
             ],
             [
              0.1111111111111111,
              "#46039f"
             ],
             [
              0.2222222222222222,
              "#7201a8"
             ],
             [
              0.3333333333333333,
              "#9c179e"
             ],
             [
              0.4444444444444444,
              "#bd3786"
             ],
             [
              0.5555555555555556,
              "#d8576b"
             ],
             [
              0.6666666666666666,
              "#ed7953"
             ],
             [
              0.7777777777777778,
              "#fb9f3a"
             ],
             [
              0.8888888888888888,
              "#fdca26"
             ],
             [
              1,
              "#f0f921"
             ]
            ],
            "type": "contour"
           }
          ],
          "contourcarpet": [
           {
            "colorbar": {
             "outlinewidth": 0,
             "ticks": ""
            },
            "type": "contourcarpet"
           }
          ],
          "heatmap": [
           {
            "colorbar": {
             "outlinewidth": 0,
             "ticks": ""
            },
            "colorscale": [
             [
              0,
              "#0d0887"
             ],
             [
              0.1111111111111111,
              "#46039f"
             ],
             [
              0.2222222222222222,
              "#7201a8"
             ],
             [
              0.3333333333333333,
              "#9c179e"
             ],
             [
              0.4444444444444444,
              "#bd3786"
             ],
             [
              0.5555555555555556,
              "#d8576b"
             ],
             [
              0.6666666666666666,
              "#ed7953"
             ],
             [
              0.7777777777777778,
              "#fb9f3a"
             ],
             [
              0.8888888888888888,
              "#fdca26"
             ],
             [
              1,
              "#f0f921"
             ]
            ],
            "type": "heatmap"
           }
          ],
          "heatmapgl": [
           {
            "colorbar": {
             "outlinewidth": 0,
             "ticks": ""
            },
            "colorscale": [
             [
              0,
              "#0d0887"
             ],
             [
              0.1111111111111111,
              "#46039f"
             ],
             [
              0.2222222222222222,
              "#7201a8"
             ],
             [
              0.3333333333333333,
              "#9c179e"
             ],
             [
              0.4444444444444444,
              "#bd3786"
             ],
             [
              0.5555555555555556,
              "#d8576b"
             ],
             [
              0.6666666666666666,
              "#ed7953"
             ],
             [
              0.7777777777777778,
              "#fb9f3a"
             ],
             [
              0.8888888888888888,
              "#fdca26"
             ],
             [
              1,
              "#f0f921"
             ]
            ],
            "type": "heatmapgl"
           }
          ],
          "histogram": [
           {
            "marker": {
             "colorbar": {
              "outlinewidth": 0,
              "ticks": ""
             }
            },
            "type": "histogram"
           }
          ],
          "histogram2d": [
           {
            "colorbar": {
             "outlinewidth": 0,
             "ticks": ""
            },
            "colorscale": [
             [
              0,
              "#0d0887"
             ],
             [
              0.1111111111111111,
              "#46039f"
             ],
             [
              0.2222222222222222,
              "#7201a8"
             ],
             [
              0.3333333333333333,
              "#9c179e"
             ],
             [
              0.4444444444444444,
              "#bd3786"
             ],
             [
              0.5555555555555556,
              "#d8576b"
             ],
             [
              0.6666666666666666,
              "#ed7953"
             ],
             [
              0.7777777777777778,
              "#fb9f3a"
             ],
             [
              0.8888888888888888,
              "#fdca26"
             ],
             [
              1,
              "#f0f921"
             ]
            ],
            "type": "histogram2d"
           }
          ],
          "histogram2dcontour": [
           {
            "colorbar": {
             "outlinewidth": 0,
             "ticks": ""
            },
            "colorscale": [
             [
              0,
              "#0d0887"
             ],
             [
              0.1111111111111111,
              "#46039f"
             ],
             [
              0.2222222222222222,
              "#7201a8"
             ],
             [
              0.3333333333333333,
              "#9c179e"
             ],
             [
              0.4444444444444444,
              "#bd3786"
             ],
             [
              0.5555555555555556,
              "#d8576b"
             ],
             [
              0.6666666666666666,
              "#ed7953"
             ],
             [
              0.7777777777777778,
              "#fb9f3a"
             ],
             [
              0.8888888888888888,
              "#fdca26"
             ],
             [
              1,
              "#f0f921"
             ]
            ],
            "type": "histogram2dcontour"
           }
          ],
          "mesh3d": [
           {
            "colorbar": {
             "outlinewidth": 0,
             "ticks": ""
            },
            "type": "mesh3d"
           }
          ],
          "parcoords": [
           {
            "line": {
             "colorbar": {
              "outlinewidth": 0,
              "ticks": ""
             }
            },
            "type": "parcoords"
           }
          ],
          "pie": [
           {
            "automargin": true,
            "type": "pie"
           }
          ],
          "scatter": [
           {
            "marker": {
             "colorbar": {
              "outlinewidth": 0,
              "ticks": ""
             }
            },
            "type": "scatter"
           }
          ],
          "scatter3d": [
           {
            "line": {
             "colorbar": {
              "outlinewidth": 0,
              "ticks": ""
             }
            },
            "marker": {
             "colorbar": {
              "outlinewidth": 0,
              "ticks": ""
             }
            },
            "type": "scatter3d"
           }
          ],
          "scattercarpet": [
           {
            "marker": {
             "colorbar": {
              "outlinewidth": 0,
              "ticks": ""
             }
            },
            "type": "scattercarpet"
           }
          ],
          "scattergeo": [
           {
            "marker": {
             "colorbar": {
              "outlinewidth": 0,
              "ticks": ""
             }
            },
            "type": "scattergeo"
           }
          ],
          "scattergl": [
           {
            "marker": {
             "colorbar": {
              "outlinewidth": 0,
              "ticks": ""
             }
            },
            "type": "scattergl"
           }
          ],
          "scattermapbox": [
           {
            "marker": {
             "colorbar": {
              "outlinewidth": 0,
              "ticks": ""
             }
            },
            "type": "scattermapbox"
           }
          ],
          "scatterpolar": [
           {
            "marker": {
             "colorbar": {
              "outlinewidth": 0,
              "ticks": ""
             }
            },
            "type": "scatterpolar"
           }
          ],
          "scatterpolargl": [
           {
            "marker": {
             "colorbar": {
              "outlinewidth": 0,
              "ticks": ""
             }
            },
            "type": "scatterpolargl"
           }
          ],
          "scatterternary": [
           {
            "marker": {
             "colorbar": {
              "outlinewidth": 0,
              "ticks": ""
             }
            },
            "type": "scatterternary"
           }
          ],
          "surface": [
           {
            "colorbar": {
             "outlinewidth": 0,
             "ticks": ""
            },
            "colorscale": [
             [
              0,
              "#0d0887"
             ],
             [
              0.1111111111111111,
              "#46039f"
             ],
             [
              0.2222222222222222,
              "#7201a8"
             ],
             [
              0.3333333333333333,
              "#9c179e"
             ],
             [
              0.4444444444444444,
              "#bd3786"
             ],
             [
              0.5555555555555556,
              "#d8576b"
             ],
             [
              0.6666666666666666,
              "#ed7953"
             ],
             [
              0.7777777777777778,
              "#fb9f3a"
             ],
             [
              0.8888888888888888,
              "#fdca26"
             ],
             [
              1,
              "#f0f921"
             ]
            ],
            "type": "surface"
           }
          ],
          "table": [
           {
            "cells": {
             "fill": {
              "color": "#EBF0F8"
             },
             "line": {
              "color": "white"
             }
            },
            "header": {
             "fill": {
              "color": "#C8D4E3"
             },
             "line": {
              "color": "white"
             }
            },
            "type": "table"
           }
          ]
         },
         "layout": {
          "annotationdefaults": {
           "arrowcolor": "#2a3f5f",
           "arrowhead": 0,
           "arrowwidth": 1
          },
          "coloraxis": {
           "colorbar": {
            "outlinewidth": 0,
            "ticks": ""
           }
          },
          "colorscale": {
           "diverging": [
            [
             0,
             "#8e0152"
            ],
            [
             0.1,
             "#c51b7d"
            ],
            [
             0.2,
             "#de77ae"
            ],
            [
             0.3,
             "#f1b6da"
            ],
            [
             0.4,
             "#fde0ef"
            ],
            [
             0.5,
             "#f7f7f7"
            ],
            [
             0.6,
             "#e6f5d0"
            ],
            [
             0.7,
             "#b8e186"
            ],
            [
             0.8,
             "#7fbc41"
            ],
            [
             0.9,
             "#4d9221"
            ],
            [
             1,
             "#276419"
            ]
           ],
           "sequential": [
            [
             0,
             "#0d0887"
            ],
            [
             0.1111111111111111,
             "#46039f"
            ],
            [
             0.2222222222222222,
             "#7201a8"
            ],
            [
             0.3333333333333333,
             "#9c179e"
            ],
            [
             0.4444444444444444,
             "#bd3786"
            ],
            [
             0.5555555555555556,
             "#d8576b"
            ],
            [
             0.6666666666666666,
             "#ed7953"
            ],
            [
             0.7777777777777778,
             "#fb9f3a"
            ],
            [
             0.8888888888888888,
             "#fdca26"
            ],
            [
             1,
             "#f0f921"
            ]
           ],
           "sequentialminus": [
            [
             0,
             "#0d0887"
            ],
            [
             0.1111111111111111,
             "#46039f"
            ],
            [
             0.2222222222222222,
             "#7201a8"
            ],
            [
             0.3333333333333333,
             "#9c179e"
            ],
            [
             0.4444444444444444,
             "#bd3786"
            ],
            [
             0.5555555555555556,
             "#d8576b"
            ],
            [
             0.6666666666666666,
             "#ed7953"
            ],
            [
             0.7777777777777778,
             "#fb9f3a"
            ],
            [
             0.8888888888888888,
             "#fdca26"
            ],
            [
             1,
             "#f0f921"
            ]
           ]
          },
          "colorway": [
           "#636efa",
           "#EF553B",
           "#00cc96",
           "#ab63fa",
           "#FFA15A",
           "#19d3f3",
           "#FF6692",
           "#B6E880",
           "#FF97FF",
           "#FECB52"
          ],
          "font": {
           "color": "#2a3f5f"
          },
          "geo": {
           "bgcolor": "white",
           "lakecolor": "white",
           "landcolor": "#E5ECF6",
           "showlakes": true,
           "showland": true,
           "subunitcolor": "white"
          },
          "hoverlabel": {
           "align": "left"
          },
          "hovermode": "closest",
          "mapbox": {
           "style": "light"
          },
          "paper_bgcolor": "white",
          "plot_bgcolor": "#E5ECF6",
          "polar": {
           "angularaxis": {
            "gridcolor": "white",
            "linecolor": "white",
            "ticks": ""
           },
           "bgcolor": "#E5ECF6",
           "radialaxis": {
            "gridcolor": "white",
            "linecolor": "white",
            "ticks": ""
           }
          },
          "scene": {
           "xaxis": {
            "backgroundcolor": "#E5ECF6",
            "gridcolor": "white",
            "gridwidth": 2,
            "linecolor": "white",
            "showbackground": true,
            "ticks": "",
            "zerolinecolor": "white"
           },
           "yaxis": {
            "backgroundcolor": "#E5ECF6",
            "gridcolor": "white",
            "gridwidth": 2,
            "linecolor": "white",
            "showbackground": true,
            "ticks": "",
            "zerolinecolor": "white"
           },
           "zaxis": {
            "backgroundcolor": "#E5ECF6",
            "gridcolor": "white",
            "gridwidth": 2,
            "linecolor": "white",
            "showbackground": true,
            "ticks": "",
            "zerolinecolor": "white"
           }
          },
          "shapedefaults": {
           "line": {
            "color": "#2a3f5f"
           }
          },
          "ternary": {
           "aaxis": {
            "gridcolor": "white",
            "linecolor": "white",
            "ticks": ""
           },
           "baxis": {
            "gridcolor": "white",
            "linecolor": "white",
            "ticks": ""
           },
           "bgcolor": "#E5ECF6",
           "caxis": {
            "gridcolor": "white",
            "linecolor": "white",
            "ticks": ""
           }
          },
          "title": {
           "x": 0.05
          },
          "xaxis": {
           "automargin": true,
           "gridcolor": "white",
           "linecolor": "white",
           "ticks": "",
           "title": {
            "standoff": 15
           },
           "zerolinecolor": "white",
           "zerolinewidth": 2
          },
          "yaxis": {
           "automargin": true,
           "gridcolor": "white",
           "linecolor": "white",
           "ticks": "",
           "title": {
            "standoff": 15
           },
           "zerolinecolor": "white",
           "zerolinewidth": 2
          }
         }
        },
        "title": {
         "text": "Scores of Best Models by Type"
        },
        "width": 1300,
        "xaxis": {
         "autorange": true,
         "range": [
          -0.4799318641541574,
          8.479931864154157
         ],
         "title": {
          "text": "Score"
         },
         "type": "category"
        },
        "yaxis": {
         "autorange": true,
         "range": [
          0.744220354257893,
          1.0150334202902065
         ],
         "title": {
          "text": "Model Name"
         },
         "type": "linear"
        }
       }
      },
      "image/png": "[encoded data removed]",
      "text/html": [
       "<div>\n",
       "        \n",
       "        \n",
       "            <div id=\"1dcc6bd0-ffa9-457f-86c7-adc55df00ccf\" class=\"plotly-graph-div\" style=\"height:800px; width:1300px;\"></div>\n",
       "            <script type=\"text/javascript\">\n",
       "                require([\"plotly\"], function(Plotly) {\n",
       "                    window.PLOTLYENV=window.PLOTLYENV || {};\n",
       "                    \n",
       "                if (document.getElementById(\"1dcc6bd0-ffa9-457f-86c7-adc55df00ccf\")) {\n",
       "                    Plotly.newPlot(\n",
       "                        '1dcc6bd0-ffa9-457f-86c7-adc55df00ccf',\n",
       "                        [{\"mode\": \"lines+markers\", \"name\": \"train_auc_score\", \"type\": \"scatter\", \"x\": [\"xgboost\", \"lightgbm\", \"randomforest\", \"logisticreg\", \"logisticreg_l1\", \"decisiontree\", \"svc\", \"svc_scale\", \"knn\"], \"y\": [0.9883796627634458, 0.968531620444821, 0.971865292208215, 0.8740770200837785, 0.8768439937682698, 0.900262449540414, 0.8662889080008416, 0.886419902054602, 0.9998547847343631]}, {\"mode\": \"lines+markers\", \"name\": \"test_auc_score\", \"type\": \"scatter\", \"x\": [\"xgboost\", \"lightgbm\", \"randomforest\", \"logisticreg\", \"logisticreg_l1\", \"decisiontree\", \"svc\", \"svc_scale\", \"knn\"], \"y\": [0.8885137733063999, 0.8837394897302732, 0.8721934321012661, 0.8700533977031674, 0.869819888253068, 0.8668011456029888, 0.8638246034559399, 0.8612438082484165, 0.7593989898137364]}],\n",
       "                        {\"height\": 800, \"template\": {\"data\": {\"bar\": [{\"error_x\": {\"color\": \"#2a3f5f\"}, \"error_y\": {\"color\": \"#2a3f5f\"}, \"marker\": {\"line\": {\"color\": \"#E5ECF6\", \"width\": 0.5}}, \"type\": \"bar\"}], \"barpolar\": [{\"marker\": {\"line\": {\"color\": \"#E5ECF6\", \"width\": 0.5}}, \"type\": \"barpolar\"}], \"carpet\": [{\"aaxis\": {\"endlinecolor\": \"#2a3f5f\", \"gridcolor\": \"white\", \"linecolor\": \"white\", \"minorgridcolor\": \"white\", \"startlinecolor\": \"#2a3f5f\"}, \"baxis\": {\"endlinecolor\": \"#2a3f5f\", \"gridcolor\": \"white\", \"linecolor\": \"white\", \"minorgridcolor\": \"white\", \"startlinecolor\": \"#2a3f5f\"}, \"type\": \"carpet\"}], \"choropleth\": [{\"colorbar\": {\"outlinewidth\": 0, \"ticks\": \"\"}, \"type\": \"choropleth\"}], \"contour\": [{\"colorbar\": {\"outlinewidth\": 0, \"ticks\": \"\"}, \"colorscale\": [[0.0, \"#0d0887\"], [0.1111111111111111, \"#46039f\"], [0.2222222222222222, \"#7201a8\"], [0.3333333333333333, \"#9c179e\"], [0.4444444444444444, \"#bd3786\"], [0.5555555555555556, \"#d8576b\"], [0.6666666666666666, \"#ed7953\"], [0.7777777777777778, \"#fb9f3a\"], [0.8888888888888888, \"#fdca26\"], [1.0, \"#f0f921\"]], \"type\": \"contour\"}], \"contourcarpet\": [{\"colorbar\": {\"outlinewidth\": 0, \"ticks\": \"\"}, \"type\": \"contourcarpet\"}], \"heatmap\": [{\"colorbar\": {\"outlinewidth\": 0, \"ticks\": \"\"}, \"colorscale\": [[0.0, \"#0d0887\"], [0.1111111111111111, \"#46039f\"], [0.2222222222222222, \"#7201a8\"], [0.3333333333333333, \"#9c179e\"], [0.4444444444444444, \"#bd3786\"], [0.5555555555555556, \"#d8576b\"], [0.6666666666666666, \"#ed7953\"], [0.7777777777777778, \"#fb9f3a\"], [0.8888888888888888, \"#fdca26\"], [1.0, \"#f0f921\"]], \"type\": \"heatmap\"}], \"heatmapgl\": [{\"colorbar\": {\"outlinewidth\": 0, \"ticks\": \"\"}, \"colorscale\": [[0.0, \"#0d0887\"], [0.1111111111111111, \"#46039f\"], [0.2222222222222222, \"#7201a8\"], [0.3333333333333333, \"#9c179e\"], [0.4444444444444444, \"#bd3786\"], [0.5555555555555556, \"#d8576b\"], [0.6666666666666666, \"#ed7953\"], [0.7777777777777778, \"#fb9f3a\"], [0.8888888888888888, \"#fdca26\"], [1.0, \"#f0f921\"]], \"type\": \"heatmapgl\"}], \"histogram\": [{\"marker\": {\"colorbar\": {\"outlinewidth\": 0, \"ticks\": \"\"}}, \"type\": \"histogram\"}], \"histogram2d\": [{\"colorbar\": {\"outlinewidth\": 0, \"ticks\": \"\"}, \"colorscale\": [[0.0, \"#0d0887\"], [0.1111111111111111, \"#46039f\"], [0.2222222222222222, \"#7201a8\"], [0.3333333333333333, \"#9c179e\"], [0.4444444444444444, \"#bd3786\"], [0.5555555555555556, \"#d8576b\"], [0.6666666666666666, \"#ed7953\"], [0.7777777777777778, \"#fb9f3a\"], [0.8888888888888888, \"#fdca26\"], [1.0, \"#f0f921\"]], \"type\": \"histogram2d\"}], \"histogram2dcontour\": [{\"colorbar\": {\"outlinewidth\": 0, \"ticks\": \"\"}, \"colorscale\": [[0.0, \"#0d0887\"], [0.1111111111111111, \"#46039f\"], [0.2222222222222222, \"#7201a8\"], [0.3333333333333333, \"#9c179e\"], [0.4444444444444444, \"#bd3786\"], [0.5555555555555556, \"#d8576b\"], [0.6666666666666666, \"#ed7953\"], [0.7777777777777778, \"#fb9f3a\"], [0.8888888888888888, \"#fdca26\"], [1.0, \"#f0f921\"]], \"type\": \"histogram2dcontour\"}], \"mesh3d\": [{\"colorbar\": {\"outlinewidth\": 0, \"ticks\": \"\"}, \"type\": \"mesh3d\"}], \"parcoords\": [{\"line\": {\"colorbar\": {\"outlinewidth\": 0, \"ticks\": \"\"}}, \"type\": \"parcoords\"}], \"pie\": [{\"automargin\": true, \"type\": \"pie\"}], \"scatter\": [{\"marker\": {\"colorbar\": {\"outlinewidth\": 0, \"ticks\": \"\"}}, \"type\": \"scatter\"}], \"scatter3d\": [{\"line\": {\"colorbar\": {\"outlinewidth\": 0, \"ticks\": \"\"}}, \"marker\": {\"colorbar\": {\"outlinewidth\": 0, \"ticks\": \"\"}}, \"type\": \"scatter3d\"}], \"scattercarpet\": [{\"marker\": {\"colorbar\": {\"outlinewidth\": 0, \"ticks\": \"\"}}, \"type\": \"scattercarpet\"}], \"scattergeo\": [{\"marker\": {\"colorbar\": {\"outlinewidth\": 0, \"ticks\": \"\"}}, \"type\": \"scattergeo\"}], \"scattergl\": [{\"marker\": {\"colorbar\": {\"outlinewidth\": 0, \"ticks\": \"\"}}, \"type\": \"scattergl\"}], \"scattermapbox\": [{\"marker\": {\"colorbar\": {\"outlinewidth\": 0, \"ticks\": \"\"}}, \"type\": \"scattermapbox\"}], \"scatterpolar\": [{\"marker\": {\"colorbar\": {\"outlinewidth\": 0, \"ticks\": \"\"}}, \"type\": \"scatterpolar\"}], \"scatterpolargl\": [{\"marker\": {\"colorbar\": {\"outlinewidth\": 0, \"ticks\": \"\"}}, \"type\": \"scatterpolargl\"}], \"scatterternary\": [{\"marker\": {\"colorbar\": {\"outlinewidth\": 0, \"ticks\": \"\"}}, \"type\": \"scatterternary\"}], \"surface\": [{\"colorbar\": {\"outlinewidth\": 0, \"ticks\": \"\"}, \"colorscale\": [[0.0, \"#0d0887\"], [0.1111111111111111, \"#46039f\"], [0.2222222222222222, \"#7201a8\"], [0.3333333333333333, \"#9c179e\"], [0.4444444444444444, \"#bd3786\"], [0.5555555555555556, \"#d8576b\"], [0.6666666666666666, \"#ed7953\"], [0.7777777777777778, \"#fb9f3a\"], [0.8888888888888888, \"#fdca26\"], [1.0, \"#f0f921\"]], \"type\": \"surface\"}], \"table\": [{\"cells\": {\"fill\": {\"color\": \"#EBF0F8\"}, \"line\": {\"color\": \"white\"}}, \"header\": {\"fill\": {\"color\": \"#C8D4E3\"}, \"line\": {\"color\": \"white\"}}, \"type\": \"table\"}]}, \"layout\": {\"annotationdefaults\": {\"arrowcolor\": \"#2a3f5f\", \"arrowhead\": 0, \"arrowwidth\": 1}, \"coloraxis\": {\"colorbar\": {\"outlinewidth\": 0, \"ticks\": \"\"}}, \"colorscale\": {\"diverging\": [[0, \"#8e0152\"], [0.1, \"#c51b7d\"], [0.2, \"#de77ae\"], [0.3, \"#f1b6da\"], [0.4, \"#fde0ef\"], [0.5, \"#f7f7f7\"], [0.6, \"#e6f5d0\"], [0.7, \"#b8e186\"], [0.8, \"#7fbc41\"], [0.9, \"#4d9221\"], [1, \"#276419\"]], \"sequential\": [[0.0, \"#0d0887\"], [0.1111111111111111, \"#46039f\"], [0.2222222222222222, \"#7201a8\"], [0.3333333333333333, \"#9c179e\"], [0.4444444444444444, \"#bd3786\"], [0.5555555555555556, \"#d8576b\"], [0.6666666666666666, \"#ed7953\"], [0.7777777777777778, \"#fb9f3a\"], [0.8888888888888888, \"#fdca26\"], [1.0, \"#f0f921\"]], \"sequentialminus\": [[0.0, \"#0d0887\"], [0.1111111111111111, \"#46039f\"], [0.2222222222222222, \"#7201a8\"], [0.3333333333333333, \"#9c179e\"], [0.4444444444444444, \"#bd3786\"], [0.5555555555555556, \"#d8576b\"], [0.6666666666666666, \"#ed7953\"], [0.7777777777777778, \"#fb9f3a\"], [0.8888888888888888, \"#fdca26\"], [1.0, \"#f0f921\"]]}, \"colorway\": [\"#636efa\", \"#EF553B\", \"#00cc96\", \"#ab63fa\", \"#FFA15A\", \"#19d3f3\", \"#FF6692\", \"#B6E880\", \"#FF97FF\", \"#FECB52\"], \"font\": {\"color\": \"#2a3f5f\"}, \"geo\": {\"bgcolor\": \"white\", \"lakecolor\": \"white\", \"landcolor\": \"#E5ECF6\", \"showlakes\": true, \"showland\": true, \"subunitcolor\": \"white\"}, \"hoverlabel\": {\"align\": \"left\"}, \"hovermode\": \"closest\", \"mapbox\": {\"style\": \"light\"}, \"paper_bgcolor\": \"white\", \"plot_bgcolor\": \"#E5ECF6\", \"polar\": {\"angularaxis\": {\"gridcolor\": \"white\", \"linecolor\": \"white\", \"ticks\": \"\"}, \"bgcolor\": \"#E5ECF6\", \"radialaxis\": {\"gridcolor\": \"white\", \"linecolor\": \"white\", \"ticks\": \"\"}}, \"scene\": {\"xaxis\": {\"backgroundcolor\": \"#E5ECF6\", \"gridcolor\": \"white\", \"gridwidth\": 2, \"linecolor\": \"white\", \"showbackground\": true, \"ticks\": \"\", \"zerolinecolor\": \"white\"}, \"yaxis\": {\"backgroundcolor\": \"#E5ECF6\", \"gridcolor\": \"white\", \"gridwidth\": 2, \"linecolor\": \"white\", \"showbackground\": true, \"ticks\": \"\", \"zerolinecolor\": \"white\"}, \"zaxis\": {\"backgroundcolor\": \"#E5ECF6\", \"gridcolor\": \"white\", \"gridwidth\": 2, \"linecolor\": \"white\", \"showbackground\": true, \"ticks\": \"\", \"zerolinecolor\": \"white\"}}, \"shapedefaults\": {\"line\": {\"color\": \"#2a3f5f\"}}, \"ternary\": {\"aaxis\": {\"gridcolor\": \"white\", \"linecolor\": \"white\", \"ticks\": \"\"}, \"baxis\": {\"gridcolor\": \"white\", \"linecolor\": \"white\", \"ticks\": \"\"}, \"bgcolor\": \"#E5ECF6\", \"caxis\": {\"gridcolor\": \"white\", \"linecolor\": \"white\", \"ticks\": \"\"}}, \"title\": {\"x\": 0.05}, \"xaxis\": {\"automargin\": true, \"gridcolor\": \"white\", \"linecolor\": \"white\", \"ticks\": \"\", \"title\": {\"standoff\": 15}, \"zerolinecolor\": \"white\", \"zerolinewidth\": 2}, \"yaxis\": {\"automargin\": true, \"gridcolor\": \"white\", \"linecolor\": \"white\", \"ticks\": \"\", \"title\": {\"standoff\": 15}, \"zerolinecolor\": \"white\", \"zerolinewidth\": 2}}}, \"title\": {\"text\": \"Scores of Best Models by Type\"}, \"width\": 1300, \"xaxis\": {\"title\": {\"text\": \"Score\"}}, \"yaxis\": {\"title\": {\"text\": \"Model Name\"}}},\n",
       "                        {\"responsive\": true}\n",
       "                    ).then(function(){\n",
       "                            \n",
       "var gd = document.getElementById('1dcc6bd0-ffa9-457f-86c7-adc55df00ccf');\n",
       "var x = new MutationObserver(function (mutations, observer) {{\n",
       "        var display = window.getComputedStyle(gd).display;\n",
       "        if (!display || display === 'none') {{\n",
       "            console.log([gd, 'removed!']);\n",
       "            Plotly.purge(gd);\n",
       "            observer.disconnect();\n",
       "        }}\n",
       "}});\n",
       "\n",
       "// Listen for the removal of the full notebook cells\n",
       "var notebookContainer = gd.closest('#notebook-container');\n",
       "if (notebookContainer) {{\n",
       "    x.observe(notebookContainer, {childList: true});\n",
       "}}\n",
       "\n",
       "// Listen for the clearing of the current output cell\n",
       "var outputEl = gd.closest('.output');\n",
       "if (outputEl) {{\n",
       "    x.observe(outputEl, {childList: true});\n",
       "}}\n",
       "\n",
       "                        })\n",
       "                };\n",
       "                });\n",
       "            </script>\n",
       "        </div>"
      ]
     },
     "metadata": {},
     "output_type": "display_data"
    }
   ],
   "source": [
    "#fig = px.line(best_of_classifiers, x=\"classifier\", y=\"mean_test_roc_auc\")\n",
    "fig = go.Figure()\n",
    "fig.add_trace(go.Scatter(x=best_of_classifiers['classifier'], \n",
    "                         y=best_of_classifiers['mean_train_roc_auc'],\n",
    "                         name='train_auc_score',\n",
    "                         mode='lines+markers'))\n",
    "fig.add_trace(go.Scatter(x=best_of_classifiers['classifier'], \n",
    "                         y=best_of_classifiers['mean_test_roc_auc'],\n",
    "                         name='test_auc_score',\n",
    "                         mode='lines+markers'))\n",
    "# Edit the layout\n",
    "fig.update_layout(title='Scores of Best Models by Type',\n",
    "                   xaxis_title='Score',\n",
    "                   yaxis_title='Model Name', width=1300, height=800)\n",
    "fig.show()"
   ]
  },
  {
   "cell_type": "markdown",
   "metadata": {},
   "source": [
    "***f1 ve auc skor hesaplama***"
   ]
  },
  {
   "cell_type": "code",
   "execution_count": 160,
   "metadata": {},
   "outputs": [
    {
     "name": "stdout",
     "output_type": "stream",
     "text": [
      "f1 score  : 0.80\n",
      "auc score : 0.92\n"
     ]
    }
   ],
   "source": [
    "# secilen modeli olustur ve test et\n",
    "xgb_cl = XGBClassifier(max_depth=5, reg_alpha=1, reg_lambda=1, gamma=0.01)\n",
    "# modeli egit\n",
    "xgb_cl.fit(X_train, y_train)\n",
    "# tahmin olustur\n",
    "y_pred = xgb_cl.predict(X_test)\n",
    "# auc score hesaplamada olasilik gerekli\n",
    "y_pred_prob = xgb_cl.predict_proba(X_test)\n",
    "print('f1 score  : {:.2f}'.format(f1_score(y_test, y_pred))) \n",
    "# auc score da predict prob nin 1 inci sutunu yani survive olma durumunu aliriz\n",
    "print('auc score : {:.2f}'.format(roc_auc_score(y_test, y_pred_prob[:,1])))"
   ]
  },
  {
   "cell_type": "markdown",
   "metadata": {},
   "source": [
    "***classsification_report***"
   ]
  },
  {
   "cell_type": "code",
   "execution_count": 113,
   "metadata": {},
   "outputs": [
    {
     "name": "stdout",
     "output_type": "stream",
     "text": [
      "classification report : \n",
      "              precision    recall  f1-score   support\n",
      "\n",
      "           0       0.86      0.92      0.89       110\n",
      "           1       0.85      0.75      0.80        69\n",
      "\n",
      "    accuracy                           0.85       179\n",
      "   macro avg       0.85      0.84      0.84       179\n",
      "weighted avg       0.85      0.85      0.85       179\n",
      "\n"
     ]
    }
   ],
   "source": [
    "print('classification report : \\n{}'.format(classification_report(y_test, y_pred)))"
   ]
  },
  {
   "cell_type": "markdown",
   "metadata": {},
   "source": [
    "***cross_val_score***"
   ]
  },
  {
   "cell_type": "code",
   "execution_count": 161,
   "metadata": {},
   "outputs": [
    {
     "name": "stdout",
     "output_type": "stream",
     "text": [
      "cv auc score mean: 0.89\n"
     ]
    }
   ],
   "source": [
    "# modeli yeniden olustur\n",
    "xgb_cl = XGBClassifier(max_depth=5, reg_alpha=1, reg_lambda=1, gamma=0.01)\n",
    "# cross_val_score ile skor sonucunu al\n",
    "cv_auc = cross_val_score(estimator=xgb_cl, X=X, y=y, cv=10, scoring='roc_auc')\n",
    "# cv skorlarinin ortalamasi\n",
    "print('cv auc score mean: {:.2f}'.format(cv_auc.mean()))"
   ]
  },
  {
   "cell_type": "markdown",
   "metadata": {},
   "source": [
    "***feature_importances_***"
   ]
  },
  {
   "cell_type": "code",
   "execution_count": 140,
   "metadata": {},
   "outputs": [
    {
     "data": {
      "image/png": "[encoded data removed]",
      "text/plain": [
       "<Figure size 720x504 with 1 Axes>"
      ]
     },
     "metadata": {
      "needs_background": "light"
     },
     "output_type": "display_data"
    }
   ],
   "source": [
    "# ozellik oneminden once model fit edilmeli\n",
    "xgb_cl.fit(X_train, y_train)\n",
    "# ozellik onem dereceleri\n",
    "# onem derecelerinden seri olustur\n",
    "önem_dereceleri = pd.Series(data=xgb_cl.feature_importances_,index= X_train.columns)\n",
    "# sirala\n",
    "önem_dereceleri_sıralı = önem_dereceleri.sort_values()\n",
    "# grafigini ciz\n",
    "plt.figure(figsize=(10,7))\n",
    "önem_dereceleri_sıralı.plot(kind='barh', color='darkblue')\n",
    "plt.title('Değişkenlerin Önem Dereceleri', fontdict=title_font)\n",
    "plt.show()"
   ]
  },
  {
   "cell_type": "markdown",
   "metadata": {},
   "source": [
    "***Native API ile AUC score hesaplama***"
   ]
  },
  {
   "cell_type": "code",
   "execution_count": 119,
   "metadata": {},
   "outputs": [],
   "source": [
    "# dmatrix donusturme, xgboost performans ve etkinligini bu veri yapisindan alir\n",
    "dmatrix_train = xgb.DMatrix(data=X_train, label=y_train)\n",
    "# predict ederken de dmatrix veri yapisi kullanacagiz\n",
    "dmatrix_X_test = xgb.DMatrix(data=X_test)"
   ]
  },
  {
   "cell_type": "code",
   "execution_count": 121,
   "metadata": {},
   "outputs": [],
   "source": [
    "# parametereler en iyi sonuc verenler secildi\n",
    "params = {\"objective\":\"binary:logistic\", \"max_depth\":5, \n",
    "          'reg_lambda': 1 , 'reg_alpha': 1, 'gamma': 0.01, \"silent\":1}"
   ]
  },
  {
   "cell_type": "code",
   "execution_count": 122,
   "metadata": {},
   "outputs": [],
   "source": [
    "# modeli egit\n",
    "xgb_cl_dmatrix = xgb.train(params=params, dtrain=dmatrix_train, num_boost_round=100)"
   ]
  },
  {
   "cell_type": "code",
   "execution_count": 123,
   "metadata": {},
   "outputs": [],
   "source": [
    "# tahmin yap\n",
    "y_pred_dmatrix = xgb_cl_dmatrix.predict(data=dmatrix_X_test)"
   ]
  },
  {
   "cell_type": "code",
   "execution_count": 131,
   "metadata": {},
   "outputs": [],
   "source": [
    "# tahmin sonuclari olasilik degerleridir, \n",
    "# bu degerler skor hesaplama icin tahmin degerlerine donusturulebilir\n",
    "# 0.5 den buyukse True degilse False\n",
    "y_pred = y_pred_dmatrix>0.5"
   ]
  },
  {
   "cell_type": "code",
   "execution_count": 130,
   "metadata": {},
   "outputs": [
    {
     "name": "stdout",
     "output_type": "stream",
     "text": [
      "f1 score  : 0.80\n",
      "auc score : 0.92\n"
     ]
    }
   ],
   "source": [
    "# f1 skoru tahmin degerleri ile hesapladik\n",
    "print('f1 score  : {:.2f}'.format(f1_score(y_test, y_pred)))\n",
    "# roc_auc skorunu tahmin olasiliklari ile hesapladik\n",
    "print('auc score : {:.2f}'.format(roc_auc_score(y_test, y_pred_dmatrix)))"
   ]
  }
 ],
 "metadata": {
  "kernelspec": {
   "display_name": "Python 3",
   "language": "python",
   "name": "python3"
  },
  "language_info": {
   "codemirror_mode": {
    "name": "ipython",
    "version": 3
   },
   "file_extension": ".py",
   "mimetype": "text/x-python",
   "name": "python",
   "nbconvert_exporter": "python",
   "pygments_lexer": "ipython3",
   "version": "3.7.6"
  }
 },
 "nbformat": 4,
 "nbformat_minor": 4
}
