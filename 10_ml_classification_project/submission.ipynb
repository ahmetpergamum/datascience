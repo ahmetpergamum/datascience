{
 "cells": [
  {
   "cell_type": "markdown",
   "metadata": {},
   "source": [
    "## ***Competition Submission of Titanic***"
   ]
  },
  {
   "cell_type": "code",
   "execution_count": 62,
   "metadata": {},
   "outputs": [],
   "source": [
    "import pandas as pd\n",
    "import numpy as np\n",
    "# classifiers\n",
    "from xgboost import XGBClassifier\n",
    "import xgboost as xgb\n",
    "# egitim verisini ayirma\n",
    "from sklearn.model_selection import train_test_split\n",
    "# classifiers, regressors\n",
    "from sklearn.neighbors import KNeighborsClassifier, KNeighborsRegressor\n",
    "from sklearn.linear_model import LogisticRegression, LinearRegression, Ridge, Lasso\n",
    "from sklearn.tree import DecisionTreeClassifier, DecisionTreeRegressor\n",
    "from sklearn.ensemble import RandomForestClassifier, RandomForestRegressor\n",
    "from sklearn.svm import SVC, SVR\n",
    "from xgboost import XGBClassifier, XGBRegressor\n",
    "from lightgbm import LGBMClassifier, LGBMRegressor\n",
    "import xgboost as xgb\n",
    "# pipeline meta model\n",
    "from sklearn.pipeline import Pipeline\n",
    "# imbalancy elimination\n",
    "from imblearn.over_sampling import ADASYN\n",
    "\n",
    "# uyarilari dikkate alma\n",
    "import warnings\n",
    "warnings.filterwarnings('ignore')\n",
    "\n",
    "# pandas varsayilan olarak cok sayida sutun veya satir varsa tumunu gostermez\n",
    "# bu nedenle 100 sutun ve satir gostermesi icin\n",
    "pd.options.display.max_rows = 100\n",
    "pd.options.display.max_columns = 100\n",
    "\n",
    "# virgulden sonra belirli sayida basamak gosterimi icin \n",
    "pd.options.display.float_format = '{:,.3f}'.format\n",
    "# aciklama sutunun tam cikmasi icin\n",
    "pd.options.display.max_colwidth = 100\n",
    "\n",
    "# font tanimlamalari\n",
    "font_title = {'family': 'times new roman', 'color': 'darkred', \n",
    "              'weight': 'bold', 'size': 14}\n",
    "font_axis  = {'family': 'times new roman', 'color': 'darkred', \n",
    "              'weight': 'bold', 'size': 14}"
   ]
  },
  {
   "cell_type": "code",
   "execution_count": 63,
   "metadata": {},
   "outputs": [
    {
     "name": "stdout",
     "output_type": "stream",
     "text": [
      "<class 'pandas.core.frame.DataFrame'>\n",
      "RangeIndex: 418 entries, 0 to 417\n",
      "Data columns (total 11 columns):\n",
      " #   Column       Non-Null Count  Dtype  \n",
      "---  ------       --------------  -----  \n",
      " 0   PassengerId  418 non-null    int64  \n",
      " 1   Pclass       418 non-null    int64  \n",
      " 2   Name         418 non-null    object \n",
      " 3   Sex          418 non-null    object \n",
      " 4   Age          332 non-null    float64\n",
      " 5   SibSp        418 non-null    int64  \n",
      " 6   Parch        418 non-null    int64  \n",
      " 7   Ticket       418 non-null    object \n",
      " 8   Fare         417 non-null    float64\n",
      " 9   Cabin        91 non-null     object \n",
      " 10  Embarked     418 non-null    object \n",
      "dtypes: float64(2), int64(4), object(5)\n",
      "memory usage: 36.0+ KB\n"
     ]
    }
   ],
   "source": [
    "test = pd.read_csv('data/test.csv')\n",
    "\n",
    "test.info()"
   ]
  },
  {
   "cell_type": "code",
   "execution_count": 64,
   "metadata": {},
   "outputs": [],
   "source": [
    "test = test.drop(['Cabin','Ticket'], axis=1)"
   ]
  },
  {
   "cell_type": "code",
   "execution_count": 65,
   "metadata": {},
   "outputs": [],
   "source": [
    "def add_title(col):\n",
    "    if 'Mrs' in col:\n",
    "        return 'mrs'\n",
    "    elif 'Master' in col:\n",
    "        return 'master'\n",
    "    elif 'Mr' in col:\n",
    "        return 'mr'\n",
    "    elif 'Miss' in col:\n",
    "        return 'miss'\n",
    "    else:\n",
    "        return 'no_title'"
   ]
  },
  {
   "cell_type": "code",
   "execution_count": 66,
   "metadata": {},
   "outputs": [
    {
     "data": {
      "text/plain": [
       "'mr'"
      ]
     },
     "execution_count": 66,
     "metadata": {},
     "output_type": "execute_result"
    }
   ],
   "source": [
    "add_title('Fortune, Mr. Charles Alexander')"
   ]
  },
  {
   "cell_type": "code",
   "execution_count": 67,
   "metadata": {},
   "outputs": [],
   "source": [
    "test['title'] = test['Name'].apply(add_title)"
   ]
  },
  {
   "cell_type": "code",
   "execution_count": 68,
   "metadata": {},
   "outputs": [
    {
     "data": {
      "text/plain": [
       "array(['mr', 'mrs', 'miss', 'master', 'no_title'], dtype=object)"
      ]
     },
     "execution_count": 68,
     "metadata": {},
     "output_type": "execute_result"
    }
   ],
   "source": [
    "test['title'].unique()"
   ]
  },
  {
   "cell_type": "code",
   "execution_count": 69,
   "metadata": {},
   "outputs": [],
   "source": [
    "# cinsiyet, liman ve title bilgisi get_dummies metodu ile encode edilir\n",
    "test = pd.concat([test, pd.get_dummies(test.Sex, \n",
    "                                             drop_first=True, prefix='gender')], axis=1)\n",
    "test = pd.concat([test, pd.get_dummies(test.Embarked, \n",
    "                                             drop_first=True, prefix='embarked')], axis=1)\n",
    "\n",
    "test = pd.concat([test,pd.get_dummies(test['title'])], axis=1)"
   ]
  },
  {
   "cell_type": "code",
   "execution_count": 70,
   "metadata": {},
   "outputs": [],
   "source": [
    "# encode edilen ve gereksiz sutunlar drop edilir\n",
    "test.drop(['Name', 'Sex', 'Embarked',  'title', 'no_title'], axis=1, inplace=True)"
   ]
  },
  {
   "cell_type": "code",
   "execution_count": 71,
   "metadata": {},
   "outputs": [
    {
     "data": {
      "text/html": [
       "<div>\n",
       "<style scoped>\n",
       "    .dataframe tbody tr th:only-of-type {\n",
       "        vertical-align: middle;\n",
       "    }\n",
       "\n",
       "    .dataframe tbody tr th {\n",
       "        vertical-align: top;\n",
       "    }\n",
       "\n",
       "    .dataframe thead th {\n",
       "        text-align: right;\n",
       "    }\n",
       "</style>\n",
       "<table border=\"1\" class=\"dataframe\">\n",
       "  <thead>\n",
       "    <tr style=\"text-align: right;\">\n",
       "      <th></th>\n",
       "      <th>col_name</th>\n",
       "      <th>type</th>\n",
       "      <th>n_unique</th>\n",
       "      <th>unique</th>\n",
       "    </tr>\n",
       "  </thead>\n",
       "  <tbody>\n",
       "    <tr>\n",
       "      <th>0</th>\n",
       "      <td>gender_male</td>\n",
       "      <td>categoric</td>\n",
       "      <td>2</td>\n",
       "      <td>[1, 0]</td>\n",
       "    </tr>\n",
       "    <tr>\n",
       "      <th>0</th>\n",
       "      <td>embarked_Q</td>\n",
       "      <td>categoric</td>\n",
       "      <td>2</td>\n",
       "      <td>[1, 0]</td>\n",
       "    </tr>\n",
       "    <tr>\n",
       "      <th>0</th>\n",
       "      <td>embarked_S</td>\n",
       "      <td>categoric</td>\n",
       "      <td>2</td>\n",
       "      <td>[0, 1]</td>\n",
       "    </tr>\n",
       "    <tr>\n",
       "      <th>0</th>\n",
       "      <td>master</td>\n",
       "      <td>categoric</td>\n",
       "      <td>2</td>\n",
       "      <td>[0, 1]</td>\n",
       "    </tr>\n",
       "    <tr>\n",
       "      <th>0</th>\n",
       "      <td>miss</td>\n",
       "      <td>categoric</td>\n",
       "      <td>2</td>\n",
       "      <td>[0, 1]</td>\n",
       "    </tr>\n",
       "    <tr>\n",
       "      <th>0</th>\n",
       "      <td>mr</td>\n",
       "      <td>categoric</td>\n",
       "      <td>2</td>\n",
       "      <td>[1, 0]</td>\n",
       "    </tr>\n",
       "    <tr>\n",
       "      <th>0</th>\n",
       "      <td>mrs</td>\n",
       "      <td>categoric</td>\n",
       "      <td>2</td>\n",
       "      <td>[0, 1]</td>\n",
       "    </tr>\n",
       "    <tr>\n",
       "      <th>0</th>\n",
       "      <td>Pclass</td>\n",
       "      <td>categoric</td>\n",
       "      <td>3</td>\n",
       "      <td>[3, 2, 1]</td>\n",
       "    </tr>\n",
       "    <tr>\n",
       "      <th>0</th>\n",
       "      <td>SibSp</td>\n",
       "      <td>categoric</td>\n",
       "      <td>7</td>\n",
       "      <td>[0, 1, 2, 3, 4, 5, 8]</td>\n",
       "    </tr>\n",
       "    <tr>\n",
       "      <th>0</th>\n",
       "      <td>Parch</td>\n",
       "      <td>categoric</td>\n",
       "      <td>8</td>\n",
       "      <td>[0, 1, 3, 2, 4, 6, 5, 9]</td>\n",
       "    </tr>\n",
       "    <tr>\n",
       "      <th>0</th>\n",
       "      <td>Age</td>\n",
       "      <td>continuous</td>\n",
       "      <td>79</td>\n",
       "      <td>[34.5, 47.0, 62.0, 27.0, 22.0, 14.0, 30.0, 26.0, 18.0, 21.0, nan, 46.0, 23.0, 63.0, 24.0, 35.0, 45.0, 55.0, 9.0, 48.0, 50.0, 22.5, 41.0, 33.0, 18.5, 25.0, 39.0, 60.0, 36.0, 20.0, 28.0, 10.0, 17.0,...</td>\n",
       "    </tr>\n",
       "    <tr>\n",
       "      <th>0</th>\n",
       "      <td>Fare</td>\n",
       "      <td>continuous</td>\n",
       "      <td>169</td>\n",
       "      <td>[7.8292, 7.0, 9.6875, 8.6625, 12.2875, 9.225, 7.6292, 29.0, 7.2292, 24.15, 7.8958, 26.0, 82.2667, 61.175, 27.7208, 12.35, 7.225, 7.925, 59.4, 3.1708, 31.6833, 61.3792, 262.375, 14.5, 61.9792, 30.5...</td>\n",
       "    </tr>\n",
       "    <tr>\n",
       "      <th>0</th>\n",
       "      <td>PassengerId</td>\n",
       "      <td>continuous</td>\n",
       "      <td>418</td>\n",
       "      <td>[892, 893, 894, 895, 896, 897, 898, 899, 900, 901, 902, 903, 904, 905, 906, 907, 908, 909, 910, 911, 912, 913, 914, 915, 916, 917, 918, 919, 920, 921, 922, 923, 924, 925, 926, 927, 928, 929, 930, ...</td>\n",
       "    </tr>\n",
       "  </tbody>\n",
       "</table>\n",
       "</div>"
      ],
      "text/plain": [
       "      col_name        type  n_unique  \\\n",
       "0  gender_male   categoric         2   \n",
       "0   embarked_Q   categoric         2   \n",
       "0   embarked_S   categoric         2   \n",
       "0       master   categoric         2   \n",
       "0         miss   categoric         2   \n",
       "0           mr   categoric         2   \n",
       "0          mrs   categoric         2   \n",
       "0       Pclass   categoric         3   \n",
       "0        SibSp   categoric         7   \n",
       "0        Parch   categoric         8   \n",
       "0          Age  continuous        79   \n",
       "0         Fare  continuous       169   \n",
       "0  PassengerId  continuous       418   \n",
       "\n",
       "                                                                                                                                                                                                    unique  \n",
       "0                                                                                                                                                                                                   [1, 0]  \n",
       "0                                                                                                                                                                                                   [1, 0]  \n",
       "0                                                                                                                                                                                                   [0, 1]  \n",
       "0                                                                                                                                                                                                   [0, 1]  \n",
       "0                                                                                                                                                                                                   [0, 1]  \n",
       "0                                                                                                                                                                                                   [1, 0]  \n",
       "0                                                                                                                                                                                                   [0, 1]  \n",
       "0                                                                                                                                                                                                [3, 2, 1]  \n",
       "0                                                                                                                                                                                    [0, 1, 2, 3, 4, 5, 8]  \n",
       "0                                                                                                                                                                                 [0, 1, 3, 2, 4, 6, 5, 9]  \n",
       "0  [34.5, 47.0, 62.0, 27.0, 22.0, 14.0, 30.0, 26.0, 18.0, 21.0, nan, 46.0, 23.0, 63.0, 24.0, 35.0, 45.0, 55.0, 9.0, 48.0, 50.0, 22.5, 41.0, 33.0, 18.5, 25.0, 39.0, 60.0, 36.0, 20.0, 28.0, 10.0, 17.0,...  \n",
       "0  [7.8292, 7.0, 9.6875, 8.6625, 12.2875, 9.225, 7.6292, 29.0, 7.2292, 24.15, 7.8958, 26.0, 82.2667, 61.175, 27.7208, 12.35, 7.225, 7.925, 59.4, 3.1708, 31.6833, 61.3792, 262.375, 14.5, 61.9792, 30.5...  \n",
       "0  [892, 893, 894, 895, 896, 897, 898, 899, 900, 901, 902, 903, 904, 905, 906, 907, 908, 909, 910, 911, 912, 913, 914, 915, 916, 917, 918, 919, 920, 921, 922, 923, 924, 925, 926, 927, 928, 929, 930, ...  "
      ]
     },
     "metadata": {},
     "output_type": "display_data"
    }
   ],
   "source": [
    "# unique deger sayilari\n",
    "type_of_vars = {}\n",
    "categoric = []\n",
    "continuous = []\n",
    "cols_df = pd.DataFrame([])\n",
    "for col in test.columns:\n",
    "    type_of_vars['col_name'] = col       \n",
    "    type_of_vars['type'] = 'continuous' if test[col].nunique()>20 else 'categoric'\n",
    "    type_of_vars['n_unique'] = test[col].nunique()\n",
    "    type_of_vars['unique'] = test[col].unique()\n",
    "    cols_df = pd.concat([cols_df,pd.DataFrame([type_of_vars])],)\n",
    "    cols_df = cols_df.sort_values(by='n_unique')\n",
    "    continuous.append(col) if test[col].nunique()>20 else categoric.append(col)\n",
    "pd.set_option('display.max_colwidth', 200)\n",
    "display(cols_df)"
   ]
  },
  {
   "cell_type": "code",
   "execution_count": 72,
   "metadata": {},
   "outputs": [
    {
     "name": "stdout",
     "output_type": "stream",
     "text": [
      "<class 'pandas.core.frame.DataFrame'>\n",
      "RangeIndex: 418 entries, 0 to 417\n",
      "Data columns (total 13 columns):\n",
      " #   Column       Non-Null Count  Dtype  \n",
      "---  ------       --------------  -----  \n",
      " 0   PassengerId  418 non-null    int64  \n",
      " 1   Pclass       418 non-null    int64  \n",
      " 2   Age          332 non-null    float64\n",
      " 3   SibSp        418 non-null    int64  \n",
      " 4   Parch        418 non-null    int64  \n",
      " 5   Fare         417 non-null    float64\n",
      " 6   gender_male  418 non-null    uint8  \n",
      " 7   embarked_Q   418 non-null    uint8  \n",
      " 8   embarked_S   418 non-null    uint8  \n",
      " 9   master       418 non-null    uint8  \n",
      " 10  miss         418 non-null    uint8  \n",
      " 11  mr           418 non-null    uint8  \n",
      " 12  mrs          418 non-null    uint8  \n",
      "dtypes: float64(2), int64(4), uint8(7)\n",
      "memory usage: 22.6 KB\n"
     ]
    }
   ],
   "source": [
    "test.info()"
   ]
  },
  {
   "cell_type": "code",
   "execution_count": 73,
   "metadata": {},
   "outputs": [
    {
     "data": {
      "text/html": [
       "<div>\n",
       "<style scoped>\n",
       "    .dataframe tbody tr th:only-of-type {\n",
       "        vertical-align: middle;\n",
       "    }\n",
       "\n",
       "    .dataframe tbody tr th {\n",
       "        vertical-align: top;\n",
       "    }\n",
       "\n",
       "    .dataframe thead th {\n",
       "        text-align: right;\n",
       "    }\n",
       "</style>\n",
       "<table border=\"1\" class=\"dataframe\">\n",
       "  <thead>\n",
       "    <tr style=\"text-align: right;\">\n",
       "      <th></th>\n",
       "      <th>PassengerId</th>\n",
       "      <th>Pclass</th>\n",
       "      <th>Age</th>\n",
       "      <th>SibSp</th>\n",
       "      <th>Parch</th>\n",
       "      <th>Fare</th>\n",
       "      <th>gender_male</th>\n",
       "      <th>embarked_Q</th>\n",
       "      <th>embarked_S</th>\n",
       "      <th>master</th>\n",
       "      <th>miss</th>\n",
       "      <th>mr</th>\n",
       "      <th>mrs</th>\n",
       "    </tr>\n",
       "  </thead>\n",
       "  <tbody>\n",
       "    <tr>\n",
       "      <th>152</th>\n",
       "      <td>1044</td>\n",
       "      <td>3</td>\n",
       "      <td>60.500</td>\n",
       "      <td>0</td>\n",
       "      <td>0</td>\n",
       "      <td>nan</td>\n",
       "      <td>1</td>\n",
       "      <td>0</td>\n",
       "      <td>1</td>\n",
       "      <td>0</td>\n",
       "      <td>0</td>\n",
       "      <td>1</td>\n",
       "      <td>0</td>\n",
       "    </tr>\n",
       "  </tbody>\n",
       "</table>\n",
       "</div>"
      ],
      "text/plain": [
       "     PassengerId  Pclass    Age  SibSp  Parch  Fare  gender_male  embarked_Q  \\\n",
       "152         1044       3 60.500      0      0   nan            1           0   \n",
       "\n",
       "     embarked_S  master  miss  mr  mrs  \n",
       "152           1       0     0   1    0  "
      ]
     },
     "execution_count": 73,
     "metadata": {},
     "output_type": "execute_result"
    }
   ],
   "source": [
    "test[test.Fare.isnull()]"
   ]
  },
  {
   "cell_type": "code",
   "execution_count": 74,
   "metadata": {},
   "outputs": [
    {
     "data": {
      "text/html": [
       "<div>\n",
       "<style scoped>\n",
       "    .dataframe tbody tr th:only-of-type {\n",
       "        vertical-align: middle;\n",
       "    }\n",
       "\n",
       "    .dataframe tbody tr th {\n",
       "        vertical-align: top;\n",
       "    }\n",
       "\n",
       "    .dataframe thead th {\n",
       "        text-align: right;\n",
       "    }\n",
       "</style>\n",
       "<table border=\"1\" class=\"dataframe\">\n",
       "  <thead>\n",
       "    <tr style=\"text-align: right;\">\n",
       "      <th></th>\n",
       "      <th>Fare</th>\n",
       "    </tr>\n",
       "  </thead>\n",
       "  <tbody>\n",
       "    <tr>\n",
       "      <th>count</th>\n",
       "      <td>417.000</td>\n",
       "    </tr>\n",
       "    <tr>\n",
       "      <th>mean</th>\n",
       "      <td>35.627</td>\n",
       "    </tr>\n",
       "    <tr>\n",
       "      <th>std</th>\n",
       "      <td>55.908</td>\n",
       "    </tr>\n",
       "    <tr>\n",
       "      <th>min</th>\n",
       "      <td>0.000</td>\n",
       "    </tr>\n",
       "    <tr>\n",
       "      <th>25%</th>\n",
       "      <td>7.896</td>\n",
       "    </tr>\n",
       "    <tr>\n",
       "      <th>50%</th>\n",
       "      <td>14.454</td>\n",
       "    </tr>\n",
       "    <tr>\n",
       "      <th>75%</th>\n",
       "      <td>31.500</td>\n",
       "    </tr>\n",
       "    <tr>\n",
       "      <th>max</th>\n",
       "      <td>512.329</td>\n",
       "    </tr>\n",
       "  </tbody>\n",
       "</table>\n",
       "</div>"
      ],
      "text/plain": [
       "         Fare\n",
       "count 417.000\n",
       "mean   35.627\n",
       "std    55.908\n",
       "min     0.000\n",
       "25%     7.896\n",
       "50%    14.454\n",
       "75%    31.500\n",
       "max   512.329"
      ]
     },
     "execution_count": 74,
     "metadata": {},
     "output_type": "execute_result"
    }
   ],
   "source": [
    "test[['Fare']].describe()"
   ]
  },
  {
   "cell_type": "code",
   "execution_count": 75,
   "metadata": {},
   "outputs": [],
   "source": [
    "test.Fare.fillna(test.Fare.median(), inplace=True)"
   ]
  },
  {
   "cell_type": "markdown",
   "metadata": {},
   "source": [
    "---\n",
    "### ***Yas (Age) Sutunundaki Eksik Degerleri Tahmin Ile Doldurma***"
   ]
  },
  {
   "cell_type": "code",
   "execution_count": 76,
   "metadata": {},
   "outputs": [],
   "source": [
    "# yas degerleri dolu ve bos olan sample lar ayri ayri alinir\n",
    "test_w_age = test[test['Age'].notnull()]\n",
    "test_no_age = test[test['Age'].isnull()]"
   ]
  },
  {
   "cell_type": "code",
   "execution_count": 77,
   "metadata": {},
   "outputs": [
    {
     "data": {
      "text/html": [
       "<div>\n",
       "<style scoped>\n",
       "    .dataframe tbody tr th:only-of-type {\n",
       "        vertical-align: middle;\n",
       "    }\n",
       "\n",
       "    .dataframe tbody tr th {\n",
       "        vertical-align: top;\n",
       "    }\n",
       "\n",
       "    .dataframe thead th {\n",
       "        text-align: right;\n",
       "    }\n",
       "</style>\n",
       "<table border=\"1\" class=\"dataframe\">\n",
       "  <thead>\n",
       "    <tr style=\"text-align: right;\">\n",
       "      <th></th>\n",
       "      <th>PassengerId</th>\n",
       "      <th>Pclass</th>\n",
       "      <th>Age</th>\n",
       "      <th>SibSp</th>\n",
       "      <th>Parch</th>\n",
       "      <th>Fare</th>\n",
       "      <th>gender_male</th>\n",
       "      <th>embarked_Q</th>\n",
       "      <th>embarked_S</th>\n",
       "      <th>master</th>\n",
       "      <th>miss</th>\n",
       "      <th>mr</th>\n",
       "      <th>mrs</th>\n",
       "    </tr>\n",
       "  </thead>\n",
       "  <tbody>\n",
       "    <tr>\n",
       "      <th>0</th>\n",
       "      <td>892</td>\n",
       "      <td>3</td>\n",
       "      <td>34.500</td>\n",
       "      <td>0</td>\n",
       "      <td>0</td>\n",
       "      <td>7.829</td>\n",
       "      <td>1</td>\n",
       "      <td>1</td>\n",
       "      <td>0</td>\n",
       "      <td>0</td>\n",
       "      <td>0</td>\n",
       "      <td>1</td>\n",
       "      <td>0</td>\n",
       "    </tr>\n",
       "    <tr>\n",
       "      <th>1</th>\n",
       "      <td>893</td>\n",
       "      <td>3</td>\n",
       "      <td>47.000</td>\n",
       "      <td>1</td>\n",
       "      <td>0</td>\n",
       "      <td>7.000</td>\n",
       "      <td>0</td>\n",
       "      <td>0</td>\n",
       "      <td>1</td>\n",
       "      <td>0</td>\n",
       "      <td>0</td>\n",
       "      <td>0</td>\n",
       "      <td>1</td>\n",
       "    </tr>\n",
       "    <tr>\n",
       "      <th>2</th>\n",
       "      <td>894</td>\n",
       "      <td>2</td>\n",
       "      <td>62.000</td>\n",
       "      <td>0</td>\n",
       "      <td>0</td>\n",
       "      <td>9.688</td>\n",
       "      <td>1</td>\n",
       "      <td>1</td>\n",
       "      <td>0</td>\n",
       "      <td>0</td>\n",
       "      <td>0</td>\n",
       "      <td>1</td>\n",
       "      <td>0</td>\n",
       "    </tr>\n",
       "    <tr>\n",
       "      <th>3</th>\n",
       "      <td>895</td>\n",
       "      <td>3</td>\n",
       "      <td>27.000</td>\n",
       "      <td>0</td>\n",
       "      <td>0</td>\n",
       "      <td>8.662</td>\n",
       "      <td>1</td>\n",
       "      <td>0</td>\n",
       "      <td>1</td>\n",
       "      <td>0</td>\n",
       "      <td>0</td>\n",
       "      <td>1</td>\n",
       "      <td>0</td>\n",
       "    </tr>\n",
       "    <tr>\n",
       "      <th>4</th>\n",
       "      <td>896</td>\n",
       "      <td>3</td>\n",
       "      <td>22.000</td>\n",
       "      <td>1</td>\n",
       "      <td>1</td>\n",
       "      <td>12.287</td>\n",
       "      <td>0</td>\n",
       "      <td>0</td>\n",
       "      <td>1</td>\n",
       "      <td>0</td>\n",
       "      <td>0</td>\n",
       "      <td>0</td>\n",
       "      <td>1</td>\n",
       "    </tr>\n",
       "    <tr>\n",
       "      <th>...</th>\n",
       "      <td>...</td>\n",
       "      <td>...</td>\n",
       "      <td>...</td>\n",
       "      <td>...</td>\n",
       "      <td>...</td>\n",
       "      <td>...</td>\n",
       "      <td>...</td>\n",
       "      <td>...</td>\n",
       "      <td>...</td>\n",
       "      <td>...</td>\n",
       "      <td>...</td>\n",
       "      <td>...</td>\n",
       "      <td>...</td>\n",
       "    </tr>\n",
       "    <tr>\n",
       "      <th>409</th>\n",
       "      <td>1301</td>\n",
       "      <td>3</td>\n",
       "      <td>3.000</td>\n",
       "      <td>1</td>\n",
       "      <td>1</td>\n",
       "      <td>13.775</td>\n",
       "      <td>0</td>\n",
       "      <td>0</td>\n",
       "      <td>1</td>\n",
       "      <td>0</td>\n",
       "      <td>1</td>\n",
       "      <td>0</td>\n",
       "      <td>0</td>\n",
       "    </tr>\n",
       "    <tr>\n",
       "      <th>411</th>\n",
       "      <td>1303</td>\n",
       "      <td>1</td>\n",
       "      <td>37.000</td>\n",
       "      <td>1</td>\n",
       "      <td>0</td>\n",
       "      <td>90.000</td>\n",
       "      <td>0</td>\n",
       "      <td>1</td>\n",
       "      <td>0</td>\n",
       "      <td>0</td>\n",
       "      <td>0</td>\n",
       "      <td>0</td>\n",
       "      <td>1</td>\n",
       "    </tr>\n",
       "    <tr>\n",
       "      <th>412</th>\n",
       "      <td>1304</td>\n",
       "      <td>3</td>\n",
       "      <td>28.000</td>\n",
       "      <td>0</td>\n",
       "      <td>0</td>\n",
       "      <td>7.775</td>\n",
       "      <td>0</td>\n",
       "      <td>0</td>\n",
       "      <td>1</td>\n",
       "      <td>0</td>\n",
       "      <td>1</td>\n",
       "      <td>0</td>\n",
       "      <td>0</td>\n",
       "    </tr>\n",
       "    <tr>\n",
       "      <th>414</th>\n",
       "      <td>1306</td>\n",
       "      <td>1</td>\n",
       "      <td>39.000</td>\n",
       "      <td>0</td>\n",
       "      <td>0</td>\n",
       "      <td>108.900</td>\n",
       "      <td>0</td>\n",
       "      <td>0</td>\n",
       "      <td>0</td>\n",
       "      <td>0</td>\n",
       "      <td>0</td>\n",
       "      <td>0</td>\n",
       "      <td>0</td>\n",
       "    </tr>\n",
       "    <tr>\n",
       "      <th>415</th>\n",
       "      <td>1307</td>\n",
       "      <td>3</td>\n",
       "      <td>38.500</td>\n",
       "      <td>0</td>\n",
       "      <td>0</td>\n",
       "      <td>7.250</td>\n",
       "      <td>1</td>\n",
       "      <td>0</td>\n",
       "      <td>1</td>\n",
       "      <td>0</td>\n",
       "      <td>0</td>\n",
       "      <td>1</td>\n",
       "      <td>0</td>\n",
       "    </tr>\n",
       "  </tbody>\n",
       "</table>\n",
       "<p>332 rows × 13 columns</p>\n",
       "</div>"
      ],
      "text/plain": [
       "     PassengerId  Pclass    Age  SibSp  Parch    Fare  gender_male  \\\n",
       "0            892       3 34.500      0      0   7.829            1   \n",
       "1            893       3 47.000      1      0   7.000            0   \n",
       "2            894       2 62.000      0      0   9.688            1   \n",
       "3            895       3 27.000      0      0   8.662            1   \n",
       "4            896       3 22.000      1      1  12.287            0   \n",
       "..           ...     ...    ...    ...    ...     ...          ...   \n",
       "409         1301       3  3.000      1      1  13.775            0   \n",
       "411         1303       1 37.000      1      0  90.000            0   \n",
       "412         1304       3 28.000      0      0   7.775            0   \n",
       "414         1306       1 39.000      0      0 108.900            0   \n",
       "415         1307       3 38.500      0      0   7.250            1   \n",
       "\n",
       "     embarked_Q  embarked_S  master  miss  mr  mrs  \n",
       "0             1           0       0     0   1    0  \n",
       "1             0           1       0     0   0    1  \n",
       "2             1           0       0     0   1    0  \n",
       "3             0           1       0     0   1    0  \n",
       "4             0           1       0     0   0    1  \n",
       "..          ...         ...     ...   ...  ..  ...  \n",
       "409           0           1       0     1   0    0  \n",
       "411           1           0       0     0   0    1  \n",
       "412           0           1       0     1   0    0  \n",
       "414           0           0       0     0   0    0  \n",
       "415           0           1       0     0   1    0  \n",
       "\n",
       "[332 rows x 13 columns]"
      ]
     },
     "execution_count": 77,
     "metadata": {},
     "output_type": "execute_result"
    }
   ],
   "source": [
    "test_w_age"
   ]
  },
  {
   "cell_type": "markdown",
   "metadata": {},
   "source": [
    "#### ***Model - Pipeline***\n",
    "Meta model olarak dusunulebilecek pipeline sinifi ile modelleri test ederek en iyi performans veren modeli sececegiz."
   ]
  },
  {
   "cell_type": "code",
   "execution_count": 78,
   "metadata": {},
   "outputs": [],
   "source": [
    "# hedef degisken\n",
    "y = test_w_age['Age']\n",
    "# aciklayici degiskenler\n",
    "X = test_w_age.drop(['PassengerId', 'Age'], axis=1)"
   ]
  },
  {
   "cell_type": "code",
   "execution_count": 79,
   "metadata": {},
   "outputs": [],
   "source": [
    "# egitim ve test kumesini ayirma\n",
    "X_train, X_test, y_train, y_test = train_test_split(X, y, test_size=0.2, random_state=0)"
   ]
  },
  {
   "cell_type": "code",
   "execution_count": 21,
   "metadata": {},
   "outputs": [
    {
     "data": {
      "text/plain": [
       "[0.001, 0.01, 0.1, 1.0, 10.0, 100.0, 'scale']"
      ]
     },
     "execution_count": 21,
     "metadata": {},
     "output_type": "execute_result"
    }
   ],
   "source": [
    "l = list(np.logspace(-3,2,6))\n",
    "l.append('scale')\n",
    "l"
   ]
  },
  {
   "cell_type": "code",
   "execution_count": null,
   "metadata": {},
   "outputs": [],
   "source": [
    "%%time\n",
    "# hucrenin calisma suresini tutacak\n",
    "\n",
    "# pipeline tanimla\n",
    "# ilk model knn ve preprocessing yapilmayacak \n",
    "pipe = Pipeline([('regressor', KNeighborsRegressor())])\n",
    "\n",
    "# aranacak model ve parametreleri belirle\n",
    "param_grid = [{'regressor': [KNeighborsRegressor()],\n",
    "               'regressor__n_neighbors': np.arange(3,10),\n",
    "               'regressor__weights': ['uniform', 'distance']},\n",
    "              {'regressor': [LinearRegression()]},\n",
    "              {'regressor': [Ridge()], \n",
    "               'regressor__alpha': np.logspace(-3,3,7)},\n",
    "              {'regressor': [Lasso()], \n",
    "               'regressor__alpha': np.logspace(-3,3,7)},\n",
    "              {'regressor': [DecisionTreeRegressor()], \n",
    "               'regressor__max_depth': np.arange(3,10)},              \n",
    "              {'regressor': [RandomForestRegressor()], \n",
    "               'regressor__max_depth': np.arange(3,10)},\n",
    "              {'regressor': [SVR()], \n",
    "               'regressor__gamma': [0.001, 0.01, 0.1, 1.0, 10.0, 100.0, 'scale'],\n",
    "               'regressor__C': np.logspace(-3,2,6)},\n",
    "              {'regressor': [SVR(kernel='linear')], \n",
    "               'regressor__C': np.logspace(-3,2,6)},\n",
    "              {'regressor': [XGBRegressor()],\n",
    "               'regressor__gamma': [0, 0.001, 0.01, 0.1, 1.0, 10.0, 100.0],\n",
    "               'regressor__reg_alpha': [0, 0.001, 0.01, 0.1, 1.0, 10.0, 100.0], \n",
    "               'regressor__reg_lambda': np.logspace(-3,2,6), \n",
    "               'regressor__max_depth': np.arange(3,10)},\n",
    "              {'regressor': [LGBMRegressor()],\n",
    "               'regressor__reg_alpha': [0, 0.001, 0.01, 0.1, 1.0, 10.0, 100.0], \n",
    "               'regressor__reg_lambda': [0, 0.001, 0.01, 0.1, 1.0, 10.0, 100.0], \n",
    "               'regressor__max_depth': np.arange(3,10)}              \n",
    "             ]\n",
    "# gridsearch nesnesi tanimla\n",
    "grid = GridSearchCV(estimator=pipe, param_grid=param_grid, scoring=['neg_root_mean_squared_error','r2'], \n",
    "                    cv=7, n_jobs=2, return_train_score=True, refit='neg_root_mean_squared_error')\n",
    "# modeli egit\n",
    "grid.fit(X_train, y_train)\n",
    "\n",
    "# sonuclar\n",
    "print(\"Best params: \\n{}\\n\".format(grid.best_params_))\n",
    "print(\"Best cross-validation score: \\n{:.2f}\\n\".format(grid.best_score_))\n",
    "print(\"Test-set score: \\n{:.2f}\\n\".format(grid.score(X_test, y_test)))\n"
   ]
  },
  {
   "cell_type": "code",
   "execution_count": null,
   "metadata": {},
   "outputs": [],
   "source": [
    "# sonuclari df olarak kaydet\n",
    "grid_df = pd.DataFrame(grid.cv_results_)\n",
    "grid_df.head(1)"
   ]
  },
  {
   "cell_type": "code",
   "execution_count": null,
   "metadata": {},
   "outputs": [],
   "source": [
    "# sirala\n",
    "grid_df = grid_df.sort_values(by='mean_test_neg_root_mean_squared_error', ascending=False)\n",
    "# ilk siradakileri goster\n",
    "grid_df.loc[:,['param_regressor','params','mean_train_neg_root_mean_squared_error',\n",
    "               'mean_test_neg_root_mean_squared_error','mean_train_r2','mean_test_r2']].head(5)"
   ]
  },
  {
   "cell_type": "code",
   "execution_count": null,
   "metadata": {},
   "outputs": [],
   "source": [
    "grid_df.loc[1882, 'params']"
   ]
  },
  {
   "cell_type": "code",
   "execution_count": 82,
   "metadata": {},
   "outputs": [
    {
     "name": "stdout",
     "output_type": "stream",
     "text": [
      "rmse : 10.41\n"
     ]
    }
   ],
   "source": [
    "# secilen modeli olustur ve test et\n",
    "xgb_reg = XGBRegressor(max_depth=3, reg_alpha=1, reg_lambda=1, gamma=100)\n",
    "xgb_reg.fit(X_train, y_train)\n",
    "y_pred = xgb_reg.predict(X_test)\n",
    "# degerleri yuvarla\n",
    "y_pred = np.around(y_pred)\n",
    "print('rmse : {:.2f}'.format(np.sqrt(mean_squared_error(y_test, y_pred))))"
   ]
  },
  {
   "cell_type": "code",
   "execution_count": 83,
   "metadata": {},
   "outputs": [
    {
     "data": {
      "text/plain": [
       "array([26.744122, 42.98792 , 28.840216, 29.816168, 21.118801, 27.755154,\n",
       "       41.212204, 29.314108, 31.940126, 28.840216], dtype=float32)"
      ]
     },
     "execution_count": 83,
     "metadata": {},
     "output_type": "execute_result"
    }
   ],
   "source": [
    "# secilen modeli butun veriyle egitip tahmin degerleri ile eksik degerleri doldur\n",
    "xgb_reg = XGBRegressor(max_depth=3, reg_alpha=1, reg_lambda=1, gamma=100)\n",
    "xgb_reg.fit(X, y)\n",
    "# eksik degerlerin aciklayici degiskenler bolumu\n",
    "X_fill = test_no_age.drop(['PassengerId', 'Age'], axis=1)\n",
    "# eksik degerleri  tahmin ile doldur\n",
    "predicted_age = xgb_reg.predict(X_fill)\n",
    "# degerleri incele\n",
    "predicted_age[:10]"
   ]
  },
  {
   "cell_type": "code",
   "execution_count": 84,
   "metadata": {},
   "outputs": [],
   "source": [
    "# degerleri yuvarlayarak doldur\n",
    "test_no_age['Age'] = np.around(predicted_age)"
   ]
  },
  {
   "cell_type": "code",
   "execution_count": 85,
   "metadata": {},
   "outputs": [],
   "source": [
    "# ayirdigimiz dfleri birlestir\n",
    "test = pd.concat([test_w_age, test_no_age])"
   ]
  },
  {
   "cell_type": "code",
   "execution_count": 86,
   "metadata": {},
   "outputs": [],
   "source": [
    "# sirala\n",
    "test = test.sort_values(by='PassengerId')"
   ]
  },
  {
   "cell_type": "code",
   "execution_count": 97,
   "metadata": {},
   "outputs": [
    {
     "name": "stdout",
     "output_type": "stream",
     "text": [
      "<class 'pandas.core.frame.DataFrame'>\n",
      "Int64Index: 418 entries, 0 to 417\n",
      "Data columns (total 13 columns):\n",
      " #   Column       Non-Null Count  Dtype  \n",
      "---  ------       --------------  -----  \n",
      " 0   PassengerId  418 non-null    int64  \n",
      " 1   Pclass       418 non-null    int64  \n",
      " 2   Age          418 non-null    float64\n",
      " 3   SibSp        418 non-null    int64  \n",
      " 4   Parch        418 non-null    int64  \n",
      " 5   Fare         418 non-null    float64\n",
      " 6   gender_male  418 non-null    uint8  \n",
      " 7   embarked_Q   418 non-null    uint8  \n",
      " 8   embarked_S   418 non-null    uint8  \n",
      " 9   master       418 non-null    uint8  \n",
      " 10  miss         418 non-null    uint8  \n",
      " 11  mr           418 non-null    uint8  \n",
      " 12  mrs          418 non-null    uint8  \n",
      "dtypes: float64(2), int64(4), uint8(7)\n",
      "memory usage: 25.7 KB\n"
     ]
    }
   ],
   "source": [
    "test.info()"
   ]
  },
  {
   "cell_type": "code",
   "execution_count": 88,
   "metadata": {},
   "outputs": [],
   "source": [
    "# save the results\n",
    "test.to_csv('data/titanic_test_clean.csv', index=False)"
   ]
  },
  {
   "cell_type": "code",
   "execution_count": 89,
   "metadata": {},
   "outputs": [],
   "source": [
    "# yas degiskeninin surekli oldugu veri seti secildi, orada model daha iyi performas gosteriyor\n",
    "train = pd.read_csv('data/titanic_clean_with_age.csv')"
   ]
  },
  {
   "cell_type": "code",
   "execution_count": 96,
   "metadata": {},
   "outputs": [
    {
     "name": "stdout",
     "output_type": "stream",
     "text": [
      "<class 'pandas.core.frame.DataFrame'>\n",
      "RangeIndex: 891 entries, 0 to 890\n",
      "Data columns (total 14 columns):\n",
      " #   Column       Non-Null Count  Dtype  \n",
      "---  ------       --------------  -----  \n",
      " 0   PassengerId  891 non-null    int64  \n",
      " 1   Survived     891 non-null    int64  \n",
      " 2   Pclass       891 non-null    int64  \n",
      " 3   Age          891 non-null    float64\n",
      " 4   SibSp        891 non-null    int64  \n",
      " 5   Parch        891 non-null    int64  \n",
      " 6   Fare         891 non-null    float64\n",
      " 7   gender_male  891 non-null    int64  \n",
      " 8   embarked_Q   891 non-null    int64  \n",
      " 9   embarked_S   891 non-null    int64  \n",
      " 10  master       891 non-null    int64  \n",
      " 11  miss         891 non-null    int64  \n",
      " 12  mr           891 non-null    int64  \n",
      " 13  mrs          891 non-null    int64  \n",
      "dtypes: float64(2), int64(12)\n",
      "memory usage: 97.6 KB\n"
     ]
    }
   ],
   "source": [
    "train.info()"
   ]
  },
  {
   "cell_type": "code",
   "execution_count": 60,
   "metadata": {},
   "outputs": [],
   "source": [
    "def make_submission(model):\n",
    "    X = train.drop(['PassengerId', 'Survived'], axis=1)\n",
    "    y = train['Survived']\n",
    "    X_adasyn, y_adasyn = ADASYN().fit_sample(X,y)\n",
    "    model.fit(X_adasyn, y_adasyn)\n",
    "    X_test = test.drop('PassengerId', axis=1)\n",
    "    y_pred = model.predict(X_test)\n",
    "    test_predicted = test.copy()\n",
    "    test_predicted['Survived'] = y_pred\n",
    "    test_predicted[['PassengerId','Survived']].to_csv('data/submission.csv', index=False)"
   ]
  },
  {
   "cell_type": "code",
   "execution_count": 94,
   "metadata": {},
   "outputs": [],
   "source": [
    "# secilen model\n",
    "xgb_model = XGBClassifier(\n",
    "    learning_rate=0.1,\n",
    "    n_estimators=44,\n",
    "    max_depth=8,\n",
    "    min_child_weight=2,\n",
    "    gamma=0.2,\n",
    "    subsample=0.55,\n",
    "    colsample_bytree=0.55,\n",
    "    reg_alpha=0,\n",
    "    reg_lambda=1,\n",
    "    objective='binary:logistic',\n",
    "    scale_pos_weight=1)"
   ]
  },
  {
   "cell_type": "code",
   "execution_count": 95,
   "metadata": {},
   "outputs": [],
   "source": [
    "make_submission(xgb_model)"
   ]
  }
 ],
 "metadata": {
  "kernelspec": {
   "display_name": "Python 3",
   "language": "python",
   "name": "python3"
  },
  "language_info": {
   "codemirror_mode": {
    "name": "ipython",
    "version": 3
   },
   "file_extension": ".py",
   "mimetype": "text/x-python",
   "name": "python",
   "nbconvert_exporter": "python",
   "pygments_lexer": "ipython3",
   "version": "3.7.6"
  }
 },
 "nbformat": 4,
 "nbformat_minor": 4
}
