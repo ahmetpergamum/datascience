{
 "cells": [
  {
   "cell_type": "markdown",
   "metadata": {},
   "source": [
    "# Pyton'a Giris\n",
    "## Pandas"
   ]
  },
  {
   "cell_type": "markdown",
   "metadata": {},
   "source": [
    "### Q1\n",
    "Endeksi alfabenin ilk 10 harfi olan ve ilk 10 asal sayıyı ve ilk 10 fibonacci sayısını içeren bir veri çerçevesi oluşturun."
   ]
  },
  {
   "cell_type": "code",
   "execution_count": 3,
   "metadata": {},
   "outputs": [
    {
     "data": {
      "text/html": [
       "<div>\n",
       "<style scoped>\n",
       "    .dataframe tbody tr th:only-of-type {\n",
       "        vertical-align: middle;\n",
       "    }\n",
       "\n",
       "    .dataframe tbody tr th {\n",
       "        vertical-align: top;\n",
       "    }\n",
       "\n",
       "    .dataframe thead th {\n",
       "        text-align: right;\n",
       "    }\n",
       "</style>\n",
       "<table border=\"1\" class=\"dataframe\">\n",
       "  <thead>\n",
       "    <tr style=\"text-align: right;\">\n",
       "      <th></th>\n",
       "      <th>asal</th>\n",
       "      <th>fibonacci</th>\n",
       "    </tr>\n",
       "  </thead>\n",
       "  <tbody>\n",
       "    <tr>\n",
       "      <th>a</th>\n",
       "      <td>2</td>\n",
       "      <td>1</td>\n",
       "    </tr>\n",
       "    <tr>\n",
       "      <th>b</th>\n",
       "      <td>3</td>\n",
       "      <td>1</td>\n",
       "    </tr>\n",
       "    <tr>\n",
       "      <th>c</th>\n",
       "      <td>5</td>\n",
       "      <td>2</td>\n",
       "    </tr>\n",
       "    <tr>\n",
       "      <th>d</th>\n",
       "      <td>7</td>\n",
       "      <td>3</td>\n",
       "    </tr>\n",
       "    <tr>\n",
       "      <th>e</th>\n",
       "      <td>11</td>\n",
       "      <td>5</td>\n",
       "    </tr>\n",
       "    <tr>\n",
       "      <th>f</th>\n",
       "      <td>13</td>\n",
       "      <td>8</td>\n",
       "    </tr>\n",
       "    <tr>\n",
       "      <th>g</th>\n",
       "      <td>17</td>\n",
       "      <td>13</td>\n",
       "    </tr>\n",
       "    <tr>\n",
       "      <th>h</th>\n",
       "      <td>19</td>\n",
       "      <td>21</td>\n",
       "    </tr>\n",
       "    <tr>\n",
       "      <th>i</th>\n",
       "      <td>23</td>\n",
       "      <td>34</td>\n",
       "    </tr>\n",
       "    <tr>\n",
       "      <th>j</th>\n",
       "      <td>29</td>\n",
       "      <td>55</td>\n",
       "    </tr>\n",
       "  </tbody>\n",
       "</table>\n",
       "</div>"
      ],
      "text/plain": [
       "   asal  fibonacci\n",
       "a     2          1\n",
       "b     3          1\n",
       "c     5          2\n",
       "d     7          3\n",
       "e    11          5\n",
       "f    13          8\n",
       "g    17         13\n",
       "h    19         21\n",
       "i    23         34\n",
       "j    29         55"
      ]
     },
     "execution_count": 3,
     "metadata": {},
     "output_type": "execute_result"
    }
   ],
   "source": [
    "import pandas as pd\n",
    "import numpy as np\n",
    "import warnings\n",
    "warnings.filterwarnings('ignore')\n",
    "\n",
    "# makes a fibonacci list with given length\n",
    "def fibo(l):\n",
    "    fibo = [1,1]\n",
    "    while len(fibo)< l:\n",
    "        fibo.append(fibo[-1]+fibo[-2])\n",
    "    return fibo\n",
    "\n",
    "# makes a prime number list with given length\n",
    "def prime(l):\n",
    "    prime = [2,3]\n",
    "    n = 5\n",
    "    while len(prime)<l:\n",
    "        p = True\n",
    "        for i in range(2,(n//2)):\n",
    "            if ( n % i == 0):\n",
    "                p = False\n",
    "                break\n",
    "        if p == True:\n",
    "            prime.append(n)\n",
    "        n += 1 \n",
    "    return prime\n",
    "\n",
    "# make arrays\n",
    "pArr = np.array(prime(10))\n",
    "fArr = np.array(fibo(10))\n",
    "\n",
    "# make dataframe\n",
    "df = pd.DataFrame()\n",
    "df['asal'] = pArr\n",
    "df['fibonacci'] = fArr\n",
    "df.index = np.array(list('abcdefghij'))\n",
    "df\n"
   ]
  },
  {
   "cell_type": "markdown",
   "metadata": {},
   "source": [
    "### Q2\n",
    "Kaggle'dan Titanic: Machine Learning from Disaster isimli yarışmanın train.csv isimli dosyasını indirin ve Pandas veri çerçevelerini kullanarak tüm veriyi yükleyin. Veri çerçevelerinin .groupby() metodunu kullanarak yolcuların ortalama yaşlarını herbir cinsiyet için ayrı olacak şekilde hesaplayın."
   ]
  },
  {
   "cell_type": "code",
   "execution_count": 3,
   "metadata": {},
   "outputs": [
    {
     "name": "stdout",
     "output_type": "stream",
     "text": [
      "Kadin yolcularin ortalama yasi : 27.92\n",
      "Erkek yolcularin ortalama yasi : 30.73\n"
     ]
    }
   ],
   "source": [
    "import pandas as pd\n",
    "import numpy as np\n",
    "import warnings\n",
    "warnings.filterwarnings('ignore')\n",
    "\n",
    "df = pd.read_csv('train.csv')\n",
    "\n",
    "print('Kadin yolcularin ortalama yasi : {:.2f}'.format(df.groupby('Sex').mean()['Age']['female']))\n",
    "print('Erkek yolcularin ortalama yasi : {:.2f}'.format(df.groupby('Sex').mean()['Age']['male']))\n"
   ]
  },
  {
   "cell_type": "markdown",
   "metadata": {},
   "source": [
    "### Q3\n",
    "Koşullu seçim yöntemlerini de kullanarak, 30 yaşından küçük tüm yolcuların kurtulma oranını (survival ratio) hesaplayın. Daha sonra, kurtulma oranını cinsiyete göre ayrı ayrı hesaplayın."
   ]
  },
  {
   "cell_type": "markdown",
   "metadata": {},
   "source": [
    "### First Solution:"
   ]
  },
  {
   "cell_type": "code",
   "execution_count": 4,
   "metadata": {},
   "outputs": [
    {
     "name": "stdout",
     "output_type": "stream",
     "text": [
      "30 yasindan kucuk tum yolcularin kurtulma orani: % 40.6250\n",
      "30 yasindan kucuk kadin yolcularin kurtulma orani: % 71.4286\n",
      "30 yasindan kucuk erkek yolcularin kurtulma orani: % 21.5190\n"
     ]
    }
   ],
   "source": [
    "import pandas as pd\n",
    "import numpy as np\n",
    "import warnings\n",
    "warnings.filterwarnings('ignore')\n",
    "\n",
    "df = pd.read_csv('train.csv')\n",
    "\n",
    "# select all passengers under 30\n",
    "df30 = df.loc[lambda df : df['Age'] < 30, : ]\n",
    "\n",
    "# select with multiple criteria\n",
    "dfS = df.loc[(df['Age'] < 30) & (df['Survived'])]\n",
    "\n",
    "# survival ratio of under 30\n",
    "survivalRatio = len(dfS)/len(df30) *100\n",
    "\n",
    "print('30 yasindan kucuk tum yolcularin kurtulma orani: % {:.4f}'.format(survivalRatio))\n",
    "\n",
    "females = df30.groupby('Sex').count().loc['female','PassengerId']\n",
    "femaleSurvived = dfS.groupby('Sex').count().loc['female','PassengerId']\n",
    "\n",
    "print('30 yasindan kucuk kadin yolcularin kurtulma orani: % {:.4f}'.format(femaleSurvived/females*100))\n",
    "\n",
    "males = df30.groupby('Sex').count().loc['male','PassengerId']\n",
    "maleSurvived = dfS.groupby('Sex').count().loc['male','PassengerId']\n",
    "\n",
    "print('30 yasindan kucuk erkek yolcularin kurtulma orani: % {:.4f}'.format(maleSurvived/males*100))"
   ]
  },
  {
   "cell_type": "markdown",
   "metadata": {},
   "source": [
    "### Second solution (Short hand)"
   ]
  },
  {
   "cell_type": "code",
   "execution_count": 6,
   "metadata": {},
   "outputs": [
    {
     "name": "stdout",
     "output_type": "stream",
     "text": [
      "30 yasindan kucuk yolcularin kurtulma orani: \n",
      "       40.62 %\n",
      "30 yasindan kucuk kadin yolcularin kurtulma orani: \n",
      "        71.43 %\n",
      "30 yasindan kucuk erkek yolcularin kurtulma orani: \n",
      "        21.52 %\n"
     ]
    }
   ],
   "source": [
    "import pandas as pd\n",
    "import numpy as np\n",
    "import warnings\n",
    "warnings.filterwarnings('ignore')\n",
    "\n",
    "df = pd.read_csv('train.csv')\n",
    "\n",
    "print(\"\"\"30 yasindan kucuk yolcularin kurtulma orani: \n",
    "       {:.2f} %\"\"\".format(df[df['Age']<30].mean()['Survived'] * 100))\n",
    "\n",
    "print(\"\"\"30 yasindan kucuk kadin yolcularin kurtulma orani: \n",
    "        {:.2f} %\"\"\".format(df.loc[df['Age']<30].groupby('Sex').mean().loc['female','Survived'] * 100))\n",
    "\n",
    "print(\"\"\"30 yasindan kucuk erkek yolcularin kurtulma orani: \n",
    "        {:.2f} %\"\"\".format(df.loc[df['Age']<30].groupby('Sex').mean().loc['male','Survived'] * 100))\n",
    "\n"
   ]
  }
 ],
 "metadata": {
  "kernelspec": {
   "display_name": "Python 3",
   "language": "python",
   "name": "python3"
  },
  "language_info": {
   "codemirror_mode": {
    "name": "ipython",
    "version": 3
   },
   "file_extension": ".py",
   "mimetype": "text/x-python",
   "name": "python",
   "nbconvert_exporter": "python",
   "pygments_lexer": "ipython3",
   "version": "3.7.5"
  }
 },
 "nbformat": 4,
 "nbformat_minor": 4
}
