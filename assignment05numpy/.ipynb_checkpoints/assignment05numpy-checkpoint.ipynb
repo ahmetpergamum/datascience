{
 "cells": [
  {
   "cell_type": "markdown",
   "metadata": {},
   "source": [
    "# Pyton'a Giris\n",
    "## Numpy"
   ]
  },
  {
   "cell_type": "markdown",
   "metadata": {},
   "source": [
    "### Q1\n",
    "1'den 200'ye kadar olan çift sayılardan oluşan 10 X 10'luk bir dizi oluşturun. arange() fonksiyonu yardımcı olabilir."
   ]
  },
  {
   "cell_type": "code",
   "execution_count": 1,
   "metadata": {},
   "outputs": [
    {
     "data": {
      "text/plain": [
       "array([[  2,   4,   6,   8,  10,  12,  14,  16,  18,  20],\n",
       "       [ 22,  24,  26,  28,  30,  32,  34,  36,  38,  40],\n",
       "       [ 42,  44,  46,  48,  50,  52,  54,  56,  58,  60],\n",
       "       [ 62,  64,  66,  68,  70,  72,  74,  76,  78,  80],\n",
       "       [ 82,  84,  86,  88,  90,  92,  94,  96,  98, 100],\n",
       "       [102, 104, 106, 108, 110, 112, 114, 116, 118, 120],\n",
       "       [122, 124, 126, 128, 130, 132, 134, 136, 138, 140],\n",
       "       [142, 144, 146, 148, 150, 152, 154, 156, 158, 160],\n",
       "       [162, 164, 166, 168, 170, 172, 174, 176, 178, 180],\n",
       "       [182, 184, 186, 188, 190, 192, 194, 196, 198, 200]])"
      ]
     },
     "execution_count": 1,
     "metadata": {},
     "output_type": "execute_result"
    }
   ],
   "source": [
    "import numpy as np\n",
    "\n",
    "m = np.arange(2,201,2).reshape(10, 10)\n",
    "\n",
    "m"
   ]
  },
  {
   "cell_type": "markdown",
   "metadata": {},
   "source": [
    "### Q2\n",
    "Parametre olarak girilen satır ve kolon sayısına göre kenarları 1'lerden, içi 0'lardan oluşan dizi döndüren bir fonksiyon yazınız."
   ]
  },
  {
   "cell_type": "code",
   "execution_count": 2,
   "metadata": {},
   "outputs": [
    {
     "name": "stdin",
     "output_type": "stream",
     "text": [
      "satir sayisini giriniz :  6\n",
      "sutun sayisini girniz :  7\n"
     ]
    },
    {
     "data": {
      "text/plain": [
       "array([[1., 1., 1., 1., 1., 1., 1.],\n",
       "       [1., 0., 0., 0., 0., 0., 1.],\n",
       "       [1., 0., 0., 0., 0., 0., 1.],\n",
       "       [1., 0., 0., 0., 0., 0., 1.],\n",
       "       [1., 0., 0., 0., 0., 0., 1.],\n",
       "       [1., 1., 1., 1., 1., 1., 1.]])"
      ]
     },
     "execution_count": 2,
     "metadata": {},
     "output_type": "execute_result"
    }
   ],
   "source": [
    "import numpy as np\n",
    "\n",
    "def make_matrix():\n",
    "    row = int(input('satir sayisini giriniz : '))\n",
    "    column = int(input('sutun sayisini girniz : '))\n",
    "    m = np.ones((row,column))\n",
    "    m[ 1:-1 , 1:-1 ] = 0\n",
    "    return m\n",
    "    \n",
    "make_matrix()\n"
   ]
  }
 ],
 "metadata": {
  "kernelspec": {
   "display_name": "Python 3",
   "language": "python",
   "name": "python3"
  },
  "language_info": {
   "codemirror_mode": {
    "name": "ipython",
    "version": 3
   },
   "file_extension": ".py",
   "mimetype": "text/x-python",
   "name": "python",
   "nbconvert_exporter": "python",
   "pygments_lexer": "ipython3",
   "version": "3.7.5"
  }
 },
 "nbformat": 4,
 "nbformat_minor": 4
}
